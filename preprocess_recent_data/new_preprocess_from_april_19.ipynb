{
 "cells": [
  {
   "cell_type": "markdown",
   "metadata": {},
   "source": [
    "Imports:"
   ]
  },
  {
   "cell_type": "code",
   "execution_count": 1,
   "metadata": {},
   "outputs": [],
   "source": [
    "import numpy as np\n",
    "import pandas as pd\n",
    "import math\n",
    "import datetime\n",
    "from datetime import datetime\n",
    "from config import *\n",
    "from utils import *"
   ]
  },
  {
   "cell_type": "code",
   "execution_count": 2,
   "metadata": {},
   "outputs": [
    {
     "data": {
      "text/html": [
       "<div>\n",
       "<style scoped>\n",
       "    .dataframe tbody tr th:only-of-type {\n",
       "        vertical-align: middle;\n",
       "    }\n",
       "\n",
       "    .dataframe tbody tr th {\n",
       "        vertical-align: top;\n",
       "    }\n",
       "\n",
       "    .dataframe thead th {\n",
       "        text-align: right;\n",
       "    }\n",
       "</style>\n",
       "<table border=\"1\" class=\"dataframe\">\n",
       "  <thead>\n",
       "    <tr style=\"text-align: right;\">\n",
       "      <th></th>\n",
       "      <th>Indent</th>\n",
       "      <th>Category</th>\n",
       "      <th>Weight</th>\n",
       "      <th>Date</th>\n",
       "      <th>Price</th>\n",
       "      <th>Category_id</th>\n",
       "      <th>Parent</th>\n",
       "      <th>Parent_ID</th>\n",
       "    </tr>\n",
       "  </thead>\n",
       "  <tbody>\n",
       "    <tr>\n",
       "      <th>0</th>\n",
       "      <td>0.0</td>\n",
       "      <td>All items</td>\n",
       "      <td>100.000</td>\n",
       "      <td>2019-01-15</td>\n",
       "      <td>252.673</td>\n",
       "      <td>8106.0</td>\n",
       "      <td>NaN</td>\n",
       "      <td>NaN</td>\n",
       "    </tr>\n",
       "    <tr>\n",
       "      <th>1</th>\n",
       "      <td>1.0</td>\n",
       "      <td>Food</td>\n",
       "      <td>13.364</td>\n",
       "      <td>2019-01-15</td>\n",
       "      <td>256.059</td>\n",
       "      <td>4934.0</td>\n",
       "      <td>All items</td>\n",
       "      <td>8106.0</td>\n",
       "    </tr>\n",
       "    <tr>\n",
       "      <th>2</th>\n",
       "      <td>2.0</td>\n",
       "      <td>Food at home</td>\n",
       "      <td>7.304</td>\n",
       "      <td>2019-01-15</td>\n",
       "      <td>240.765</td>\n",
       "      <td>4200.0</td>\n",
       "      <td>Food</td>\n",
       "      <td>4934.0</td>\n",
       "    </tr>\n",
       "    <tr>\n",
       "      <th>3</th>\n",
       "      <td>3.0</td>\n",
       "      <td>Cereals and bakery products</td>\n",
       "      <td>0.962</td>\n",
       "      <td>2019-01-15</td>\n",
       "      <td>274.288</td>\n",
       "      <td>2948.0</td>\n",
       "      <td>Food at home</td>\n",
       "      <td>4200.0</td>\n",
       "    </tr>\n",
       "    <tr>\n",
       "      <th>4</th>\n",
       "      <td>4.0</td>\n",
       "      <td>Cereals and cereal products</td>\n",
       "      <td>0.308</td>\n",
       "      <td>2019-01-15</td>\n",
       "      <td>225.414</td>\n",
       "      <td>232.0</td>\n",
       "      <td>Cereals and bakery products</td>\n",
       "      <td>2948.0</td>\n",
       "    </tr>\n",
       "    <tr>\n",
       "      <th>...</th>\n",
       "      <td>...</td>\n",
       "      <td>...</td>\n",
       "      <td>...</td>\n",
       "      <td>...</td>\n",
       "      <td>...</td>\n",
       "      <td>...</td>\n",
       "      <td>...</td>\n",
       "      <td>...</td>\n",
       "    </tr>\n",
       "    <tr>\n",
       "      <th>3478</th>\n",
       "      <td>3.0</td>\n",
       "      <td>New and used motor vehicles</td>\n",
       "      <td>6.987</td>\n",
       "      <td>2023-09-15</td>\n",
       "      <td>127.343</td>\n",
       "      <td>2973.0</td>\n",
       "      <td>Private transportation</td>\n",
       "      <td>3815.0</td>\n",
       "    </tr>\n",
       "    <tr>\n",
       "      <th>3479</th>\n",
       "      <td>1.0</td>\n",
       "      <td>Utilities and public transportation</td>\n",
       "      <td>9.322</td>\n",
       "      <td>2023-09-15</td>\n",
       "      <td>252.478</td>\n",
       "      <td>7939.0</td>\n",
       "      <td>All items</td>\n",
       "      <td>8106.0</td>\n",
       "    </tr>\n",
       "    <tr>\n",
       "      <th>3480</th>\n",
       "      <td>1.0</td>\n",
       "      <td>Household furnishings and operations</td>\n",
       "      <td>4.282</td>\n",
       "      <td>2023-09-15</td>\n",
       "      <td>148.672</td>\n",
       "      <td>9339.0</td>\n",
       "      <td>All items</td>\n",
       "      <td>8106.0</td>\n",
       "    </tr>\n",
       "    <tr>\n",
       "      <th>3481</th>\n",
       "      <td>1.0</td>\n",
       "      <td>Other goods and services</td>\n",
       "      <td>3.207</td>\n",
       "      <td>2023-09-15</td>\n",
       "      <td>543.350</td>\n",
       "      <td>8488.0</td>\n",
       "      <td>All items</td>\n",
       "      <td>8106.0</td>\n",
       "    </tr>\n",
       "    <tr>\n",
       "      <th>3482</th>\n",
       "      <td>2.0</td>\n",
       "      <td>Personal care</td>\n",
       "      <td>2.547</td>\n",
       "      <td>2023-09-15</td>\n",
       "      <td>276.813</td>\n",
       "      <td>6986.0</td>\n",
       "      <td>Other goods and services</td>\n",
       "      <td>8488.0</td>\n",
       "    </tr>\n",
       "  </tbody>\n",
       "</table>\n",
       "<p>21423 rows × 8 columns</p>\n",
       "</div>"
      ],
      "text/plain": [
       "      Indent                              Category   Weight        Date  \\\n",
       "0        0.0                             All items  100.000  2019-01-15   \n",
       "1        1.0                                  Food   13.364  2019-01-15   \n",
       "2        2.0                          Food at home    7.304  2019-01-15   \n",
       "3        3.0           Cereals and bakery products    0.962  2019-01-15   \n",
       "4        4.0           Cereals and cereal products    0.308  2019-01-15   \n",
       "...      ...                                   ...      ...         ...   \n",
       "3478     3.0           New and used motor vehicles    6.987  2023-09-15   \n",
       "3479     1.0   Utilities and public transportation    9.322  2023-09-15   \n",
       "3480     1.0  Household furnishings and operations    4.282  2023-09-15   \n",
       "3481     1.0              Other goods and services    3.207  2023-09-15   \n",
       "3482     2.0                         Personal care    2.547  2023-09-15   \n",
       "\n",
       "        Price  Category_id                       Parent  Parent_ID  \n",
       "0     252.673       8106.0                          NaN        NaN  \n",
       "1     256.059       4934.0                    All items     8106.0  \n",
       "2     240.765       4200.0                         Food     4934.0  \n",
       "3     274.288       2948.0                 Food at home     4200.0  \n",
       "4     225.414        232.0  Cereals and bakery products     2948.0  \n",
       "...       ...          ...                          ...        ...  \n",
       "3478  127.343       2973.0       Private transportation     3815.0  \n",
       "3479  252.478       7939.0                    All items     8106.0  \n",
       "3480  148.672       9339.0                    All items     8106.0  \n",
       "3481  543.350       8488.0                    All items     8106.0  \n",
       "3482  276.813       6986.0     Other goods and services     8488.0  \n",
       "\n",
       "[21423 rows x 8 columns]"
      ]
     },
     "execution_count": 2,
     "metadata": {},
     "output_type": "execute_result"
    }
   ],
   "source": [
    "final = create_post_2019_df()\n",
    "final"
   ]
  },
  {
   "cell_type": "code",
   "execution_count": 3,
   "metadata": {},
   "outputs": [],
   "source": [
    "final = final[['Date','Category','Category_id','Price','Weight', 'Indent', 'Parent', 'Parent_ID']].drop_duplicates()"
   ]
  },
  {
   "cell_type": "code",
   "execution_count": 4,
   "metadata": {},
   "outputs": [
    {
     "data": {
      "text/plain": [
       "'2023-09-15'"
      ]
     },
     "execution_count": 4,
     "metadata": {},
     "output_type": "execute_result"
    }
   ],
   "source": [
    "final.Date.max()"
   ]
  },
  {
   "cell_type": "code",
   "execution_count": 5,
   "metadata": {},
   "outputs": [],
   "source": [
    "#final.to_csv(POST_2019_PATH, index=False)\n",
    "final.to_csv(POST_2019_PATH_new, index=False)\n"
   ]
  },
  {
   "cell_type": "code",
   "execution_count": null,
   "metadata": {},
   "outputs": [],
   "source": []
  }
 ],
 "metadata": {
  "kernelspec": {
   "display_name": "Python 3.10.8 64-bit",
   "language": "python",
   "name": "python3"
  },
  "language_info": {
   "codemirror_mode": {
    "name": "ipython",
    "version": 3
   },
   "file_extension": ".py",
   "mimetype": "text/x-python",
   "name": "python",
   "nbconvert_exporter": "python",
   "pygments_lexer": "ipython3",
   "version": "3.11.3"
  },
  "orig_nbformat": 4,
  "vscode": {
   "interpreter": {
    "hash": "aee8b7b246df8f9039afb4144a1f6fd8d2ca17a180786b69acc140d282b71a49"
   }
  }
 },
 "nbformat": 4,
 "nbformat_minor": 2
}
