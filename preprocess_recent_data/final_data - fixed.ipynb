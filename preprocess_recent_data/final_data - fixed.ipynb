{
 "cells": [
  {
   "cell_type": "markdown",
   "metadata": {},
   "source": [
    "# Imports:"
   ]
  },
  {
   "cell_type": "code",
   "execution_count": 1,
   "metadata": {},
   "outputs": [],
   "source": [
    "import numpy as np\n",
    "import pandas as pd\n",
    "import math\n",
    "import datetime\n",
    "from datetime import datetime\n",
    "\n",
    "from config import *\n",
    "from utils import *"
   ]
  },
  {
   "cell_type": "markdown",
   "metadata": {},
   "source": [
    "# Combining Post April 2019 df and Existing df"
   ]
  },
  {
   "cell_type": "code",
   "execution_count": 2,
   "metadata": {},
   "outputs": [],
   "source": [
    "existing_df = pd.read_csv(OLD_PATH)\n",
    "#new_df = pd.read_csv(POST_2019_PATH)\n",
    "new_df = pd.read_csv(POST_2019_PATH_new)"
   ]
  },
  {
   "cell_type": "code",
   "execution_count": 4,
   "metadata": {},
   "outputs": [
    {
     "name": "stdout",
     "output_type": "stream",
     "text": [
      "existing df contains 424 unique categories\n",
      "new (post april 19) df contains 379 unique categories\n"
     ]
    }
   ],
   "source": [
    "print('existing df contains '+str(existing_df.Category.nunique())+' unique categories')\n",
    "print('new (post april 19) df contains '+str(new_df.Category.nunique())+' unique categories')"
   ]
  },
  {
   "cell_type": "code",
   "execution_count": 5,
   "metadata": {},
   "outputs": [],
   "source": [
    "final_df = pd.concat([existing_df[existing_df['Date']<'2019-01-15'],new_df])"
   ]
  },
  {
   "cell_type": "code",
   "execution_count": 7,
   "metadata": {},
   "outputs": [
    {
     "data": {
      "text/html": [
       "<div>\n",
       "<style scoped>\n",
       "    .dataframe tbody tr th:only-of-type {\n",
       "        vertical-align: middle;\n",
       "    }\n",
       "\n",
       "    .dataframe tbody tr th {\n",
       "        vertical-align: top;\n",
       "    }\n",
       "\n",
       "    .dataframe thead th {\n",
       "        text-align: right;\n",
       "    }\n",
       "</style>\n",
       "<table border=\"1\" class=\"dataframe\">\n",
       "  <thead>\n",
       "    <tr style=\"text-align: right;\">\n",
       "      <th></th>\n",
       "      <th>Date</th>\n",
       "      <th>Category</th>\n",
       "      <th>Category_id</th>\n",
       "      <th>Price</th>\n",
       "      <th>Weight</th>\n",
       "      <th>Indent</th>\n",
       "      <th>Parent</th>\n",
       "      <th>Parent_ID</th>\n",
       "    </tr>\n",
       "  </thead>\n",
       "  <tbody>\n",
       "    <tr>\n",
       "      <th>21418</th>\n",
       "      <td>2023-09-15</td>\n",
       "      <td>New and used motor vehicles</td>\n",
       "      <td>2973.0</td>\n",
       "      <td>127.343</td>\n",
       "      <td>6.987</td>\n",
       "      <td>3.0</td>\n",
       "      <td>Private transportation</td>\n",
       "      <td>3815.0</td>\n",
       "    </tr>\n",
       "    <tr>\n",
       "      <th>21419</th>\n",
       "      <td>2023-09-15</td>\n",
       "      <td>Utilities and public transportation</td>\n",
       "      <td>7939.0</td>\n",
       "      <td>252.478</td>\n",
       "      <td>9.322</td>\n",
       "      <td>1.0</td>\n",
       "      <td>All items</td>\n",
       "      <td>8106.0</td>\n",
       "    </tr>\n",
       "    <tr>\n",
       "      <th>21420</th>\n",
       "      <td>2023-09-15</td>\n",
       "      <td>Household furnishings and operations</td>\n",
       "      <td>9339.0</td>\n",
       "      <td>148.672</td>\n",
       "      <td>4.282</td>\n",
       "      <td>1.0</td>\n",
       "      <td>All items</td>\n",
       "      <td>8106.0</td>\n",
       "    </tr>\n",
       "    <tr>\n",
       "      <th>21421</th>\n",
       "      <td>2023-09-15</td>\n",
       "      <td>Other goods and services</td>\n",
       "      <td>8488.0</td>\n",
       "      <td>543.350</td>\n",
       "      <td>3.207</td>\n",
       "      <td>1.0</td>\n",
       "      <td>All items</td>\n",
       "      <td>8106.0</td>\n",
       "    </tr>\n",
       "    <tr>\n",
       "      <th>21422</th>\n",
       "      <td>2023-09-15</td>\n",
       "      <td>Personal care</td>\n",
       "      <td>6986.0</td>\n",
       "      <td>276.813</td>\n",
       "      <td>2.547</td>\n",
       "      <td>2.0</td>\n",
       "      <td>Other goods and services</td>\n",
       "      <td>8488.0</td>\n",
       "    </tr>\n",
       "  </tbody>\n",
       "</table>\n",
       "</div>"
      ],
      "text/plain": [
       "             Date                              Category  Category_id    Price  \\\n",
       "21418  2023-09-15           New and used motor vehicles       2973.0  127.343   \n",
       "21419  2023-09-15   Utilities and public transportation       7939.0  252.478   \n",
       "21420  2023-09-15  Household furnishings and operations       9339.0  148.672   \n",
       "21421  2023-09-15              Other goods and services       8488.0  543.350   \n",
       "21422  2023-09-15                         Personal care       6986.0  276.813   \n",
       "\n",
       "       Weight  Indent                    Parent  Parent_ID  \n",
       "21418   6.987     3.0    Private transportation     3815.0  \n",
       "21419   9.322     1.0                 All items     8106.0  \n",
       "21420   4.282     1.0                 All items     8106.0  \n",
       "21421   3.207     1.0                 All items     8106.0  \n",
       "21422   2.547     2.0  Other goods and services     8488.0  "
      ]
     },
     "execution_count": 7,
     "metadata": {},
     "output_type": "execute_result"
    }
   ],
   "source": [
    "final_df.tail()"
   ]
  },
  {
   "cell_type": "markdown",
   "metadata": {},
   "source": [
    "------------------------"
   ]
  },
  {
   "cell_type": "markdown",
   "metadata": {},
   "source": [
    "# Testing Out The Data:"
   ]
  },
  {
   "cell_type": "code",
   "execution_count": 8,
   "metadata": {},
   "outputs": [
    {
     "name": "stdout",
     "output_type": "stream",
     "text": [
      "<class 'pandas.core.frame.DataFrame'>\n",
      "Int64Index: 73565 entries, 0 to 21422\n",
      "Data columns (total 8 columns):\n",
      " #   Column       Non-Null Count  Dtype  \n",
      "---  ------       --------------  -----  \n",
      " 0   Date         73565 non-null  object \n",
      " 1   Category     73565 non-null  object \n",
      " 2   Category_id  73565 non-null  float64\n",
      " 3   Price        73412 non-null  float64\n",
      " 4   Weight       73565 non-null  float64\n",
      " 5   Indent       73565 non-null  float64\n",
      " 6   Parent       73088 non-null  object \n",
      " 7   Parent_ID    73088 non-null  float64\n",
      "dtypes: float64(5), object(3)\n",
      "memory usage: 5.1+ MB\n"
     ]
    }
   ],
   "source": [
    "final_df.info()"
   ]
  },
  {
   "cell_type": "code",
   "execution_count": 15,
   "metadata": {},
   "outputs": [
    {
     "data": {
      "text/plain": [
       "array(['All items'], dtype=object)"
      ]
     },
     "execution_count": 15,
     "metadata": {},
     "output_type": "execute_result"
    }
   ],
   "source": [
    "# making sure 'all items' is the only category without a parent\n",
    "final_df[final_df.Parent.isna()].Category.unique()"
   ]
  },
  {
   "cell_type": "code",
   "execution_count": 10,
   "metadata": {},
   "outputs": [
    {
     "data": {
      "text/html": [
       "<div>\n",
       "<style scoped>\n",
       "    .dataframe tbody tr th:only-of-type {\n",
       "        vertical-align: middle;\n",
       "    }\n",
       "\n",
       "    .dataframe tbody tr th {\n",
       "        vertical-align: top;\n",
       "    }\n",
       "\n",
       "    .dataframe thead th {\n",
       "        text-align: right;\n",
       "    }\n",
       "</style>\n",
       "<table border=\"1\" class=\"dataframe\">\n",
       "  <thead>\n",
       "    <tr style=\"text-align: right;\">\n",
       "      <th></th>\n",
       "      <th>Category</th>\n",
       "      <th>Date</th>\n",
       "    </tr>\n",
       "  </thead>\n",
       "  <tbody>\n",
       "    <tr>\n",
       "      <th>0</th>\n",
       "      <td>Admission to sporting events</td>\n",
       "      <td>6</td>\n",
       "    </tr>\n",
       "    <tr>\n",
       "      <th>1</th>\n",
       "      <td>Care of invalids and elderly at home</td>\n",
       "      <td>1</td>\n",
       "    </tr>\n",
       "    <tr>\n",
       "      <th>2</th>\n",
       "      <td>Distilled spirits away from home</td>\n",
       "      <td>2</td>\n",
       "    </tr>\n",
       "    <tr>\n",
       "      <th>3</th>\n",
       "      <td>Domestic services</td>\n",
       "      <td>3</td>\n",
       "    </tr>\n",
       "    <tr>\n",
       "      <th>4</th>\n",
       "      <td>Fees for lessons or instructions</td>\n",
       "      <td>1</td>\n",
       "    </tr>\n",
       "    <tr>\n",
       "      <th>5</th>\n",
       "      <td>Food at elementary and secondary schools</td>\n",
       "      <td>14</td>\n",
       "    </tr>\n",
       "    <tr>\n",
       "      <th>6</th>\n",
       "      <td>Food at employee sites and schools</td>\n",
       "      <td>1</td>\n",
       "    </tr>\n",
       "    <tr>\n",
       "      <th>7</th>\n",
       "      <td>Gardening and lawncare services</td>\n",
       "      <td>29</td>\n",
       "    </tr>\n",
       "    <tr>\n",
       "      <th>8</th>\n",
       "      <td>Hospital services</td>\n",
       "      <td>1</td>\n",
       "    </tr>\n",
       "    <tr>\n",
       "      <th>9</th>\n",
       "      <td>Household operations</td>\n",
       "      <td>12</td>\n",
       "    </tr>\n",
       "    <tr>\n",
       "      <th>10</th>\n",
       "      <td>Infants’ equipment</td>\n",
       "      <td>1</td>\n",
       "    </tr>\n",
       "    <tr>\n",
       "      <th>11</th>\n",
       "      <td>Inpatient hospital services</td>\n",
       "      <td>2</td>\n",
       "    </tr>\n",
       "    <tr>\n",
       "      <th>12</th>\n",
       "      <td>Intercity bus fare</td>\n",
       "      <td>2</td>\n",
       "    </tr>\n",
       "    <tr>\n",
       "      <th>13</th>\n",
       "      <td>Leased cars and trucks</td>\n",
       "      <td>25</td>\n",
       "    </tr>\n",
       "    <tr>\n",
       "      <th>14</th>\n",
       "      <td>Legal services</td>\n",
       "      <td>4</td>\n",
       "    </tr>\n",
       "    <tr>\n",
       "      <th>15</th>\n",
       "      <td>Motor vehicle body work</td>\n",
       "      <td>1</td>\n",
       "    </tr>\n",
       "    <tr>\n",
       "      <th>16</th>\n",
       "      <td>Outpatient hospital services</td>\n",
       "      <td>1</td>\n",
       "    </tr>\n",
       "    <tr>\n",
       "      <th>17</th>\n",
       "      <td>Peanut butter</td>\n",
       "      <td>6</td>\n",
       "    </tr>\n",
       "    <tr>\n",
       "      <th>18</th>\n",
       "      <td>Pet services</td>\n",
       "      <td>1</td>\n",
       "    </tr>\n",
       "    <tr>\n",
       "      <th>19</th>\n",
       "      <td>Photographer fees</td>\n",
       "      <td>8</td>\n",
       "    </tr>\n",
       "    <tr>\n",
       "      <th>20</th>\n",
       "      <td>Repair of household items</td>\n",
       "      <td>25</td>\n",
       "    </tr>\n",
       "    <tr>\n",
       "      <th>21</th>\n",
       "      <td>Tax return preparation and other accounting fees</td>\n",
       "      <td>7</td>\n",
       "    </tr>\n",
       "  </tbody>\n",
       "</table>\n",
       "</div>"
      ],
      "text/plain": [
       "                                            Category  Date\n",
       "0                       Admission to sporting events     6\n",
       "1               Care of invalids and elderly at home     1\n",
       "2                   Distilled spirits away from home     2\n",
       "3                                  Domestic services     3\n",
       "4                   Fees for lessons or instructions     1\n",
       "5           Food at elementary and secondary schools    14\n",
       "6                 Food at employee sites and schools     1\n",
       "7                    Gardening and lawncare services    29\n",
       "8                                  Hospital services     1\n",
       "9                               Household operations    12\n",
       "10                                Infants’ equipment     1\n",
       "11                       Inpatient hospital services     2\n",
       "12                                Intercity bus fare     2\n",
       "13                            Leased cars and trucks    25\n",
       "14                                    Legal services     4\n",
       "15                           Motor vehicle body work     1\n",
       "16                      Outpatient hospital services     1\n",
       "17                                     Peanut butter     6\n",
       "18                                      Pet services     1\n",
       "19                                 Photographer fees     8\n",
       "20                         Repair of household items    25\n",
       "21  Tax return preparation and other accounting fees     7"
      ]
     },
     "execution_count": 10,
     "metadata": {},
     "output_type": "execute_result"
    }
   ],
   "source": [
    "missing_price = list(final_df[final_df.Price.isna()].Category.unique()) # all categories with at least one missing price\n",
    "missing_prices = final_df[final_df.Category.isin(missing_price)&(final_df.Price.isna())].groupby('Category').agg({'Date':pd.Series.nunique}).reset_index()\n",
    "missing_prices # df that contains the number of missing price values per category"
   ]
  },
  {
   "cell_type": "code",
   "execution_count": 11,
   "metadata": {},
   "outputs": [],
   "source": [
    "#removing categories with missing price values\n",
    "cat_to_remove = list(missing_prices[missing_prices['Date']>0].Category.unique())\n",
    "final_df = final_df[~final_df['Category'].isin(cat_to_remove)]"
   ]
  },
  {
   "cell_type": "code",
   "execution_count": 16,
   "metadata": {},
   "outputs": [
    {
     "name": "stdout",
     "output_type": "stream",
     "text": [
      "number of cats in df is: 418\n"
     ]
    }
   ],
   "source": [
    "print('number of cats in df is: '+str(final_df.Category.nunique()))"
   ]
  },
  {
   "cell_type": "markdown",
   "metadata": {},
   "source": [
    "# Saving Baseline df:"
   ]
  },
  {
   "cell_type": "code",
   "execution_count": 17,
   "metadata": {},
   "outputs": [],
   "source": [
    "baseline_df = final_df.copy()"
   ]
  },
  {
   "cell_type": "code",
   "execution_count": 18,
   "metadata": {},
   "outputs": [],
   "source": [
    "baseline_df.to_csv(BASELINE_PATH,index=False)"
   ]
  },
  {
   "cell_type": "code",
   "execution_count": 19,
   "metadata": {},
   "outputs": [
    {
     "data": {
      "text/plain": [
       "0"
      ]
     },
     "execution_count": 19,
     "metadata": {},
     "output_type": "execute_result"
    }
   ],
   "source": [
    "baseline_df[baseline_df['Category'] == 'Care of invalids and elderly at home'].Date.isna().sum()"
   ]
  },
  {
   "cell_type": "markdown",
   "metadata": {},
   "source": [
    "# Saving HRNN df:"
   ]
  },
  {
   "cell_type": "markdown",
   "metadata": {},
   "source": [
    "### Fixing Change of Parents/Indents/etc. in Data:"
   ]
  },
  {
   "cell_type": "code",
   "execution_count": 20,
   "metadata": {},
   "outputs": [],
   "source": [
    "temp = final_df[final_df['Date']>='2023-01-15'].copy()\n",
    "temp = temp[['Category','Category_id','Indent','Parent','Parent_ID']].drop_duplicates() #using the latest categories, category_ids, indents etc. since they changed over time"
   ]
  },
  {
   "cell_type": "code",
   "execution_count": 21,
   "metadata": {},
   "outputs": [
    {
     "data": {
      "text/html": [
       "<div>\n",
       "<style scoped>\n",
       "    .dataframe tbody tr th:only-of-type {\n",
       "        vertical-align: middle;\n",
       "    }\n",
       "\n",
       "    .dataframe tbody tr th {\n",
       "        vertical-align: top;\n",
       "    }\n",
       "\n",
       "    .dataframe thead th {\n",
       "        text-align: right;\n",
       "    }\n",
       "</style>\n",
       "<table border=\"1\" class=\"dataframe\">\n",
       "  <thead>\n",
       "    <tr style=\"text-align: right;\">\n",
       "      <th></th>\n",
       "      <th>Category_id</th>\n",
       "      <th>Category</th>\n",
       "      <th>Indent</th>\n",
       "      <th>Parent</th>\n",
       "      <th>Parent_ID</th>\n",
       "    </tr>\n",
       "  </thead>\n",
       "  <tbody>\n",
       "    <tr>\n",
       "      <th>284</th>\n",
       "      <td>8106.0</td>\n",
       "      <td>1</td>\n",
       "      <td>1</td>\n",
       "      <td>0</td>\n",
       "      <td>0</td>\n",
       "    </tr>\n",
       "  </tbody>\n",
       "</table>\n",
       "</div>"
      ],
      "text/plain": [
       "     Category_id  Category  Indent  Parent  Parent_ID\n",
       "284       8106.0         1       1       0          0"
      ]
     },
     "execution_count": 21,
     "metadata": {},
     "output_type": "execute_result"
    }
   ],
   "source": [
    "agg_temp = temp.groupby('Category_id').agg({'Category': pd.Series.nunique, 'Indent': pd.Series.nunique, 'Parent': pd.Series.nunique, 'Parent_ID': pd.Series.nunique}).reset_index()\n",
    "agg_temp[(agg_temp['Category'] != 1)|(agg_temp['Indent'] != 1)|(agg_temp['Parent'] != 1 )|(agg_temp['Parent_ID'] != 1)] #checking how many categories have more than one name, indent, paren or parent_id"
   ]
  },
  {
   "cell_type": "code",
   "execution_count": 22,
   "metadata": {},
   "outputs": [],
   "source": [
    "categories_in_2023 = list(final_df[final_df['Date']>='2023-01-15'].Category_id.unique()) #creating a list of all unique categories in 2023"
   ]
  },
  {
   "cell_type": "code",
   "execution_count": 34,
   "metadata": {},
   "outputs": [
    {
     "data": {
      "text/plain": [
       "352"
      ]
     },
     "execution_count": 34,
     "metadata": {},
     "output_type": "execute_result"
    }
   ],
   "source": [
    "len(categories_in_2023)"
   ]
  },
  {
   "cell_type": "code",
   "execution_count": 35,
   "metadata": {},
   "outputs": [],
   "source": [
    "fixed_df = final_df[final_df['Category_id'].isin(categories_in_2023)].copy() #using only categories found in 2023"
   ]
  },
  {
   "cell_type": "code",
   "execution_count": 36,
   "metadata": {},
   "outputs": [],
   "source": [
    "latest_data_per_cat_id = {}\n",
    "for cat_id in categories_in_2023:\n",
    "    #saving latest data for updates - list[0] = category name, list[1] = indent, list[2] = parent, list[3] = parent_id\n",
    "    latest_data_per_cat_id[cat_id] = [temp[temp['Category_id'] == cat_id].Category.values[0],temp[temp['Category_id'] == cat_id].Indent.values[0], temp[temp['Category_id'] == cat_id].Parent.values[0], temp[temp['Category_id'] == cat_id].Parent_ID.values[0]]"
   ]
  },
  {
   "cell_type": "code",
   "execution_count": 37,
   "metadata": {},
   "outputs": [],
   "source": [
    "for cat_id in categories_in_2023:\n",
    "    fixed_df.loc[(fixed_df['Category_id']==cat_id), 'Category'] = latest_data_per_cat_id[cat_id][0]\n",
    "    fixed_df.loc[(fixed_df['Category_id']==cat_id), 'Indent'] = latest_data_per_cat_id[cat_id][1]\n",
    "    fixed_df.loc[(fixed_df['Category_id']==cat_id), 'Parent'] = latest_data_per_cat_id[cat_id][2]\n",
    "    fixed_df.loc[(fixed_df['Category_id']==cat_id), 'Parent_ID'] = latest_data_per_cat_id[cat_id][3]"
   ]
  },
  {
   "cell_type": "code",
   "execution_count": 38,
   "metadata": {},
   "outputs": [],
   "source": [
    "fixed_copy = fixed_df.copy() #creating a copy for tests:"
   ]
  },
  {
   "cell_type": "code",
   "execution_count": 39,
   "metadata": {},
   "outputs": [],
   "source": [
    "# tests:\n",
    "for cat_id in fixed_copy.Category_id.unique():\n",
    "    if cat_id == 8106.0: #all items will be treated different as it doesn't have a parent or parent_id\n",
    "        continue\n",
    "    else:\n",
    "        parent_id = fixed_copy[fixed_copy['Category_id'] == cat_id].Parent_ID.values[0]\n",
    "        if  fixed_copy[fixed_copy['Category_id'] == parent_id].shape[0] == 0: #if parent isn't in 2022 data then continue- we'll deal later\n",
    "            continue\n",
    "        else:\n",
    "            parent_indent = fixed_copy[fixed_copy['Category_id'] == parent_id].Indent.values[0] \n",
    "            fixed_copy.loc[fixed_copy['Category_id'] == cat_id, 'Parent_Indent'] = parent_indent #otherwise, force all categories to have their latest parent to make sure the parent indent is higher (less than) the child's"
   ]
  },
  {
   "cell_type": "code",
   "execution_count": 40,
   "metadata": {},
   "outputs": [
    {
     "data": {
      "text/plain": [
       "array([ 449., 2211.])"
      ]
     },
     "execution_count": 40,
     "metadata": {},
     "output_type": "execute_result"
    }
   ],
   "source": [
    "fixed_copy[fixed_copy['Indent']<=fixed_copy['Parent_Indent']].Category_id.unique() #checking which categories have indent's higher than their parents"
   ]
  },
  {
   "cell_type": "code",
   "execution_count": 41,
   "metadata": {},
   "outputs": [
    {
     "name": "stdout",
     "output_type": "stream",
     "text": [
      "category 449 has 2 distinct children\n",
      "category 2211 has 0 distinct children\n"
     ]
    }
   ],
   "source": [
    "print('category 449 has '+str(fixed_copy[fixed_copy['Parent_ID']==449.0].Category_id.nunique())+' distinct children')\n",
    "print('category 2211 has '+str(fixed_copy[fixed_copy['Parent_ID']==2211.0].Category_id.nunique())+' distinct children')\n"
   ]
  },
  {
   "cell_type": "code",
   "execution_count": 42,
   "metadata": {},
   "outputs": [],
   "source": [
    "for cat_id in list(fixed_copy.Category_id.unique()):\n",
    "    min_date = fixed_copy[fixed_copy['Category_id'] == cat_id].Date.min()\n",
    "    max_date = fixed_copy[fixed_copy['Category_id'] == cat_id].Date.max()\n",
    "    \n",
    "    if min_date > '2019-01-01':\n",
    "        print(f'category starts after 2019: {cat_id}')\n",
    "    \n",
    "    if max_date < '2023-01-01':\n",
    "        print(f'category starts before 2023: {cat_id}')"
   ]
  },
  {
   "cell_type": "code",
   "execution_count": 43,
   "metadata": {},
   "outputs": [],
   "source": [
    "#fixed_copy[fixed_copy['Category'] == 'Care of invalids and elderly at home'].Date.unique()"
   ]
  },
  {
   "cell_type": "code",
   "execution_count": 44,
   "metadata": {},
   "outputs": [],
   "source": [
    "fixed_df_without_indent_issues = fixed_df[~fixed_df['Category_id'].isin([449.0,2211.0])]"
   ]
  },
  {
   "cell_type": "code",
   "execution_count": 47,
   "metadata": {},
   "outputs": [
    {
     "data": {
      "text/plain": [
       "350"
      ]
     },
     "execution_count": 47,
     "metadata": {},
     "output_type": "execute_result"
    }
   ],
   "source": [
    "fixed_df_without_indent_issues.Category.nunique()"
   ]
  },
  {
   "cell_type": "code",
   "execution_count": 48,
   "metadata": {},
   "outputs": [],
   "source": [
    "fixed_df_without_indent_issues.to_csv(HRNN_PATH,index=False)"
   ]
  },
  {
   "cell_type": "code",
   "execution_count": null,
   "metadata": {},
   "outputs": [],
   "source": []
  },
  {
   "cell_type": "code",
   "execution_count": null,
   "metadata": {},
   "outputs": [],
   "source": []
  }
 ],
 "metadata": {
  "kernelspec": {
   "display_name": "Python 3.10.8 64-bit",
   "language": "python",
   "name": "python3"
  },
  "language_info": {
   "codemirror_mode": {
    "name": "ipython",
    "version": 3
   },
   "file_extension": ".py",
   "mimetype": "text/x-python",
   "name": "python",
   "nbconvert_exporter": "python",
   "pygments_lexer": "ipython3",
   "version": "3.11.3"
  },
  "orig_nbformat": 4,
  "vscode": {
   "interpreter": {
    "hash": "aee8b7b246df8f9039afb4144a1f6fd8d2ca17a180786b69acc140d282b71a49"
   }
  }
 },
 "nbformat": 4,
 "nbformat_minor": 2
}
