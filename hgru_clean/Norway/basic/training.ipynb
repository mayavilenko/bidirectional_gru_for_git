{
 "cells": [
  {
   "cell_type": "code",
   "execution_count": 1,
   "metadata": {},
   "outputs": [],
   "source": [
    "import sys\n",
    "sys.path.insert(0, '/Users/mvilenko/Library/CloudStorage/OneDrive-PayPal/hgru_clean/Norway/')"
   ]
  },
  {
   "cell_type": "code",
   "execution_count": 2,
   "metadata": {},
   "outputs": [],
   "source": [
    "import torch\n",
    "import pandas as pd\n",
    "import numpy as np\n",
    "import statistics\n",
    "import torch\n",
    "import random\n",
    "import time\n",
    "import numpy as np\n",
    "#from transformers import AdamW\n",
    "from torch.utils.tensorboard import SummaryWriter\n",
    "import pickle\n",
    "import torch.nn as nn\n",
    "from torch.utils.data import DataLoader, TensorDataset\n",
    "import torch.optim as optim\n",
    "import shutil\n",
    "import itertools\n",
    "from model.GRU_model import *\n",
    "from pipeline_config import *\n",
    "from utils import *"
   ]
  },
  {
   "cell_type": "code",
   "execution_count": 3,
   "metadata": {},
   "outputs": [],
   "source": [
    "# Seeds for comparisons:\n",
    "\n",
    "torch.manual_seed(1)\n",
    "np.random.seed(2)\n",
    "random.seed(3)"
   ]
  },
  {
   "cell_type": "code",
   "execution_count": 4,
   "metadata": {},
   "outputs": [],
   "source": [
    "with open(train_dataset_path, 'rb') as f:\n",
    "    train_dataset_dict = pickle.load(f)\n",
    "    \n",
    "with open(test_dataset_path, 'rb') as f:\n",
    "    test_dataset_dict = pickle.load(f)\n",
    "\n",
    "with open(category_id_to_category_name_path, 'rb') as f:\n",
    "    category_id_to_name_dict = pickle.load(f)\n",
    "    \n",
    "with open(categories_per_indent_path, 'rb') as f:\n",
    "    categories_per_indent_dict = pickle.load(f)"
   ]
  },
  {
   "cell_type": "code",
   "execution_count": 5,
   "metadata": {},
   "outputs": [
    {
     "data": {
      "text/plain": [
       "'/Users/mvilenko/Library/CloudStorage/OneDrive-PayPal/hgru_clean/pickle_files/norway_categories_per_indent_dict.pickle'"
      ]
     },
     "execution_count": 5,
     "metadata": {},
     "output_type": "execute_result"
    }
   ],
   "source": [
    "categories_per_indent_path"
   ]
  },
  {
   "cell_type": "code",
   "execution_count": 6,
   "metadata": {},
   "outputs": [],
   "source": [
    "categories_lists = list(categories_per_indent_dict.values())\n",
    "categories_id = list(itertools.chain.from_iterable(categories_lists))\n",
    "categories = []\n",
    "for category_id in categories_id:\n",
    "    categories.append(category_id_to_name_dict[category_id])"
   ]
  },
  {
   "cell_type": "code",
   "execution_count": 7,
   "metadata": {},
   "outputs": [
    {
     "data": {
      "text/plain": [
       "52"
      ]
     },
     "execution_count": 7,
     "metadata": {},
     "output_type": "execute_result"
    }
   ],
   "source": [
    "# sanity check:\n",
    "len(categories)"
   ]
  },
  {
   "cell_type": "markdown",
   "metadata": {},
   "source": [
    "# Pipeline:"
   ]
  },
  {
   "cell_type": "code",
   "execution_count": 8,
   "metadata": {},
   "outputs": [
    {
     "name": "stdout",
     "output_type": "stream",
     "text": [
      "Features: 1\n",
      "HiddenSize: 64\n",
      "LayersDim: 1\n",
      "OutputDim: 1\n",
      "DropoutProb: 0.0\n",
      "Lr : 0.00019837551214953915\n",
      "Epochs : 100\n"
     ]
    }
   ],
   "source": [
    "print(f'Features: {Features}')\n",
    "print(f'HiddenSize: {HiddenSize}')\n",
    "print(f'LayersDim: {LayersDim}')\n",
    "print(f'OutputDim: {OutputDim}')\n",
    "print(f'DropoutProb: {DropoutProb}')\n",
    "print(f'Lr : {Lr}')\n",
    "print(f'Epochs : {Epochs}')"
   ]
  },
  {
   "cell_type": "code",
   "execution_count": 9,
   "metadata": {},
   "outputs": [
    {
     "data": {
      "text/plain": [
       "52"
      ]
     },
     "execution_count": 9,
     "metadata": {},
     "output_type": "execute_result"
    }
   ],
   "source": [
    "len(categories)"
   ]
  },
  {
   "cell_type": "code",
   "execution_count": 10,
   "metadata": {},
   "outputs": [],
   "source": [
    "def pipline(train_dataset_dict, test_dataset_dict, weights_path):\n",
    "    results = {}\n",
    "\n",
    "    categories_counter = 0\n",
    "\n",
    "    for indent in sorted(list(categories_per_indent_dict.keys())):\n",
    "        for category in categories_per_indent_dict[indent]:\n",
    "            print(f'indent: {indent}')\n",
    "            category_name = category_id_to_name_dict[category]\n",
    "            print(f'category_name: {category_name}')\n",
    "\n",
    "            categories_counter+= 1\n",
    "            print(f'categories_counter: {categories_counter}')\n",
    "            \n",
    "            train_dataloader, test_dataloader = create_dataloader(train_dataset_dict[category_name], test_dataset_dict[category_name])\n",
    "            model = Model\n",
    "            model.to(device)\n",
    "            optimizer = Optimizer\n",
    "            \n",
    "            saving_param_path = weights_path+category_name+'.pt'\n",
    "\n",
    "            results[category_name] = training_and_evaluation(\n",
    "                                model=model,\n",
    "                                train_dataloader=train_dataloader,\n",
    "                                test_dataloader=test_dataloader,\n",
    "                                optim=optimizer,\n",
    "                                category=category,\n",
    "                                path=saving_param_path\n",
    "                            )\n",
    "\n",
    "    return results"
   ]
  },
  {
   "cell_type": "code",
   "execution_count": 11,
   "metadata": {},
   "outputs": [
    {
     "name": "stdout",
     "output_type": "stream",
     "text": [
      "indent: 0\n",
      "category_name: All-items\n",
      "categories_counter: 1\n",
      "indent: 1\n",
      "category_name: Alcoholic beverages and tobacco\n",
      "categories_counter: 2\n",
      "indent: 1\n",
      "category_name: Clothing and footwear\n",
      "categories_counter: 3\n",
      "indent: 1\n",
      "category_name: Communications\n",
      "categories_counter: 4\n",
      "indent: 1\n",
      "category_name: Education\n",
      "categories_counter: 5\n",
      "indent: 1\n",
      "category_name: Food and non-alcoholic beverages\n",
      "categories_counter: 6\n",
      "indent: 1\n",
      "category_name: Furnishings, household equipment and routine maintenance\n",
      "categories_counter: 7\n",
      "indent: 1\n",
      "category_name: Health\n",
      "categories_counter: 8\n",
      "indent: 1\n",
      "category_name: Housing, water, electricity, gas and other fuels\n",
      "categories_counter: 9\n",
      "indent: 1\n",
      "category_name: Miscellaneous goods and services\n",
      "categories_counter: 10\n",
      "indent: 1\n",
      "category_name: Recreation and culture\n",
      "categories_counter: 11\n",
      "indent: 1\n",
      "category_name: Restaurants and hotels\n",
      "categories_counter: 12\n",
      "indent: 1\n",
      "category_name: Transport\n",
      "categories_counter: 13\n",
      "indent: 2\n",
      "category_name: Accommodation services\n",
      "categories_counter: 14\n",
      "indent: 2\n",
      "category_name: Actual rentals for housing\n",
      "categories_counter: 15\n",
      "indent: 2\n",
      "category_name: Alcoholic beverages\n",
      "categories_counter: 16\n",
      "indent: 2\n",
      "category_name: Audio-visual, photographic and information processing equipment\n",
      "categories_counter: 17\n",
      "indent: 2\n",
      "category_name: Clothing\n",
      "categories_counter: 18\n",
      "indent: 2\n",
      "category_name: Electricity, gas and other fuels\n",
      "categories_counter: 19\n",
      "indent: 2\n",
      "category_name: Financial services n.e.c.\n",
      "categories_counter: 20\n",
      "indent: 2\n",
      "category_name: Food\n",
      "categories_counter: 21\n",
      "indent: 2\n",
      "category_name: Footwear\n",
      "categories_counter: 22\n",
      "indent: 2\n",
      "category_name: Furniture and furnishings, carpets and other floor coverings\n",
      "categories_counter: 23\n",
      "indent: 2\n",
      "category_name: Glassware, tableware and household utensils\n",
      "categories_counter: 24\n",
      "indent: 2\n",
      "category_name: Goods and services for routine household maintenance\n",
      "categories_counter: 25\n",
      "indent: 2\n",
      "category_name: Household appliances\n",
      "categories_counter: 26\n",
      "indent: 2\n",
      "category_name: Household textiles\n",
      "categories_counter: 27\n",
      "indent: 2\n",
      "category_name: Imputed rentals for housing\n",
      "categories_counter: 28\n",
      "indent: 2\n",
      "category_name: Insurance\n",
      "categories_counter: 29\n",
      "indent: 2\n",
      "category_name: Maintenance and repair of the dwelling\n",
      "categories_counter: 30\n",
      "indent: 2\n",
      "category_name: Medical products, appliances and equipment\n",
      "categories_counter: 31\n",
      "indent: 2\n",
      "category_name: Newspapers, books and stationery\n",
      "categories_counter: 32\n",
      "indent: 2\n",
      "category_name: Non-alcoholic beverages\n",
      "categories_counter: 33\n",
      "indent: 2\n",
      "category_name: Operation of personal transport equipment\n",
      "categories_counter: 34\n",
      "indent: 2\n",
      "category_name: Other major durables for recreation and culture\n",
      "categories_counter: 35\n",
      "indent: 2\n",
      "category_name: Other recreational items and equipment, gardens and pets\n",
      "categories_counter: 36\n",
      "indent: 2\n",
      "category_name: Other services n.e.c.\n",
      "categories_counter: 37\n",
      "indent: 2\n",
      "category_name: Out-patient services\n",
      "categories_counter: 38\n",
      "indent: 2\n",
      "category_name: Package holidays\n",
      "categories_counter: 39\n",
      "indent: 2\n",
      "category_name: Personal care\n",
      "categories_counter: 40\n",
      "indent: 2\n",
      "category_name: Personal effects n.e.c.\n",
      "categories_counter: 41\n",
      "indent: 2\n",
      "category_name: Postal services\n",
      "categories_counter: 42\n",
      "indent: 2\n",
      "category_name: Purchase of vehicles\n",
      "categories_counter: 43\n",
      "indent: 2\n",
      "category_name: Recreational and cultural services\n",
      "categories_counter: 44\n",
      "indent: 2\n",
      "category_name: Restaurant services\n",
      "categories_counter: 45\n",
      "indent: 2\n",
      "category_name: Social protection\n",
      "categories_counter: 46\n",
      "indent: 2\n",
      "category_name: Telephone equipment\n",
      "categories_counter: 47\n",
      "indent: 2\n",
      "category_name: Telephone services\n",
      "categories_counter: 48\n",
      "indent: 2\n",
      "category_name: Tobacco\n",
      "categories_counter: 49\n",
      "indent: 2\n",
      "category_name: Tools and equipment for house and garden\n",
      "categories_counter: 50\n",
      "indent: 2\n",
      "category_name: Transport services\n",
      "categories_counter: 51\n",
      "indent: 2\n",
      "category_name: Water supply and miscellaneous services relating to the dwelling\n",
      "categories_counter: 52\n"
     ]
    }
   ],
   "source": [
    "results = pipline(train_dataset_dict, test_dataset_dict, weightspath)"
   ]
  },
  {
   "cell_type": "markdown",
   "metadata": {},
   "source": [
    "Save best predictions per category:"
   ]
  },
  {
   "cell_type": "code",
   "execution_count": 12,
   "metadata": {},
   "outputs": [
    {
     "name": "stdout",
     "output_type": "stream",
     "text": [
      "Accommodation services\n",
      "Actual rentals for housing\n",
      "Alcoholic beverages\n",
      "Audio-visual, photographic and information processing equipment\n",
      "Clothing\n",
      "Electricity, gas and other fuels\n",
      "Financial services n.e.c.\n",
      "Food\n",
      "Footwear\n",
      "Furniture and furnishings, carpets and other floor coverings\n",
      "Glassware, tableware and household utensils\n",
      "Goods and services for routine household maintenance\n",
      "Household appliances\n",
      "Household textiles\n",
      "Imputed rentals for housing\n",
      "Insurance\n",
      "Maintenance and repair of the dwelling\n",
      "Medical products, appliances and equipment\n",
      "Newspapers, books and stationery\n",
      "Non-alcoholic beverages\n",
      "Operation of personal transport equipment\n",
      "Other major durables for recreation and culture\n",
      "Other recreational items and equipment, gardens and pets\n",
      "Other services n.e.c.\n",
      "Out-patient services\n",
      "Package holidays\n",
      "Personal care\n",
      "Personal effects n.e.c.\n",
      "Postal services\n",
      "Purchase of vehicles\n",
      "Recreational and cultural services\n",
      "Restaurant services\n",
      "Social protection\n",
      "Telephone equipment\n",
      "Telephone services\n",
      "Tobacco\n",
      "Tools and equipment for house and garden\n",
      "Transport services\n",
      "Water supply and miscellaneous services relating to the dwelling\n",
      "Alcoholic beverages and tobacco\n",
      "Clothing and footwear\n",
      "Communications\n",
      "Education\n",
      "Food and non-alcoholic beverages\n",
      "Furnishings, household equipment and routine maintenance\n",
      "Health\n",
      "Housing, water, electricity, gas and other fuels\n",
      "Miscellaneous goods and services\n",
      "Recreation and culture\n",
      "Restaurants and hotels\n",
      "Transport\n",
      "All-items\n"
     ]
    }
   ],
   "source": [
    "categories_lists = list(categories_per_indent_dict.values())\n",
    "categories_id = list(itertools.chain.from_iterable(categories_lists))\n",
    "categories = []\n",
    "for category_id in categories_id:\n",
    "    categories.append(category_id_to_name_dict[category_id])\n",
    "\n",
    "predictions_dict = get_results_on_test_set(weightspath, train_dataset_dict, test_dataset_dict, categories = categories)"
   ]
  },
  {
   "cell_type": "code",
   "execution_count": 13,
   "metadata": {},
   "outputs": [],
   "source": [
    "with open(test_predictions_path, 'wb') as handle:\n",
    "    pickle.dump(predictions_dict, handle, protocol=pickle.HIGHEST_PROTOCOL)"
   ]
  },
  {
   "cell_type": "markdown",
   "metadata": {},
   "source": [
    "Save model weights in dict for bi-directional use:"
   ]
  },
  {
   "cell_type": "code",
   "execution_count": 14,
   "metadata": {},
   "outputs": [],
   "source": [
    "categories_lists = list(categories_per_indent_dict.values())\n",
    "categories_id = list(itertools.chain.from_iterable(categories_lists))\n",
    "categories = []\n",
    "for category_id in categories_id:\n",
    "    categories.append(category_id_to_name_dict[category_id])\n",
    "\n",
    "category_id_list = []\n",
    " \n",
    "# list out keys and values separately\n",
    "key_list = list(category_id_to_name_dict.keys())\n",
    "val_list = list(category_id_to_name_dict.values())\n",
    "\n",
    "for cat_name in categories:\n",
    "    position = val_list.index(cat_name)\n",
    "    category_id_list.append(key_list[position])"
   ]
  },
  {
   "cell_type": "code",
   "execution_count": 15,
   "metadata": {},
   "outputs": [
    {
     "data": {
      "text/plain": [
       "'/Users/mvilenko/Library/CloudStorage/OneDrive-PayPal/hgru_clean/Norway/basic/models_weights/'"
      ]
     },
     "execution_count": 15,
     "metadata": {},
     "output_type": "execute_result"
    }
   ],
   "source": [
    "weightspath"
   ]
  },
  {
   "cell_type": "code",
   "execution_count": 16,
   "metadata": {},
   "outputs": [],
   "source": [
    "weights_dict = get_weights_per_category(category_id_list, weightspath, category_id_to_name_dict)"
   ]
  },
  {
   "cell_type": "code",
   "execution_count": 17,
   "metadata": {},
   "outputs": [],
   "source": [
    "with open(sgru_model_weights_path, 'wb') as handle:\n",
    "    pickle.dump(weights_dict, handle, protocol=pickle.HIGHEST_PROTOCOL)"
   ]
  },
  {
   "cell_type": "code",
   "execution_count": null,
   "metadata": {},
   "outputs": [],
   "source": []
  },
  {
   "cell_type": "code",
   "execution_count": null,
   "metadata": {},
   "outputs": [],
   "source": []
  },
  {
   "cell_type": "code",
   "execution_count": null,
   "metadata": {},
   "outputs": [],
   "source": []
  },
  {
   "cell_type": "code",
   "execution_count": null,
   "metadata": {},
   "outputs": [],
   "source": []
  },
  {
   "cell_type": "code",
   "execution_count": null,
   "metadata": {},
   "outputs": [],
   "source": []
  }
 ],
 "metadata": {
  "kernelspec": {
   "display_name": "base",
   "language": "python",
   "name": "python3"
  },
  "language_info": {
   "codemirror_mode": {
    "name": "ipython",
    "version": 3
   },
   "file_extension": ".py",
   "mimetype": "text/x-python",
   "name": "python",
   "nbconvert_exporter": "python",
   "pygments_lexer": "ipython3",
   "version": "3.9.13"
  }
 },
 "nbformat": 4,
 "nbformat_minor": 2
}
