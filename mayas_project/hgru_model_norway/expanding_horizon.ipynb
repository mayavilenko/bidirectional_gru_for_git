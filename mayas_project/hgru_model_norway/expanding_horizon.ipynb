{
 "cells": [
  {
   "cell_type": "code",
   "execution_count": 1,
   "metadata": {},
   "outputs": [],
   "source": [
    "import pandas as pd\n",
    "import numpy as np\n",
    "import matplotlib.pyplot as plt\n",
    "import torch\n",
    "import pickle\n",
    "import random\n",
    "import plotly.express as px\n",
    "from sklearn.metrics import mean_squared_error\n",
    "\n",
    "from model.expanding_utils import *\n",
    "from pipeline_config import *\n",
    "from hgru_data_preprocess.preprocess_config import *\n"
   ]
  },
  {
   "cell_type": "code",
   "execution_count": 2,
   "metadata": {},
   "outputs": [],
   "source": [
    "torch.manual_seed(1)\n",
    "np.random.seed(2)\n",
    "random.seed(3)"
   ]
  },
  {
   "cell_type": "markdown",
   "metadata": {},
   "source": [
    "# Creating New Dataset:"
   ]
  },
  {
   "cell_type": "code",
   "execution_count": 3,
   "metadata": {},
   "outputs": [],
   "source": [
    "with open(test_predictions_path, 'rb') as f:\n",
    "    original_prediction_dic = pickle.load(f)\n",
    "    \n",
    "with open(test_dataset_dict_path, 'rb') as f:\n",
    "    test_dataset_dict = pickle.load(f)\n",
    "    \n",
    "with open(category_id_to_category_name_path, 'rb') as f:\n",
    "    category_id_to_name_dict = pickle.load(f)\n",
    "    \n",
    "with open(categories_per_indent_path, 'rb') as f:\n",
    "    categories_per_indent_dict = pickle.load(f)\n",
    "    \n",
    "with open(HRNNpath, 'rb') as f:\n",
    "    raw_dataset_dict = pickle.load(f)\n",
    "    \n",
    "# with open(HRNN_EXPANDING_HOR_1, 'rb') as f:\n",
    "#     raw_dataset_hor1 = pickle.load(f)\n",
    "    \n",
    "# with open(HRNN_EXPANDING_HOR_2, 'rb') as f:\n",
    "#     raw_dataset_hor2 = pickle.load(f)\n",
    "    \n",
    "# with open(HRNN_EXPANDING_HOR_3, 'rb') as f:\n",
    "#     raw_dataset_hor3 = pickle.load(f)\n",
    "    \n",
    "# with open(HRNN_EXPANDING_HOR_4, 'rb') as f:\n",
    "#     raw_dataset_hor4 = pickle.load(f)\n",
    "    \n",
    "# with open(HRNN_EXPANDING_HOR_5, 'rb') as f:\n",
    "#     raw_dataset_hor5 = pickle.load(f)\n",
    "\n",
    "with open(HRNN_EXPANDING_HOR_6, 'rb') as f:\n",
    "    raw_dataset_hor6 = pickle.load(f)"
   ]
  },
  {
   "cell_type": "markdown",
   "metadata": {},
   "source": [
    "## Adding Prediction to Dataset - 6 Horizons:"
   ]
  },
  {
   "cell_type": "code",
   "execution_count": 4,
   "metadata": {},
   "outputs": [],
   "source": [
    "categories_per_indent_dict ={key: categories_per_indent_dict[key] for key in categories_per_indent_dict.keys() if key in [0,1,2,3]}"
   ]
  },
  {
   "cell_type": "code",
   "execution_count": 5,
   "metadata": {},
   "outputs": [],
   "source": [
    "def creating_new_dataset_dict(categories_per_indent_dict, category_id_to_name_dict, prediction_dic, test_dataset_dict, horizon):    \n",
    "    new_dataset_dict = {}\n",
    "    for indent in categories_per_indent_dict:\n",
    "        for cat_id in categories_per_indent_dict[indent]:\n",
    "            cat_name = category_id_to_name_dict[cat_id]\n",
    "            predictions = prediction_dic[cat_name]\n",
    "            prediction_df =  pd.DataFrame(predictions.flatten().detach().numpy())\n",
    "            prediction_df.rename(columns = {0: f'expanding horizon: {horizon}'}, inplace=True)\n",
    "            test_dataset_dict[cat_name] = test_dataset_dict[cat_name][test_dataset_dict[cat_name]['Year']> Year]\n",
    "            test_df = test_dataset_dict[cat_name].reset_index(drop = True)\n",
    "            new_dataset_dict[cat_name] = pd.concat([test_df, prediction_df], axis=1)\n",
    "            \n",
    "    return new_dataset_dict\n"
   ]
  },
  {
   "cell_type": "code",
   "execution_count": 6,
   "metadata": {},
   "outputs": [],
   "source": [
    "def get_results_on_test_set(weights_path, new_data_dict, horizon, categories = None):\n",
    "    predictions_dict = {}\n",
    "    if categories is None:\n",
    "        categories = list(new_data_dict.keys())\n",
    "    \n",
    "    for category in categories:\n",
    "        print(category)\n",
    "        dataloader = create_dataloader(new_data_dict[category], horizon)\n",
    "        basic_model = Model\n",
    "        basic_optimizer = Optimizer\n",
    "        ckp_path = weights_path+category+'.pt'\n",
    "        model, optimizer, checkpoint, valid_loss_min = load_checkpoint(ckp_path, basic_model, basic_optimizer)\n",
    "        predictions = get_predictions_on_test_set(model, dataloader)\n",
    "        predictions_dict[category] = predictions\n",
    "    return predictions_dict"
   ]
  },
  {
   "cell_type": "code",
   "execution_count": 7,
   "metadata": {},
   "outputs": [],
   "source": [
    "def create_final_dataset_dict(categories_per_indent_dict, category_id_to_name_dict, original_prediction_dic, raw_dataset_hor6, num_horizons = 6):\n",
    "    for horizon in range(num_horizons+1):\n",
    "        print(f'the horizon is: {horizon}')\n",
    "        if horizon == 0:\n",
    "            new_data_dict = creating_new_dataset_dict(categories_per_indent_dict, category_id_to_name_dict, original_prediction_dic, raw_dataset_hor6, horizon)\n",
    "        else:\n",
    "            predictions_dict = get_results_on_test_set(weightspath, new_data_dict, horizon)\n",
    "            new_data_dict = creating_new_dataset_dict(categories_per_indent_dict, category_id_to_name_dict, predictions_dict, new_data_dict, horizon)\n",
    "            \n",
    "    return new_data_dict"
   ]
  },
  {
   "cell_type": "code",
   "execution_count": 8,
   "metadata": {},
   "outputs": [
    {
     "name": "stdout",
     "output_type": "stream",
     "text": [
      "the horizon is: 0\n",
      "the horizon is: 1\n",
      "Alcoholic beverages\n",
      "the number of columns is: 14\n",
      "the columns: ['Inflation t-11', 'Inflation t-10', 'Inflation t-9', 'Inflation t-8', 'Inflation t-7', 'Inflation t-6', 'Inflation t-5', 'Inflation t-4', 'Inflation t-3', 'Inflation t-2', 'Inflation t-1', 'Inflation t', 'Inflation t+1', 'Inflation t+2']\n",
      "x shape is: torch.Size([32, 13])\n",
      "y shape is: torch.Size([32])\n",
      "input shape is: torch.Size([32, 13])\n",
      "Apparel\n",
      "the number of columns is: 14\n",
      "the columns: ['Inflation t-11', 'Inflation t-10', 'Inflation t-9', 'Inflation t-8', 'Inflation t-7', 'Inflation t-6', 'Inflation t-5', 'Inflation t-4', 'Inflation t-3', 'Inflation t-2', 'Inflation t-1', 'Inflation t', 'Inflation t+1', 'Inflation t+2']\n",
      "x shape is: torch.Size([32, 13])\n",
      "y shape is: torch.Size([32])\n",
      "input shape is: torch.Size([32, 13])\n",
      "Cereals and bakery products\n",
      "the number of columns is: 14\n",
      "the columns: ['Inflation t-11', 'Inflation t-10', 'Inflation t-9', 'Inflation t-8', 'Inflation t-7', 'Inflation t-6', 'Inflation t-5', 'Inflation t-4', 'Inflation t-3', 'Inflation t-2', 'Inflation t-1', 'Inflation t', 'Inflation t+1', 'Inflation t+2']\n",
      "x shape is: torch.Size([32, 13])\n",
      "y shape is: torch.Size([32])\n",
      "input shape is: torch.Size([32, 13])\n",
      "Dairy and related products\n",
      "the number of columns is: 14\n",
      "the columns: ['Inflation t-11', 'Inflation t-10', 'Inflation t-9', 'Inflation t-8', 'Inflation t-7', 'Inflation t-6', 'Inflation t-5', 'Inflation t-4', 'Inflation t-3', 'Inflation t-2', 'Inflation t-1', 'Inflation t', 'Inflation t+1', 'Inflation t+2']\n",
      "x shape is: torch.Size([32, 13])\n",
      "y shape is: torch.Size([32])\n",
      "input shape is: torch.Size([32, 13])\n",
      "Education and communication commodities\n",
      "the number of columns is: 14\n",
      "the columns: ['Inflation t-11', 'Inflation t-10', 'Inflation t-9', 'Inflation t-8', 'Inflation t-7', 'Inflation t-6', 'Inflation t-5', 'Inflation t-4', 'Inflation t-3', 'Inflation t-2', 'Inflation t-1', 'Inflation t', 'Inflation t+1', 'Inflation t+2']\n",
      "x shape is: torch.Size([32, 13])\n",
      "y shape is: torch.Size([32])\n",
      "input shape is: torch.Size([32, 13])\n",
      "Electricity\n",
      "the number of columns is: 14\n",
      "the columns: ['Inflation t-11', 'Inflation t-10', 'Inflation t-9', 'Inflation t-8', 'Inflation t-7', 'Inflation t-6', 'Inflation t-5', 'Inflation t-4', 'Inflation t-3', 'Inflation t-2', 'Inflation t-1', 'Inflation t', 'Inflation t+1', 'Inflation t+2']\n",
      "x shape is: torch.Size([32, 13])\n",
      "y shape is: torch.Size([32])\n",
      "input shape is: torch.Size([32, 13])\n",
      "Food from vending machines and mobile vendors\n",
      "the number of columns is: 14\n",
      "the columns: ['Inflation t-11', 'Inflation t-10', 'Inflation t-9', 'Inflation t-8', 'Inflation t-7', 'Inflation t-6', 'Inflation t-5', 'Inflation t-4', 'Inflation t-3', 'Inflation t-2', 'Inflation t-1', 'Inflation t', 'Inflation t+1', 'Inflation t+2']\n",
      "x shape is: torch.Size([32, 13])\n",
      "y shape is: torch.Size([32])\n",
      "input shape is: torch.Size([32, 13])\n",
      "Fruits and vegetables\n",
      "the number of columns is: 14\n",
      "the columns: ['Inflation t-11', 'Inflation t-10', 'Inflation t-9', 'Inflation t-8', 'Inflation t-7', 'Inflation t-6', 'Inflation t-5', 'Inflation t-4', 'Inflation t-3', 'Inflation t-2', 'Inflation t-1', 'Inflation t', 'Inflation t+1', 'Inflation t+2']\n",
      "x shape is: torch.Size([32, 13])\n",
      "y shape is: torch.Size([32])\n",
      "input shape is: torch.Size([32, 13])\n",
      "Fuel oil and other fuels\n",
      "the number of columns is: 14\n",
      "the columns: ['Inflation t-11', 'Inflation t-10', 'Inflation t-9', 'Inflation t-8', 'Inflation t-7', 'Inflation t-6', 'Inflation t-5', 'Inflation t-4', 'Inflation t-3', 'Inflation t-2', 'Inflation t-1', 'Inflation t', 'Inflation t+1', 'Inflation t+2']\n",
      "x shape is: torch.Size([32, 13])\n",
      "y shape is: torch.Size([32])\n",
      "input shape is: torch.Size([32, 13])\n",
      "Full service meals and snacks\n",
      "the number of columns is: 14\n",
      "the columns: ['Inflation t-11', 'Inflation t-10', 'Inflation t-9', 'Inflation t-8', 'Inflation t-7', 'Inflation t-6', 'Inflation t-5', 'Inflation t-4', 'Inflation t-3', 'Inflation t-2', 'Inflation t-1', 'Inflation t', 'Inflation t+1', 'Inflation t+2']\n",
      "x shape is: torch.Size([32, 13])\n",
      "y shape is: torch.Size([32])\n",
      "input shape is: torch.Size([32, 13])\n",
      "Household furnishings and supplies\n",
      "the number of columns is: 14\n",
      "the columns: ['Inflation t-11', 'Inflation t-10', 'Inflation t-9', 'Inflation t-8', 'Inflation t-7', 'Inflation t-6', 'Inflation t-5', 'Inflation t-4', 'Inflation t-3', 'Inflation t-2', 'Inflation t-1', 'Inflation t', 'Inflation t+1', 'Inflation t+2']\n",
      "x shape is: torch.Size([32, 13])\n",
      "y shape is: torch.Size([32])\n",
      "input shape is: torch.Size([32, 13])\n",
      "Information and information processing\n",
      "the number of columns is: 14\n",
      "the columns: ['Inflation t-11', 'Inflation t-10', 'Inflation t-9', 'Inflation t-8', 'Inflation t-7', 'Inflation t-6', 'Inflation t-5', 'Inflation t-4', 'Inflation t-3', 'Inflation t-2', 'Inflation t-1', 'Inflation t', 'Inflation t+1', 'Inflation t+2']\n",
      "x shape is: torch.Size([32, 13])\n",
      "y shape is: torch.Size([32])\n",
      "input shape is: torch.Size([32, 13])\n",
      "Information technology, hardware and services\n",
      "the number of columns is: 14\n",
      "the columns: ['Inflation t-11', 'Inflation t-10', 'Inflation t-9', 'Inflation t-8', 'Inflation t-7', 'Inflation t-6', 'Inflation t-5', 'Inflation t-4', 'Inflation t-3', 'Inflation t-2', 'Inflation t-1', 'Inflation t', 'Inflation t+1', 'Inflation t+2']\n",
      "x shape is: torch.Size([32, 13])\n",
      "y shape is: torch.Size([32])\n",
      "input shape is: torch.Size([32, 13])\n",
      "Limited service meals and snacks\n",
      "the number of columns is: 14\n",
      "the columns: ['Inflation t-11', 'Inflation t-10', 'Inflation t-9', 'Inflation t-8', 'Inflation t-7', 'Inflation t-6', 'Inflation t-5', 'Inflation t-4', 'Inflation t-3', 'Inflation t-2', 'Inflation t-1', 'Inflation t', 'Inflation t+1', 'Inflation t+2']\n",
      "x shape is: torch.Size([32, 13])\n",
      "y shape is: torch.Size([32])\n",
      "input shape is: torch.Size([32, 13])\n",
      "Meats, poultry, fish, and eggs\n",
      "the number of columns is: 14\n",
      "the columns: ['Inflation t-11', 'Inflation t-10', 'Inflation t-9', 'Inflation t-8', 'Inflation t-7', 'Inflation t-6', 'Inflation t-5', 'Inflation t-4', 'Inflation t-3', 'Inflation t-2', 'Inflation t-1', 'Inflation t', 'Inflation t+1', 'Inflation t+2']\n",
      "x shape is: torch.Size([32, 13])\n",
      "y shape is: torch.Size([32])\n",
      "input shape is: torch.Size([32, 13])\n",
      "Medical care commodities\n",
      "the number of columns is: 14\n",
      "the columns: ['Inflation t-11', 'Inflation t-10', 'Inflation t-9', 'Inflation t-8', 'Inflation t-7', 'Inflation t-6', 'Inflation t-5', 'Inflation t-4', 'Inflation t-3', 'Inflation t-2', 'Inflation t-1', 'Inflation t', 'Inflation t+1', 'Inflation t+2']\n",
      "x shape is: torch.Size([32, 13])\n",
      "y shape is: torch.Size([32])\n",
      "input shape is: torch.Size([32, 13])\n",
      "Motor fuel\n",
      "the number of columns is: 14\n",
      "the columns: ['Inflation t-11', 'Inflation t-10', 'Inflation t-9', 'Inflation t-8', 'Inflation t-7', 'Inflation t-6', 'Inflation t-5', 'Inflation t-4', 'Inflation t-3', 'Inflation t-2', 'Inflation t-1', 'Inflation t', 'Inflation t+1', 'Inflation t+2']\n",
      "x shape is: torch.Size([32, 13])\n",
      "y shape is: torch.Size([32])\n",
      "input shape is: torch.Size([32, 13])\n",
      "New and used motor vehicles\n",
      "the number of columns is: 14\n",
      "the columns: ['Inflation t-11', 'Inflation t-10', 'Inflation t-9', 'Inflation t-8', 'Inflation t-7', 'Inflation t-6', 'Inflation t-5', 'Inflation t-4', 'Inflation t-3', 'Inflation t-2', 'Inflation t-1', 'Inflation t', 'Inflation t+1', 'Inflation t+2']\n",
      "x shape is: torch.Size([32, 13])\n",
      "y shape is: torch.Size([32])\n",
      "input shape is: torch.Size([32, 13])\n",
      "Nonalcoholic beverages and beverage materials\n",
      "the number of columns is: 14\n",
      "the columns: ['Inflation t-11', 'Inflation t-10', 'Inflation t-9', 'Inflation t-8', 'Inflation t-7', 'Inflation t-6', 'Inflation t-5', 'Inflation t-4', 'Inflation t-3', 'Inflation t-2', 'Inflation t-1', 'Inflation t', 'Inflation t+1', 'Inflation t+2']\n",
      "x shape is: torch.Size([32, 13])\n",
      "y shape is: torch.Size([32])\n",
      "input shape is: torch.Size([32, 13])\n",
      "Other food at home\n",
      "the number of columns is: 14\n",
      "the columns: ['Inflation t-11', 'Inflation t-10', 'Inflation t-9', 'Inflation t-8', 'Inflation t-7', 'Inflation t-6', 'Inflation t-5', 'Inflation t-4', 'Inflation t-3', 'Inflation t-2', 'Inflation t-1', 'Inflation t', 'Inflation t+1', 'Inflation t+2']\n",
      "x shape is: torch.Size([32, 13])\n",
      "y shape is: torch.Size([32])\n",
      "input shape is: torch.Size([32, 13])\n",
      "Other food away from home\n",
      "the number of columns is: 14\n",
      "the columns: ['Inflation t-11', 'Inflation t-10', 'Inflation t-9', 'Inflation t-8', 'Inflation t-7', 'Inflation t-6', 'Inflation t-5', 'Inflation t-4', 'Inflation t-3', 'Inflation t-2', 'Inflation t-1', 'Inflation t', 'Inflation t+1', 'Inflation t+2']\n",
      "x shape is: torch.Size([32, 13])\n",
      "y shape is: torch.Size([32])\n",
      "input shape is: torch.Size([32, 13])\n",
      "Other goods\n",
      "the number of columns is: 14\n",
      "the columns: ['Inflation t-11', 'Inflation t-10', 'Inflation t-9', 'Inflation t-8', 'Inflation t-7', 'Inflation t-6', 'Inflation t-5', 'Inflation t-4', 'Inflation t-3', 'Inflation t-2', 'Inflation t-1', 'Inflation t', 'Inflation t+1', 'Inflation t+2']\n",
      "x shape is: torch.Size([32, 13])\n",
      "y shape is: torch.Size([32])\n",
      "input shape is: torch.Size([32, 13])\n",
      "Recreation commodities\n",
      "the number of columns is: 14\n",
      "the columns: ['Inflation t-11', 'Inflation t-10', 'Inflation t-9', 'Inflation t-8', 'Inflation t-7', 'Inflation t-6', 'Inflation t-5', 'Inflation t-4', 'Inflation t-3', 'Inflation t-2', 'Inflation t-1', 'Inflation t', 'Inflation t+1', 'Inflation t+2']\n",
      "x shape is: torch.Size([32, 13])\n",
      "y shape is: torch.Size([32])\n",
      "input shape is: torch.Size([32, 13])\n",
      "Shelter\n",
      "the number of columns is: 14\n",
      "the columns: ['Inflation t-11', 'Inflation t-10', 'Inflation t-9', 'Inflation t-8', 'Inflation t-7', 'Inflation t-6', 'Inflation t-5', 'Inflation t-4', 'Inflation t-3', 'Inflation t-2', 'Inflation t-1', 'Inflation t', 'Inflation t+1', 'Inflation t+2']\n",
      "x shape is: torch.Size([32, 13])\n",
      "y shape is: torch.Size([32])\n",
      "input shape is: torch.Size([32, 13])\n",
      "Transportation commodities less motor fuel\n",
      "the number of columns is: 14\n",
      "the columns: ['Inflation t-11', 'Inflation t-10', 'Inflation t-9', 'Inflation t-8', 'Inflation t-7', 'Inflation t-6', 'Inflation t-5', 'Inflation t-4', 'Inflation t-3', 'Inflation t-2', 'Inflation t-1', 'Inflation t', 'Inflation t+1', 'Inflation t+2']\n",
      "x shape is: torch.Size([32, 13])\n",
      "y shape is: torch.Size([32])\n",
      "input shape is: torch.Size([32, 13])\n",
      "All items\n",
      "the number of columns is: 14\n",
      "the columns: ['Inflation t-11', 'Inflation t-10', 'Inflation t-9', 'Inflation t-8', 'Inflation t-7', 'Inflation t-6', 'Inflation t-5', 'Inflation t-4', 'Inflation t-3', 'Inflation t-2', 'Inflation t-1', 'Inflation t', 'Inflation t+1', 'Inflation t+2']\n",
      "x shape is: torch.Size([32, 13])\n",
      "y shape is: torch.Size([32])\n",
      "input shape is: torch.Size([32, 13])\n",
      "All items less energy\n",
      "the number of columns is: 14\n",
      "the columns: ['Inflation t-11', 'Inflation t-10', 'Inflation t-9', 'Inflation t-8', 'Inflation t-7', 'Inflation t-6', 'Inflation t-5', 'Inflation t-4', 'Inflation t-3', 'Inflation t-2', 'Inflation t-1', 'Inflation t', 'Inflation t+1', 'Inflation t+2']\n",
      "x shape is: torch.Size([32, 13])\n",
      "y shape is: torch.Size([32])\n",
      "input shape is: torch.Size([32, 13])\n",
      "All items less food\n",
      "the number of columns is: 14\n",
      "the columns: ['Inflation t-11', 'Inflation t-10', 'Inflation t-9', 'Inflation t-8', 'Inflation t-7', 'Inflation t-6', 'Inflation t-5', 'Inflation t-4', 'Inflation t-3', 'Inflation t-2', 'Inflation t-1', 'Inflation t', 'Inflation t+1', 'Inflation t+2']\n",
      "x shape is: torch.Size([32, 13])\n",
      "y shape is: torch.Size([32])\n",
      "input shape is: torch.Size([32, 13])\n",
      "All items less food and energy\n",
      "the number of columns is: 14\n",
      "the columns: ['Inflation t-11', 'Inflation t-10', 'Inflation t-9', 'Inflation t-8', 'Inflation t-7', 'Inflation t-6', 'Inflation t-5', 'Inflation t-4', 'Inflation t-3', 'Inflation t-2', 'Inflation t-1', 'Inflation t', 'Inflation t+1', 'Inflation t+2']\n",
      "x shape is: torch.Size([32, 13])\n",
      "y shape is: torch.Size([32])\n",
      "input shape is: torch.Size([32, 13])\n",
      "All items less food and shelter\n",
      "the number of columns is: 14\n",
      "the columns: ['Inflation t-11', 'Inflation t-10', 'Inflation t-9', 'Inflation t-8', 'Inflation t-7', 'Inflation t-6', 'Inflation t-5', 'Inflation t-4', 'Inflation t-3', 'Inflation t-2', 'Inflation t-1', 'Inflation t', 'Inflation t+1', 'Inflation t+2']\n",
      "x shape is: torch.Size([32, 13])\n",
      "y shape is: torch.Size([32])\n",
      "input shape is: torch.Size([32, 13])\n",
      "All items less food, shelter, and energy\n",
      "the number of columns is: 14\n",
      "the columns: ['Inflation t-11', 'Inflation t-10', 'Inflation t-9', 'Inflation t-8', 'Inflation t-7', 'Inflation t-6', 'Inflation t-5', 'Inflation t-4', 'Inflation t-3', 'Inflation t-2', 'Inflation t-1', 'Inflation t', 'Inflation t+1', 'Inflation t+2']\n",
      "x shape is: torch.Size([32, 13])\n",
      "y shape is: torch.Size([32])\n",
      "input shape is: torch.Size([32, 13])\n",
      "All items less food, shelter, energy, and used cars and trucks\n",
      "the number of columns is: 14\n",
      "the columns: ['Inflation t-11', 'Inflation t-10', 'Inflation t-9', 'Inflation t-8', 'Inflation t-7', 'Inflation t-6', 'Inflation t-5', 'Inflation t-4', 'Inflation t-3', 'Inflation t-2', 'Inflation t-1', 'Inflation t', 'Inflation t+1', 'Inflation t+2']\n",
      "x shape is: torch.Size([32, 13])\n",
      "y shape is: torch.Size([32])\n",
      "input shape is: torch.Size([32, 13])\n",
      "All items less medical care\n",
      "the number of columns is: 14\n",
      "the columns: ['Inflation t-11', 'Inflation t-10', 'Inflation t-9', 'Inflation t-8', 'Inflation t-7', 'Inflation t-6', 'Inflation t-5', 'Inflation t-4', 'Inflation t-3', 'Inflation t-2', 'Inflation t-1', 'Inflation t', 'Inflation t+1', 'Inflation t+2']\n",
      "x shape is: torch.Size([32, 13])\n",
      "y shape is: torch.Size([32])\n",
      "input shape is: torch.Size([32, 13])\n",
      "All items less shelter\n",
      "the number of columns is: 14\n",
      "the columns: ['Inflation t-11', 'Inflation t-10', 'Inflation t-9', 'Inflation t-8', 'Inflation t-7', 'Inflation t-6', 'Inflation t-5', 'Inflation t-4', 'Inflation t-3', 'Inflation t-2', 'Inflation t-1', 'Inflation t', 'Inflation t+1', 'Inflation t+2']\n",
      "x shape is: torch.Size([32, 13])\n",
      "y shape is: torch.Size([32])\n",
      "input shape is: torch.Size([32, 13])\n",
      "Apparel less footwear\n",
      "the number of columns is: 14\n",
      "the columns: ['Inflation t-11', 'Inflation t-10', 'Inflation t-9', 'Inflation t-8', 'Inflation t-7', 'Inflation t-6', 'Inflation t-5', 'Inflation t-4', 'Inflation t-3', 'Inflation t-2', 'Inflation t-1', 'Inflation t', 'Inflation t+1', 'Inflation t+2']\n",
      "x shape is: torch.Size([32, 13])\n",
      "y shape is: torch.Size([32])\n",
      "input shape is: torch.Size([32, 13])\n",
      "Commodities\n",
      "the number of columns is: 14\n",
      "the columns: ['Inflation t-11', 'Inflation t-10', 'Inflation t-9', 'Inflation t-8', 'Inflation t-7', 'Inflation t-6', 'Inflation t-5', 'Inflation t-4', 'Inflation t-3', 'Inflation t-2', 'Inflation t-1', 'Inflation t', 'Inflation t+1', 'Inflation t+2']\n",
      "x shape is: torch.Size([32, 13])\n",
      "y shape is: torch.Size([32])\n",
      "input shape is: torch.Size([32, 13])\n",
      "Durables\n",
      "the number of columns is: 14\n",
      "the columns: ['Inflation t-11', 'Inflation t-10', 'Inflation t-9', 'Inflation t-8', 'Inflation t-7', 'Inflation t-6', 'Inflation t-5', 'Inflation t-4', 'Inflation t-3', 'Inflation t-2', 'Inflation t-1', 'Inflation t', 'Inflation t+1', 'Inflation t+2']\n",
      "x shape is: torch.Size([32, 13])\n",
      "y shape is: torch.Size([32])\n",
      "input shape is: torch.Size([32, 13])\n",
      "Education and communication\n",
      "the number of columns is: 14\n",
      "the columns: ['Inflation t-11', 'Inflation t-10', 'Inflation t-9', 'Inflation t-8', 'Inflation t-7', 'Inflation t-6', 'Inflation t-5', 'Inflation t-4', 'Inflation t-3', 'Inflation t-2', 'Inflation t-1', 'Inflation t', 'Inflation t+1', 'Inflation t+2']\n",
      "x shape is: torch.Size([32, 13])\n",
      "y shape is: torch.Size([32])\n",
      "input shape is: torch.Size([32, 13])\n",
      "Energy\n",
      "the number of columns is: 14\n",
      "the columns: ['Inflation t-11', 'Inflation t-10', 'Inflation t-9', 'Inflation t-8', 'Inflation t-7', 'Inflation t-6', 'Inflation t-5', 'Inflation t-4', 'Inflation t-3', 'Inflation t-2', 'Inflation t-1', 'Inflation t', 'Inflation t+1', 'Inflation t+2']\n",
      "x shape is: torch.Size([32, 13])\n",
      "y shape is: torch.Size([32])\n",
      "input shape is: torch.Size([32, 13])\n",
      "Food\n",
      "the number of columns is: 14\n",
      "the columns: ['Inflation t-11', 'Inflation t-10', 'Inflation t-9', 'Inflation t-8', 'Inflation t-7', 'Inflation t-6', 'Inflation t-5', 'Inflation t-4', 'Inflation t-3', 'Inflation t-2', 'Inflation t-1', 'Inflation t', 'Inflation t+1', 'Inflation t+2']\n",
      "x shape is: torch.Size([32, 13])\n",
      "y shape is: torch.Size([32])\n",
      "input shape is: torch.Size([32, 13])\n",
      "Food and beverages\n",
      "the number of columns is: 14\n",
      "the columns: ['Inflation t-11', 'Inflation t-10', 'Inflation t-9', 'Inflation t-8', 'Inflation t-7', 'Inflation t-6', 'Inflation t-5', 'Inflation t-4', 'Inflation t-3', 'Inflation t-2', 'Inflation t-1', 'Inflation t', 'Inflation t+1', 'Inflation t+2']\n",
      "x shape is: torch.Size([32, 13])\n",
      "y shape is: torch.Size([32])\n",
      "input shape is: torch.Size([32, 13])\n",
      "Fuels and utilities\n",
      "the number of columns is: 14\n",
      "the columns: ['Inflation t-11', 'Inflation t-10', 'Inflation t-9', 'Inflation t-8', 'Inflation t-7', 'Inflation t-6', 'Inflation t-5', 'Inflation t-4', 'Inflation t-3', 'Inflation t-2', 'Inflation t-1', 'Inflation t', 'Inflation t+1', 'Inflation t+2']\n",
      "x shape is: torch.Size([32, 13])\n",
      "y shape is: torch.Size([32])\n",
      "input shape is: torch.Size([32, 13])\n",
      "Household furnishings and operations\n",
      "the number of columns is: 14\n",
      "the columns: ['Inflation t-11', 'Inflation t-10', 'Inflation t-9', 'Inflation t-8', 'Inflation t-7', 'Inflation t-6', 'Inflation t-5', 'Inflation t-4', 'Inflation t-3', 'Inflation t-2', 'Inflation t-1', 'Inflation t', 'Inflation t+1', 'Inflation t+2']\n",
      "x shape is: torch.Size([32, 13])\n",
      "y shape is: torch.Size([32])\n",
      "input shape is: torch.Size([32, 13])\n",
      "Housing\n",
      "the number of columns is: 14\n",
      "the columns: ['Inflation t-11', 'Inflation t-10', 'Inflation t-9', 'Inflation t-8', 'Inflation t-7', 'Inflation t-6', 'Inflation t-5', 'Inflation t-4', 'Inflation t-3', 'Inflation t-2', 'Inflation t-1', 'Inflation t', 'Inflation t+1', 'Inflation t+2']\n",
      "x shape is: torch.Size([32, 13])\n",
      "y shape is: torch.Size([32])\n",
      "input shape is: torch.Size([32, 13])\n",
      "Medical care\n",
      "the number of columns is: 14\n",
      "the columns: ['Inflation t-11', 'Inflation t-10', 'Inflation t-9', 'Inflation t-8', 'Inflation t-7', 'Inflation t-6', 'Inflation t-5', 'Inflation t-4', 'Inflation t-3', 'Inflation t-2', 'Inflation t-1', 'Inflation t', 'Inflation t+1', 'Inflation t+2']\n",
      "x shape is: torch.Size([32, 13])\n",
      "y shape is: torch.Size([32])\n",
      "input shape is: torch.Size([32, 13])\n",
      "Nondurables\n",
      "the number of columns is: 14\n",
      "the columns: ['Inflation t-11', 'Inflation t-10', 'Inflation t-9', 'Inflation t-8', 'Inflation t-7', 'Inflation t-6', 'Inflation t-5', 'Inflation t-4', 'Inflation t-3', 'Inflation t-2', 'Inflation t-1', 'Inflation t', 'Inflation t+1', 'Inflation t+2']\n",
      "x shape is: torch.Size([32, 13])\n",
      "y shape is: torch.Size([32])\n",
      "input shape is: torch.Size([32, 13])\n",
      "Other goods and services\n",
      "the number of columns is: 14\n",
      "the columns: ['Inflation t-11', 'Inflation t-10', 'Inflation t-9', 'Inflation t-8', 'Inflation t-7', 'Inflation t-6', 'Inflation t-5', 'Inflation t-4', 'Inflation t-3', 'Inflation t-2', 'Inflation t-1', 'Inflation t', 'Inflation t+1', 'Inflation t+2']\n",
      "x shape is: torch.Size([32, 13])\n",
      "y shape is: torch.Size([32])\n",
      "input shape is: torch.Size([32, 13])\n",
      "Other services\n",
      "the number of columns is: 14\n",
      "the columns: ['Inflation t-11', 'Inflation t-10', 'Inflation t-9', 'Inflation t-8', 'Inflation t-7', 'Inflation t-6', 'Inflation t-5', 'Inflation t-4', 'Inflation t-3', 'Inflation t-2', 'Inflation t-1', 'Inflation t', 'Inflation t+1', 'Inflation t+2']\n",
      "x shape is: torch.Size([32, 13])\n",
      "y shape is: torch.Size([32])\n",
      "input shape is: torch.Size([32, 13])\n",
      "Recreation\n",
      "the number of columns is: 14\n",
      "the columns: ['Inflation t-11', 'Inflation t-10', 'Inflation t-9', 'Inflation t-8', 'Inflation t-7', 'Inflation t-6', 'Inflation t-5', 'Inflation t-4', 'Inflation t-3', 'Inflation t-2', 'Inflation t-1', 'Inflation t', 'Inflation t+1', 'Inflation t+2']\n",
      "x shape is: torch.Size([32, 13])\n",
      "y shape is: torch.Size([32])\n",
      "input shape is: torch.Size([32, 13])\n",
      "Services\n",
      "the number of columns is: 14\n",
      "the columns: ['Inflation t-11', 'Inflation t-10', 'Inflation t-9', 'Inflation t-8', 'Inflation t-7', 'Inflation t-6', 'Inflation t-5', 'Inflation t-4', 'Inflation t-3', 'Inflation t-2', 'Inflation t-1', 'Inflation t', 'Inflation t+1', 'Inflation t+2']\n",
      "x shape is: torch.Size([32, 13])\n",
      "y shape is: torch.Size([32])\n",
      "input shape is: torch.Size([32, 13])\n",
      "Transportation\n",
      "the number of columns is: 14\n",
      "the columns: ['Inflation t-11', 'Inflation t-10', 'Inflation t-9', 'Inflation t-8', 'Inflation t-7', 'Inflation t-6', 'Inflation t-5', 'Inflation t-4', 'Inflation t-3', 'Inflation t-2', 'Inflation t-1', 'Inflation t', 'Inflation t+1', 'Inflation t+2']\n",
      "x shape is: torch.Size([32, 13])\n",
      "y shape is: torch.Size([32])\n",
      "input shape is: torch.Size([32, 13])\n",
      "Utilities and public transportation\n",
      "the number of columns is: 14\n",
      "the columns: ['Inflation t-11', 'Inflation t-10', 'Inflation t-9', 'Inflation t-8', 'Inflation t-7', 'Inflation t-6', 'Inflation t-5', 'Inflation t-4', 'Inflation t-3', 'Inflation t-2', 'Inflation t-1', 'Inflation t', 'Inflation t+1', 'Inflation t+2']\n",
      "x shape is: torch.Size([32, 13])\n",
      "y shape is: torch.Size([32])\n",
      "input shape is: torch.Size([32, 13])\n",
      "Commodities less food\n",
      "the number of columns is: 14\n",
      "the columns: ['Inflation t-11', 'Inflation t-10', 'Inflation t-9', 'Inflation t-8', 'Inflation t-7', 'Inflation t-6', 'Inflation t-5', 'Inflation t-4', 'Inflation t-3', 'Inflation t-2', 'Inflation t-1', 'Inflation t', 'Inflation t+1', 'Inflation t+2']\n",
      "x shape is: torch.Size([32, 13])\n",
      "y shape is: torch.Size([32])\n",
      "input shape is: torch.Size([32, 13])\n",
      "Commodities less food and beverages\n",
      "the number of columns is: 14\n",
      "the columns: ['Inflation t-11', 'Inflation t-10', 'Inflation t-9', 'Inflation t-8', 'Inflation t-7', 'Inflation t-6', 'Inflation t-5', 'Inflation t-4', 'Inflation t-3', 'Inflation t-2', 'Inflation t-1', 'Inflation t', 'Inflation t+1', 'Inflation t+2']\n",
      "x shape is: torch.Size([32, 13])\n",
      "y shape is: torch.Size([32])\n",
      "input shape is: torch.Size([32, 13])\n",
      "Commodities less food and energy commodities\n",
      "the number of columns is: 14\n",
      "the columns: ['Inflation t-11', 'Inflation t-10', 'Inflation t-9', 'Inflation t-8', 'Inflation t-7', 'Inflation t-6', 'Inflation t-5', 'Inflation t-4', 'Inflation t-3', 'Inflation t-2', 'Inflation t-1', 'Inflation t', 'Inflation t+1', 'Inflation t+2']\n",
      "x shape is: torch.Size([32, 13])\n",
      "y shape is: torch.Size([32])\n",
      "input shape is: torch.Size([32, 13])\n",
      "Commodities less food, energy, and used cars and trucks\n",
      "the number of columns is: 14\n",
      "the columns: ['Inflation t-11', 'Inflation t-10', 'Inflation t-9', 'Inflation t-8', 'Inflation t-7', 'Inflation t-6', 'Inflation t-5', 'Inflation t-4', 'Inflation t-3', 'Inflation t-2', 'Inflation t-1', 'Inflation t', 'Inflation t+1', 'Inflation t+2']\n",
      "x shape is: torch.Size([32, 13])\n",
      "y shape is: torch.Size([32])\n",
      "input shape is: torch.Size([32, 13])\n",
      "Communication\n",
      "the number of columns is: 14\n",
      "the columns: ['Inflation t-11', 'Inflation t-10', 'Inflation t-9', 'Inflation t-8', 'Inflation t-7', 'Inflation t-6', 'Inflation t-5', 'Inflation t-4', 'Inflation t-3', 'Inflation t-2', 'Inflation t-1', 'Inflation t', 'Inflation t+1', 'Inflation t+2']\n",
      "x shape is: torch.Size([32, 13])\n",
      "y shape is: torch.Size([32])\n",
      "input shape is: torch.Size([32, 13])\n",
      "Domestically produced farm food\n",
      "the number of columns is: 14\n",
      "the columns: ['Inflation t-11', 'Inflation t-10', 'Inflation t-9', 'Inflation t-8', 'Inflation t-7', 'Inflation t-6', 'Inflation t-5', 'Inflation t-4', 'Inflation t-3', 'Inflation t-2', 'Inflation t-1', 'Inflation t', 'Inflation t+1', 'Inflation t+2']\n",
      "x shape is: torch.Size([32, 13])\n",
      "y shape is: torch.Size([32])\n",
      "input shape is: torch.Size([32, 13])\n",
      "Education\n",
      "the number of columns is: 14\n",
      "the columns: ['Inflation t-11', 'Inflation t-10', 'Inflation t-9', 'Inflation t-8', 'Inflation t-7', 'Inflation t-6', 'Inflation t-5', 'Inflation t-4', 'Inflation t-3', 'Inflation t-2', 'Inflation t-1', 'Inflation t', 'Inflation t+1', 'Inflation t+2']\n",
      "x shape is: torch.Size([32, 13])\n",
      "y shape is: torch.Size([32])\n",
      "input shape is: torch.Size([32, 13])\n",
      "Energy commodities\n",
      "the number of columns is: 14\n",
      "the columns: ['Inflation t-11', 'Inflation t-10', 'Inflation t-9', 'Inflation t-8', 'Inflation t-7', 'Inflation t-6', 'Inflation t-5', 'Inflation t-4', 'Inflation t-3', 'Inflation t-2', 'Inflation t-1', 'Inflation t', 'Inflation t+1', 'Inflation t+2']\n",
      "x shape is: torch.Size([32, 13])\n",
      "y shape is: torch.Size([32])\n",
      "input shape is: torch.Size([32, 13])\n",
      "Energy services\n",
      "the number of columns is: 14\n",
      "the columns: ['Inflation t-11', 'Inflation t-10', 'Inflation t-9', 'Inflation t-8', 'Inflation t-7', 'Inflation t-6', 'Inflation t-5', 'Inflation t-4', 'Inflation t-3', 'Inflation t-2', 'Inflation t-1', 'Inflation t', 'Inflation t+1', 'Inflation t+2']\n",
      "x shape is: torch.Size([32, 13])\n",
      "y shape is: torch.Size([32])\n",
      "input shape is: torch.Size([32, 13])\n",
      "Food at home\n",
      "the number of columns is: 14\n",
      "the columns: ['Inflation t-11', 'Inflation t-10', 'Inflation t-9', 'Inflation t-8', 'Inflation t-7', 'Inflation t-6', 'Inflation t-5', 'Inflation t-4', 'Inflation t-3', 'Inflation t-2', 'Inflation t-1', 'Inflation t', 'Inflation t+1', 'Inflation t+2']\n",
      "x shape is: torch.Size([32, 13])\n",
      "y shape is: torch.Size([32])\n",
      "input shape is: torch.Size([32, 13])\n",
      "Food away from home\n",
      "the number of columns is: 14\n",
      "the columns: ['Inflation t-11', 'Inflation t-10', 'Inflation t-9', 'Inflation t-8', 'Inflation t-7', 'Inflation t-6', 'Inflation t-5', 'Inflation t-4', 'Inflation t-3', 'Inflation t-2', 'Inflation t-1', 'Inflation t', 'Inflation t+1', 'Inflation t+2']\n",
      "x shape is: torch.Size([32, 13])\n",
      "y shape is: torch.Size([32])\n",
      "input shape is: torch.Size([32, 13])\n",
      "Household energy\n",
      "the number of columns is: 14\n",
      "the columns: ['Inflation t-11', 'Inflation t-10', 'Inflation t-9', 'Inflation t-8', 'Inflation t-7', 'Inflation t-6', 'Inflation t-5', 'Inflation t-4', 'Inflation t-3', 'Inflation t-2', 'Inflation t-1', 'Inflation t', 'Inflation t+1', 'Inflation t+2']\n",
      "x shape is: torch.Size([32, 13])\n",
      "y shape is: torch.Size([32])\n",
      "input shape is: torch.Size([32, 13])\n",
      "Nondurables less food\n",
      "the number of columns is: 14\n",
      "the columns: ['Inflation t-11', 'Inflation t-10', 'Inflation t-9', 'Inflation t-8', 'Inflation t-7', 'Inflation t-6', 'Inflation t-5', 'Inflation t-4', 'Inflation t-3', 'Inflation t-2', 'Inflation t-1', 'Inflation t', 'Inflation t+1', 'Inflation t+2']\n",
      "x shape is: torch.Size([32, 13])\n",
      "y shape is: torch.Size([32])\n",
      "input shape is: torch.Size([32, 13])\n",
      "Nondurables less food and apparel\n",
      "the number of columns is: 14\n",
      "the columns: ['Inflation t-11', 'Inflation t-10', 'Inflation t-9', 'Inflation t-8', 'Inflation t-7', 'Inflation t-6', 'Inflation t-5', 'Inflation t-4', 'Inflation t-3', 'Inflation t-2', 'Inflation t-1', 'Inflation t', 'Inflation t+1', 'Inflation t+2']\n",
      "x shape is: torch.Size([32, 13])\n",
      "y shape is: torch.Size([32])\n",
      "input shape is: torch.Size([32, 13])\n",
      "Nondurables less food and beverages\n",
      "the number of columns is: 14\n",
      "the columns: ['Inflation t-11', 'Inflation t-10', 'Inflation t-9', 'Inflation t-8', 'Inflation t-7', 'Inflation t-6', 'Inflation t-5', 'Inflation t-4', 'Inflation t-3', 'Inflation t-2', 'Inflation t-1', 'Inflation t', 'Inflation t+1', 'Inflation t+2']\n",
      "x shape is: torch.Size([32, 13])\n",
      "y shape is: torch.Size([32])\n",
      "input shape is: torch.Size([32, 13])\n",
      "Nondurables less food, beverages, and apparel\n",
      "the number of columns is: 14\n",
      "the columns: ['Inflation t-11', 'Inflation t-10', 'Inflation t-9', 'Inflation t-8', 'Inflation t-7', 'Inflation t-6', 'Inflation t-5', 'Inflation t-4', 'Inflation t-3', 'Inflation t-2', 'Inflation t-1', 'Inflation t', 'Inflation t+1', 'Inflation t+2']\n",
      "x shape is: torch.Size([32, 13])\n",
      "y shape is: torch.Size([32])\n",
      "input shape is: torch.Size([32, 13])\n",
      "Personal care\n",
      "the number of columns is: 14\n",
      "the columns: ['Inflation t-11', 'Inflation t-10', 'Inflation t-9', 'Inflation t-8', 'Inflation t-7', 'Inflation t-6', 'Inflation t-5', 'Inflation t-4', 'Inflation t-3', 'Inflation t-2', 'Inflation t-1', 'Inflation t', 'Inflation t+1', 'Inflation t+2']\n",
      "x shape is: torch.Size([32, 13])\n",
      "y shape is: torch.Size([32])\n",
      "input shape is: torch.Size([32, 13])\n",
      "Pets, pet products and services\n",
      "the number of columns is: 14\n",
      "the columns: ['Inflation t-11', 'Inflation t-10', 'Inflation t-9', 'Inflation t-8', 'Inflation t-7', 'Inflation t-6', 'Inflation t-5', 'Inflation t-4', 'Inflation t-3', 'Inflation t-2', 'Inflation t-1', 'Inflation t', 'Inflation t+1', 'Inflation t+2']\n",
      "x shape is: torch.Size([32, 13])\n",
      "y shape is: torch.Size([32])\n",
      "input shape is: torch.Size([32, 13])\n",
      "Photography\n",
      "the number of columns is: 14\n",
      "the columns: ['Inflation t-11', 'Inflation t-10', 'Inflation t-9', 'Inflation t-8', 'Inflation t-7', 'Inflation t-6', 'Inflation t-5', 'Inflation t-4', 'Inflation t-3', 'Inflation t-2', 'Inflation t-1', 'Inflation t', 'Inflation t+1', 'Inflation t+2']\n",
      "x shape is: torch.Size([32, 13])\n",
      "y shape is: torch.Size([32])\n",
      "input shape is: torch.Size([32, 13])\n",
      "Private transportation\n",
      "the number of columns is: 14\n",
      "the columns: ['Inflation t-11', 'Inflation t-10', 'Inflation t-9', 'Inflation t-8', 'Inflation t-7', 'Inflation t-6', 'Inflation t-5', 'Inflation t-4', 'Inflation t-3', 'Inflation t-2', 'Inflation t-1', 'Inflation t', 'Inflation t+1', 'Inflation t+2']\n",
      "x shape is: torch.Size([32, 13])\n",
      "y shape is: torch.Size([32])\n",
      "input shape is: torch.Size([32, 13])\n",
      "Services less energy services\n",
      "the number of columns is: 14\n",
      "the columns: ['Inflation t-11', 'Inflation t-10', 'Inflation t-9', 'Inflation t-8', 'Inflation t-7', 'Inflation t-6', 'Inflation t-5', 'Inflation t-4', 'Inflation t-3', 'Inflation t-2', 'Inflation t-1', 'Inflation t', 'Inflation t+1', 'Inflation t+2']\n",
      "x shape is: torch.Size([32, 13])\n",
      "y shape is: torch.Size([32])\n",
      "input shape is: torch.Size([32, 13])\n",
      "Services less medical care services\n",
      "the number of columns is: 14\n",
      "the columns: ['Inflation t-11', 'Inflation t-10', 'Inflation t-9', 'Inflation t-8', 'Inflation t-7', 'Inflation t-6', 'Inflation t-5', 'Inflation t-4', 'Inflation t-3', 'Inflation t-2', 'Inflation t-1', 'Inflation t', 'Inflation t+1', 'Inflation t+2']\n",
      "x shape is: torch.Size([32, 13])\n",
      "y shape is: torch.Size([32])\n",
      "input shape is: torch.Size([32, 13])\n",
      "Services less rent of shelter\n",
      "the number of columns is: 14\n",
      "the columns: ['Inflation t-11', 'Inflation t-10', 'Inflation t-9', 'Inflation t-8', 'Inflation t-7', 'Inflation t-6', 'Inflation t-5', 'Inflation t-4', 'Inflation t-3', 'Inflation t-2', 'Inflation t-1', 'Inflation t', 'Inflation t+1', 'Inflation t+2']\n",
      "x shape is: torch.Size([32, 13])\n",
      "y shape is: torch.Size([32])\n",
      "input shape is: torch.Size([32, 13])\n",
      "Video and audio\n",
      "the number of columns is: 14\n",
      "the columns: ['Inflation t-11', 'Inflation t-10', 'Inflation t-9', 'Inflation t-8', 'Inflation t-7', 'Inflation t-6', 'Inflation t-5', 'Inflation t-4', 'Inflation t-3', 'Inflation t-2', 'Inflation t-1', 'Inflation t', 'Inflation t+1', 'Inflation t+2']\n",
      "x shape is: torch.Size([32, 13])\n",
      "y shape is: torch.Size([32])\n",
      "input shape is: torch.Size([32, 13])\n",
      "the horizon is: 2\n",
      "Alcoholic beverages\n",
      "the number of columns is: 14\n",
      "the columns: ['Inflation t-10', 'Inflation t-9', 'Inflation t-8', 'Inflation t-7', 'Inflation t-6', 'Inflation t-5', 'Inflation t-4', 'Inflation t-3', 'Inflation t-2', 'Inflation t-1', 'Inflation t', 'Inflation t+1', 'Inflation t+2', 'Inflation t+3']\n",
      "x shape is: torch.Size([32, 13])\n",
      "y shape is: torch.Size([32])\n",
      "input shape is: torch.Size([32, 13])\n",
      "Apparel\n",
      "the number of columns is: 14\n",
      "the columns: ['Inflation t-10', 'Inflation t-9', 'Inflation t-8', 'Inflation t-7', 'Inflation t-6', 'Inflation t-5', 'Inflation t-4', 'Inflation t-3', 'Inflation t-2', 'Inflation t-1', 'Inflation t', 'Inflation t+1', 'Inflation t+2', 'Inflation t+3']\n",
      "x shape is: torch.Size([32, 13])\n",
      "y shape is: torch.Size([32])\n",
      "input shape is: torch.Size([32, 13])\n",
      "Cereals and bakery products\n",
      "the number of columns is: 14\n",
      "the columns: ['Inflation t-10', 'Inflation t-9', 'Inflation t-8', 'Inflation t-7', 'Inflation t-6', 'Inflation t-5', 'Inflation t-4', 'Inflation t-3', 'Inflation t-2', 'Inflation t-1', 'Inflation t', 'Inflation t+1', 'Inflation t+2', 'Inflation t+3']\n",
      "x shape is: torch.Size([32, 13])\n",
      "y shape is: torch.Size([32])\n",
      "input shape is: torch.Size([32, 13])\n",
      "Dairy and related products\n",
      "the number of columns is: 14\n",
      "the columns: ['Inflation t-10', 'Inflation t-9', 'Inflation t-8', 'Inflation t-7', 'Inflation t-6', 'Inflation t-5', 'Inflation t-4', 'Inflation t-3', 'Inflation t-2', 'Inflation t-1', 'Inflation t', 'Inflation t+1', 'Inflation t+2', 'Inflation t+3']\n",
      "x shape is: torch.Size([32, 13])\n",
      "y shape is: torch.Size([32])\n",
      "input shape is: torch.Size([32, 13])\n",
      "Education and communication commodities\n",
      "the number of columns is: 14\n",
      "the columns: ['Inflation t-10', 'Inflation t-9', 'Inflation t-8', 'Inflation t-7', 'Inflation t-6', 'Inflation t-5', 'Inflation t-4', 'Inflation t-3', 'Inflation t-2', 'Inflation t-1', 'Inflation t', 'Inflation t+1', 'Inflation t+2', 'Inflation t+3']\n",
      "x shape is: torch.Size([32, 13])\n",
      "y shape is: torch.Size([32])\n",
      "input shape is: torch.Size([32, 13])\n",
      "Electricity\n",
      "the number of columns is: 14\n",
      "the columns: ['Inflation t-10', 'Inflation t-9', 'Inflation t-8', 'Inflation t-7', 'Inflation t-6', 'Inflation t-5', 'Inflation t-4', 'Inflation t-3', 'Inflation t-2', 'Inflation t-1', 'Inflation t', 'Inflation t+1', 'Inflation t+2', 'Inflation t+3']\n",
      "x shape is: torch.Size([32, 13])\n",
      "y shape is: torch.Size([32])\n",
      "input shape is: torch.Size([32, 13])\n",
      "Food from vending machines and mobile vendors\n",
      "the number of columns is: 14\n",
      "the columns: ['Inflation t-10', 'Inflation t-9', 'Inflation t-8', 'Inflation t-7', 'Inflation t-6', 'Inflation t-5', 'Inflation t-4', 'Inflation t-3', 'Inflation t-2', 'Inflation t-1', 'Inflation t', 'Inflation t+1', 'Inflation t+2', 'Inflation t+3']\n",
      "x shape is: torch.Size([32, 13])\n",
      "y shape is: torch.Size([32])\n",
      "input shape is: torch.Size([32, 13])\n",
      "Fruits and vegetables\n",
      "the number of columns is: 14\n",
      "the columns: ['Inflation t-10', 'Inflation t-9', 'Inflation t-8', 'Inflation t-7', 'Inflation t-6', 'Inflation t-5', 'Inflation t-4', 'Inflation t-3', 'Inflation t-2', 'Inflation t-1', 'Inflation t', 'Inflation t+1', 'Inflation t+2', 'Inflation t+3']\n",
      "x shape is: torch.Size([32, 13])\n",
      "y shape is: torch.Size([32])\n",
      "input shape is: torch.Size([32, 13])\n",
      "Fuel oil and other fuels\n",
      "the number of columns is: 14\n",
      "the columns: ['Inflation t-10', 'Inflation t-9', 'Inflation t-8', 'Inflation t-7', 'Inflation t-6', 'Inflation t-5', 'Inflation t-4', 'Inflation t-3', 'Inflation t-2', 'Inflation t-1', 'Inflation t', 'Inflation t+1', 'Inflation t+2', 'Inflation t+3']\n",
      "x shape is: torch.Size([32, 13])\n",
      "y shape is: torch.Size([32])\n",
      "input shape is: torch.Size([32, 13])\n",
      "Full service meals and snacks\n",
      "the number of columns is: 14\n",
      "the columns: ['Inflation t-10', 'Inflation t-9', 'Inflation t-8', 'Inflation t-7', 'Inflation t-6', 'Inflation t-5', 'Inflation t-4', 'Inflation t-3', 'Inflation t-2', 'Inflation t-1', 'Inflation t', 'Inflation t+1', 'Inflation t+2', 'Inflation t+3']\n",
      "x shape is: torch.Size([32, 13])\n",
      "y shape is: torch.Size([32])\n",
      "input shape is: torch.Size([32, 13])\n",
      "Household furnishings and supplies\n",
      "the number of columns is: 14\n",
      "the columns: ['Inflation t-10', 'Inflation t-9', 'Inflation t-8', 'Inflation t-7', 'Inflation t-6', 'Inflation t-5', 'Inflation t-4', 'Inflation t-3', 'Inflation t-2', 'Inflation t-1', 'Inflation t', 'Inflation t+1', 'Inflation t+2', 'Inflation t+3']\n",
      "x shape is: torch.Size([32, 13])\n",
      "y shape is: torch.Size([32])\n",
      "input shape is: torch.Size([32, 13])\n",
      "Information and information processing\n",
      "the number of columns is: 14\n",
      "the columns: ['Inflation t-10', 'Inflation t-9', 'Inflation t-8', 'Inflation t-7', 'Inflation t-6', 'Inflation t-5', 'Inflation t-4', 'Inflation t-3', 'Inflation t-2', 'Inflation t-1', 'Inflation t', 'Inflation t+1', 'Inflation t+2', 'Inflation t+3']\n",
      "x shape is: torch.Size([32, 13])\n",
      "y shape is: torch.Size([32])\n",
      "input shape is: torch.Size([32, 13])\n",
      "Information technology, hardware and services\n",
      "the number of columns is: 14\n",
      "the columns: ['Inflation t-10', 'Inflation t-9', 'Inflation t-8', 'Inflation t-7', 'Inflation t-6', 'Inflation t-5', 'Inflation t-4', 'Inflation t-3', 'Inflation t-2', 'Inflation t-1', 'Inflation t', 'Inflation t+1', 'Inflation t+2', 'Inflation t+3']\n",
      "x shape is: torch.Size([32, 13])\n",
      "y shape is: torch.Size([32])\n",
      "input shape is: torch.Size([32, 13])\n",
      "Limited service meals and snacks\n",
      "the number of columns is: 14\n",
      "the columns: ['Inflation t-10', 'Inflation t-9', 'Inflation t-8', 'Inflation t-7', 'Inflation t-6', 'Inflation t-5', 'Inflation t-4', 'Inflation t-3', 'Inflation t-2', 'Inflation t-1', 'Inflation t', 'Inflation t+1', 'Inflation t+2', 'Inflation t+3']\n",
      "x shape is: torch.Size([32, 13])\n",
      "y shape is: torch.Size([32])\n",
      "input shape is: torch.Size([32, 13])\n",
      "Meats, poultry, fish, and eggs\n",
      "the number of columns is: 14\n",
      "the columns: ['Inflation t-10', 'Inflation t-9', 'Inflation t-8', 'Inflation t-7', 'Inflation t-6', 'Inflation t-5', 'Inflation t-4', 'Inflation t-3', 'Inflation t-2', 'Inflation t-1', 'Inflation t', 'Inflation t+1', 'Inflation t+2', 'Inflation t+3']\n",
      "x shape is: torch.Size([32, 13])\n",
      "y shape is: torch.Size([32])\n",
      "input shape is: torch.Size([32, 13])\n",
      "Medical care commodities\n",
      "the number of columns is: 14\n",
      "the columns: ['Inflation t-10', 'Inflation t-9', 'Inflation t-8', 'Inflation t-7', 'Inflation t-6', 'Inflation t-5', 'Inflation t-4', 'Inflation t-3', 'Inflation t-2', 'Inflation t-1', 'Inflation t', 'Inflation t+1', 'Inflation t+2', 'Inflation t+3']\n",
      "x shape is: torch.Size([32, 13])\n",
      "y shape is: torch.Size([32])\n",
      "input shape is: torch.Size([32, 13])\n",
      "Motor fuel\n",
      "the number of columns is: 14\n",
      "the columns: ['Inflation t-10', 'Inflation t-9', 'Inflation t-8', 'Inflation t-7', 'Inflation t-6', 'Inflation t-5', 'Inflation t-4', 'Inflation t-3', 'Inflation t-2', 'Inflation t-1', 'Inflation t', 'Inflation t+1', 'Inflation t+2', 'Inflation t+3']\n",
      "x shape is: torch.Size([32, 13])\n",
      "y shape is: torch.Size([32])\n",
      "input shape is: torch.Size([32, 13])\n",
      "New and used motor vehicles\n",
      "the number of columns is: 14\n",
      "the columns: ['Inflation t-10', 'Inflation t-9', 'Inflation t-8', 'Inflation t-7', 'Inflation t-6', 'Inflation t-5', 'Inflation t-4', 'Inflation t-3', 'Inflation t-2', 'Inflation t-1', 'Inflation t', 'Inflation t+1', 'Inflation t+2', 'Inflation t+3']\n",
      "x shape is: torch.Size([32, 13])\n",
      "y shape is: torch.Size([32])\n",
      "input shape is: torch.Size([32, 13])\n",
      "Nonalcoholic beverages and beverage materials\n",
      "the number of columns is: 14\n",
      "the columns: ['Inflation t-10', 'Inflation t-9', 'Inflation t-8', 'Inflation t-7', 'Inflation t-6', 'Inflation t-5', 'Inflation t-4', 'Inflation t-3', 'Inflation t-2', 'Inflation t-1', 'Inflation t', 'Inflation t+1', 'Inflation t+2', 'Inflation t+3']\n",
      "x shape is: torch.Size([32, 13])\n",
      "y shape is: torch.Size([32])\n",
      "input shape is: torch.Size([32, 13])\n",
      "Other food at home\n",
      "the number of columns is: 14\n",
      "the columns: ['Inflation t-10', 'Inflation t-9', 'Inflation t-8', 'Inflation t-7', 'Inflation t-6', 'Inflation t-5', 'Inflation t-4', 'Inflation t-3', 'Inflation t-2', 'Inflation t-1', 'Inflation t', 'Inflation t+1', 'Inflation t+2', 'Inflation t+3']\n",
      "x shape is: torch.Size([32, 13])\n",
      "y shape is: torch.Size([32])\n",
      "input shape is: torch.Size([32, 13])\n",
      "Other food away from home\n",
      "the number of columns is: 14\n",
      "the columns: ['Inflation t-10', 'Inflation t-9', 'Inflation t-8', 'Inflation t-7', 'Inflation t-6', 'Inflation t-5', 'Inflation t-4', 'Inflation t-3', 'Inflation t-2', 'Inflation t-1', 'Inflation t', 'Inflation t+1', 'Inflation t+2', 'Inflation t+3']\n",
      "x shape is: torch.Size([32, 13])\n",
      "y shape is: torch.Size([32])\n",
      "input shape is: torch.Size([32, 13])\n",
      "Other goods\n",
      "the number of columns is: 14\n",
      "the columns: ['Inflation t-10', 'Inflation t-9', 'Inflation t-8', 'Inflation t-7', 'Inflation t-6', 'Inflation t-5', 'Inflation t-4', 'Inflation t-3', 'Inflation t-2', 'Inflation t-1', 'Inflation t', 'Inflation t+1', 'Inflation t+2', 'Inflation t+3']\n",
      "x shape is: torch.Size([32, 13])\n",
      "y shape is: torch.Size([32])\n",
      "input shape is: torch.Size([32, 13])\n",
      "Recreation commodities\n",
      "the number of columns is: 14\n",
      "the columns: ['Inflation t-10', 'Inflation t-9', 'Inflation t-8', 'Inflation t-7', 'Inflation t-6', 'Inflation t-5', 'Inflation t-4', 'Inflation t-3', 'Inflation t-2', 'Inflation t-1', 'Inflation t', 'Inflation t+1', 'Inflation t+2', 'Inflation t+3']\n",
      "x shape is: torch.Size([32, 13])\n",
      "y shape is: torch.Size([32])\n",
      "input shape is: torch.Size([32, 13])\n",
      "Shelter\n",
      "the number of columns is: 14\n",
      "the columns: ['Inflation t-10', 'Inflation t-9', 'Inflation t-8', 'Inflation t-7', 'Inflation t-6', 'Inflation t-5', 'Inflation t-4', 'Inflation t-3', 'Inflation t-2', 'Inflation t-1', 'Inflation t', 'Inflation t+1', 'Inflation t+2', 'Inflation t+3']\n",
      "x shape is: torch.Size([32, 13])\n",
      "y shape is: torch.Size([32])\n",
      "input shape is: torch.Size([32, 13])\n",
      "Transportation commodities less motor fuel\n",
      "the number of columns is: 14\n",
      "the columns: ['Inflation t-10', 'Inflation t-9', 'Inflation t-8', 'Inflation t-7', 'Inflation t-6', 'Inflation t-5', 'Inflation t-4', 'Inflation t-3', 'Inflation t-2', 'Inflation t-1', 'Inflation t', 'Inflation t+1', 'Inflation t+2', 'Inflation t+3']\n",
      "x shape is: torch.Size([32, 13])\n",
      "y shape is: torch.Size([32])\n",
      "input shape is: torch.Size([32, 13])\n",
      "All items\n",
      "the number of columns is: 14\n",
      "the columns: ['Inflation t-10', 'Inflation t-9', 'Inflation t-8', 'Inflation t-7', 'Inflation t-6', 'Inflation t-5', 'Inflation t-4', 'Inflation t-3', 'Inflation t-2', 'Inflation t-1', 'Inflation t', 'Inflation t+1', 'Inflation t+2', 'Inflation t+3']\n",
      "x shape is: torch.Size([32, 13])\n",
      "y shape is: torch.Size([32])\n",
      "input shape is: torch.Size([32, 13])\n",
      "All items less energy\n",
      "the number of columns is: 14\n",
      "the columns: ['Inflation t-10', 'Inflation t-9', 'Inflation t-8', 'Inflation t-7', 'Inflation t-6', 'Inflation t-5', 'Inflation t-4', 'Inflation t-3', 'Inflation t-2', 'Inflation t-1', 'Inflation t', 'Inflation t+1', 'Inflation t+2', 'Inflation t+3']\n",
      "x shape is: torch.Size([32, 13])\n",
      "y shape is: torch.Size([32])\n",
      "input shape is: torch.Size([32, 13])\n",
      "All items less food\n",
      "the number of columns is: 14\n",
      "the columns: ['Inflation t-10', 'Inflation t-9', 'Inflation t-8', 'Inflation t-7', 'Inflation t-6', 'Inflation t-5', 'Inflation t-4', 'Inflation t-3', 'Inflation t-2', 'Inflation t-1', 'Inflation t', 'Inflation t+1', 'Inflation t+2', 'Inflation t+3']\n",
      "x shape is: torch.Size([32, 13])\n",
      "y shape is: torch.Size([32])\n",
      "input shape is: torch.Size([32, 13])\n",
      "All items less food and energy\n",
      "the number of columns is: 14\n",
      "the columns: ['Inflation t-10', 'Inflation t-9', 'Inflation t-8', 'Inflation t-7', 'Inflation t-6', 'Inflation t-5', 'Inflation t-4', 'Inflation t-3', 'Inflation t-2', 'Inflation t-1', 'Inflation t', 'Inflation t+1', 'Inflation t+2', 'Inflation t+3']\n",
      "x shape is: torch.Size([32, 13])\n",
      "y shape is: torch.Size([32])\n",
      "input shape is: torch.Size([32, 13])\n",
      "All items less food and shelter\n",
      "the number of columns is: 14\n",
      "the columns: ['Inflation t-10', 'Inflation t-9', 'Inflation t-8', 'Inflation t-7', 'Inflation t-6', 'Inflation t-5', 'Inflation t-4', 'Inflation t-3', 'Inflation t-2', 'Inflation t-1', 'Inflation t', 'Inflation t+1', 'Inflation t+2', 'Inflation t+3']\n",
      "x shape is: torch.Size([32, 13])\n",
      "y shape is: torch.Size([32])\n",
      "input shape is: torch.Size([32, 13])\n",
      "All items less food, shelter, and energy\n",
      "the number of columns is: 14\n",
      "the columns: ['Inflation t-10', 'Inflation t-9', 'Inflation t-8', 'Inflation t-7', 'Inflation t-6', 'Inflation t-5', 'Inflation t-4', 'Inflation t-3', 'Inflation t-2', 'Inflation t-1', 'Inflation t', 'Inflation t+1', 'Inflation t+2', 'Inflation t+3']\n",
      "x shape is: torch.Size([32, 13])\n",
      "y shape is: torch.Size([32])\n",
      "input shape is: torch.Size([32, 13])\n",
      "All items less food, shelter, energy, and used cars and trucks\n",
      "the number of columns is: 14\n",
      "the columns: ['Inflation t-10', 'Inflation t-9', 'Inflation t-8', 'Inflation t-7', 'Inflation t-6', 'Inflation t-5', 'Inflation t-4', 'Inflation t-3', 'Inflation t-2', 'Inflation t-1', 'Inflation t', 'Inflation t+1', 'Inflation t+2', 'Inflation t+3']\n",
      "x shape is: torch.Size([32, 13])\n",
      "y shape is: torch.Size([32])\n",
      "input shape is: torch.Size([32, 13])\n",
      "All items less medical care\n",
      "the number of columns is: 14\n",
      "the columns: ['Inflation t-10', 'Inflation t-9', 'Inflation t-8', 'Inflation t-7', 'Inflation t-6', 'Inflation t-5', 'Inflation t-4', 'Inflation t-3', 'Inflation t-2', 'Inflation t-1', 'Inflation t', 'Inflation t+1', 'Inflation t+2', 'Inflation t+3']\n",
      "x shape is: torch.Size([32, 13])\n",
      "y shape is: torch.Size([32])\n",
      "input shape is: torch.Size([32, 13])\n",
      "All items less shelter\n",
      "the number of columns is: 14\n",
      "the columns: ['Inflation t-10', 'Inflation t-9', 'Inflation t-8', 'Inflation t-7', 'Inflation t-6', 'Inflation t-5', 'Inflation t-4', 'Inflation t-3', 'Inflation t-2', 'Inflation t-1', 'Inflation t', 'Inflation t+1', 'Inflation t+2', 'Inflation t+3']\n",
      "x shape is: torch.Size([32, 13])\n",
      "y shape is: torch.Size([32])\n",
      "input shape is: torch.Size([32, 13])\n",
      "Apparel less footwear\n",
      "the number of columns is: 14\n",
      "the columns: ['Inflation t-10', 'Inflation t-9', 'Inflation t-8', 'Inflation t-7', 'Inflation t-6', 'Inflation t-5', 'Inflation t-4', 'Inflation t-3', 'Inflation t-2', 'Inflation t-1', 'Inflation t', 'Inflation t+1', 'Inflation t+2', 'Inflation t+3']\n",
      "x shape is: torch.Size([32, 13])\n",
      "y shape is: torch.Size([32])\n",
      "input shape is: torch.Size([32, 13])\n",
      "Commodities\n",
      "the number of columns is: 14\n",
      "the columns: ['Inflation t-10', 'Inflation t-9', 'Inflation t-8', 'Inflation t-7', 'Inflation t-6', 'Inflation t-5', 'Inflation t-4', 'Inflation t-3', 'Inflation t-2', 'Inflation t-1', 'Inflation t', 'Inflation t+1', 'Inflation t+2', 'Inflation t+3']\n",
      "x shape is: torch.Size([32, 13])\n",
      "y shape is: torch.Size([32])\n",
      "input shape is: torch.Size([32, 13])\n",
      "Durables\n",
      "the number of columns is: 14\n",
      "the columns: ['Inflation t-10', 'Inflation t-9', 'Inflation t-8', 'Inflation t-7', 'Inflation t-6', 'Inflation t-5', 'Inflation t-4', 'Inflation t-3', 'Inflation t-2', 'Inflation t-1', 'Inflation t', 'Inflation t+1', 'Inflation t+2', 'Inflation t+3']\n",
      "x shape is: torch.Size([32, 13])\n",
      "y shape is: torch.Size([32])\n",
      "input shape is: torch.Size([32, 13])\n",
      "Education and communication\n",
      "the number of columns is: 14\n",
      "the columns: ['Inflation t-10', 'Inflation t-9', 'Inflation t-8', 'Inflation t-7', 'Inflation t-6', 'Inflation t-5', 'Inflation t-4', 'Inflation t-3', 'Inflation t-2', 'Inflation t-1', 'Inflation t', 'Inflation t+1', 'Inflation t+2', 'Inflation t+3']\n",
      "x shape is: torch.Size([32, 13])\n",
      "y shape is: torch.Size([32])\n",
      "input shape is: torch.Size([32, 13])\n",
      "Energy\n",
      "the number of columns is: 14\n",
      "the columns: ['Inflation t-10', 'Inflation t-9', 'Inflation t-8', 'Inflation t-7', 'Inflation t-6', 'Inflation t-5', 'Inflation t-4', 'Inflation t-3', 'Inflation t-2', 'Inflation t-1', 'Inflation t', 'Inflation t+1', 'Inflation t+2', 'Inflation t+3']\n",
      "x shape is: torch.Size([32, 13])\n",
      "y shape is: torch.Size([32])\n",
      "input shape is: torch.Size([32, 13])\n",
      "Food\n",
      "the number of columns is: 14\n",
      "the columns: ['Inflation t-10', 'Inflation t-9', 'Inflation t-8', 'Inflation t-7', 'Inflation t-6', 'Inflation t-5', 'Inflation t-4', 'Inflation t-3', 'Inflation t-2', 'Inflation t-1', 'Inflation t', 'Inflation t+1', 'Inflation t+2', 'Inflation t+3']\n",
      "x shape is: torch.Size([32, 13])\n",
      "y shape is: torch.Size([32])\n",
      "input shape is: torch.Size([32, 13])\n",
      "Food and beverages\n",
      "the number of columns is: 14\n",
      "the columns: ['Inflation t-10', 'Inflation t-9', 'Inflation t-8', 'Inflation t-7', 'Inflation t-6', 'Inflation t-5', 'Inflation t-4', 'Inflation t-3', 'Inflation t-2', 'Inflation t-1', 'Inflation t', 'Inflation t+1', 'Inflation t+2', 'Inflation t+3']\n",
      "x shape is: torch.Size([32, 13])\n",
      "y shape is: torch.Size([32])\n",
      "input shape is: torch.Size([32, 13])\n",
      "Fuels and utilities\n",
      "the number of columns is: 14\n",
      "the columns: ['Inflation t-10', 'Inflation t-9', 'Inflation t-8', 'Inflation t-7', 'Inflation t-6', 'Inflation t-5', 'Inflation t-4', 'Inflation t-3', 'Inflation t-2', 'Inflation t-1', 'Inflation t', 'Inflation t+1', 'Inflation t+2', 'Inflation t+3']\n",
      "x shape is: torch.Size([32, 13])\n",
      "y shape is: torch.Size([32])\n",
      "input shape is: torch.Size([32, 13])\n",
      "Household furnishings and operations\n",
      "the number of columns is: 14\n",
      "the columns: ['Inflation t-10', 'Inflation t-9', 'Inflation t-8', 'Inflation t-7', 'Inflation t-6', 'Inflation t-5', 'Inflation t-4', 'Inflation t-3', 'Inflation t-2', 'Inflation t-1', 'Inflation t', 'Inflation t+1', 'Inflation t+2', 'Inflation t+3']\n",
      "x shape is: torch.Size([32, 13])\n",
      "y shape is: torch.Size([32])\n",
      "input shape is: torch.Size([32, 13])\n",
      "Housing\n",
      "the number of columns is: 14\n",
      "the columns: ['Inflation t-10', 'Inflation t-9', 'Inflation t-8', 'Inflation t-7', 'Inflation t-6', 'Inflation t-5', 'Inflation t-4', 'Inflation t-3', 'Inflation t-2', 'Inflation t-1', 'Inflation t', 'Inflation t+1', 'Inflation t+2', 'Inflation t+3']\n",
      "x shape is: torch.Size([32, 13])\n",
      "y shape is: torch.Size([32])\n",
      "input shape is: torch.Size([32, 13])\n",
      "Medical care\n",
      "the number of columns is: 14\n",
      "the columns: ['Inflation t-10', 'Inflation t-9', 'Inflation t-8', 'Inflation t-7', 'Inflation t-6', 'Inflation t-5', 'Inflation t-4', 'Inflation t-3', 'Inflation t-2', 'Inflation t-1', 'Inflation t', 'Inflation t+1', 'Inflation t+2', 'Inflation t+3']\n",
      "x shape is: torch.Size([32, 13])\n",
      "y shape is: torch.Size([32])\n",
      "input shape is: torch.Size([32, 13])\n",
      "Nondurables\n",
      "the number of columns is: 14\n",
      "the columns: ['Inflation t-10', 'Inflation t-9', 'Inflation t-8', 'Inflation t-7', 'Inflation t-6', 'Inflation t-5', 'Inflation t-4', 'Inflation t-3', 'Inflation t-2', 'Inflation t-1', 'Inflation t', 'Inflation t+1', 'Inflation t+2', 'Inflation t+3']\n",
      "x shape is: torch.Size([32, 13])\n",
      "y shape is: torch.Size([32])\n",
      "input shape is: torch.Size([32, 13])\n",
      "Other goods and services\n",
      "the number of columns is: 14\n",
      "the columns: ['Inflation t-10', 'Inflation t-9', 'Inflation t-8', 'Inflation t-7', 'Inflation t-6', 'Inflation t-5', 'Inflation t-4', 'Inflation t-3', 'Inflation t-2', 'Inflation t-1', 'Inflation t', 'Inflation t+1', 'Inflation t+2', 'Inflation t+3']\n",
      "x shape is: torch.Size([32, 13])\n",
      "y shape is: torch.Size([32])\n",
      "input shape is: torch.Size([32, 13])\n",
      "Other services\n",
      "the number of columns is: 14\n",
      "the columns: ['Inflation t-10', 'Inflation t-9', 'Inflation t-8', 'Inflation t-7', 'Inflation t-6', 'Inflation t-5', 'Inflation t-4', 'Inflation t-3', 'Inflation t-2', 'Inflation t-1', 'Inflation t', 'Inflation t+1', 'Inflation t+2', 'Inflation t+3']\n",
      "x shape is: torch.Size([32, 13])\n",
      "y shape is: torch.Size([32])\n",
      "input shape is: torch.Size([32, 13])\n",
      "Recreation\n",
      "the number of columns is: 14\n",
      "the columns: ['Inflation t-10', 'Inflation t-9', 'Inflation t-8', 'Inflation t-7', 'Inflation t-6', 'Inflation t-5', 'Inflation t-4', 'Inflation t-3', 'Inflation t-2', 'Inflation t-1', 'Inflation t', 'Inflation t+1', 'Inflation t+2', 'Inflation t+3']\n",
      "x shape is: torch.Size([32, 13])\n",
      "y shape is: torch.Size([32])\n",
      "input shape is: torch.Size([32, 13])\n",
      "Services\n",
      "the number of columns is: 14\n",
      "the columns: ['Inflation t-10', 'Inflation t-9', 'Inflation t-8', 'Inflation t-7', 'Inflation t-6', 'Inflation t-5', 'Inflation t-4', 'Inflation t-3', 'Inflation t-2', 'Inflation t-1', 'Inflation t', 'Inflation t+1', 'Inflation t+2', 'Inflation t+3']\n",
      "x shape is: torch.Size([32, 13])\n",
      "y shape is: torch.Size([32])\n",
      "input shape is: torch.Size([32, 13])\n",
      "Transportation\n",
      "the number of columns is: 14\n",
      "the columns: ['Inflation t-10', 'Inflation t-9', 'Inflation t-8', 'Inflation t-7', 'Inflation t-6', 'Inflation t-5', 'Inflation t-4', 'Inflation t-3', 'Inflation t-2', 'Inflation t-1', 'Inflation t', 'Inflation t+1', 'Inflation t+2', 'Inflation t+3']\n",
      "x shape is: torch.Size([32, 13])\n",
      "y shape is: torch.Size([32])\n",
      "input shape is: torch.Size([32, 13])\n",
      "Utilities and public transportation\n",
      "the number of columns is: 14\n",
      "the columns: ['Inflation t-10', 'Inflation t-9', 'Inflation t-8', 'Inflation t-7', 'Inflation t-6', 'Inflation t-5', 'Inflation t-4', 'Inflation t-3', 'Inflation t-2', 'Inflation t-1', 'Inflation t', 'Inflation t+1', 'Inflation t+2', 'Inflation t+3']\n",
      "x shape is: torch.Size([32, 13])\n",
      "y shape is: torch.Size([32])\n",
      "input shape is: torch.Size([32, 13])\n",
      "Commodities less food\n",
      "the number of columns is: 14\n",
      "the columns: ['Inflation t-10', 'Inflation t-9', 'Inflation t-8', 'Inflation t-7', 'Inflation t-6', 'Inflation t-5', 'Inflation t-4', 'Inflation t-3', 'Inflation t-2', 'Inflation t-1', 'Inflation t', 'Inflation t+1', 'Inflation t+2', 'Inflation t+3']\n",
      "x shape is: torch.Size([32, 13])\n",
      "y shape is: torch.Size([32])\n",
      "input shape is: torch.Size([32, 13])\n",
      "Commodities less food and beverages\n",
      "the number of columns is: 14\n",
      "the columns: ['Inflation t-10', 'Inflation t-9', 'Inflation t-8', 'Inflation t-7', 'Inflation t-6', 'Inflation t-5', 'Inflation t-4', 'Inflation t-3', 'Inflation t-2', 'Inflation t-1', 'Inflation t', 'Inflation t+1', 'Inflation t+2', 'Inflation t+3']\n",
      "x shape is: torch.Size([32, 13])\n",
      "y shape is: torch.Size([32])\n",
      "input shape is: torch.Size([32, 13])\n",
      "Commodities less food and energy commodities\n",
      "the number of columns is: 14\n",
      "the columns: ['Inflation t-10', 'Inflation t-9', 'Inflation t-8', 'Inflation t-7', 'Inflation t-6', 'Inflation t-5', 'Inflation t-4', 'Inflation t-3', 'Inflation t-2', 'Inflation t-1', 'Inflation t', 'Inflation t+1', 'Inflation t+2', 'Inflation t+3']\n",
      "x shape is: torch.Size([32, 13])\n",
      "y shape is: torch.Size([32])\n",
      "input shape is: torch.Size([32, 13])\n",
      "Commodities less food, energy, and used cars and trucks\n",
      "the number of columns is: 14\n",
      "the columns: ['Inflation t-10', 'Inflation t-9', 'Inflation t-8', 'Inflation t-7', 'Inflation t-6', 'Inflation t-5', 'Inflation t-4', 'Inflation t-3', 'Inflation t-2', 'Inflation t-1', 'Inflation t', 'Inflation t+1', 'Inflation t+2', 'Inflation t+3']\n",
      "x shape is: torch.Size([32, 13])\n",
      "y shape is: torch.Size([32])\n",
      "input shape is: torch.Size([32, 13])\n",
      "Communication\n",
      "the number of columns is: 14\n",
      "the columns: ['Inflation t-10', 'Inflation t-9', 'Inflation t-8', 'Inflation t-7', 'Inflation t-6', 'Inflation t-5', 'Inflation t-4', 'Inflation t-3', 'Inflation t-2', 'Inflation t-1', 'Inflation t', 'Inflation t+1', 'Inflation t+2', 'Inflation t+3']\n",
      "x shape is: torch.Size([32, 13])\n",
      "y shape is: torch.Size([32])\n",
      "input shape is: torch.Size([32, 13])\n",
      "Domestically produced farm food\n",
      "the number of columns is: 14\n",
      "the columns: ['Inflation t-10', 'Inflation t-9', 'Inflation t-8', 'Inflation t-7', 'Inflation t-6', 'Inflation t-5', 'Inflation t-4', 'Inflation t-3', 'Inflation t-2', 'Inflation t-1', 'Inflation t', 'Inflation t+1', 'Inflation t+2', 'Inflation t+3']\n",
      "x shape is: torch.Size([32, 13])\n",
      "y shape is: torch.Size([32])\n",
      "input shape is: torch.Size([32, 13])\n",
      "Education\n",
      "the number of columns is: 14\n",
      "the columns: ['Inflation t-10', 'Inflation t-9', 'Inflation t-8', 'Inflation t-7', 'Inflation t-6', 'Inflation t-5', 'Inflation t-4', 'Inflation t-3', 'Inflation t-2', 'Inflation t-1', 'Inflation t', 'Inflation t+1', 'Inflation t+2', 'Inflation t+3']\n",
      "x shape is: torch.Size([32, 13])\n",
      "y shape is: torch.Size([32])\n",
      "input shape is: torch.Size([32, 13])\n",
      "Energy commodities\n",
      "the number of columns is: 14\n",
      "the columns: ['Inflation t-10', 'Inflation t-9', 'Inflation t-8', 'Inflation t-7', 'Inflation t-6', 'Inflation t-5', 'Inflation t-4', 'Inflation t-3', 'Inflation t-2', 'Inflation t-1', 'Inflation t', 'Inflation t+1', 'Inflation t+2', 'Inflation t+3']\n",
      "x shape is: torch.Size([32, 13])\n",
      "y shape is: torch.Size([32])\n",
      "input shape is: torch.Size([32, 13])\n",
      "Energy services\n",
      "the number of columns is: 14\n",
      "the columns: ['Inflation t-10', 'Inflation t-9', 'Inflation t-8', 'Inflation t-7', 'Inflation t-6', 'Inflation t-5', 'Inflation t-4', 'Inflation t-3', 'Inflation t-2', 'Inflation t-1', 'Inflation t', 'Inflation t+1', 'Inflation t+2', 'Inflation t+3']\n",
      "x shape is: torch.Size([32, 13])\n",
      "y shape is: torch.Size([32])\n",
      "input shape is: torch.Size([32, 13])\n",
      "Food at home\n",
      "the number of columns is: 14\n",
      "the columns: ['Inflation t-10', 'Inflation t-9', 'Inflation t-8', 'Inflation t-7', 'Inflation t-6', 'Inflation t-5', 'Inflation t-4', 'Inflation t-3', 'Inflation t-2', 'Inflation t-1', 'Inflation t', 'Inflation t+1', 'Inflation t+2', 'Inflation t+3']\n",
      "x shape is: torch.Size([32, 13])\n",
      "y shape is: torch.Size([32])\n",
      "input shape is: torch.Size([32, 13])\n",
      "Food away from home\n",
      "the number of columns is: 14\n",
      "the columns: ['Inflation t-10', 'Inflation t-9', 'Inflation t-8', 'Inflation t-7', 'Inflation t-6', 'Inflation t-5', 'Inflation t-4', 'Inflation t-3', 'Inflation t-2', 'Inflation t-1', 'Inflation t', 'Inflation t+1', 'Inflation t+2', 'Inflation t+3']\n",
      "x shape is: torch.Size([32, 13])\n",
      "y shape is: torch.Size([32])\n",
      "input shape is: torch.Size([32, 13])\n",
      "Household energy\n",
      "the number of columns is: 14\n",
      "the columns: ['Inflation t-10', 'Inflation t-9', 'Inflation t-8', 'Inflation t-7', 'Inflation t-6', 'Inflation t-5', 'Inflation t-4', 'Inflation t-3', 'Inflation t-2', 'Inflation t-1', 'Inflation t', 'Inflation t+1', 'Inflation t+2', 'Inflation t+3']\n",
      "x shape is: torch.Size([32, 13])\n",
      "y shape is: torch.Size([32])\n",
      "input shape is: torch.Size([32, 13])\n",
      "Nondurables less food\n",
      "the number of columns is: 14\n",
      "the columns: ['Inflation t-10', 'Inflation t-9', 'Inflation t-8', 'Inflation t-7', 'Inflation t-6', 'Inflation t-5', 'Inflation t-4', 'Inflation t-3', 'Inflation t-2', 'Inflation t-1', 'Inflation t', 'Inflation t+1', 'Inflation t+2', 'Inflation t+3']\n",
      "x shape is: torch.Size([32, 13])\n",
      "y shape is: torch.Size([32])\n",
      "input shape is: torch.Size([32, 13])\n",
      "Nondurables less food and apparel\n",
      "the number of columns is: 14\n",
      "the columns: ['Inflation t-10', 'Inflation t-9', 'Inflation t-8', 'Inflation t-7', 'Inflation t-6', 'Inflation t-5', 'Inflation t-4', 'Inflation t-3', 'Inflation t-2', 'Inflation t-1', 'Inflation t', 'Inflation t+1', 'Inflation t+2', 'Inflation t+3']\n",
      "x shape is: torch.Size([32, 13])\n",
      "y shape is: torch.Size([32])\n",
      "input shape is: torch.Size([32, 13])\n",
      "Nondurables less food and beverages\n",
      "the number of columns is: 14\n",
      "the columns: ['Inflation t-10', 'Inflation t-9', 'Inflation t-8', 'Inflation t-7', 'Inflation t-6', 'Inflation t-5', 'Inflation t-4', 'Inflation t-3', 'Inflation t-2', 'Inflation t-1', 'Inflation t', 'Inflation t+1', 'Inflation t+2', 'Inflation t+3']\n",
      "x shape is: torch.Size([32, 13])\n",
      "y shape is: torch.Size([32])\n",
      "input shape is: torch.Size([32, 13])\n",
      "Nondurables less food, beverages, and apparel\n",
      "the number of columns is: 14\n",
      "the columns: ['Inflation t-10', 'Inflation t-9', 'Inflation t-8', 'Inflation t-7', 'Inflation t-6', 'Inflation t-5', 'Inflation t-4', 'Inflation t-3', 'Inflation t-2', 'Inflation t-1', 'Inflation t', 'Inflation t+1', 'Inflation t+2', 'Inflation t+3']\n",
      "x shape is: torch.Size([32, 13])\n",
      "y shape is: torch.Size([32])\n",
      "input shape is: torch.Size([32, 13])\n",
      "Personal care\n",
      "the number of columns is: 14\n",
      "the columns: ['Inflation t-10', 'Inflation t-9', 'Inflation t-8', 'Inflation t-7', 'Inflation t-6', 'Inflation t-5', 'Inflation t-4', 'Inflation t-3', 'Inflation t-2', 'Inflation t-1', 'Inflation t', 'Inflation t+1', 'Inflation t+2', 'Inflation t+3']\n",
      "x shape is: torch.Size([32, 13])\n",
      "y shape is: torch.Size([32])\n",
      "input shape is: torch.Size([32, 13])\n",
      "Pets, pet products and services\n",
      "the number of columns is: 14\n",
      "the columns: ['Inflation t-10', 'Inflation t-9', 'Inflation t-8', 'Inflation t-7', 'Inflation t-6', 'Inflation t-5', 'Inflation t-4', 'Inflation t-3', 'Inflation t-2', 'Inflation t-1', 'Inflation t', 'Inflation t+1', 'Inflation t+2', 'Inflation t+3']\n",
      "x shape is: torch.Size([32, 13])\n",
      "y shape is: torch.Size([32])\n",
      "input shape is: torch.Size([32, 13])\n",
      "Photography\n",
      "the number of columns is: 14\n",
      "the columns: ['Inflation t-10', 'Inflation t-9', 'Inflation t-8', 'Inflation t-7', 'Inflation t-6', 'Inflation t-5', 'Inflation t-4', 'Inflation t-3', 'Inflation t-2', 'Inflation t-1', 'Inflation t', 'Inflation t+1', 'Inflation t+2', 'Inflation t+3']\n",
      "x shape is: torch.Size([32, 13])\n",
      "y shape is: torch.Size([32])\n",
      "input shape is: torch.Size([32, 13])\n",
      "Private transportation\n",
      "the number of columns is: 14\n",
      "the columns: ['Inflation t-10', 'Inflation t-9', 'Inflation t-8', 'Inflation t-7', 'Inflation t-6', 'Inflation t-5', 'Inflation t-4', 'Inflation t-3', 'Inflation t-2', 'Inflation t-1', 'Inflation t', 'Inflation t+1', 'Inflation t+2', 'Inflation t+3']\n",
      "x shape is: torch.Size([32, 13])\n",
      "y shape is: torch.Size([32])\n",
      "input shape is: torch.Size([32, 13])\n",
      "Services less energy services\n",
      "the number of columns is: 14\n",
      "the columns: ['Inflation t-10', 'Inflation t-9', 'Inflation t-8', 'Inflation t-7', 'Inflation t-6', 'Inflation t-5', 'Inflation t-4', 'Inflation t-3', 'Inflation t-2', 'Inflation t-1', 'Inflation t', 'Inflation t+1', 'Inflation t+2', 'Inflation t+3']\n",
      "x shape is: torch.Size([32, 13])\n",
      "y shape is: torch.Size([32])\n",
      "input shape is: torch.Size([32, 13])\n",
      "Services less medical care services\n",
      "the number of columns is: 14\n",
      "the columns: ['Inflation t-10', 'Inflation t-9', 'Inflation t-8', 'Inflation t-7', 'Inflation t-6', 'Inflation t-5', 'Inflation t-4', 'Inflation t-3', 'Inflation t-2', 'Inflation t-1', 'Inflation t', 'Inflation t+1', 'Inflation t+2', 'Inflation t+3']\n",
      "x shape is: torch.Size([32, 13])\n",
      "y shape is: torch.Size([32])\n",
      "input shape is: torch.Size([32, 13])\n",
      "Services less rent of shelter\n",
      "the number of columns is: 14\n",
      "the columns: ['Inflation t-10', 'Inflation t-9', 'Inflation t-8', 'Inflation t-7', 'Inflation t-6', 'Inflation t-5', 'Inflation t-4', 'Inflation t-3', 'Inflation t-2', 'Inflation t-1', 'Inflation t', 'Inflation t+1', 'Inflation t+2', 'Inflation t+3']\n",
      "x shape is: torch.Size([32, 13])\n",
      "y shape is: torch.Size([32])\n",
      "input shape is: torch.Size([32, 13])\n",
      "Video and audio\n",
      "the number of columns is: 14\n",
      "the columns: ['Inflation t-10', 'Inflation t-9', 'Inflation t-8', 'Inflation t-7', 'Inflation t-6', 'Inflation t-5', 'Inflation t-4', 'Inflation t-3', 'Inflation t-2', 'Inflation t-1', 'Inflation t', 'Inflation t+1', 'Inflation t+2', 'Inflation t+3']\n",
      "x shape is: torch.Size([32, 13])\n",
      "y shape is: torch.Size([32])\n",
      "input shape is: torch.Size([32, 13])\n",
      "the horizon is: 3\n",
      "Alcoholic beverages\n",
      "the number of columns is: 14\n",
      "the columns: ['Inflation t-9', 'Inflation t-8', 'Inflation t-7', 'Inflation t-6', 'Inflation t-5', 'Inflation t-4', 'Inflation t-3', 'Inflation t-2', 'Inflation t-1', 'Inflation t', 'Inflation t+1', 'Inflation t+2', 'Inflation t+3', 'Inflation t+4']\n",
      "x shape is: torch.Size([32, 13])\n",
      "y shape is: torch.Size([32])\n",
      "input shape is: torch.Size([32, 13])\n",
      "Apparel\n",
      "the number of columns is: 14\n",
      "the columns: ['Inflation t-9', 'Inflation t-8', 'Inflation t-7', 'Inflation t-6', 'Inflation t-5', 'Inflation t-4', 'Inflation t-3', 'Inflation t-2', 'Inflation t-1', 'Inflation t', 'Inflation t+1', 'Inflation t+2', 'Inflation t+3', 'Inflation t+4']\n",
      "x shape is: torch.Size([32, 13])\n",
      "y shape is: torch.Size([32])\n",
      "input shape is: torch.Size([32, 13])\n",
      "Cereals and bakery products\n",
      "the number of columns is: 14\n",
      "the columns: ['Inflation t-9', 'Inflation t-8', 'Inflation t-7', 'Inflation t-6', 'Inflation t-5', 'Inflation t-4', 'Inflation t-3', 'Inflation t-2', 'Inflation t-1', 'Inflation t', 'Inflation t+1', 'Inflation t+2', 'Inflation t+3', 'Inflation t+4']\n",
      "x shape is: torch.Size([32, 13])\n",
      "y shape is: torch.Size([32])\n",
      "input shape is: torch.Size([32, 13])\n",
      "Dairy and related products\n",
      "the number of columns is: 14\n",
      "the columns: ['Inflation t-9', 'Inflation t-8', 'Inflation t-7', 'Inflation t-6', 'Inflation t-5', 'Inflation t-4', 'Inflation t-3', 'Inflation t-2', 'Inflation t-1', 'Inflation t', 'Inflation t+1', 'Inflation t+2', 'Inflation t+3', 'Inflation t+4']\n",
      "x shape is: torch.Size([32, 13])\n",
      "y shape is: torch.Size([32])\n",
      "input shape is: torch.Size([32, 13])\n",
      "Education and communication commodities\n",
      "the number of columns is: 14\n",
      "the columns: ['Inflation t-9', 'Inflation t-8', 'Inflation t-7', 'Inflation t-6', 'Inflation t-5', 'Inflation t-4', 'Inflation t-3', 'Inflation t-2', 'Inflation t-1', 'Inflation t', 'Inflation t+1', 'Inflation t+2', 'Inflation t+3', 'Inflation t+4']\n",
      "x shape is: torch.Size([32, 13])\n",
      "y shape is: torch.Size([32])\n",
      "input shape is: torch.Size([32, 13])\n",
      "Electricity\n",
      "the number of columns is: 14\n",
      "the columns: ['Inflation t-9', 'Inflation t-8', 'Inflation t-7', 'Inflation t-6', 'Inflation t-5', 'Inflation t-4', 'Inflation t-3', 'Inflation t-2', 'Inflation t-1', 'Inflation t', 'Inflation t+1', 'Inflation t+2', 'Inflation t+3', 'Inflation t+4']\n",
      "x shape is: torch.Size([32, 13])\n",
      "y shape is: torch.Size([32])\n",
      "input shape is: torch.Size([32, 13])\n",
      "Food from vending machines and mobile vendors\n",
      "the number of columns is: 14\n",
      "the columns: ['Inflation t-9', 'Inflation t-8', 'Inflation t-7', 'Inflation t-6', 'Inflation t-5', 'Inflation t-4', 'Inflation t-3', 'Inflation t-2', 'Inflation t-1', 'Inflation t', 'Inflation t+1', 'Inflation t+2', 'Inflation t+3', 'Inflation t+4']\n",
      "x shape is: torch.Size([32, 13])\n",
      "y shape is: torch.Size([32])\n",
      "input shape is: torch.Size([32, 13])\n",
      "Fruits and vegetables\n",
      "the number of columns is: 14\n",
      "the columns: ['Inflation t-9', 'Inflation t-8', 'Inflation t-7', 'Inflation t-6', 'Inflation t-5', 'Inflation t-4', 'Inflation t-3', 'Inflation t-2', 'Inflation t-1', 'Inflation t', 'Inflation t+1', 'Inflation t+2', 'Inflation t+3', 'Inflation t+4']\n",
      "x shape is: torch.Size([32, 13])\n",
      "y shape is: torch.Size([32])\n",
      "input shape is: torch.Size([32, 13])\n",
      "Fuel oil and other fuels\n",
      "the number of columns is: 14\n",
      "the columns: ['Inflation t-9', 'Inflation t-8', 'Inflation t-7', 'Inflation t-6', 'Inflation t-5', 'Inflation t-4', 'Inflation t-3', 'Inflation t-2', 'Inflation t-1', 'Inflation t', 'Inflation t+1', 'Inflation t+2', 'Inflation t+3', 'Inflation t+4']\n",
      "x shape is: torch.Size([32, 13])\n",
      "y shape is: torch.Size([32])\n",
      "input shape is: torch.Size([32, 13])\n",
      "Full service meals and snacks\n",
      "the number of columns is: 14\n",
      "the columns: ['Inflation t-9', 'Inflation t-8', 'Inflation t-7', 'Inflation t-6', 'Inflation t-5', 'Inflation t-4', 'Inflation t-3', 'Inflation t-2', 'Inflation t-1', 'Inflation t', 'Inflation t+1', 'Inflation t+2', 'Inflation t+3', 'Inflation t+4']\n",
      "x shape is: torch.Size([32, 13])\n",
      "y shape is: torch.Size([32])\n",
      "input shape is: torch.Size([32, 13])\n",
      "Household furnishings and supplies\n",
      "the number of columns is: 14\n",
      "the columns: ['Inflation t-9', 'Inflation t-8', 'Inflation t-7', 'Inflation t-6', 'Inflation t-5', 'Inflation t-4', 'Inflation t-3', 'Inflation t-2', 'Inflation t-1', 'Inflation t', 'Inflation t+1', 'Inflation t+2', 'Inflation t+3', 'Inflation t+4']\n",
      "x shape is: torch.Size([32, 13])\n",
      "y shape is: torch.Size([32])\n",
      "input shape is: torch.Size([32, 13])\n",
      "Information and information processing\n",
      "the number of columns is: 14\n",
      "the columns: ['Inflation t-9', 'Inflation t-8', 'Inflation t-7', 'Inflation t-6', 'Inflation t-5', 'Inflation t-4', 'Inflation t-3', 'Inflation t-2', 'Inflation t-1', 'Inflation t', 'Inflation t+1', 'Inflation t+2', 'Inflation t+3', 'Inflation t+4']\n",
      "x shape is: torch.Size([32, 13])\n",
      "y shape is: torch.Size([32])\n",
      "input shape is: torch.Size([32, 13])\n",
      "Information technology, hardware and services\n",
      "the number of columns is: 14\n",
      "the columns: ['Inflation t-9', 'Inflation t-8', 'Inflation t-7', 'Inflation t-6', 'Inflation t-5', 'Inflation t-4', 'Inflation t-3', 'Inflation t-2', 'Inflation t-1', 'Inflation t', 'Inflation t+1', 'Inflation t+2', 'Inflation t+3', 'Inflation t+4']\n",
      "x shape is: torch.Size([32, 13])\n",
      "y shape is: torch.Size([32])\n",
      "input shape is: torch.Size([32, 13])\n",
      "Limited service meals and snacks\n",
      "the number of columns is: 14\n",
      "the columns: ['Inflation t-9', 'Inflation t-8', 'Inflation t-7', 'Inflation t-6', 'Inflation t-5', 'Inflation t-4', 'Inflation t-3', 'Inflation t-2', 'Inflation t-1', 'Inflation t', 'Inflation t+1', 'Inflation t+2', 'Inflation t+3', 'Inflation t+4']\n",
      "x shape is: torch.Size([32, 13])\n",
      "y shape is: torch.Size([32])\n",
      "input shape is: torch.Size([32, 13])\n",
      "Meats, poultry, fish, and eggs\n",
      "the number of columns is: 14\n",
      "the columns: ['Inflation t-9', 'Inflation t-8', 'Inflation t-7', 'Inflation t-6', 'Inflation t-5', 'Inflation t-4', 'Inflation t-3', 'Inflation t-2', 'Inflation t-1', 'Inflation t', 'Inflation t+1', 'Inflation t+2', 'Inflation t+3', 'Inflation t+4']\n",
      "x shape is: torch.Size([32, 13])\n",
      "y shape is: torch.Size([32])\n",
      "input shape is: torch.Size([32, 13])\n",
      "Medical care commodities\n",
      "the number of columns is: 14\n",
      "the columns: ['Inflation t-9', 'Inflation t-8', 'Inflation t-7', 'Inflation t-6', 'Inflation t-5', 'Inflation t-4', 'Inflation t-3', 'Inflation t-2', 'Inflation t-1', 'Inflation t', 'Inflation t+1', 'Inflation t+2', 'Inflation t+3', 'Inflation t+4']\n",
      "x shape is: torch.Size([32, 13])\n",
      "y shape is: torch.Size([32])\n",
      "input shape is: torch.Size([32, 13])\n",
      "Motor fuel\n",
      "the number of columns is: 14\n",
      "the columns: ['Inflation t-9', 'Inflation t-8', 'Inflation t-7', 'Inflation t-6', 'Inflation t-5', 'Inflation t-4', 'Inflation t-3', 'Inflation t-2', 'Inflation t-1', 'Inflation t', 'Inflation t+1', 'Inflation t+2', 'Inflation t+3', 'Inflation t+4']\n",
      "x shape is: torch.Size([32, 13])\n",
      "y shape is: torch.Size([32])\n",
      "input shape is: torch.Size([32, 13])\n",
      "New and used motor vehicles\n",
      "the number of columns is: 14\n",
      "the columns: ['Inflation t-9', 'Inflation t-8', 'Inflation t-7', 'Inflation t-6', 'Inflation t-5', 'Inflation t-4', 'Inflation t-3', 'Inflation t-2', 'Inflation t-1', 'Inflation t', 'Inflation t+1', 'Inflation t+2', 'Inflation t+3', 'Inflation t+4']\n",
      "x shape is: torch.Size([32, 13])\n",
      "y shape is: torch.Size([32])\n",
      "input shape is: torch.Size([32, 13])\n",
      "Nonalcoholic beverages and beverage materials\n",
      "the number of columns is: 14\n",
      "the columns: ['Inflation t-9', 'Inflation t-8', 'Inflation t-7', 'Inflation t-6', 'Inflation t-5', 'Inflation t-4', 'Inflation t-3', 'Inflation t-2', 'Inflation t-1', 'Inflation t', 'Inflation t+1', 'Inflation t+2', 'Inflation t+3', 'Inflation t+4']\n",
      "x shape is: torch.Size([32, 13])\n",
      "y shape is: torch.Size([32])\n",
      "input shape is: torch.Size([32, 13])\n",
      "Other food at home\n",
      "the number of columns is: 14\n",
      "the columns: ['Inflation t-9', 'Inflation t-8', 'Inflation t-7', 'Inflation t-6', 'Inflation t-5', 'Inflation t-4', 'Inflation t-3', 'Inflation t-2', 'Inflation t-1', 'Inflation t', 'Inflation t+1', 'Inflation t+2', 'Inflation t+3', 'Inflation t+4']\n",
      "x shape is: torch.Size([32, 13])\n",
      "y shape is: torch.Size([32])\n",
      "input shape is: torch.Size([32, 13])\n",
      "Other food away from home\n",
      "the number of columns is: 14\n",
      "the columns: ['Inflation t-9', 'Inflation t-8', 'Inflation t-7', 'Inflation t-6', 'Inflation t-5', 'Inflation t-4', 'Inflation t-3', 'Inflation t-2', 'Inflation t-1', 'Inflation t', 'Inflation t+1', 'Inflation t+2', 'Inflation t+3', 'Inflation t+4']\n",
      "x shape is: torch.Size([32, 13])\n",
      "y shape is: torch.Size([32])\n",
      "input shape is: torch.Size([32, 13])\n",
      "Other goods\n",
      "the number of columns is: 14\n",
      "the columns: ['Inflation t-9', 'Inflation t-8', 'Inflation t-7', 'Inflation t-6', 'Inflation t-5', 'Inflation t-4', 'Inflation t-3', 'Inflation t-2', 'Inflation t-1', 'Inflation t', 'Inflation t+1', 'Inflation t+2', 'Inflation t+3', 'Inflation t+4']\n",
      "x shape is: torch.Size([32, 13])\n",
      "y shape is: torch.Size([32])\n",
      "input shape is: torch.Size([32, 13])\n",
      "Recreation commodities\n",
      "the number of columns is: 14\n",
      "the columns: ['Inflation t-9', 'Inflation t-8', 'Inflation t-7', 'Inflation t-6', 'Inflation t-5', 'Inflation t-4', 'Inflation t-3', 'Inflation t-2', 'Inflation t-1', 'Inflation t', 'Inflation t+1', 'Inflation t+2', 'Inflation t+3', 'Inflation t+4']\n",
      "x shape is: torch.Size([32, 13])\n",
      "y shape is: torch.Size([32])\n",
      "input shape is: torch.Size([32, 13])\n",
      "Shelter\n",
      "the number of columns is: 14\n",
      "the columns: ['Inflation t-9', 'Inflation t-8', 'Inflation t-7', 'Inflation t-6', 'Inflation t-5', 'Inflation t-4', 'Inflation t-3', 'Inflation t-2', 'Inflation t-1', 'Inflation t', 'Inflation t+1', 'Inflation t+2', 'Inflation t+3', 'Inflation t+4']\n",
      "x shape is: torch.Size([32, 13])\n",
      "y shape is: torch.Size([32])\n",
      "input shape is: torch.Size([32, 13])\n",
      "Transportation commodities less motor fuel\n",
      "the number of columns is: 14\n",
      "the columns: ['Inflation t-9', 'Inflation t-8', 'Inflation t-7', 'Inflation t-6', 'Inflation t-5', 'Inflation t-4', 'Inflation t-3', 'Inflation t-2', 'Inflation t-1', 'Inflation t', 'Inflation t+1', 'Inflation t+2', 'Inflation t+3', 'Inflation t+4']\n",
      "x shape is: torch.Size([32, 13])\n",
      "y shape is: torch.Size([32])\n",
      "input shape is: torch.Size([32, 13])\n",
      "All items\n",
      "the number of columns is: 14\n",
      "the columns: ['Inflation t-9', 'Inflation t-8', 'Inflation t-7', 'Inflation t-6', 'Inflation t-5', 'Inflation t-4', 'Inflation t-3', 'Inflation t-2', 'Inflation t-1', 'Inflation t', 'Inflation t+1', 'Inflation t+2', 'Inflation t+3', 'Inflation t+4']\n",
      "x shape is: torch.Size([32, 13])\n",
      "y shape is: torch.Size([32])\n",
      "input shape is: torch.Size([32, 13])\n",
      "All items less energy\n",
      "the number of columns is: 14\n",
      "the columns: ['Inflation t-9', 'Inflation t-8', 'Inflation t-7', 'Inflation t-6', 'Inflation t-5', 'Inflation t-4', 'Inflation t-3', 'Inflation t-2', 'Inflation t-1', 'Inflation t', 'Inflation t+1', 'Inflation t+2', 'Inflation t+3', 'Inflation t+4']\n",
      "x shape is: torch.Size([32, 13])\n",
      "y shape is: torch.Size([32])\n",
      "input shape is: torch.Size([32, 13])\n",
      "All items less food\n",
      "the number of columns is: 14\n",
      "the columns: ['Inflation t-9', 'Inflation t-8', 'Inflation t-7', 'Inflation t-6', 'Inflation t-5', 'Inflation t-4', 'Inflation t-3', 'Inflation t-2', 'Inflation t-1', 'Inflation t', 'Inflation t+1', 'Inflation t+2', 'Inflation t+3', 'Inflation t+4']\n",
      "x shape is: torch.Size([32, 13])\n",
      "y shape is: torch.Size([32])\n",
      "input shape is: torch.Size([32, 13])\n",
      "All items less food and energy\n",
      "the number of columns is: 14\n",
      "the columns: ['Inflation t-9', 'Inflation t-8', 'Inflation t-7', 'Inflation t-6', 'Inflation t-5', 'Inflation t-4', 'Inflation t-3', 'Inflation t-2', 'Inflation t-1', 'Inflation t', 'Inflation t+1', 'Inflation t+2', 'Inflation t+3', 'Inflation t+4']\n",
      "x shape is: torch.Size([32, 13])\n",
      "y shape is: torch.Size([32])\n",
      "input shape is: torch.Size([32, 13])\n",
      "All items less food and shelter\n",
      "the number of columns is: 14\n",
      "the columns: ['Inflation t-9', 'Inflation t-8', 'Inflation t-7', 'Inflation t-6', 'Inflation t-5', 'Inflation t-4', 'Inflation t-3', 'Inflation t-2', 'Inflation t-1', 'Inflation t', 'Inflation t+1', 'Inflation t+2', 'Inflation t+3', 'Inflation t+4']\n",
      "x shape is: torch.Size([32, 13])\n",
      "y shape is: torch.Size([32])\n",
      "input shape is: torch.Size([32, 13])\n",
      "All items less food, shelter, and energy\n",
      "the number of columns is: 14\n",
      "the columns: ['Inflation t-9', 'Inflation t-8', 'Inflation t-7', 'Inflation t-6', 'Inflation t-5', 'Inflation t-4', 'Inflation t-3', 'Inflation t-2', 'Inflation t-1', 'Inflation t', 'Inflation t+1', 'Inflation t+2', 'Inflation t+3', 'Inflation t+4']\n",
      "x shape is: torch.Size([32, 13])\n",
      "y shape is: torch.Size([32])\n",
      "input shape is: torch.Size([32, 13])\n",
      "All items less food, shelter, energy, and used cars and trucks\n",
      "the number of columns is: 14\n",
      "the columns: ['Inflation t-9', 'Inflation t-8', 'Inflation t-7', 'Inflation t-6', 'Inflation t-5', 'Inflation t-4', 'Inflation t-3', 'Inflation t-2', 'Inflation t-1', 'Inflation t', 'Inflation t+1', 'Inflation t+2', 'Inflation t+3', 'Inflation t+4']\n",
      "x shape is: torch.Size([32, 13])\n",
      "y shape is: torch.Size([32])\n",
      "input shape is: torch.Size([32, 13])\n",
      "All items less medical care\n",
      "the number of columns is: 14\n",
      "the columns: ['Inflation t-9', 'Inflation t-8', 'Inflation t-7', 'Inflation t-6', 'Inflation t-5', 'Inflation t-4', 'Inflation t-3', 'Inflation t-2', 'Inflation t-1', 'Inflation t', 'Inflation t+1', 'Inflation t+2', 'Inflation t+3', 'Inflation t+4']\n",
      "x shape is: torch.Size([32, 13])\n",
      "y shape is: torch.Size([32])\n",
      "input shape is: torch.Size([32, 13])\n",
      "All items less shelter\n",
      "the number of columns is: 14\n",
      "the columns: ['Inflation t-9', 'Inflation t-8', 'Inflation t-7', 'Inflation t-6', 'Inflation t-5', 'Inflation t-4', 'Inflation t-3', 'Inflation t-2', 'Inflation t-1', 'Inflation t', 'Inflation t+1', 'Inflation t+2', 'Inflation t+3', 'Inflation t+4']\n",
      "x shape is: torch.Size([32, 13])\n",
      "y shape is: torch.Size([32])\n",
      "input shape is: torch.Size([32, 13])\n",
      "Apparel less footwear\n",
      "the number of columns is: 14\n",
      "the columns: ['Inflation t-9', 'Inflation t-8', 'Inflation t-7', 'Inflation t-6', 'Inflation t-5', 'Inflation t-4', 'Inflation t-3', 'Inflation t-2', 'Inflation t-1', 'Inflation t', 'Inflation t+1', 'Inflation t+2', 'Inflation t+3', 'Inflation t+4']\n",
      "x shape is: torch.Size([32, 13])\n",
      "y shape is: torch.Size([32])\n",
      "input shape is: torch.Size([32, 13])\n",
      "Commodities\n",
      "the number of columns is: 14\n",
      "the columns: ['Inflation t-9', 'Inflation t-8', 'Inflation t-7', 'Inflation t-6', 'Inflation t-5', 'Inflation t-4', 'Inflation t-3', 'Inflation t-2', 'Inflation t-1', 'Inflation t', 'Inflation t+1', 'Inflation t+2', 'Inflation t+3', 'Inflation t+4']\n",
      "x shape is: torch.Size([32, 13])\n",
      "y shape is: torch.Size([32])\n",
      "input shape is: torch.Size([32, 13])\n",
      "Durables\n",
      "the number of columns is: 14\n",
      "the columns: ['Inflation t-9', 'Inflation t-8', 'Inflation t-7', 'Inflation t-6', 'Inflation t-5', 'Inflation t-4', 'Inflation t-3', 'Inflation t-2', 'Inflation t-1', 'Inflation t', 'Inflation t+1', 'Inflation t+2', 'Inflation t+3', 'Inflation t+4']\n",
      "x shape is: torch.Size([32, 13])\n",
      "y shape is: torch.Size([32])\n",
      "input shape is: torch.Size([32, 13])\n",
      "Education and communication\n",
      "the number of columns is: 14\n",
      "the columns: ['Inflation t-9', 'Inflation t-8', 'Inflation t-7', 'Inflation t-6', 'Inflation t-5', 'Inflation t-4', 'Inflation t-3', 'Inflation t-2', 'Inflation t-1', 'Inflation t', 'Inflation t+1', 'Inflation t+2', 'Inflation t+3', 'Inflation t+4']\n",
      "x shape is: torch.Size([32, 13])\n",
      "y shape is: torch.Size([32])\n",
      "input shape is: torch.Size([32, 13])\n",
      "Energy\n",
      "the number of columns is: 14\n",
      "the columns: ['Inflation t-9', 'Inflation t-8', 'Inflation t-7', 'Inflation t-6', 'Inflation t-5', 'Inflation t-4', 'Inflation t-3', 'Inflation t-2', 'Inflation t-1', 'Inflation t', 'Inflation t+1', 'Inflation t+2', 'Inflation t+3', 'Inflation t+4']\n",
      "x shape is: torch.Size([32, 13])\n",
      "y shape is: torch.Size([32])\n",
      "input shape is: torch.Size([32, 13])\n",
      "Food\n",
      "the number of columns is: 14\n",
      "the columns: ['Inflation t-9', 'Inflation t-8', 'Inflation t-7', 'Inflation t-6', 'Inflation t-5', 'Inflation t-4', 'Inflation t-3', 'Inflation t-2', 'Inflation t-1', 'Inflation t', 'Inflation t+1', 'Inflation t+2', 'Inflation t+3', 'Inflation t+4']\n",
      "x shape is: torch.Size([32, 13])\n",
      "y shape is: torch.Size([32])\n",
      "input shape is: torch.Size([32, 13])\n",
      "Food and beverages\n",
      "the number of columns is: 14\n",
      "the columns: ['Inflation t-9', 'Inflation t-8', 'Inflation t-7', 'Inflation t-6', 'Inflation t-5', 'Inflation t-4', 'Inflation t-3', 'Inflation t-2', 'Inflation t-1', 'Inflation t', 'Inflation t+1', 'Inflation t+2', 'Inflation t+3', 'Inflation t+4']\n",
      "x shape is: torch.Size([32, 13])\n",
      "y shape is: torch.Size([32])\n",
      "input shape is: torch.Size([32, 13])\n",
      "Fuels and utilities\n",
      "the number of columns is: 14\n",
      "the columns: ['Inflation t-9', 'Inflation t-8', 'Inflation t-7', 'Inflation t-6', 'Inflation t-5', 'Inflation t-4', 'Inflation t-3', 'Inflation t-2', 'Inflation t-1', 'Inflation t', 'Inflation t+1', 'Inflation t+2', 'Inflation t+3', 'Inflation t+4']\n",
      "x shape is: torch.Size([32, 13])\n",
      "y shape is: torch.Size([32])\n",
      "input shape is: torch.Size([32, 13])\n",
      "Household furnishings and operations\n",
      "the number of columns is: 14\n",
      "the columns: ['Inflation t-9', 'Inflation t-8', 'Inflation t-7', 'Inflation t-6', 'Inflation t-5', 'Inflation t-4', 'Inflation t-3', 'Inflation t-2', 'Inflation t-1', 'Inflation t', 'Inflation t+1', 'Inflation t+2', 'Inflation t+3', 'Inflation t+4']\n",
      "x shape is: torch.Size([32, 13])\n",
      "y shape is: torch.Size([32])\n",
      "input shape is: torch.Size([32, 13])\n",
      "Housing\n",
      "the number of columns is: 14\n",
      "the columns: ['Inflation t-9', 'Inflation t-8', 'Inflation t-7', 'Inflation t-6', 'Inflation t-5', 'Inflation t-4', 'Inflation t-3', 'Inflation t-2', 'Inflation t-1', 'Inflation t', 'Inflation t+1', 'Inflation t+2', 'Inflation t+3', 'Inflation t+4']\n",
      "x shape is: torch.Size([32, 13])\n",
      "y shape is: torch.Size([32])\n",
      "input shape is: torch.Size([32, 13])\n",
      "Medical care\n",
      "the number of columns is: 14\n",
      "the columns: ['Inflation t-9', 'Inflation t-8', 'Inflation t-7', 'Inflation t-6', 'Inflation t-5', 'Inflation t-4', 'Inflation t-3', 'Inflation t-2', 'Inflation t-1', 'Inflation t', 'Inflation t+1', 'Inflation t+2', 'Inflation t+3', 'Inflation t+4']\n",
      "x shape is: torch.Size([32, 13])\n",
      "y shape is: torch.Size([32])\n",
      "input shape is: torch.Size([32, 13])\n",
      "Nondurables\n",
      "the number of columns is: 14\n",
      "the columns: ['Inflation t-9', 'Inflation t-8', 'Inflation t-7', 'Inflation t-6', 'Inflation t-5', 'Inflation t-4', 'Inflation t-3', 'Inflation t-2', 'Inflation t-1', 'Inflation t', 'Inflation t+1', 'Inflation t+2', 'Inflation t+3', 'Inflation t+4']\n",
      "x shape is: torch.Size([32, 13])\n",
      "y shape is: torch.Size([32])\n",
      "input shape is: torch.Size([32, 13])\n",
      "Other goods and services\n",
      "the number of columns is: 14\n",
      "the columns: ['Inflation t-9', 'Inflation t-8', 'Inflation t-7', 'Inflation t-6', 'Inflation t-5', 'Inflation t-4', 'Inflation t-3', 'Inflation t-2', 'Inflation t-1', 'Inflation t', 'Inflation t+1', 'Inflation t+2', 'Inflation t+3', 'Inflation t+4']\n",
      "x shape is: torch.Size([32, 13])\n",
      "y shape is: torch.Size([32])\n",
      "input shape is: torch.Size([32, 13])\n",
      "Other services\n",
      "the number of columns is: 14\n",
      "the columns: ['Inflation t-9', 'Inflation t-8', 'Inflation t-7', 'Inflation t-6', 'Inflation t-5', 'Inflation t-4', 'Inflation t-3', 'Inflation t-2', 'Inflation t-1', 'Inflation t', 'Inflation t+1', 'Inflation t+2', 'Inflation t+3', 'Inflation t+4']\n",
      "x shape is: torch.Size([32, 13])\n",
      "y shape is: torch.Size([32])\n",
      "input shape is: torch.Size([32, 13])\n",
      "Recreation\n",
      "the number of columns is: 14\n",
      "the columns: ['Inflation t-9', 'Inflation t-8', 'Inflation t-7', 'Inflation t-6', 'Inflation t-5', 'Inflation t-4', 'Inflation t-3', 'Inflation t-2', 'Inflation t-1', 'Inflation t', 'Inflation t+1', 'Inflation t+2', 'Inflation t+3', 'Inflation t+4']\n",
      "x shape is: torch.Size([32, 13])\n",
      "y shape is: torch.Size([32])\n",
      "input shape is: torch.Size([32, 13])\n",
      "Services\n",
      "the number of columns is: 14\n",
      "the columns: ['Inflation t-9', 'Inflation t-8', 'Inflation t-7', 'Inflation t-6', 'Inflation t-5', 'Inflation t-4', 'Inflation t-3', 'Inflation t-2', 'Inflation t-1', 'Inflation t', 'Inflation t+1', 'Inflation t+2', 'Inflation t+3', 'Inflation t+4']\n",
      "x shape is: torch.Size([32, 13])\n",
      "y shape is: torch.Size([32])\n",
      "input shape is: torch.Size([32, 13])\n",
      "Transportation\n",
      "the number of columns is: 14\n",
      "the columns: ['Inflation t-9', 'Inflation t-8', 'Inflation t-7', 'Inflation t-6', 'Inflation t-5', 'Inflation t-4', 'Inflation t-3', 'Inflation t-2', 'Inflation t-1', 'Inflation t', 'Inflation t+1', 'Inflation t+2', 'Inflation t+3', 'Inflation t+4']\n",
      "x shape is: torch.Size([32, 13])\n",
      "y shape is: torch.Size([32])\n",
      "input shape is: torch.Size([32, 13])\n",
      "Utilities and public transportation\n",
      "the number of columns is: 14\n",
      "the columns: ['Inflation t-9', 'Inflation t-8', 'Inflation t-7', 'Inflation t-6', 'Inflation t-5', 'Inflation t-4', 'Inflation t-3', 'Inflation t-2', 'Inflation t-1', 'Inflation t', 'Inflation t+1', 'Inflation t+2', 'Inflation t+3', 'Inflation t+4']\n",
      "x shape is: torch.Size([32, 13])\n",
      "y shape is: torch.Size([32])\n",
      "input shape is: torch.Size([32, 13])\n",
      "Commodities less food\n",
      "the number of columns is: 14\n",
      "the columns: ['Inflation t-9', 'Inflation t-8', 'Inflation t-7', 'Inflation t-6', 'Inflation t-5', 'Inflation t-4', 'Inflation t-3', 'Inflation t-2', 'Inflation t-1', 'Inflation t', 'Inflation t+1', 'Inflation t+2', 'Inflation t+3', 'Inflation t+4']\n",
      "x shape is: torch.Size([32, 13])\n",
      "y shape is: torch.Size([32])\n",
      "input shape is: torch.Size([32, 13])\n",
      "Commodities less food and beverages\n",
      "the number of columns is: 14\n",
      "the columns: ['Inflation t-9', 'Inflation t-8', 'Inflation t-7', 'Inflation t-6', 'Inflation t-5', 'Inflation t-4', 'Inflation t-3', 'Inflation t-2', 'Inflation t-1', 'Inflation t', 'Inflation t+1', 'Inflation t+2', 'Inflation t+3', 'Inflation t+4']\n",
      "x shape is: torch.Size([32, 13])\n",
      "y shape is: torch.Size([32])\n",
      "input shape is: torch.Size([32, 13])\n",
      "Commodities less food and energy commodities\n",
      "the number of columns is: 14\n",
      "the columns: ['Inflation t-9', 'Inflation t-8', 'Inflation t-7', 'Inflation t-6', 'Inflation t-5', 'Inflation t-4', 'Inflation t-3', 'Inflation t-2', 'Inflation t-1', 'Inflation t', 'Inflation t+1', 'Inflation t+2', 'Inflation t+3', 'Inflation t+4']\n",
      "x shape is: torch.Size([32, 13])\n",
      "y shape is: torch.Size([32])\n",
      "input shape is: torch.Size([32, 13])\n",
      "Commodities less food, energy, and used cars and trucks\n",
      "the number of columns is: 14\n",
      "the columns: ['Inflation t-9', 'Inflation t-8', 'Inflation t-7', 'Inflation t-6', 'Inflation t-5', 'Inflation t-4', 'Inflation t-3', 'Inflation t-2', 'Inflation t-1', 'Inflation t', 'Inflation t+1', 'Inflation t+2', 'Inflation t+3', 'Inflation t+4']\n",
      "x shape is: torch.Size([32, 13])\n",
      "y shape is: torch.Size([32])\n",
      "input shape is: torch.Size([32, 13])\n",
      "Communication\n",
      "the number of columns is: 14\n",
      "the columns: ['Inflation t-9', 'Inflation t-8', 'Inflation t-7', 'Inflation t-6', 'Inflation t-5', 'Inflation t-4', 'Inflation t-3', 'Inflation t-2', 'Inflation t-1', 'Inflation t', 'Inflation t+1', 'Inflation t+2', 'Inflation t+3', 'Inflation t+4']\n",
      "x shape is: torch.Size([32, 13])\n",
      "y shape is: torch.Size([32])\n",
      "input shape is: torch.Size([32, 13])\n",
      "Domestically produced farm food\n",
      "the number of columns is: 14\n",
      "the columns: ['Inflation t-9', 'Inflation t-8', 'Inflation t-7', 'Inflation t-6', 'Inflation t-5', 'Inflation t-4', 'Inflation t-3', 'Inflation t-2', 'Inflation t-1', 'Inflation t', 'Inflation t+1', 'Inflation t+2', 'Inflation t+3', 'Inflation t+4']\n",
      "x shape is: torch.Size([32, 13])\n",
      "y shape is: torch.Size([32])\n",
      "input shape is: torch.Size([32, 13])\n",
      "Education\n",
      "the number of columns is: 14\n",
      "the columns: ['Inflation t-9', 'Inflation t-8', 'Inflation t-7', 'Inflation t-6', 'Inflation t-5', 'Inflation t-4', 'Inflation t-3', 'Inflation t-2', 'Inflation t-1', 'Inflation t', 'Inflation t+1', 'Inflation t+2', 'Inflation t+3', 'Inflation t+4']\n",
      "x shape is: torch.Size([32, 13])\n",
      "y shape is: torch.Size([32])\n",
      "input shape is: torch.Size([32, 13])\n",
      "Energy commodities\n",
      "the number of columns is: 14\n",
      "the columns: ['Inflation t-9', 'Inflation t-8', 'Inflation t-7', 'Inflation t-6', 'Inflation t-5', 'Inflation t-4', 'Inflation t-3', 'Inflation t-2', 'Inflation t-1', 'Inflation t', 'Inflation t+1', 'Inflation t+2', 'Inflation t+3', 'Inflation t+4']\n",
      "x shape is: torch.Size([32, 13])\n",
      "y shape is: torch.Size([32])\n",
      "input shape is: torch.Size([32, 13])\n",
      "Energy services\n",
      "the number of columns is: 14\n",
      "the columns: ['Inflation t-9', 'Inflation t-8', 'Inflation t-7', 'Inflation t-6', 'Inflation t-5', 'Inflation t-4', 'Inflation t-3', 'Inflation t-2', 'Inflation t-1', 'Inflation t', 'Inflation t+1', 'Inflation t+2', 'Inflation t+3', 'Inflation t+4']\n",
      "x shape is: torch.Size([32, 13])\n",
      "y shape is: torch.Size([32])\n",
      "input shape is: torch.Size([32, 13])\n",
      "Food at home\n",
      "the number of columns is: 14\n",
      "the columns: ['Inflation t-9', 'Inflation t-8', 'Inflation t-7', 'Inflation t-6', 'Inflation t-5', 'Inflation t-4', 'Inflation t-3', 'Inflation t-2', 'Inflation t-1', 'Inflation t', 'Inflation t+1', 'Inflation t+2', 'Inflation t+3', 'Inflation t+4']\n",
      "x shape is: torch.Size([32, 13])\n",
      "y shape is: torch.Size([32])\n",
      "input shape is: torch.Size([32, 13])\n",
      "Food away from home\n",
      "the number of columns is: 14\n",
      "the columns: ['Inflation t-9', 'Inflation t-8', 'Inflation t-7', 'Inflation t-6', 'Inflation t-5', 'Inflation t-4', 'Inflation t-3', 'Inflation t-2', 'Inflation t-1', 'Inflation t', 'Inflation t+1', 'Inflation t+2', 'Inflation t+3', 'Inflation t+4']\n",
      "x shape is: torch.Size([32, 13])\n",
      "y shape is: torch.Size([32])\n",
      "input shape is: torch.Size([32, 13])\n",
      "Household energy\n",
      "the number of columns is: 14\n",
      "the columns: ['Inflation t-9', 'Inflation t-8', 'Inflation t-7', 'Inflation t-6', 'Inflation t-5', 'Inflation t-4', 'Inflation t-3', 'Inflation t-2', 'Inflation t-1', 'Inflation t', 'Inflation t+1', 'Inflation t+2', 'Inflation t+3', 'Inflation t+4']\n",
      "x shape is: torch.Size([32, 13])\n",
      "y shape is: torch.Size([32])\n",
      "input shape is: torch.Size([32, 13])\n",
      "Nondurables less food\n",
      "the number of columns is: 14\n",
      "the columns: ['Inflation t-9', 'Inflation t-8', 'Inflation t-7', 'Inflation t-6', 'Inflation t-5', 'Inflation t-4', 'Inflation t-3', 'Inflation t-2', 'Inflation t-1', 'Inflation t', 'Inflation t+1', 'Inflation t+2', 'Inflation t+3', 'Inflation t+4']\n",
      "x shape is: torch.Size([32, 13])\n",
      "y shape is: torch.Size([32])\n",
      "input shape is: torch.Size([32, 13])\n",
      "Nondurables less food and apparel\n",
      "the number of columns is: 14\n",
      "the columns: ['Inflation t-9', 'Inflation t-8', 'Inflation t-7', 'Inflation t-6', 'Inflation t-5', 'Inflation t-4', 'Inflation t-3', 'Inflation t-2', 'Inflation t-1', 'Inflation t', 'Inflation t+1', 'Inflation t+2', 'Inflation t+3', 'Inflation t+4']\n",
      "x shape is: torch.Size([32, 13])\n",
      "y shape is: torch.Size([32])\n",
      "input shape is: torch.Size([32, 13])\n",
      "Nondurables less food and beverages\n",
      "the number of columns is: 14\n",
      "the columns: ['Inflation t-9', 'Inflation t-8', 'Inflation t-7', 'Inflation t-6', 'Inflation t-5', 'Inflation t-4', 'Inflation t-3', 'Inflation t-2', 'Inflation t-1', 'Inflation t', 'Inflation t+1', 'Inflation t+2', 'Inflation t+3', 'Inflation t+4']\n",
      "x shape is: torch.Size([32, 13])\n",
      "y shape is: torch.Size([32])\n",
      "input shape is: torch.Size([32, 13])\n",
      "Nondurables less food, beverages, and apparel\n",
      "the number of columns is: 14\n",
      "the columns: ['Inflation t-9', 'Inflation t-8', 'Inflation t-7', 'Inflation t-6', 'Inflation t-5', 'Inflation t-4', 'Inflation t-3', 'Inflation t-2', 'Inflation t-1', 'Inflation t', 'Inflation t+1', 'Inflation t+2', 'Inflation t+3', 'Inflation t+4']\n",
      "x shape is: torch.Size([32, 13])\n",
      "y shape is: torch.Size([32])\n",
      "input shape is: torch.Size([32, 13])\n",
      "Personal care\n",
      "the number of columns is: 14\n",
      "the columns: ['Inflation t-9', 'Inflation t-8', 'Inflation t-7', 'Inflation t-6', 'Inflation t-5', 'Inflation t-4', 'Inflation t-3', 'Inflation t-2', 'Inflation t-1', 'Inflation t', 'Inflation t+1', 'Inflation t+2', 'Inflation t+3', 'Inflation t+4']\n",
      "x shape is: torch.Size([32, 13])\n",
      "y shape is: torch.Size([32])\n",
      "input shape is: torch.Size([32, 13])\n",
      "Pets, pet products and services\n",
      "the number of columns is: 14\n",
      "the columns: ['Inflation t-9', 'Inflation t-8', 'Inflation t-7', 'Inflation t-6', 'Inflation t-5', 'Inflation t-4', 'Inflation t-3', 'Inflation t-2', 'Inflation t-1', 'Inflation t', 'Inflation t+1', 'Inflation t+2', 'Inflation t+3', 'Inflation t+4']\n",
      "x shape is: torch.Size([32, 13])\n",
      "y shape is: torch.Size([32])\n",
      "input shape is: torch.Size([32, 13])\n",
      "Photography\n",
      "the number of columns is: 14\n",
      "the columns: ['Inflation t-9', 'Inflation t-8', 'Inflation t-7', 'Inflation t-6', 'Inflation t-5', 'Inflation t-4', 'Inflation t-3', 'Inflation t-2', 'Inflation t-1', 'Inflation t', 'Inflation t+1', 'Inflation t+2', 'Inflation t+3', 'Inflation t+4']\n",
      "x shape is: torch.Size([32, 13])\n",
      "y shape is: torch.Size([32])\n",
      "input shape is: torch.Size([32, 13])\n",
      "Private transportation\n",
      "the number of columns is: 14\n",
      "the columns: ['Inflation t-9', 'Inflation t-8', 'Inflation t-7', 'Inflation t-6', 'Inflation t-5', 'Inflation t-4', 'Inflation t-3', 'Inflation t-2', 'Inflation t-1', 'Inflation t', 'Inflation t+1', 'Inflation t+2', 'Inflation t+3', 'Inflation t+4']\n",
      "x shape is: torch.Size([32, 13])\n",
      "y shape is: torch.Size([32])\n",
      "input shape is: torch.Size([32, 13])\n",
      "Services less energy services\n",
      "the number of columns is: 14\n",
      "the columns: ['Inflation t-9', 'Inflation t-8', 'Inflation t-7', 'Inflation t-6', 'Inflation t-5', 'Inflation t-4', 'Inflation t-3', 'Inflation t-2', 'Inflation t-1', 'Inflation t', 'Inflation t+1', 'Inflation t+2', 'Inflation t+3', 'Inflation t+4']\n",
      "x shape is: torch.Size([32, 13])\n",
      "y shape is: torch.Size([32])\n",
      "input shape is: torch.Size([32, 13])\n",
      "Services less medical care services\n",
      "the number of columns is: 14\n",
      "the columns: ['Inflation t-9', 'Inflation t-8', 'Inflation t-7', 'Inflation t-6', 'Inflation t-5', 'Inflation t-4', 'Inflation t-3', 'Inflation t-2', 'Inflation t-1', 'Inflation t', 'Inflation t+1', 'Inflation t+2', 'Inflation t+3', 'Inflation t+4']\n",
      "x shape is: torch.Size([32, 13])\n",
      "y shape is: torch.Size([32])\n",
      "input shape is: torch.Size([32, 13])\n",
      "Services less rent of shelter\n",
      "the number of columns is: 14\n",
      "the columns: ['Inflation t-9', 'Inflation t-8', 'Inflation t-7', 'Inflation t-6', 'Inflation t-5', 'Inflation t-4', 'Inflation t-3', 'Inflation t-2', 'Inflation t-1', 'Inflation t', 'Inflation t+1', 'Inflation t+2', 'Inflation t+3', 'Inflation t+4']\n",
      "x shape is: torch.Size([32, 13])\n",
      "y shape is: torch.Size([32])\n",
      "input shape is: torch.Size([32, 13])\n",
      "Video and audio\n",
      "the number of columns is: 14\n",
      "the columns: ['Inflation t-9', 'Inflation t-8', 'Inflation t-7', 'Inflation t-6', 'Inflation t-5', 'Inflation t-4', 'Inflation t-3', 'Inflation t-2', 'Inflation t-1', 'Inflation t', 'Inflation t+1', 'Inflation t+2', 'Inflation t+3', 'Inflation t+4']\n",
      "x shape is: torch.Size([32, 13])\n",
      "y shape is: torch.Size([32])\n",
      "input shape is: torch.Size([32, 13])\n",
      "the horizon is: 4\n",
      "Alcoholic beverages\n",
      "the number of columns is: 14\n",
      "the columns: ['Inflation t-8', 'Inflation t-7', 'Inflation t-6', 'Inflation t-5', 'Inflation t-4', 'Inflation t-3', 'Inflation t-2', 'Inflation t-1', 'Inflation t', 'Inflation t+1', 'Inflation t+2', 'Inflation t+3', 'Inflation t+4', 'Inflation t+5']\n",
      "x shape is: torch.Size([32, 13])\n",
      "y shape is: torch.Size([32])\n",
      "input shape is: torch.Size([32, 13])\n",
      "Apparel\n",
      "the number of columns is: 14\n",
      "the columns: ['Inflation t-8', 'Inflation t-7', 'Inflation t-6', 'Inflation t-5', 'Inflation t-4', 'Inflation t-3', 'Inflation t-2', 'Inflation t-1', 'Inflation t', 'Inflation t+1', 'Inflation t+2', 'Inflation t+3', 'Inflation t+4', 'Inflation t+5']\n",
      "x shape is: torch.Size([32, 13])\n",
      "y shape is: torch.Size([32])\n",
      "input shape is: torch.Size([32, 13])\n",
      "Cereals and bakery products\n",
      "the number of columns is: 14\n",
      "the columns: ['Inflation t-8', 'Inflation t-7', 'Inflation t-6', 'Inflation t-5', 'Inflation t-4', 'Inflation t-3', 'Inflation t-2', 'Inflation t-1', 'Inflation t', 'Inflation t+1', 'Inflation t+2', 'Inflation t+3', 'Inflation t+4', 'Inflation t+5']\n",
      "x shape is: torch.Size([32, 13])\n",
      "y shape is: torch.Size([32])\n",
      "input shape is: torch.Size([32, 13])\n",
      "Dairy and related products\n",
      "the number of columns is: 14\n",
      "the columns: ['Inflation t-8', 'Inflation t-7', 'Inflation t-6', 'Inflation t-5', 'Inflation t-4', 'Inflation t-3', 'Inflation t-2', 'Inflation t-1', 'Inflation t', 'Inflation t+1', 'Inflation t+2', 'Inflation t+3', 'Inflation t+4', 'Inflation t+5']\n",
      "x shape is: torch.Size([32, 13])\n",
      "y shape is: torch.Size([32])\n",
      "input shape is: torch.Size([32, 13])\n",
      "Education and communication commodities\n",
      "the number of columns is: 14\n",
      "the columns: ['Inflation t-8', 'Inflation t-7', 'Inflation t-6', 'Inflation t-5', 'Inflation t-4', 'Inflation t-3', 'Inflation t-2', 'Inflation t-1', 'Inflation t', 'Inflation t+1', 'Inflation t+2', 'Inflation t+3', 'Inflation t+4', 'Inflation t+5']\n",
      "x shape is: torch.Size([32, 13])\n",
      "y shape is: torch.Size([32])\n",
      "input shape is: torch.Size([32, 13])\n",
      "Electricity\n",
      "the number of columns is: 14\n",
      "the columns: ['Inflation t-8', 'Inflation t-7', 'Inflation t-6', 'Inflation t-5', 'Inflation t-4', 'Inflation t-3', 'Inflation t-2', 'Inflation t-1', 'Inflation t', 'Inflation t+1', 'Inflation t+2', 'Inflation t+3', 'Inflation t+4', 'Inflation t+5']\n",
      "x shape is: torch.Size([32, 13])\n",
      "y shape is: torch.Size([32])\n",
      "input shape is: torch.Size([32, 13])\n",
      "Food from vending machines and mobile vendors\n",
      "the number of columns is: 14\n",
      "the columns: ['Inflation t-8', 'Inflation t-7', 'Inflation t-6', 'Inflation t-5', 'Inflation t-4', 'Inflation t-3', 'Inflation t-2', 'Inflation t-1', 'Inflation t', 'Inflation t+1', 'Inflation t+2', 'Inflation t+3', 'Inflation t+4', 'Inflation t+5']\n",
      "x shape is: torch.Size([32, 13])\n",
      "y shape is: torch.Size([32])\n",
      "input shape is: torch.Size([32, 13])\n",
      "Fruits and vegetables\n",
      "the number of columns is: 14\n",
      "the columns: ['Inflation t-8', 'Inflation t-7', 'Inflation t-6', 'Inflation t-5', 'Inflation t-4', 'Inflation t-3', 'Inflation t-2', 'Inflation t-1', 'Inflation t', 'Inflation t+1', 'Inflation t+2', 'Inflation t+3', 'Inflation t+4', 'Inflation t+5']\n",
      "x shape is: torch.Size([32, 13])\n",
      "y shape is: torch.Size([32])\n",
      "input shape is: torch.Size([32, 13])\n",
      "Fuel oil and other fuels\n",
      "the number of columns is: 14\n",
      "the columns: ['Inflation t-8', 'Inflation t-7', 'Inflation t-6', 'Inflation t-5', 'Inflation t-4', 'Inflation t-3', 'Inflation t-2', 'Inflation t-1', 'Inflation t', 'Inflation t+1', 'Inflation t+2', 'Inflation t+3', 'Inflation t+4', 'Inflation t+5']\n",
      "x shape is: torch.Size([32, 13])\n",
      "y shape is: torch.Size([32])\n",
      "input shape is: torch.Size([32, 13])\n",
      "Full service meals and snacks\n",
      "the number of columns is: 14\n",
      "the columns: ['Inflation t-8', 'Inflation t-7', 'Inflation t-6', 'Inflation t-5', 'Inflation t-4', 'Inflation t-3', 'Inflation t-2', 'Inflation t-1', 'Inflation t', 'Inflation t+1', 'Inflation t+2', 'Inflation t+3', 'Inflation t+4', 'Inflation t+5']\n",
      "x shape is: torch.Size([32, 13])\n",
      "y shape is: torch.Size([32])\n",
      "input shape is: torch.Size([32, 13])\n",
      "Household furnishings and supplies\n",
      "the number of columns is: 14\n",
      "the columns: ['Inflation t-8', 'Inflation t-7', 'Inflation t-6', 'Inflation t-5', 'Inflation t-4', 'Inflation t-3', 'Inflation t-2', 'Inflation t-1', 'Inflation t', 'Inflation t+1', 'Inflation t+2', 'Inflation t+3', 'Inflation t+4', 'Inflation t+5']\n",
      "x shape is: torch.Size([32, 13])\n",
      "y shape is: torch.Size([32])\n",
      "input shape is: torch.Size([32, 13])\n",
      "Information and information processing\n",
      "the number of columns is: 14\n",
      "the columns: ['Inflation t-8', 'Inflation t-7', 'Inflation t-6', 'Inflation t-5', 'Inflation t-4', 'Inflation t-3', 'Inflation t-2', 'Inflation t-1', 'Inflation t', 'Inflation t+1', 'Inflation t+2', 'Inflation t+3', 'Inflation t+4', 'Inflation t+5']\n",
      "x shape is: torch.Size([32, 13])\n",
      "y shape is: torch.Size([32])\n",
      "input shape is: torch.Size([32, 13])\n",
      "Information technology, hardware and services\n",
      "the number of columns is: 14\n",
      "the columns: ['Inflation t-8', 'Inflation t-7', 'Inflation t-6', 'Inflation t-5', 'Inflation t-4', 'Inflation t-3', 'Inflation t-2', 'Inflation t-1', 'Inflation t', 'Inflation t+1', 'Inflation t+2', 'Inflation t+3', 'Inflation t+4', 'Inflation t+5']\n",
      "x shape is: torch.Size([32, 13])\n",
      "y shape is: torch.Size([32])\n",
      "input shape is: torch.Size([32, 13])\n",
      "Limited service meals and snacks\n",
      "the number of columns is: 14\n",
      "the columns: ['Inflation t-8', 'Inflation t-7', 'Inflation t-6', 'Inflation t-5', 'Inflation t-4', 'Inflation t-3', 'Inflation t-2', 'Inflation t-1', 'Inflation t', 'Inflation t+1', 'Inflation t+2', 'Inflation t+3', 'Inflation t+4', 'Inflation t+5']\n",
      "x shape is: torch.Size([32, 13])\n",
      "y shape is: torch.Size([32])\n",
      "input shape is: torch.Size([32, 13])\n",
      "Meats, poultry, fish, and eggs\n",
      "the number of columns is: 14\n",
      "the columns: ['Inflation t-8', 'Inflation t-7', 'Inflation t-6', 'Inflation t-5', 'Inflation t-4', 'Inflation t-3', 'Inflation t-2', 'Inflation t-1', 'Inflation t', 'Inflation t+1', 'Inflation t+2', 'Inflation t+3', 'Inflation t+4', 'Inflation t+5']\n",
      "x shape is: torch.Size([32, 13])\n",
      "y shape is: torch.Size([32])\n",
      "input shape is: torch.Size([32, 13])\n",
      "Medical care commodities\n",
      "the number of columns is: 14\n",
      "the columns: ['Inflation t-8', 'Inflation t-7', 'Inflation t-6', 'Inflation t-5', 'Inflation t-4', 'Inflation t-3', 'Inflation t-2', 'Inflation t-1', 'Inflation t', 'Inflation t+1', 'Inflation t+2', 'Inflation t+3', 'Inflation t+4', 'Inflation t+5']\n",
      "x shape is: torch.Size([32, 13])\n",
      "y shape is: torch.Size([32])\n",
      "input shape is: torch.Size([32, 13])\n",
      "Motor fuel\n",
      "the number of columns is: 14\n",
      "the columns: ['Inflation t-8', 'Inflation t-7', 'Inflation t-6', 'Inflation t-5', 'Inflation t-4', 'Inflation t-3', 'Inflation t-2', 'Inflation t-1', 'Inflation t', 'Inflation t+1', 'Inflation t+2', 'Inflation t+3', 'Inflation t+4', 'Inflation t+5']\n",
      "x shape is: torch.Size([32, 13])\n",
      "y shape is: torch.Size([32])\n",
      "input shape is: torch.Size([32, 13])\n",
      "New and used motor vehicles\n",
      "the number of columns is: 14\n",
      "the columns: ['Inflation t-8', 'Inflation t-7', 'Inflation t-6', 'Inflation t-5', 'Inflation t-4', 'Inflation t-3', 'Inflation t-2', 'Inflation t-1', 'Inflation t', 'Inflation t+1', 'Inflation t+2', 'Inflation t+3', 'Inflation t+4', 'Inflation t+5']\n",
      "x shape is: torch.Size([32, 13])\n",
      "y shape is: torch.Size([32])\n",
      "input shape is: torch.Size([32, 13])\n",
      "Nonalcoholic beverages and beverage materials\n",
      "the number of columns is: 14\n",
      "the columns: ['Inflation t-8', 'Inflation t-7', 'Inflation t-6', 'Inflation t-5', 'Inflation t-4', 'Inflation t-3', 'Inflation t-2', 'Inflation t-1', 'Inflation t', 'Inflation t+1', 'Inflation t+2', 'Inflation t+3', 'Inflation t+4', 'Inflation t+5']\n",
      "x shape is: torch.Size([32, 13])\n",
      "y shape is: torch.Size([32])\n",
      "input shape is: torch.Size([32, 13])\n",
      "Other food at home\n",
      "the number of columns is: 14\n",
      "the columns: ['Inflation t-8', 'Inflation t-7', 'Inflation t-6', 'Inflation t-5', 'Inflation t-4', 'Inflation t-3', 'Inflation t-2', 'Inflation t-1', 'Inflation t', 'Inflation t+1', 'Inflation t+2', 'Inflation t+3', 'Inflation t+4', 'Inflation t+5']\n",
      "x shape is: torch.Size([32, 13])\n",
      "y shape is: torch.Size([32])\n",
      "input shape is: torch.Size([32, 13])\n",
      "Other food away from home\n",
      "the number of columns is: 14\n",
      "the columns: ['Inflation t-8', 'Inflation t-7', 'Inflation t-6', 'Inflation t-5', 'Inflation t-4', 'Inflation t-3', 'Inflation t-2', 'Inflation t-1', 'Inflation t', 'Inflation t+1', 'Inflation t+2', 'Inflation t+3', 'Inflation t+4', 'Inflation t+5']\n",
      "x shape is: torch.Size([32, 13])\n",
      "y shape is: torch.Size([32])\n",
      "input shape is: torch.Size([32, 13])\n",
      "Other goods\n",
      "the number of columns is: 14\n",
      "the columns: ['Inflation t-8', 'Inflation t-7', 'Inflation t-6', 'Inflation t-5', 'Inflation t-4', 'Inflation t-3', 'Inflation t-2', 'Inflation t-1', 'Inflation t', 'Inflation t+1', 'Inflation t+2', 'Inflation t+3', 'Inflation t+4', 'Inflation t+5']\n",
      "x shape is: torch.Size([32, 13])\n",
      "y shape is: torch.Size([32])\n",
      "input shape is: torch.Size([32, 13])\n",
      "Recreation commodities\n",
      "the number of columns is: 14\n",
      "the columns: ['Inflation t-8', 'Inflation t-7', 'Inflation t-6', 'Inflation t-5', 'Inflation t-4', 'Inflation t-3', 'Inflation t-2', 'Inflation t-1', 'Inflation t', 'Inflation t+1', 'Inflation t+2', 'Inflation t+3', 'Inflation t+4', 'Inflation t+5']\n",
      "x shape is: torch.Size([32, 13])\n",
      "y shape is: torch.Size([32])\n",
      "input shape is: torch.Size([32, 13])\n",
      "Shelter\n",
      "the number of columns is: 14\n",
      "the columns: ['Inflation t-8', 'Inflation t-7', 'Inflation t-6', 'Inflation t-5', 'Inflation t-4', 'Inflation t-3', 'Inflation t-2', 'Inflation t-1', 'Inflation t', 'Inflation t+1', 'Inflation t+2', 'Inflation t+3', 'Inflation t+4', 'Inflation t+5']\n",
      "x shape is: torch.Size([32, 13])\n",
      "y shape is: torch.Size([32])\n",
      "input shape is: torch.Size([32, 13])\n",
      "Transportation commodities less motor fuel\n",
      "the number of columns is: 14\n",
      "the columns: ['Inflation t-8', 'Inflation t-7', 'Inflation t-6', 'Inflation t-5', 'Inflation t-4', 'Inflation t-3', 'Inflation t-2', 'Inflation t-1', 'Inflation t', 'Inflation t+1', 'Inflation t+2', 'Inflation t+3', 'Inflation t+4', 'Inflation t+5']\n",
      "x shape is: torch.Size([32, 13])\n",
      "y shape is: torch.Size([32])\n",
      "input shape is: torch.Size([32, 13])\n",
      "All items\n",
      "the number of columns is: 14\n",
      "the columns: ['Inflation t-8', 'Inflation t-7', 'Inflation t-6', 'Inflation t-5', 'Inflation t-4', 'Inflation t-3', 'Inflation t-2', 'Inflation t-1', 'Inflation t', 'Inflation t+1', 'Inflation t+2', 'Inflation t+3', 'Inflation t+4', 'Inflation t+5']\n",
      "x shape is: torch.Size([32, 13])\n",
      "y shape is: torch.Size([32])\n",
      "input shape is: torch.Size([32, 13])\n",
      "All items less energy\n",
      "the number of columns is: 14\n",
      "the columns: ['Inflation t-8', 'Inflation t-7', 'Inflation t-6', 'Inflation t-5', 'Inflation t-4', 'Inflation t-3', 'Inflation t-2', 'Inflation t-1', 'Inflation t', 'Inflation t+1', 'Inflation t+2', 'Inflation t+3', 'Inflation t+4', 'Inflation t+5']\n",
      "x shape is: torch.Size([32, 13])\n",
      "y shape is: torch.Size([32])\n",
      "input shape is: torch.Size([32, 13])\n",
      "All items less food\n",
      "the number of columns is: 14\n",
      "the columns: ['Inflation t-8', 'Inflation t-7', 'Inflation t-6', 'Inflation t-5', 'Inflation t-4', 'Inflation t-3', 'Inflation t-2', 'Inflation t-1', 'Inflation t', 'Inflation t+1', 'Inflation t+2', 'Inflation t+3', 'Inflation t+4', 'Inflation t+5']\n",
      "x shape is: torch.Size([32, 13])\n",
      "y shape is: torch.Size([32])\n",
      "input shape is: torch.Size([32, 13])\n",
      "All items less food and energy\n",
      "the number of columns is: 14\n",
      "the columns: ['Inflation t-8', 'Inflation t-7', 'Inflation t-6', 'Inflation t-5', 'Inflation t-4', 'Inflation t-3', 'Inflation t-2', 'Inflation t-1', 'Inflation t', 'Inflation t+1', 'Inflation t+2', 'Inflation t+3', 'Inflation t+4', 'Inflation t+5']\n",
      "x shape is: torch.Size([32, 13])\n",
      "y shape is: torch.Size([32])\n",
      "input shape is: torch.Size([32, 13])\n",
      "All items less food and shelter\n",
      "the number of columns is: 14\n",
      "the columns: ['Inflation t-8', 'Inflation t-7', 'Inflation t-6', 'Inflation t-5', 'Inflation t-4', 'Inflation t-3', 'Inflation t-2', 'Inflation t-1', 'Inflation t', 'Inflation t+1', 'Inflation t+2', 'Inflation t+3', 'Inflation t+4', 'Inflation t+5']\n",
      "x shape is: torch.Size([32, 13])\n",
      "y shape is: torch.Size([32])\n",
      "input shape is: torch.Size([32, 13])\n",
      "All items less food, shelter, and energy\n",
      "the number of columns is: 14\n",
      "the columns: ['Inflation t-8', 'Inflation t-7', 'Inflation t-6', 'Inflation t-5', 'Inflation t-4', 'Inflation t-3', 'Inflation t-2', 'Inflation t-1', 'Inflation t', 'Inflation t+1', 'Inflation t+2', 'Inflation t+3', 'Inflation t+4', 'Inflation t+5']\n",
      "x shape is: torch.Size([32, 13])\n",
      "y shape is: torch.Size([32])\n",
      "input shape is: torch.Size([32, 13])\n",
      "All items less food, shelter, energy, and used cars and trucks\n",
      "the number of columns is: 14\n",
      "the columns: ['Inflation t-8', 'Inflation t-7', 'Inflation t-6', 'Inflation t-5', 'Inflation t-4', 'Inflation t-3', 'Inflation t-2', 'Inflation t-1', 'Inflation t', 'Inflation t+1', 'Inflation t+2', 'Inflation t+3', 'Inflation t+4', 'Inflation t+5']\n",
      "x shape is: torch.Size([32, 13])\n",
      "y shape is: torch.Size([32])\n",
      "input shape is: torch.Size([32, 13])\n",
      "All items less medical care\n",
      "the number of columns is: 14\n",
      "the columns: ['Inflation t-8', 'Inflation t-7', 'Inflation t-6', 'Inflation t-5', 'Inflation t-4', 'Inflation t-3', 'Inflation t-2', 'Inflation t-1', 'Inflation t', 'Inflation t+1', 'Inflation t+2', 'Inflation t+3', 'Inflation t+4', 'Inflation t+5']\n",
      "x shape is: torch.Size([32, 13])\n",
      "y shape is: torch.Size([32])\n",
      "input shape is: torch.Size([32, 13])\n",
      "All items less shelter\n",
      "the number of columns is: 14\n",
      "the columns: ['Inflation t-8', 'Inflation t-7', 'Inflation t-6', 'Inflation t-5', 'Inflation t-4', 'Inflation t-3', 'Inflation t-2', 'Inflation t-1', 'Inflation t', 'Inflation t+1', 'Inflation t+2', 'Inflation t+3', 'Inflation t+4', 'Inflation t+5']\n",
      "x shape is: torch.Size([32, 13])\n",
      "y shape is: torch.Size([32])\n",
      "input shape is: torch.Size([32, 13])\n",
      "Apparel less footwear\n",
      "the number of columns is: 14\n",
      "the columns: ['Inflation t-8', 'Inflation t-7', 'Inflation t-6', 'Inflation t-5', 'Inflation t-4', 'Inflation t-3', 'Inflation t-2', 'Inflation t-1', 'Inflation t', 'Inflation t+1', 'Inflation t+2', 'Inflation t+3', 'Inflation t+4', 'Inflation t+5']\n",
      "x shape is: torch.Size([32, 13])\n",
      "y shape is: torch.Size([32])\n",
      "input shape is: torch.Size([32, 13])\n",
      "Commodities\n",
      "the number of columns is: 14\n",
      "the columns: ['Inflation t-8', 'Inflation t-7', 'Inflation t-6', 'Inflation t-5', 'Inflation t-4', 'Inflation t-3', 'Inflation t-2', 'Inflation t-1', 'Inflation t', 'Inflation t+1', 'Inflation t+2', 'Inflation t+3', 'Inflation t+4', 'Inflation t+5']\n",
      "x shape is: torch.Size([32, 13])\n",
      "y shape is: torch.Size([32])\n",
      "input shape is: torch.Size([32, 13])\n",
      "Durables\n",
      "the number of columns is: 14\n",
      "the columns: ['Inflation t-8', 'Inflation t-7', 'Inflation t-6', 'Inflation t-5', 'Inflation t-4', 'Inflation t-3', 'Inflation t-2', 'Inflation t-1', 'Inflation t', 'Inflation t+1', 'Inflation t+2', 'Inflation t+3', 'Inflation t+4', 'Inflation t+5']\n",
      "x shape is: torch.Size([32, 13])\n",
      "y shape is: torch.Size([32])\n",
      "input shape is: torch.Size([32, 13])\n",
      "Education and communication\n",
      "the number of columns is: 14\n",
      "the columns: ['Inflation t-8', 'Inflation t-7', 'Inflation t-6', 'Inflation t-5', 'Inflation t-4', 'Inflation t-3', 'Inflation t-2', 'Inflation t-1', 'Inflation t', 'Inflation t+1', 'Inflation t+2', 'Inflation t+3', 'Inflation t+4', 'Inflation t+5']\n",
      "x shape is: torch.Size([32, 13])\n",
      "y shape is: torch.Size([32])\n",
      "input shape is: torch.Size([32, 13])\n",
      "Energy\n",
      "the number of columns is: 14\n",
      "the columns: ['Inflation t-8', 'Inflation t-7', 'Inflation t-6', 'Inflation t-5', 'Inflation t-4', 'Inflation t-3', 'Inflation t-2', 'Inflation t-1', 'Inflation t', 'Inflation t+1', 'Inflation t+2', 'Inflation t+3', 'Inflation t+4', 'Inflation t+5']\n",
      "x shape is: torch.Size([32, 13])\n",
      "y shape is: torch.Size([32])\n",
      "input shape is: torch.Size([32, 13])\n",
      "Food\n",
      "the number of columns is: 14\n",
      "the columns: ['Inflation t-8', 'Inflation t-7', 'Inflation t-6', 'Inflation t-5', 'Inflation t-4', 'Inflation t-3', 'Inflation t-2', 'Inflation t-1', 'Inflation t', 'Inflation t+1', 'Inflation t+2', 'Inflation t+3', 'Inflation t+4', 'Inflation t+5']\n",
      "x shape is: torch.Size([32, 13])\n",
      "y shape is: torch.Size([32])\n",
      "input shape is: torch.Size([32, 13])\n",
      "Food and beverages\n",
      "the number of columns is: 14\n",
      "the columns: ['Inflation t-8', 'Inflation t-7', 'Inflation t-6', 'Inflation t-5', 'Inflation t-4', 'Inflation t-3', 'Inflation t-2', 'Inflation t-1', 'Inflation t', 'Inflation t+1', 'Inflation t+2', 'Inflation t+3', 'Inflation t+4', 'Inflation t+5']\n",
      "x shape is: torch.Size([32, 13])\n",
      "y shape is: torch.Size([32])\n",
      "input shape is: torch.Size([32, 13])\n",
      "Fuels and utilities\n",
      "the number of columns is: 14\n",
      "the columns: ['Inflation t-8', 'Inflation t-7', 'Inflation t-6', 'Inflation t-5', 'Inflation t-4', 'Inflation t-3', 'Inflation t-2', 'Inflation t-1', 'Inflation t', 'Inflation t+1', 'Inflation t+2', 'Inflation t+3', 'Inflation t+4', 'Inflation t+5']\n",
      "x shape is: torch.Size([32, 13])\n",
      "y shape is: torch.Size([32])\n",
      "input shape is: torch.Size([32, 13])\n",
      "Household furnishings and operations\n",
      "the number of columns is: 14\n",
      "the columns: ['Inflation t-8', 'Inflation t-7', 'Inflation t-6', 'Inflation t-5', 'Inflation t-4', 'Inflation t-3', 'Inflation t-2', 'Inflation t-1', 'Inflation t', 'Inflation t+1', 'Inflation t+2', 'Inflation t+3', 'Inflation t+4', 'Inflation t+5']\n",
      "x shape is: torch.Size([32, 13])\n",
      "y shape is: torch.Size([32])\n",
      "input shape is: torch.Size([32, 13])\n",
      "Housing\n",
      "the number of columns is: 14\n",
      "the columns: ['Inflation t-8', 'Inflation t-7', 'Inflation t-6', 'Inflation t-5', 'Inflation t-4', 'Inflation t-3', 'Inflation t-2', 'Inflation t-1', 'Inflation t', 'Inflation t+1', 'Inflation t+2', 'Inflation t+3', 'Inflation t+4', 'Inflation t+5']\n",
      "x shape is: torch.Size([32, 13])\n",
      "y shape is: torch.Size([32])\n",
      "input shape is: torch.Size([32, 13])\n",
      "Medical care\n",
      "the number of columns is: 14\n",
      "the columns: ['Inflation t-8', 'Inflation t-7', 'Inflation t-6', 'Inflation t-5', 'Inflation t-4', 'Inflation t-3', 'Inflation t-2', 'Inflation t-1', 'Inflation t', 'Inflation t+1', 'Inflation t+2', 'Inflation t+3', 'Inflation t+4', 'Inflation t+5']\n",
      "x shape is: torch.Size([32, 13])\n",
      "y shape is: torch.Size([32])\n",
      "input shape is: torch.Size([32, 13])\n",
      "Nondurables\n",
      "the number of columns is: 14\n",
      "the columns: ['Inflation t-8', 'Inflation t-7', 'Inflation t-6', 'Inflation t-5', 'Inflation t-4', 'Inflation t-3', 'Inflation t-2', 'Inflation t-1', 'Inflation t', 'Inflation t+1', 'Inflation t+2', 'Inflation t+3', 'Inflation t+4', 'Inflation t+5']\n",
      "x shape is: torch.Size([32, 13])\n",
      "y shape is: torch.Size([32])\n",
      "input shape is: torch.Size([32, 13])\n",
      "Other goods and services\n",
      "the number of columns is: 14\n",
      "the columns: ['Inflation t-8', 'Inflation t-7', 'Inflation t-6', 'Inflation t-5', 'Inflation t-4', 'Inflation t-3', 'Inflation t-2', 'Inflation t-1', 'Inflation t', 'Inflation t+1', 'Inflation t+2', 'Inflation t+3', 'Inflation t+4', 'Inflation t+5']\n",
      "x shape is: torch.Size([32, 13])\n",
      "y shape is: torch.Size([32])\n",
      "input shape is: torch.Size([32, 13])\n",
      "Other services\n",
      "the number of columns is: 14\n",
      "the columns: ['Inflation t-8', 'Inflation t-7', 'Inflation t-6', 'Inflation t-5', 'Inflation t-4', 'Inflation t-3', 'Inflation t-2', 'Inflation t-1', 'Inflation t', 'Inflation t+1', 'Inflation t+2', 'Inflation t+3', 'Inflation t+4', 'Inflation t+5']\n",
      "x shape is: torch.Size([32, 13])\n",
      "y shape is: torch.Size([32])\n",
      "input shape is: torch.Size([32, 13])\n",
      "Recreation\n",
      "the number of columns is: 14\n",
      "the columns: ['Inflation t-8', 'Inflation t-7', 'Inflation t-6', 'Inflation t-5', 'Inflation t-4', 'Inflation t-3', 'Inflation t-2', 'Inflation t-1', 'Inflation t', 'Inflation t+1', 'Inflation t+2', 'Inflation t+3', 'Inflation t+4', 'Inflation t+5']\n",
      "x shape is: torch.Size([32, 13])\n",
      "y shape is: torch.Size([32])\n",
      "input shape is: torch.Size([32, 13])\n",
      "Services\n",
      "the number of columns is: 14\n",
      "the columns: ['Inflation t-8', 'Inflation t-7', 'Inflation t-6', 'Inflation t-5', 'Inflation t-4', 'Inflation t-3', 'Inflation t-2', 'Inflation t-1', 'Inflation t', 'Inflation t+1', 'Inflation t+2', 'Inflation t+3', 'Inflation t+4', 'Inflation t+5']\n",
      "x shape is: torch.Size([32, 13])\n",
      "y shape is: torch.Size([32])\n",
      "input shape is: torch.Size([32, 13])\n",
      "Transportation\n",
      "the number of columns is: 14\n",
      "the columns: ['Inflation t-8', 'Inflation t-7', 'Inflation t-6', 'Inflation t-5', 'Inflation t-4', 'Inflation t-3', 'Inflation t-2', 'Inflation t-1', 'Inflation t', 'Inflation t+1', 'Inflation t+2', 'Inflation t+3', 'Inflation t+4', 'Inflation t+5']\n",
      "x shape is: torch.Size([32, 13])\n",
      "y shape is: torch.Size([32])\n",
      "input shape is: torch.Size([32, 13])\n",
      "Utilities and public transportation\n",
      "the number of columns is: 14\n",
      "the columns: ['Inflation t-8', 'Inflation t-7', 'Inflation t-6', 'Inflation t-5', 'Inflation t-4', 'Inflation t-3', 'Inflation t-2', 'Inflation t-1', 'Inflation t', 'Inflation t+1', 'Inflation t+2', 'Inflation t+3', 'Inflation t+4', 'Inflation t+5']\n",
      "x shape is: torch.Size([32, 13])\n",
      "y shape is: torch.Size([32])\n",
      "input shape is: torch.Size([32, 13])\n",
      "Commodities less food\n",
      "the number of columns is: 14\n",
      "the columns: ['Inflation t-8', 'Inflation t-7', 'Inflation t-6', 'Inflation t-5', 'Inflation t-4', 'Inflation t-3', 'Inflation t-2', 'Inflation t-1', 'Inflation t', 'Inflation t+1', 'Inflation t+2', 'Inflation t+3', 'Inflation t+4', 'Inflation t+5']\n",
      "x shape is: torch.Size([32, 13])\n",
      "y shape is: torch.Size([32])\n",
      "input shape is: torch.Size([32, 13])\n",
      "Commodities less food and beverages\n",
      "the number of columns is: 14\n",
      "the columns: ['Inflation t-8', 'Inflation t-7', 'Inflation t-6', 'Inflation t-5', 'Inflation t-4', 'Inflation t-3', 'Inflation t-2', 'Inflation t-1', 'Inflation t', 'Inflation t+1', 'Inflation t+2', 'Inflation t+3', 'Inflation t+4', 'Inflation t+5']\n",
      "x shape is: torch.Size([32, 13])\n",
      "y shape is: torch.Size([32])\n",
      "input shape is: torch.Size([32, 13])\n",
      "Commodities less food and energy commodities\n",
      "the number of columns is: 14\n",
      "the columns: ['Inflation t-8', 'Inflation t-7', 'Inflation t-6', 'Inflation t-5', 'Inflation t-4', 'Inflation t-3', 'Inflation t-2', 'Inflation t-1', 'Inflation t', 'Inflation t+1', 'Inflation t+2', 'Inflation t+3', 'Inflation t+4', 'Inflation t+5']\n",
      "x shape is: torch.Size([32, 13])\n",
      "y shape is: torch.Size([32])\n",
      "input shape is: torch.Size([32, 13])\n",
      "Commodities less food, energy, and used cars and trucks\n",
      "the number of columns is: 14\n",
      "the columns: ['Inflation t-8', 'Inflation t-7', 'Inflation t-6', 'Inflation t-5', 'Inflation t-4', 'Inflation t-3', 'Inflation t-2', 'Inflation t-1', 'Inflation t', 'Inflation t+1', 'Inflation t+2', 'Inflation t+3', 'Inflation t+4', 'Inflation t+5']\n",
      "x shape is: torch.Size([32, 13])\n",
      "y shape is: torch.Size([32])\n",
      "input shape is: torch.Size([32, 13])\n",
      "Communication\n",
      "the number of columns is: 14\n",
      "the columns: ['Inflation t-8', 'Inflation t-7', 'Inflation t-6', 'Inflation t-5', 'Inflation t-4', 'Inflation t-3', 'Inflation t-2', 'Inflation t-1', 'Inflation t', 'Inflation t+1', 'Inflation t+2', 'Inflation t+3', 'Inflation t+4', 'Inflation t+5']\n",
      "x shape is: torch.Size([32, 13])\n",
      "y shape is: torch.Size([32])\n",
      "input shape is: torch.Size([32, 13])\n",
      "Domestically produced farm food\n",
      "the number of columns is: 14\n",
      "the columns: ['Inflation t-8', 'Inflation t-7', 'Inflation t-6', 'Inflation t-5', 'Inflation t-4', 'Inflation t-3', 'Inflation t-2', 'Inflation t-1', 'Inflation t', 'Inflation t+1', 'Inflation t+2', 'Inflation t+3', 'Inflation t+4', 'Inflation t+5']\n",
      "x shape is: torch.Size([32, 13])\n",
      "y shape is: torch.Size([32])\n",
      "input shape is: torch.Size([32, 13])\n",
      "Education\n",
      "the number of columns is: 14\n",
      "the columns: ['Inflation t-8', 'Inflation t-7', 'Inflation t-6', 'Inflation t-5', 'Inflation t-4', 'Inflation t-3', 'Inflation t-2', 'Inflation t-1', 'Inflation t', 'Inflation t+1', 'Inflation t+2', 'Inflation t+3', 'Inflation t+4', 'Inflation t+5']\n",
      "x shape is: torch.Size([32, 13])\n",
      "y shape is: torch.Size([32])\n",
      "input shape is: torch.Size([32, 13])\n",
      "Energy commodities\n",
      "the number of columns is: 14\n",
      "the columns: ['Inflation t-8', 'Inflation t-7', 'Inflation t-6', 'Inflation t-5', 'Inflation t-4', 'Inflation t-3', 'Inflation t-2', 'Inflation t-1', 'Inflation t', 'Inflation t+1', 'Inflation t+2', 'Inflation t+3', 'Inflation t+4', 'Inflation t+5']\n",
      "x shape is: torch.Size([32, 13])\n",
      "y shape is: torch.Size([32])\n",
      "input shape is: torch.Size([32, 13])\n",
      "Energy services\n",
      "the number of columns is: 14\n",
      "the columns: ['Inflation t-8', 'Inflation t-7', 'Inflation t-6', 'Inflation t-5', 'Inflation t-4', 'Inflation t-3', 'Inflation t-2', 'Inflation t-1', 'Inflation t', 'Inflation t+1', 'Inflation t+2', 'Inflation t+3', 'Inflation t+4', 'Inflation t+5']\n",
      "x shape is: torch.Size([32, 13])\n",
      "y shape is: torch.Size([32])\n",
      "input shape is: torch.Size([32, 13])\n",
      "Food at home\n",
      "the number of columns is: 14\n",
      "the columns: ['Inflation t-8', 'Inflation t-7', 'Inflation t-6', 'Inflation t-5', 'Inflation t-4', 'Inflation t-3', 'Inflation t-2', 'Inflation t-1', 'Inflation t', 'Inflation t+1', 'Inflation t+2', 'Inflation t+3', 'Inflation t+4', 'Inflation t+5']\n",
      "x shape is: torch.Size([32, 13])\n",
      "y shape is: torch.Size([32])\n",
      "input shape is: torch.Size([32, 13])\n",
      "Food away from home\n",
      "the number of columns is: 14\n",
      "the columns: ['Inflation t-8', 'Inflation t-7', 'Inflation t-6', 'Inflation t-5', 'Inflation t-4', 'Inflation t-3', 'Inflation t-2', 'Inflation t-1', 'Inflation t', 'Inflation t+1', 'Inflation t+2', 'Inflation t+3', 'Inflation t+4', 'Inflation t+5']\n",
      "x shape is: torch.Size([32, 13])\n",
      "y shape is: torch.Size([32])\n",
      "input shape is: torch.Size([32, 13])\n",
      "Household energy\n",
      "the number of columns is: 14\n",
      "the columns: ['Inflation t-8', 'Inflation t-7', 'Inflation t-6', 'Inflation t-5', 'Inflation t-4', 'Inflation t-3', 'Inflation t-2', 'Inflation t-1', 'Inflation t', 'Inflation t+1', 'Inflation t+2', 'Inflation t+3', 'Inflation t+4', 'Inflation t+5']\n",
      "x shape is: torch.Size([32, 13])\n",
      "y shape is: torch.Size([32])\n",
      "input shape is: torch.Size([32, 13])\n",
      "Nondurables less food\n",
      "the number of columns is: 14\n",
      "the columns: ['Inflation t-8', 'Inflation t-7', 'Inflation t-6', 'Inflation t-5', 'Inflation t-4', 'Inflation t-3', 'Inflation t-2', 'Inflation t-1', 'Inflation t', 'Inflation t+1', 'Inflation t+2', 'Inflation t+3', 'Inflation t+4', 'Inflation t+5']\n",
      "x shape is: torch.Size([32, 13])\n",
      "y shape is: torch.Size([32])\n",
      "input shape is: torch.Size([32, 13])\n",
      "Nondurables less food and apparel\n",
      "the number of columns is: 14\n",
      "the columns: ['Inflation t-8', 'Inflation t-7', 'Inflation t-6', 'Inflation t-5', 'Inflation t-4', 'Inflation t-3', 'Inflation t-2', 'Inflation t-1', 'Inflation t', 'Inflation t+1', 'Inflation t+2', 'Inflation t+3', 'Inflation t+4', 'Inflation t+5']\n",
      "x shape is: torch.Size([32, 13])\n",
      "y shape is: torch.Size([32])\n",
      "input shape is: torch.Size([32, 13])\n",
      "Nondurables less food and beverages\n",
      "the number of columns is: 14\n",
      "the columns: ['Inflation t-8', 'Inflation t-7', 'Inflation t-6', 'Inflation t-5', 'Inflation t-4', 'Inflation t-3', 'Inflation t-2', 'Inflation t-1', 'Inflation t', 'Inflation t+1', 'Inflation t+2', 'Inflation t+3', 'Inflation t+4', 'Inflation t+5']\n",
      "x shape is: torch.Size([32, 13])\n",
      "y shape is: torch.Size([32])\n",
      "input shape is: torch.Size([32, 13])\n",
      "Nondurables less food, beverages, and apparel\n",
      "the number of columns is: 14\n",
      "the columns: ['Inflation t-8', 'Inflation t-7', 'Inflation t-6', 'Inflation t-5', 'Inflation t-4', 'Inflation t-3', 'Inflation t-2', 'Inflation t-1', 'Inflation t', 'Inflation t+1', 'Inflation t+2', 'Inflation t+3', 'Inflation t+4', 'Inflation t+5']\n",
      "x shape is: torch.Size([32, 13])\n",
      "y shape is: torch.Size([32])\n",
      "input shape is: torch.Size([32, 13])\n",
      "Personal care\n",
      "the number of columns is: 14\n",
      "the columns: ['Inflation t-8', 'Inflation t-7', 'Inflation t-6', 'Inflation t-5', 'Inflation t-4', 'Inflation t-3', 'Inflation t-2', 'Inflation t-1', 'Inflation t', 'Inflation t+1', 'Inflation t+2', 'Inflation t+3', 'Inflation t+4', 'Inflation t+5']\n",
      "x shape is: torch.Size([32, 13])\n",
      "y shape is: torch.Size([32])\n",
      "input shape is: torch.Size([32, 13])\n",
      "Pets, pet products and services\n",
      "the number of columns is: 14\n",
      "the columns: ['Inflation t-8', 'Inflation t-7', 'Inflation t-6', 'Inflation t-5', 'Inflation t-4', 'Inflation t-3', 'Inflation t-2', 'Inflation t-1', 'Inflation t', 'Inflation t+1', 'Inflation t+2', 'Inflation t+3', 'Inflation t+4', 'Inflation t+5']\n",
      "x shape is: torch.Size([32, 13])\n",
      "y shape is: torch.Size([32])\n",
      "input shape is: torch.Size([32, 13])\n",
      "Photography\n",
      "the number of columns is: 14\n",
      "the columns: ['Inflation t-8', 'Inflation t-7', 'Inflation t-6', 'Inflation t-5', 'Inflation t-4', 'Inflation t-3', 'Inflation t-2', 'Inflation t-1', 'Inflation t', 'Inflation t+1', 'Inflation t+2', 'Inflation t+3', 'Inflation t+4', 'Inflation t+5']\n",
      "x shape is: torch.Size([32, 13])\n",
      "y shape is: torch.Size([32])\n",
      "input shape is: torch.Size([32, 13])\n",
      "Private transportation\n",
      "the number of columns is: 14\n",
      "the columns: ['Inflation t-8', 'Inflation t-7', 'Inflation t-6', 'Inflation t-5', 'Inflation t-4', 'Inflation t-3', 'Inflation t-2', 'Inflation t-1', 'Inflation t', 'Inflation t+1', 'Inflation t+2', 'Inflation t+3', 'Inflation t+4', 'Inflation t+5']\n",
      "x shape is: torch.Size([32, 13])\n",
      "y shape is: torch.Size([32])\n",
      "input shape is: torch.Size([32, 13])\n",
      "Services less energy services\n",
      "the number of columns is: 14\n",
      "the columns: ['Inflation t-8', 'Inflation t-7', 'Inflation t-6', 'Inflation t-5', 'Inflation t-4', 'Inflation t-3', 'Inflation t-2', 'Inflation t-1', 'Inflation t', 'Inflation t+1', 'Inflation t+2', 'Inflation t+3', 'Inflation t+4', 'Inflation t+5']\n",
      "x shape is: torch.Size([32, 13])\n",
      "y shape is: torch.Size([32])\n",
      "input shape is: torch.Size([32, 13])\n",
      "Services less medical care services\n",
      "the number of columns is: 14\n",
      "the columns: ['Inflation t-8', 'Inflation t-7', 'Inflation t-6', 'Inflation t-5', 'Inflation t-4', 'Inflation t-3', 'Inflation t-2', 'Inflation t-1', 'Inflation t', 'Inflation t+1', 'Inflation t+2', 'Inflation t+3', 'Inflation t+4', 'Inflation t+5']\n",
      "x shape is: torch.Size([32, 13])\n",
      "y shape is: torch.Size([32])\n",
      "input shape is: torch.Size([32, 13])\n",
      "Services less rent of shelter\n",
      "the number of columns is: 14\n",
      "the columns: ['Inflation t-8', 'Inflation t-7', 'Inflation t-6', 'Inflation t-5', 'Inflation t-4', 'Inflation t-3', 'Inflation t-2', 'Inflation t-1', 'Inflation t', 'Inflation t+1', 'Inflation t+2', 'Inflation t+3', 'Inflation t+4', 'Inflation t+5']\n",
      "x shape is: torch.Size([32, 13])\n",
      "y shape is: torch.Size([32])\n",
      "input shape is: torch.Size([32, 13])\n",
      "Video and audio\n",
      "the number of columns is: 14\n",
      "the columns: ['Inflation t-8', 'Inflation t-7', 'Inflation t-6', 'Inflation t-5', 'Inflation t-4', 'Inflation t-3', 'Inflation t-2', 'Inflation t-1', 'Inflation t', 'Inflation t+1', 'Inflation t+2', 'Inflation t+3', 'Inflation t+4', 'Inflation t+5']\n",
      "x shape is: torch.Size([32, 13])\n",
      "y shape is: torch.Size([32])\n",
      "input shape is: torch.Size([32, 13])\n",
      "the horizon is: 5\n",
      "Alcoholic beverages\n",
      "the number of columns is: 14\n",
      "the columns: ['Inflation t-7', 'Inflation t-6', 'Inflation t-5', 'Inflation t-4', 'Inflation t-3', 'Inflation t-2', 'Inflation t-1', 'Inflation t', 'Inflation t+1', 'Inflation t+2', 'Inflation t+3', 'Inflation t+4', 'Inflation t+5', 'Inflation t+6']\n",
      "x shape is: torch.Size([32, 13])\n",
      "y shape is: torch.Size([32])\n",
      "input shape is: torch.Size([32, 13])\n",
      "Apparel\n",
      "the number of columns is: 14\n",
      "the columns: ['Inflation t-7', 'Inflation t-6', 'Inflation t-5', 'Inflation t-4', 'Inflation t-3', 'Inflation t-2', 'Inflation t-1', 'Inflation t', 'Inflation t+1', 'Inflation t+2', 'Inflation t+3', 'Inflation t+4', 'Inflation t+5', 'Inflation t+6']\n",
      "x shape is: torch.Size([32, 13])\n",
      "y shape is: torch.Size([32])\n",
      "input shape is: torch.Size([32, 13])\n",
      "Cereals and bakery products\n",
      "the number of columns is: 14\n",
      "the columns: ['Inflation t-7', 'Inflation t-6', 'Inflation t-5', 'Inflation t-4', 'Inflation t-3', 'Inflation t-2', 'Inflation t-1', 'Inflation t', 'Inflation t+1', 'Inflation t+2', 'Inflation t+3', 'Inflation t+4', 'Inflation t+5', 'Inflation t+6']\n",
      "x shape is: torch.Size([32, 13])\n",
      "y shape is: torch.Size([32])\n",
      "input shape is: torch.Size([32, 13])\n",
      "Dairy and related products\n",
      "the number of columns is: 14\n",
      "the columns: ['Inflation t-7', 'Inflation t-6', 'Inflation t-5', 'Inflation t-4', 'Inflation t-3', 'Inflation t-2', 'Inflation t-1', 'Inflation t', 'Inflation t+1', 'Inflation t+2', 'Inflation t+3', 'Inflation t+4', 'Inflation t+5', 'Inflation t+6']\n",
      "x shape is: torch.Size([32, 13])\n",
      "y shape is: torch.Size([32])\n",
      "input shape is: torch.Size([32, 13])\n",
      "Education and communication commodities\n",
      "the number of columns is: 14\n",
      "the columns: ['Inflation t-7', 'Inflation t-6', 'Inflation t-5', 'Inflation t-4', 'Inflation t-3', 'Inflation t-2', 'Inflation t-1', 'Inflation t', 'Inflation t+1', 'Inflation t+2', 'Inflation t+3', 'Inflation t+4', 'Inflation t+5', 'Inflation t+6']\n",
      "x shape is: torch.Size([32, 13])\n",
      "y shape is: torch.Size([32])\n",
      "input shape is: torch.Size([32, 13])\n",
      "Electricity\n",
      "the number of columns is: 14\n",
      "the columns: ['Inflation t-7', 'Inflation t-6', 'Inflation t-5', 'Inflation t-4', 'Inflation t-3', 'Inflation t-2', 'Inflation t-1', 'Inflation t', 'Inflation t+1', 'Inflation t+2', 'Inflation t+3', 'Inflation t+4', 'Inflation t+5', 'Inflation t+6']\n",
      "x shape is: torch.Size([32, 13])\n",
      "y shape is: torch.Size([32])\n",
      "input shape is: torch.Size([32, 13])\n",
      "Food from vending machines and mobile vendors\n",
      "the number of columns is: 14\n",
      "the columns: ['Inflation t-7', 'Inflation t-6', 'Inflation t-5', 'Inflation t-4', 'Inflation t-3', 'Inflation t-2', 'Inflation t-1', 'Inflation t', 'Inflation t+1', 'Inflation t+2', 'Inflation t+3', 'Inflation t+4', 'Inflation t+5', 'Inflation t+6']\n",
      "x shape is: torch.Size([32, 13])\n",
      "y shape is: torch.Size([32])\n",
      "input shape is: torch.Size([32, 13])\n",
      "Fruits and vegetables\n",
      "the number of columns is: 14\n",
      "the columns: ['Inflation t-7', 'Inflation t-6', 'Inflation t-5', 'Inflation t-4', 'Inflation t-3', 'Inflation t-2', 'Inflation t-1', 'Inflation t', 'Inflation t+1', 'Inflation t+2', 'Inflation t+3', 'Inflation t+4', 'Inflation t+5', 'Inflation t+6']\n",
      "x shape is: torch.Size([32, 13])\n",
      "y shape is: torch.Size([32])\n",
      "input shape is: torch.Size([32, 13])\n",
      "Fuel oil and other fuels\n",
      "the number of columns is: 14\n",
      "the columns: ['Inflation t-7', 'Inflation t-6', 'Inflation t-5', 'Inflation t-4', 'Inflation t-3', 'Inflation t-2', 'Inflation t-1', 'Inflation t', 'Inflation t+1', 'Inflation t+2', 'Inflation t+3', 'Inflation t+4', 'Inflation t+5', 'Inflation t+6']\n",
      "x shape is: torch.Size([32, 13])\n",
      "y shape is: torch.Size([32])\n",
      "input shape is: torch.Size([32, 13])\n",
      "Full service meals and snacks\n",
      "the number of columns is: 14\n",
      "the columns: ['Inflation t-7', 'Inflation t-6', 'Inflation t-5', 'Inflation t-4', 'Inflation t-3', 'Inflation t-2', 'Inflation t-1', 'Inflation t', 'Inflation t+1', 'Inflation t+2', 'Inflation t+3', 'Inflation t+4', 'Inflation t+5', 'Inflation t+6']\n",
      "x shape is: torch.Size([32, 13])\n",
      "y shape is: torch.Size([32])\n",
      "input shape is: torch.Size([32, 13])\n",
      "Household furnishings and supplies\n",
      "the number of columns is: 14\n",
      "the columns: ['Inflation t-7', 'Inflation t-6', 'Inflation t-5', 'Inflation t-4', 'Inflation t-3', 'Inflation t-2', 'Inflation t-1', 'Inflation t', 'Inflation t+1', 'Inflation t+2', 'Inflation t+3', 'Inflation t+4', 'Inflation t+5', 'Inflation t+6']\n",
      "x shape is: torch.Size([32, 13])\n",
      "y shape is: torch.Size([32])\n",
      "input shape is: torch.Size([32, 13])\n",
      "Information and information processing\n",
      "the number of columns is: 14\n",
      "the columns: ['Inflation t-7', 'Inflation t-6', 'Inflation t-5', 'Inflation t-4', 'Inflation t-3', 'Inflation t-2', 'Inflation t-1', 'Inflation t', 'Inflation t+1', 'Inflation t+2', 'Inflation t+3', 'Inflation t+4', 'Inflation t+5', 'Inflation t+6']\n",
      "x shape is: torch.Size([32, 13])\n",
      "y shape is: torch.Size([32])\n",
      "input shape is: torch.Size([32, 13])\n",
      "Information technology, hardware and services\n",
      "the number of columns is: 14\n",
      "the columns: ['Inflation t-7', 'Inflation t-6', 'Inflation t-5', 'Inflation t-4', 'Inflation t-3', 'Inflation t-2', 'Inflation t-1', 'Inflation t', 'Inflation t+1', 'Inflation t+2', 'Inflation t+3', 'Inflation t+4', 'Inflation t+5', 'Inflation t+6']\n",
      "x shape is: torch.Size([32, 13])\n",
      "y shape is: torch.Size([32])\n",
      "input shape is: torch.Size([32, 13])\n",
      "Limited service meals and snacks\n",
      "the number of columns is: 14\n",
      "the columns: ['Inflation t-7', 'Inflation t-6', 'Inflation t-5', 'Inflation t-4', 'Inflation t-3', 'Inflation t-2', 'Inflation t-1', 'Inflation t', 'Inflation t+1', 'Inflation t+2', 'Inflation t+3', 'Inflation t+4', 'Inflation t+5', 'Inflation t+6']\n",
      "x shape is: torch.Size([32, 13])\n",
      "y shape is: torch.Size([32])\n",
      "input shape is: torch.Size([32, 13])\n",
      "Meats, poultry, fish, and eggs\n",
      "the number of columns is: 14\n",
      "the columns: ['Inflation t-7', 'Inflation t-6', 'Inflation t-5', 'Inflation t-4', 'Inflation t-3', 'Inflation t-2', 'Inflation t-1', 'Inflation t', 'Inflation t+1', 'Inflation t+2', 'Inflation t+3', 'Inflation t+4', 'Inflation t+5', 'Inflation t+6']\n",
      "x shape is: torch.Size([32, 13])\n",
      "y shape is: torch.Size([32])\n",
      "input shape is: torch.Size([32, 13])\n",
      "Medical care commodities\n",
      "the number of columns is: 14\n",
      "the columns: ['Inflation t-7', 'Inflation t-6', 'Inflation t-5', 'Inflation t-4', 'Inflation t-3', 'Inflation t-2', 'Inflation t-1', 'Inflation t', 'Inflation t+1', 'Inflation t+2', 'Inflation t+3', 'Inflation t+4', 'Inflation t+5', 'Inflation t+6']\n",
      "x shape is: torch.Size([32, 13])\n",
      "y shape is: torch.Size([32])\n",
      "input shape is: torch.Size([32, 13])\n",
      "Motor fuel\n",
      "the number of columns is: 14\n",
      "the columns: ['Inflation t-7', 'Inflation t-6', 'Inflation t-5', 'Inflation t-4', 'Inflation t-3', 'Inflation t-2', 'Inflation t-1', 'Inflation t', 'Inflation t+1', 'Inflation t+2', 'Inflation t+3', 'Inflation t+4', 'Inflation t+5', 'Inflation t+6']\n",
      "x shape is: torch.Size([32, 13])\n",
      "y shape is: torch.Size([32])\n",
      "input shape is: torch.Size([32, 13])\n",
      "New and used motor vehicles\n",
      "the number of columns is: 14\n",
      "the columns: ['Inflation t-7', 'Inflation t-6', 'Inflation t-5', 'Inflation t-4', 'Inflation t-3', 'Inflation t-2', 'Inflation t-1', 'Inflation t', 'Inflation t+1', 'Inflation t+2', 'Inflation t+3', 'Inflation t+4', 'Inflation t+5', 'Inflation t+6']\n",
      "x shape is: torch.Size([32, 13])\n",
      "y shape is: torch.Size([32])\n",
      "input shape is: torch.Size([32, 13])\n",
      "Nonalcoholic beverages and beverage materials\n",
      "the number of columns is: 14\n",
      "the columns: ['Inflation t-7', 'Inflation t-6', 'Inflation t-5', 'Inflation t-4', 'Inflation t-3', 'Inflation t-2', 'Inflation t-1', 'Inflation t', 'Inflation t+1', 'Inflation t+2', 'Inflation t+3', 'Inflation t+4', 'Inflation t+5', 'Inflation t+6']\n",
      "x shape is: torch.Size([32, 13])\n",
      "y shape is: torch.Size([32])\n",
      "input shape is: torch.Size([32, 13])\n",
      "Other food at home\n",
      "the number of columns is: 14\n",
      "the columns: ['Inflation t-7', 'Inflation t-6', 'Inflation t-5', 'Inflation t-4', 'Inflation t-3', 'Inflation t-2', 'Inflation t-1', 'Inflation t', 'Inflation t+1', 'Inflation t+2', 'Inflation t+3', 'Inflation t+4', 'Inflation t+5', 'Inflation t+6']\n",
      "x shape is: torch.Size([32, 13])\n",
      "y shape is: torch.Size([32])\n",
      "input shape is: torch.Size([32, 13])\n",
      "Other food away from home\n",
      "the number of columns is: 14\n",
      "the columns: ['Inflation t-7', 'Inflation t-6', 'Inflation t-5', 'Inflation t-4', 'Inflation t-3', 'Inflation t-2', 'Inflation t-1', 'Inflation t', 'Inflation t+1', 'Inflation t+2', 'Inflation t+3', 'Inflation t+4', 'Inflation t+5', 'Inflation t+6']\n",
      "x shape is: torch.Size([32, 13])\n",
      "y shape is: torch.Size([32])\n",
      "input shape is: torch.Size([32, 13])\n",
      "Other goods\n",
      "the number of columns is: 14\n",
      "the columns: ['Inflation t-7', 'Inflation t-6', 'Inflation t-5', 'Inflation t-4', 'Inflation t-3', 'Inflation t-2', 'Inflation t-1', 'Inflation t', 'Inflation t+1', 'Inflation t+2', 'Inflation t+3', 'Inflation t+4', 'Inflation t+5', 'Inflation t+6']\n",
      "x shape is: torch.Size([32, 13])\n",
      "y shape is: torch.Size([32])\n",
      "input shape is: torch.Size([32, 13])\n",
      "Recreation commodities\n",
      "the number of columns is: 14\n",
      "the columns: ['Inflation t-7', 'Inflation t-6', 'Inflation t-5', 'Inflation t-4', 'Inflation t-3', 'Inflation t-2', 'Inflation t-1', 'Inflation t', 'Inflation t+1', 'Inflation t+2', 'Inflation t+3', 'Inflation t+4', 'Inflation t+5', 'Inflation t+6']\n",
      "x shape is: torch.Size([32, 13])\n",
      "y shape is: torch.Size([32])\n",
      "input shape is: torch.Size([32, 13])\n",
      "Shelter\n",
      "the number of columns is: 14\n",
      "the columns: ['Inflation t-7', 'Inflation t-6', 'Inflation t-5', 'Inflation t-4', 'Inflation t-3', 'Inflation t-2', 'Inflation t-1', 'Inflation t', 'Inflation t+1', 'Inflation t+2', 'Inflation t+3', 'Inflation t+4', 'Inflation t+5', 'Inflation t+6']\n",
      "x shape is: torch.Size([32, 13])\n",
      "y shape is: torch.Size([32])\n",
      "input shape is: torch.Size([32, 13])\n",
      "Transportation commodities less motor fuel\n",
      "the number of columns is: 14\n",
      "the columns: ['Inflation t-7', 'Inflation t-6', 'Inflation t-5', 'Inflation t-4', 'Inflation t-3', 'Inflation t-2', 'Inflation t-1', 'Inflation t', 'Inflation t+1', 'Inflation t+2', 'Inflation t+3', 'Inflation t+4', 'Inflation t+5', 'Inflation t+6']\n",
      "x shape is: torch.Size([32, 13])\n",
      "y shape is: torch.Size([32])\n",
      "input shape is: torch.Size([32, 13])\n",
      "All items\n",
      "the number of columns is: 14\n",
      "the columns: ['Inflation t-7', 'Inflation t-6', 'Inflation t-5', 'Inflation t-4', 'Inflation t-3', 'Inflation t-2', 'Inflation t-1', 'Inflation t', 'Inflation t+1', 'Inflation t+2', 'Inflation t+3', 'Inflation t+4', 'Inflation t+5', 'Inflation t+6']\n",
      "x shape is: torch.Size([32, 13])\n",
      "y shape is: torch.Size([32])\n",
      "input shape is: torch.Size([32, 13])\n",
      "All items less energy\n",
      "the number of columns is: 14\n",
      "the columns: ['Inflation t-7', 'Inflation t-6', 'Inflation t-5', 'Inflation t-4', 'Inflation t-3', 'Inflation t-2', 'Inflation t-1', 'Inflation t', 'Inflation t+1', 'Inflation t+2', 'Inflation t+3', 'Inflation t+4', 'Inflation t+5', 'Inflation t+6']\n",
      "x shape is: torch.Size([32, 13])\n",
      "y shape is: torch.Size([32])\n",
      "input shape is: torch.Size([32, 13])\n",
      "All items less food\n",
      "the number of columns is: 14\n",
      "the columns: ['Inflation t-7', 'Inflation t-6', 'Inflation t-5', 'Inflation t-4', 'Inflation t-3', 'Inflation t-2', 'Inflation t-1', 'Inflation t', 'Inflation t+1', 'Inflation t+2', 'Inflation t+3', 'Inflation t+4', 'Inflation t+5', 'Inflation t+6']\n",
      "x shape is: torch.Size([32, 13])\n",
      "y shape is: torch.Size([32])\n",
      "input shape is: torch.Size([32, 13])\n",
      "All items less food and energy\n",
      "the number of columns is: 14\n",
      "the columns: ['Inflation t-7', 'Inflation t-6', 'Inflation t-5', 'Inflation t-4', 'Inflation t-3', 'Inflation t-2', 'Inflation t-1', 'Inflation t', 'Inflation t+1', 'Inflation t+2', 'Inflation t+3', 'Inflation t+4', 'Inflation t+5', 'Inflation t+6']\n",
      "x shape is: torch.Size([32, 13])\n",
      "y shape is: torch.Size([32])\n",
      "input shape is: torch.Size([32, 13])\n",
      "All items less food and shelter\n",
      "the number of columns is: 14\n",
      "the columns: ['Inflation t-7', 'Inflation t-6', 'Inflation t-5', 'Inflation t-4', 'Inflation t-3', 'Inflation t-2', 'Inflation t-1', 'Inflation t', 'Inflation t+1', 'Inflation t+2', 'Inflation t+3', 'Inflation t+4', 'Inflation t+5', 'Inflation t+6']\n",
      "x shape is: torch.Size([32, 13])\n",
      "y shape is: torch.Size([32])\n",
      "input shape is: torch.Size([32, 13])\n",
      "All items less food, shelter, and energy\n",
      "the number of columns is: 14\n",
      "the columns: ['Inflation t-7', 'Inflation t-6', 'Inflation t-5', 'Inflation t-4', 'Inflation t-3', 'Inflation t-2', 'Inflation t-1', 'Inflation t', 'Inflation t+1', 'Inflation t+2', 'Inflation t+3', 'Inflation t+4', 'Inflation t+5', 'Inflation t+6']\n",
      "x shape is: torch.Size([32, 13])\n",
      "y shape is: torch.Size([32])\n",
      "input shape is: torch.Size([32, 13])\n",
      "All items less food, shelter, energy, and used cars and trucks\n",
      "the number of columns is: 14\n",
      "the columns: ['Inflation t-7', 'Inflation t-6', 'Inflation t-5', 'Inflation t-4', 'Inflation t-3', 'Inflation t-2', 'Inflation t-1', 'Inflation t', 'Inflation t+1', 'Inflation t+2', 'Inflation t+3', 'Inflation t+4', 'Inflation t+5', 'Inflation t+6']\n",
      "x shape is: torch.Size([32, 13])\n",
      "y shape is: torch.Size([32])\n",
      "input shape is: torch.Size([32, 13])\n",
      "All items less medical care\n",
      "the number of columns is: 14\n",
      "the columns: ['Inflation t-7', 'Inflation t-6', 'Inflation t-5', 'Inflation t-4', 'Inflation t-3', 'Inflation t-2', 'Inflation t-1', 'Inflation t', 'Inflation t+1', 'Inflation t+2', 'Inflation t+3', 'Inflation t+4', 'Inflation t+5', 'Inflation t+6']\n",
      "x shape is: torch.Size([32, 13])\n",
      "y shape is: torch.Size([32])\n",
      "input shape is: torch.Size([32, 13])\n",
      "All items less shelter\n",
      "the number of columns is: 14\n",
      "the columns: ['Inflation t-7', 'Inflation t-6', 'Inflation t-5', 'Inflation t-4', 'Inflation t-3', 'Inflation t-2', 'Inflation t-1', 'Inflation t', 'Inflation t+1', 'Inflation t+2', 'Inflation t+3', 'Inflation t+4', 'Inflation t+5', 'Inflation t+6']\n",
      "x shape is: torch.Size([32, 13])\n",
      "y shape is: torch.Size([32])\n",
      "input shape is: torch.Size([32, 13])\n",
      "Apparel less footwear\n",
      "the number of columns is: 14\n",
      "the columns: ['Inflation t-7', 'Inflation t-6', 'Inflation t-5', 'Inflation t-4', 'Inflation t-3', 'Inflation t-2', 'Inflation t-1', 'Inflation t', 'Inflation t+1', 'Inflation t+2', 'Inflation t+3', 'Inflation t+4', 'Inflation t+5', 'Inflation t+6']\n",
      "x shape is: torch.Size([32, 13])\n",
      "y shape is: torch.Size([32])\n",
      "input shape is: torch.Size([32, 13])\n",
      "Commodities\n",
      "the number of columns is: 14\n",
      "the columns: ['Inflation t-7', 'Inflation t-6', 'Inflation t-5', 'Inflation t-4', 'Inflation t-3', 'Inflation t-2', 'Inflation t-1', 'Inflation t', 'Inflation t+1', 'Inflation t+2', 'Inflation t+3', 'Inflation t+4', 'Inflation t+5', 'Inflation t+6']\n",
      "x shape is: torch.Size([32, 13])\n",
      "y shape is: torch.Size([32])\n",
      "input shape is: torch.Size([32, 13])\n",
      "Durables\n",
      "the number of columns is: 14\n",
      "the columns: ['Inflation t-7', 'Inflation t-6', 'Inflation t-5', 'Inflation t-4', 'Inflation t-3', 'Inflation t-2', 'Inflation t-1', 'Inflation t', 'Inflation t+1', 'Inflation t+2', 'Inflation t+3', 'Inflation t+4', 'Inflation t+5', 'Inflation t+6']\n",
      "x shape is: torch.Size([32, 13])\n",
      "y shape is: torch.Size([32])\n",
      "input shape is: torch.Size([32, 13])\n",
      "Education and communication\n",
      "the number of columns is: 14\n",
      "the columns: ['Inflation t-7', 'Inflation t-6', 'Inflation t-5', 'Inflation t-4', 'Inflation t-3', 'Inflation t-2', 'Inflation t-1', 'Inflation t', 'Inflation t+1', 'Inflation t+2', 'Inflation t+3', 'Inflation t+4', 'Inflation t+5', 'Inflation t+6']\n",
      "x shape is: torch.Size([32, 13])\n",
      "y shape is: torch.Size([32])\n",
      "input shape is: torch.Size([32, 13])\n",
      "Energy\n",
      "the number of columns is: 14\n",
      "the columns: ['Inflation t-7', 'Inflation t-6', 'Inflation t-5', 'Inflation t-4', 'Inflation t-3', 'Inflation t-2', 'Inflation t-1', 'Inflation t', 'Inflation t+1', 'Inflation t+2', 'Inflation t+3', 'Inflation t+4', 'Inflation t+5', 'Inflation t+6']\n",
      "x shape is: torch.Size([32, 13])\n",
      "y shape is: torch.Size([32])\n",
      "input shape is: torch.Size([32, 13])\n",
      "Food\n",
      "the number of columns is: 14\n",
      "the columns: ['Inflation t-7', 'Inflation t-6', 'Inflation t-5', 'Inflation t-4', 'Inflation t-3', 'Inflation t-2', 'Inflation t-1', 'Inflation t', 'Inflation t+1', 'Inflation t+2', 'Inflation t+3', 'Inflation t+4', 'Inflation t+5', 'Inflation t+6']\n",
      "x shape is: torch.Size([32, 13])\n",
      "y shape is: torch.Size([32])\n",
      "input shape is: torch.Size([32, 13])\n",
      "Food and beverages\n",
      "the number of columns is: 14\n",
      "the columns: ['Inflation t-7', 'Inflation t-6', 'Inflation t-5', 'Inflation t-4', 'Inflation t-3', 'Inflation t-2', 'Inflation t-1', 'Inflation t', 'Inflation t+1', 'Inflation t+2', 'Inflation t+3', 'Inflation t+4', 'Inflation t+5', 'Inflation t+6']\n",
      "x shape is: torch.Size([32, 13])\n",
      "y shape is: torch.Size([32])\n",
      "input shape is: torch.Size([32, 13])\n",
      "Fuels and utilities\n",
      "the number of columns is: 14\n",
      "the columns: ['Inflation t-7', 'Inflation t-6', 'Inflation t-5', 'Inflation t-4', 'Inflation t-3', 'Inflation t-2', 'Inflation t-1', 'Inflation t', 'Inflation t+1', 'Inflation t+2', 'Inflation t+3', 'Inflation t+4', 'Inflation t+5', 'Inflation t+6']\n",
      "x shape is: torch.Size([32, 13])\n",
      "y shape is: torch.Size([32])\n",
      "input shape is: torch.Size([32, 13])\n",
      "Household furnishings and operations\n",
      "the number of columns is: 14\n",
      "the columns: ['Inflation t-7', 'Inflation t-6', 'Inflation t-5', 'Inflation t-4', 'Inflation t-3', 'Inflation t-2', 'Inflation t-1', 'Inflation t', 'Inflation t+1', 'Inflation t+2', 'Inflation t+3', 'Inflation t+4', 'Inflation t+5', 'Inflation t+6']\n",
      "x shape is: torch.Size([32, 13])\n",
      "y shape is: torch.Size([32])\n",
      "input shape is: torch.Size([32, 13])\n",
      "Housing\n",
      "the number of columns is: 14\n",
      "the columns: ['Inflation t-7', 'Inflation t-6', 'Inflation t-5', 'Inflation t-4', 'Inflation t-3', 'Inflation t-2', 'Inflation t-1', 'Inflation t', 'Inflation t+1', 'Inflation t+2', 'Inflation t+3', 'Inflation t+4', 'Inflation t+5', 'Inflation t+6']\n",
      "x shape is: torch.Size([32, 13])\n",
      "y shape is: torch.Size([32])\n",
      "input shape is: torch.Size([32, 13])\n",
      "Medical care\n",
      "the number of columns is: 14\n",
      "the columns: ['Inflation t-7', 'Inflation t-6', 'Inflation t-5', 'Inflation t-4', 'Inflation t-3', 'Inflation t-2', 'Inflation t-1', 'Inflation t', 'Inflation t+1', 'Inflation t+2', 'Inflation t+3', 'Inflation t+4', 'Inflation t+5', 'Inflation t+6']\n",
      "x shape is: torch.Size([32, 13])\n",
      "y shape is: torch.Size([32])\n",
      "input shape is: torch.Size([32, 13])\n",
      "Nondurables\n",
      "the number of columns is: 14\n",
      "the columns: ['Inflation t-7', 'Inflation t-6', 'Inflation t-5', 'Inflation t-4', 'Inflation t-3', 'Inflation t-2', 'Inflation t-1', 'Inflation t', 'Inflation t+1', 'Inflation t+2', 'Inflation t+3', 'Inflation t+4', 'Inflation t+5', 'Inflation t+6']\n",
      "x shape is: torch.Size([32, 13])\n",
      "y shape is: torch.Size([32])\n",
      "input shape is: torch.Size([32, 13])\n",
      "Other goods and services\n",
      "the number of columns is: 14\n",
      "the columns: ['Inflation t-7', 'Inflation t-6', 'Inflation t-5', 'Inflation t-4', 'Inflation t-3', 'Inflation t-2', 'Inflation t-1', 'Inflation t', 'Inflation t+1', 'Inflation t+2', 'Inflation t+3', 'Inflation t+4', 'Inflation t+5', 'Inflation t+6']\n",
      "x shape is: torch.Size([32, 13])\n",
      "y shape is: torch.Size([32])\n",
      "input shape is: torch.Size([32, 13])\n",
      "Other services\n",
      "the number of columns is: 14\n",
      "the columns: ['Inflation t-7', 'Inflation t-6', 'Inflation t-5', 'Inflation t-4', 'Inflation t-3', 'Inflation t-2', 'Inflation t-1', 'Inflation t', 'Inflation t+1', 'Inflation t+2', 'Inflation t+3', 'Inflation t+4', 'Inflation t+5', 'Inflation t+6']\n",
      "x shape is: torch.Size([32, 13])\n",
      "y shape is: torch.Size([32])\n",
      "input shape is: torch.Size([32, 13])\n",
      "Recreation\n",
      "the number of columns is: 14\n",
      "the columns: ['Inflation t-7', 'Inflation t-6', 'Inflation t-5', 'Inflation t-4', 'Inflation t-3', 'Inflation t-2', 'Inflation t-1', 'Inflation t', 'Inflation t+1', 'Inflation t+2', 'Inflation t+3', 'Inflation t+4', 'Inflation t+5', 'Inflation t+6']\n",
      "x shape is: torch.Size([32, 13])\n",
      "y shape is: torch.Size([32])\n",
      "input shape is: torch.Size([32, 13])\n",
      "Services\n",
      "the number of columns is: 14\n",
      "the columns: ['Inflation t-7', 'Inflation t-6', 'Inflation t-5', 'Inflation t-4', 'Inflation t-3', 'Inflation t-2', 'Inflation t-1', 'Inflation t', 'Inflation t+1', 'Inflation t+2', 'Inflation t+3', 'Inflation t+4', 'Inflation t+5', 'Inflation t+6']\n",
      "x shape is: torch.Size([32, 13])\n",
      "y shape is: torch.Size([32])\n",
      "input shape is: torch.Size([32, 13])\n",
      "Transportation\n",
      "the number of columns is: 14\n",
      "the columns: ['Inflation t-7', 'Inflation t-6', 'Inflation t-5', 'Inflation t-4', 'Inflation t-3', 'Inflation t-2', 'Inflation t-1', 'Inflation t', 'Inflation t+1', 'Inflation t+2', 'Inflation t+3', 'Inflation t+4', 'Inflation t+5', 'Inflation t+6']\n",
      "x shape is: torch.Size([32, 13])\n",
      "y shape is: torch.Size([32])\n",
      "input shape is: torch.Size([32, 13])\n",
      "Utilities and public transportation\n",
      "the number of columns is: 14\n",
      "the columns: ['Inflation t-7', 'Inflation t-6', 'Inflation t-5', 'Inflation t-4', 'Inflation t-3', 'Inflation t-2', 'Inflation t-1', 'Inflation t', 'Inflation t+1', 'Inflation t+2', 'Inflation t+3', 'Inflation t+4', 'Inflation t+5', 'Inflation t+6']\n",
      "x shape is: torch.Size([32, 13])\n",
      "y shape is: torch.Size([32])\n",
      "input shape is: torch.Size([32, 13])\n",
      "Commodities less food\n",
      "the number of columns is: 14\n",
      "the columns: ['Inflation t-7', 'Inflation t-6', 'Inflation t-5', 'Inflation t-4', 'Inflation t-3', 'Inflation t-2', 'Inflation t-1', 'Inflation t', 'Inflation t+1', 'Inflation t+2', 'Inflation t+3', 'Inflation t+4', 'Inflation t+5', 'Inflation t+6']\n",
      "x shape is: torch.Size([32, 13])\n",
      "y shape is: torch.Size([32])\n",
      "input shape is: torch.Size([32, 13])\n",
      "Commodities less food and beverages\n",
      "the number of columns is: 14\n",
      "the columns: ['Inflation t-7', 'Inflation t-6', 'Inflation t-5', 'Inflation t-4', 'Inflation t-3', 'Inflation t-2', 'Inflation t-1', 'Inflation t', 'Inflation t+1', 'Inflation t+2', 'Inflation t+3', 'Inflation t+4', 'Inflation t+5', 'Inflation t+6']\n",
      "x shape is: torch.Size([32, 13])\n",
      "y shape is: torch.Size([32])\n",
      "input shape is: torch.Size([32, 13])\n",
      "Commodities less food and energy commodities\n",
      "the number of columns is: 14\n",
      "the columns: ['Inflation t-7', 'Inflation t-6', 'Inflation t-5', 'Inflation t-4', 'Inflation t-3', 'Inflation t-2', 'Inflation t-1', 'Inflation t', 'Inflation t+1', 'Inflation t+2', 'Inflation t+3', 'Inflation t+4', 'Inflation t+5', 'Inflation t+6']\n",
      "x shape is: torch.Size([32, 13])\n",
      "y shape is: torch.Size([32])\n",
      "input shape is: torch.Size([32, 13])\n",
      "Commodities less food, energy, and used cars and trucks\n",
      "the number of columns is: 14\n",
      "the columns: ['Inflation t-7', 'Inflation t-6', 'Inflation t-5', 'Inflation t-4', 'Inflation t-3', 'Inflation t-2', 'Inflation t-1', 'Inflation t', 'Inflation t+1', 'Inflation t+2', 'Inflation t+3', 'Inflation t+4', 'Inflation t+5', 'Inflation t+6']\n",
      "x shape is: torch.Size([32, 13])\n",
      "y shape is: torch.Size([32])\n",
      "input shape is: torch.Size([32, 13])\n",
      "Communication\n",
      "the number of columns is: 14\n",
      "the columns: ['Inflation t-7', 'Inflation t-6', 'Inflation t-5', 'Inflation t-4', 'Inflation t-3', 'Inflation t-2', 'Inflation t-1', 'Inflation t', 'Inflation t+1', 'Inflation t+2', 'Inflation t+3', 'Inflation t+4', 'Inflation t+5', 'Inflation t+6']\n",
      "x shape is: torch.Size([32, 13])\n",
      "y shape is: torch.Size([32])\n",
      "input shape is: torch.Size([32, 13])\n",
      "Domestically produced farm food\n",
      "the number of columns is: 14\n",
      "the columns: ['Inflation t-7', 'Inflation t-6', 'Inflation t-5', 'Inflation t-4', 'Inflation t-3', 'Inflation t-2', 'Inflation t-1', 'Inflation t', 'Inflation t+1', 'Inflation t+2', 'Inflation t+3', 'Inflation t+4', 'Inflation t+5', 'Inflation t+6']\n",
      "x shape is: torch.Size([32, 13])\n",
      "y shape is: torch.Size([32])\n",
      "input shape is: torch.Size([32, 13])\n",
      "Education\n",
      "the number of columns is: 14\n",
      "the columns: ['Inflation t-7', 'Inflation t-6', 'Inflation t-5', 'Inflation t-4', 'Inflation t-3', 'Inflation t-2', 'Inflation t-1', 'Inflation t', 'Inflation t+1', 'Inflation t+2', 'Inflation t+3', 'Inflation t+4', 'Inflation t+5', 'Inflation t+6']\n",
      "x shape is: torch.Size([32, 13])\n",
      "y shape is: torch.Size([32])\n",
      "input shape is: torch.Size([32, 13])\n",
      "Energy commodities\n",
      "the number of columns is: 14\n",
      "the columns: ['Inflation t-7', 'Inflation t-6', 'Inflation t-5', 'Inflation t-4', 'Inflation t-3', 'Inflation t-2', 'Inflation t-1', 'Inflation t', 'Inflation t+1', 'Inflation t+2', 'Inflation t+3', 'Inflation t+4', 'Inflation t+5', 'Inflation t+6']\n",
      "x shape is: torch.Size([32, 13])\n",
      "y shape is: torch.Size([32])\n",
      "input shape is: torch.Size([32, 13])\n",
      "Energy services\n",
      "the number of columns is: 14\n",
      "the columns: ['Inflation t-7', 'Inflation t-6', 'Inflation t-5', 'Inflation t-4', 'Inflation t-3', 'Inflation t-2', 'Inflation t-1', 'Inflation t', 'Inflation t+1', 'Inflation t+2', 'Inflation t+3', 'Inflation t+4', 'Inflation t+5', 'Inflation t+6']\n",
      "x shape is: torch.Size([32, 13])\n",
      "y shape is: torch.Size([32])\n",
      "input shape is: torch.Size([32, 13])\n",
      "Food at home\n",
      "the number of columns is: 14\n",
      "the columns: ['Inflation t-7', 'Inflation t-6', 'Inflation t-5', 'Inflation t-4', 'Inflation t-3', 'Inflation t-2', 'Inflation t-1', 'Inflation t', 'Inflation t+1', 'Inflation t+2', 'Inflation t+3', 'Inflation t+4', 'Inflation t+5', 'Inflation t+6']\n",
      "x shape is: torch.Size([32, 13])\n",
      "y shape is: torch.Size([32])\n",
      "input shape is: torch.Size([32, 13])\n",
      "Food away from home\n",
      "the number of columns is: 14\n",
      "the columns: ['Inflation t-7', 'Inflation t-6', 'Inflation t-5', 'Inflation t-4', 'Inflation t-3', 'Inflation t-2', 'Inflation t-1', 'Inflation t', 'Inflation t+1', 'Inflation t+2', 'Inflation t+3', 'Inflation t+4', 'Inflation t+5', 'Inflation t+6']\n",
      "x shape is: torch.Size([32, 13])\n",
      "y shape is: torch.Size([32])\n",
      "input shape is: torch.Size([32, 13])\n",
      "Household energy\n",
      "the number of columns is: 14\n",
      "the columns: ['Inflation t-7', 'Inflation t-6', 'Inflation t-5', 'Inflation t-4', 'Inflation t-3', 'Inflation t-2', 'Inflation t-1', 'Inflation t', 'Inflation t+1', 'Inflation t+2', 'Inflation t+3', 'Inflation t+4', 'Inflation t+5', 'Inflation t+6']\n",
      "x shape is: torch.Size([32, 13])\n",
      "y shape is: torch.Size([32])\n",
      "input shape is: torch.Size([32, 13])\n",
      "Nondurables less food\n",
      "the number of columns is: 14\n",
      "the columns: ['Inflation t-7', 'Inflation t-6', 'Inflation t-5', 'Inflation t-4', 'Inflation t-3', 'Inflation t-2', 'Inflation t-1', 'Inflation t', 'Inflation t+1', 'Inflation t+2', 'Inflation t+3', 'Inflation t+4', 'Inflation t+5', 'Inflation t+6']\n",
      "x shape is: torch.Size([32, 13])\n",
      "y shape is: torch.Size([32])\n",
      "input shape is: torch.Size([32, 13])\n",
      "Nondurables less food and apparel\n",
      "the number of columns is: 14\n",
      "the columns: ['Inflation t-7', 'Inflation t-6', 'Inflation t-5', 'Inflation t-4', 'Inflation t-3', 'Inflation t-2', 'Inflation t-1', 'Inflation t', 'Inflation t+1', 'Inflation t+2', 'Inflation t+3', 'Inflation t+4', 'Inflation t+5', 'Inflation t+6']\n",
      "x shape is: torch.Size([32, 13])\n",
      "y shape is: torch.Size([32])\n",
      "input shape is: torch.Size([32, 13])\n",
      "Nondurables less food and beverages\n",
      "the number of columns is: 14\n",
      "the columns: ['Inflation t-7', 'Inflation t-6', 'Inflation t-5', 'Inflation t-4', 'Inflation t-3', 'Inflation t-2', 'Inflation t-1', 'Inflation t', 'Inflation t+1', 'Inflation t+2', 'Inflation t+3', 'Inflation t+4', 'Inflation t+5', 'Inflation t+6']\n",
      "x shape is: torch.Size([32, 13])\n",
      "y shape is: torch.Size([32])\n",
      "input shape is: torch.Size([32, 13])\n",
      "Nondurables less food, beverages, and apparel\n",
      "the number of columns is: 14\n",
      "the columns: ['Inflation t-7', 'Inflation t-6', 'Inflation t-5', 'Inflation t-4', 'Inflation t-3', 'Inflation t-2', 'Inflation t-1', 'Inflation t', 'Inflation t+1', 'Inflation t+2', 'Inflation t+3', 'Inflation t+4', 'Inflation t+5', 'Inflation t+6']\n",
      "x shape is: torch.Size([32, 13])\n",
      "y shape is: torch.Size([32])\n",
      "input shape is: torch.Size([32, 13])\n",
      "Personal care\n",
      "the number of columns is: 14\n",
      "the columns: ['Inflation t-7', 'Inflation t-6', 'Inflation t-5', 'Inflation t-4', 'Inflation t-3', 'Inflation t-2', 'Inflation t-1', 'Inflation t', 'Inflation t+1', 'Inflation t+2', 'Inflation t+3', 'Inflation t+4', 'Inflation t+5', 'Inflation t+6']\n",
      "x shape is: torch.Size([32, 13])\n",
      "y shape is: torch.Size([32])\n",
      "input shape is: torch.Size([32, 13])\n",
      "Pets, pet products and services\n",
      "the number of columns is: 14\n",
      "the columns: ['Inflation t-7', 'Inflation t-6', 'Inflation t-5', 'Inflation t-4', 'Inflation t-3', 'Inflation t-2', 'Inflation t-1', 'Inflation t', 'Inflation t+1', 'Inflation t+2', 'Inflation t+3', 'Inflation t+4', 'Inflation t+5', 'Inflation t+6']\n",
      "x shape is: torch.Size([32, 13])\n",
      "y shape is: torch.Size([32])\n",
      "input shape is: torch.Size([32, 13])\n",
      "Photography\n",
      "the number of columns is: 14\n",
      "the columns: ['Inflation t-7', 'Inflation t-6', 'Inflation t-5', 'Inflation t-4', 'Inflation t-3', 'Inflation t-2', 'Inflation t-1', 'Inflation t', 'Inflation t+1', 'Inflation t+2', 'Inflation t+3', 'Inflation t+4', 'Inflation t+5', 'Inflation t+6']\n",
      "x shape is: torch.Size([32, 13])\n",
      "y shape is: torch.Size([32])\n",
      "input shape is: torch.Size([32, 13])\n",
      "Private transportation\n",
      "the number of columns is: 14\n",
      "the columns: ['Inflation t-7', 'Inflation t-6', 'Inflation t-5', 'Inflation t-4', 'Inflation t-3', 'Inflation t-2', 'Inflation t-1', 'Inflation t', 'Inflation t+1', 'Inflation t+2', 'Inflation t+3', 'Inflation t+4', 'Inflation t+5', 'Inflation t+6']\n",
      "x shape is: torch.Size([32, 13])\n",
      "y shape is: torch.Size([32])\n",
      "input shape is: torch.Size([32, 13])\n",
      "Services less energy services\n",
      "the number of columns is: 14\n",
      "the columns: ['Inflation t-7', 'Inflation t-6', 'Inflation t-5', 'Inflation t-4', 'Inflation t-3', 'Inflation t-2', 'Inflation t-1', 'Inflation t', 'Inflation t+1', 'Inflation t+2', 'Inflation t+3', 'Inflation t+4', 'Inflation t+5', 'Inflation t+6']\n",
      "x shape is: torch.Size([32, 13])\n",
      "y shape is: torch.Size([32])\n",
      "input shape is: torch.Size([32, 13])\n",
      "Services less medical care services\n",
      "the number of columns is: 14\n",
      "the columns: ['Inflation t-7', 'Inflation t-6', 'Inflation t-5', 'Inflation t-4', 'Inflation t-3', 'Inflation t-2', 'Inflation t-1', 'Inflation t', 'Inflation t+1', 'Inflation t+2', 'Inflation t+3', 'Inflation t+4', 'Inflation t+5', 'Inflation t+6']\n",
      "x shape is: torch.Size([32, 13])\n",
      "y shape is: torch.Size([32])\n",
      "input shape is: torch.Size([32, 13])\n",
      "Services less rent of shelter\n",
      "the number of columns is: 14\n",
      "the columns: ['Inflation t-7', 'Inflation t-6', 'Inflation t-5', 'Inflation t-4', 'Inflation t-3', 'Inflation t-2', 'Inflation t-1', 'Inflation t', 'Inflation t+1', 'Inflation t+2', 'Inflation t+3', 'Inflation t+4', 'Inflation t+5', 'Inflation t+6']\n",
      "x shape is: torch.Size([32, 13])\n",
      "y shape is: torch.Size([32])\n",
      "input shape is: torch.Size([32, 13])\n",
      "Video and audio\n",
      "the number of columns is: 14\n",
      "the columns: ['Inflation t-7', 'Inflation t-6', 'Inflation t-5', 'Inflation t-4', 'Inflation t-3', 'Inflation t-2', 'Inflation t-1', 'Inflation t', 'Inflation t+1', 'Inflation t+2', 'Inflation t+3', 'Inflation t+4', 'Inflation t+5', 'Inflation t+6']\n",
      "x shape is: torch.Size([32, 13])\n",
      "y shape is: torch.Size([32])\n",
      "input shape is: torch.Size([32, 13])\n",
      "the horizon is: 6\n",
      "Alcoholic beverages\n",
      "the number of columns is: 14\n",
      "the columns: ['Inflation t-6', 'Inflation t-5', 'Inflation t-4', 'Inflation t-3', 'Inflation t-2', 'Inflation t-1', 'Inflation t', 'Inflation t+1', 'Inflation t+2', 'Inflation t+3', 'Inflation t+4', 'Inflation t+5', 'Inflation t+6', 'Inflation t+7']\n",
      "x shape is: torch.Size([32, 13])\n",
      "y shape is: torch.Size([32])\n",
      "input shape is: torch.Size([32, 13])\n",
      "Apparel\n",
      "the number of columns is: 14\n",
      "the columns: ['Inflation t-6', 'Inflation t-5', 'Inflation t-4', 'Inflation t-3', 'Inflation t-2', 'Inflation t-1', 'Inflation t', 'Inflation t+1', 'Inflation t+2', 'Inflation t+3', 'Inflation t+4', 'Inflation t+5', 'Inflation t+6', 'Inflation t+7']\n",
      "x shape is: torch.Size([32, 13])\n",
      "y shape is: torch.Size([32])\n",
      "input shape is: torch.Size([32, 13])\n",
      "Cereals and bakery products\n",
      "the number of columns is: 14\n",
      "the columns: ['Inflation t-6', 'Inflation t-5', 'Inflation t-4', 'Inflation t-3', 'Inflation t-2', 'Inflation t-1', 'Inflation t', 'Inflation t+1', 'Inflation t+2', 'Inflation t+3', 'Inflation t+4', 'Inflation t+5', 'Inflation t+6', 'Inflation t+7']\n",
      "x shape is: torch.Size([32, 13])\n",
      "y shape is: torch.Size([32])\n",
      "input shape is: torch.Size([32, 13])\n",
      "Dairy and related products\n",
      "the number of columns is: 14\n",
      "the columns: ['Inflation t-6', 'Inflation t-5', 'Inflation t-4', 'Inflation t-3', 'Inflation t-2', 'Inflation t-1', 'Inflation t', 'Inflation t+1', 'Inflation t+2', 'Inflation t+3', 'Inflation t+4', 'Inflation t+5', 'Inflation t+6', 'Inflation t+7']\n",
      "x shape is: torch.Size([32, 13])\n",
      "y shape is: torch.Size([32])\n",
      "input shape is: torch.Size([32, 13])\n",
      "Education and communication commodities\n",
      "the number of columns is: 14\n",
      "the columns: ['Inflation t-6', 'Inflation t-5', 'Inflation t-4', 'Inflation t-3', 'Inflation t-2', 'Inflation t-1', 'Inflation t', 'Inflation t+1', 'Inflation t+2', 'Inflation t+3', 'Inflation t+4', 'Inflation t+5', 'Inflation t+6', 'Inflation t+7']\n",
      "x shape is: torch.Size([32, 13])\n",
      "y shape is: torch.Size([32])\n",
      "input shape is: torch.Size([32, 13])\n",
      "Electricity\n",
      "the number of columns is: 14\n",
      "the columns: ['Inflation t-6', 'Inflation t-5', 'Inflation t-4', 'Inflation t-3', 'Inflation t-2', 'Inflation t-1', 'Inflation t', 'Inflation t+1', 'Inflation t+2', 'Inflation t+3', 'Inflation t+4', 'Inflation t+5', 'Inflation t+6', 'Inflation t+7']\n",
      "x shape is: torch.Size([32, 13])\n",
      "y shape is: torch.Size([32])\n",
      "input shape is: torch.Size([32, 13])\n",
      "Food from vending machines and mobile vendors\n",
      "the number of columns is: 14\n",
      "the columns: ['Inflation t-6', 'Inflation t-5', 'Inflation t-4', 'Inflation t-3', 'Inflation t-2', 'Inflation t-1', 'Inflation t', 'Inflation t+1', 'Inflation t+2', 'Inflation t+3', 'Inflation t+4', 'Inflation t+5', 'Inflation t+6', 'Inflation t+7']\n",
      "x shape is: torch.Size([32, 13])\n",
      "y shape is: torch.Size([32])\n",
      "input shape is: torch.Size([32, 13])\n",
      "Fruits and vegetables\n",
      "the number of columns is: 14\n",
      "the columns: ['Inflation t-6', 'Inflation t-5', 'Inflation t-4', 'Inflation t-3', 'Inflation t-2', 'Inflation t-1', 'Inflation t', 'Inflation t+1', 'Inflation t+2', 'Inflation t+3', 'Inflation t+4', 'Inflation t+5', 'Inflation t+6', 'Inflation t+7']\n",
      "x shape is: torch.Size([32, 13])\n",
      "y shape is: torch.Size([32])\n",
      "input shape is: torch.Size([32, 13])\n",
      "Fuel oil and other fuels\n",
      "the number of columns is: 14\n",
      "the columns: ['Inflation t-6', 'Inflation t-5', 'Inflation t-4', 'Inflation t-3', 'Inflation t-2', 'Inflation t-1', 'Inflation t', 'Inflation t+1', 'Inflation t+2', 'Inflation t+3', 'Inflation t+4', 'Inflation t+5', 'Inflation t+6', 'Inflation t+7']\n",
      "x shape is: torch.Size([32, 13])\n",
      "y shape is: torch.Size([32])\n",
      "input shape is: torch.Size([32, 13])\n",
      "Full service meals and snacks\n",
      "the number of columns is: 14\n",
      "the columns: ['Inflation t-6', 'Inflation t-5', 'Inflation t-4', 'Inflation t-3', 'Inflation t-2', 'Inflation t-1', 'Inflation t', 'Inflation t+1', 'Inflation t+2', 'Inflation t+3', 'Inflation t+4', 'Inflation t+5', 'Inflation t+6', 'Inflation t+7']\n",
      "x shape is: torch.Size([32, 13])\n",
      "y shape is: torch.Size([32])\n",
      "input shape is: torch.Size([32, 13])\n",
      "Household furnishings and supplies\n",
      "the number of columns is: 14\n",
      "the columns: ['Inflation t-6', 'Inflation t-5', 'Inflation t-4', 'Inflation t-3', 'Inflation t-2', 'Inflation t-1', 'Inflation t', 'Inflation t+1', 'Inflation t+2', 'Inflation t+3', 'Inflation t+4', 'Inflation t+5', 'Inflation t+6', 'Inflation t+7']\n",
      "x shape is: torch.Size([32, 13])\n",
      "y shape is: torch.Size([32])\n",
      "input shape is: torch.Size([32, 13])\n",
      "Information and information processing\n",
      "the number of columns is: 14\n",
      "the columns: ['Inflation t-6', 'Inflation t-5', 'Inflation t-4', 'Inflation t-3', 'Inflation t-2', 'Inflation t-1', 'Inflation t', 'Inflation t+1', 'Inflation t+2', 'Inflation t+3', 'Inflation t+4', 'Inflation t+5', 'Inflation t+6', 'Inflation t+7']\n",
      "x shape is: torch.Size([32, 13])\n",
      "y shape is: torch.Size([32])\n",
      "input shape is: torch.Size([32, 13])\n",
      "Information technology, hardware and services\n",
      "the number of columns is: 14\n",
      "the columns: ['Inflation t-6', 'Inflation t-5', 'Inflation t-4', 'Inflation t-3', 'Inflation t-2', 'Inflation t-1', 'Inflation t', 'Inflation t+1', 'Inflation t+2', 'Inflation t+3', 'Inflation t+4', 'Inflation t+5', 'Inflation t+6', 'Inflation t+7']\n",
      "x shape is: torch.Size([32, 13])\n",
      "y shape is: torch.Size([32])\n",
      "input shape is: torch.Size([32, 13])\n",
      "Limited service meals and snacks\n",
      "the number of columns is: 14\n",
      "the columns: ['Inflation t-6', 'Inflation t-5', 'Inflation t-4', 'Inflation t-3', 'Inflation t-2', 'Inflation t-1', 'Inflation t', 'Inflation t+1', 'Inflation t+2', 'Inflation t+3', 'Inflation t+4', 'Inflation t+5', 'Inflation t+6', 'Inflation t+7']\n",
      "x shape is: torch.Size([32, 13])\n",
      "y shape is: torch.Size([32])\n",
      "input shape is: torch.Size([32, 13])\n",
      "Meats, poultry, fish, and eggs\n",
      "the number of columns is: 14\n",
      "the columns: ['Inflation t-6', 'Inflation t-5', 'Inflation t-4', 'Inflation t-3', 'Inflation t-2', 'Inflation t-1', 'Inflation t', 'Inflation t+1', 'Inflation t+2', 'Inflation t+3', 'Inflation t+4', 'Inflation t+5', 'Inflation t+6', 'Inflation t+7']\n",
      "x shape is: torch.Size([32, 13])\n",
      "y shape is: torch.Size([32])\n",
      "input shape is: torch.Size([32, 13])\n",
      "Medical care commodities\n",
      "the number of columns is: 14\n",
      "the columns: ['Inflation t-6', 'Inflation t-5', 'Inflation t-4', 'Inflation t-3', 'Inflation t-2', 'Inflation t-1', 'Inflation t', 'Inflation t+1', 'Inflation t+2', 'Inflation t+3', 'Inflation t+4', 'Inflation t+5', 'Inflation t+6', 'Inflation t+7']\n",
      "x shape is: torch.Size([32, 13])\n",
      "y shape is: torch.Size([32])\n",
      "input shape is: torch.Size([32, 13])\n",
      "Motor fuel\n",
      "the number of columns is: 14\n",
      "the columns: ['Inflation t-6', 'Inflation t-5', 'Inflation t-4', 'Inflation t-3', 'Inflation t-2', 'Inflation t-1', 'Inflation t', 'Inflation t+1', 'Inflation t+2', 'Inflation t+3', 'Inflation t+4', 'Inflation t+5', 'Inflation t+6', 'Inflation t+7']\n",
      "x shape is: torch.Size([32, 13])\n",
      "y shape is: torch.Size([32])\n",
      "input shape is: torch.Size([32, 13])\n",
      "New and used motor vehicles\n",
      "the number of columns is: 14\n",
      "the columns: ['Inflation t-6', 'Inflation t-5', 'Inflation t-4', 'Inflation t-3', 'Inflation t-2', 'Inflation t-1', 'Inflation t', 'Inflation t+1', 'Inflation t+2', 'Inflation t+3', 'Inflation t+4', 'Inflation t+5', 'Inflation t+6', 'Inflation t+7']\n",
      "x shape is: torch.Size([32, 13])\n",
      "y shape is: torch.Size([32])\n",
      "input shape is: torch.Size([32, 13])\n",
      "Nonalcoholic beverages and beverage materials\n",
      "the number of columns is: 14\n",
      "the columns: ['Inflation t-6', 'Inflation t-5', 'Inflation t-4', 'Inflation t-3', 'Inflation t-2', 'Inflation t-1', 'Inflation t', 'Inflation t+1', 'Inflation t+2', 'Inflation t+3', 'Inflation t+4', 'Inflation t+5', 'Inflation t+6', 'Inflation t+7']\n",
      "x shape is: torch.Size([32, 13])\n",
      "y shape is: torch.Size([32])\n",
      "input shape is: torch.Size([32, 13])\n",
      "Other food at home\n",
      "the number of columns is: 14\n",
      "the columns: ['Inflation t-6', 'Inflation t-5', 'Inflation t-4', 'Inflation t-3', 'Inflation t-2', 'Inflation t-1', 'Inflation t', 'Inflation t+1', 'Inflation t+2', 'Inflation t+3', 'Inflation t+4', 'Inflation t+5', 'Inflation t+6', 'Inflation t+7']\n",
      "x shape is: torch.Size([32, 13])\n",
      "y shape is: torch.Size([32])\n",
      "input shape is: torch.Size([32, 13])\n",
      "Other food away from home\n",
      "the number of columns is: 14\n",
      "the columns: ['Inflation t-6', 'Inflation t-5', 'Inflation t-4', 'Inflation t-3', 'Inflation t-2', 'Inflation t-1', 'Inflation t', 'Inflation t+1', 'Inflation t+2', 'Inflation t+3', 'Inflation t+4', 'Inflation t+5', 'Inflation t+6', 'Inflation t+7']\n",
      "x shape is: torch.Size([32, 13])\n",
      "y shape is: torch.Size([32])\n",
      "input shape is: torch.Size([32, 13])\n",
      "Other goods\n",
      "the number of columns is: 14\n",
      "the columns: ['Inflation t-6', 'Inflation t-5', 'Inflation t-4', 'Inflation t-3', 'Inflation t-2', 'Inflation t-1', 'Inflation t', 'Inflation t+1', 'Inflation t+2', 'Inflation t+3', 'Inflation t+4', 'Inflation t+5', 'Inflation t+6', 'Inflation t+7']\n",
      "x shape is: torch.Size([32, 13])\n",
      "y shape is: torch.Size([32])\n",
      "input shape is: torch.Size([32, 13])\n",
      "Recreation commodities\n",
      "the number of columns is: 14\n",
      "the columns: ['Inflation t-6', 'Inflation t-5', 'Inflation t-4', 'Inflation t-3', 'Inflation t-2', 'Inflation t-1', 'Inflation t', 'Inflation t+1', 'Inflation t+2', 'Inflation t+3', 'Inflation t+4', 'Inflation t+5', 'Inflation t+6', 'Inflation t+7']\n",
      "x shape is: torch.Size([32, 13])\n",
      "y shape is: torch.Size([32])\n",
      "input shape is: torch.Size([32, 13])\n",
      "Shelter\n",
      "the number of columns is: 14\n",
      "the columns: ['Inflation t-6', 'Inflation t-5', 'Inflation t-4', 'Inflation t-3', 'Inflation t-2', 'Inflation t-1', 'Inflation t', 'Inflation t+1', 'Inflation t+2', 'Inflation t+3', 'Inflation t+4', 'Inflation t+5', 'Inflation t+6', 'Inflation t+7']\n",
      "x shape is: torch.Size([32, 13])\n",
      "y shape is: torch.Size([32])\n",
      "input shape is: torch.Size([32, 13])\n",
      "Transportation commodities less motor fuel\n",
      "the number of columns is: 14\n",
      "the columns: ['Inflation t-6', 'Inflation t-5', 'Inflation t-4', 'Inflation t-3', 'Inflation t-2', 'Inflation t-1', 'Inflation t', 'Inflation t+1', 'Inflation t+2', 'Inflation t+3', 'Inflation t+4', 'Inflation t+5', 'Inflation t+6', 'Inflation t+7']\n",
      "x shape is: torch.Size([32, 13])\n",
      "y shape is: torch.Size([32])\n",
      "input shape is: torch.Size([32, 13])\n",
      "All items\n",
      "the number of columns is: 14\n",
      "the columns: ['Inflation t-6', 'Inflation t-5', 'Inflation t-4', 'Inflation t-3', 'Inflation t-2', 'Inflation t-1', 'Inflation t', 'Inflation t+1', 'Inflation t+2', 'Inflation t+3', 'Inflation t+4', 'Inflation t+5', 'Inflation t+6', 'Inflation t+7']\n",
      "x shape is: torch.Size([32, 13])\n",
      "y shape is: torch.Size([32])\n",
      "input shape is: torch.Size([32, 13])\n",
      "All items less energy\n",
      "the number of columns is: 14\n",
      "the columns: ['Inflation t-6', 'Inflation t-5', 'Inflation t-4', 'Inflation t-3', 'Inflation t-2', 'Inflation t-1', 'Inflation t', 'Inflation t+1', 'Inflation t+2', 'Inflation t+3', 'Inflation t+4', 'Inflation t+5', 'Inflation t+6', 'Inflation t+7']\n",
      "x shape is: torch.Size([32, 13])\n",
      "y shape is: torch.Size([32])\n",
      "input shape is: torch.Size([32, 13])\n",
      "All items less food\n",
      "the number of columns is: 14\n",
      "the columns: ['Inflation t-6', 'Inflation t-5', 'Inflation t-4', 'Inflation t-3', 'Inflation t-2', 'Inflation t-1', 'Inflation t', 'Inflation t+1', 'Inflation t+2', 'Inflation t+3', 'Inflation t+4', 'Inflation t+5', 'Inflation t+6', 'Inflation t+7']\n",
      "x shape is: torch.Size([32, 13])\n",
      "y shape is: torch.Size([32])\n",
      "input shape is: torch.Size([32, 13])\n",
      "All items less food and energy\n",
      "the number of columns is: 14\n",
      "the columns: ['Inflation t-6', 'Inflation t-5', 'Inflation t-4', 'Inflation t-3', 'Inflation t-2', 'Inflation t-1', 'Inflation t', 'Inflation t+1', 'Inflation t+2', 'Inflation t+3', 'Inflation t+4', 'Inflation t+5', 'Inflation t+6', 'Inflation t+7']\n",
      "x shape is: torch.Size([32, 13])\n",
      "y shape is: torch.Size([32])\n",
      "input shape is: torch.Size([32, 13])\n",
      "All items less food and shelter\n",
      "the number of columns is: 14\n",
      "the columns: ['Inflation t-6', 'Inflation t-5', 'Inflation t-4', 'Inflation t-3', 'Inflation t-2', 'Inflation t-1', 'Inflation t', 'Inflation t+1', 'Inflation t+2', 'Inflation t+3', 'Inflation t+4', 'Inflation t+5', 'Inflation t+6', 'Inflation t+7']\n",
      "x shape is: torch.Size([32, 13])\n",
      "y shape is: torch.Size([32])\n",
      "input shape is: torch.Size([32, 13])\n",
      "All items less food, shelter, and energy\n",
      "the number of columns is: 14\n",
      "the columns: ['Inflation t-6', 'Inflation t-5', 'Inflation t-4', 'Inflation t-3', 'Inflation t-2', 'Inflation t-1', 'Inflation t', 'Inflation t+1', 'Inflation t+2', 'Inflation t+3', 'Inflation t+4', 'Inflation t+5', 'Inflation t+6', 'Inflation t+7']\n",
      "x shape is: torch.Size([32, 13])\n",
      "y shape is: torch.Size([32])\n",
      "input shape is: torch.Size([32, 13])\n",
      "All items less food, shelter, energy, and used cars and trucks\n",
      "the number of columns is: 14\n",
      "the columns: ['Inflation t-6', 'Inflation t-5', 'Inflation t-4', 'Inflation t-3', 'Inflation t-2', 'Inflation t-1', 'Inflation t', 'Inflation t+1', 'Inflation t+2', 'Inflation t+3', 'Inflation t+4', 'Inflation t+5', 'Inflation t+6', 'Inflation t+7']\n",
      "x shape is: torch.Size([32, 13])\n",
      "y shape is: torch.Size([32])\n",
      "input shape is: torch.Size([32, 13])\n",
      "All items less medical care\n",
      "the number of columns is: 14\n",
      "the columns: ['Inflation t-6', 'Inflation t-5', 'Inflation t-4', 'Inflation t-3', 'Inflation t-2', 'Inflation t-1', 'Inflation t', 'Inflation t+1', 'Inflation t+2', 'Inflation t+3', 'Inflation t+4', 'Inflation t+5', 'Inflation t+6', 'Inflation t+7']\n",
      "x shape is: torch.Size([32, 13])\n",
      "y shape is: torch.Size([32])\n",
      "input shape is: torch.Size([32, 13])\n",
      "All items less shelter\n",
      "the number of columns is: 14\n",
      "the columns: ['Inflation t-6', 'Inflation t-5', 'Inflation t-4', 'Inflation t-3', 'Inflation t-2', 'Inflation t-1', 'Inflation t', 'Inflation t+1', 'Inflation t+2', 'Inflation t+3', 'Inflation t+4', 'Inflation t+5', 'Inflation t+6', 'Inflation t+7']\n",
      "x shape is: torch.Size([32, 13])\n",
      "y shape is: torch.Size([32])\n",
      "input shape is: torch.Size([32, 13])\n",
      "Apparel less footwear\n",
      "the number of columns is: 14\n",
      "the columns: ['Inflation t-6', 'Inflation t-5', 'Inflation t-4', 'Inflation t-3', 'Inflation t-2', 'Inflation t-1', 'Inflation t', 'Inflation t+1', 'Inflation t+2', 'Inflation t+3', 'Inflation t+4', 'Inflation t+5', 'Inflation t+6', 'Inflation t+7']\n",
      "x shape is: torch.Size([32, 13])\n",
      "y shape is: torch.Size([32])\n",
      "input shape is: torch.Size([32, 13])\n",
      "Commodities\n",
      "the number of columns is: 14\n",
      "the columns: ['Inflation t-6', 'Inflation t-5', 'Inflation t-4', 'Inflation t-3', 'Inflation t-2', 'Inflation t-1', 'Inflation t', 'Inflation t+1', 'Inflation t+2', 'Inflation t+3', 'Inflation t+4', 'Inflation t+5', 'Inflation t+6', 'Inflation t+7']\n",
      "x shape is: torch.Size([32, 13])\n",
      "y shape is: torch.Size([32])\n",
      "input shape is: torch.Size([32, 13])\n",
      "Durables\n",
      "the number of columns is: 14\n",
      "the columns: ['Inflation t-6', 'Inflation t-5', 'Inflation t-4', 'Inflation t-3', 'Inflation t-2', 'Inflation t-1', 'Inflation t', 'Inflation t+1', 'Inflation t+2', 'Inflation t+3', 'Inflation t+4', 'Inflation t+5', 'Inflation t+6', 'Inflation t+7']\n",
      "x shape is: torch.Size([32, 13])\n",
      "y shape is: torch.Size([32])\n",
      "input shape is: torch.Size([32, 13])\n",
      "Education and communication\n",
      "the number of columns is: 14\n",
      "the columns: ['Inflation t-6', 'Inflation t-5', 'Inflation t-4', 'Inflation t-3', 'Inflation t-2', 'Inflation t-1', 'Inflation t', 'Inflation t+1', 'Inflation t+2', 'Inflation t+3', 'Inflation t+4', 'Inflation t+5', 'Inflation t+6', 'Inflation t+7']\n",
      "x shape is: torch.Size([32, 13])\n",
      "y shape is: torch.Size([32])\n",
      "input shape is: torch.Size([32, 13])\n",
      "Energy\n",
      "the number of columns is: 14\n",
      "the columns: ['Inflation t-6', 'Inflation t-5', 'Inflation t-4', 'Inflation t-3', 'Inflation t-2', 'Inflation t-1', 'Inflation t', 'Inflation t+1', 'Inflation t+2', 'Inflation t+3', 'Inflation t+4', 'Inflation t+5', 'Inflation t+6', 'Inflation t+7']\n",
      "x shape is: torch.Size([32, 13])\n",
      "y shape is: torch.Size([32])\n",
      "input shape is: torch.Size([32, 13])\n",
      "Food\n",
      "the number of columns is: 14\n",
      "the columns: ['Inflation t-6', 'Inflation t-5', 'Inflation t-4', 'Inflation t-3', 'Inflation t-2', 'Inflation t-1', 'Inflation t', 'Inflation t+1', 'Inflation t+2', 'Inflation t+3', 'Inflation t+4', 'Inflation t+5', 'Inflation t+6', 'Inflation t+7']\n",
      "x shape is: torch.Size([32, 13])\n",
      "y shape is: torch.Size([32])\n",
      "input shape is: torch.Size([32, 13])\n",
      "Food and beverages\n",
      "the number of columns is: 14\n",
      "the columns: ['Inflation t-6', 'Inflation t-5', 'Inflation t-4', 'Inflation t-3', 'Inflation t-2', 'Inflation t-1', 'Inflation t', 'Inflation t+1', 'Inflation t+2', 'Inflation t+3', 'Inflation t+4', 'Inflation t+5', 'Inflation t+6', 'Inflation t+7']\n",
      "x shape is: torch.Size([32, 13])\n",
      "y shape is: torch.Size([32])\n",
      "input shape is: torch.Size([32, 13])\n",
      "Fuels and utilities\n",
      "the number of columns is: 14\n",
      "the columns: ['Inflation t-6', 'Inflation t-5', 'Inflation t-4', 'Inflation t-3', 'Inflation t-2', 'Inflation t-1', 'Inflation t', 'Inflation t+1', 'Inflation t+2', 'Inflation t+3', 'Inflation t+4', 'Inflation t+5', 'Inflation t+6', 'Inflation t+7']\n",
      "x shape is: torch.Size([32, 13])\n",
      "y shape is: torch.Size([32])\n",
      "input shape is: torch.Size([32, 13])\n",
      "Household furnishings and operations\n",
      "the number of columns is: 14\n",
      "the columns: ['Inflation t-6', 'Inflation t-5', 'Inflation t-4', 'Inflation t-3', 'Inflation t-2', 'Inflation t-1', 'Inflation t', 'Inflation t+1', 'Inflation t+2', 'Inflation t+3', 'Inflation t+4', 'Inflation t+5', 'Inflation t+6', 'Inflation t+7']\n",
      "x shape is: torch.Size([32, 13])\n",
      "y shape is: torch.Size([32])\n",
      "input shape is: torch.Size([32, 13])\n",
      "Housing\n",
      "the number of columns is: 14\n",
      "the columns: ['Inflation t-6', 'Inflation t-5', 'Inflation t-4', 'Inflation t-3', 'Inflation t-2', 'Inflation t-1', 'Inflation t', 'Inflation t+1', 'Inflation t+2', 'Inflation t+3', 'Inflation t+4', 'Inflation t+5', 'Inflation t+6', 'Inflation t+7']\n",
      "x shape is: torch.Size([32, 13])\n",
      "y shape is: torch.Size([32])\n",
      "input shape is: torch.Size([32, 13])\n",
      "Medical care\n",
      "the number of columns is: 14\n",
      "the columns: ['Inflation t-6', 'Inflation t-5', 'Inflation t-4', 'Inflation t-3', 'Inflation t-2', 'Inflation t-1', 'Inflation t', 'Inflation t+1', 'Inflation t+2', 'Inflation t+3', 'Inflation t+4', 'Inflation t+5', 'Inflation t+6', 'Inflation t+7']\n",
      "x shape is: torch.Size([32, 13])\n",
      "y shape is: torch.Size([32])\n",
      "input shape is: torch.Size([32, 13])\n",
      "Nondurables\n",
      "the number of columns is: 14\n",
      "the columns: ['Inflation t-6', 'Inflation t-5', 'Inflation t-4', 'Inflation t-3', 'Inflation t-2', 'Inflation t-1', 'Inflation t', 'Inflation t+1', 'Inflation t+2', 'Inflation t+3', 'Inflation t+4', 'Inflation t+5', 'Inflation t+6', 'Inflation t+7']\n",
      "x shape is: torch.Size([32, 13])\n",
      "y shape is: torch.Size([32])\n",
      "input shape is: torch.Size([32, 13])\n",
      "Other goods and services\n",
      "the number of columns is: 14\n",
      "the columns: ['Inflation t-6', 'Inflation t-5', 'Inflation t-4', 'Inflation t-3', 'Inflation t-2', 'Inflation t-1', 'Inflation t', 'Inflation t+1', 'Inflation t+2', 'Inflation t+3', 'Inflation t+4', 'Inflation t+5', 'Inflation t+6', 'Inflation t+7']\n",
      "x shape is: torch.Size([32, 13])\n",
      "y shape is: torch.Size([32])\n",
      "input shape is: torch.Size([32, 13])\n",
      "Other services\n",
      "the number of columns is: 14\n",
      "the columns: ['Inflation t-6', 'Inflation t-5', 'Inflation t-4', 'Inflation t-3', 'Inflation t-2', 'Inflation t-1', 'Inflation t', 'Inflation t+1', 'Inflation t+2', 'Inflation t+3', 'Inflation t+4', 'Inflation t+5', 'Inflation t+6', 'Inflation t+7']\n",
      "x shape is: torch.Size([32, 13])\n",
      "y shape is: torch.Size([32])\n",
      "input shape is: torch.Size([32, 13])\n",
      "Recreation\n",
      "the number of columns is: 14\n",
      "the columns: ['Inflation t-6', 'Inflation t-5', 'Inflation t-4', 'Inflation t-3', 'Inflation t-2', 'Inflation t-1', 'Inflation t', 'Inflation t+1', 'Inflation t+2', 'Inflation t+3', 'Inflation t+4', 'Inflation t+5', 'Inflation t+6', 'Inflation t+7']\n",
      "x shape is: torch.Size([32, 13])\n",
      "y shape is: torch.Size([32])\n",
      "input shape is: torch.Size([32, 13])\n",
      "Services\n",
      "the number of columns is: 14\n",
      "the columns: ['Inflation t-6', 'Inflation t-5', 'Inflation t-4', 'Inflation t-3', 'Inflation t-2', 'Inflation t-1', 'Inflation t', 'Inflation t+1', 'Inflation t+2', 'Inflation t+3', 'Inflation t+4', 'Inflation t+5', 'Inflation t+6', 'Inflation t+7']\n",
      "x shape is: torch.Size([32, 13])\n",
      "y shape is: torch.Size([32])\n",
      "input shape is: torch.Size([32, 13])\n",
      "Transportation\n",
      "the number of columns is: 14\n",
      "the columns: ['Inflation t-6', 'Inflation t-5', 'Inflation t-4', 'Inflation t-3', 'Inflation t-2', 'Inflation t-1', 'Inflation t', 'Inflation t+1', 'Inflation t+2', 'Inflation t+3', 'Inflation t+4', 'Inflation t+5', 'Inflation t+6', 'Inflation t+7']\n",
      "x shape is: torch.Size([32, 13])\n",
      "y shape is: torch.Size([32])\n",
      "input shape is: torch.Size([32, 13])\n",
      "Utilities and public transportation\n",
      "the number of columns is: 14\n",
      "the columns: ['Inflation t-6', 'Inflation t-5', 'Inflation t-4', 'Inflation t-3', 'Inflation t-2', 'Inflation t-1', 'Inflation t', 'Inflation t+1', 'Inflation t+2', 'Inflation t+3', 'Inflation t+4', 'Inflation t+5', 'Inflation t+6', 'Inflation t+7']\n",
      "x shape is: torch.Size([32, 13])\n",
      "y shape is: torch.Size([32])\n",
      "input shape is: torch.Size([32, 13])\n",
      "Commodities less food\n",
      "the number of columns is: 14\n",
      "the columns: ['Inflation t-6', 'Inflation t-5', 'Inflation t-4', 'Inflation t-3', 'Inflation t-2', 'Inflation t-1', 'Inflation t', 'Inflation t+1', 'Inflation t+2', 'Inflation t+3', 'Inflation t+4', 'Inflation t+5', 'Inflation t+6', 'Inflation t+7']\n",
      "x shape is: torch.Size([32, 13])\n",
      "y shape is: torch.Size([32])\n",
      "input shape is: torch.Size([32, 13])\n",
      "Commodities less food and beverages\n",
      "the number of columns is: 14\n",
      "the columns: ['Inflation t-6', 'Inflation t-5', 'Inflation t-4', 'Inflation t-3', 'Inflation t-2', 'Inflation t-1', 'Inflation t', 'Inflation t+1', 'Inflation t+2', 'Inflation t+3', 'Inflation t+4', 'Inflation t+5', 'Inflation t+6', 'Inflation t+7']\n",
      "x shape is: torch.Size([32, 13])\n",
      "y shape is: torch.Size([32])\n",
      "input shape is: torch.Size([32, 13])\n",
      "Commodities less food and energy commodities\n",
      "the number of columns is: 14\n",
      "the columns: ['Inflation t-6', 'Inflation t-5', 'Inflation t-4', 'Inflation t-3', 'Inflation t-2', 'Inflation t-1', 'Inflation t', 'Inflation t+1', 'Inflation t+2', 'Inflation t+3', 'Inflation t+4', 'Inflation t+5', 'Inflation t+6', 'Inflation t+7']\n",
      "x shape is: torch.Size([32, 13])\n",
      "y shape is: torch.Size([32])\n",
      "input shape is: torch.Size([32, 13])\n",
      "Commodities less food, energy, and used cars and trucks\n",
      "the number of columns is: 14\n",
      "the columns: ['Inflation t-6', 'Inflation t-5', 'Inflation t-4', 'Inflation t-3', 'Inflation t-2', 'Inflation t-1', 'Inflation t', 'Inflation t+1', 'Inflation t+2', 'Inflation t+3', 'Inflation t+4', 'Inflation t+5', 'Inflation t+6', 'Inflation t+7']\n",
      "x shape is: torch.Size([32, 13])\n",
      "y shape is: torch.Size([32])\n",
      "input shape is: torch.Size([32, 13])\n",
      "Communication\n",
      "the number of columns is: 14\n",
      "the columns: ['Inflation t-6', 'Inflation t-5', 'Inflation t-4', 'Inflation t-3', 'Inflation t-2', 'Inflation t-1', 'Inflation t', 'Inflation t+1', 'Inflation t+2', 'Inflation t+3', 'Inflation t+4', 'Inflation t+5', 'Inflation t+6', 'Inflation t+7']\n",
      "x shape is: torch.Size([32, 13])\n",
      "y shape is: torch.Size([32])\n",
      "input shape is: torch.Size([32, 13])\n",
      "Domestically produced farm food\n",
      "the number of columns is: 14\n",
      "the columns: ['Inflation t-6', 'Inflation t-5', 'Inflation t-4', 'Inflation t-3', 'Inflation t-2', 'Inflation t-1', 'Inflation t', 'Inflation t+1', 'Inflation t+2', 'Inflation t+3', 'Inflation t+4', 'Inflation t+5', 'Inflation t+6', 'Inflation t+7']\n",
      "x shape is: torch.Size([32, 13])\n",
      "y shape is: torch.Size([32])\n",
      "input shape is: torch.Size([32, 13])\n",
      "Education\n",
      "the number of columns is: 14\n",
      "the columns: ['Inflation t-6', 'Inflation t-5', 'Inflation t-4', 'Inflation t-3', 'Inflation t-2', 'Inflation t-1', 'Inflation t', 'Inflation t+1', 'Inflation t+2', 'Inflation t+3', 'Inflation t+4', 'Inflation t+5', 'Inflation t+6', 'Inflation t+7']\n",
      "x shape is: torch.Size([32, 13])\n",
      "y shape is: torch.Size([32])\n",
      "input shape is: torch.Size([32, 13])\n",
      "Energy commodities\n",
      "the number of columns is: 14\n",
      "the columns: ['Inflation t-6', 'Inflation t-5', 'Inflation t-4', 'Inflation t-3', 'Inflation t-2', 'Inflation t-1', 'Inflation t', 'Inflation t+1', 'Inflation t+2', 'Inflation t+3', 'Inflation t+4', 'Inflation t+5', 'Inflation t+6', 'Inflation t+7']\n",
      "x shape is: torch.Size([32, 13])\n",
      "y shape is: torch.Size([32])\n",
      "input shape is: torch.Size([32, 13])\n",
      "Energy services\n",
      "the number of columns is: 14\n",
      "the columns: ['Inflation t-6', 'Inflation t-5', 'Inflation t-4', 'Inflation t-3', 'Inflation t-2', 'Inflation t-1', 'Inflation t', 'Inflation t+1', 'Inflation t+2', 'Inflation t+3', 'Inflation t+4', 'Inflation t+5', 'Inflation t+6', 'Inflation t+7']\n",
      "x shape is: torch.Size([32, 13])\n",
      "y shape is: torch.Size([32])\n",
      "input shape is: torch.Size([32, 13])\n",
      "Food at home\n",
      "the number of columns is: 14\n",
      "the columns: ['Inflation t-6', 'Inflation t-5', 'Inflation t-4', 'Inflation t-3', 'Inflation t-2', 'Inflation t-1', 'Inflation t', 'Inflation t+1', 'Inflation t+2', 'Inflation t+3', 'Inflation t+4', 'Inflation t+5', 'Inflation t+6', 'Inflation t+7']\n",
      "x shape is: torch.Size([32, 13])\n",
      "y shape is: torch.Size([32])\n",
      "input shape is: torch.Size([32, 13])\n",
      "Food away from home\n",
      "the number of columns is: 14\n",
      "the columns: ['Inflation t-6', 'Inflation t-5', 'Inflation t-4', 'Inflation t-3', 'Inflation t-2', 'Inflation t-1', 'Inflation t', 'Inflation t+1', 'Inflation t+2', 'Inflation t+3', 'Inflation t+4', 'Inflation t+5', 'Inflation t+6', 'Inflation t+7']\n",
      "x shape is: torch.Size([32, 13])\n",
      "y shape is: torch.Size([32])\n",
      "input shape is: torch.Size([32, 13])\n",
      "Household energy\n",
      "the number of columns is: 14\n",
      "the columns: ['Inflation t-6', 'Inflation t-5', 'Inflation t-4', 'Inflation t-3', 'Inflation t-2', 'Inflation t-1', 'Inflation t', 'Inflation t+1', 'Inflation t+2', 'Inflation t+3', 'Inflation t+4', 'Inflation t+5', 'Inflation t+6', 'Inflation t+7']\n",
      "x shape is: torch.Size([32, 13])\n",
      "y shape is: torch.Size([32])\n",
      "input shape is: torch.Size([32, 13])\n",
      "Nondurables less food\n",
      "the number of columns is: 14\n",
      "the columns: ['Inflation t-6', 'Inflation t-5', 'Inflation t-4', 'Inflation t-3', 'Inflation t-2', 'Inflation t-1', 'Inflation t', 'Inflation t+1', 'Inflation t+2', 'Inflation t+3', 'Inflation t+4', 'Inflation t+5', 'Inflation t+6', 'Inflation t+7']\n",
      "x shape is: torch.Size([32, 13])\n",
      "y shape is: torch.Size([32])\n",
      "input shape is: torch.Size([32, 13])\n",
      "Nondurables less food and apparel\n",
      "the number of columns is: 14\n",
      "the columns: ['Inflation t-6', 'Inflation t-5', 'Inflation t-4', 'Inflation t-3', 'Inflation t-2', 'Inflation t-1', 'Inflation t', 'Inflation t+1', 'Inflation t+2', 'Inflation t+3', 'Inflation t+4', 'Inflation t+5', 'Inflation t+6', 'Inflation t+7']\n",
      "x shape is: torch.Size([32, 13])\n",
      "y shape is: torch.Size([32])\n",
      "input shape is: torch.Size([32, 13])\n",
      "Nondurables less food and beverages\n",
      "the number of columns is: 14\n",
      "the columns: ['Inflation t-6', 'Inflation t-5', 'Inflation t-4', 'Inflation t-3', 'Inflation t-2', 'Inflation t-1', 'Inflation t', 'Inflation t+1', 'Inflation t+2', 'Inflation t+3', 'Inflation t+4', 'Inflation t+5', 'Inflation t+6', 'Inflation t+7']\n",
      "x shape is: torch.Size([32, 13])\n",
      "y shape is: torch.Size([32])\n",
      "input shape is: torch.Size([32, 13])\n",
      "Nondurables less food, beverages, and apparel\n",
      "the number of columns is: 14\n",
      "the columns: ['Inflation t-6', 'Inflation t-5', 'Inflation t-4', 'Inflation t-3', 'Inflation t-2', 'Inflation t-1', 'Inflation t', 'Inflation t+1', 'Inflation t+2', 'Inflation t+3', 'Inflation t+4', 'Inflation t+5', 'Inflation t+6', 'Inflation t+7']\n",
      "x shape is: torch.Size([32, 13])\n",
      "y shape is: torch.Size([32])\n",
      "input shape is: torch.Size([32, 13])\n",
      "Personal care\n",
      "the number of columns is: 14\n",
      "the columns: ['Inflation t-6', 'Inflation t-5', 'Inflation t-4', 'Inflation t-3', 'Inflation t-2', 'Inflation t-1', 'Inflation t', 'Inflation t+1', 'Inflation t+2', 'Inflation t+3', 'Inflation t+4', 'Inflation t+5', 'Inflation t+6', 'Inflation t+7']\n",
      "x shape is: torch.Size([32, 13])\n",
      "y shape is: torch.Size([32])\n",
      "input shape is: torch.Size([32, 13])\n",
      "Pets, pet products and services\n",
      "the number of columns is: 14\n",
      "the columns: ['Inflation t-6', 'Inflation t-5', 'Inflation t-4', 'Inflation t-3', 'Inflation t-2', 'Inflation t-1', 'Inflation t', 'Inflation t+1', 'Inflation t+2', 'Inflation t+3', 'Inflation t+4', 'Inflation t+5', 'Inflation t+6', 'Inflation t+7']\n",
      "x shape is: torch.Size([32, 13])\n",
      "y shape is: torch.Size([32])\n",
      "input shape is: torch.Size([32, 13])\n",
      "Photography\n",
      "the number of columns is: 14\n",
      "the columns: ['Inflation t-6', 'Inflation t-5', 'Inflation t-4', 'Inflation t-3', 'Inflation t-2', 'Inflation t-1', 'Inflation t', 'Inflation t+1', 'Inflation t+2', 'Inflation t+3', 'Inflation t+4', 'Inflation t+5', 'Inflation t+6', 'Inflation t+7']\n",
      "x shape is: torch.Size([32, 13])\n",
      "y shape is: torch.Size([32])\n",
      "input shape is: torch.Size([32, 13])\n",
      "Private transportation\n",
      "the number of columns is: 14\n",
      "the columns: ['Inflation t-6', 'Inflation t-5', 'Inflation t-4', 'Inflation t-3', 'Inflation t-2', 'Inflation t-1', 'Inflation t', 'Inflation t+1', 'Inflation t+2', 'Inflation t+3', 'Inflation t+4', 'Inflation t+5', 'Inflation t+6', 'Inflation t+7']\n",
      "x shape is: torch.Size([32, 13])\n",
      "y shape is: torch.Size([32])\n",
      "input shape is: torch.Size([32, 13])\n",
      "Services less energy services\n",
      "the number of columns is: 14\n",
      "the columns: ['Inflation t-6', 'Inflation t-5', 'Inflation t-4', 'Inflation t-3', 'Inflation t-2', 'Inflation t-1', 'Inflation t', 'Inflation t+1', 'Inflation t+2', 'Inflation t+3', 'Inflation t+4', 'Inflation t+5', 'Inflation t+6', 'Inflation t+7']\n",
      "x shape is: torch.Size([32, 13])\n",
      "y shape is: torch.Size([32])\n",
      "input shape is: torch.Size([32, 13])\n",
      "Services less medical care services\n",
      "the number of columns is: 14\n",
      "the columns: ['Inflation t-6', 'Inflation t-5', 'Inflation t-4', 'Inflation t-3', 'Inflation t-2', 'Inflation t-1', 'Inflation t', 'Inflation t+1', 'Inflation t+2', 'Inflation t+3', 'Inflation t+4', 'Inflation t+5', 'Inflation t+6', 'Inflation t+7']\n",
      "x shape is: torch.Size([32, 13])\n",
      "y shape is: torch.Size([32])\n",
      "input shape is: torch.Size([32, 13])\n",
      "Services less rent of shelter\n",
      "the number of columns is: 14\n",
      "the columns: ['Inflation t-6', 'Inflation t-5', 'Inflation t-4', 'Inflation t-3', 'Inflation t-2', 'Inflation t-1', 'Inflation t', 'Inflation t+1', 'Inflation t+2', 'Inflation t+3', 'Inflation t+4', 'Inflation t+5', 'Inflation t+6', 'Inflation t+7']\n",
      "x shape is: torch.Size([32, 13])\n",
      "y shape is: torch.Size([32])\n",
      "input shape is: torch.Size([32, 13])\n",
      "Video and audio\n",
      "the number of columns is: 14\n",
      "the columns: ['Inflation t-6', 'Inflation t-5', 'Inflation t-4', 'Inflation t-3', 'Inflation t-2', 'Inflation t-1', 'Inflation t', 'Inflation t+1', 'Inflation t+2', 'Inflation t+3', 'Inflation t+4', 'Inflation t+5', 'Inflation t+6', 'Inflation t+7']\n",
      "x shape is: torch.Size([32, 13])\n",
      "y shape is: torch.Size([32])\n",
      "input shape is: torch.Size([32, 13])\n"
     ]
    }
   ],
   "source": [
    "data_dict = create_final_dataset_dict(categories_per_indent_dict, category_id_to_name_dict, original_prediction_dic, raw_dataset_hor6, num_horizons = 6)"
   ]
  },
  {
   "cell_type": "code",
   "execution_count": 9,
   "metadata": {},
   "outputs": [],
   "source": [
    "def create_test_dataframe(prediction_dataset):\n",
    "    test_dict = {}\n",
    "    for key in prediction_dataset.keys():\n",
    "        columns = ['Category', 'Date', 'Year','Inflation t+1', 'Inflation t+2', 'Inflation t+3', 'Inflation t+4',\n",
    "                    'Inflation t+5', 'Inflation t+6', 'Inflation t+7','expanding horizon: 0', 'expanding horizon: 1',\n",
    "                    'expanding horizon: 2', 'expanding horizon: 3', 'expanding horizon: 4',\n",
    "                    'expanding horizon: 5', 'expanding horizon: 6']\n",
    "        df = prediction_dataset[key][columns]\n",
    "        #df.dropna(inplace=True)\n",
    "        \n",
    "        new_columns = []\n",
    "        for col in df.columns:\n",
    "            if col in list(plot_dict.keys()):\n",
    "                col = plot_dict[col]\n",
    "            new_columns.append(col)\n",
    "        df.columns = new_columns\n",
    "        test_dict[key] = df\n",
    "        \n",
    "    return test_dict"
   ]
  },
  {
   "cell_type": "code",
   "execution_count": 10,
   "metadata": {},
   "outputs": [],
   "source": [
    "plot_dict = create_test_dataframe(data_dict)"
   ]
  },
  {
   "cell_type": "code",
   "execution_count": 14,
   "metadata": {},
   "outputs": [
    {
     "data": {
      "application/vnd.plotly.v1+json": {
       "config": {
        "plotlyServerURL": "https://plot.ly"
       },
       "data": [
        {
         "hovertemplate": "variable=Actual - Period 2<br>Date=%{x}<br>value=%{y}<extra></extra>",
         "legendgroup": "Actual - Period 2",
         "line": {
          "color": "#636efa",
          "dash": "solid"
         },
         "marker": {
          "symbol": "circle"
         },
         "mode": "lines",
         "name": "Actual - Period 2",
         "orientation": "v",
         "showlegend": true,
         "type": "scatter",
         "x": [
          "2020-01-15",
          "2020-02-15",
          "2020-03-15",
          "2020-04-15",
          "2020-05-15",
          "2020-06-15",
          "2020-07-15",
          "2020-08-15",
          "2020-09-15",
          "2020-10-15",
          "2020-11-15",
          "2020-12-15",
          "2021-01-15",
          "2021-02-15",
          "2021-03-15",
          "2021-04-15",
          "2021-05-15",
          "2021-06-15",
          "2021-07-15",
          "2021-08-15",
          "2021-09-15",
          "2021-10-15",
          "2021-11-15",
          "2021-12-15",
          "2022-01-15",
          "2022-02-15",
          "2022-03-15",
          "2022-04-15",
          "2022-05-15",
          "2022-06-15",
          "2022-07-15",
          "2022-08-15"
         ],
         "xaxis": "x",
         "y": [
          0.0871793698785864,
          -0.21473224248616915,
          0.06811237846010929,
          -0.4517500954496405,
          1.343470884658912,
          2.0406471403511817,
          2.698459038172152,
          0.2137043182895861,
          -0.5614960122158894,
          -0.18756435949794226,
          -0.5813119616427065,
          -0.35538369673000353,
          0.22696687482634087,
          4.236646436068064,
          3.8834889787905933,
          5.467812856673058,
          1.0021170397386057,
          -0.01745297617338517,
          0.3208063300530406,
          1.8406509245258738,
          1.7257600185635924,
          2.1112868553326285,
          0.7889058807552153,
          0.1074340773056109,
          -1.759326425869305,
          0.4226682485390851,
          1.383300487192221,
          1.0902439734765652,
          0.12292654492694069,
          0.4035691744724076,
          null,
          null
         ],
         "yaxis": "y"
        },
        {
         "hovertemplate": "variable=Prediction - Period 2<br>Date=%{x}<br>value=%{y}<extra></extra>",
         "legendgroup": "Prediction - Period 2",
         "line": {
          "color": "#EF553B",
          "dash": "solid"
         },
         "marker": {
          "symbol": "circle"
         },
         "mode": "lines",
         "name": "Prediction - Period 2",
         "orientation": "v",
         "showlegend": true,
         "type": "scatter",
         "x": [
          "2020-01-15",
          "2020-02-15",
          "2020-03-15",
          "2020-04-15",
          "2020-05-15",
          "2020-06-15",
          "2020-07-15",
          "2020-08-15",
          "2020-09-15",
          "2020-10-15",
          "2020-11-15",
          "2020-12-15",
          "2021-01-15",
          "2021-02-15",
          "2021-03-15",
          "2021-04-15",
          "2021-05-15",
          "2021-06-15",
          "2021-07-15",
          "2021-08-15",
          "2021-09-15",
          "2021-10-15",
          "2021-11-15",
          "2021-12-15",
          "2022-01-15",
          "2022-02-15",
          "2022-03-15",
          "2022-04-15",
          "2022-05-15",
          "2022-06-15",
          "2022-07-15",
          "2022-08-15"
         ],
         "xaxis": "x",
         "y": [
          -0.12100906670093536,
          -0.29493337869644165,
          -0.2031387835741043,
          -0.2244522124528885,
          -0.19939829409122467,
          0.5040563344955444,
          -0.02647984027862549,
          -0.8427098989486694,
          -0.34608596563339233,
          0.7427432537078857,
          0.979215145111084,
          -0.0790608674287796,
          0.10018499195575714,
          0.593351423740387,
          1.0241080522537231,
          0.994483470916748,
          1.2687064409255981,
          0.44902902841567993,
          0.5931188464164734,
          0.19339340925216675,
          -0.43133020401000977,
          -1.1096845865249634,
          0.42444032430648804,
          -0.1065262109041214,
          0.0026611387729644775,
          0.11963798105716705,
          -0.31050413846969604,
          -1.3523560762405396,
          -0.0014376267790794373,
          0.26844286918640137,
          0.6753209233283997,
          null
         ],
         "yaxis": "y"
        }
       ],
       "layout": {
        "legend": {
         "title": {
          "text": "variable"
         },
         "tracegroupgap": 0
        },
        "template": {
         "data": {
          "bar": [
           {
            "error_x": {
             "color": "#2a3f5f"
            },
            "error_y": {
             "color": "#2a3f5f"
            },
            "marker": {
             "line": {
              "color": "#E5ECF6",
              "width": 0.5
             },
             "pattern": {
              "fillmode": "overlay",
              "size": 10,
              "solidity": 0.2
             }
            },
            "type": "bar"
           }
          ],
          "barpolar": [
           {
            "marker": {
             "line": {
              "color": "#E5ECF6",
              "width": 0.5
             },
             "pattern": {
              "fillmode": "overlay",
              "size": 10,
              "solidity": 0.2
             }
            },
            "type": "barpolar"
           }
          ],
          "carpet": [
           {
            "aaxis": {
             "endlinecolor": "#2a3f5f",
             "gridcolor": "white",
             "linecolor": "white",
             "minorgridcolor": "white",
             "startlinecolor": "#2a3f5f"
            },
            "baxis": {
             "endlinecolor": "#2a3f5f",
             "gridcolor": "white",
             "linecolor": "white",
             "minorgridcolor": "white",
             "startlinecolor": "#2a3f5f"
            },
            "type": "carpet"
           }
          ],
          "choropleth": [
           {
            "colorbar": {
             "outlinewidth": 0,
             "ticks": ""
            },
            "type": "choropleth"
           }
          ],
          "contour": [
           {
            "colorbar": {
             "outlinewidth": 0,
             "ticks": ""
            },
            "colorscale": [
             [
              0,
              "#0d0887"
             ],
             [
              0.1111111111111111,
              "#46039f"
             ],
             [
              0.2222222222222222,
              "#7201a8"
             ],
             [
              0.3333333333333333,
              "#9c179e"
             ],
             [
              0.4444444444444444,
              "#bd3786"
             ],
             [
              0.5555555555555556,
              "#d8576b"
             ],
             [
              0.6666666666666666,
              "#ed7953"
             ],
             [
              0.7777777777777778,
              "#fb9f3a"
             ],
             [
              0.8888888888888888,
              "#fdca26"
             ],
             [
              1,
              "#f0f921"
             ]
            ],
            "type": "contour"
           }
          ],
          "contourcarpet": [
           {
            "colorbar": {
             "outlinewidth": 0,
             "ticks": ""
            },
            "type": "contourcarpet"
           }
          ],
          "heatmap": [
           {
            "colorbar": {
             "outlinewidth": 0,
             "ticks": ""
            },
            "colorscale": [
             [
              0,
              "#0d0887"
             ],
             [
              0.1111111111111111,
              "#46039f"
             ],
             [
              0.2222222222222222,
              "#7201a8"
             ],
             [
              0.3333333333333333,
              "#9c179e"
             ],
             [
              0.4444444444444444,
              "#bd3786"
             ],
             [
              0.5555555555555556,
              "#d8576b"
             ],
             [
              0.6666666666666666,
              "#ed7953"
             ],
             [
              0.7777777777777778,
              "#fb9f3a"
             ],
             [
              0.8888888888888888,
              "#fdca26"
             ],
             [
              1,
              "#f0f921"
             ]
            ],
            "type": "heatmap"
           }
          ],
          "heatmapgl": [
           {
            "colorbar": {
             "outlinewidth": 0,
             "ticks": ""
            },
            "colorscale": [
             [
              0,
              "#0d0887"
             ],
             [
              0.1111111111111111,
              "#46039f"
             ],
             [
              0.2222222222222222,
              "#7201a8"
             ],
             [
              0.3333333333333333,
              "#9c179e"
             ],
             [
              0.4444444444444444,
              "#bd3786"
             ],
             [
              0.5555555555555556,
              "#d8576b"
             ],
             [
              0.6666666666666666,
              "#ed7953"
             ],
             [
              0.7777777777777778,
              "#fb9f3a"
             ],
             [
              0.8888888888888888,
              "#fdca26"
             ],
             [
              1,
              "#f0f921"
             ]
            ],
            "type": "heatmapgl"
           }
          ],
          "histogram": [
           {
            "marker": {
             "pattern": {
              "fillmode": "overlay",
              "size": 10,
              "solidity": 0.2
             }
            },
            "type": "histogram"
           }
          ],
          "histogram2d": [
           {
            "colorbar": {
             "outlinewidth": 0,
             "ticks": ""
            },
            "colorscale": [
             [
              0,
              "#0d0887"
             ],
             [
              0.1111111111111111,
              "#46039f"
             ],
             [
              0.2222222222222222,
              "#7201a8"
             ],
             [
              0.3333333333333333,
              "#9c179e"
             ],
             [
              0.4444444444444444,
              "#bd3786"
             ],
             [
              0.5555555555555556,
              "#d8576b"
             ],
             [
              0.6666666666666666,
              "#ed7953"
             ],
             [
              0.7777777777777778,
              "#fb9f3a"
             ],
             [
              0.8888888888888888,
              "#fdca26"
             ],
             [
              1,
              "#f0f921"
             ]
            ],
            "type": "histogram2d"
           }
          ],
          "histogram2dcontour": [
           {
            "colorbar": {
             "outlinewidth": 0,
             "ticks": ""
            },
            "colorscale": [
             [
              0,
              "#0d0887"
             ],
             [
              0.1111111111111111,
              "#46039f"
             ],
             [
              0.2222222222222222,
              "#7201a8"
             ],
             [
              0.3333333333333333,
              "#9c179e"
             ],
             [
              0.4444444444444444,
              "#bd3786"
             ],
             [
              0.5555555555555556,
              "#d8576b"
             ],
             [
              0.6666666666666666,
              "#ed7953"
             ],
             [
              0.7777777777777778,
              "#fb9f3a"
             ],
             [
              0.8888888888888888,
              "#fdca26"
             ],
             [
              1,
              "#f0f921"
             ]
            ],
            "type": "histogram2dcontour"
           }
          ],
          "mesh3d": [
           {
            "colorbar": {
             "outlinewidth": 0,
             "ticks": ""
            },
            "type": "mesh3d"
           }
          ],
          "parcoords": [
           {
            "line": {
             "colorbar": {
              "outlinewidth": 0,
              "ticks": ""
             }
            },
            "type": "parcoords"
           }
          ],
          "pie": [
           {
            "automargin": true,
            "type": "pie"
           }
          ],
          "scatter": [
           {
            "fillpattern": {
             "fillmode": "overlay",
             "size": 10,
             "solidity": 0.2
            },
            "type": "scatter"
           }
          ],
          "scatter3d": [
           {
            "line": {
             "colorbar": {
              "outlinewidth": 0,
              "ticks": ""
             }
            },
            "marker": {
             "colorbar": {
              "outlinewidth": 0,
              "ticks": ""
             }
            },
            "type": "scatter3d"
           }
          ],
          "scattercarpet": [
           {
            "marker": {
             "colorbar": {
              "outlinewidth": 0,
              "ticks": ""
             }
            },
            "type": "scattercarpet"
           }
          ],
          "scattergeo": [
           {
            "marker": {
             "colorbar": {
              "outlinewidth": 0,
              "ticks": ""
             }
            },
            "type": "scattergeo"
           }
          ],
          "scattergl": [
           {
            "marker": {
             "colorbar": {
              "outlinewidth": 0,
              "ticks": ""
             }
            },
            "type": "scattergl"
           }
          ],
          "scattermapbox": [
           {
            "marker": {
             "colorbar": {
              "outlinewidth": 0,
              "ticks": ""
             }
            },
            "type": "scattermapbox"
           }
          ],
          "scatterpolar": [
           {
            "marker": {
             "colorbar": {
              "outlinewidth": 0,
              "ticks": ""
             }
            },
            "type": "scatterpolar"
           }
          ],
          "scatterpolargl": [
           {
            "marker": {
             "colorbar": {
              "outlinewidth": 0,
              "ticks": ""
             }
            },
            "type": "scatterpolargl"
           }
          ],
          "scatterternary": [
           {
            "marker": {
             "colorbar": {
              "outlinewidth": 0,
              "ticks": ""
             }
            },
            "type": "scatterternary"
           }
          ],
          "surface": [
           {
            "colorbar": {
             "outlinewidth": 0,
             "ticks": ""
            },
            "colorscale": [
             [
              0,
              "#0d0887"
             ],
             [
              0.1111111111111111,
              "#46039f"
             ],
             [
              0.2222222222222222,
              "#7201a8"
             ],
             [
              0.3333333333333333,
              "#9c179e"
             ],
             [
              0.4444444444444444,
              "#bd3786"
             ],
             [
              0.5555555555555556,
              "#d8576b"
             ],
             [
              0.6666666666666666,
              "#ed7953"
             ],
             [
              0.7777777777777778,
              "#fb9f3a"
             ],
             [
              0.8888888888888888,
              "#fdca26"
             ],
             [
              1,
              "#f0f921"
             ]
            ],
            "type": "surface"
           }
          ],
          "table": [
           {
            "cells": {
             "fill": {
              "color": "#EBF0F8"
             },
             "line": {
              "color": "white"
             }
            },
            "header": {
             "fill": {
              "color": "#C8D4E3"
             },
             "line": {
              "color": "white"
             }
            },
            "type": "table"
           }
          ]
         },
         "layout": {
          "annotationdefaults": {
           "arrowcolor": "#2a3f5f",
           "arrowhead": 0,
           "arrowwidth": 1
          },
          "autotypenumbers": "strict",
          "coloraxis": {
           "colorbar": {
            "outlinewidth": 0,
            "ticks": ""
           }
          },
          "colorscale": {
           "diverging": [
            [
             0,
             "#8e0152"
            ],
            [
             0.1,
             "#c51b7d"
            ],
            [
             0.2,
             "#de77ae"
            ],
            [
             0.3,
             "#f1b6da"
            ],
            [
             0.4,
             "#fde0ef"
            ],
            [
             0.5,
             "#f7f7f7"
            ],
            [
             0.6,
             "#e6f5d0"
            ],
            [
             0.7,
             "#b8e186"
            ],
            [
             0.8,
             "#7fbc41"
            ],
            [
             0.9,
             "#4d9221"
            ],
            [
             1,
             "#276419"
            ]
           ],
           "sequential": [
            [
             0,
             "#0d0887"
            ],
            [
             0.1111111111111111,
             "#46039f"
            ],
            [
             0.2222222222222222,
             "#7201a8"
            ],
            [
             0.3333333333333333,
             "#9c179e"
            ],
            [
             0.4444444444444444,
             "#bd3786"
            ],
            [
             0.5555555555555556,
             "#d8576b"
            ],
            [
             0.6666666666666666,
             "#ed7953"
            ],
            [
             0.7777777777777778,
             "#fb9f3a"
            ],
            [
             0.8888888888888888,
             "#fdca26"
            ],
            [
             1,
             "#f0f921"
            ]
           ],
           "sequentialminus": [
            [
             0,
             "#0d0887"
            ],
            [
             0.1111111111111111,
             "#46039f"
            ],
            [
             0.2222222222222222,
             "#7201a8"
            ],
            [
             0.3333333333333333,
             "#9c179e"
            ],
            [
             0.4444444444444444,
             "#bd3786"
            ],
            [
             0.5555555555555556,
             "#d8576b"
            ],
            [
             0.6666666666666666,
             "#ed7953"
            ],
            [
             0.7777777777777778,
             "#fb9f3a"
            ],
            [
             0.8888888888888888,
             "#fdca26"
            ],
            [
             1,
             "#f0f921"
            ]
           ]
          },
          "colorway": [
           "#636efa",
           "#EF553B",
           "#00cc96",
           "#ab63fa",
           "#FFA15A",
           "#19d3f3",
           "#FF6692",
           "#B6E880",
           "#FF97FF",
           "#FECB52"
          ],
          "font": {
           "color": "#2a3f5f"
          },
          "geo": {
           "bgcolor": "white",
           "lakecolor": "white",
           "landcolor": "#E5ECF6",
           "showlakes": true,
           "showland": true,
           "subunitcolor": "white"
          },
          "hoverlabel": {
           "align": "left"
          },
          "hovermode": "closest",
          "mapbox": {
           "style": "light"
          },
          "paper_bgcolor": "white",
          "plot_bgcolor": "#E5ECF6",
          "polar": {
           "angularaxis": {
            "gridcolor": "white",
            "linecolor": "white",
            "ticks": ""
           },
           "bgcolor": "#E5ECF6",
           "radialaxis": {
            "gridcolor": "white",
            "linecolor": "white",
            "ticks": ""
           }
          },
          "scene": {
           "xaxis": {
            "backgroundcolor": "#E5ECF6",
            "gridcolor": "white",
            "gridwidth": 2,
            "linecolor": "white",
            "showbackground": true,
            "ticks": "",
            "zerolinecolor": "white"
           },
           "yaxis": {
            "backgroundcolor": "#E5ECF6",
            "gridcolor": "white",
            "gridwidth": 2,
            "linecolor": "white",
            "showbackground": true,
            "ticks": "",
            "zerolinecolor": "white"
           },
           "zaxis": {
            "backgroundcolor": "#E5ECF6",
            "gridcolor": "white",
            "gridwidth": 2,
            "linecolor": "white",
            "showbackground": true,
            "ticks": "",
            "zerolinecolor": "white"
           }
          },
          "shapedefaults": {
           "line": {
            "color": "#2a3f5f"
           }
          },
          "ternary": {
           "aaxis": {
            "gridcolor": "white",
            "linecolor": "white",
            "ticks": ""
           },
           "baxis": {
            "gridcolor": "white",
            "linecolor": "white",
            "ticks": ""
           },
           "bgcolor": "#E5ECF6",
           "caxis": {
            "gridcolor": "white",
            "linecolor": "white",
            "ticks": ""
           }
          },
          "title": {
           "x": 0.05
          },
          "xaxis": {
           "automargin": true,
           "gridcolor": "white",
           "linecolor": "white",
           "ticks": "",
           "title": {
            "standoff": 15
           },
           "zerolinecolor": "white",
           "zerolinewidth": 2
          },
          "yaxis": {
           "automargin": true,
           "gridcolor": "white",
           "linecolor": "white",
           "ticks": "",
           "title": {
            "standoff": 15
           },
           "zerolinecolor": "white",
           "zerolinewidth": 2
          }
         }
        },
        "title": {
         "text": "Transportation commodities less motor fuel - Actual VS Prediction: Period 2"
        },
        "xaxis": {
         "anchor": "y",
         "domain": [
          0,
          1
         ],
         "title": {
          "text": "Date"
         }
        },
        "yaxis": {
         "anchor": "x",
         "domain": [
          0,
          1
         ],
         "title": {
          "text": "value"
         }
        }
       }
      }
     },
     "metadata": {},
     "output_type": "display_data"
    },
    {
     "data": {
      "application/vnd.plotly.v1+json": {
       "config": {
        "plotlyServerURL": "https://plot.ly"
       },
       "data": [
        {
         "hovertemplate": "variable=Actual - Period 2<br>Date=%{x}<br>value=%{y}<extra></extra>",
         "legendgroup": "Actual - Period 2",
         "line": {
          "color": "#636efa",
          "dash": "solid"
         },
         "marker": {
          "symbol": "circle"
         },
         "mode": "lines",
         "name": "Actual - Period 2",
         "orientation": "v",
         "showlegend": true,
         "type": "scatter",
         "x": [
          "2020-01-15",
          "2020-02-15",
          "2020-03-15",
          "2020-04-15",
          "2020-05-15",
          "2020-06-15",
          "2020-07-15",
          "2020-08-15",
          "2020-09-15",
          "2020-10-15",
          "2020-11-15",
          "2020-12-15",
          "2021-01-15",
          "2021-02-15",
          "2021-03-15",
          "2021-04-15",
          "2021-05-15",
          "2021-06-15",
          "2021-07-15",
          "2021-08-15",
          "2021-09-15",
          "2021-10-15",
          "2021-11-15",
          "2021-12-15",
          "2022-01-15",
          "2022-02-15",
          "2022-03-15",
          "2022-04-15",
          "2022-05-15",
          "2022-06-15",
          "2022-07-15",
          "2022-08-15"
         ],
         "xaxis": "x",
         "y": [
          -0.4911748242490033,
          0.09882128165657324,
          -0.4768153102637584,
          -0.20858157315775702,
          0.021273490590026364,
          -0.1851815704172067,
          1.632966220400468,
          0.7669237181073748,
          1.0540446910324288,
          0.14305024746154416,
          -0.5147880802423166,
          0.9055766668846683,
          0.5911459535480934,
          1.4424581115569448,
          0.6544102869305708,
          0.1755471243534415,
          0.7854819170146018,
          1.1204726911992569,
          1.2346058664915398,
          2.9239161351440606,
          0.34826652127649893,
          -0.12116870639840648,
          2.816749705251242,
          -0.43144669088158805,
          1.77935923373081,
          1.3036568896471268,
          2.985211607810749,
          3.408655927283391,
          0.12227180188648869,
          2.03416245695464,
          null,
          null
         ],
         "yaxis": "y"
        },
        {
         "hovertemplate": "variable=Prediction - Period 2<br>Date=%{x}<br>value=%{y}<extra></extra>",
         "legendgroup": "Prediction - Period 2",
         "line": {
          "color": "#EF553B",
          "dash": "solid"
         },
         "marker": {
          "symbol": "circle"
         },
         "mode": "lines",
         "name": "Prediction - Period 2",
         "orientation": "v",
         "showlegend": true,
         "type": "scatter",
         "x": [
          "2020-01-15",
          "2020-02-15",
          "2020-03-15",
          "2020-04-15",
          "2020-05-15",
          "2020-06-15",
          "2020-07-15",
          "2020-08-15",
          "2020-09-15",
          "2020-10-15",
          "2020-11-15",
          "2020-12-15",
          "2021-01-15",
          "2021-02-15",
          "2021-03-15",
          "2021-04-15",
          "2021-05-15",
          "2021-06-15",
          "2021-07-15",
          "2021-08-15",
          "2021-09-15",
          "2021-10-15",
          "2021-11-15",
          "2021-12-15",
          "2022-01-15",
          "2022-02-15",
          "2022-03-15",
          "2022-04-15",
          "2022-05-15",
          "2022-06-15",
          "2022-07-15",
          "2022-08-15"
         ],
         "xaxis": "x",
         "y": [
          0.5349095463752747,
          -0.5267528295516968,
          -1.5426021814346313,
          0.05004701018333435,
          -0.13656552135944366,
          0.16964635252952576,
          0.12136188894510269,
          0.8027554750442505,
          1.3500821590423584,
          -0.34137919545173645,
          -0.5962047576904297,
          -0.5023801326751709,
          0.22305646538734436,
          1.898231863975525,
          -0.7566784024238586,
          -0.515214741230011,
          -1.907533884048462,
          -0.3164801299571991,
          1.2456912994384766,
          0.7564023733139038,
          0.7449349164962769,
          -1.6236457824707031,
          -0.9579167366027832,
          -0.49315378069877625,
          1.777114748954773,
          1.8269603252410889,
          -1.822750449180603,
          -0.9542269706726074,
          -1.4763190746307373,
          -0.20616279542446136,
          0.6597177386283875,
          null
         ],
         "yaxis": "y"
        }
       ],
       "layout": {
        "legend": {
         "title": {
          "text": "variable"
         },
         "tracegroupgap": 0
        },
        "template": {
         "data": {
          "bar": [
           {
            "error_x": {
             "color": "#2a3f5f"
            },
            "error_y": {
             "color": "#2a3f5f"
            },
            "marker": {
             "line": {
              "color": "#E5ECF6",
              "width": 0.5
             },
             "pattern": {
              "fillmode": "overlay",
              "size": 10,
              "solidity": 0.2
             }
            },
            "type": "bar"
           }
          ],
          "barpolar": [
           {
            "marker": {
             "line": {
              "color": "#E5ECF6",
              "width": 0.5
             },
             "pattern": {
              "fillmode": "overlay",
              "size": 10,
              "solidity": 0.2
             }
            },
            "type": "barpolar"
           }
          ],
          "carpet": [
           {
            "aaxis": {
             "endlinecolor": "#2a3f5f",
             "gridcolor": "white",
             "linecolor": "white",
             "minorgridcolor": "white",
             "startlinecolor": "#2a3f5f"
            },
            "baxis": {
             "endlinecolor": "#2a3f5f",
             "gridcolor": "white",
             "linecolor": "white",
             "minorgridcolor": "white",
             "startlinecolor": "#2a3f5f"
            },
            "type": "carpet"
           }
          ],
          "choropleth": [
           {
            "colorbar": {
             "outlinewidth": 0,
             "ticks": ""
            },
            "type": "choropleth"
           }
          ],
          "contour": [
           {
            "colorbar": {
             "outlinewidth": 0,
             "ticks": ""
            },
            "colorscale": [
             [
              0,
              "#0d0887"
             ],
             [
              0.1111111111111111,
              "#46039f"
             ],
             [
              0.2222222222222222,
              "#7201a8"
             ],
             [
              0.3333333333333333,
              "#9c179e"
             ],
             [
              0.4444444444444444,
              "#bd3786"
             ],
             [
              0.5555555555555556,
              "#d8576b"
             ],
             [
              0.6666666666666666,
              "#ed7953"
             ],
             [
              0.7777777777777778,
              "#fb9f3a"
             ],
             [
              0.8888888888888888,
              "#fdca26"
             ],
             [
              1,
              "#f0f921"
             ]
            ],
            "type": "contour"
           }
          ],
          "contourcarpet": [
           {
            "colorbar": {
             "outlinewidth": 0,
             "ticks": ""
            },
            "type": "contourcarpet"
           }
          ],
          "heatmap": [
           {
            "colorbar": {
             "outlinewidth": 0,
             "ticks": ""
            },
            "colorscale": [
             [
              0,
              "#0d0887"
             ],
             [
              0.1111111111111111,
              "#46039f"
             ],
             [
              0.2222222222222222,
              "#7201a8"
             ],
             [
              0.3333333333333333,
              "#9c179e"
             ],
             [
              0.4444444444444444,
              "#bd3786"
             ],
             [
              0.5555555555555556,
              "#d8576b"
             ],
             [
              0.6666666666666666,
              "#ed7953"
             ],
             [
              0.7777777777777778,
              "#fb9f3a"
             ],
             [
              0.8888888888888888,
              "#fdca26"
             ],
             [
              1,
              "#f0f921"
             ]
            ],
            "type": "heatmap"
           }
          ],
          "heatmapgl": [
           {
            "colorbar": {
             "outlinewidth": 0,
             "ticks": ""
            },
            "colorscale": [
             [
              0,
              "#0d0887"
             ],
             [
              0.1111111111111111,
              "#46039f"
             ],
             [
              0.2222222222222222,
              "#7201a8"
             ],
             [
              0.3333333333333333,
              "#9c179e"
             ],
             [
              0.4444444444444444,
              "#bd3786"
             ],
             [
              0.5555555555555556,
              "#d8576b"
             ],
             [
              0.6666666666666666,
              "#ed7953"
             ],
             [
              0.7777777777777778,
              "#fb9f3a"
             ],
             [
              0.8888888888888888,
              "#fdca26"
             ],
             [
              1,
              "#f0f921"
             ]
            ],
            "type": "heatmapgl"
           }
          ],
          "histogram": [
           {
            "marker": {
             "pattern": {
              "fillmode": "overlay",
              "size": 10,
              "solidity": 0.2
             }
            },
            "type": "histogram"
           }
          ],
          "histogram2d": [
           {
            "colorbar": {
             "outlinewidth": 0,
             "ticks": ""
            },
            "colorscale": [
             [
              0,
              "#0d0887"
             ],
             [
              0.1111111111111111,
              "#46039f"
             ],
             [
              0.2222222222222222,
              "#7201a8"
             ],
             [
              0.3333333333333333,
              "#9c179e"
             ],
             [
              0.4444444444444444,
              "#bd3786"
             ],
             [
              0.5555555555555556,
              "#d8576b"
             ],
             [
              0.6666666666666666,
              "#ed7953"
             ],
             [
              0.7777777777777778,
              "#fb9f3a"
             ],
             [
              0.8888888888888888,
              "#fdca26"
             ],
             [
              1,
              "#f0f921"
             ]
            ],
            "type": "histogram2d"
           }
          ],
          "histogram2dcontour": [
           {
            "colorbar": {
             "outlinewidth": 0,
             "ticks": ""
            },
            "colorscale": [
             [
              0,
              "#0d0887"
             ],
             [
              0.1111111111111111,
              "#46039f"
             ],
             [
              0.2222222222222222,
              "#7201a8"
             ],
             [
              0.3333333333333333,
              "#9c179e"
             ],
             [
              0.4444444444444444,
              "#bd3786"
             ],
             [
              0.5555555555555556,
              "#d8576b"
             ],
             [
              0.6666666666666666,
              "#ed7953"
             ],
             [
              0.7777777777777778,
              "#fb9f3a"
             ],
             [
              0.8888888888888888,
              "#fdca26"
             ],
             [
              1,
              "#f0f921"
             ]
            ],
            "type": "histogram2dcontour"
           }
          ],
          "mesh3d": [
           {
            "colorbar": {
             "outlinewidth": 0,
             "ticks": ""
            },
            "type": "mesh3d"
           }
          ],
          "parcoords": [
           {
            "line": {
             "colorbar": {
              "outlinewidth": 0,
              "ticks": ""
             }
            },
            "type": "parcoords"
           }
          ],
          "pie": [
           {
            "automargin": true,
            "type": "pie"
           }
          ],
          "scatter": [
           {
            "fillpattern": {
             "fillmode": "overlay",
             "size": 10,
             "solidity": 0.2
            },
            "type": "scatter"
           }
          ],
          "scatter3d": [
           {
            "line": {
             "colorbar": {
              "outlinewidth": 0,
              "ticks": ""
             }
            },
            "marker": {
             "colorbar": {
              "outlinewidth": 0,
              "ticks": ""
             }
            },
            "type": "scatter3d"
           }
          ],
          "scattercarpet": [
           {
            "marker": {
             "colorbar": {
              "outlinewidth": 0,
              "ticks": ""
             }
            },
            "type": "scattercarpet"
           }
          ],
          "scattergeo": [
           {
            "marker": {
             "colorbar": {
              "outlinewidth": 0,
              "ticks": ""
             }
            },
            "type": "scattergeo"
           }
          ],
          "scattergl": [
           {
            "marker": {
             "colorbar": {
              "outlinewidth": 0,
              "ticks": ""
             }
            },
            "type": "scattergl"
           }
          ],
          "scattermapbox": [
           {
            "marker": {
             "colorbar": {
              "outlinewidth": 0,
              "ticks": ""
             }
            },
            "type": "scattermapbox"
           }
          ],
          "scatterpolar": [
           {
            "marker": {
             "colorbar": {
              "outlinewidth": 0,
              "ticks": ""
             }
            },
            "type": "scatterpolar"
           }
          ],
          "scatterpolargl": [
           {
            "marker": {
             "colorbar": {
              "outlinewidth": 0,
              "ticks": ""
             }
            },
            "type": "scatterpolargl"
           }
          ],
          "scatterternary": [
           {
            "marker": {
             "colorbar": {
              "outlinewidth": 0,
              "ticks": ""
             }
            },
            "type": "scatterternary"
           }
          ],
          "surface": [
           {
            "colorbar": {
             "outlinewidth": 0,
             "ticks": ""
            },
            "colorscale": [
             [
              0,
              "#0d0887"
             ],
             [
              0.1111111111111111,
              "#46039f"
             ],
             [
              0.2222222222222222,
              "#7201a8"
             ],
             [
              0.3333333333333333,
              "#9c179e"
             ],
             [
              0.4444444444444444,
              "#bd3786"
             ],
             [
              0.5555555555555556,
              "#d8576b"
             ],
             [
              0.6666666666666666,
              "#ed7953"
             ],
             [
              0.7777777777777778,
              "#fb9f3a"
             ],
             [
              0.8888888888888888,
              "#fdca26"
             ],
             [
              1,
              "#f0f921"
             ]
            ],
            "type": "surface"
           }
          ],
          "table": [
           {
            "cells": {
             "fill": {
              "color": "#EBF0F8"
             },
             "line": {
              "color": "white"
             }
            },
            "header": {
             "fill": {
              "color": "#C8D4E3"
             },
             "line": {
              "color": "white"
             }
            },
            "type": "table"
           }
          ]
         },
         "layout": {
          "annotationdefaults": {
           "arrowcolor": "#2a3f5f",
           "arrowhead": 0,
           "arrowwidth": 1
          },
          "autotypenumbers": "strict",
          "coloraxis": {
           "colorbar": {
            "outlinewidth": 0,
            "ticks": ""
           }
          },
          "colorscale": {
           "diverging": [
            [
             0,
             "#8e0152"
            ],
            [
             0.1,
             "#c51b7d"
            ],
            [
             0.2,
             "#de77ae"
            ],
            [
             0.3,
             "#f1b6da"
            ],
            [
             0.4,
             "#fde0ef"
            ],
            [
             0.5,
             "#f7f7f7"
            ],
            [
             0.6,
             "#e6f5d0"
            ],
            [
             0.7,
             "#b8e186"
            ],
            [
             0.8,
             "#7fbc41"
            ],
            [
             0.9,
             "#4d9221"
            ],
            [
             1,
             "#276419"
            ]
           ],
           "sequential": [
            [
             0,
             "#0d0887"
            ],
            [
             0.1111111111111111,
             "#46039f"
            ],
            [
             0.2222222222222222,
             "#7201a8"
            ],
            [
             0.3333333333333333,
             "#9c179e"
            ],
            [
             0.4444444444444444,
             "#bd3786"
            ],
            [
             0.5555555555555556,
             "#d8576b"
            ],
            [
             0.6666666666666666,
             "#ed7953"
            ],
            [
             0.7777777777777778,
             "#fb9f3a"
            ],
            [
             0.8888888888888888,
             "#fdca26"
            ],
            [
             1,
             "#f0f921"
            ]
           ],
           "sequentialminus": [
            [
             0,
             "#0d0887"
            ],
            [
             0.1111111111111111,
             "#46039f"
            ],
            [
             0.2222222222222222,
             "#7201a8"
            ],
            [
             0.3333333333333333,
             "#9c179e"
            ],
            [
             0.4444444444444444,
             "#bd3786"
            ],
            [
             0.5555555555555556,
             "#d8576b"
            ],
            [
             0.6666666666666666,
             "#ed7953"
            ],
            [
             0.7777777777777778,
             "#fb9f3a"
            ],
            [
             0.8888888888888888,
             "#fdca26"
            ],
            [
             1,
             "#f0f921"
            ]
           ]
          },
          "colorway": [
           "#636efa",
           "#EF553B",
           "#00cc96",
           "#ab63fa",
           "#FFA15A",
           "#19d3f3",
           "#FF6692",
           "#B6E880",
           "#FF97FF",
           "#FECB52"
          ],
          "font": {
           "color": "#2a3f5f"
          },
          "geo": {
           "bgcolor": "white",
           "lakecolor": "white",
           "landcolor": "#E5ECF6",
           "showlakes": true,
           "showland": true,
           "subunitcolor": "white"
          },
          "hoverlabel": {
           "align": "left"
          },
          "hovermode": "closest",
          "mapbox": {
           "style": "light"
          },
          "paper_bgcolor": "white",
          "plot_bgcolor": "#E5ECF6",
          "polar": {
           "angularaxis": {
            "gridcolor": "white",
            "linecolor": "white",
            "ticks": ""
           },
           "bgcolor": "#E5ECF6",
           "radialaxis": {
            "gridcolor": "white",
            "linecolor": "white",
            "ticks": ""
           }
          },
          "scene": {
           "xaxis": {
            "backgroundcolor": "#E5ECF6",
            "gridcolor": "white",
            "gridwidth": 2,
            "linecolor": "white",
            "showbackground": true,
            "ticks": "",
            "zerolinecolor": "white"
           },
           "yaxis": {
            "backgroundcolor": "#E5ECF6",
            "gridcolor": "white",
            "gridwidth": 2,
            "linecolor": "white",
            "showbackground": true,
            "ticks": "",
            "zerolinecolor": "white"
           },
           "zaxis": {
            "backgroundcolor": "#E5ECF6",
            "gridcolor": "white",
            "gridwidth": 2,
            "linecolor": "white",
            "showbackground": true,
            "ticks": "",
            "zerolinecolor": "white"
           }
          },
          "shapedefaults": {
           "line": {
            "color": "#2a3f5f"
           }
          },
          "ternary": {
           "aaxis": {
            "gridcolor": "white",
            "linecolor": "white",
            "ticks": ""
           },
           "baxis": {
            "gridcolor": "white",
            "linecolor": "white",
            "ticks": ""
           },
           "bgcolor": "#E5ECF6",
           "caxis": {
            "gridcolor": "white",
            "linecolor": "white",
            "ticks": ""
           }
          },
          "title": {
           "x": 0.05
          },
          "xaxis": {
           "automargin": true,
           "gridcolor": "white",
           "linecolor": "white",
           "ticks": "",
           "title": {
            "standoff": 15
           },
           "zerolinecolor": "white",
           "zerolinewidth": 2
          },
          "yaxis": {
           "automargin": true,
           "gridcolor": "white",
           "linecolor": "white",
           "ticks": "",
           "title": {
            "standoff": 15
           },
           "zerolinecolor": "white",
           "zerolinewidth": 2
          }
         }
        },
        "title": {
         "text": "Energy services - Actual VS Prediction: Period 2"
        },
        "xaxis": {
         "anchor": "y",
         "domain": [
          0,
          1
         ],
         "title": {
          "text": "Date"
         }
        },
        "yaxis": {
         "anchor": "x",
         "domain": [
          0,
          1
         ],
         "title": {
          "text": "value"
         }
        }
       }
      }
     },
     "metadata": {},
     "output_type": "display_data"
    },
    {
     "data": {
      "application/vnd.plotly.v1+json": {
       "config": {
        "plotlyServerURL": "https://plot.ly"
       },
       "data": [
        {
         "hovertemplate": "variable=Actual - Period 2<br>Date=%{x}<br>value=%{y}<extra></extra>",
         "legendgroup": "Actual - Period 2",
         "line": {
          "color": "#636efa",
          "dash": "solid"
         },
         "marker": {
          "symbol": "circle"
         },
         "mode": "lines",
         "name": "Actual - Period 2",
         "orientation": "v",
         "showlegend": true,
         "type": "scatter",
         "x": [
          "2020-01-15",
          "2020-02-15",
          "2020-03-15",
          "2020-04-15",
          "2020-05-15",
          "2020-06-15",
          "2020-07-15",
          "2020-08-15",
          "2020-09-15",
          "2020-10-15",
          "2020-11-15",
          "2020-12-15",
          "2021-01-15",
          "2021-02-15",
          "2021-03-15",
          "2021-04-15",
          "2021-05-15",
          "2021-06-15",
          "2021-07-15",
          "2021-08-15",
          "2021-09-15",
          "2021-10-15",
          "2021-11-15",
          "2021-12-15",
          "2022-01-15",
          "2022-02-15",
          "2022-03-15",
          "2022-04-15",
          "2022-05-15",
          "2022-06-15",
          "2022-07-15",
          "2022-08-15"
         ],
         "xaxis": "x",
         "y": [
          -0.18773940204196599,
          -0.5006970746348647,
          0.10301156589216658,
          -0.434481384235412,
          0.2790881217618064,
          0.8387015229325251,
          -0.5225995506600145,
          -0.17017021123492904,
          0.5373283129267798,
          0.3387838535141492,
          0.6845556931400898,
          0.19051065887845975,
          0.11260277558501419,
          0.3990998302256885,
          0.26626977432652804,
          -0.08958311875981445,
          0.5660090993736079,
          0.10850232779000261,
          0.37211499328403447,
          0.2083390019831319,
          0.23413129006651998,
          0.9745472031496227,
          0.801249965063134,
          1.291735663567519,
          2.05363534580119,
          0.9150370795918559,
          0.22896490235172082,
          0.6637951737108547,
          0.9066344380396982,
          1.1081536270516665,
          null,
          null
         ],
         "yaxis": "y"
        },
        {
         "hovertemplate": "variable=Prediction - Period 2<br>Date=%{x}<br>value=%{y}<extra></extra>",
         "legendgroup": "Prediction - Period 2",
         "line": {
          "color": "#EF553B",
          "dash": "solid"
         },
         "marker": {
          "symbol": "circle"
         },
         "mode": "lines",
         "name": "Prediction - Period 2",
         "orientation": "v",
         "showlegend": true,
         "type": "scatter",
         "x": [
          "2020-01-15",
          "2020-02-15",
          "2020-03-15",
          "2020-04-15",
          "2020-05-15",
          "2020-06-15",
          "2020-07-15",
          "2020-08-15",
          "2020-09-15",
          "2020-10-15",
          "2020-11-15",
          "2020-12-15",
          "2021-01-15",
          "2021-02-15",
          "2021-03-15",
          "2021-04-15",
          "2021-05-15",
          "2021-06-15",
          "2021-07-15",
          "2021-08-15",
          "2021-09-15",
          "2021-10-15",
          "2021-11-15",
          "2021-12-15",
          "2022-01-15",
          "2022-02-15",
          "2022-03-15",
          "2022-04-15",
          "2022-05-15",
          "2022-06-15",
          "2022-07-15",
          "2022-08-15"
         ],
         "xaxis": "x",
         "y": [
          0.24311824142932892,
          0.402056485414505,
          0.10571911931037903,
          0.17180553078651428,
          0.07939554750919342,
          0.1627899706363678,
          0.04612024873495102,
          0.10810697823762894,
          0.12535487115383148,
          0.09958422929048538,
          0.1570717692375183,
          0.27426016330718994,
          0.17225435376167297,
          0.32975777983665466,
          0.0958300530910492,
          0.06656573712825775,
          -0.03855174034833908,
          0.09746120125055313,
          0.09530894458293915,
          0.10138091444969177,
          0.1615009307861328,
          -0.186406672000885,
          0.4539034366607666,
          0.13225886225700378,
          0.2804737687110901,
          0.1005178689956665,
          0.14773458242416382,
          0.29931461811065674,
          0.41283243894577026,
          0.8399372100830078,
          -0.3322630822658539,
          null
         ],
         "yaxis": "y"
        }
       ],
       "layout": {
        "legend": {
         "title": {
          "text": "variable"
         },
         "tracegroupgap": 0
        },
        "template": {
         "data": {
          "bar": [
           {
            "error_x": {
             "color": "#2a3f5f"
            },
            "error_y": {
             "color": "#2a3f5f"
            },
            "marker": {
             "line": {
              "color": "#E5ECF6",
              "width": 0.5
             },
             "pattern": {
              "fillmode": "overlay",
              "size": 10,
              "solidity": 0.2
             }
            },
            "type": "bar"
           }
          ],
          "barpolar": [
           {
            "marker": {
             "line": {
              "color": "#E5ECF6",
              "width": 0.5
             },
             "pattern": {
              "fillmode": "overlay",
              "size": 10,
              "solidity": 0.2
             }
            },
            "type": "barpolar"
           }
          ],
          "carpet": [
           {
            "aaxis": {
             "endlinecolor": "#2a3f5f",
             "gridcolor": "white",
             "linecolor": "white",
             "minorgridcolor": "white",
             "startlinecolor": "#2a3f5f"
            },
            "baxis": {
             "endlinecolor": "#2a3f5f",
             "gridcolor": "white",
             "linecolor": "white",
             "minorgridcolor": "white",
             "startlinecolor": "#2a3f5f"
            },
            "type": "carpet"
           }
          ],
          "choropleth": [
           {
            "colorbar": {
             "outlinewidth": 0,
             "ticks": ""
            },
            "type": "choropleth"
           }
          ],
          "contour": [
           {
            "colorbar": {
             "outlinewidth": 0,
             "ticks": ""
            },
            "colorscale": [
             [
              0,
              "#0d0887"
             ],
             [
              0.1111111111111111,
              "#46039f"
             ],
             [
              0.2222222222222222,
              "#7201a8"
             ],
             [
              0.3333333333333333,
              "#9c179e"
             ],
             [
              0.4444444444444444,
              "#bd3786"
             ],
             [
              0.5555555555555556,
              "#d8576b"
             ],
             [
              0.6666666666666666,
              "#ed7953"
             ],
             [
              0.7777777777777778,
              "#fb9f3a"
             ],
             [
              0.8888888888888888,
              "#fdca26"
             ],
             [
              1,
              "#f0f921"
             ]
            ],
            "type": "contour"
           }
          ],
          "contourcarpet": [
           {
            "colorbar": {
             "outlinewidth": 0,
             "ticks": ""
            },
            "type": "contourcarpet"
           }
          ],
          "heatmap": [
           {
            "colorbar": {
             "outlinewidth": 0,
             "ticks": ""
            },
            "colorscale": [
             [
              0,
              "#0d0887"
             ],
             [
              0.1111111111111111,
              "#46039f"
             ],
             [
              0.2222222222222222,
              "#7201a8"
             ],
             [
              0.3333333333333333,
              "#9c179e"
             ],
             [
              0.4444444444444444,
              "#bd3786"
             ],
             [
              0.5555555555555556,
              "#d8576b"
             ],
             [
              0.6666666666666666,
              "#ed7953"
             ],
             [
              0.7777777777777778,
              "#fb9f3a"
             ],
             [
              0.8888888888888888,
              "#fdca26"
             ],
             [
              1,
              "#f0f921"
             ]
            ],
            "type": "heatmap"
           }
          ],
          "heatmapgl": [
           {
            "colorbar": {
             "outlinewidth": 0,
             "ticks": ""
            },
            "colorscale": [
             [
              0,
              "#0d0887"
             ],
             [
              0.1111111111111111,
              "#46039f"
             ],
             [
              0.2222222222222222,
              "#7201a8"
             ],
             [
              0.3333333333333333,
              "#9c179e"
             ],
             [
              0.4444444444444444,
              "#bd3786"
             ],
             [
              0.5555555555555556,
              "#d8576b"
             ],
             [
              0.6666666666666666,
              "#ed7953"
             ],
             [
              0.7777777777777778,
              "#fb9f3a"
             ],
             [
              0.8888888888888888,
              "#fdca26"
             ],
             [
              1,
              "#f0f921"
             ]
            ],
            "type": "heatmapgl"
           }
          ],
          "histogram": [
           {
            "marker": {
             "pattern": {
              "fillmode": "overlay",
              "size": 10,
              "solidity": 0.2
             }
            },
            "type": "histogram"
           }
          ],
          "histogram2d": [
           {
            "colorbar": {
             "outlinewidth": 0,
             "ticks": ""
            },
            "colorscale": [
             [
              0,
              "#0d0887"
             ],
             [
              0.1111111111111111,
              "#46039f"
             ],
             [
              0.2222222222222222,
              "#7201a8"
             ],
             [
              0.3333333333333333,
              "#9c179e"
             ],
             [
              0.4444444444444444,
              "#bd3786"
             ],
             [
              0.5555555555555556,
              "#d8576b"
             ],
             [
              0.6666666666666666,
              "#ed7953"
             ],
             [
              0.7777777777777778,
              "#fb9f3a"
             ],
             [
              0.8888888888888888,
              "#fdca26"
             ],
             [
              1,
              "#f0f921"
             ]
            ],
            "type": "histogram2d"
           }
          ],
          "histogram2dcontour": [
           {
            "colorbar": {
             "outlinewidth": 0,
             "ticks": ""
            },
            "colorscale": [
             [
              0,
              "#0d0887"
             ],
             [
              0.1111111111111111,
              "#46039f"
             ],
             [
              0.2222222222222222,
              "#7201a8"
             ],
             [
              0.3333333333333333,
              "#9c179e"
             ],
             [
              0.4444444444444444,
              "#bd3786"
             ],
             [
              0.5555555555555556,
              "#d8576b"
             ],
             [
              0.6666666666666666,
              "#ed7953"
             ],
             [
              0.7777777777777778,
              "#fb9f3a"
             ],
             [
              0.8888888888888888,
              "#fdca26"
             ],
             [
              1,
              "#f0f921"
             ]
            ],
            "type": "histogram2dcontour"
           }
          ],
          "mesh3d": [
           {
            "colorbar": {
             "outlinewidth": 0,
             "ticks": ""
            },
            "type": "mesh3d"
           }
          ],
          "parcoords": [
           {
            "line": {
             "colorbar": {
              "outlinewidth": 0,
              "ticks": ""
             }
            },
            "type": "parcoords"
           }
          ],
          "pie": [
           {
            "automargin": true,
            "type": "pie"
           }
          ],
          "scatter": [
           {
            "fillpattern": {
             "fillmode": "overlay",
             "size": 10,
             "solidity": 0.2
            },
            "type": "scatter"
           }
          ],
          "scatter3d": [
           {
            "line": {
             "colorbar": {
              "outlinewidth": 0,
              "ticks": ""
             }
            },
            "marker": {
             "colorbar": {
              "outlinewidth": 0,
              "ticks": ""
             }
            },
            "type": "scatter3d"
           }
          ],
          "scattercarpet": [
           {
            "marker": {
             "colorbar": {
              "outlinewidth": 0,
              "ticks": ""
             }
            },
            "type": "scattercarpet"
           }
          ],
          "scattergeo": [
           {
            "marker": {
             "colorbar": {
              "outlinewidth": 0,
              "ticks": ""
             }
            },
            "type": "scattergeo"
           }
          ],
          "scattergl": [
           {
            "marker": {
             "colorbar": {
              "outlinewidth": 0,
              "ticks": ""
             }
            },
            "type": "scattergl"
           }
          ],
          "scattermapbox": [
           {
            "marker": {
             "colorbar": {
              "outlinewidth": 0,
              "ticks": ""
             }
            },
            "type": "scattermapbox"
           }
          ],
          "scatterpolar": [
           {
            "marker": {
             "colorbar": {
              "outlinewidth": 0,
              "ticks": ""
             }
            },
            "type": "scatterpolar"
           }
          ],
          "scatterpolargl": [
           {
            "marker": {
             "colorbar": {
              "outlinewidth": 0,
              "ticks": ""
             }
            },
            "type": "scatterpolargl"
           }
          ],
          "scatterternary": [
           {
            "marker": {
             "colorbar": {
              "outlinewidth": 0,
              "ticks": ""
             }
            },
            "type": "scatterternary"
           }
          ],
          "surface": [
           {
            "colorbar": {
             "outlinewidth": 0,
             "ticks": ""
            },
            "colorscale": [
             [
              0,
              "#0d0887"
             ],
             [
              0.1111111111111111,
              "#46039f"
             ],
             [
              0.2222222222222222,
              "#7201a8"
             ],
             [
              0.3333333333333333,
              "#9c179e"
             ],
             [
              0.4444444444444444,
              "#bd3786"
             ],
             [
              0.5555555555555556,
              "#d8576b"
             ],
             [
              0.6666666666666666,
              "#ed7953"
             ],
             [
              0.7777777777777778,
              "#fb9f3a"
             ],
             [
              0.8888888888888888,
              "#fdca26"
             ],
             [
              1,
              "#f0f921"
             ]
            ],
            "type": "surface"
           }
          ],
          "table": [
           {
            "cells": {
             "fill": {
              "color": "#EBF0F8"
             },
             "line": {
              "color": "white"
             }
            },
            "header": {
             "fill": {
              "color": "#C8D4E3"
             },
             "line": {
              "color": "white"
             }
            },
            "type": "table"
           }
          ]
         },
         "layout": {
          "annotationdefaults": {
           "arrowcolor": "#2a3f5f",
           "arrowhead": 0,
           "arrowwidth": 1
          },
          "autotypenumbers": "strict",
          "coloraxis": {
           "colorbar": {
            "outlinewidth": 0,
            "ticks": ""
           }
          },
          "colorscale": {
           "diverging": [
            [
             0,
             "#8e0152"
            ],
            [
             0.1,
             "#c51b7d"
            ],
            [
             0.2,
             "#de77ae"
            ],
            [
             0.3,
             "#f1b6da"
            ],
            [
             0.4,
             "#fde0ef"
            ],
            [
             0.5,
             "#f7f7f7"
            ],
            [
             0.6,
             "#e6f5d0"
            ],
            [
             0.7,
             "#b8e186"
            ],
            [
             0.8,
             "#7fbc41"
            ],
            [
             0.9,
             "#4d9221"
            ],
            [
             1,
             "#276419"
            ]
           ],
           "sequential": [
            [
             0,
             "#0d0887"
            ],
            [
             0.1111111111111111,
             "#46039f"
            ],
            [
             0.2222222222222222,
             "#7201a8"
            ],
            [
             0.3333333333333333,
             "#9c179e"
            ],
            [
             0.4444444444444444,
             "#bd3786"
            ],
            [
             0.5555555555555556,
             "#d8576b"
            ],
            [
             0.6666666666666666,
             "#ed7953"
            ],
            [
             0.7777777777777778,
             "#fb9f3a"
            ],
            [
             0.8888888888888888,
             "#fdca26"
            ],
            [
             1,
             "#f0f921"
            ]
           ],
           "sequentialminus": [
            [
             0,
             "#0d0887"
            ],
            [
             0.1111111111111111,
             "#46039f"
            ],
            [
             0.2222222222222222,
             "#7201a8"
            ],
            [
             0.3333333333333333,
             "#9c179e"
            ],
            [
             0.4444444444444444,
             "#bd3786"
            ],
            [
             0.5555555555555556,
             "#d8576b"
            ],
            [
             0.6666666666666666,
             "#ed7953"
            ],
            [
             0.7777777777777778,
             "#fb9f3a"
            ],
            [
             0.8888888888888888,
             "#fdca26"
            ],
            [
             1,
             "#f0f921"
            ]
           ]
          },
          "colorway": [
           "#636efa",
           "#EF553B",
           "#00cc96",
           "#ab63fa",
           "#FFA15A",
           "#19d3f3",
           "#FF6692",
           "#B6E880",
           "#FF97FF",
           "#FECB52"
          ],
          "font": {
           "color": "#2a3f5f"
          },
          "geo": {
           "bgcolor": "white",
           "lakecolor": "white",
           "landcolor": "#E5ECF6",
           "showlakes": true,
           "showland": true,
           "subunitcolor": "white"
          },
          "hoverlabel": {
           "align": "left"
          },
          "hovermode": "closest",
          "mapbox": {
           "style": "light"
          },
          "paper_bgcolor": "white",
          "plot_bgcolor": "#E5ECF6",
          "polar": {
           "angularaxis": {
            "gridcolor": "white",
            "linecolor": "white",
            "ticks": ""
           },
           "bgcolor": "#E5ECF6",
           "radialaxis": {
            "gridcolor": "white",
            "linecolor": "white",
            "ticks": ""
           }
          },
          "scene": {
           "xaxis": {
            "backgroundcolor": "#E5ECF6",
            "gridcolor": "white",
            "gridwidth": 2,
            "linecolor": "white",
            "showbackground": true,
            "ticks": "",
            "zerolinecolor": "white"
           },
           "yaxis": {
            "backgroundcolor": "#E5ECF6",
            "gridcolor": "white",
            "gridwidth": 2,
            "linecolor": "white",
            "showbackground": true,
            "ticks": "",
            "zerolinecolor": "white"
           },
           "zaxis": {
            "backgroundcolor": "#E5ECF6",
            "gridcolor": "white",
            "gridwidth": 2,
            "linecolor": "white",
            "showbackground": true,
            "ticks": "",
            "zerolinecolor": "white"
           }
          },
          "shapedefaults": {
           "line": {
            "color": "#2a3f5f"
           }
          },
          "ternary": {
           "aaxis": {
            "gridcolor": "white",
            "linecolor": "white",
            "ticks": ""
           },
           "baxis": {
            "gridcolor": "white",
            "linecolor": "white",
            "ticks": ""
           },
           "bgcolor": "#E5ECF6",
           "caxis": {
            "gridcolor": "white",
            "linecolor": "white",
            "ticks": ""
           }
          },
          "title": {
           "x": 0.05
          },
          "xaxis": {
           "automargin": true,
           "gridcolor": "white",
           "linecolor": "white",
           "ticks": "",
           "title": {
            "standoff": 15
           },
           "zerolinecolor": "white",
           "zerolinewidth": 2
          },
          "yaxis": {
           "automargin": true,
           "gridcolor": "white",
           "linecolor": "white",
           "ticks": "",
           "title": {
            "standoff": 15
           },
           "zerolinecolor": "white",
           "zerolinewidth": 2
          }
         }
        },
        "title": {
         "text": "Pets, pet products and services - Actual VS Prediction: Period 2"
        },
        "xaxis": {
         "anchor": "y",
         "domain": [
          0,
          1
         ],
         "title": {
          "text": "Date"
         }
        },
        "yaxis": {
         "anchor": "x",
         "domain": [
          0,
          1
         ],
         "title": {
          "text": "value"
         }
        }
       }
      }
     },
     "metadata": {},
     "output_type": "display_data"
    },
    {
     "data": {
      "application/vnd.plotly.v1+json": {
       "config": {
        "plotlyServerURL": "https://plot.ly"
       },
       "data": [
        {
         "hovertemplate": "variable=Actual - Period 2<br>Date=%{x}<br>value=%{y}<extra></extra>",
         "legendgroup": "Actual - Period 2",
         "line": {
          "color": "#636efa",
          "dash": "solid"
         },
         "marker": {
          "symbol": "circle"
         },
         "mode": "lines",
         "name": "Actual - Period 2",
         "orientation": "v",
         "showlegend": true,
         "type": "scatter",
         "x": [
          "2020-01-15",
          "2020-02-15",
          "2020-03-15",
          "2020-04-15",
          "2020-05-15",
          "2020-06-15",
          "2020-07-15",
          "2020-08-15",
          "2020-09-15",
          "2020-10-15",
          "2020-11-15",
          "2020-12-15",
          "2021-01-15",
          "2021-02-15",
          "2021-03-15",
          "2021-04-15",
          "2021-05-15",
          "2021-06-15",
          "2021-07-15",
          "2021-08-15",
          "2021-09-15",
          "2021-10-15",
          "2021-11-15",
          "2021-12-15",
          "2022-01-15",
          "2022-02-15",
          "2022-03-15",
          "2022-04-15",
          "2022-05-15",
          "2022-06-15",
          "2022-07-15",
          "2022-08-15"
         ],
         "xaxis": "x",
         "y": [
          0.12165690333551202,
          -1.4193412907244591,
          -0.901777018571175,
          1.6574048625816125,
          0.08813644617713555,
          -0.8782470491499463,
          0.12991146638591095,
          0.3042330388919483,
          -0.08852890650405819,
          -0.39736204236056183,
          0.9944023465798311,
          1.6770324430469699,
          -1.0051902145641551,
          -0.3333924760511615,
          0.7709957374800658,
          0.15452642034998693,
          0.7033814443105401,
          -0.30970564029671255,
          0.1033418251710748,
          0.05808287944590661,
          1.1661079510219532,
          -0.39743699401240196,
          0.7208640719837686,
          0.19431661932707373,
          0.44310039708339904,
          0.5102919731152583,
          1.3320630158290336,
          -0.5222203696553003,
          1.2733976107615017,
          0.9981528405332698,
          null,
          null
         ],
         "yaxis": "y"
        },
        {
         "hovertemplate": "variable=Prediction - Period 2<br>Date=%{x}<br>value=%{y}<extra></extra>",
         "legendgroup": "Prediction - Period 2",
         "line": {
          "color": "#EF553B",
          "dash": "solid"
         },
         "marker": {
          "symbol": "circle"
         },
         "mode": "lines",
         "name": "Prediction - Period 2",
         "orientation": "v",
         "showlegend": true,
         "type": "scatter",
         "x": [
          "2020-01-15",
          "2020-02-15",
          "2020-03-15",
          "2020-04-15",
          "2020-05-15",
          "2020-06-15",
          "2020-07-15",
          "2020-08-15",
          "2020-09-15",
          "2020-10-15",
          "2020-11-15",
          "2020-12-15",
          "2021-01-15",
          "2021-02-15",
          "2021-03-15",
          "2021-04-15",
          "2021-05-15",
          "2021-06-15",
          "2021-07-15",
          "2021-08-15",
          "2021-09-15",
          "2021-10-15",
          "2021-11-15",
          "2021-12-15",
          "2022-01-15",
          "2022-02-15",
          "2022-03-15",
          "2022-04-15",
          "2022-05-15",
          "2022-06-15",
          "2022-07-15",
          "2022-08-15"
         ],
         "xaxis": "x",
         "y": [
          -0.6805179715156555,
          0.2347818911075592,
          0.15656590461730957,
          0.27271175384521484,
          0.20119430124759674,
          0.0007988959550857544,
          0.4363013505935669,
          -0.1250927895307541,
          0.06633490324020386,
          0.06979304552078247,
          -0.19320231676101685,
          -0.4998546242713928,
          0.29921257495880127,
          -0.5936986207962036,
          0.09783771634101868,
          -0.1438165009021759,
          -0.27110105752944946,
          -0.19265177845954895,
          -0.16770082712173462,
          0.22239327430725098,
          -0.027365654706954956,
          0.12933458387851715,
          -0.09461089968681335,
          -0.2311159372329712,
          -0.7443177700042725,
          -0.3983830511569977,
          -0.33458590507507324,
          -0.5633512139320374,
          0.2820076644420624,
          -0.2414623498916626,
          -0.7695754766464233,
          null
         ],
         "yaxis": "y"
        }
       ],
       "layout": {
        "legend": {
         "title": {
          "text": "variable"
         },
         "tracegroupgap": 0
        },
        "template": {
         "data": {
          "bar": [
           {
            "error_x": {
             "color": "#2a3f5f"
            },
            "error_y": {
             "color": "#2a3f5f"
            },
            "marker": {
             "line": {
              "color": "#E5ECF6",
              "width": 0.5
             },
             "pattern": {
              "fillmode": "overlay",
              "size": 10,
              "solidity": 0.2
             }
            },
            "type": "bar"
           }
          ],
          "barpolar": [
           {
            "marker": {
             "line": {
              "color": "#E5ECF6",
              "width": 0.5
             },
             "pattern": {
              "fillmode": "overlay",
              "size": 10,
              "solidity": 0.2
             }
            },
            "type": "barpolar"
           }
          ],
          "carpet": [
           {
            "aaxis": {
             "endlinecolor": "#2a3f5f",
             "gridcolor": "white",
             "linecolor": "white",
             "minorgridcolor": "white",
             "startlinecolor": "#2a3f5f"
            },
            "baxis": {
             "endlinecolor": "#2a3f5f",
             "gridcolor": "white",
             "linecolor": "white",
             "minorgridcolor": "white",
             "startlinecolor": "#2a3f5f"
            },
            "type": "carpet"
           }
          ],
          "choropleth": [
           {
            "colorbar": {
             "outlinewidth": 0,
             "ticks": ""
            },
            "type": "choropleth"
           }
          ],
          "contour": [
           {
            "colorbar": {
             "outlinewidth": 0,
             "ticks": ""
            },
            "colorscale": [
             [
              0,
              "#0d0887"
             ],
             [
              0.1111111111111111,
              "#46039f"
             ],
             [
              0.2222222222222222,
              "#7201a8"
             ],
             [
              0.3333333333333333,
              "#9c179e"
             ],
             [
              0.4444444444444444,
              "#bd3786"
             ],
             [
              0.5555555555555556,
              "#d8576b"
             ],
             [
              0.6666666666666666,
              "#ed7953"
             ],
             [
              0.7777777777777778,
              "#fb9f3a"
             ],
             [
              0.8888888888888888,
              "#fdca26"
             ],
             [
              1,
              "#f0f921"
             ]
            ],
            "type": "contour"
           }
          ],
          "contourcarpet": [
           {
            "colorbar": {
             "outlinewidth": 0,
             "ticks": ""
            },
            "type": "contourcarpet"
           }
          ],
          "heatmap": [
           {
            "colorbar": {
             "outlinewidth": 0,
             "ticks": ""
            },
            "colorscale": [
             [
              0,
              "#0d0887"
             ],
             [
              0.1111111111111111,
              "#46039f"
             ],
             [
              0.2222222222222222,
              "#7201a8"
             ],
             [
              0.3333333333333333,
              "#9c179e"
             ],
             [
              0.4444444444444444,
              "#bd3786"
             ],
             [
              0.5555555555555556,
              "#d8576b"
             ],
             [
              0.6666666666666666,
              "#ed7953"
             ],
             [
              0.7777777777777778,
              "#fb9f3a"
             ],
             [
              0.8888888888888888,
              "#fdca26"
             ],
             [
              1,
              "#f0f921"
             ]
            ],
            "type": "heatmap"
           }
          ],
          "heatmapgl": [
           {
            "colorbar": {
             "outlinewidth": 0,
             "ticks": ""
            },
            "colorscale": [
             [
              0,
              "#0d0887"
             ],
             [
              0.1111111111111111,
              "#46039f"
             ],
             [
              0.2222222222222222,
              "#7201a8"
             ],
             [
              0.3333333333333333,
              "#9c179e"
             ],
             [
              0.4444444444444444,
              "#bd3786"
             ],
             [
              0.5555555555555556,
              "#d8576b"
             ],
             [
              0.6666666666666666,
              "#ed7953"
             ],
             [
              0.7777777777777778,
              "#fb9f3a"
             ],
             [
              0.8888888888888888,
              "#fdca26"
             ],
             [
              1,
              "#f0f921"
             ]
            ],
            "type": "heatmapgl"
           }
          ],
          "histogram": [
           {
            "marker": {
             "pattern": {
              "fillmode": "overlay",
              "size": 10,
              "solidity": 0.2
             }
            },
            "type": "histogram"
           }
          ],
          "histogram2d": [
           {
            "colorbar": {
             "outlinewidth": 0,
             "ticks": ""
            },
            "colorscale": [
             [
              0,
              "#0d0887"
             ],
             [
              0.1111111111111111,
              "#46039f"
             ],
             [
              0.2222222222222222,
              "#7201a8"
             ],
             [
              0.3333333333333333,
              "#9c179e"
             ],
             [
              0.4444444444444444,
              "#bd3786"
             ],
             [
              0.5555555555555556,
              "#d8576b"
             ],
             [
              0.6666666666666666,
              "#ed7953"
             ],
             [
              0.7777777777777778,
              "#fb9f3a"
             ],
             [
              0.8888888888888888,
              "#fdca26"
             ],
             [
              1,
              "#f0f921"
             ]
            ],
            "type": "histogram2d"
           }
          ],
          "histogram2dcontour": [
           {
            "colorbar": {
             "outlinewidth": 0,
             "ticks": ""
            },
            "colorscale": [
             [
              0,
              "#0d0887"
             ],
             [
              0.1111111111111111,
              "#46039f"
             ],
             [
              0.2222222222222222,
              "#7201a8"
             ],
             [
              0.3333333333333333,
              "#9c179e"
             ],
             [
              0.4444444444444444,
              "#bd3786"
             ],
             [
              0.5555555555555556,
              "#d8576b"
             ],
             [
              0.6666666666666666,
              "#ed7953"
             ],
             [
              0.7777777777777778,
              "#fb9f3a"
             ],
             [
              0.8888888888888888,
              "#fdca26"
             ],
             [
              1,
              "#f0f921"
             ]
            ],
            "type": "histogram2dcontour"
           }
          ],
          "mesh3d": [
           {
            "colorbar": {
             "outlinewidth": 0,
             "ticks": ""
            },
            "type": "mesh3d"
           }
          ],
          "parcoords": [
           {
            "line": {
             "colorbar": {
              "outlinewidth": 0,
              "ticks": ""
             }
            },
            "type": "parcoords"
           }
          ],
          "pie": [
           {
            "automargin": true,
            "type": "pie"
           }
          ],
          "scatter": [
           {
            "fillpattern": {
             "fillmode": "overlay",
             "size": 10,
             "solidity": 0.2
            },
            "type": "scatter"
           }
          ],
          "scatter3d": [
           {
            "line": {
             "colorbar": {
              "outlinewidth": 0,
              "ticks": ""
             }
            },
            "marker": {
             "colorbar": {
              "outlinewidth": 0,
              "ticks": ""
             }
            },
            "type": "scatter3d"
           }
          ],
          "scattercarpet": [
           {
            "marker": {
             "colorbar": {
              "outlinewidth": 0,
              "ticks": ""
             }
            },
            "type": "scattercarpet"
           }
          ],
          "scattergeo": [
           {
            "marker": {
             "colorbar": {
              "outlinewidth": 0,
              "ticks": ""
             }
            },
            "type": "scattergeo"
           }
          ],
          "scattergl": [
           {
            "marker": {
             "colorbar": {
              "outlinewidth": 0,
              "ticks": ""
             }
            },
            "type": "scattergl"
           }
          ],
          "scattermapbox": [
           {
            "marker": {
             "colorbar": {
              "outlinewidth": 0,
              "ticks": ""
             }
            },
            "type": "scattermapbox"
           }
          ],
          "scatterpolar": [
           {
            "marker": {
             "colorbar": {
              "outlinewidth": 0,
              "ticks": ""
             }
            },
            "type": "scatterpolar"
           }
          ],
          "scatterpolargl": [
           {
            "marker": {
             "colorbar": {
              "outlinewidth": 0,
              "ticks": ""
             }
            },
            "type": "scatterpolargl"
           }
          ],
          "scatterternary": [
           {
            "marker": {
             "colorbar": {
              "outlinewidth": 0,
              "ticks": ""
             }
            },
            "type": "scatterternary"
           }
          ],
          "surface": [
           {
            "colorbar": {
             "outlinewidth": 0,
             "ticks": ""
            },
            "colorscale": [
             [
              0,
              "#0d0887"
             ],
             [
              0.1111111111111111,
              "#46039f"
             ],
             [
              0.2222222222222222,
              "#7201a8"
             ],
             [
              0.3333333333333333,
              "#9c179e"
             ],
             [
              0.4444444444444444,
              "#bd3786"
             ],
             [
              0.5555555555555556,
              "#d8576b"
             ],
             [
              0.6666666666666666,
              "#ed7953"
             ],
             [
              0.7777777777777778,
              "#fb9f3a"
             ],
             [
              0.8888888888888888,
              "#fdca26"
             ],
             [
              1,
              "#f0f921"
             ]
            ],
            "type": "surface"
           }
          ],
          "table": [
           {
            "cells": {
             "fill": {
              "color": "#EBF0F8"
             },
             "line": {
              "color": "white"
             }
            },
            "header": {
             "fill": {
              "color": "#C8D4E3"
             },
             "line": {
              "color": "white"
             }
            },
            "type": "table"
           }
          ]
         },
         "layout": {
          "annotationdefaults": {
           "arrowcolor": "#2a3f5f",
           "arrowhead": 0,
           "arrowwidth": 1
          },
          "autotypenumbers": "strict",
          "coloraxis": {
           "colorbar": {
            "outlinewidth": 0,
            "ticks": ""
           }
          },
          "colorscale": {
           "diverging": [
            [
             0,
             "#8e0152"
            ],
            [
             0.1,
             "#c51b7d"
            ],
            [
             0.2,
             "#de77ae"
            ],
            [
             0.3,
             "#f1b6da"
            ],
            [
             0.4,
             "#fde0ef"
            ],
            [
             0.5,
             "#f7f7f7"
            ],
            [
             0.6,
             "#e6f5d0"
            ],
            [
             0.7,
             "#b8e186"
            ],
            [
             0.8,
             "#7fbc41"
            ],
            [
             0.9,
             "#4d9221"
            ],
            [
             1,
             "#276419"
            ]
           ],
           "sequential": [
            [
             0,
             "#0d0887"
            ],
            [
             0.1111111111111111,
             "#46039f"
            ],
            [
             0.2222222222222222,
             "#7201a8"
            ],
            [
             0.3333333333333333,
             "#9c179e"
            ],
            [
             0.4444444444444444,
             "#bd3786"
            ],
            [
             0.5555555555555556,
             "#d8576b"
            ],
            [
             0.6666666666666666,
             "#ed7953"
            ],
            [
             0.7777777777777778,
             "#fb9f3a"
            ],
            [
             0.8888888888888888,
             "#fdca26"
            ],
            [
             1,
             "#f0f921"
            ]
           ],
           "sequentialminus": [
            [
             0,
             "#0d0887"
            ],
            [
             0.1111111111111111,
             "#46039f"
            ],
            [
             0.2222222222222222,
             "#7201a8"
            ],
            [
             0.3333333333333333,
             "#9c179e"
            ],
            [
             0.4444444444444444,
             "#bd3786"
            ],
            [
             0.5555555555555556,
             "#d8576b"
            ],
            [
             0.6666666666666666,
             "#ed7953"
            ],
            [
             0.7777777777777778,
             "#fb9f3a"
            ],
            [
             0.8888888888888888,
             "#fdca26"
            ],
            [
             1,
             "#f0f921"
            ]
           ]
          },
          "colorway": [
           "#636efa",
           "#EF553B",
           "#00cc96",
           "#ab63fa",
           "#FFA15A",
           "#19d3f3",
           "#FF6692",
           "#B6E880",
           "#FF97FF",
           "#FECB52"
          ],
          "font": {
           "color": "#2a3f5f"
          },
          "geo": {
           "bgcolor": "white",
           "lakecolor": "white",
           "landcolor": "#E5ECF6",
           "showlakes": true,
           "showland": true,
           "subunitcolor": "white"
          },
          "hoverlabel": {
           "align": "left"
          },
          "hovermode": "closest",
          "mapbox": {
           "style": "light"
          },
          "paper_bgcolor": "white",
          "plot_bgcolor": "#E5ECF6",
          "polar": {
           "angularaxis": {
            "gridcolor": "white",
            "linecolor": "white",
            "ticks": ""
           },
           "bgcolor": "#E5ECF6",
           "radialaxis": {
            "gridcolor": "white",
            "linecolor": "white",
            "ticks": ""
           }
          },
          "scene": {
           "xaxis": {
            "backgroundcolor": "#E5ECF6",
            "gridcolor": "white",
            "gridwidth": 2,
            "linecolor": "white",
            "showbackground": true,
            "ticks": "",
            "zerolinecolor": "white"
           },
           "yaxis": {
            "backgroundcolor": "#E5ECF6",
            "gridcolor": "white",
            "gridwidth": 2,
            "linecolor": "white",
            "showbackground": true,
            "ticks": "",
            "zerolinecolor": "white"
           },
           "zaxis": {
            "backgroundcolor": "#E5ECF6",
            "gridcolor": "white",
            "gridwidth": 2,
            "linecolor": "white",
            "showbackground": true,
            "ticks": "",
            "zerolinecolor": "white"
           }
          },
          "shapedefaults": {
           "line": {
            "color": "#2a3f5f"
           }
          },
          "ternary": {
           "aaxis": {
            "gridcolor": "white",
            "linecolor": "white",
            "ticks": ""
           },
           "baxis": {
            "gridcolor": "white",
            "linecolor": "white",
            "ticks": ""
           },
           "bgcolor": "#E5ECF6",
           "caxis": {
            "gridcolor": "white",
            "linecolor": "white",
            "ticks": ""
           }
          },
          "title": {
           "x": 0.05
          },
          "xaxis": {
           "automargin": true,
           "gridcolor": "white",
           "linecolor": "white",
           "ticks": "",
           "title": {
            "standoff": 15
           },
           "zerolinecolor": "white",
           "zerolinewidth": 2
          },
          "yaxis": {
           "automargin": true,
           "gridcolor": "white",
           "linecolor": "white",
           "ticks": "",
           "title": {
            "standoff": 15
           },
           "zerolinecolor": "white",
           "zerolinewidth": 2
          }
         }
        },
        "title": {
         "text": "Photography - Actual VS Prediction: Period 2"
        },
        "xaxis": {
         "anchor": "y",
         "domain": [
          0,
          1
         ],
         "title": {
          "text": "Date"
         }
        },
        "yaxis": {
         "anchor": "x",
         "domain": [
          0,
          1
         ],
         "title": {
          "text": "value"
         }
        }
       }
      }
     },
     "metadata": {},
     "output_type": "display_data"
    },
    {
     "data": {
      "application/vnd.plotly.v1+json": {
       "config": {
        "plotlyServerURL": "https://plot.ly"
       },
       "data": [
        {
         "hovertemplate": "variable=Actual - Period 2<br>Date=%{x}<br>value=%{y}<extra></extra>",
         "legendgroup": "Actual - Period 2",
         "line": {
          "color": "#636efa",
          "dash": "solid"
         },
         "marker": {
          "symbol": "circle"
         },
         "mode": "lines",
         "name": "Actual - Period 2",
         "orientation": "v",
         "showlegend": true,
         "type": "scatter",
         "x": [
          "2020-01-15",
          "2020-02-15",
          "2020-03-15",
          "2020-04-15",
          "2020-05-15",
          "2020-06-15",
          "2020-07-15",
          "2020-08-15",
          "2020-09-15",
          "2020-10-15",
          "2020-11-15",
          "2020-12-15",
          "2021-01-15",
          "2021-02-15",
          "2021-03-15",
          "2021-04-15",
          "2021-05-15",
          "2021-06-15",
          "2021-07-15",
          "2021-08-15",
          "2021-09-15",
          "2021-10-15",
          "2021-11-15",
          "2021-12-15",
          "2022-01-15",
          "2022-02-15",
          "2022-03-15",
          "2022-04-15",
          "2022-05-15",
          "2022-06-15",
          "2022-07-15",
          "2022-08-15"
         ],
         "xaxis": "x",
         "y": [
          -0.16138669679422696,
          -0.6201092013685116,
          -0.2985945694121383,
          0.29685944736071984,
          0.8936393846103794,
          0.1683887772166604,
          0.07179398011256921,
          0.16113414472693519,
          0.48525951473266393,
          -0.019603915731862747,
          -0.3079158368472885,
          0.3067792601027871,
          0.5567935226687827,
          1.0305660040108193,
          0.4990839118827123,
          0.2692891314727096,
          0.08960213647268317,
          0.03853473787925485,
          0.12326683564295496,
          0.6093877529169168,
          0.19818778795224665,
          0.1421452645381785,
          0.9790810851906451,
          0.4062198601149164,
          0.8708140300392171,
          1.0584649216267534,
          0.8710773647200551,
          1.0804949644232138,
          0.1380441882557717,
          0.6228532738754405,
          null,
          null
         ],
         "yaxis": "y"
        },
        {
         "hovertemplate": "variable=Prediction - Period 2<br>Date=%{x}<br>value=%{y}<extra></extra>",
         "legendgroup": "Prediction - Period 2",
         "line": {
          "color": "#EF553B",
          "dash": "solid"
         },
         "marker": {
          "symbol": "circle"
         },
         "mode": "lines",
         "name": "Prediction - Period 2",
         "orientation": "v",
         "showlegend": true,
         "type": "scatter",
         "x": [
          "2020-01-15",
          "2020-02-15",
          "2020-03-15",
          "2020-04-15",
          "2020-05-15",
          "2020-06-15",
          "2020-07-15",
          "2020-08-15",
          "2020-09-15",
          "2020-10-15",
          "2020-11-15",
          "2020-12-15",
          "2021-01-15",
          "2021-02-15",
          "2021-03-15",
          "2021-04-15",
          "2021-05-15",
          "2021-06-15",
          "2021-07-15",
          "2021-08-15",
          "2021-09-15",
          "2021-10-15",
          "2021-11-15",
          "2021-12-15",
          "2022-01-15",
          "2022-02-15",
          "2022-03-15",
          "2022-04-15",
          "2022-05-15",
          "2022-06-15",
          "2022-07-15",
          "2022-08-15"
         ],
         "xaxis": "x",
         "y": [
          0.21307271718978882,
          0.21759231388568878,
          0.17749321460723877,
          0.17833614349365234,
          -0.03089331090450287,
          0.04390909522771835,
          0.1997985690832138,
          0.11257743835449219,
          0.06549957394599915,
          0.25239959359169006,
          0.1642223745584488,
          0.17686137557029724,
          0.19667360186576843,
          0.17817696928977966,
          0.2442757934331894,
          0.3028823435306549,
          0.40751028060913086,
          0.4472203254699707,
          0.22678738832473755,
          0.3089672327041626,
          0.317757248878479,
          0.26392436027526855,
          0.3508343994617462,
          0.2929898500442505,
          0.2768780291080475,
          0.533606231212616,
          0.3140886425971985,
          0.4223330616950989,
          0.7393919825553894,
          0.610948383808136,
          0.6473329663276672,
          null
         ],
         "yaxis": "y"
        }
       ],
       "layout": {
        "legend": {
         "title": {
          "text": "variable"
         },
         "tracegroupgap": 0
        },
        "template": {
         "data": {
          "bar": [
           {
            "error_x": {
             "color": "#2a3f5f"
            },
            "error_y": {
             "color": "#2a3f5f"
            },
            "marker": {
             "line": {
              "color": "#E5ECF6",
              "width": 0.5
             },
             "pattern": {
              "fillmode": "overlay",
              "size": 10,
              "solidity": 0.2
             }
            },
            "type": "bar"
           }
          ],
          "barpolar": [
           {
            "marker": {
             "line": {
              "color": "#E5ECF6",
              "width": 0.5
             },
             "pattern": {
              "fillmode": "overlay",
              "size": 10,
              "solidity": 0.2
             }
            },
            "type": "barpolar"
           }
          ],
          "carpet": [
           {
            "aaxis": {
             "endlinecolor": "#2a3f5f",
             "gridcolor": "white",
             "linecolor": "white",
             "minorgridcolor": "white",
             "startlinecolor": "#2a3f5f"
            },
            "baxis": {
             "endlinecolor": "#2a3f5f",
             "gridcolor": "white",
             "linecolor": "white",
             "minorgridcolor": "white",
             "startlinecolor": "#2a3f5f"
            },
            "type": "carpet"
           }
          ],
          "choropleth": [
           {
            "colorbar": {
             "outlinewidth": 0,
             "ticks": ""
            },
            "type": "choropleth"
           }
          ],
          "contour": [
           {
            "colorbar": {
             "outlinewidth": 0,
             "ticks": ""
            },
            "colorscale": [
             [
              0,
              "#0d0887"
             ],
             [
              0.1111111111111111,
              "#46039f"
             ],
             [
              0.2222222222222222,
              "#7201a8"
             ],
             [
              0.3333333333333333,
              "#9c179e"
             ],
             [
              0.4444444444444444,
              "#bd3786"
             ],
             [
              0.5555555555555556,
              "#d8576b"
             ],
             [
              0.6666666666666666,
              "#ed7953"
             ],
             [
              0.7777777777777778,
              "#fb9f3a"
             ],
             [
              0.8888888888888888,
              "#fdca26"
             ],
             [
              1,
              "#f0f921"
             ]
            ],
            "type": "contour"
           }
          ],
          "contourcarpet": [
           {
            "colorbar": {
             "outlinewidth": 0,
             "ticks": ""
            },
            "type": "contourcarpet"
           }
          ],
          "heatmap": [
           {
            "colorbar": {
             "outlinewidth": 0,
             "ticks": ""
            },
            "colorscale": [
             [
              0,
              "#0d0887"
             ],
             [
              0.1111111111111111,
              "#46039f"
             ],
             [
              0.2222222222222222,
              "#7201a8"
             ],
             [
              0.3333333333333333,
              "#9c179e"
             ],
             [
              0.4444444444444444,
              "#bd3786"
             ],
             [
              0.5555555555555556,
              "#d8576b"
             ],
             [
              0.6666666666666666,
              "#ed7953"
             ],
             [
              0.7777777777777778,
              "#fb9f3a"
             ],
             [
              0.8888888888888888,
              "#fdca26"
             ],
             [
              1,
              "#f0f921"
             ]
            ],
            "type": "heatmap"
           }
          ],
          "heatmapgl": [
           {
            "colorbar": {
             "outlinewidth": 0,
             "ticks": ""
            },
            "colorscale": [
             [
              0,
              "#0d0887"
             ],
             [
              0.1111111111111111,
              "#46039f"
             ],
             [
              0.2222222222222222,
              "#7201a8"
             ],
             [
              0.3333333333333333,
              "#9c179e"
             ],
             [
              0.4444444444444444,
              "#bd3786"
             ],
             [
              0.5555555555555556,
              "#d8576b"
             ],
             [
              0.6666666666666666,
              "#ed7953"
             ],
             [
              0.7777777777777778,
              "#fb9f3a"
             ],
             [
              0.8888888888888888,
              "#fdca26"
             ],
             [
              1,
              "#f0f921"
             ]
            ],
            "type": "heatmapgl"
           }
          ],
          "histogram": [
           {
            "marker": {
             "pattern": {
              "fillmode": "overlay",
              "size": 10,
              "solidity": 0.2
             }
            },
            "type": "histogram"
           }
          ],
          "histogram2d": [
           {
            "colorbar": {
             "outlinewidth": 0,
             "ticks": ""
            },
            "colorscale": [
             [
              0,
              "#0d0887"
             ],
             [
              0.1111111111111111,
              "#46039f"
             ],
             [
              0.2222222222222222,
              "#7201a8"
             ],
             [
              0.3333333333333333,
              "#9c179e"
             ],
             [
              0.4444444444444444,
              "#bd3786"
             ],
             [
              0.5555555555555556,
              "#d8576b"
             ],
             [
              0.6666666666666666,
              "#ed7953"
             ],
             [
              0.7777777777777778,
              "#fb9f3a"
             ],
             [
              0.8888888888888888,
              "#fdca26"
             ],
             [
              1,
              "#f0f921"
             ]
            ],
            "type": "histogram2d"
           }
          ],
          "histogram2dcontour": [
           {
            "colorbar": {
             "outlinewidth": 0,
             "ticks": ""
            },
            "colorscale": [
             [
              0,
              "#0d0887"
             ],
             [
              0.1111111111111111,
              "#46039f"
             ],
             [
              0.2222222222222222,
              "#7201a8"
             ],
             [
              0.3333333333333333,
              "#9c179e"
             ],
             [
              0.4444444444444444,
              "#bd3786"
             ],
             [
              0.5555555555555556,
              "#d8576b"
             ],
             [
              0.6666666666666666,
              "#ed7953"
             ],
             [
              0.7777777777777778,
              "#fb9f3a"
             ],
             [
              0.8888888888888888,
              "#fdca26"
             ],
             [
              1,
              "#f0f921"
             ]
            ],
            "type": "histogram2dcontour"
           }
          ],
          "mesh3d": [
           {
            "colorbar": {
             "outlinewidth": 0,
             "ticks": ""
            },
            "type": "mesh3d"
           }
          ],
          "parcoords": [
           {
            "line": {
             "colorbar": {
              "outlinewidth": 0,
              "ticks": ""
             }
            },
            "type": "parcoords"
           }
          ],
          "pie": [
           {
            "automargin": true,
            "type": "pie"
           }
          ],
          "scatter": [
           {
            "fillpattern": {
             "fillmode": "overlay",
             "size": 10,
             "solidity": 0.2
            },
            "type": "scatter"
           }
          ],
          "scatter3d": [
           {
            "line": {
             "colorbar": {
              "outlinewidth": 0,
              "ticks": ""
             }
            },
            "marker": {
             "colorbar": {
              "outlinewidth": 0,
              "ticks": ""
             }
            },
            "type": "scatter3d"
           }
          ],
          "scattercarpet": [
           {
            "marker": {
             "colorbar": {
              "outlinewidth": 0,
              "ticks": ""
             }
            },
            "type": "scattercarpet"
           }
          ],
          "scattergeo": [
           {
            "marker": {
             "colorbar": {
              "outlinewidth": 0,
              "ticks": ""
             }
            },
            "type": "scattergeo"
           }
          ],
          "scattergl": [
           {
            "marker": {
             "colorbar": {
              "outlinewidth": 0,
              "ticks": ""
             }
            },
            "type": "scattergl"
           }
          ],
          "scattermapbox": [
           {
            "marker": {
             "colorbar": {
              "outlinewidth": 0,
              "ticks": ""
             }
            },
            "type": "scattermapbox"
           }
          ],
          "scatterpolar": [
           {
            "marker": {
             "colorbar": {
              "outlinewidth": 0,
              "ticks": ""
             }
            },
            "type": "scatterpolar"
           }
          ],
          "scatterpolargl": [
           {
            "marker": {
             "colorbar": {
              "outlinewidth": 0,
              "ticks": ""
             }
            },
            "type": "scatterpolargl"
           }
          ],
          "scatterternary": [
           {
            "marker": {
             "colorbar": {
              "outlinewidth": 0,
              "ticks": ""
             }
            },
            "type": "scatterternary"
           }
          ],
          "surface": [
           {
            "colorbar": {
             "outlinewidth": 0,
             "ticks": ""
            },
            "colorscale": [
             [
              0,
              "#0d0887"
             ],
             [
              0.1111111111111111,
              "#46039f"
             ],
             [
              0.2222222222222222,
              "#7201a8"
             ],
             [
              0.3333333333333333,
              "#9c179e"
             ],
             [
              0.4444444444444444,
              "#bd3786"
             ],
             [
              0.5555555555555556,
              "#d8576b"
             ],
             [
              0.6666666666666666,
              "#ed7953"
             ],
             [
              0.7777777777777778,
              "#fb9f3a"
             ],
             [
              0.8888888888888888,
              "#fdca26"
             ],
             [
              1,
              "#f0f921"
             ]
            ],
            "type": "surface"
           }
          ],
          "table": [
           {
            "cells": {
             "fill": {
              "color": "#EBF0F8"
             },
             "line": {
              "color": "white"
             }
            },
            "header": {
             "fill": {
              "color": "#C8D4E3"
             },
             "line": {
              "color": "white"
             }
            },
            "type": "table"
           }
          ]
         },
         "layout": {
          "annotationdefaults": {
           "arrowcolor": "#2a3f5f",
           "arrowhead": 0,
           "arrowwidth": 1
          },
          "autotypenumbers": "strict",
          "coloraxis": {
           "colorbar": {
            "outlinewidth": 0,
            "ticks": ""
           }
          },
          "colorscale": {
           "diverging": [
            [
             0,
             "#8e0152"
            ],
            [
             0.1,
             "#c51b7d"
            ],
            [
             0.2,
             "#de77ae"
            ],
            [
             0.3,
             "#f1b6da"
            ],
            [
             0.4,
             "#fde0ef"
            ],
            [
             0.5,
             "#f7f7f7"
            ],
            [
             0.6,
             "#e6f5d0"
            ],
            [
             0.7,
             "#b8e186"
            ],
            [
             0.8,
             "#7fbc41"
            ],
            [
             0.9,
             "#4d9221"
            ],
            [
             1,
             "#276419"
            ]
           ],
           "sequential": [
            [
             0,
             "#0d0887"
            ],
            [
             0.1111111111111111,
             "#46039f"
            ],
            [
             0.2222222222222222,
             "#7201a8"
            ],
            [
             0.3333333333333333,
             "#9c179e"
            ],
            [
             0.4444444444444444,
             "#bd3786"
            ],
            [
             0.5555555555555556,
             "#d8576b"
            ],
            [
             0.6666666666666666,
             "#ed7953"
            ],
            [
             0.7777777777777778,
             "#fb9f3a"
            ],
            [
             0.8888888888888888,
             "#fdca26"
            ],
            [
             1,
             "#f0f921"
            ]
           ],
           "sequentialminus": [
            [
             0,
             "#0d0887"
            ],
            [
             0.1111111111111111,
             "#46039f"
            ],
            [
             0.2222222222222222,
             "#7201a8"
            ],
            [
             0.3333333333333333,
             "#9c179e"
            ],
            [
             0.4444444444444444,
             "#bd3786"
            ],
            [
             0.5555555555555556,
             "#d8576b"
            ],
            [
             0.6666666666666666,
             "#ed7953"
            ],
            [
             0.7777777777777778,
             "#fb9f3a"
            ],
            [
             0.8888888888888888,
             "#fdca26"
            ],
            [
             1,
             "#f0f921"
            ]
           ]
          },
          "colorway": [
           "#636efa",
           "#EF553B",
           "#00cc96",
           "#ab63fa",
           "#FFA15A",
           "#19d3f3",
           "#FF6692",
           "#B6E880",
           "#FF97FF",
           "#FECB52"
          ],
          "font": {
           "color": "#2a3f5f"
          },
          "geo": {
           "bgcolor": "white",
           "lakecolor": "white",
           "landcolor": "#E5ECF6",
           "showlakes": true,
           "showland": true,
           "subunitcolor": "white"
          },
          "hoverlabel": {
           "align": "left"
          },
          "hovermode": "closest",
          "mapbox": {
           "style": "light"
          },
          "paper_bgcolor": "white",
          "plot_bgcolor": "#E5ECF6",
          "polar": {
           "angularaxis": {
            "gridcolor": "white",
            "linecolor": "white",
            "ticks": ""
           },
           "bgcolor": "#E5ECF6",
           "radialaxis": {
            "gridcolor": "white",
            "linecolor": "white",
            "ticks": ""
           }
          },
          "scene": {
           "xaxis": {
            "backgroundcolor": "#E5ECF6",
            "gridcolor": "white",
            "gridwidth": 2,
            "linecolor": "white",
            "showbackground": true,
            "ticks": "",
            "zerolinecolor": "white"
           },
           "yaxis": {
            "backgroundcolor": "#E5ECF6",
            "gridcolor": "white",
            "gridwidth": 2,
            "linecolor": "white",
            "showbackground": true,
            "ticks": "",
            "zerolinecolor": "white"
           },
           "zaxis": {
            "backgroundcolor": "#E5ECF6",
            "gridcolor": "white",
            "gridwidth": 2,
            "linecolor": "white",
            "showbackground": true,
            "ticks": "",
            "zerolinecolor": "white"
           }
          },
          "shapedefaults": {
           "line": {
            "color": "#2a3f5f"
           }
          },
          "ternary": {
           "aaxis": {
            "gridcolor": "white",
            "linecolor": "white",
            "ticks": ""
           },
           "baxis": {
            "gridcolor": "white",
            "linecolor": "white",
            "ticks": ""
           },
           "bgcolor": "#E5ECF6",
           "caxis": {
            "gridcolor": "white",
            "linecolor": "white",
            "ticks": ""
           }
          },
          "title": {
           "x": 0.05
          },
          "xaxis": {
           "automargin": true,
           "gridcolor": "white",
           "linecolor": "white",
           "ticks": "",
           "title": {
            "standoff": 15
           },
           "zerolinecolor": "white",
           "zerolinewidth": 2
          },
          "yaxis": {
           "automargin": true,
           "gridcolor": "white",
           "linecolor": "white",
           "ticks": "",
           "title": {
            "standoff": 15
           },
           "zerolinecolor": "white",
           "zerolinewidth": 2
          }
         }
        },
        "title": {
         "text": "Services less rent of shelter - Actual VS Prediction: Period 2"
        },
        "xaxis": {
         "anchor": "y",
         "domain": [
          0,
          1
         ],
         "title": {
          "text": "Date"
         }
        },
        "yaxis": {
         "anchor": "x",
         "domain": [
          0,
          1
         ],
         "title": {
          "text": "value"
         }
        }
       }
      }
     },
     "metadata": {},
     "output_type": "display_data"
    },
    {
     "data": {
      "application/vnd.plotly.v1+json": {
       "config": {
        "plotlyServerURL": "https://plot.ly"
       },
       "data": [
        {
         "hovertemplate": "variable=Actual - Period 2<br>Date=%{x}<br>value=%{y}<extra></extra>",
         "legendgroup": "Actual - Period 2",
         "line": {
          "color": "#636efa",
          "dash": "solid"
         },
         "marker": {
          "symbol": "circle"
         },
         "mode": "lines",
         "name": "Actual - Period 2",
         "orientation": "v",
         "showlegend": true,
         "type": "scatter",
         "x": [
          "2020-01-15",
          "2020-02-15",
          "2020-03-15",
          "2020-04-15",
          "2020-05-15",
          "2020-06-15",
          "2020-07-15",
          "2020-08-15",
          "2020-09-15",
          "2020-10-15",
          "2020-11-15",
          "2020-12-15",
          "2021-01-15",
          "2021-02-15",
          "2021-03-15",
          "2021-04-15",
          "2021-05-15",
          "2021-06-15",
          "2021-07-15",
          "2021-08-15",
          "2021-09-15",
          "2021-10-15",
          "2021-11-15",
          "2021-12-15",
          "2022-01-15",
          "2022-02-15",
          "2022-03-15",
          "2022-04-15",
          "2022-05-15",
          "2022-06-15",
          "2022-07-15",
          "2022-08-15"
         ],
         "xaxis": "x",
         "y": [
          -2.955946832481726,
          -6.051712350269205,
          -1.8543522030981214,
          2.4787038670666317,
          2.8566449746648126,
          1.3246351451904235,
          0.973242490390342,
          0.041267907909747145,
          0.26341816039867116,
          1.415517209335091,
          0.6029017169235893,
          1.1394869871672584,
          2.649285639395791,
          2.50790260806045,
          2.1019410501237648,
          3.5510435446902737,
          0.6475895228950255,
          -0.10799388660778377,
          0.28772493055192816,
          2.3410122017667923,
          2.435400741390786,
          0.7928015718952184,
          0.39007551824331316,
          1.8997570779666266,
          3.822453276406732,
          -0.3800388378928187,
          1.9810396557983427,
          3.773306571174964,
          -2.1134443511056706,
          -2.2948816026304826,
          null,
          null
         ],
         "yaxis": "y"
        },
        {
         "hovertemplate": "variable=Prediction - Period 2<br>Date=%{x}<br>value=%{y}<extra></extra>",
         "legendgroup": "Prediction - Period 2",
         "line": {
          "color": "#EF553B",
          "dash": "solid"
         },
         "marker": {
          "symbol": "circle"
         },
         "mode": "lines",
         "name": "Prediction - Period 2",
         "orientation": "v",
         "showlegend": true,
         "type": "scatter",
         "x": [
          "2020-01-15",
          "2020-02-15",
          "2020-03-15",
          "2020-04-15",
          "2020-05-15",
          "2020-06-15",
          "2020-07-15",
          "2020-08-15",
          "2020-09-15",
          "2020-10-15",
          "2020-11-15",
          "2020-12-15",
          "2021-01-15",
          "2021-02-15",
          "2021-03-15",
          "2021-04-15",
          "2021-05-15",
          "2021-06-15",
          "2021-07-15",
          "2021-08-15",
          "2021-09-15",
          "2021-10-15",
          "2021-11-15",
          "2021-12-15",
          "2022-01-15",
          "2022-02-15",
          "2022-03-15",
          "2022-04-15",
          "2022-05-15",
          "2022-06-15",
          "2022-07-15",
          "2022-08-15"
         ],
         "xaxis": "x",
         "y": [
          -0.39104193449020386,
          -0.09316550195217133,
          -0.6349310874938965,
          -0.7426849007606506,
          -1.4297336339950562,
          -0.4925878047943115,
          -0.830426812171936,
          0.03474332392215729,
          0.6965605616569519,
          0.5501353740692139,
          0.21275939047336578,
          0.1844104379415512,
          0.7104333639144897,
          0.7126955986022949,
          0.3830827474594116,
          -0.6665692329406738,
          -0.7178663611412048,
          0.29646965861320496,
          -0.3571518659591675,
          -0.13872535526752472,
          -0.717313826084137,
          -0.7236750721931458,
          -0.45882683992385864,
          0.030814245343208313,
          0.2975423336029053,
          0.35154199600219727,
          0.7786208391189575,
          0.1023780107498169,
          -0.40856724977493286,
          -0.27476203441619873,
          0.4483829140663147,
          null
         ],
         "yaxis": "y"
        }
       ],
       "layout": {
        "legend": {
         "title": {
          "text": "variable"
         },
         "tracegroupgap": 0
        },
        "template": {
         "data": {
          "bar": [
           {
            "error_x": {
             "color": "#2a3f5f"
            },
            "error_y": {
             "color": "#2a3f5f"
            },
            "marker": {
             "line": {
              "color": "#E5ECF6",
              "width": 0.5
             },
             "pattern": {
              "fillmode": "overlay",
              "size": 10,
              "solidity": 0.2
             }
            },
            "type": "bar"
           }
          ],
          "barpolar": [
           {
            "marker": {
             "line": {
              "color": "#E5ECF6",
              "width": 0.5
             },
             "pattern": {
              "fillmode": "overlay",
              "size": 10,
              "solidity": 0.2
             }
            },
            "type": "barpolar"
           }
          ],
          "carpet": [
           {
            "aaxis": {
             "endlinecolor": "#2a3f5f",
             "gridcolor": "white",
             "linecolor": "white",
             "minorgridcolor": "white",
             "startlinecolor": "#2a3f5f"
            },
            "baxis": {
             "endlinecolor": "#2a3f5f",
             "gridcolor": "white",
             "linecolor": "white",
             "minorgridcolor": "white",
             "startlinecolor": "#2a3f5f"
            },
            "type": "carpet"
           }
          ],
          "choropleth": [
           {
            "colorbar": {
             "outlinewidth": 0,
             "ticks": ""
            },
            "type": "choropleth"
           }
          ],
          "contour": [
           {
            "colorbar": {
             "outlinewidth": 0,
             "ticks": ""
            },
            "colorscale": [
             [
              0,
              "#0d0887"
             ],
             [
              0.1111111111111111,
              "#46039f"
             ],
             [
              0.2222222222222222,
              "#7201a8"
             ],
             [
              0.3333333333333333,
              "#9c179e"
             ],
             [
              0.4444444444444444,
              "#bd3786"
             ],
             [
              0.5555555555555556,
              "#d8576b"
             ],
             [
              0.6666666666666666,
              "#ed7953"
             ],
             [
              0.7777777777777778,
              "#fb9f3a"
             ],
             [
              0.8888888888888888,
              "#fdca26"
             ],
             [
              1,
              "#f0f921"
             ]
            ],
            "type": "contour"
           }
          ],
          "contourcarpet": [
           {
            "colorbar": {
             "outlinewidth": 0,
             "ticks": ""
            },
            "type": "contourcarpet"
           }
          ],
          "heatmap": [
           {
            "colorbar": {
             "outlinewidth": 0,
             "ticks": ""
            },
            "colorscale": [
             [
              0,
              "#0d0887"
             ],
             [
              0.1111111111111111,
              "#46039f"
             ],
             [
              0.2222222222222222,
              "#7201a8"
             ],
             [
              0.3333333333333333,
              "#9c179e"
             ],
             [
              0.4444444444444444,
              "#bd3786"
             ],
             [
              0.5555555555555556,
              "#d8576b"
             ],
             [
              0.6666666666666666,
              "#ed7953"
             ],
             [
              0.7777777777777778,
              "#fb9f3a"
             ],
             [
              0.8888888888888888,
              "#fdca26"
             ],
             [
              1,
              "#f0f921"
             ]
            ],
            "type": "heatmap"
           }
          ],
          "heatmapgl": [
           {
            "colorbar": {
             "outlinewidth": 0,
             "ticks": ""
            },
            "colorscale": [
             [
              0,
              "#0d0887"
             ],
             [
              0.1111111111111111,
              "#46039f"
             ],
             [
              0.2222222222222222,
              "#7201a8"
             ],
             [
              0.3333333333333333,
              "#9c179e"
             ],
             [
              0.4444444444444444,
              "#bd3786"
             ],
             [
              0.5555555555555556,
              "#d8576b"
             ],
             [
              0.6666666666666666,
              "#ed7953"
             ],
             [
              0.7777777777777778,
              "#fb9f3a"
             ],
             [
              0.8888888888888888,
              "#fdca26"
             ],
             [
              1,
              "#f0f921"
             ]
            ],
            "type": "heatmapgl"
           }
          ],
          "histogram": [
           {
            "marker": {
             "pattern": {
              "fillmode": "overlay",
              "size": 10,
              "solidity": 0.2
             }
            },
            "type": "histogram"
           }
          ],
          "histogram2d": [
           {
            "colorbar": {
             "outlinewidth": 0,
             "ticks": ""
            },
            "colorscale": [
             [
              0,
              "#0d0887"
             ],
             [
              0.1111111111111111,
              "#46039f"
             ],
             [
              0.2222222222222222,
              "#7201a8"
             ],
             [
              0.3333333333333333,
              "#9c179e"
             ],
             [
              0.4444444444444444,
              "#bd3786"
             ],
             [
              0.5555555555555556,
              "#d8576b"
             ],
             [
              0.6666666666666666,
              "#ed7953"
             ],
             [
              0.7777777777777778,
              "#fb9f3a"
             ],
             [
              0.8888888888888888,
              "#fdca26"
             ],
             [
              1,
              "#f0f921"
             ]
            ],
            "type": "histogram2d"
           }
          ],
          "histogram2dcontour": [
           {
            "colorbar": {
             "outlinewidth": 0,
             "ticks": ""
            },
            "colorscale": [
             [
              0,
              "#0d0887"
             ],
             [
              0.1111111111111111,
              "#46039f"
             ],
             [
              0.2222222222222222,
              "#7201a8"
             ],
             [
              0.3333333333333333,
              "#9c179e"
             ],
             [
              0.4444444444444444,
              "#bd3786"
             ],
             [
              0.5555555555555556,
              "#d8576b"
             ],
             [
              0.6666666666666666,
              "#ed7953"
             ],
             [
              0.7777777777777778,
              "#fb9f3a"
             ],
             [
              0.8888888888888888,
              "#fdca26"
             ],
             [
              1,
              "#f0f921"
             ]
            ],
            "type": "histogram2dcontour"
           }
          ],
          "mesh3d": [
           {
            "colorbar": {
             "outlinewidth": 0,
             "ticks": ""
            },
            "type": "mesh3d"
           }
          ],
          "parcoords": [
           {
            "line": {
             "colorbar": {
              "outlinewidth": 0,
              "ticks": ""
             }
            },
            "type": "parcoords"
           }
          ],
          "pie": [
           {
            "automargin": true,
            "type": "pie"
           }
          ],
          "scatter": [
           {
            "fillpattern": {
             "fillmode": "overlay",
             "size": 10,
             "solidity": 0.2
            },
            "type": "scatter"
           }
          ],
          "scatter3d": [
           {
            "line": {
             "colorbar": {
              "outlinewidth": 0,
              "ticks": ""
             }
            },
            "marker": {
             "colorbar": {
              "outlinewidth": 0,
              "ticks": ""
             }
            },
            "type": "scatter3d"
           }
          ],
          "scattercarpet": [
           {
            "marker": {
             "colorbar": {
              "outlinewidth": 0,
              "ticks": ""
             }
            },
            "type": "scattercarpet"
           }
          ],
          "scattergeo": [
           {
            "marker": {
             "colorbar": {
              "outlinewidth": 0,
              "ticks": ""
             }
            },
            "type": "scattergeo"
           }
          ],
          "scattergl": [
           {
            "marker": {
             "colorbar": {
              "outlinewidth": 0,
              "ticks": ""
             }
            },
            "type": "scattergl"
           }
          ],
          "scattermapbox": [
           {
            "marker": {
             "colorbar": {
              "outlinewidth": 0,
              "ticks": ""
             }
            },
            "type": "scattermapbox"
           }
          ],
          "scatterpolar": [
           {
            "marker": {
             "colorbar": {
              "outlinewidth": 0,
              "ticks": ""
             }
            },
            "type": "scatterpolar"
           }
          ],
          "scatterpolargl": [
           {
            "marker": {
             "colorbar": {
              "outlinewidth": 0,
              "ticks": ""
             }
            },
            "type": "scatterpolargl"
           }
          ],
          "scatterternary": [
           {
            "marker": {
             "colorbar": {
              "outlinewidth": 0,
              "ticks": ""
             }
            },
            "type": "scatterternary"
           }
          ],
          "surface": [
           {
            "colorbar": {
             "outlinewidth": 0,
             "ticks": ""
            },
            "colorscale": [
             [
              0,
              "#0d0887"
             ],
             [
              0.1111111111111111,
              "#46039f"
             ],
             [
              0.2222222222222222,
              "#7201a8"
             ],
             [
              0.3333333333333333,
              "#9c179e"
             ],
             [
              0.4444444444444444,
              "#bd3786"
             ],
             [
              0.5555555555555556,
              "#d8576b"
             ],
             [
              0.6666666666666666,
              "#ed7953"
             ],
             [
              0.7777777777777778,
              "#fb9f3a"
             ],
             [
              0.8888888888888888,
              "#fdca26"
             ],
             [
              1,
              "#f0f921"
             ]
            ],
            "type": "surface"
           }
          ],
          "table": [
           {
            "cells": {
             "fill": {
              "color": "#EBF0F8"
             },
             "line": {
              "color": "white"
             }
            },
            "header": {
             "fill": {
              "color": "#C8D4E3"
             },
             "line": {
              "color": "white"
             }
            },
            "type": "table"
           }
          ]
         },
         "layout": {
          "annotationdefaults": {
           "arrowcolor": "#2a3f5f",
           "arrowhead": 0,
           "arrowwidth": 1
          },
          "autotypenumbers": "strict",
          "coloraxis": {
           "colorbar": {
            "outlinewidth": 0,
            "ticks": ""
           }
          },
          "colorscale": {
           "diverging": [
            [
             0,
             "#8e0152"
            ],
            [
             0.1,
             "#c51b7d"
            ],
            [
             0.2,
             "#de77ae"
            ],
            [
             0.3,
             "#f1b6da"
            ],
            [
             0.4,
             "#fde0ef"
            ],
            [
             0.5,
             "#f7f7f7"
            ],
            [
             0.6,
             "#e6f5d0"
            ],
            [
             0.7,
             "#b8e186"
            ],
            [
             0.8,
             "#7fbc41"
            ],
            [
             0.9,
             "#4d9221"
            ],
            [
             1,
             "#276419"
            ]
           ],
           "sequential": [
            [
             0,
             "#0d0887"
            ],
            [
             0.1111111111111111,
             "#46039f"
            ],
            [
             0.2222222222222222,
             "#7201a8"
            ],
            [
             0.3333333333333333,
             "#9c179e"
            ],
            [
             0.4444444444444444,
             "#bd3786"
            ],
            [
             0.5555555555555556,
             "#d8576b"
            ],
            [
             0.6666666666666666,
             "#ed7953"
            ],
            [
             0.7777777777777778,
             "#fb9f3a"
            ],
            [
             0.8888888888888888,
             "#fdca26"
            ],
            [
             1,
             "#f0f921"
            ]
           ],
           "sequentialminus": [
            [
             0,
             "#0d0887"
            ],
            [
             0.1111111111111111,
             "#46039f"
            ],
            [
             0.2222222222222222,
             "#7201a8"
            ],
            [
             0.3333333333333333,
             "#9c179e"
            ],
            [
             0.4444444444444444,
             "#bd3786"
            ],
            [
             0.5555555555555556,
             "#d8576b"
            ],
            [
             0.6666666666666666,
             "#ed7953"
            ],
            [
             0.7777777777777778,
             "#fb9f3a"
            ],
            [
             0.8888888888888888,
             "#fdca26"
            ],
            [
             1,
             "#f0f921"
            ]
           ]
          },
          "colorway": [
           "#636efa",
           "#EF553B",
           "#00cc96",
           "#ab63fa",
           "#FFA15A",
           "#19d3f3",
           "#FF6692",
           "#B6E880",
           "#FF97FF",
           "#FECB52"
          ],
          "font": {
           "color": "#2a3f5f"
          },
          "geo": {
           "bgcolor": "white",
           "lakecolor": "white",
           "landcolor": "#E5ECF6",
           "showlakes": true,
           "showland": true,
           "subunitcolor": "white"
          },
          "hoverlabel": {
           "align": "left"
          },
          "hovermode": "closest",
          "mapbox": {
           "style": "light"
          },
          "paper_bgcolor": "white",
          "plot_bgcolor": "#E5ECF6",
          "polar": {
           "angularaxis": {
            "gridcolor": "white",
            "linecolor": "white",
            "ticks": ""
           },
           "bgcolor": "#E5ECF6",
           "radialaxis": {
            "gridcolor": "white",
            "linecolor": "white",
            "ticks": ""
           }
          },
          "scene": {
           "xaxis": {
            "backgroundcolor": "#E5ECF6",
            "gridcolor": "white",
            "gridwidth": 2,
            "linecolor": "white",
            "showbackground": true,
            "ticks": "",
            "zerolinecolor": "white"
           },
           "yaxis": {
            "backgroundcolor": "#E5ECF6",
            "gridcolor": "white",
            "gridwidth": 2,
            "linecolor": "white",
            "showbackground": true,
            "ticks": "",
            "zerolinecolor": "white"
           },
           "zaxis": {
            "backgroundcolor": "#E5ECF6",
            "gridcolor": "white",
            "gridwidth": 2,
            "linecolor": "white",
            "showbackground": true,
            "ticks": "",
            "zerolinecolor": "white"
           }
          },
          "shapedefaults": {
           "line": {
            "color": "#2a3f5f"
           }
          },
          "ternary": {
           "aaxis": {
            "gridcolor": "white",
            "linecolor": "white",
            "ticks": ""
           },
           "baxis": {
            "gridcolor": "white",
            "linecolor": "white",
            "ticks": ""
           },
           "bgcolor": "#E5ECF6",
           "caxis": {
            "gridcolor": "white",
            "linecolor": "white",
            "ticks": ""
           }
          },
          "title": {
           "x": 0.05
          },
          "xaxis": {
           "automargin": true,
           "gridcolor": "white",
           "linecolor": "white",
           "ticks": "",
           "title": {
            "standoff": 15
           },
           "zerolinecolor": "white",
           "zerolinewidth": 2
          },
          "yaxis": {
           "automargin": true,
           "gridcolor": "white",
           "linecolor": "white",
           "ticks": "",
           "title": {
            "standoff": 15
           },
           "zerolinecolor": "white",
           "zerolinewidth": 2
          }
         }
        },
        "title": {
         "text": "Transportation - Actual VS Prediction: Period 2"
        },
        "xaxis": {
         "anchor": "y",
         "domain": [
          0,
          1
         ],
         "title": {
          "text": "Date"
         }
        },
        "yaxis": {
         "anchor": "x",
         "domain": [
          0,
          1
         ],
         "title": {
          "text": "value"
         }
        }
       }
      }
     },
     "metadata": {},
     "output_type": "display_data"
    },
    {
     "data": {
      "application/vnd.plotly.v1+json": {
       "config": {
        "plotlyServerURL": "https://plot.ly"
       },
       "data": [
        {
         "hovertemplate": "variable=Actual - Period 2<br>Date=%{x}<br>value=%{y}<extra></extra>",
         "legendgroup": "Actual - Period 2",
         "line": {
          "color": "#636efa",
          "dash": "solid"
         },
         "marker": {
          "symbol": "circle"
         },
         "mode": "lines",
         "name": "Actual - Period 2",
         "orientation": "v",
         "showlegend": true,
         "type": "scatter",
         "x": [
          "2020-01-15",
          "2020-02-15",
          "2020-03-15",
          "2020-04-15",
          "2020-05-15",
          "2020-06-15",
          "2020-07-15",
          "2020-08-15",
          "2020-09-15",
          "2020-10-15",
          "2020-11-15",
          "2020-12-15",
          "2021-01-15",
          "2021-02-15",
          "2021-03-15",
          "2021-04-15",
          "2021-05-15",
          "2021-06-15",
          "2021-07-15",
          "2021-08-15",
          "2021-09-15",
          "2021-10-15",
          "2021-11-15",
          "2021-12-15",
          "2022-01-15",
          "2022-02-15",
          "2022-03-15",
          "2022-04-15",
          "2022-05-15",
          "2022-06-15",
          "2022-07-15",
          "2022-08-15"
         ],
         "xaxis": "x",
         "y": [
          0.5868520280466711,
          1.8752483597267204,
          0.001372730704579577,
          0.2130023613939328,
          -0.17869021661690082,
          0.4591057798954923,
          -0.5803947531212105,
          0.29039012684654436,
          -0.5843818582485139,
          0.6884425149142794,
          -0.19314589428179496,
          0.07629838978492227,
          0.014156770270678763,
          0.1181992776401462,
          0.024170286626779027,
          0.17540147506065656,
          0.7934246660967929,
          0.5970247627863853,
          1.140864799808042,
          1.186343549265872,
          1.023645072023984,
          0.5972854334726757,
          1.5041484138577381,
          0.752112499557739,
          1.9560709732628694,
          0.7308584940261424,
          1.5583608964982998,
          1.7707025850133653,
          1.8171653707630513,
          1.1195710082825836,
          null,
          null
         ],
         "yaxis": "y"
        },
        {
         "hovertemplate": "variable=Prediction - Period 2<br>Date=%{x}<br>value=%{y}<extra></extra>",
         "legendgroup": "Prediction - Period 2",
         "line": {
          "color": "#EF553B",
          "dash": "solid"
         },
         "marker": {
          "symbol": "circle"
         },
         "mode": "lines",
         "name": "Prediction - Period 2",
         "orientation": "v",
         "showlegend": true,
         "type": "scatter",
         "x": [
          "2020-01-15",
          "2020-02-15",
          "2020-03-15",
          "2020-04-15",
          "2020-05-15",
          "2020-06-15",
          "2020-07-15",
          "2020-08-15",
          "2020-09-15",
          "2020-10-15",
          "2020-11-15",
          "2020-12-15",
          "2021-01-15",
          "2021-02-15",
          "2021-03-15",
          "2021-04-15",
          "2021-05-15",
          "2021-06-15",
          "2021-07-15",
          "2021-08-15",
          "2021-09-15",
          "2021-10-15",
          "2021-11-15",
          "2021-12-15",
          "2022-01-15",
          "2022-02-15",
          "2022-03-15",
          "2022-04-15",
          "2022-05-15",
          "2022-06-15",
          "2022-07-15",
          "2022-08-15"
         ],
         "xaxis": "x",
         "y": [
          0.044880323112010956,
          0.024471834301948547,
          -0.1043844074010849,
          0.07681185007095337,
          0.2083038091659546,
          0.1081053838133812,
          0.058069080114364624,
          0.20278026163578033,
          0.20269830524921417,
          0.4118797779083252,
          0.20594097673892975,
          0.16063708066940308,
          0.13355734944343567,
          0.331393301486969,
          0.09883882850408554,
          -0.12704476714134216,
          0.07860992103815079,
          0.05010940134525299,
          0.03731856495141983,
          0.04153051972389221,
          -0.008848324418067932,
          0.16945502161979675,
          0.19629591703414917,
          0.5650076270103455,
          0.4722033143043518,
          0.46761399507522583,
          0.506763219833374,
          0.3878888487815857,
          0.3930727243423462,
          0.9703859686851501,
          0.525610625743866,
          null
         ],
         "yaxis": "y"
        }
       ],
       "layout": {
        "legend": {
         "title": {
          "text": "variable"
         },
         "tracegroupgap": 0
        },
        "template": {
         "data": {
          "bar": [
           {
            "error_x": {
             "color": "#2a3f5f"
            },
            "error_y": {
             "color": "#2a3f5f"
            },
            "marker": {
             "line": {
              "color": "#E5ECF6",
              "width": 0.5
             },
             "pattern": {
              "fillmode": "overlay",
              "size": 10,
              "solidity": 0.2
             }
            },
            "type": "bar"
           }
          ],
          "barpolar": [
           {
            "marker": {
             "line": {
              "color": "#E5ECF6",
              "width": 0.5
             },
             "pattern": {
              "fillmode": "overlay",
              "size": 10,
              "solidity": 0.2
             }
            },
            "type": "barpolar"
           }
          ],
          "carpet": [
           {
            "aaxis": {
             "endlinecolor": "#2a3f5f",
             "gridcolor": "white",
             "linecolor": "white",
             "minorgridcolor": "white",
             "startlinecolor": "#2a3f5f"
            },
            "baxis": {
             "endlinecolor": "#2a3f5f",
             "gridcolor": "white",
             "linecolor": "white",
             "minorgridcolor": "white",
             "startlinecolor": "#2a3f5f"
            },
            "type": "carpet"
           }
          ],
          "choropleth": [
           {
            "colorbar": {
             "outlinewidth": 0,
             "ticks": ""
            },
            "type": "choropleth"
           }
          ],
          "contour": [
           {
            "colorbar": {
             "outlinewidth": 0,
             "ticks": ""
            },
            "colorscale": [
             [
              0,
              "#0d0887"
             ],
             [
              0.1111111111111111,
              "#46039f"
             ],
             [
              0.2222222222222222,
              "#7201a8"
             ],
             [
              0.3333333333333333,
              "#9c179e"
             ],
             [
              0.4444444444444444,
              "#bd3786"
             ],
             [
              0.5555555555555556,
              "#d8576b"
             ],
             [
              0.6666666666666666,
              "#ed7953"
             ],
             [
              0.7777777777777778,
              "#fb9f3a"
             ],
             [
              0.8888888888888888,
              "#fdca26"
             ],
             [
              1,
              "#f0f921"
             ]
            ],
            "type": "contour"
           }
          ],
          "contourcarpet": [
           {
            "colorbar": {
             "outlinewidth": 0,
             "ticks": ""
            },
            "type": "contourcarpet"
           }
          ],
          "heatmap": [
           {
            "colorbar": {
             "outlinewidth": 0,
             "ticks": ""
            },
            "colorscale": [
             [
              0,
              "#0d0887"
             ],
             [
              0.1111111111111111,
              "#46039f"
             ],
             [
              0.2222222222222222,
              "#7201a8"
             ],
             [
              0.3333333333333333,
              "#9c179e"
             ],
             [
              0.4444444444444444,
              "#bd3786"
             ],
             [
              0.5555555555555556,
              "#d8576b"
             ],
             [
              0.6666666666666666,
              "#ed7953"
             ],
             [
              0.7777777777777778,
              "#fb9f3a"
             ],
             [
              0.8888888888888888,
              "#fdca26"
             ],
             [
              1,
              "#f0f921"
             ]
            ],
            "type": "heatmap"
           }
          ],
          "heatmapgl": [
           {
            "colorbar": {
             "outlinewidth": 0,
             "ticks": ""
            },
            "colorscale": [
             [
              0,
              "#0d0887"
             ],
             [
              0.1111111111111111,
              "#46039f"
             ],
             [
              0.2222222222222222,
              "#7201a8"
             ],
             [
              0.3333333333333333,
              "#9c179e"
             ],
             [
              0.4444444444444444,
              "#bd3786"
             ],
             [
              0.5555555555555556,
              "#d8576b"
             ],
             [
              0.6666666666666666,
              "#ed7953"
             ],
             [
              0.7777777777777778,
              "#fb9f3a"
             ],
             [
              0.8888888888888888,
              "#fdca26"
             ],
             [
              1,
              "#f0f921"
             ]
            ],
            "type": "heatmapgl"
           }
          ],
          "histogram": [
           {
            "marker": {
             "pattern": {
              "fillmode": "overlay",
              "size": 10,
              "solidity": 0.2
             }
            },
            "type": "histogram"
           }
          ],
          "histogram2d": [
           {
            "colorbar": {
             "outlinewidth": 0,
             "ticks": ""
            },
            "colorscale": [
             [
              0,
              "#0d0887"
             ],
             [
              0.1111111111111111,
              "#46039f"
             ],
             [
              0.2222222222222222,
              "#7201a8"
             ],
             [
              0.3333333333333333,
              "#9c179e"
             ],
             [
              0.4444444444444444,
              "#bd3786"
             ],
             [
              0.5555555555555556,
              "#d8576b"
             ],
             [
              0.6666666666666666,
              "#ed7953"
             ],
             [
              0.7777777777777778,
              "#fb9f3a"
             ],
             [
              0.8888888888888888,
              "#fdca26"
             ],
             [
              1,
              "#f0f921"
             ]
            ],
            "type": "histogram2d"
           }
          ],
          "histogram2dcontour": [
           {
            "colorbar": {
             "outlinewidth": 0,
             "ticks": ""
            },
            "colorscale": [
             [
              0,
              "#0d0887"
             ],
             [
              0.1111111111111111,
              "#46039f"
             ],
             [
              0.2222222222222222,
              "#7201a8"
             ],
             [
              0.3333333333333333,
              "#9c179e"
             ],
             [
              0.4444444444444444,
              "#bd3786"
             ],
             [
              0.5555555555555556,
              "#d8576b"
             ],
             [
              0.6666666666666666,
              "#ed7953"
             ],
             [
              0.7777777777777778,
              "#fb9f3a"
             ],
             [
              0.8888888888888888,
              "#fdca26"
             ],
             [
              1,
              "#f0f921"
             ]
            ],
            "type": "histogram2dcontour"
           }
          ],
          "mesh3d": [
           {
            "colorbar": {
             "outlinewidth": 0,
             "ticks": ""
            },
            "type": "mesh3d"
           }
          ],
          "parcoords": [
           {
            "line": {
             "colorbar": {
              "outlinewidth": 0,
              "ticks": ""
             }
            },
            "type": "parcoords"
           }
          ],
          "pie": [
           {
            "automargin": true,
            "type": "pie"
           }
          ],
          "scatter": [
           {
            "fillpattern": {
             "fillmode": "overlay",
             "size": 10,
             "solidity": 0.2
            },
            "type": "scatter"
           }
          ],
          "scatter3d": [
           {
            "line": {
             "colorbar": {
              "outlinewidth": 0,
              "ticks": ""
             }
            },
            "marker": {
             "colorbar": {
              "outlinewidth": 0,
              "ticks": ""
             }
            },
            "type": "scatter3d"
           }
          ],
          "scattercarpet": [
           {
            "marker": {
             "colorbar": {
              "outlinewidth": 0,
              "ticks": ""
             }
            },
            "type": "scattercarpet"
           }
          ],
          "scattergeo": [
           {
            "marker": {
             "colorbar": {
              "outlinewidth": 0,
              "ticks": ""
             }
            },
            "type": "scattergeo"
           }
          ],
          "scattergl": [
           {
            "marker": {
             "colorbar": {
              "outlinewidth": 0,
              "ticks": ""
             }
            },
            "type": "scattergl"
           }
          ],
          "scattermapbox": [
           {
            "marker": {
             "colorbar": {
              "outlinewidth": 0,
              "ticks": ""
             }
            },
            "type": "scattermapbox"
           }
          ],
          "scatterpolar": [
           {
            "marker": {
             "colorbar": {
              "outlinewidth": 0,
              "ticks": ""
             }
            },
            "type": "scatterpolar"
           }
          ],
          "scatterpolargl": [
           {
            "marker": {
             "colorbar": {
              "outlinewidth": 0,
              "ticks": ""
             }
            },
            "type": "scatterpolargl"
           }
          ],
          "scatterternary": [
           {
            "marker": {
             "colorbar": {
              "outlinewidth": 0,
              "ticks": ""
             }
            },
            "type": "scatterternary"
           }
          ],
          "surface": [
           {
            "colorbar": {
             "outlinewidth": 0,
             "ticks": ""
            },
            "colorscale": [
             [
              0,
              "#0d0887"
             ],
             [
              0.1111111111111111,
              "#46039f"
             ],
             [
              0.2222222222222222,
              "#7201a8"
             ],
             [
              0.3333333333333333,
              "#9c179e"
             ],
             [
              0.4444444444444444,
              "#bd3786"
             ],
             [
              0.5555555555555556,
              "#d8576b"
             ],
             [
              0.6666666666666666,
              "#ed7953"
             ],
             [
              0.7777777777777778,
              "#fb9f3a"
             ],
             [
              0.8888888888888888,
              "#fdca26"
             ],
             [
              1,
              "#f0f921"
             ]
            ],
            "type": "surface"
           }
          ],
          "table": [
           {
            "cells": {
             "fill": {
              "color": "#EBF0F8"
             },
             "line": {
              "color": "white"
             }
            },
            "header": {
             "fill": {
              "color": "#C8D4E3"
             },
             "line": {
              "color": "white"
             }
            },
            "type": "table"
           }
          ]
         },
         "layout": {
          "annotationdefaults": {
           "arrowcolor": "#2a3f5f",
           "arrowhead": 0,
           "arrowwidth": 1
          },
          "autotypenumbers": "strict",
          "coloraxis": {
           "colorbar": {
            "outlinewidth": 0,
            "ticks": ""
           }
          },
          "colorscale": {
           "diverging": [
            [
             0,
             "#8e0152"
            ],
            [
             0.1,
             "#c51b7d"
            ],
            [
             0.2,
             "#de77ae"
            ],
            [
             0.3,
             "#f1b6da"
            ],
            [
             0.4,
             "#fde0ef"
            ],
            [
             0.5,
             "#f7f7f7"
            ],
            [
             0.6,
             "#e6f5d0"
            ],
            [
             0.7,
             "#b8e186"
            ],
            [
             0.8,
             "#7fbc41"
            ],
            [
             0.9,
             "#4d9221"
            ],
            [
             1,
             "#276419"
            ]
           ],
           "sequential": [
            [
             0,
             "#0d0887"
            ],
            [
             0.1111111111111111,
             "#46039f"
            ],
            [
             0.2222222222222222,
             "#7201a8"
            ],
            [
             0.3333333333333333,
             "#9c179e"
            ],
            [
             0.4444444444444444,
             "#bd3786"
            ],
            [
             0.5555555555555556,
             "#d8576b"
            ],
            [
             0.6666666666666666,
             "#ed7953"
            ],
            [
             0.7777777777777778,
             "#fb9f3a"
            ],
            [
             0.8888888888888888,
             "#fdca26"
            ],
            [
             1,
             "#f0f921"
            ]
           ],
           "sequentialminus": [
            [
             0,
             "#0d0887"
            ],
            [
             0.1111111111111111,
             "#46039f"
            ],
            [
             0.2222222222222222,
             "#7201a8"
            ],
            [
             0.3333333333333333,
             "#9c179e"
            ],
            [
             0.4444444444444444,
             "#bd3786"
            ],
            [
             0.5555555555555556,
             "#d8576b"
            ],
            [
             0.6666666666666666,
             "#ed7953"
            ],
            [
             0.7777777777777778,
             "#fb9f3a"
            ],
            [
             0.8888888888888888,
             "#fdca26"
            ],
            [
             1,
             "#f0f921"
            ]
           ]
          },
          "colorway": [
           "#636efa",
           "#EF553B",
           "#00cc96",
           "#ab63fa",
           "#FFA15A",
           "#19d3f3",
           "#FF6692",
           "#B6E880",
           "#FF97FF",
           "#FECB52"
          ],
          "font": {
           "color": "#2a3f5f"
          },
          "geo": {
           "bgcolor": "white",
           "lakecolor": "white",
           "landcolor": "#E5ECF6",
           "showlakes": true,
           "showland": true,
           "subunitcolor": "white"
          },
          "hoverlabel": {
           "align": "left"
          },
          "hovermode": "closest",
          "mapbox": {
           "style": "light"
          },
          "paper_bgcolor": "white",
          "plot_bgcolor": "#E5ECF6",
          "polar": {
           "angularaxis": {
            "gridcolor": "white",
            "linecolor": "white",
            "ticks": ""
           },
           "bgcolor": "#E5ECF6",
           "radialaxis": {
            "gridcolor": "white",
            "linecolor": "white",
            "ticks": ""
           }
          },
          "scene": {
           "xaxis": {
            "backgroundcolor": "#E5ECF6",
            "gridcolor": "white",
            "gridwidth": 2,
            "linecolor": "white",
            "showbackground": true,
            "ticks": "",
            "zerolinecolor": "white"
           },
           "yaxis": {
            "backgroundcolor": "#E5ECF6",
            "gridcolor": "white",
            "gridwidth": 2,
            "linecolor": "white",
            "showbackground": true,
            "ticks": "",
            "zerolinecolor": "white"
           },
           "zaxis": {
            "backgroundcolor": "#E5ECF6",
            "gridcolor": "white",
            "gridwidth": 2,
            "linecolor": "white",
            "showbackground": true,
            "ticks": "",
            "zerolinecolor": "white"
           }
          },
          "shapedefaults": {
           "line": {
            "color": "#2a3f5f"
           }
          },
          "ternary": {
           "aaxis": {
            "gridcolor": "white",
            "linecolor": "white",
            "ticks": ""
           },
           "baxis": {
            "gridcolor": "white",
            "linecolor": "white",
            "ticks": ""
           },
           "bgcolor": "#E5ECF6",
           "caxis": {
            "gridcolor": "white",
            "linecolor": "white",
            "ticks": ""
           }
          },
          "title": {
           "x": 0.05
          },
          "xaxis": {
           "automargin": true,
           "gridcolor": "white",
           "linecolor": "white",
           "ticks": "",
           "title": {
            "standoff": 15
           },
           "zerolinecolor": "white",
           "zerolinewidth": 2
          },
          "yaxis": {
           "automargin": true,
           "gridcolor": "white",
           "linecolor": "white",
           "ticks": "",
           "title": {
            "standoff": 15
           },
           "zerolinecolor": "white",
           "zerolinewidth": 2
          }
         }
        },
        "title": {
         "text": "Other food at home - Actual VS Prediction: Period 2"
        },
        "xaxis": {
         "anchor": "y",
         "domain": [
          0,
          1
         ],
         "title": {
          "text": "Date"
         }
        },
        "yaxis": {
         "anchor": "x",
         "domain": [
          0,
          1
         ],
         "title": {
          "text": "value"
         }
        }
       }
      }
     },
     "metadata": {},
     "output_type": "display_data"
    },
    {
     "data": {
      "application/vnd.plotly.v1+json": {
       "config": {
        "plotlyServerURL": "https://plot.ly"
       },
       "data": [
        {
         "hovertemplate": "variable=Actual - Period 2<br>Date=%{x}<br>value=%{y}<extra></extra>",
         "legendgroup": "Actual - Period 2",
         "line": {
          "color": "#636efa",
          "dash": "solid"
         },
         "marker": {
          "symbol": "circle"
         },
         "mode": "lines",
         "name": "Actual - Period 2",
         "orientation": "v",
         "showlegend": true,
         "type": "scatter",
         "x": [
          "2020-01-15",
          "2020-02-15",
          "2020-03-15",
          "2020-04-15",
          "2020-05-15",
          "2020-06-15",
          "2020-07-15",
          "2020-08-15",
          "2020-09-15",
          "2020-10-15",
          "2020-11-15",
          "2020-12-15",
          "2021-01-15",
          "2021-02-15",
          "2021-03-15",
          "2021-04-15",
          "2021-05-15",
          "2021-06-15",
          "2021-07-15",
          "2021-08-15",
          "2021-09-15",
          "2021-10-15",
          "2021-11-15",
          "2021-12-15",
          "2022-01-15",
          "2022-02-15",
          "2022-03-15",
          "2022-04-15",
          "2022-05-15",
          "2022-06-15",
          "2022-07-15",
          "2022-08-15"
         ],
         "xaxis": "x",
         "y": [
          -0.9155981018218009,
          -1.8947436301713843,
          -0.42712219522752276,
          0.8346129009947731,
          1.0791806289665862,
          0.5992224546954447,
          0.3467314340244337,
          -0.036671294645709174,
          0.29691272049538603,
          0.5175936556579347,
          0.22279865846496918,
          0.5223834579516613,
          0.9502468494387767,
          1.0976789007082555,
          0.9089561442926238,
          1.1857584062990578,
          0.43500248645522005,
          0.3116084785997233,
          0.2845184730502064,
          1.2421915242940367,
          0.9593640955556226,
          0.49314164405265337,
          0.7694933767433083,
          0.9075163456756128,
          1.7304157285704675,
          0.09251209362849046,
          1.1353917059178682,
          1.8145988880055075,
          -0.6259538175117821,
          -0.3925145659047752,
          null,
          null
         ],
         "yaxis": "y"
        },
        {
         "hovertemplate": "variable=Prediction - Period 2<br>Date=%{x}<br>value=%{y}<extra></extra>",
         "legendgroup": "Prediction - Period 2",
         "line": {
          "color": "#EF553B",
          "dash": "solid"
         },
         "marker": {
          "symbol": "circle"
         },
         "mode": "lines",
         "name": "Prediction - Period 2",
         "orientation": "v",
         "showlegend": true,
         "type": "scatter",
         "x": [
          "2020-01-15",
          "2020-02-15",
          "2020-03-15",
          "2020-04-15",
          "2020-05-15",
          "2020-06-15",
          "2020-07-15",
          "2020-08-15",
          "2020-09-15",
          "2020-10-15",
          "2020-11-15",
          "2020-12-15",
          "2021-01-15",
          "2021-02-15",
          "2021-03-15",
          "2021-04-15",
          "2021-05-15",
          "2021-06-15",
          "2021-07-15",
          "2021-08-15",
          "2021-09-15",
          "2021-10-15",
          "2021-11-15",
          "2021-12-15",
          "2022-01-15",
          "2022-02-15",
          "2022-03-15",
          "2022-04-15",
          "2022-05-15",
          "2022-06-15",
          "2022-07-15",
          "2022-08-15"
         ],
         "xaxis": "x",
         "y": [
          0.11225184053182602,
          0.10736124962568283,
          -0.20465362071990967,
          -0.22170281410217285,
          -0.8049474358558655,
          0.13143090903759003,
          0.36788713932037354,
          0.2195156216621399,
          0.1539819836616516,
          0.18765369057655334,
          -0.019887156784534454,
          -0.01268160343170166,
          0.056345969438552856,
          0.17558220028877258,
          0.23098888993263245,
          -0.21099123358726501,
          -0.07837209850549698,
          0.5410783290863037,
          0.5038866400718689,
          0.9198392033576965,
          0.3880865275859833,
          0.15103194117546082,
          0.4003922939300537,
          0.6617764830589294,
          0.4445968270301819,
          0.4197970926761627,
          0.748543381690979,
          0.4631766974925995,
          0.3898775279521942,
          0.8413119912147522,
          0.22761759161949158,
          null
         ],
         "yaxis": "y"
        }
       ],
       "layout": {
        "legend": {
         "title": {
          "text": "variable"
         },
         "tracegroupgap": 0
        },
        "template": {
         "data": {
          "bar": [
           {
            "error_x": {
             "color": "#2a3f5f"
            },
            "error_y": {
             "color": "#2a3f5f"
            },
            "marker": {
             "line": {
              "color": "#E5ECF6",
              "width": 0.5
             },
             "pattern": {
              "fillmode": "overlay",
              "size": 10,
              "solidity": 0.2
             }
            },
            "type": "bar"
           }
          ],
          "barpolar": [
           {
            "marker": {
             "line": {
              "color": "#E5ECF6",
              "width": 0.5
             },
             "pattern": {
              "fillmode": "overlay",
              "size": 10,
              "solidity": 0.2
             }
            },
            "type": "barpolar"
           }
          ],
          "carpet": [
           {
            "aaxis": {
             "endlinecolor": "#2a3f5f",
             "gridcolor": "white",
             "linecolor": "white",
             "minorgridcolor": "white",
             "startlinecolor": "#2a3f5f"
            },
            "baxis": {
             "endlinecolor": "#2a3f5f",
             "gridcolor": "white",
             "linecolor": "white",
             "minorgridcolor": "white",
             "startlinecolor": "#2a3f5f"
            },
            "type": "carpet"
           }
          ],
          "choropleth": [
           {
            "colorbar": {
             "outlinewidth": 0,
             "ticks": ""
            },
            "type": "choropleth"
           }
          ],
          "contour": [
           {
            "colorbar": {
             "outlinewidth": 0,
             "ticks": ""
            },
            "colorscale": [
             [
              0,
              "#0d0887"
             ],
             [
              0.1111111111111111,
              "#46039f"
             ],
             [
              0.2222222222222222,
              "#7201a8"
             ],
             [
              0.3333333333333333,
              "#9c179e"
             ],
             [
              0.4444444444444444,
              "#bd3786"
             ],
             [
              0.5555555555555556,
              "#d8576b"
             ],
             [
              0.6666666666666666,
              "#ed7953"
             ],
             [
              0.7777777777777778,
              "#fb9f3a"
             ],
             [
              0.8888888888888888,
              "#fdca26"
             ],
             [
              1,
              "#f0f921"
             ]
            ],
            "type": "contour"
           }
          ],
          "contourcarpet": [
           {
            "colorbar": {
             "outlinewidth": 0,
             "ticks": ""
            },
            "type": "contourcarpet"
           }
          ],
          "heatmap": [
           {
            "colorbar": {
             "outlinewidth": 0,
             "ticks": ""
            },
            "colorscale": [
             [
              0,
              "#0d0887"
             ],
             [
              0.1111111111111111,
              "#46039f"
             ],
             [
              0.2222222222222222,
              "#7201a8"
             ],
             [
              0.3333333333333333,
              "#9c179e"
             ],
             [
              0.4444444444444444,
              "#bd3786"
             ],
             [
              0.5555555555555556,
              "#d8576b"
             ],
             [
              0.6666666666666666,
              "#ed7953"
             ],
             [
              0.7777777777777778,
              "#fb9f3a"
             ],
             [
              0.8888888888888888,
              "#fdca26"
             ],
             [
              1,
              "#f0f921"
             ]
            ],
            "type": "heatmap"
           }
          ],
          "heatmapgl": [
           {
            "colorbar": {
             "outlinewidth": 0,
             "ticks": ""
            },
            "colorscale": [
             [
              0,
              "#0d0887"
             ],
             [
              0.1111111111111111,
              "#46039f"
             ],
             [
              0.2222222222222222,
              "#7201a8"
             ],
             [
              0.3333333333333333,
              "#9c179e"
             ],
             [
              0.4444444444444444,
              "#bd3786"
             ],
             [
              0.5555555555555556,
              "#d8576b"
             ],
             [
              0.6666666666666666,
              "#ed7953"
             ],
             [
              0.7777777777777778,
              "#fb9f3a"
             ],
             [
              0.8888888888888888,
              "#fdca26"
             ],
             [
              1,
              "#f0f921"
             ]
            ],
            "type": "heatmapgl"
           }
          ],
          "histogram": [
           {
            "marker": {
             "pattern": {
              "fillmode": "overlay",
              "size": 10,
              "solidity": 0.2
             }
            },
            "type": "histogram"
           }
          ],
          "histogram2d": [
           {
            "colorbar": {
             "outlinewidth": 0,
             "ticks": ""
            },
            "colorscale": [
             [
              0,
              "#0d0887"
             ],
             [
              0.1111111111111111,
              "#46039f"
             ],
             [
              0.2222222222222222,
              "#7201a8"
             ],
             [
              0.3333333333333333,
              "#9c179e"
             ],
             [
              0.4444444444444444,
              "#bd3786"
             ],
             [
              0.5555555555555556,
              "#d8576b"
             ],
             [
              0.6666666666666666,
              "#ed7953"
             ],
             [
              0.7777777777777778,
              "#fb9f3a"
             ],
             [
              0.8888888888888888,
              "#fdca26"
             ],
             [
              1,
              "#f0f921"
             ]
            ],
            "type": "histogram2d"
           }
          ],
          "histogram2dcontour": [
           {
            "colorbar": {
             "outlinewidth": 0,
             "ticks": ""
            },
            "colorscale": [
             [
              0,
              "#0d0887"
             ],
             [
              0.1111111111111111,
              "#46039f"
             ],
             [
              0.2222222222222222,
              "#7201a8"
             ],
             [
              0.3333333333333333,
              "#9c179e"
             ],
             [
              0.4444444444444444,
              "#bd3786"
             ],
             [
              0.5555555555555556,
              "#d8576b"
             ],
             [
              0.6666666666666666,
              "#ed7953"
             ],
             [
              0.7777777777777778,
              "#fb9f3a"
             ],
             [
              0.8888888888888888,
              "#fdca26"
             ],
             [
              1,
              "#f0f921"
             ]
            ],
            "type": "histogram2dcontour"
           }
          ],
          "mesh3d": [
           {
            "colorbar": {
             "outlinewidth": 0,
             "ticks": ""
            },
            "type": "mesh3d"
           }
          ],
          "parcoords": [
           {
            "line": {
             "colorbar": {
              "outlinewidth": 0,
              "ticks": ""
             }
            },
            "type": "parcoords"
           }
          ],
          "pie": [
           {
            "automargin": true,
            "type": "pie"
           }
          ],
          "scatter": [
           {
            "fillpattern": {
             "fillmode": "overlay",
             "size": 10,
             "solidity": 0.2
            },
            "type": "scatter"
           }
          ],
          "scatter3d": [
           {
            "line": {
             "colorbar": {
              "outlinewidth": 0,
              "ticks": ""
             }
            },
            "marker": {
             "colorbar": {
              "outlinewidth": 0,
              "ticks": ""
             }
            },
            "type": "scatter3d"
           }
          ],
          "scattercarpet": [
           {
            "marker": {
             "colorbar": {
              "outlinewidth": 0,
              "ticks": ""
             }
            },
            "type": "scattercarpet"
           }
          ],
          "scattergeo": [
           {
            "marker": {
             "colorbar": {
              "outlinewidth": 0,
              "ticks": ""
             }
            },
            "type": "scattergeo"
           }
          ],
          "scattergl": [
           {
            "marker": {
             "colorbar": {
              "outlinewidth": 0,
              "ticks": ""
             }
            },
            "type": "scattergl"
           }
          ],
          "scattermapbox": [
           {
            "marker": {
             "colorbar": {
              "outlinewidth": 0,
              "ticks": ""
             }
            },
            "type": "scattermapbox"
           }
          ],
          "scatterpolar": [
           {
            "marker": {
             "colorbar": {
              "outlinewidth": 0,
              "ticks": ""
             }
            },
            "type": "scatterpolar"
           }
          ],
          "scatterpolargl": [
           {
            "marker": {
             "colorbar": {
              "outlinewidth": 0,
              "ticks": ""
             }
            },
            "type": "scatterpolargl"
           }
          ],
          "scatterternary": [
           {
            "marker": {
             "colorbar": {
              "outlinewidth": 0,
              "ticks": ""
             }
            },
            "type": "scatterternary"
           }
          ],
          "surface": [
           {
            "colorbar": {
             "outlinewidth": 0,
             "ticks": ""
            },
            "colorscale": [
             [
              0,
              "#0d0887"
             ],
             [
              0.1111111111111111,
              "#46039f"
             ],
             [
              0.2222222222222222,
              "#7201a8"
             ],
             [
              0.3333333333333333,
              "#9c179e"
             ],
             [
              0.4444444444444444,
              "#bd3786"
             ],
             [
              0.5555555555555556,
              "#d8576b"
             ],
             [
              0.6666666666666666,
              "#ed7953"
             ],
             [
              0.7777777777777778,
              "#fb9f3a"
             ],
             [
              0.8888888888888888,
              "#fdca26"
             ],
             [
              1,
              "#f0f921"
             ]
            ],
            "type": "surface"
           }
          ],
          "table": [
           {
            "cells": {
             "fill": {
              "color": "#EBF0F8"
             },
             "line": {
              "color": "white"
             }
            },
            "header": {
             "fill": {
              "color": "#C8D4E3"
             },
             "line": {
              "color": "white"
             }
            },
            "type": "table"
           }
          ]
         },
         "layout": {
          "annotationdefaults": {
           "arrowcolor": "#2a3f5f",
           "arrowhead": 0,
           "arrowwidth": 1
          },
          "autotypenumbers": "strict",
          "coloraxis": {
           "colorbar": {
            "outlinewidth": 0,
            "ticks": ""
           }
          },
          "colorscale": {
           "diverging": [
            [
             0,
             "#8e0152"
            ],
            [
             0.1,
             "#c51b7d"
            ],
            [
             0.2,
             "#de77ae"
            ],
            [
             0.3,
             "#f1b6da"
            ],
            [
             0.4,
             "#fde0ef"
            ],
            [
             0.5,
             "#f7f7f7"
            ],
            [
             0.6,
             "#e6f5d0"
            ],
            [
             0.7,
             "#b8e186"
            ],
            [
             0.8,
             "#7fbc41"
            ],
            [
             0.9,
             "#4d9221"
            ],
            [
             1,
             "#276419"
            ]
           ],
           "sequential": [
            [
             0,
             "#0d0887"
            ],
            [
             0.1111111111111111,
             "#46039f"
            ],
            [
             0.2222222222222222,
             "#7201a8"
            ],
            [
             0.3333333333333333,
             "#9c179e"
            ],
            [
             0.4444444444444444,
             "#bd3786"
            ],
            [
             0.5555555555555556,
             "#d8576b"
            ],
            [
             0.6666666666666666,
             "#ed7953"
            ],
            [
             0.7777777777777778,
             "#fb9f3a"
            ],
            [
             0.8888888888888888,
             "#fdca26"
            ],
            [
             1,
             "#f0f921"
            ]
           ],
           "sequentialminus": [
            [
             0,
             "#0d0887"
            ],
            [
             0.1111111111111111,
             "#46039f"
            ],
            [
             0.2222222222222222,
             "#7201a8"
            ],
            [
             0.3333333333333333,
             "#9c179e"
            ],
            [
             0.4444444444444444,
             "#bd3786"
            ],
            [
             0.5555555555555556,
             "#d8576b"
            ],
            [
             0.6666666666666666,
             "#ed7953"
            ],
            [
             0.7777777777777778,
             "#fb9f3a"
            ],
            [
             0.8888888888888888,
             "#fdca26"
            ],
            [
             1,
             "#f0f921"
            ]
           ]
          },
          "colorway": [
           "#636efa",
           "#EF553B",
           "#00cc96",
           "#ab63fa",
           "#FFA15A",
           "#19d3f3",
           "#FF6692",
           "#B6E880",
           "#FF97FF",
           "#FECB52"
          ],
          "font": {
           "color": "#2a3f5f"
          },
          "geo": {
           "bgcolor": "white",
           "lakecolor": "white",
           "landcolor": "#E5ECF6",
           "showlakes": true,
           "showland": true,
           "subunitcolor": "white"
          },
          "hoverlabel": {
           "align": "left"
          },
          "hovermode": "closest",
          "mapbox": {
           "style": "light"
          },
          "paper_bgcolor": "white",
          "plot_bgcolor": "#E5ECF6",
          "polar": {
           "angularaxis": {
            "gridcolor": "white",
            "linecolor": "white",
            "ticks": ""
           },
           "bgcolor": "#E5ECF6",
           "radialaxis": {
            "gridcolor": "white",
            "linecolor": "white",
            "ticks": ""
           }
          },
          "scene": {
           "xaxis": {
            "backgroundcolor": "#E5ECF6",
            "gridcolor": "white",
            "gridwidth": 2,
            "linecolor": "white",
            "showbackground": true,
            "ticks": "",
            "zerolinecolor": "white"
           },
           "yaxis": {
            "backgroundcolor": "#E5ECF6",
            "gridcolor": "white",
            "gridwidth": 2,
            "linecolor": "white",
            "showbackground": true,
            "ticks": "",
            "zerolinecolor": "white"
           },
           "zaxis": {
            "backgroundcolor": "#E5ECF6",
            "gridcolor": "white",
            "gridwidth": 2,
            "linecolor": "white",
            "showbackground": true,
            "ticks": "",
            "zerolinecolor": "white"
           }
          },
          "shapedefaults": {
           "line": {
            "color": "#2a3f5f"
           }
          },
          "ternary": {
           "aaxis": {
            "gridcolor": "white",
            "linecolor": "white",
            "ticks": ""
           },
           "baxis": {
            "gridcolor": "white",
            "linecolor": "white",
            "ticks": ""
           },
           "bgcolor": "#E5ECF6",
           "caxis": {
            "gridcolor": "white",
            "linecolor": "white",
            "ticks": ""
           }
          },
          "title": {
           "x": 0.05
          },
          "xaxis": {
           "automargin": true,
           "gridcolor": "white",
           "linecolor": "white",
           "ticks": "",
           "title": {
            "standoff": 15
           },
           "zerolinecolor": "white",
           "zerolinewidth": 2
          },
          "yaxis": {
           "automargin": true,
           "gridcolor": "white",
           "linecolor": "white",
           "ticks": "",
           "title": {
            "standoff": 15
           },
           "zerolinecolor": "white",
           "zerolinewidth": 2
          }
         }
        },
        "title": {
         "text": "All items less food and shelter - Actual VS Prediction: Period 2"
        },
        "xaxis": {
         "anchor": "y",
         "domain": [
          0,
          1
         ],
         "title": {
          "text": "Date"
         }
        },
        "yaxis": {
         "anchor": "x",
         "domain": [
          0,
          1
         ],
         "title": {
          "text": "value"
         }
        }
       }
      }
     },
     "metadata": {},
     "output_type": "display_data"
    },
    {
     "data": {
      "application/vnd.plotly.v1+json": {
       "config": {
        "plotlyServerURL": "https://plot.ly"
       },
       "data": [
        {
         "hovertemplate": "variable=Actual - Period 2<br>Date=%{x}<br>value=%{y}<extra></extra>",
         "legendgroup": "Actual - Period 2",
         "line": {
          "color": "#636efa",
          "dash": "solid"
         },
         "marker": {
          "symbol": "circle"
         },
         "mode": "lines",
         "name": "Actual - Period 2",
         "orientation": "v",
         "showlegend": true,
         "type": "scatter",
         "x": [
          "2020-01-15",
          "2020-02-15",
          "2020-03-15",
          "2020-04-15",
          "2020-05-15",
          "2020-06-15",
          "2020-07-15",
          "2020-08-15",
          "2020-09-15",
          "2020-10-15",
          "2020-11-15",
          "2020-12-15",
          "2021-01-15",
          "2021-02-15",
          "2021-03-15",
          "2021-04-15",
          "2021-05-15",
          "2021-06-15",
          "2021-07-15",
          "2021-08-15",
          "2021-09-15",
          "2021-10-15",
          "2021-11-15",
          "2021-12-15",
          "2022-01-15",
          "2022-02-15",
          "2022-03-15",
          "2022-04-15",
          "2022-05-15",
          "2022-06-15",
          "2022-07-15",
          "2022-08-15"
         ],
         "xaxis": "x",
         "y": [
          -0.10728914495865789,
          -0.39704629676956665,
          -0.1773282797473214,
          0.18180542869962088,
          0.5555268658057169,
          0.16110508200920445,
          0.11296818735582971,
          0.19928687896704705,
          0.34850892248466053,
          0.09331917408781333,
          -0.21735401442366156,
          0.25043618611308305,
          0.4344074601372575,
          0.7897819802046541,
          0.4629012657262937,
          0.4552184051533065,
          0.2983353633999525,
          0.05808566415546055,
          0.3165724502060211,
          0.5427682832573196,
          0.3096166028677067,
          0.3077527250052084,
          0.6202005420640933,
          0.5715149861737666,
          0.6907445112677835,
          0.7626926120973193,
          0.7876391989081821,
          0.8163072815930381,
          0.3195182429103071,
          0.6931632557266485,
          null,
          null
         ],
         "yaxis": "y"
        },
        {
         "hovertemplate": "variable=Prediction - Period 2<br>Date=%{x}<br>value=%{y}<extra></extra>",
         "legendgroup": "Prediction - Period 2",
         "line": {
          "color": "#EF553B",
          "dash": "solid"
         },
         "marker": {
          "symbol": "circle"
         },
         "mode": "lines",
         "name": "Prediction - Period 2",
         "orientation": "v",
         "showlegend": true,
         "type": "scatter",
         "x": [
          "2020-01-15",
          "2020-02-15",
          "2020-03-15",
          "2020-04-15",
          "2020-05-15",
          "2020-06-15",
          "2020-07-15",
          "2020-08-15",
          "2020-09-15",
          "2020-10-15",
          "2020-11-15",
          "2020-12-15",
          "2021-01-15",
          "2021-02-15",
          "2021-03-15",
          "2021-04-15",
          "2021-05-15",
          "2021-06-15",
          "2021-07-15",
          "2021-08-15",
          "2021-09-15",
          "2021-10-15",
          "2021-11-15",
          "2021-12-15",
          "2022-01-15",
          "2022-02-15",
          "2022-03-15",
          "2022-04-15",
          "2022-05-15",
          "2022-06-15",
          "2022-07-15",
          "2022-08-15"
         ],
         "xaxis": "x",
         "y": [
          0.17378613352775574,
          0.19392362236976624,
          0.16152726113796234,
          0.12114450335502625,
          -0.014036677777767181,
          -0.012138843536376953,
          0.1522228717803955,
          0.32267916202545166,
          0.18610751628875732,
          0.15656766295433044,
          0.14941686391830444,
          0.16262021660804749,
          0.19797641038894653,
          0.05743555724620819,
          0.03349047526717186,
          0.07548931986093521,
          -0.147869274020195,
          0.21393801271915436,
          0.4719606637954712,
          0.20593087375164032,
          0.1921730935573578,
          0.22911937534809113,
          0.24176059663295746,
          0.4468357563018799,
          0.03709174692630768,
          0.3333660960197449,
          0.08127425611019135,
          0.22036008536815643,
          0.2987270951271057,
          0.7356629967689514,
          0.24540983140468597,
          null
         ],
         "yaxis": "y"
        }
       ],
       "layout": {
        "legend": {
         "title": {
          "text": "variable"
         },
         "tracegroupgap": 0
        },
        "template": {
         "data": {
          "bar": [
           {
            "error_x": {
             "color": "#2a3f5f"
            },
            "error_y": {
             "color": "#2a3f5f"
            },
            "marker": {
             "line": {
              "color": "#E5ECF6",
              "width": 0.5
             },
             "pattern": {
              "fillmode": "overlay",
              "size": 10,
              "solidity": 0.2
             }
            },
            "type": "bar"
           }
          ],
          "barpolar": [
           {
            "marker": {
             "line": {
              "color": "#E5ECF6",
              "width": 0.5
             },
             "pattern": {
              "fillmode": "overlay",
              "size": 10,
              "solidity": 0.2
             }
            },
            "type": "barpolar"
           }
          ],
          "carpet": [
           {
            "aaxis": {
             "endlinecolor": "#2a3f5f",
             "gridcolor": "white",
             "linecolor": "white",
             "minorgridcolor": "white",
             "startlinecolor": "#2a3f5f"
            },
            "baxis": {
             "endlinecolor": "#2a3f5f",
             "gridcolor": "white",
             "linecolor": "white",
             "minorgridcolor": "white",
             "startlinecolor": "#2a3f5f"
            },
            "type": "carpet"
           }
          ],
          "choropleth": [
           {
            "colorbar": {
             "outlinewidth": 0,
             "ticks": ""
            },
            "type": "choropleth"
           }
          ],
          "contour": [
           {
            "colorbar": {
             "outlinewidth": 0,
             "ticks": ""
            },
            "colorscale": [
             [
              0,
              "#0d0887"
             ],
             [
              0.1111111111111111,
              "#46039f"
             ],
             [
              0.2222222222222222,
              "#7201a8"
             ],
             [
              0.3333333333333333,
              "#9c179e"
             ],
             [
              0.4444444444444444,
              "#bd3786"
             ],
             [
              0.5555555555555556,
              "#d8576b"
             ],
             [
              0.6666666666666666,
              "#ed7953"
             ],
             [
              0.7777777777777778,
              "#fb9f3a"
             ],
             [
              0.8888888888888888,
              "#fdca26"
             ],
             [
              1,
              "#f0f921"
             ]
            ],
            "type": "contour"
           }
          ],
          "contourcarpet": [
           {
            "colorbar": {
             "outlinewidth": 0,
             "ticks": ""
            },
            "type": "contourcarpet"
           }
          ],
          "heatmap": [
           {
            "colorbar": {
             "outlinewidth": 0,
             "ticks": ""
            },
            "colorscale": [
             [
              0,
              "#0d0887"
             ],
             [
              0.1111111111111111,
              "#46039f"
             ],
             [
              0.2222222222222222,
              "#7201a8"
             ],
             [
              0.3333333333333333,
              "#9c179e"
             ],
             [
              0.4444444444444444,
              "#bd3786"
             ],
             [
              0.5555555555555556,
              "#d8576b"
             ],
             [
              0.6666666666666666,
              "#ed7953"
             ],
             [
              0.7777777777777778,
              "#fb9f3a"
             ],
             [
              0.8888888888888888,
              "#fdca26"
             ],
             [
              1,
              "#f0f921"
             ]
            ],
            "type": "heatmap"
           }
          ],
          "heatmapgl": [
           {
            "colorbar": {
             "outlinewidth": 0,
             "ticks": ""
            },
            "colorscale": [
             [
              0,
              "#0d0887"
             ],
             [
              0.1111111111111111,
              "#46039f"
             ],
             [
              0.2222222222222222,
              "#7201a8"
             ],
             [
              0.3333333333333333,
              "#9c179e"
             ],
             [
              0.4444444444444444,
              "#bd3786"
             ],
             [
              0.5555555555555556,
              "#d8576b"
             ],
             [
              0.6666666666666666,
              "#ed7953"
             ],
             [
              0.7777777777777778,
              "#fb9f3a"
             ],
             [
              0.8888888888888888,
              "#fdca26"
             ],
             [
              1,
              "#f0f921"
             ]
            ],
            "type": "heatmapgl"
           }
          ],
          "histogram": [
           {
            "marker": {
             "pattern": {
              "fillmode": "overlay",
              "size": 10,
              "solidity": 0.2
             }
            },
            "type": "histogram"
           }
          ],
          "histogram2d": [
           {
            "colorbar": {
             "outlinewidth": 0,
             "ticks": ""
            },
            "colorscale": [
             [
              0,
              "#0d0887"
             ],
             [
              0.1111111111111111,
              "#46039f"
             ],
             [
              0.2222222222222222,
              "#7201a8"
             ],
             [
              0.3333333333333333,
              "#9c179e"
             ],
             [
              0.4444444444444444,
              "#bd3786"
             ],
             [
              0.5555555555555556,
              "#d8576b"
             ],
             [
              0.6666666666666666,
              "#ed7953"
             ],
             [
              0.7777777777777778,
              "#fb9f3a"
             ],
             [
              0.8888888888888888,
              "#fdca26"
             ],
             [
              1,
              "#f0f921"
             ]
            ],
            "type": "histogram2d"
           }
          ],
          "histogram2dcontour": [
           {
            "colorbar": {
             "outlinewidth": 0,
             "ticks": ""
            },
            "colorscale": [
             [
              0,
              "#0d0887"
             ],
             [
              0.1111111111111111,
              "#46039f"
             ],
             [
              0.2222222222222222,
              "#7201a8"
             ],
             [
              0.3333333333333333,
              "#9c179e"
             ],
             [
              0.4444444444444444,
              "#bd3786"
             ],
             [
              0.5555555555555556,
              "#d8576b"
             ],
             [
              0.6666666666666666,
              "#ed7953"
             ],
             [
              0.7777777777777778,
              "#fb9f3a"
             ],
             [
              0.8888888888888888,
              "#fdca26"
             ],
             [
              1,
              "#f0f921"
             ]
            ],
            "type": "histogram2dcontour"
           }
          ],
          "mesh3d": [
           {
            "colorbar": {
             "outlinewidth": 0,
             "ticks": ""
            },
            "type": "mesh3d"
           }
          ],
          "parcoords": [
           {
            "line": {
             "colorbar": {
              "outlinewidth": 0,
              "ticks": ""
             }
            },
            "type": "parcoords"
           }
          ],
          "pie": [
           {
            "automargin": true,
            "type": "pie"
           }
          ],
          "scatter": [
           {
            "fillpattern": {
             "fillmode": "overlay",
             "size": 10,
             "solidity": 0.2
            },
            "type": "scatter"
           }
          ],
          "scatter3d": [
           {
            "line": {
             "colorbar": {
              "outlinewidth": 0,
              "ticks": ""
             }
            },
            "marker": {
             "colorbar": {
              "outlinewidth": 0,
              "ticks": ""
             }
            },
            "type": "scatter3d"
           }
          ],
          "scattercarpet": [
           {
            "marker": {
             "colorbar": {
              "outlinewidth": 0,
              "ticks": ""
             }
            },
            "type": "scattercarpet"
           }
          ],
          "scattergeo": [
           {
            "marker": {
             "colorbar": {
              "outlinewidth": 0,
              "ticks": ""
             }
            },
            "type": "scattergeo"
           }
          ],
          "scattergl": [
           {
            "marker": {
             "colorbar": {
              "outlinewidth": 0,
              "ticks": ""
             }
            },
            "type": "scattergl"
           }
          ],
          "scattermapbox": [
           {
            "marker": {
             "colorbar": {
              "outlinewidth": 0,
              "ticks": ""
             }
            },
            "type": "scattermapbox"
           }
          ],
          "scatterpolar": [
           {
            "marker": {
             "colorbar": {
              "outlinewidth": 0,
              "ticks": ""
             }
            },
            "type": "scatterpolar"
           }
          ],
          "scatterpolargl": [
           {
            "marker": {
             "colorbar": {
              "outlinewidth": 0,
              "ticks": ""
             }
            },
            "type": "scatterpolargl"
           }
          ],
          "scatterternary": [
           {
            "marker": {
             "colorbar": {
              "outlinewidth": 0,
              "ticks": ""
             }
            },
            "type": "scatterternary"
           }
          ],
          "surface": [
           {
            "colorbar": {
             "outlinewidth": 0,
             "ticks": ""
            },
            "colorscale": [
             [
              0,
              "#0d0887"
             ],
             [
              0.1111111111111111,
              "#46039f"
             ],
             [
              0.2222222222222222,
              "#7201a8"
             ],
             [
              0.3333333333333333,
              "#9c179e"
             ],
             [
              0.4444444444444444,
              "#bd3786"
             ],
             [
              0.5555555555555556,
              "#d8576b"
             ],
             [
              0.6666666666666666,
              "#ed7953"
             ],
             [
              0.7777777777777778,
              "#fb9f3a"
             ],
             [
              0.8888888888888888,
              "#fdca26"
             ],
             [
              1,
              "#f0f921"
             ]
            ],
            "type": "surface"
           }
          ],
          "table": [
           {
            "cells": {
             "fill": {
              "color": "#EBF0F8"
             },
             "line": {
              "color": "white"
             }
            },
            "header": {
             "fill": {
              "color": "#C8D4E3"
             },
             "line": {
              "color": "white"
             }
            },
            "type": "table"
           }
          ]
         },
         "layout": {
          "annotationdefaults": {
           "arrowcolor": "#2a3f5f",
           "arrowhead": 0,
           "arrowwidth": 1
          },
          "autotypenumbers": "strict",
          "coloraxis": {
           "colorbar": {
            "outlinewidth": 0,
            "ticks": ""
           }
          },
          "colorscale": {
           "diverging": [
            [
             0,
             "#8e0152"
            ],
            [
             0.1,
             "#c51b7d"
            ],
            [
             0.2,
             "#de77ae"
            ],
            [
             0.3,
             "#f1b6da"
            ],
            [
             0.4,
             "#fde0ef"
            ],
            [
             0.5,
             "#f7f7f7"
            ],
            [
             0.6,
             "#e6f5d0"
            ],
            [
             0.7,
             "#b8e186"
            ],
            [
             0.8,
             "#7fbc41"
            ],
            [
             0.9,
             "#4d9221"
            ],
            [
             1,
             "#276419"
            ]
           ],
           "sequential": [
            [
             0,
             "#0d0887"
            ],
            [
             0.1111111111111111,
             "#46039f"
            ],
            [
             0.2222222222222222,
             "#7201a8"
            ],
            [
             0.3333333333333333,
             "#9c179e"
            ],
            [
             0.4444444444444444,
             "#bd3786"
            ],
            [
             0.5555555555555556,
             "#d8576b"
            ],
            [
             0.6666666666666666,
             "#ed7953"
            ],
            [
             0.7777777777777778,
             "#fb9f3a"
            ],
            [
             0.8888888888888888,
             "#fdca26"
            ],
            [
             1,
             "#f0f921"
            ]
           ],
           "sequentialminus": [
            [
             0,
             "#0d0887"
            ],
            [
             0.1111111111111111,
             "#46039f"
            ],
            [
             0.2222222222222222,
             "#7201a8"
            ],
            [
             0.3333333333333333,
             "#9c179e"
            ],
            [
             0.4444444444444444,
             "#bd3786"
            ],
            [
             0.5555555555555556,
             "#d8576b"
            ],
            [
             0.6666666666666666,
             "#ed7953"
            ],
            [
             0.7777777777777778,
             "#fb9f3a"
            ],
            [
             0.8888888888888888,
             "#fdca26"
            ],
            [
             1,
             "#f0f921"
            ]
           ]
          },
          "colorway": [
           "#636efa",
           "#EF553B",
           "#00cc96",
           "#ab63fa",
           "#FFA15A",
           "#19d3f3",
           "#FF6692",
           "#B6E880",
           "#FF97FF",
           "#FECB52"
          ],
          "font": {
           "color": "#2a3f5f"
          },
          "geo": {
           "bgcolor": "white",
           "lakecolor": "white",
           "landcolor": "#E5ECF6",
           "showlakes": true,
           "showland": true,
           "subunitcolor": "white"
          },
          "hoverlabel": {
           "align": "left"
          },
          "hovermode": "closest",
          "mapbox": {
           "style": "light"
          },
          "paper_bgcolor": "white",
          "plot_bgcolor": "#E5ECF6",
          "polar": {
           "angularaxis": {
            "gridcolor": "white",
            "linecolor": "white",
            "ticks": ""
           },
           "bgcolor": "#E5ECF6",
           "radialaxis": {
            "gridcolor": "white",
            "linecolor": "white",
            "ticks": ""
           }
          },
          "scene": {
           "xaxis": {
            "backgroundcolor": "#E5ECF6",
            "gridcolor": "white",
            "gridwidth": 2,
            "linecolor": "white",
            "showbackground": true,
            "ticks": "",
            "zerolinecolor": "white"
           },
           "yaxis": {
            "backgroundcolor": "#E5ECF6",
            "gridcolor": "white",
            "gridwidth": 2,
            "linecolor": "white",
            "showbackground": true,
            "ticks": "",
            "zerolinecolor": "white"
           },
           "zaxis": {
            "backgroundcolor": "#E5ECF6",
            "gridcolor": "white",
            "gridwidth": 2,
            "linecolor": "white",
            "showbackground": true,
            "ticks": "",
            "zerolinecolor": "white"
           }
          },
          "shapedefaults": {
           "line": {
            "color": "#2a3f5f"
           }
          },
          "ternary": {
           "aaxis": {
            "gridcolor": "white",
            "linecolor": "white",
            "ticks": ""
           },
           "baxis": {
            "gridcolor": "white",
            "linecolor": "white",
            "ticks": ""
           },
           "bgcolor": "#E5ECF6",
           "caxis": {
            "gridcolor": "white",
            "linecolor": "white",
            "ticks": ""
           }
          },
          "title": {
           "x": 0.05
          },
          "xaxis": {
           "automargin": true,
           "gridcolor": "white",
           "linecolor": "white",
           "ticks": "",
           "title": {
            "standoff": 15
           },
           "zerolinecolor": "white",
           "zerolinewidth": 2
          },
          "yaxis": {
           "automargin": true,
           "gridcolor": "white",
           "linecolor": "white",
           "ticks": "",
           "title": {
            "standoff": 15
           },
           "zerolinecolor": "white",
           "zerolinewidth": 2
          }
         }
        },
        "title": {
         "text": "Services less medical care services - Actual VS Prediction: Period 2"
        },
        "xaxis": {
         "anchor": "y",
         "domain": [
          0,
          1
         ],
         "title": {
          "text": "Date"
         }
        },
        "yaxis": {
         "anchor": "x",
         "domain": [
          0,
          1
         ],
         "title": {
          "text": "value"
         }
        }
       }
      }
     },
     "metadata": {},
     "output_type": "display_data"
    },
    {
     "data": {
      "application/vnd.plotly.v1+json": {
       "config": {
        "plotlyServerURL": "https://plot.ly"
       },
       "data": [
        {
         "hovertemplate": "variable=Actual - Period 2<br>Date=%{x}<br>value=%{y}<extra></extra>",
         "legendgroup": "Actual - Period 2",
         "line": {
          "color": "#636efa",
          "dash": "solid"
         },
         "marker": {
          "symbol": "circle"
         },
         "mode": "lines",
         "name": "Actual - Period 2",
         "orientation": "v",
         "showlegend": true,
         "type": "scatter",
         "x": [
          "2020-01-15",
          "2020-02-15",
          "2020-03-15",
          "2020-04-15",
          "2020-05-15",
          "2020-06-15",
          "2020-07-15",
          "2020-08-15",
          "2020-09-15",
          "2020-10-15",
          "2020-11-15",
          "2020-12-15",
          "2021-01-15",
          "2021-02-15",
          "2021-03-15",
          "2021-04-15",
          "2021-05-15",
          "2021-06-15",
          "2021-07-15",
          "2021-08-15",
          "2021-09-15",
          "2021-10-15",
          "2021-11-15",
          "2021-12-15",
          "2022-01-15",
          "2022-02-15",
          "2022-03-15",
          "2022-04-15",
          "2022-05-15",
          "2022-06-15",
          "2022-07-15",
          "2022-08-15"
         ],
         "xaxis": "x",
         "y": [
          -3.3333754174163817,
          -7.54175486224881,
          -1.4857979590386716,
          3.2465450360905908,
          2.1538608964994435,
          0.6998437523755596,
          -0.22768396930970877,
          -0.4939219767808524,
          -0.028297933895477904,
          2.663243933310278,
          1.3057490239474192,
          2.0553952300487444,
          3.142644512777959,
          -0.6371685337985298,
          0.4935499679091714,
          1.4387529705599362,
          0.8294062821261734,
          0.831262396610346,
          0.10071440609414684,
          2.043309951694994,
          1.7509142007632772,
          0.5599846314775743,
          0.65724095266835,
          2.6254302435226773,
          6.183684858593951,
          -1.6089720289707985,
          2.395737767081839,
          4.6179252327470515,
          -2.934140606003038,
          -3.905752263256964,
          null,
          null
         ],
         "yaxis": "y"
        },
        {
         "hovertemplate": "variable=Prediction - Period 2<br>Date=%{x}<br>value=%{y}<extra></extra>",
         "legendgroup": "Prediction - Period 2",
         "line": {
          "color": "#EF553B",
          "dash": "solid"
         },
         "marker": {
          "symbol": "circle"
         },
         "mode": "lines",
         "name": "Prediction - Period 2",
         "orientation": "v",
         "showlegend": true,
         "type": "scatter",
         "x": [
          "2020-01-15",
          "2020-02-15",
          "2020-03-15",
          "2020-04-15",
          "2020-05-15",
          "2020-06-15",
          "2020-07-15",
          "2020-08-15",
          "2020-09-15",
          "2020-10-15",
          "2020-11-15",
          "2020-12-15",
          "2021-01-15",
          "2021-02-15",
          "2021-03-15",
          "2021-04-15",
          "2021-05-15",
          "2021-06-15",
          "2021-07-15",
          "2021-08-15",
          "2021-09-15",
          "2021-10-15",
          "2021-11-15",
          "2021-12-15",
          "2022-01-15",
          "2022-02-15",
          "2022-03-15",
          "2022-04-15",
          "2022-05-15",
          "2022-06-15",
          "2022-07-15",
          "2022-08-15"
         ],
         "xaxis": "x",
         "y": [
          1.335198998451233,
          0.355535626411438,
          -0.10214246809482574,
          -0.3244065046310425,
          -0.8846458196640015,
          -0.42968207597732544,
          -0.8532639145851135,
          0.45506763458251953,
          0.42182493209838867,
          -0.10182513296604156,
          1.247570276260376,
          1.4278208017349243,
          0.8396395444869995,
          -0.015882179141044617,
          0.41029632091522217,
          0.3345792889595032,
          0.17661044001579285,
          -0.8529318571090698,
          -0.09227466583251953,
          1.3864208459854126,
          1.1305532455444336,
          -0.8693769574165344,
          0.10915033519268036,
          -0.24665258824825287,
          0.4104011058807373,
          0.043815404176712036,
          0.06260648369789124,
          -0.7218751311302185,
          -0.4739728569984436,
          0.7741417288780212,
          0.30257147550582886,
          null
         ],
         "yaxis": "y"
        }
       ],
       "layout": {
        "legend": {
         "title": {
          "text": "variable"
         },
         "tracegroupgap": 0
        },
        "template": {
         "data": {
          "bar": [
           {
            "error_x": {
             "color": "#2a3f5f"
            },
            "error_y": {
             "color": "#2a3f5f"
            },
            "marker": {
             "line": {
              "color": "#E5ECF6",
              "width": 0.5
             },
             "pattern": {
              "fillmode": "overlay",
              "size": 10,
              "solidity": 0.2
             }
            },
            "type": "bar"
           }
          ],
          "barpolar": [
           {
            "marker": {
             "line": {
              "color": "#E5ECF6",
              "width": 0.5
             },
             "pattern": {
              "fillmode": "overlay",
              "size": 10,
              "solidity": 0.2
             }
            },
            "type": "barpolar"
           }
          ],
          "carpet": [
           {
            "aaxis": {
             "endlinecolor": "#2a3f5f",
             "gridcolor": "white",
             "linecolor": "white",
             "minorgridcolor": "white",
             "startlinecolor": "#2a3f5f"
            },
            "baxis": {
             "endlinecolor": "#2a3f5f",
             "gridcolor": "white",
             "linecolor": "white",
             "minorgridcolor": "white",
             "startlinecolor": "#2a3f5f"
            },
            "type": "carpet"
           }
          ],
          "choropleth": [
           {
            "colorbar": {
             "outlinewidth": 0,
             "ticks": ""
            },
            "type": "choropleth"
           }
          ],
          "contour": [
           {
            "colorbar": {
             "outlinewidth": 0,
             "ticks": ""
            },
            "colorscale": [
             [
              0,
              "#0d0887"
             ],
             [
              0.1111111111111111,
              "#46039f"
             ],
             [
              0.2222222222222222,
              "#7201a8"
             ],
             [
              0.3333333333333333,
              "#9c179e"
             ],
             [
              0.4444444444444444,
              "#bd3786"
             ],
             [
              0.5555555555555556,
              "#d8576b"
             ],
             [
              0.6666666666666666,
              "#ed7953"
             ],
             [
              0.7777777777777778,
              "#fb9f3a"
             ],
             [
              0.8888888888888888,
              "#fdca26"
             ],
             [
              1,
              "#f0f921"
             ]
            ],
            "type": "contour"
           }
          ],
          "contourcarpet": [
           {
            "colorbar": {
             "outlinewidth": 0,
             "ticks": ""
            },
            "type": "contourcarpet"
           }
          ],
          "heatmap": [
           {
            "colorbar": {
             "outlinewidth": 0,
             "ticks": ""
            },
            "colorscale": [
             [
              0,
              "#0d0887"
             ],
             [
              0.1111111111111111,
              "#46039f"
             ],
             [
              0.2222222222222222,
              "#7201a8"
             ],
             [
              0.3333333333333333,
              "#9c179e"
             ],
             [
              0.4444444444444444,
              "#bd3786"
             ],
             [
              0.5555555555555556,
              "#d8576b"
             ],
             [
              0.6666666666666666,
              "#ed7953"
             ],
             [
              0.7777777777777778,
              "#fb9f3a"
             ],
             [
              0.8888888888888888,
              "#fdca26"
             ],
             [
              1,
              "#f0f921"
             ]
            ],
            "type": "heatmap"
           }
          ],
          "heatmapgl": [
           {
            "colorbar": {
             "outlinewidth": 0,
             "ticks": ""
            },
            "colorscale": [
             [
              0,
              "#0d0887"
             ],
             [
              0.1111111111111111,
              "#46039f"
             ],
             [
              0.2222222222222222,
              "#7201a8"
             ],
             [
              0.3333333333333333,
              "#9c179e"
             ],
             [
              0.4444444444444444,
              "#bd3786"
             ],
             [
              0.5555555555555556,
              "#d8576b"
             ],
             [
              0.6666666666666666,
              "#ed7953"
             ],
             [
              0.7777777777777778,
              "#fb9f3a"
             ],
             [
              0.8888888888888888,
              "#fdca26"
             ],
             [
              1,
              "#f0f921"
             ]
            ],
            "type": "heatmapgl"
           }
          ],
          "histogram": [
           {
            "marker": {
             "pattern": {
              "fillmode": "overlay",
              "size": 10,
              "solidity": 0.2
             }
            },
            "type": "histogram"
           }
          ],
          "histogram2d": [
           {
            "colorbar": {
             "outlinewidth": 0,
             "ticks": ""
            },
            "colorscale": [
             [
              0,
              "#0d0887"
             ],
             [
              0.1111111111111111,
              "#46039f"
             ],
             [
              0.2222222222222222,
              "#7201a8"
             ],
             [
              0.3333333333333333,
              "#9c179e"
             ],
             [
              0.4444444444444444,
              "#bd3786"
             ],
             [
              0.5555555555555556,
              "#d8576b"
             ],
             [
              0.6666666666666666,
              "#ed7953"
             ],
             [
              0.7777777777777778,
              "#fb9f3a"
             ],
             [
              0.8888888888888888,
              "#fdca26"
             ],
             [
              1,
              "#f0f921"
             ]
            ],
            "type": "histogram2d"
           }
          ],
          "histogram2dcontour": [
           {
            "colorbar": {
             "outlinewidth": 0,
             "ticks": ""
            },
            "colorscale": [
             [
              0,
              "#0d0887"
             ],
             [
              0.1111111111111111,
              "#46039f"
             ],
             [
              0.2222222222222222,
              "#7201a8"
             ],
             [
              0.3333333333333333,
              "#9c179e"
             ],
             [
              0.4444444444444444,
              "#bd3786"
             ],
             [
              0.5555555555555556,
              "#d8576b"
             ],
             [
              0.6666666666666666,
              "#ed7953"
             ],
             [
              0.7777777777777778,
              "#fb9f3a"
             ],
             [
              0.8888888888888888,
              "#fdca26"
             ],
             [
              1,
              "#f0f921"
             ]
            ],
            "type": "histogram2dcontour"
           }
          ],
          "mesh3d": [
           {
            "colorbar": {
             "outlinewidth": 0,
             "ticks": ""
            },
            "type": "mesh3d"
           }
          ],
          "parcoords": [
           {
            "line": {
             "colorbar": {
              "outlinewidth": 0,
              "ticks": ""
             }
            },
            "type": "parcoords"
           }
          ],
          "pie": [
           {
            "automargin": true,
            "type": "pie"
           }
          ],
          "scatter": [
           {
            "fillpattern": {
             "fillmode": "overlay",
             "size": 10,
             "solidity": 0.2
            },
            "type": "scatter"
           }
          ],
          "scatter3d": [
           {
            "line": {
             "colorbar": {
              "outlinewidth": 0,
              "ticks": ""
             }
            },
            "marker": {
             "colorbar": {
              "outlinewidth": 0,
              "ticks": ""
             }
            },
            "type": "scatter3d"
           }
          ],
          "scattercarpet": [
           {
            "marker": {
             "colorbar": {
              "outlinewidth": 0,
              "ticks": ""
             }
            },
            "type": "scattercarpet"
           }
          ],
          "scattergeo": [
           {
            "marker": {
             "colorbar": {
              "outlinewidth": 0,
              "ticks": ""
             }
            },
            "type": "scattergeo"
           }
          ],
          "scattergl": [
           {
            "marker": {
             "colorbar": {
              "outlinewidth": 0,
              "ticks": ""
             }
            },
            "type": "scattergl"
           }
          ],
          "scattermapbox": [
           {
            "marker": {
             "colorbar": {
              "outlinewidth": 0,
              "ticks": ""
             }
            },
            "type": "scattermapbox"
           }
          ],
          "scatterpolar": [
           {
            "marker": {
             "colorbar": {
              "outlinewidth": 0,
              "ticks": ""
             }
            },
            "type": "scatterpolar"
           }
          ],
          "scatterpolargl": [
           {
            "marker": {
             "colorbar": {
              "outlinewidth": 0,
              "ticks": ""
             }
            },
            "type": "scatterpolargl"
           }
          ],
          "scatterternary": [
           {
            "marker": {
             "colorbar": {
              "outlinewidth": 0,
              "ticks": ""
             }
            },
            "type": "scatterternary"
           }
          ],
          "surface": [
           {
            "colorbar": {
             "outlinewidth": 0,
             "ticks": ""
            },
            "colorscale": [
             [
              0,
              "#0d0887"
             ],
             [
              0.1111111111111111,
              "#46039f"
             ],
             [
              0.2222222222222222,
              "#7201a8"
             ],
             [
              0.3333333333333333,
              "#9c179e"
             ],
             [
              0.4444444444444444,
              "#bd3786"
             ],
             [
              0.5555555555555556,
              "#d8576b"
             ],
             [
              0.6666666666666666,
              "#ed7953"
             ],
             [
              0.7777777777777778,
              "#fb9f3a"
             ],
             [
              0.8888888888888888,
              "#fdca26"
             ],
             [
              1,
              "#f0f921"
             ]
            ],
            "type": "surface"
           }
          ],
          "table": [
           {
            "cells": {
             "fill": {
              "color": "#EBF0F8"
             },
             "line": {
              "color": "white"
             }
            },
            "header": {
             "fill": {
              "color": "#C8D4E3"
             },
             "line": {
              "color": "white"
             }
            },
            "type": "table"
           }
          ]
         },
         "layout": {
          "annotationdefaults": {
           "arrowcolor": "#2a3f5f",
           "arrowhead": 0,
           "arrowwidth": 1
          },
          "autotypenumbers": "strict",
          "coloraxis": {
           "colorbar": {
            "outlinewidth": 0,
            "ticks": ""
           }
          },
          "colorscale": {
           "diverging": [
            [
             0,
             "#8e0152"
            ],
            [
             0.1,
             "#c51b7d"
            ],
            [
             0.2,
             "#de77ae"
            ],
            [
             0.3,
             "#f1b6da"
            ],
            [
             0.4,
             "#fde0ef"
            ],
            [
             0.5,
             "#f7f7f7"
            ],
            [
             0.6,
             "#e6f5d0"
            ],
            [
             0.7,
             "#b8e186"
            ],
            [
             0.8,
             "#7fbc41"
            ],
            [
             0.9,
             "#4d9221"
            ],
            [
             1,
             "#276419"
            ]
           ],
           "sequential": [
            [
             0,
             "#0d0887"
            ],
            [
             0.1111111111111111,
             "#46039f"
            ],
            [
             0.2222222222222222,
             "#7201a8"
            ],
            [
             0.3333333333333333,
             "#9c179e"
            ],
            [
             0.4444444444444444,
             "#bd3786"
            ],
            [
             0.5555555555555556,
             "#d8576b"
            ],
            [
             0.6666666666666666,
             "#ed7953"
            ],
            [
             0.7777777777777778,
             "#fb9f3a"
            ],
            [
             0.8888888888888888,
             "#fdca26"
            ],
            [
             1,
             "#f0f921"
            ]
           ],
           "sequentialminus": [
            [
             0,
             "#0d0887"
            ],
            [
             0.1111111111111111,
             "#46039f"
            ],
            [
             0.2222222222222222,
             "#7201a8"
            ],
            [
             0.3333333333333333,
             "#9c179e"
            ],
            [
             0.4444444444444444,
             "#bd3786"
            ],
            [
             0.5555555555555556,
             "#d8576b"
            ],
            [
             0.6666666666666666,
             "#ed7953"
            ],
            [
             0.7777777777777778,
             "#fb9f3a"
            ],
            [
             0.8888888888888888,
             "#fdca26"
            ],
            [
             1,
             "#f0f921"
            ]
           ]
          },
          "colorway": [
           "#636efa",
           "#EF553B",
           "#00cc96",
           "#ab63fa",
           "#FFA15A",
           "#19d3f3",
           "#FF6692",
           "#B6E880",
           "#FF97FF",
           "#FECB52"
          ],
          "font": {
           "color": "#2a3f5f"
          },
          "geo": {
           "bgcolor": "white",
           "lakecolor": "white",
           "landcolor": "#E5ECF6",
           "showlakes": true,
           "showland": true,
           "subunitcolor": "white"
          },
          "hoverlabel": {
           "align": "left"
          },
          "hovermode": "closest",
          "mapbox": {
           "style": "light"
          },
          "paper_bgcolor": "white",
          "plot_bgcolor": "#E5ECF6",
          "polar": {
           "angularaxis": {
            "gridcolor": "white",
            "linecolor": "white",
            "ticks": ""
           },
           "bgcolor": "#E5ECF6",
           "radialaxis": {
            "gridcolor": "white",
            "linecolor": "white",
            "ticks": ""
           }
          },
          "scene": {
           "xaxis": {
            "backgroundcolor": "#E5ECF6",
            "gridcolor": "white",
            "gridwidth": 2,
            "linecolor": "white",
            "showbackground": true,
            "ticks": "",
            "zerolinecolor": "white"
           },
           "yaxis": {
            "backgroundcolor": "#E5ECF6",
            "gridcolor": "white",
            "gridwidth": 2,
            "linecolor": "white",
            "showbackground": true,
            "ticks": "",
            "zerolinecolor": "white"
           },
           "zaxis": {
            "backgroundcolor": "#E5ECF6",
            "gridcolor": "white",
            "gridwidth": 2,
            "linecolor": "white",
            "showbackground": true,
            "ticks": "",
            "zerolinecolor": "white"
           }
          },
          "shapedefaults": {
           "line": {
            "color": "#2a3f5f"
           }
          },
          "ternary": {
           "aaxis": {
            "gridcolor": "white",
            "linecolor": "white",
            "ticks": ""
           },
           "baxis": {
            "gridcolor": "white",
            "linecolor": "white",
            "ticks": ""
           },
           "bgcolor": "#E5ECF6",
           "caxis": {
            "gridcolor": "white",
            "linecolor": "white",
            "ticks": ""
           }
          },
          "title": {
           "x": 0.05
          },
          "xaxis": {
           "automargin": true,
           "gridcolor": "white",
           "linecolor": "white",
           "ticks": "",
           "title": {
            "standoff": 15
           },
           "zerolinecolor": "white",
           "zerolinewidth": 2
          },
          "yaxis": {
           "automargin": true,
           "gridcolor": "white",
           "linecolor": "white",
           "ticks": "",
           "title": {
            "standoff": 15
           },
           "zerolinecolor": "white",
           "zerolinewidth": 2
          }
         }
        },
        "title": {
         "text": "Nondurables less food and beverages - Actual VS Prediction: Period 2"
        },
        "xaxis": {
         "anchor": "y",
         "domain": [
          0,
          1
         ],
         "title": {
          "text": "Date"
         }
        },
        "yaxis": {
         "anchor": "x",
         "domain": [
          0,
          1
         ],
         "title": {
          "text": "value"
         }
        }
       }
      }
     },
     "metadata": {},
     "output_type": "display_data"
    },
    {
     "data": {
      "application/vnd.plotly.v1+json": {
       "config": {
        "plotlyServerURL": "https://plot.ly"
       },
       "data": [
        {
         "hovertemplate": "variable=Actual - Period 2<br>Date=%{x}<br>value=%{y}<extra></extra>",
         "legendgroup": "Actual - Period 2",
         "line": {
          "color": "#636efa",
          "dash": "solid"
         },
         "marker": {
          "symbol": "circle"
         },
         "mode": "lines",
         "name": "Actual - Period 2",
         "orientation": "v",
         "showlegend": true,
         "type": "scatter",
         "x": [
          "2020-01-15",
          "2020-02-15",
          "2020-03-15",
          "2020-04-15",
          "2020-05-15",
          "2020-06-15",
          "2020-07-15",
          "2020-08-15",
          "2020-09-15",
          "2020-10-15",
          "2020-11-15",
          "2020-12-15",
          "2021-01-15",
          "2021-02-15",
          "2021-03-15",
          "2021-04-15",
          "2021-05-15",
          "2021-06-15",
          "2021-07-15",
          "2021-08-15",
          "2021-09-15",
          "2021-10-15",
          "2021-11-15",
          "2021-12-15",
          "2022-01-15",
          "2022-02-15",
          "2022-03-15",
          "2022-04-15",
          "2022-05-15",
          "2022-06-15",
          "2022-07-15",
          "2022-08-15"
         ],
         "xaxis": "x",
         "y": [
          -0.4243695476884485,
          -0.7982839095760721,
          -0.05237751013874209,
          0.5637639643680044,
          0.5849568078433953,
          0.3695963343394961,
          0.20311996058165832,
          0.04456961578694466,
          0.18881615612303398,
          0.3666344196335789,
          0.17404385259207927,
          0.35402174807311587,
          0.6182376487946436,
          0.7670858211099325,
          0.6421593166671076,
          0.9007867674829257,
          0.472714899332691,
          0.2739893548826449,
          0.41158789713215976,
          0.9388990335051824,
          0.7760962202460149,
          0.4693500688632303,
          0.6194371596633065,
          0.7945423921136254,
          1.23311989359249,
          0.3313840821094261,
          0.9690890252366852,
          1.3135795095667802,
          -0.019302437077254427,
          0.11812670715330303,
          null,
          null
         ],
         "yaxis": "y"
        },
        {
         "hovertemplate": "variable=Prediction - Period 2<br>Date=%{x}<br>value=%{y}<extra></extra>",
         "legendgroup": "Prediction - Period 2",
         "line": {
          "color": "#EF553B",
          "dash": "solid"
         },
         "marker": {
          "symbol": "circle"
         },
         "mode": "lines",
         "name": "Prediction - Period 2",
         "orientation": "v",
         "showlegend": true,
         "type": "scatter",
         "x": [
          "2020-01-15",
          "2020-02-15",
          "2020-03-15",
          "2020-04-15",
          "2020-05-15",
          "2020-06-15",
          "2020-07-15",
          "2020-08-15",
          "2020-09-15",
          "2020-10-15",
          "2020-11-15",
          "2020-12-15",
          "2021-01-15",
          "2021-02-15",
          "2021-03-15",
          "2021-04-15",
          "2021-05-15",
          "2021-06-15",
          "2021-07-15",
          "2021-08-15",
          "2021-09-15",
          "2021-10-15",
          "2021-11-15",
          "2021-12-15",
          "2022-01-15",
          "2022-02-15",
          "2022-03-15",
          "2022-04-15",
          "2022-05-15",
          "2022-06-15",
          "2022-07-15",
          "2022-08-15"
         ],
         "xaxis": "x",
         "y": [
          0.12403684854507446,
          0.23497386276721954,
          0.12075625360012054,
          -0.11405383050441742,
          -0.3479191064834595,
          0.21878385543823242,
          0.38566166162490845,
          0.2435019612312317,
          0.1391368955373764,
          0.13151884078979492,
          0.057277530431747437,
          0.21672828495502472,
          0.3360438942909241,
          0.3053828477859497,
          0.18774180114269257,
          -0.2313242405653,
          0.005026206374168396,
          0.42510098218917847,
          0.3824325203895569,
          0.24040783941745758,
          0.15551172196865082,
          0.37960970401763916,
          0.5325270295143127,
          0.5067301392555237,
          0.3513895273208618,
          0.8419597148895264,
          0.48217958211898804,
          0.31875234842300415,
          0.5829105973243713,
          0.4299734830856323,
          0.26741915941238403,
          null
         ],
         "yaxis": "y"
        }
       ],
       "layout": {
        "legend": {
         "title": {
          "text": "variable"
         },
         "tracegroupgap": 0
        },
        "template": {
         "data": {
          "bar": [
           {
            "error_x": {
             "color": "#2a3f5f"
            },
            "error_y": {
             "color": "#2a3f5f"
            },
            "marker": {
             "line": {
              "color": "#E5ECF6",
              "width": 0.5
             },
             "pattern": {
              "fillmode": "overlay",
              "size": 10,
              "solidity": 0.2
             }
            },
            "type": "bar"
           }
          ],
          "barpolar": [
           {
            "marker": {
             "line": {
              "color": "#E5ECF6",
              "width": 0.5
             },
             "pattern": {
              "fillmode": "overlay",
              "size": 10,
              "solidity": 0.2
             }
            },
            "type": "barpolar"
           }
          ],
          "carpet": [
           {
            "aaxis": {
             "endlinecolor": "#2a3f5f",
             "gridcolor": "white",
             "linecolor": "white",
             "minorgridcolor": "white",
             "startlinecolor": "#2a3f5f"
            },
            "baxis": {
             "endlinecolor": "#2a3f5f",
             "gridcolor": "white",
             "linecolor": "white",
             "minorgridcolor": "white",
             "startlinecolor": "#2a3f5f"
            },
            "type": "carpet"
           }
          ],
          "choropleth": [
           {
            "colorbar": {
             "outlinewidth": 0,
             "ticks": ""
            },
            "type": "choropleth"
           }
          ],
          "contour": [
           {
            "colorbar": {
             "outlinewidth": 0,
             "ticks": ""
            },
            "colorscale": [
             [
              0,
              "#0d0887"
             ],
             [
              0.1111111111111111,
              "#46039f"
             ],
             [
              0.2222222222222222,
              "#7201a8"
             ],
             [
              0.3333333333333333,
              "#9c179e"
             ],
             [
              0.4444444444444444,
              "#bd3786"
             ],
             [
              0.5555555555555556,
              "#d8576b"
             ],
             [
              0.6666666666666666,
              "#ed7953"
             ],
             [
              0.7777777777777778,
              "#fb9f3a"
             ],
             [
              0.8888888888888888,
              "#fdca26"
             ],
             [
              1,
              "#f0f921"
             ]
            ],
            "type": "contour"
           }
          ],
          "contourcarpet": [
           {
            "colorbar": {
             "outlinewidth": 0,
             "ticks": ""
            },
            "type": "contourcarpet"
           }
          ],
          "heatmap": [
           {
            "colorbar": {
             "outlinewidth": 0,
             "ticks": ""
            },
            "colorscale": [
             [
              0,
              "#0d0887"
             ],
             [
              0.1111111111111111,
              "#46039f"
             ],
             [
              0.2222222222222222,
              "#7201a8"
             ],
             [
              0.3333333333333333,
              "#9c179e"
             ],
             [
              0.4444444444444444,
              "#bd3786"
             ],
             [
              0.5555555555555556,
              "#d8576b"
             ],
             [
              0.6666666666666666,
              "#ed7953"
             ],
             [
              0.7777777777777778,
              "#fb9f3a"
             ],
             [
              0.8888888888888888,
              "#fdca26"
             ],
             [
              1,
              "#f0f921"
             ]
            ],
            "type": "heatmap"
           }
          ],
          "heatmapgl": [
           {
            "colorbar": {
             "outlinewidth": 0,
             "ticks": ""
            },
            "colorscale": [
             [
              0,
              "#0d0887"
             ],
             [
              0.1111111111111111,
              "#46039f"
             ],
             [
              0.2222222222222222,
              "#7201a8"
             ],
             [
              0.3333333333333333,
              "#9c179e"
             ],
             [
              0.4444444444444444,
              "#bd3786"
             ],
             [
              0.5555555555555556,
              "#d8576b"
             ],
             [
              0.6666666666666666,
              "#ed7953"
             ],
             [
              0.7777777777777778,
              "#fb9f3a"
             ],
             [
              0.8888888888888888,
              "#fdca26"
             ],
             [
              1,
              "#f0f921"
             ]
            ],
            "type": "heatmapgl"
           }
          ],
          "histogram": [
           {
            "marker": {
             "pattern": {
              "fillmode": "overlay",
              "size": 10,
              "solidity": 0.2
             }
            },
            "type": "histogram"
           }
          ],
          "histogram2d": [
           {
            "colorbar": {
             "outlinewidth": 0,
             "ticks": ""
            },
            "colorscale": [
             [
              0,
              "#0d0887"
             ],
             [
              0.1111111111111111,
              "#46039f"
             ],
             [
              0.2222222222222222,
              "#7201a8"
             ],
             [
              0.3333333333333333,
              "#9c179e"
             ],
             [
              0.4444444444444444,
              "#bd3786"
             ],
             [
              0.5555555555555556,
              "#d8576b"
             ],
             [
              0.6666666666666666,
              "#ed7953"
             ],
             [
              0.7777777777777778,
              "#fb9f3a"
             ],
             [
              0.8888888888888888,
              "#fdca26"
             ],
             [
              1,
              "#f0f921"
             ]
            ],
            "type": "histogram2d"
           }
          ],
          "histogram2dcontour": [
           {
            "colorbar": {
             "outlinewidth": 0,
             "ticks": ""
            },
            "colorscale": [
             [
              0,
              "#0d0887"
             ],
             [
              0.1111111111111111,
              "#46039f"
             ],
             [
              0.2222222222222222,
              "#7201a8"
             ],
             [
              0.3333333333333333,
              "#9c179e"
             ],
             [
              0.4444444444444444,
              "#bd3786"
             ],
             [
              0.5555555555555556,
              "#d8576b"
             ],
             [
              0.6666666666666666,
              "#ed7953"
             ],
             [
              0.7777777777777778,
              "#fb9f3a"
             ],
             [
              0.8888888888888888,
              "#fdca26"
             ],
             [
              1,
              "#f0f921"
             ]
            ],
            "type": "histogram2dcontour"
           }
          ],
          "mesh3d": [
           {
            "colorbar": {
             "outlinewidth": 0,
             "ticks": ""
            },
            "type": "mesh3d"
           }
          ],
          "parcoords": [
           {
            "line": {
             "colorbar": {
              "outlinewidth": 0,
              "ticks": ""
             }
            },
            "type": "parcoords"
           }
          ],
          "pie": [
           {
            "automargin": true,
            "type": "pie"
           }
          ],
          "scatter": [
           {
            "fillpattern": {
             "fillmode": "overlay",
             "size": 10,
             "solidity": 0.2
            },
            "type": "scatter"
           }
          ],
          "scatter3d": [
           {
            "line": {
             "colorbar": {
              "outlinewidth": 0,
              "ticks": ""
             }
            },
            "marker": {
             "colorbar": {
              "outlinewidth": 0,
              "ticks": ""
             }
            },
            "type": "scatter3d"
           }
          ],
          "scattercarpet": [
           {
            "marker": {
             "colorbar": {
              "outlinewidth": 0,
              "ticks": ""
             }
            },
            "type": "scattercarpet"
           }
          ],
          "scattergeo": [
           {
            "marker": {
             "colorbar": {
              "outlinewidth": 0,
              "ticks": ""
             }
            },
            "type": "scattergeo"
           }
          ],
          "scattergl": [
           {
            "marker": {
             "colorbar": {
              "outlinewidth": 0,
              "ticks": ""
             }
            },
            "type": "scattergl"
           }
          ],
          "scattermapbox": [
           {
            "marker": {
             "colorbar": {
              "outlinewidth": 0,
              "ticks": ""
             }
            },
            "type": "scattermapbox"
           }
          ],
          "scatterpolar": [
           {
            "marker": {
             "colorbar": {
              "outlinewidth": 0,
              "ticks": ""
             }
            },
            "type": "scatterpolar"
           }
          ],
          "scatterpolargl": [
           {
            "marker": {
             "colorbar": {
              "outlinewidth": 0,
              "ticks": ""
             }
            },
            "type": "scatterpolargl"
           }
          ],
          "scatterternary": [
           {
            "marker": {
             "colorbar": {
              "outlinewidth": 0,
              "ticks": ""
             }
            },
            "type": "scatterternary"
           }
          ],
          "surface": [
           {
            "colorbar": {
             "outlinewidth": 0,
             "ticks": ""
            },
            "colorscale": [
             [
              0,
              "#0d0887"
             ],
             [
              0.1111111111111111,
              "#46039f"
             ],
             [
              0.2222222222222222,
              "#7201a8"
             ],
             [
              0.3333333333333333,
              "#9c179e"
             ],
             [
              0.4444444444444444,
              "#bd3786"
             ],
             [
              0.5555555555555556,
              "#d8576b"
             ],
             [
              0.6666666666666666,
              "#ed7953"
             ],
             [
              0.7777777777777778,
              "#fb9f3a"
             ],
             [
              0.8888888888888888,
              "#fdca26"
             ],
             [
              1,
              "#f0f921"
             ]
            ],
            "type": "surface"
           }
          ],
          "table": [
           {
            "cells": {
             "fill": {
              "color": "#EBF0F8"
             },
             "line": {
              "color": "white"
             }
            },
            "header": {
             "fill": {
              "color": "#C8D4E3"
             },
             "line": {
              "color": "white"
             }
            },
            "type": "table"
           }
          ]
         },
         "layout": {
          "annotationdefaults": {
           "arrowcolor": "#2a3f5f",
           "arrowhead": 0,
           "arrowwidth": 1
          },
          "autotypenumbers": "strict",
          "coloraxis": {
           "colorbar": {
            "outlinewidth": 0,
            "ticks": ""
           }
          },
          "colorscale": {
           "diverging": [
            [
             0,
             "#8e0152"
            ],
            [
             0.1,
             "#c51b7d"
            ],
            [
             0.2,
             "#de77ae"
            ],
            [
             0.3,
             "#f1b6da"
            ],
            [
             0.4,
             "#fde0ef"
            ],
            [
             0.5,
             "#f7f7f7"
            ],
            [
             0.6,
             "#e6f5d0"
            ],
            [
             0.7,
             "#b8e186"
            ],
            [
             0.8,
             "#7fbc41"
            ],
            [
             0.9,
             "#4d9221"
            ],
            [
             1,
             "#276419"
            ]
           ],
           "sequential": [
            [
             0,
             "#0d0887"
            ],
            [
             0.1111111111111111,
             "#46039f"
            ],
            [
             0.2222222222222222,
             "#7201a8"
            ],
            [
             0.3333333333333333,
             "#9c179e"
            ],
            [
             0.4444444444444444,
             "#bd3786"
            ],
            [
             0.5555555555555556,
             "#d8576b"
            ],
            [
             0.6666666666666666,
             "#ed7953"
            ],
            [
             0.7777777777777778,
             "#fb9f3a"
            ],
            [
             0.8888888888888888,
             "#fdca26"
            ],
            [
             1,
             "#f0f921"
            ]
           ],
           "sequentialminus": [
            [
             0,
             "#0d0887"
            ],
            [
             0.1111111111111111,
             "#46039f"
            ],
            [
             0.2222222222222222,
             "#7201a8"
            ],
            [
             0.3333333333333333,
             "#9c179e"
            ],
            [
             0.4444444444444444,
             "#bd3786"
            ],
            [
             0.5555555555555556,
             "#d8576b"
            ],
            [
             0.6666666666666666,
             "#ed7953"
            ],
            [
             0.7777777777777778,
             "#fb9f3a"
            ],
            [
             0.8888888888888888,
             "#fdca26"
            ],
            [
             1,
             "#f0f921"
            ]
           ]
          },
          "colorway": [
           "#636efa",
           "#EF553B",
           "#00cc96",
           "#ab63fa",
           "#FFA15A",
           "#19d3f3",
           "#FF6692",
           "#B6E880",
           "#FF97FF",
           "#FECB52"
          ],
          "font": {
           "color": "#2a3f5f"
          },
          "geo": {
           "bgcolor": "white",
           "lakecolor": "white",
           "landcolor": "#E5ECF6",
           "showlakes": true,
           "showland": true,
           "subunitcolor": "white"
          },
          "hoverlabel": {
           "align": "left"
          },
          "hovermode": "closest",
          "mapbox": {
           "style": "light"
          },
          "paper_bgcolor": "white",
          "plot_bgcolor": "#E5ECF6",
          "polar": {
           "angularaxis": {
            "gridcolor": "white",
            "linecolor": "white",
            "ticks": ""
           },
           "bgcolor": "#E5ECF6",
           "radialaxis": {
            "gridcolor": "white",
            "linecolor": "white",
            "ticks": ""
           }
          },
          "scene": {
           "xaxis": {
            "backgroundcolor": "#E5ECF6",
            "gridcolor": "white",
            "gridwidth": 2,
            "linecolor": "white",
            "showbackground": true,
            "ticks": "",
            "zerolinecolor": "white"
           },
           "yaxis": {
            "backgroundcolor": "#E5ECF6",
            "gridcolor": "white",
            "gridwidth": 2,
            "linecolor": "white",
            "showbackground": true,
            "ticks": "",
            "zerolinecolor": "white"
           },
           "zaxis": {
            "backgroundcolor": "#E5ECF6",
            "gridcolor": "white",
            "gridwidth": 2,
            "linecolor": "white",
            "showbackground": true,
            "ticks": "",
            "zerolinecolor": "white"
           }
          },
          "shapedefaults": {
           "line": {
            "color": "#2a3f5f"
           }
          },
          "ternary": {
           "aaxis": {
            "gridcolor": "white",
            "linecolor": "white",
            "ticks": ""
           },
           "baxis": {
            "gridcolor": "white",
            "linecolor": "white",
            "ticks": ""
           },
           "bgcolor": "#E5ECF6",
           "caxis": {
            "gridcolor": "white",
            "linecolor": "white",
            "ticks": ""
           }
          },
          "title": {
           "x": 0.05
          },
          "xaxis": {
           "automargin": true,
           "gridcolor": "white",
           "linecolor": "white",
           "ticks": "",
           "title": {
            "standoff": 15
           },
           "zerolinecolor": "white",
           "zerolinewidth": 2
          },
          "yaxis": {
           "automargin": true,
           "gridcolor": "white",
           "linecolor": "white",
           "ticks": "",
           "title": {
            "standoff": 15
           },
           "zerolinecolor": "white",
           "zerolinewidth": 2
          }
         }
        },
        "title": {
         "text": "All items - Actual VS Prediction: Period 2"
        },
        "xaxis": {
         "anchor": "y",
         "domain": [
          0,
          1
         ],
         "title": {
          "text": "Date"
         }
        },
        "yaxis": {
         "anchor": "x",
         "domain": [
          0,
          1
         ],
         "title": {
          "text": "value"
         }
        }
       }
      }
     },
     "metadata": {},
     "output_type": "display_data"
    }
   ],
   "source": [
    "def plot_results(plot_dict, categories = None, horizon = 1):\n",
    "    if categories is None:\n",
    "        categories = list(plot_dict.keys())\n",
    "    category_samples = random.sample(categories, 10)+['All items']\n",
    "    for category in category_samples:\n",
    "        category_df = plot_dict[category]\n",
    "        fig = px.line(category_df, x=\"Date\", y=[f\"Actual - Period {int(horizon+1)}\", f\"Prediction - Period {int(horizon+1)}\"], title=f'{category} - Actual VS Prediction: Period '+str(horizon+1))\n",
    "        fig.show()\n",
    "\n",
    "plot_results(plot_dict)"
   ]
  },
  {
   "cell_type": "code",
   "execution_count": 12,
   "metadata": {},
   "outputs": [],
   "source": [
    "def avg_rmse(plot_dict, horizon = 0):\n",
    "    mse_lst = []\n",
    "    for key in list(plot_dict.keys()):\n",
    "        cat_df = plot_dict[key]\n",
    "        y_pred = cat_df[f'Prediction - Period {int(horizon+1)}'][:-(1+horizon)].values\n",
    "        y_actual = cat_df[f'Actual - Period {int(horizon+1)}'][:-(1+horizon)].values\n",
    "        mse = mean_squared_error(y_pred, y_actual)\n",
    "        mse_lst.append(mse)\n",
    "    \n",
    "    total_mse = sum(mse_lst)\n",
    "    avg_mse = total_mse/len(list(plot_dict.keys()))\n",
    "    avg_rmse = np.sqrt(avg_mse)\n",
    "    \n",
    "    return avg_rmse\n",
    "    "
   ]
  },
  {
   "cell_type": "code",
   "execution_count": 13,
   "metadata": {},
   "outputs": [
    {
     "name": "stdout",
     "output_type": "stream",
     "text": [
      "RMSE Period 1: 1.6614437570057259\n",
      "RMSE Period 2: 2.004781743307396\n",
      "RMSE Period 3: 2.0502552500808955\n",
      "RMSE Period 4: 1.8103402870879228\n",
      "RMSE Period 5: 1.9219373195032676\n",
      "RMSE Period 6: 2.0844739609440834\n",
      "RMSE Period 7: 1.981939412345216\n"
     ]
    }
   ],
   "source": [
    "rmse_period_1 = avg_rmse(plot_dict,0)\n",
    "rmse_period_2 = avg_rmse(plot_dict,1)\n",
    "rmse_period_3 = avg_rmse(plot_dict,2)\n",
    "rmse_period_4 = avg_rmse(plot_dict,3)\n",
    "rmse_period_5 = avg_rmse(plot_dict,4)\n",
    "rmse_period_6 = avg_rmse(plot_dict,5)\n",
    "rmse_period_7 = avg_rmse(plot_dict,6)\n",
    "\n",
    "print(f'RMSE Period 1: {rmse_period_1}')\n",
    "print(f'RMSE Period 2: {rmse_period_2}')\n",
    "print(f'RMSE Period 3: {rmse_period_3}')\n",
    "print(f'RMSE Period 4: {rmse_period_4}')\n",
    "print(f'RMSE Period 5: {rmse_period_5}')\n",
    "print(f'RMSE Period 6: {rmse_period_6}')\n",
    "print(f'RMSE Period 7: {rmse_period_7}')"
   ]
  },
  {
   "cell_type": "markdown",
   "metadata": {},
   "source": []
  },
  {
   "cell_type": "code",
   "execution_count": null,
   "metadata": {},
   "outputs": [],
   "source": []
  }
 ],
 "metadata": {
  "kernelspec": {
   "display_name": "Python 3.10.8 64-bit",
   "language": "python",
   "name": "python3"
  },
  "language_info": {
   "codemirror_mode": {
    "name": "ipython",
    "version": 3
   },
   "file_extension": ".py",
   "mimetype": "text/x-python",
   "name": "python",
   "nbconvert_exporter": "python",
   "pygments_lexer": "ipython3",
   "version": "3.10.8 (v3.10.8:aaaf517424, Oct 11 2022, 10:14:40) [Clang 13.0.0 (clang-1300.0.29.30)]"
  },
  "orig_nbformat": 4,
  "vscode": {
   "interpreter": {
    "hash": "aee8b7b246df8f9039afb4144a1f6fd8d2ca17a180786b69acc140d282b71a49"
   }
  }
 },
 "nbformat": 4,
 "nbformat_minor": 2
}
