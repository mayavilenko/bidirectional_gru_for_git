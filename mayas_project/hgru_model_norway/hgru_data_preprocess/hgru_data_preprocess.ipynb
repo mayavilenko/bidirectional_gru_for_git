{
 "cells": [
  {
   "attachments": {},
   "cell_type": "markdown",
   "metadata": {},
   "source": [
    "# Imports"
   ]
  },
  {
   "cell_type": "code",
   "execution_count": 1,
   "metadata": {},
   "outputs": [],
   "source": [
    "import pickle\n",
    "from preprocess_config import *"
   ]
  },
  {
   "attachments": {},
   "cell_type": "markdown",
   "metadata": {},
   "source": [
    "# Read + process Data"
   ]
  },
  {
   "cell_type": "code",
   "execution_count": 2,
   "metadata": {},
   "outputs": [],
   "source": [
    "with open(dataset_dict_path, 'rb') as f:\n",
    "    raw_dataset_dict = pickle.load(f)"
   ]
  },
  {
   "cell_type": "code",
   "execution_count": 3,
   "metadata": {},
   "outputs": [],
   "source": [
    "def train_test_split(dic: dict, year: int) -> dict:\n",
    "    train = {}\n",
    "    test = {}\n",
    "    for key in dic.keys():\n",
    "        category_df = dic[key]\n",
    "        train[key] = category_df[category_df['Year'] <= year]\n",
    "        test[key] = category_df[category_df['Year'] > year]\n",
    "    return train, test\n",
    "\n",
    "raw_train_data_dict, raw_test_data_dict = train_test_split(raw_dataset_dict, year=Year)"
   ]
  },
  {
   "cell_type": "code",
   "execution_count": 4,
   "metadata": {},
   "outputs": [],
   "source": [
    "def get_relevant_features(dic: dict, drop_columns: list) -> dict:\n",
    "    processed_dict = dic.copy()\n",
    "    for key in list(processed_dict.keys()):\n",
    "        processed_dict[key] = processed_dict[key].drop(columns=drop_columns)\n",
    "        processed_dict[key].dropna(inplace=True)\n",
    "    return processed_dict\n",
    "\n",
    "drop_columns = ['Category_id', 'Category', 'Year', 'Date', 'Price', 'Indent', 'Weight', 'Parent', 'Parent_ID']\n",
    "\n",
    "train_data_dict = get_relevant_features(raw_train_data_dict, drop_columns)\n",
    "\n",
    "test_data_dict = get_relevant_features(raw_test_data_dict, drop_columns)"
   ]
  },
  {
   "cell_type": "code",
   "execution_count": 5,
   "metadata": {},
   "outputs": [],
   "source": [
    "with open(train_dataset_path, 'wb') as handle:\n",
    "    pickle.dump(train_data_dict, handle, protocol=pickle.HIGHEST_PROTOCOL)\n",
    "\n",
    "with open(test_dataset_path, 'wb') as handle:\n",
    "    pickle.dump(test_data_dict, handle, protocol=pickle.HIGHEST_PROTOCOL)"
   ]
  },
  {
   "cell_type": "code",
   "execution_count": 6,
   "metadata": {},
   "outputs": [
    {
     "data": {
      "text/plain": [
       "(131, 14)"
      ]
     },
     "execution_count": 6,
     "metadata": {},
     "output_type": "execute_result"
    }
   ],
   "source": [
    "train_data_dict['All-items'].shape"
   ]
  },
  {
   "cell_type": "code",
   "execution_count": 7,
   "metadata": {},
   "outputs": [
    {
     "data": {
      "text/plain": [
       "(28, 14)"
      ]
     },
     "execution_count": 7,
     "metadata": {},
     "output_type": "execute_result"
    }
   ],
   "source": [
    "test_data_dict['All-items'].shape"
   ]
  },
  {
   "cell_type": "code",
   "execution_count": null,
   "metadata": {},
   "outputs": [],
   "source": []
  }
 ],
 "metadata": {
  "kernelspec": {
   "display_name": "Python 3.10.8 64-bit",
   "language": "python",
   "name": "python3"
  },
  "language_info": {
   "codemirror_mode": {
    "name": "ipython",
    "version": 3
   },
   "file_extension": ".py",
   "mimetype": "text/x-python",
   "name": "python",
   "nbconvert_exporter": "python",
   "pygments_lexer": "ipython3",
   "version": "3.11.2"
  },
  "orig_nbformat": 4,
  "vscode": {
   "interpreter": {
    "hash": "aee8b7b246df8f9039afb4144a1f6fd8d2ca17a180786b69acc140d282b71a49"
   }
  }
 },
 "nbformat": 4,
 "nbformat_minor": 2
}
