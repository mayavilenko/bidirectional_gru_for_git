{
 "cells": [
  {
   "attachments": {},
   "cell_type": "markdown",
   "metadata": {},
   "source": [
    "# Imports"
   ]
  },
  {
   "cell_type": "code",
   "execution_count": 1,
   "metadata": {},
   "outputs": [],
   "source": [
    "import sys\n",
    "sys.path.insert(0, '/Users/mvilenko/Library/CloudStorage/OneDrive-PayPal/CPI_HRNN - version 2.0/mayas_project/hgru_model_norway/model/')"
   ]
  },
  {
   "cell_type": "code",
   "execution_count": 2,
   "metadata": {},
   "outputs": [
    {
     "name": "stderr",
     "output_type": "stream",
     "text": [
      "2023-06-18 20:42:05.449763: I tensorflow/core/platform/cpu_feature_guard.cc:182] This TensorFlow binary is optimized to use available CPU instructions in performance-critical operations.\n",
      "To enable the following instructions: AVX2 AVX512F AVX512_VNNI FMA, in other operations, rebuild TensorFlow with the appropriate compiler flags.\n"
     ]
    }
   ],
   "source": [
    "import pandas as pd\n",
    "import numpy as np\n",
    "import pickle\n",
    "import itertools\n",
    "import random\n",
    "import torch\n",
    "from model.utils import *"
   ]
  },
  {
   "cell_type": "code",
   "execution_count": 3,
   "metadata": {},
   "outputs": [],
   "source": [
    "from pipeline_config import *"
   ]
  },
  {
   "attachments": {},
   "cell_type": "markdown",
   "metadata": {},
   "source": [
    "# Seeds for Comparisons:"
   ]
  },
  {
   "cell_type": "code",
   "execution_count": 4,
   "metadata": {},
   "outputs": [],
   "source": [
    "torch.manual_seed(1)\n",
    "np.random.seed(2)\n",
    "random.seed(3)"
   ]
  },
  {
   "attachments": {},
   "cell_type": "markdown",
   "metadata": {},
   "source": [
    "# Read Data"
   ]
  },
  {
   "cell_type": "code",
   "execution_count": 5,
   "metadata": {},
   "outputs": [],
   "source": [
    "with open(son_parent_path, 'rb') as f:\n",
    "    son_parent_dict = pickle.load(f)\n",
    "\n",
    "with open(train_dataset_dict_path, 'rb') as f:\n",
    "    train_dataset_dict = pickle.load(f)\n",
    "\n",
    "with open(test_dataset_dict_path, 'rb') as f:\n",
    "    test_dataset_dict = pickle.load(f)\n",
    "\n",
    "with open(category_id_to_category_name_path, 'rb') as f:\n",
    "    category_id_to_name_dict = pickle.load(f)\n",
    "    \n",
    "with open(categories_per_indent_path, 'rb') as f:\n",
    "    categories_per_indent_dict = pickle.load(f)"
   ]
  },
  {
   "cell_type": "code",
   "execution_count": 6,
   "metadata": {},
   "outputs": [
    {
     "data": {
      "text/plain": [
       "0.04329823452489634"
      ]
     },
     "execution_count": 6,
     "metadata": {},
     "output_type": "execute_result"
    }
   ],
   "source": [
    "Lr"
   ]
  },
  {
   "cell_type": "code",
   "execution_count": 7,
   "metadata": {},
   "outputs": [
    {
     "data": {
      "text/plain": [
       "52"
      ]
     },
     "execution_count": 7,
     "metadata": {},
     "output_type": "execute_result"
    }
   ],
   "source": [
    "len(list(test_dataset_dict.keys()))"
   ]
  },
  {
   "attachments": {},
   "cell_type": "markdown",
   "metadata": {},
   "source": [
    "# Hierarchical GRU"
   ]
  },
  {
   "cell_type": "code",
   "execution_count": 8,
   "metadata": {},
   "outputs": [],
   "source": [
    "def hgru_model(son_parent_dict, train_dataset_dict, test_dataset_dict, categories_per_indent_dict, category_id_to_name_dict, weights_path):\n",
    "    hgru_models = {}\n",
    "\n",
    "    num_categories = 0\n",
    "    for indent in sorted(list(categories_per_indent_dict.keys())):\n",
    "        for category in categories_per_indent_dict[indent]:\n",
    "            num_categories +=1\n",
    "            print(f'num categories: {num_categories}')\n",
    "            category_name = category_id_to_name_dict[category]\n",
    "            print(f'category id|name: {category}|{category_name}')\n",
    "\n",
    "            if int(indent) == 0 or son_parent_dict[category] not in categories_per_indent_dict[indent-1]:\n",
    "                loss_coef=0\n",
    "                parent_weights=0\n",
    "            else:\n",
    "                son = category\n",
    "                parent = son_parent_dict[son]\n",
    "                parent_name = category_id_to_name_dict[parent]\n",
    "                loss_coef = 0.03881843050613352\n",
    "                parent_model = Model\n",
    "                parent_optimizer = Optimizer\n",
    "                parent_model, optimizer, checkpoint, valid_loss_min = load_checkpoint(weights_path+parent_name+'.pt', parent_model, parent_optimizer)\n",
    "                parent_weights = unify_model_weights(parent_model)\n",
    "\n",
    "            train_dataloader, test_dataloader = create_dataloader(train_dataset_dict[category_name], test_dataset_dict[category_name])\n",
    "            model = Model\n",
    "            optimizer = Optimizer\n",
    "            model.to(Device)\n",
    "            saving_param_path = weights_path+category_name+'.pt'\n",
    "            training_and_evaluation(model, train_dataloader, test_dataloader, optimizer, category_name, parent_weights, loss_coef, path=saving_param_path)\n"
   ]
  },
  {
   "cell_type": "code",
   "execution_count": 9,
   "metadata": {},
   "outputs": [
    {
     "name": "stdout",
     "output_type": "stream",
     "text": [
      "num categories: 1\n",
      "category id|name: 0|All-items\n",
      "num categories: 2\n",
      "category id|name: 2|Alcoholic beverages and tobacco\n",
      "num categories: 3\n",
      "category id|name: 3|Clothing and footwear\n",
      "num categories: 4\n",
      "category id|name: 8|Communications\n",
      "num categories: 5\n",
      "category id|name: 10|Education\n",
      "num categories: 6\n",
      "category id|name: 1|Food and non-alcoholic beverages\n",
      "num categories: 7\n",
      "category id|name: 5|Furnishings, household equipment and routine maintenance\n",
      "num categories: 8\n",
      "category id|name: 6|Health\n",
      "num categories: 9\n",
      "category id|name: 4|Housing, water, electricity, gas and other fuels\n",
      "num categories: 10\n",
      "category id|name: 12|Miscellaneous goods and services\n",
      "num categories: 11\n",
      "category id|name: 9|Recreation and culture\n",
      "num categories: 12\n",
      "category id|name: 11|Restaurants and hotels\n",
      "num categories: 13\n",
      "category id|name: 7|Transport\n",
      "num categories: 14\n",
      "category id|name: 45|Accommodation services\n",
      "num categories: 15\n",
      "category id|name: 19|Actual rentals for housing\n",
      "num categories: 16\n",
      "category id|name: 15|Alcoholic beverages\n",
      "num categories: 17\n",
      "category id|name: 38|Audio-visual, photographic and information processing equipment\n",
      "num categories: 18\n",
      "category id|name: 17|Clothing\n",
      "num categories: 19\n",
      "category id|name: 23|Electricity, gas and other fuels\n",
      "num categories: 20\n",
      "category id|name: 50|Financial services n.e.c.\n",
      "num categories: 21\n",
      "category id|name: 13|Food\n",
      "num categories: 22\n",
      "category id|name: 18|Footwear\n",
      "num categories: 23\n",
      "category id|name: 24|Furniture and furnishings, carpets and other floor coverings\n",
      "num categories: 24\n",
      "category id|name: 27|Glassware, tableware and household utensils\n",
      "num categories: 25\n",
      "category id|name: 29|Goods and services for routine household maintenance\n",
      "num categories: 26\n",
      "category id|name: 26|Household appliances\n",
      "num categories: 27\n",
      "category id|name: 25|Household textiles\n",
      "num categories: 28\n",
      "category id|name: 20|Imputed rentals for housing\n",
      "num categories: 29\n",
      "category id|name: 49|Insurance\n",
      "num categories: 30\n",
      "category id|name: 21|Maintenance and repair of the dwelling\n",
      "num categories: 31\n",
      "category id|name: 30|Medical products, appliances and equipment\n",
      "num categories: 32\n",
      "category id|name: 42|Newspapers, books and stationery\n",
      "num categories: 33\n",
      "category id|name: 14|Non-alcoholic beverages\n",
      "num categories: 34\n",
      "category id|name: 33|Operation of personal transport equipment\n",
      "num categories: 35\n",
      "category id|name: 39|Other major durables for recreation and culture\n",
      "num categories: 36\n",
      "category id|name: 40|Other recreational items and equipment, gardens and pets\n",
      "num categories: 37\n",
      "category id|name: 51|Other services n.e.c.\n",
      "num categories: 38\n",
      "category id|name: 31|Out-patient services\n",
      "num categories: 39\n",
      "category id|name: 43|Package holidays\n",
      "num categories: 40\n",
      "category id|name: 46|Personal care\n",
      "num categories: 41\n",
      "category id|name: 47|Personal effects n.e.c.\n",
      "num categories: 42\n",
      "category id|name: 35|Postal services\n",
      "num categories: 43\n",
      "category id|name: 32|Purchase of vehicles\n",
      "num categories: 44\n",
      "category id|name: 41|Recreational and cultural services\n",
      "num categories: 45\n",
      "category id|name: 44|Restaurant services\n",
      "num categories: 46\n",
      "category id|name: 48|Social protection\n",
      "num categories: 47\n",
      "category id|name: 36|Telephone equipment\n",
      "num categories: 48\n",
      "category id|name: 37|Telephone services\n",
      "num categories: 49\n",
      "category id|name: 16|Tobacco\n",
      "num categories: 50\n",
      "category id|name: 28|Tools and equipment for house and garden\n",
      "num categories: 51\n",
      "category id|name: 34|Transport services\n",
      "num categories: 52\n",
      "category id|name: 22|Water supply and miscellaneous services relating to the dwelling\n"
     ]
    }
   ],
   "source": [
    "hgru_models = hgru_model(son_parent_dict, train_dataset_dict, test_dataset_dict, categories_per_indent_dict, category_id_to_name_dict, weightspath)"
   ]
  },
  {
   "cell_type": "code",
   "execution_count": 10,
   "metadata": {},
   "outputs": [],
   "source": [
    "def get_results_on_test_set(weights_path, train_dataset_dict, test_dataset_dict, categories = None):\n",
    "    predictions_dict = {}\n",
    "    if categories is None:\n",
    "        categories = list(test_dataset_dict.keys())\n",
    "        \n",
    "    for category in categories:\n",
    "        print(category)\n",
    "        train_dataloader, test_dataloader = create_dataloader(train_dataset_dict[category], test_dataset_dict[category])\n",
    "        basic_model = Model\n",
    "        basic_optimizer = Optimizer\n",
    "        ckp_path = weights_path+category+'.pt'\n",
    "        model, optimizer, checkpoint, valid_loss_min = load_checkpoint(ckp_path, basic_model, basic_optimizer)\n",
    "        predictions = get_predictions_on_test_set(model, test_dataloader)\n",
    "        predictions_dict[category] = predictions\n",
    "    return predictions_dict"
   ]
  },
  {
   "cell_type": "code",
   "execution_count": 11,
   "metadata": {},
   "outputs": [],
   "source": [
    "categories_lists = list(categories_per_indent_dict.values())\n",
    "categories_id = list(itertools.chain.from_iterable(categories_lists))\n",
    "categories = []\n",
    "for category_id in categories_id:\n",
    "    categories.append(category_id_to_name_dict[category_id])"
   ]
  },
  {
   "cell_type": "code",
   "execution_count": 12,
   "metadata": {},
   "outputs": [
    {
     "name": "stdout",
     "output_type": "stream",
     "text": [
      "Accommodation services\n",
      "Actual rentals for housing\n",
      "Alcoholic beverages\n",
      "Audio-visual, photographic and information processing equipment\n",
      "Clothing\n",
      "Electricity, gas and other fuels\n",
      "Financial services n.e.c.\n",
      "Food\n",
      "Footwear\n",
      "Furniture and furnishings, carpets and other floor coverings\n",
      "Glassware, tableware and household utensils\n",
      "Goods and services for routine household maintenance\n",
      "Household appliances\n",
      "Household textiles\n",
      "Imputed rentals for housing\n",
      "Insurance\n",
      "Maintenance and repair of the dwelling\n",
      "Medical products, appliances and equipment\n",
      "Newspapers, books and stationery\n",
      "Non-alcoholic beverages\n",
      "Operation of personal transport equipment\n",
      "Other major durables for recreation and culture\n",
      "Other recreational items and equipment, gardens and pets\n",
      "Other services n.e.c.\n",
      "Out-patient services\n",
      "Package holidays\n",
      "Personal care\n",
      "Personal effects n.e.c.\n",
      "Postal services\n",
      "Purchase of vehicles\n",
      "Recreational and cultural services\n",
      "Restaurant services\n",
      "Social protection\n",
      "Telephone equipment\n",
      "Telephone services\n",
      "Tobacco\n",
      "Tools and equipment for house and garden\n",
      "Transport services\n",
      "Water supply and miscellaneous services relating to the dwelling\n",
      "Alcoholic beverages and tobacco\n",
      "Clothing and footwear\n",
      "Communications\n",
      "Education\n",
      "Food and non-alcoholic beverages\n",
      "Furnishings, household equipment and routine maintenance\n",
      "Health\n",
      "Housing, water, electricity, gas and other fuels\n",
      "Miscellaneous goods and services\n",
      "Recreation and culture\n",
      "Restaurants and hotels\n",
      "Transport\n",
      "All-items\n"
     ]
    }
   ],
   "source": [
    "predictions_dict = get_results_on_test_set(weightspath, train_dataset_dict, test_dataset_dict, categories = categories)"
   ]
  },
  {
   "cell_type": "code",
   "execution_count": 13,
   "metadata": {},
   "outputs": [],
   "source": [
    "with open(test_predictions_path, 'wb') as handle:\n",
    "    pickle.dump(predictions_dict, handle, protocol=pickle.HIGHEST_PROTOCOL)"
   ]
  },
  {
   "attachments": {},
   "cell_type": "markdown",
   "metadata": {},
   "source": [
    "# Get Best Model Weights:"
   ]
  },
  {
   "cell_type": "code",
   "execution_count": 14,
   "metadata": {},
   "outputs": [],
   "source": [
    "def get_weights_per_category(category_id_list, dir_path):\n",
    "    basic_model = GRUModel(input_dim = Features, hidden_dim = HiddenSize, layer_dim = LayersDim, output_dim = OutputDim, dropout_prob = DropoutProb)\n",
    "    basic_optimizer = torch.optim.AdamW(basic_model.parameters(), lr=Lr)\n",
    "    #basic_model.to(device)\n",
    "\n",
    "    best_models_weights_dict = {}\n",
    "\n",
    "    for category_id in category_id_list:\n",
    "        category_name = category_id_to_name_dict[category_id]\n",
    "        ckp_path = dir_path+category_name+'.pt'\n",
    "        model, optimizer, checkpoint, valid_loss_min = load_checkpoint(ckp_path, basic_model, basic_optimizer)\n",
    "        category_model_weights = unify_model_weights(model)\n",
    "        best_models_weights_dict[category_id] = category_model_weights\n",
    "        \n",
    "    return best_models_weights_dict"
   ]
  },
  {
   "cell_type": "code",
   "execution_count": 15,
   "metadata": {},
   "outputs": [],
   "source": [
    "dir_path = '/Users/mvilenko/Library/CloudStorage/OneDrive-PayPal/CPI_HRNN - version 2.0/mayas_project/hgru_model_norway/models_weights/'"
   ]
  },
  {
   "cell_type": "code",
   "execution_count": 16,
   "metadata": {},
   "outputs": [],
   "source": [
    "category_id_list = []\n",
    " \n",
    "# list out keys and values separately\n",
    "key_list = list(category_id_to_name_dict.keys())\n",
    "val_list = list(category_id_to_name_dict.values())\n",
    "\n",
    "for cat_name in categories:\n",
    "    position = val_list.index(cat_name)\n",
    "    category_id_list.append(key_list[position])\n"
   ]
  },
  {
   "cell_type": "code",
   "execution_count": 17,
   "metadata": {},
   "outputs": [
    {
     "data": {
      "text/plain": [
       "52"
      ]
     },
     "execution_count": 17,
     "metadata": {},
     "output_type": "execute_result"
    }
   ],
   "source": [
    "len(categories)"
   ]
  },
  {
   "cell_type": "code",
   "execution_count": 18,
   "metadata": {},
   "outputs": [
    {
     "data": {
      "text/plain": [
       "52"
      ]
     },
     "execution_count": 18,
     "metadata": {},
     "output_type": "execute_result"
    }
   ],
   "source": [
    "len(category_id_list)"
   ]
  },
  {
   "cell_type": "code",
   "execution_count": 19,
   "metadata": {},
   "outputs": [],
   "source": [
    "weights_dict = get_weights_per_category(category_id_list, dir_path)"
   ]
  },
  {
   "cell_type": "code",
   "execution_count": 20,
   "metadata": {},
   "outputs": [],
   "source": [
    "with open('/Users/mvilenko/Library/CloudStorage/OneDrive-PayPal/CPI_HRNN - version 2.0/pickle files/hgru_model_weights_norway.pickle', 'wb') as handle:\n",
    "    pickle.dump(weights_dict, handle, protocol=pickle.HIGHEST_PROTOCOL)"
   ]
  },
  {
   "cell_type": "code",
   "execution_count": null,
   "metadata": {},
   "outputs": [],
   "source": []
  },
  {
   "cell_type": "code",
   "execution_count": null,
   "metadata": {},
   "outputs": [],
   "source": []
  }
 ],
 "metadata": {
  "kernelspec": {
   "display_name": "Python 3",
   "language": "python",
   "name": "python3"
  },
  "language_info": {
   "codemirror_mode": {
    "name": "ipython",
    "version": 3
   },
   "file_extension": ".py",
   "mimetype": "text/x-python",
   "name": "python",
   "nbconvert_exporter": "python",
   "pygments_lexer": "ipython3",
   "version": "3.11.3"
  },
  "orig_nbformat": 4,
  "vscode": {
   "interpreter": {
    "hash": "31f2aee4e71d21fbe5cf8b01ff0e069b9275f58929596ceb00d14d90e3e16cd6"
   }
  }
 },
 "nbformat": 4,
 "nbformat_minor": 2
}
