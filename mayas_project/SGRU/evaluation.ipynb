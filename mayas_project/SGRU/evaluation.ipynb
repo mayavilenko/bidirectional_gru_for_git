{
 "cells": [
  {
   "cell_type": "markdown",
   "metadata": {},
   "source": [
    "# Imports"
   ]
  },
  {
   "cell_type": "code",
   "execution_count": 1,
   "metadata": {},
   "outputs": [],
   "source": [
    "import pandas as pd\n",
    "import numpy as np\n",
    "import matplotlib.pyplot as plt\n",
    "import torch\n",
    "import pickle\n",
    "import random\n",
    "import plotly.express as px\n",
    "from sklearn.metrics import mean_squared_error\n",
    "\n",
    "from config import *\n"
   ]
  },
  {
   "cell_type": "code",
   "execution_count": 2,
   "metadata": {},
   "outputs": [],
   "source": [
    "torch.manual_seed(1)\n",
    "np.random.seed(2)\n",
    "random.seed(3)"
   ]
  },
  {
   "cell_type": "markdown",
   "metadata": {},
   "source": [
    "# Read Results Data"
   ]
  },
  {
   "cell_type": "code",
   "execution_count": 3,
   "metadata": {},
   "outputs": [],
   "source": [
    "with open('/Users/mvilenko/Desktop/CPI_HRNN - version 2.0/mayas_project/SGRU/data/predictions.pickle', 'rb') as f:\n",
    "    predictions = pickle.load(f)\n",
    "\n",
    "with open(BaselinePath, 'rb') as f:\n",
    "    raw_dataset_dict = pickle.load(f)\n",
    "    \n",
    "with open(category_id_to_category_name_path, 'rb') as f:\n",
    "    category_id_to_name_dict = pickle.load(f)\n",
    "    \n",
    "with open(categories_per_indent_path, 'rb') as f:\n",
    "    categories_per_indent_dict = pickle.load(f)\n",
    "        \n",
    "with open('/Users/mvilenko/Desktop/CPI_HRNN - version 2.0/mayas_project/SGRU/data/test_dataset.pickle', 'rb') as f:\n",
    "    test_dataset = pickle.load(f)"
   ]
  },
  {
   "cell_type": "code",
   "execution_count": 4,
   "metadata": {},
   "outputs": [],
   "source": [
    "categories_per_indent_dict ={key: categories_per_indent_dict[key] for key in categories_per_indent_dict.keys() if key in [0,1,2,3]}\n",
    "cat_ids = list(categories_per_indent_dict.values())\n",
    "\n",
    "flat_cat_id = [item for sublist in cat_ids for item in sublist]\n",
    "\n",
    "categories = []\n",
    "for cat_id in flat_cat_id:\n",
    "    categories.append(category_id_to_name_dict[cat_id])"
   ]
  },
  {
   "cell_type": "code",
   "execution_count": 5,
   "metadata": {},
   "outputs": [
    {
     "name": "stderr",
     "output_type": "stream",
     "text": [
      "/var/folders/b3/gf49qzln7ds81ck68l_z0bqr0000gq/T/ipykernel_6567/1286271043.py:5: SettingWithCopyWarning: \n",
      "A value is trying to be set on a copy of a slice from a DataFrame\n",
      "\n",
      "See the caveats in the documentation: https://pandas.pydata.org/pandas-docs/stable/user_guide/indexing.html#returning-a-view-versus-a-copy\n",
      "  df.dropna(inplace=True)\n",
      "/var/folders/b3/gf49qzln7ds81ck68l_z0bqr0000gq/T/ipykernel_6567/1286271043.py:6: SettingWithCopyWarning: \n",
      "A value is trying to be set on a copy of a slice from a DataFrame\n",
      "\n",
      "See the caveats in the documentation: https://pandas.pydata.org/pandas-docs/stable/user_guide/indexing.html#returning-a-view-versus-a-copy\n",
      "  df.rename(columns={'Inflation t+1': 'Actual'}, inplace=True)\n",
      "/var/folders/b3/gf49qzln7ds81ck68l_z0bqr0000gq/T/ipykernel_6567/1286271043.py:5: SettingWithCopyWarning: \n",
      "A value is trying to be set on a copy of a slice from a DataFrame\n",
      "\n",
      "See the caveats in the documentation: https://pandas.pydata.org/pandas-docs/stable/user_guide/indexing.html#returning-a-view-versus-a-copy\n",
      "  df.dropna(inplace=True)\n",
      "/var/folders/b3/gf49qzln7ds81ck68l_z0bqr0000gq/T/ipykernel_6567/1286271043.py:6: SettingWithCopyWarning: \n",
      "A value is trying to be set on a copy of a slice from a DataFrame\n",
      "\n",
      "See the caveats in the documentation: https://pandas.pydata.org/pandas-docs/stable/user_guide/indexing.html#returning-a-view-versus-a-copy\n",
      "  df.rename(columns={'Inflation t+1': 'Actual'}, inplace=True)\n",
      "/var/folders/b3/gf49qzln7ds81ck68l_z0bqr0000gq/T/ipykernel_6567/1286271043.py:5: SettingWithCopyWarning: \n",
      "A value is trying to be set on a copy of a slice from a DataFrame\n",
      "\n",
      "See the caveats in the documentation: https://pandas.pydata.org/pandas-docs/stable/user_guide/indexing.html#returning-a-view-versus-a-copy\n",
      "  df.dropna(inplace=True)\n",
      "/var/folders/b3/gf49qzln7ds81ck68l_z0bqr0000gq/T/ipykernel_6567/1286271043.py:6: SettingWithCopyWarning: \n",
      "A value is trying to be set on a copy of a slice from a DataFrame\n",
      "\n",
      "See the caveats in the documentation: https://pandas.pydata.org/pandas-docs/stable/user_guide/indexing.html#returning-a-view-versus-a-copy\n",
      "  df.rename(columns={'Inflation t+1': 'Actual'}, inplace=True)\n",
      "/var/folders/b3/gf49qzln7ds81ck68l_z0bqr0000gq/T/ipykernel_6567/1286271043.py:5: SettingWithCopyWarning: \n",
      "A value is trying to be set on a copy of a slice from a DataFrame\n",
      "\n",
      "See the caveats in the documentation: https://pandas.pydata.org/pandas-docs/stable/user_guide/indexing.html#returning-a-view-versus-a-copy\n",
      "  df.dropna(inplace=True)\n",
      "/var/folders/b3/gf49qzln7ds81ck68l_z0bqr0000gq/T/ipykernel_6567/1286271043.py:6: SettingWithCopyWarning: \n",
      "A value is trying to be set on a copy of a slice from a DataFrame\n",
      "\n",
      "See the caveats in the documentation: https://pandas.pydata.org/pandas-docs/stable/user_guide/indexing.html#returning-a-view-versus-a-copy\n",
      "  df.rename(columns={'Inflation t+1': 'Actual'}, inplace=True)\n",
      "/var/folders/b3/gf49qzln7ds81ck68l_z0bqr0000gq/T/ipykernel_6567/1286271043.py:5: SettingWithCopyWarning: \n",
      "A value is trying to be set on a copy of a slice from a DataFrame\n",
      "\n",
      "See the caveats in the documentation: https://pandas.pydata.org/pandas-docs/stable/user_guide/indexing.html#returning-a-view-versus-a-copy\n",
      "  df.dropna(inplace=True)\n",
      "/var/folders/b3/gf49qzln7ds81ck68l_z0bqr0000gq/T/ipykernel_6567/1286271043.py:6: SettingWithCopyWarning: \n",
      "A value is trying to be set on a copy of a slice from a DataFrame\n",
      "\n",
      "See the caveats in the documentation: https://pandas.pydata.org/pandas-docs/stable/user_guide/indexing.html#returning-a-view-versus-a-copy\n",
      "  df.rename(columns={'Inflation t+1': 'Actual'}, inplace=True)\n",
      "/var/folders/b3/gf49qzln7ds81ck68l_z0bqr0000gq/T/ipykernel_6567/1286271043.py:5: SettingWithCopyWarning: \n",
      "A value is trying to be set on a copy of a slice from a DataFrame\n",
      "\n",
      "See the caveats in the documentation: https://pandas.pydata.org/pandas-docs/stable/user_guide/indexing.html#returning-a-view-versus-a-copy\n",
      "  df.dropna(inplace=True)\n",
      "/var/folders/b3/gf49qzln7ds81ck68l_z0bqr0000gq/T/ipykernel_6567/1286271043.py:6: SettingWithCopyWarning: \n",
      "A value is trying to be set on a copy of a slice from a DataFrame\n",
      "\n",
      "See the caveats in the documentation: https://pandas.pydata.org/pandas-docs/stable/user_guide/indexing.html#returning-a-view-versus-a-copy\n",
      "  df.rename(columns={'Inflation t+1': 'Actual'}, inplace=True)\n",
      "/var/folders/b3/gf49qzln7ds81ck68l_z0bqr0000gq/T/ipykernel_6567/1286271043.py:5: SettingWithCopyWarning: \n",
      "A value is trying to be set on a copy of a slice from a DataFrame\n",
      "\n",
      "See the caveats in the documentation: https://pandas.pydata.org/pandas-docs/stable/user_guide/indexing.html#returning-a-view-versus-a-copy\n",
      "  df.dropna(inplace=True)\n",
      "/var/folders/b3/gf49qzln7ds81ck68l_z0bqr0000gq/T/ipykernel_6567/1286271043.py:6: SettingWithCopyWarning: \n",
      "A value is trying to be set on a copy of a slice from a DataFrame\n",
      "\n",
      "See the caveats in the documentation: https://pandas.pydata.org/pandas-docs/stable/user_guide/indexing.html#returning-a-view-versus-a-copy\n",
      "  df.rename(columns={'Inflation t+1': 'Actual'}, inplace=True)\n",
      "/var/folders/b3/gf49qzln7ds81ck68l_z0bqr0000gq/T/ipykernel_6567/1286271043.py:5: SettingWithCopyWarning: \n",
      "A value is trying to be set on a copy of a slice from a DataFrame\n",
      "\n",
      "See the caveats in the documentation: https://pandas.pydata.org/pandas-docs/stable/user_guide/indexing.html#returning-a-view-versus-a-copy\n",
      "  df.dropna(inplace=True)\n",
      "/var/folders/b3/gf49qzln7ds81ck68l_z0bqr0000gq/T/ipykernel_6567/1286271043.py:6: SettingWithCopyWarning: \n",
      "A value is trying to be set on a copy of a slice from a DataFrame\n",
      "\n",
      "See the caveats in the documentation: https://pandas.pydata.org/pandas-docs/stable/user_guide/indexing.html#returning-a-view-versus-a-copy\n",
      "  df.rename(columns={'Inflation t+1': 'Actual'}, inplace=True)\n",
      "/var/folders/b3/gf49qzln7ds81ck68l_z0bqr0000gq/T/ipykernel_6567/1286271043.py:5: SettingWithCopyWarning: \n",
      "A value is trying to be set on a copy of a slice from a DataFrame\n",
      "\n",
      "See the caveats in the documentation: https://pandas.pydata.org/pandas-docs/stable/user_guide/indexing.html#returning-a-view-versus-a-copy\n",
      "  df.dropna(inplace=True)\n",
      "/var/folders/b3/gf49qzln7ds81ck68l_z0bqr0000gq/T/ipykernel_6567/1286271043.py:6: SettingWithCopyWarning: \n",
      "A value is trying to be set on a copy of a slice from a DataFrame\n",
      "\n",
      "See the caveats in the documentation: https://pandas.pydata.org/pandas-docs/stable/user_guide/indexing.html#returning-a-view-versus-a-copy\n",
      "  df.rename(columns={'Inflation t+1': 'Actual'}, inplace=True)\n",
      "/var/folders/b3/gf49qzln7ds81ck68l_z0bqr0000gq/T/ipykernel_6567/1286271043.py:5: SettingWithCopyWarning: \n",
      "A value is trying to be set on a copy of a slice from a DataFrame\n",
      "\n",
      "See the caveats in the documentation: https://pandas.pydata.org/pandas-docs/stable/user_guide/indexing.html#returning-a-view-versus-a-copy\n",
      "  df.dropna(inplace=True)\n",
      "/var/folders/b3/gf49qzln7ds81ck68l_z0bqr0000gq/T/ipykernel_6567/1286271043.py:6: SettingWithCopyWarning: \n",
      "A value is trying to be set on a copy of a slice from a DataFrame\n",
      "\n",
      "See the caveats in the documentation: https://pandas.pydata.org/pandas-docs/stable/user_guide/indexing.html#returning-a-view-versus-a-copy\n",
      "  df.rename(columns={'Inflation t+1': 'Actual'}, inplace=True)\n",
      "/var/folders/b3/gf49qzln7ds81ck68l_z0bqr0000gq/T/ipykernel_6567/1286271043.py:5: SettingWithCopyWarning: \n",
      "A value is trying to be set on a copy of a slice from a DataFrame\n",
      "\n",
      "See the caveats in the documentation: https://pandas.pydata.org/pandas-docs/stable/user_guide/indexing.html#returning-a-view-versus-a-copy\n",
      "  df.dropna(inplace=True)\n",
      "/var/folders/b3/gf49qzln7ds81ck68l_z0bqr0000gq/T/ipykernel_6567/1286271043.py:6: SettingWithCopyWarning: \n",
      "A value is trying to be set on a copy of a slice from a DataFrame\n",
      "\n",
      "See the caveats in the documentation: https://pandas.pydata.org/pandas-docs/stable/user_guide/indexing.html#returning-a-view-versus-a-copy\n",
      "  df.rename(columns={'Inflation t+1': 'Actual'}, inplace=True)\n",
      "/var/folders/b3/gf49qzln7ds81ck68l_z0bqr0000gq/T/ipykernel_6567/1286271043.py:5: SettingWithCopyWarning: \n",
      "A value is trying to be set on a copy of a slice from a DataFrame\n",
      "\n",
      "See the caveats in the documentation: https://pandas.pydata.org/pandas-docs/stable/user_guide/indexing.html#returning-a-view-versus-a-copy\n",
      "  df.dropna(inplace=True)\n",
      "/var/folders/b3/gf49qzln7ds81ck68l_z0bqr0000gq/T/ipykernel_6567/1286271043.py:6: SettingWithCopyWarning: \n",
      "A value is trying to be set on a copy of a slice from a DataFrame\n",
      "\n",
      "See the caveats in the documentation: https://pandas.pydata.org/pandas-docs/stable/user_guide/indexing.html#returning-a-view-versus-a-copy\n",
      "  df.rename(columns={'Inflation t+1': 'Actual'}, inplace=True)\n",
      "/var/folders/b3/gf49qzln7ds81ck68l_z0bqr0000gq/T/ipykernel_6567/1286271043.py:5: SettingWithCopyWarning: \n",
      "A value is trying to be set on a copy of a slice from a DataFrame\n",
      "\n",
      "See the caveats in the documentation: https://pandas.pydata.org/pandas-docs/stable/user_guide/indexing.html#returning-a-view-versus-a-copy\n",
      "  df.dropna(inplace=True)\n",
      "/var/folders/b3/gf49qzln7ds81ck68l_z0bqr0000gq/T/ipykernel_6567/1286271043.py:6: SettingWithCopyWarning: \n",
      "A value is trying to be set on a copy of a slice from a DataFrame\n",
      "\n",
      "See the caveats in the documentation: https://pandas.pydata.org/pandas-docs/stable/user_guide/indexing.html#returning-a-view-versus-a-copy\n",
      "  df.rename(columns={'Inflation t+1': 'Actual'}, inplace=True)\n",
      "/var/folders/b3/gf49qzln7ds81ck68l_z0bqr0000gq/T/ipykernel_6567/1286271043.py:5: SettingWithCopyWarning: \n",
      "A value is trying to be set on a copy of a slice from a DataFrame\n",
      "\n",
      "See the caveats in the documentation: https://pandas.pydata.org/pandas-docs/stable/user_guide/indexing.html#returning-a-view-versus-a-copy\n",
      "  df.dropna(inplace=True)\n",
      "/var/folders/b3/gf49qzln7ds81ck68l_z0bqr0000gq/T/ipykernel_6567/1286271043.py:6: SettingWithCopyWarning: \n",
      "A value is trying to be set on a copy of a slice from a DataFrame\n",
      "\n",
      "See the caveats in the documentation: https://pandas.pydata.org/pandas-docs/stable/user_guide/indexing.html#returning-a-view-versus-a-copy\n",
      "  df.rename(columns={'Inflation t+1': 'Actual'}, inplace=True)\n",
      "/var/folders/b3/gf49qzln7ds81ck68l_z0bqr0000gq/T/ipykernel_6567/1286271043.py:5: SettingWithCopyWarning: \n",
      "A value is trying to be set on a copy of a slice from a DataFrame\n",
      "\n",
      "See the caveats in the documentation: https://pandas.pydata.org/pandas-docs/stable/user_guide/indexing.html#returning-a-view-versus-a-copy\n",
      "  df.dropna(inplace=True)\n",
      "/var/folders/b3/gf49qzln7ds81ck68l_z0bqr0000gq/T/ipykernel_6567/1286271043.py:6: SettingWithCopyWarning: \n",
      "A value is trying to be set on a copy of a slice from a DataFrame\n",
      "\n",
      "See the caveats in the documentation: https://pandas.pydata.org/pandas-docs/stable/user_guide/indexing.html#returning-a-view-versus-a-copy\n",
      "  df.rename(columns={'Inflation t+1': 'Actual'}, inplace=True)\n",
      "/var/folders/b3/gf49qzln7ds81ck68l_z0bqr0000gq/T/ipykernel_6567/1286271043.py:5: SettingWithCopyWarning: \n",
      "A value is trying to be set on a copy of a slice from a DataFrame\n",
      "\n",
      "See the caveats in the documentation: https://pandas.pydata.org/pandas-docs/stable/user_guide/indexing.html#returning-a-view-versus-a-copy\n",
      "  df.dropna(inplace=True)\n",
      "/var/folders/b3/gf49qzln7ds81ck68l_z0bqr0000gq/T/ipykernel_6567/1286271043.py:6: SettingWithCopyWarning: \n",
      "A value is trying to be set on a copy of a slice from a DataFrame\n",
      "\n",
      "See the caveats in the documentation: https://pandas.pydata.org/pandas-docs/stable/user_guide/indexing.html#returning-a-view-versus-a-copy\n",
      "  df.rename(columns={'Inflation t+1': 'Actual'}, inplace=True)\n",
      "/var/folders/b3/gf49qzln7ds81ck68l_z0bqr0000gq/T/ipykernel_6567/1286271043.py:5: SettingWithCopyWarning: \n",
      "A value is trying to be set on a copy of a slice from a DataFrame\n",
      "\n",
      "See the caveats in the documentation: https://pandas.pydata.org/pandas-docs/stable/user_guide/indexing.html#returning-a-view-versus-a-copy\n",
      "  df.dropna(inplace=True)\n",
      "/var/folders/b3/gf49qzln7ds81ck68l_z0bqr0000gq/T/ipykernel_6567/1286271043.py:6: SettingWithCopyWarning: \n",
      "A value is trying to be set on a copy of a slice from a DataFrame\n",
      "\n",
      "See the caveats in the documentation: https://pandas.pydata.org/pandas-docs/stable/user_guide/indexing.html#returning-a-view-versus-a-copy\n",
      "  df.rename(columns={'Inflation t+1': 'Actual'}, inplace=True)\n",
      "/var/folders/b3/gf49qzln7ds81ck68l_z0bqr0000gq/T/ipykernel_6567/1286271043.py:5: SettingWithCopyWarning: \n",
      "A value is trying to be set on a copy of a slice from a DataFrame\n",
      "\n",
      "See the caveats in the documentation: https://pandas.pydata.org/pandas-docs/stable/user_guide/indexing.html#returning-a-view-versus-a-copy\n",
      "  df.dropna(inplace=True)\n",
      "/var/folders/b3/gf49qzln7ds81ck68l_z0bqr0000gq/T/ipykernel_6567/1286271043.py:6: SettingWithCopyWarning: \n",
      "A value is trying to be set on a copy of a slice from a DataFrame\n",
      "\n",
      "See the caveats in the documentation: https://pandas.pydata.org/pandas-docs/stable/user_guide/indexing.html#returning-a-view-versus-a-copy\n",
      "  df.rename(columns={'Inflation t+1': 'Actual'}, inplace=True)\n",
      "/var/folders/b3/gf49qzln7ds81ck68l_z0bqr0000gq/T/ipykernel_6567/1286271043.py:5: SettingWithCopyWarning: \n",
      "A value is trying to be set on a copy of a slice from a DataFrame\n",
      "\n",
      "See the caveats in the documentation: https://pandas.pydata.org/pandas-docs/stable/user_guide/indexing.html#returning-a-view-versus-a-copy\n",
      "  df.dropna(inplace=True)\n",
      "/var/folders/b3/gf49qzln7ds81ck68l_z0bqr0000gq/T/ipykernel_6567/1286271043.py:6: SettingWithCopyWarning: \n",
      "A value is trying to be set on a copy of a slice from a DataFrame\n",
      "\n",
      "See the caveats in the documentation: https://pandas.pydata.org/pandas-docs/stable/user_guide/indexing.html#returning-a-view-versus-a-copy\n",
      "  df.rename(columns={'Inflation t+1': 'Actual'}, inplace=True)\n",
      "/var/folders/b3/gf49qzln7ds81ck68l_z0bqr0000gq/T/ipykernel_6567/1286271043.py:5: SettingWithCopyWarning: \n",
      "A value is trying to be set on a copy of a slice from a DataFrame\n",
      "\n",
      "See the caveats in the documentation: https://pandas.pydata.org/pandas-docs/stable/user_guide/indexing.html#returning-a-view-versus-a-copy\n",
      "  df.dropna(inplace=True)\n",
      "/var/folders/b3/gf49qzln7ds81ck68l_z0bqr0000gq/T/ipykernel_6567/1286271043.py:6: SettingWithCopyWarning: \n",
      "A value is trying to be set on a copy of a slice from a DataFrame\n",
      "\n",
      "See the caveats in the documentation: https://pandas.pydata.org/pandas-docs/stable/user_guide/indexing.html#returning-a-view-versus-a-copy\n",
      "  df.rename(columns={'Inflation t+1': 'Actual'}, inplace=True)\n",
      "/var/folders/b3/gf49qzln7ds81ck68l_z0bqr0000gq/T/ipykernel_6567/1286271043.py:5: SettingWithCopyWarning: \n",
      "A value is trying to be set on a copy of a slice from a DataFrame\n",
      "\n",
      "See the caveats in the documentation: https://pandas.pydata.org/pandas-docs/stable/user_guide/indexing.html#returning-a-view-versus-a-copy\n",
      "  df.dropna(inplace=True)\n",
      "/var/folders/b3/gf49qzln7ds81ck68l_z0bqr0000gq/T/ipykernel_6567/1286271043.py:6: SettingWithCopyWarning: \n",
      "A value is trying to be set on a copy of a slice from a DataFrame\n",
      "\n",
      "See the caveats in the documentation: https://pandas.pydata.org/pandas-docs/stable/user_guide/indexing.html#returning-a-view-versus-a-copy\n",
      "  df.rename(columns={'Inflation t+1': 'Actual'}, inplace=True)\n",
      "/var/folders/b3/gf49qzln7ds81ck68l_z0bqr0000gq/T/ipykernel_6567/1286271043.py:5: SettingWithCopyWarning: \n",
      "A value is trying to be set on a copy of a slice from a DataFrame\n",
      "\n",
      "See the caveats in the documentation: https://pandas.pydata.org/pandas-docs/stable/user_guide/indexing.html#returning-a-view-versus-a-copy\n",
      "  df.dropna(inplace=True)\n",
      "/var/folders/b3/gf49qzln7ds81ck68l_z0bqr0000gq/T/ipykernel_6567/1286271043.py:6: SettingWithCopyWarning: \n",
      "A value is trying to be set on a copy of a slice from a DataFrame\n",
      "\n",
      "See the caveats in the documentation: https://pandas.pydata.org/pandas-docs/stable/user_guide/indexing.html#returning-a-view-versus-a-copy\n",
      "  df.rename(columns={'Inflation t+1': 'Actual'}, inplace=True)\n",
      "/var/folders/b3/gf49qzln7ds81ck68l_z0bqr0000gq/T/ipykernel_6567/1286271043.py:5: SettingWithCopyWarning: \n",
      "A value is trying to be set on a copy of a slice from a DataFrame\n",
      "\n",
      "See the caveats in the documentation: https://pandas.pydata.org/pandas-docs/stable/user_guide/indexing.html#returning-a-view-versus-a-copy\n",
      "  df.dropna(inplace=True)\n",
      "/var/folders/b3/gf49qzln7ds81ck68l_z0bqr0000gq/T/ipykernel_6567/1286271043.py:6: SettingWithCopyWarning: \n",
      "A value is trying to be set on a copy of a slice from a DataFrame\n",
      "\n",
      "See the caveats in the documentation: https://pandas.pydata.org/pandas-docs/stable/user_guide/indexing.html#returning-a-view-versus-a-copy\n",
      "  df.rename(columns={'Inflation t+1': 'Actual'}, inplace=True)\n",
      "/var/folders/b3/gf49qzln7ds81ck68l_z0bqr0000gq/T/ipykernel_6567/1286271043.py:5: SettingWithCopyWarning: \n",
      "A value is trying to be set on a copy of a slice from a DataFrame\n",
      "\n",
      "See the caveats in the documentation: https://pandas.pydata.org/pandas-docs/stable/user_guide/indexing.html#returning-a-view-versus-a-copy\n",
      "  df.dropna(inplace=True)\n",
      "/var/folders/b3/gf49qzln7ds81ck68l_z0bqr0000gq/T/ipykernel_6567/1286271043.py:6: SettingWithCopyWarning: \n",
      "A value is trying to be set on a copy of a slice from a DataFrame\n",
      "\n",
      "See the caveats in the documentation: https://pandas.pydata.org/pandas-docs/stable/user_guide/indexing.html#returning-a-view-versus-a-copy\n",
      "  df.rename(columns={'Inflation t+1': 'Actual'}, inplace=True)\n",
      "/var/folders/b3/gf49qzln7ds81ck68l_z0bqr0000gq/T/ipykernel_6567/1286271043.py:5: SettingWithCopyWarning: \n",
      "A value is trying to be set on a copy of a slice from a DataFrame\n",
      "\n",
      "See the caveats in the documentation: https://pandas.pydata.org/pandas-docs/stable/user_guide/indexing.html#returning-a-view-versus-a-copy\n",
      "  df.dropna(inplace=True)\n",
      "/var/folders/b3/gf49qzln7ds81ck68l_z0bqr0000gq/T/ipykernel_6567/1286271043.py:6: SettingWithCopyWarning: \n",
      "A value is trying to be set on a copy of a slice from a DataFrame\n",
      "\n",
      "See the caveats in the documentation: https://pandas.pydata.org/pandas-docs/stable/user_guide/indexing.html#returning-a-view-versus-a-copy\n",
      "  df.rename(columns={'Inflation t+1': 'Actual'}, inplace=True)\n",
      "/var/folders/b3/gf49qzln7ds81ck68l_z0bqr0000gq/T/ipykernel_6567/1286271043.py:5: SettingWithCopyWarning: \n",
      "A value is trying to be set on a copy of a slice from a DataFrame\n",
      "\n",
      "See the caveats in the documentation: https://pandas.pydata.org/pandas-docs/stable/user_guide/indexing.html#returning-a-view-versus-a-copy\n",
      "  df.dropna(inplace=True)\n",
      "/var/folders/b3/gf49qzln7ds81ck68l_z0bqr0000gq/T/ipykernel_6567/1286271043.py:6: SettingWithCopyWarning: \n",
      "A value is trying to be set on a copy of a slice from a DataFrame\n",
      "\n",
      "See the caveats in the documentation: https://pandas.pydata.org/pandas-docs/stable/user_guide/indexing.html#returning-a-view-versus-a-copy\n",
      "  df.rename(columns={'Inflation t+1': 'Actual'}, inplace=True)\n",
      "/var/folders/b3/gf49qzln7ds81ck68l_z0bqr0000gq/T/ipykernel_6567/1286271043.py:5: SettingWithCopyWarning: \n",
      "A value is trying to be set on a copy of a slice from a DataFrame\n",
      "\n",
      "See the caveats in the documentation: https://pandas.pydata.org/pandas-docs/stable/user_guide/indexing.html#returning-a-view-versus-a-copy\n",
      "  df.dropna(inplace=True)\n",
      "/var/folders/b3/gf49qzln7ds81ck68l_z0bqr0000gq/T/ipykernel_6567/1286271043.py:6: SettingWithCopyWarning: \n",
      "A value is trying to be set on a copy of a slice from a DataFrame\n",
      "\n",
      "See the caveats in the documentation: https://pandas.pydata.org/pandas-docs/stable/user_guide/indexing.html#returning-a-view-versus-a-copy\n",
      "  df.rename(columns={'Inflation t+1': 'Actual'}, inplace=True)\n",
      "/var/folders/b3/gf49qzln7ds81ck68l_z0bqr0000gq/T/ipykernel_6567/1286271043.py:5: SettingWithCopyWarning: \n",
      "A value is trying to be set on a copy of a slice from a DataFrame\n",
      "\n",
      "See the caveats in the documentation: https://pandas.pydata.org/pandas-docs/stable/user_guide/indexing.html#returning-a-view-versus-a-copy\n",
      "  df.dropna(inplace=True)\n",
      "/var/folders/b3/gf49qzln7ds81ck68l_z0bqr0000gq/T/ipykernel_6567/1286271043.py:6: SettingWithCopyWarning: \n",
      "A value is trying to be set on a copy of a slice from a DataFrame\n",
      "\n",
      "See the caveats in the documentation: https://pandas.pydata.org/pandas-docs/stable/user_guide/indexing.html#returning-a-view-versus-a-copy\n",
      "  df.rename(columns={'Inflation t+1': 'Actual'}, inplace=True)\n",
      "/var/folders/b3/gf49qzln7ds81ck68l_z0bqr0000gq/T/ipykernel_6567/1286271043.py:5: SettingWithCopyWarning: \n",
      "A value is trying to be set on a copy of a slice from a DataFrame\n",
      "\n",
      "See the caveats in the documentation: https://pandas.pydata.org/pandas-docs/stable/user_guide/indexing.html#returning-a-view-versus-a-copy\n",
      "  df.dropna(inplace=True)\n",
      "/var/folders/b3/gf49qzln7ds81ck68l_z0bqr0000gq/T/ipykernel_6567/1286271043.py:6: SettingWithCopyWarning: \n",
      "A value is trying to be set on a copy of a slice from a DataFrame\n",
      "\n",
      "See the caveats in the documentation: https://pandas.pydata.org/pandas-docs/stable/user_guide/indexing.html#returning-a-view-versus-a-copy\n",
      "  df.rename(columns={'Inflation t+1': 'Actual'}, inplace=True)\n",
      "/var/folders/b3/gf49qzln7ds81ck68l_z0bqr0000gq/T/ipykernel_6567/1286271043.py:5: SettingWithCopyWarning: \n",
      "A value is trying to be set on a copy of a slice from a DataFrame\n",
      "\n",
      "See the caveats in the documentation: https://pandas.pydata.org/pandas-docs/stable/user_guide/indexing.html#returning-a-view-versus-a-copy\n",
      "  df.dropna(inplace=True)\n",
      "/var/folders/b3/gf49qzln7ds81ck68l_z0bqr0000gq/T/ipykernel_6567/1286271043.py:6: SettingWithCopyWarning: \n",
      "A value is trying to be set on a copy of a slice from a DataFrame\n",
      "\n",
      "See the caveats in the documentation: https://pandas.pydata.org/pandas-docs/stable/user_guide/indexing.html#returning-a-view-versus-a-copy\n",
      "  df.rename(columns={'Inflation t+1': 'Actual'}, inplace=True)\n",
      "/var/folders/b3/gf49qzln7ds81ck68l_z0bqr0000gq/T/ipykernel_6567/1286271043.py:5: SettingWithCopyWarning: \n",
      "A value is trying to be set on a copy of a slice from a DataFrame\n",
      "\n",
      "See the caveats in the documentation: https://pandas.pydata.org/pandas-docs/stable/user_guide/indexing.html#returning-a-view-versus-a-copy\n",
      "  df.dropna(inplace=True)\n",
      "/var/folders/b3/gf49qzln7ds81ck68l_z0bqr0000gq/T/ipykernel_6567/1286271043.py:6: SettingWithCopyWarning: \n",
      "A value is trying to be set on a copy of a slice from a DataFrame\n",
      "\n",
      "See the caveats in the documentation: https://pandas.pydata.org/pandas-docs/stable/user_guide/indexing.html#returning-a-view-versus-a-copy\n",
      "  df.rename(columns={'Inflation t+1': 'Actual'}, inplace=True)\n",
      "/var/folders/b3/gf49qzln7ds81ck68l_z0bqr0000gq/T/ipykernel_6567/1286271043.py:5: SettingWithCopyWarning: \n",
      "A value is trying to be set on a copy of a slice from a DataFrame\n",
      "\n",
      "See the caveats in the documentation: https://pandas.pydata.org/pandas-docs/stable/user_guide/indexing.html#returning-a-view-versus-a-copy\n",
      "  df.dropna(inplace=True)\n",
      "/var/folders/b3/gf49qzln7ds81ck68l_z0bqr0000gq/T/ipykernel_6567/1286271043.py:6: SettingWithCopyWarning: \n",
      "A value is trying to be set on a copy of a slice from a DataFrame\n",
      "\n",
      "See the caveats in the documentation: https://pandas.pydata.org/pandas-docs/stable/user_guide/indexing.html#returning-a-view-versus-a-copy\n",
      "  df.rename(columns={'Inflation t+1': 'Actual'}, inplace=True)\n",
      "/var/folders/b3/gf49qzln7ds81ck68l_z0bqr0000gq/T/ipykernel_6567/1286271043.py:5: SettingWithCopyWarning: \n",
      "A value is trying to be set on a copy of a slice from a DataFrame\n",
      "\n",
      "See the caveats in the documentation: https://pandas.pydata.org/pandas-docs/stable/user_guide/indexing.html#returning-a-view-versus-a-copy\n",
      "  df.dropna(inplace=True)\n",
      "/var/folders/b3/gf49qzln7ds81ck68l_z0bqr0000gq/T/ipykernel_6567/1286271043.py:6: SettingWithCopyWarning: \n",
      "A value is trying to be set on a copy of a slice from a DataFrame\n",
      "\n",
      "See the caveats in the documentation: https://pandas.pydata.org/pandas-docs/stable/user_guide/indexing.html#returning-a-view-versus-a-copy\n",
      "  df.rename(columns={'Inflation t+1': 'Actual'}, inplace=True)\n",
      "/var/folders/b3/gf49qzln7ds81ck68l_z0bqr0000gq/T/ipykernel_6567/1286271043.py:5: SettingWithCopyWarning: \n",
      "A value is trying to be set on a copy of a slice from a DataFrame\n",
      "\n",
      "See the caveats in the documentation: https://pandas.pydata.org/pandas-docs/stable/user_guide/indexing.html#returning-a-view-versus-a-copy\n",
      "  df.dropna(inplace=True)\n",
      "/var/folders/b3/gf49qzln7ds81ck68l_z0bqr0000gq/T/ipykernel_6567/1286271043.py:6: SettingWithCopyWarning: \n",
      "A value is trying to be set on a copy of a slice from a DataFrame\n",
      "\n",
      "See the caveats in the documentation: https://pandas.pydata.org/pandas-docs/stable/user_guide/indexing.html#returning-a-view-versus-a-copy\n",
      "  df.rename(columns={'Inflation t+1': 'Actual'}, inplace=True)\n",
      "/var/folders/b3/gf49qzln7ds81ck68l_z0bqr0000gq/T/ipykernel_6567/1286271043.py:5: SettingWithCopyWarning: \n",
      "A value is trying to be set on a copy of a slice from a DataFrame\n",
      "\n",
      "See the caveats in the documentation: https://pandas.pydata.org/pandas-docs/stable/user_guide/indexing.html#returning-a-view-versus-a-copy\n",
      "  df.dropna(inplace=True)\n",
      "/var/folders/b3/gf49qzln7ds81ck68l_z0bqr0000gq/T/ipykernel_6567/1286271043.py:6: SettingWithCopyWarning: \n",
      "A value is trying to be set on a copy of a slice from a DataFrame\n",
      "\n",
      "See the caveats in the documentation: https://pandas.pydata.org/pandas-docs/stable/user_guide/indexing.html#returning-a-view-versus-a-copy\n",
      "  df.rename(columns={'Inflation t+1': 'Actual'}, inplace=True)\n",
      "/var/folders/b3/gf49qzln7ds81ck68l_z0bqr0000gq/T/ipykernel_6567/1286271043.py:5: SettingWithCopyWarning: \n",
      "A value is trying to be set on a copy of a slice from a DataFrame\n",
      "\n",
      "See the caveats in the documentation: https://pandas.pydata.org/pandas-docs/stable/user_guide/indexing.html#returning-a-view-versus-a-copy\n",
      "  df.dropna(inplace=True)\n",
      "/var/folders/b3/gf49qzln7ds81ck68l_z0bqr0000gq/T/ipykernel_6567/1286271043.py:6: SettingWithCopyWarning: \n",
      "A value is trying to be set on a copy of a slice from a DataFrame\n",
      "\n",
      "See the caveats in the documentation: https://pandas.pydata.org/pandas-docs/stable/user_guide/indexing.html#returning-a-view-versus-a-copy\n",
      "  df.rename(columns={'Inflation t+1': 'Actual'}, inplace=True)\n",
      "/var/folders/b3/gf49qzln7ds81ck68l_z0bqr0000gq/T/ipykernel_6567/1286271043.py:5: SettingWithCopyWarning: \n",
      "A value is trying to be set on a copy of a slice from a DataFrame\n",
      "\n",
      "See the caveats in the documentation: https://pandas.pydata.org/pandas-docs/stable/user_guide/indexing.html#returning-a-view-versus-a-copy\n",
      "  df.dropna(inplace=True)\n",
      "/var/folders/b3/gf49qzln7ds81ck68l_z0bqr0000gq/T/ipykernel_6567/1286271043.py:6: SettingWithCopyWarning: \n",
      "A value is trying to be set on a copy of a slice from a DataFrame\n",
      "\n",
      "See the caveats in the documentation: https://pandas.pydata.org/pandas-docs/stable/user_guide/indexing.html#returning-a-view-versus-a-copy\n",
      "  df.rename(columns={'Inflation t+1': 'Actual'}, inplace=True)\n",
      "/var/folders/b3/gf49qzln7ds81ck68l_z0bqr0000gq/T/ipykernel_6567/1286271043.py:5: SettingWithCopyWarning: \n",
      "A value is trying to be set on a copy of a slice from a DataFrame\n",
      "\n",
      "See the caveats in the documentation: https://pandas.pydata.org/pandas-docs/stable/user_guide/indexing.html#returning-a-view-versus-a-copy\n",
      "  df.dropna(inplace=True)\n",
      "/var/folders/b3/gf49qzln7ds81ck68l_z0bqr0000gq/T/ipykernel_6567/1286271043.py:6: SettingWithCopyWarning: \n",
      "A value is trying to be set on a copy of a slice from a DataFrame\n",
      "\n",
      "See the caveats in the documentation: https://pandas.pydata.org/pandas-docs/stable/user_guide/indexing.html#returning-a-view-versus-a-copy\n",
      "  df.rename(columns={'Inflation t+1': 'Actual'}, inplace=True)\n",
      "/var/folders/b3/gf49qzln7ds81ck68l_z0bqr0000gq/T/ipykernel_6567/1286271043.py:5: SettingWithCopyWarning: \n",
      "A value is trying to be set on a copy of a slice from a DataFrame\n",
      "\n",
      "See the caveats in the documentation: https://pandas.pydata.org/pandas-docs/stable/user_guide/indexing.html#returning-a-view-versus-a-copy\n",
      "  df.dropna(inplace=True)\n",
      "/var/folders/b3/gf49qzln7ds81ck68l_z0bqr0000gq/T/ipykernel_6567/1286271043.py:6: SettingWithCopyWarning: \n",
      "A value is trying to be set on a copy of a slice from a DataFrame\n",
      "\n",
      "See the caveats in the documentation: https://pandas.pydata.org/pandas-docs/stable/user_guide/indexing.html#returning-a-view-versus-a-copy\n",
      "  df.rename(columns={'Inflation t+1': 'Actual'}, inplace=True)\n",
      "/var/folders/b3/gf49qzln7ds81ck68l_z0bqr0000gq/T/ipykernel_6567/1286271043.py:5: SettingWithCopyWarning: \n",
      "A value is trying to be set on a copy of a slice from a DataFrame\n",
      "\n",
      "See the caveats in the documentation: https://pandas.pydata.org/pandas-docs/stable/user_guide/indexing.html#returning-a-view-versus-a-copy\n",
      "  df.dropna(inplace=True)\n",
      "/var/folders/b3/gf49qzln7ds81ck68l_z0bqr0000gq/T/ipykernel_6567/1286271043.py:6: SettingWithCopyWarning: \n",
      "A value is trying to be set on a copy of a slice from a DataFrame\n",
      "\n",
      "See the caveats in the documentation: https://pandas.pydata.org/pandas-docs/stable/user_guide/indexing.html#returning-a-view-versus-a-copy\n",
      "  df.rename(columns={'Inflation t+1': 'Actual'}, inplace=True)\n",
      "/var/folders/b3/gf49qzln7ds81ck68l_z0bqr0000gq/T/ipykernel_6567/1286271043.py:5: SettingWithCopyWarning: \n",
      "A value is trying to be set on a copy of a slice from a DataFrame\n",
      "\n",
      "See the caveats in the documentation: https://pandas.pydata.org/pandas-docs/stable/user_guide/indexing.html#returning-a-view-versus-a-copy\n",
      "  df.dropna(inplace=True)\n",
      "/var/folders/b3/gf49qzln7ds81ck68l_z0bqr0000gq/T/ipykernel_6567/1286271043.py:6: SettingWithCopyWarning: \n",
      "A value is trying to be set on a copy of a slice from a DataFrame\n",
      "\n",
      "See the caveats in the documentation: https://pandas.pydata.org/pandas-docs/stable/user_guide/indexing.html#returning-a-view-versus-a-copy\n",
      "  df.rename(columns={'Inflation t+1': 'Actual'}, inplace=True)\n",
      "/var/folders/b3/gf49qzln7ds81ck68l_z0bqr0000gq/T/ipykernel_6567/1286271043.py:5: SettingWithCopyWarning: \n",
      "A value is trying to be set on a copy of a slice from a DataFrame\n",
      "\n",
      "See the caveats in the documentation: https://pandas.pydata.org/pandas-docs/stable/user_guide/indexing.html#returning-a-view-versus-a-copy\n",
      "  df.dropna(inplace=True)\n",
      "/var/folders/b3/gf49qzln7ds81ck68l_z0bqr0000gq/T/ipykernel_6567/1286271043.py:6: SettingWithCopyWarning: \n",
      "A value is trying to be set on a copy of a slice from a DataFrame\n",
      "\n",
      "See the caveats in the documentation: https://pandas.pydata.org/pandas-docs/stable/user_guide/indexing.html#returning-a-view-versus-a-copy\n",
      "  df.rename(columns={'Inflation t+1': 'Actual'}, inplace=True)\n",
      "/var/folders/b3/gf49qzln7ds81ck68l_z0bqr0000gq/T/ipykernel_6567/1286271043.py:5: SettingWithCopyWarning: \n",
      "A value is trying to be set on a copy of a slice from a DataFrame\n",
      "\n",
      "See the caveats in the documentation: https://pandas.pydata.org/pandas-docs/stable/user_guide/indexing.html#returning-a-view-versus-a-copy\n",
      "  df.dropna(inplace=True)\n",
      "/var/folders/b3/gf49qzln7ds81ck68l_z0bqr0000gq/T/ipykernel_6567/1286271043.py:6: SettingWithCopyWarning: \n",
      "A value is trying to be set on a copy of a slice from a DataFrame\n",
      "\n",
      "See the caveats in the documentation: https://pandas.pydata.org/pandas-docs/stable/user_guide/indexing.html#returning-a-view-versus-a-copy\n",
      "  df.rename(columns={'Inflation t+1': 'Actual'}, inplace=True)\n",
      "/var/folders/b3/gf49qzln7ds81ck68l_z0bqr0000gq/T/ipykernel_6567/1286271043.py:5: SettingWithCopyWarning: \n",
      "A value is trying to be set on a copy of a slice from a DataFrame\n",
      "\n",
      "See the caveats in the documentation: https://pandas.pydata.org/pandas-docs/stable/user_guide/indexing.html#returning-a-view-versus-a-copy\n",
      "  df.dropna(inplace=True)\n",
      "/var/folders/b3/gf49qzln7ds81ck68l_z0bqr0000gq/T/ipykernel_6567/1286271043.py:6: SettingWithCopyWarning: \n",
      "A value is trying to be set on a copy of a slice from a DataFrame\n",
      "\n",
      "See the caveats in the documentation: https://pandas.pydata.org/pandas-docs/stable/user_guide/indexing.html#returning-a-view-versus-a-copy\n",
      "  df.rename(columns={'Inflation t+1': 'Actual'}, inplace=True)\n",
      "/var/folders/b3/gf49qzln7ds81ck68l_z0bqr0000gq/T/ipykernel_6567/1286271043.py:5: SettingWithCopyWarning: \n",
      "A value is trying to be set on a copy of a slice from a DataFrame\n",
      "\n",
      "See the caveats in the documentation: https://pandas.pydata.org/pandas-docs/stable/user_guide/indexing.html#returning-a-view-versus-a-copy\n",
      "  df.dropna(inplace=True)\n",
      "/var/folders/b3/gf49qzln7ds81ck68l_z0bqr0000gq/T/ipykernel_6567/1286271043.py:6: SettingWithCopyWarning: \n",
      "A value is trying to be set on a copy of a slice from a DataFrame\n",
      "\n",
      "See the caveats in the documentation: https://pandas.pydata.org/pandas-docs/stable/user_guide/indexing.html#returning-a-view-versus-a-copy\n",
      "  df.rename(columns={'Inflation t+1': 'Actual'}, inplace=True)\n",
      "/var/folders/b3/gf49qzln7ds81ck68l_z0bqr0000gq/T/ipykernel_6567/1286271043.py:5: SettingWithCopyWarning: \n",
      "A value is trying to be set on a copy of a slice from a DataFrame\n",
      "\n",
      "See the caveats in the documentation: https://pandas.pydata.org/pandas-docs/stable/user_guide/indexing.html#returning-a-view-versus-a-copy\n",
      "  df.dropna(inplace=True)\n",
      "/var/folders/b3/gf49qzln7ds81ck68l_z0bqr0000gq/T/ipykernel_6567/1286271043.py:6: SettingWithCopyWarning: \n",
      "A value is trying to be set on a copy of a slice from a DataFrame\n",
      "\n",
      "See the caveats in the documentation: https://pandas.pydata.org/pandas-docs/stable/user_guide/indexing.html#returning-a-view-versus-a-copy\n",
      "  df.rename(columns={'Inflation t+1': 'Actual'}, inplace=True)\n",
      "/var/folders/b3/gf49qzln7ds81ck68l_z0bqr0000gq/T/ipykernel_6567/1286271043.py:5: SettingWithCopyWarning: \n",
      "A value is trying to be set on a copy of a slice from a DataFrame\n",
      "\n",
      "See the caveats in the documentation: https://pandas.pydata.org/pandas-docs/stable/user_guide/indexing.html#returning-a-view-versus-a-copy\n",
      "  df.dropna(inplace=True)\n",
      "/var/folders/b3/gf49qzln7ds81ck68l_z0bqr0000gq/T/ipykernel_6567/1286271043.py:6: SettingWithCopyWarning: \n",
      "A value is trying to be set on a copy of a slice from a DataFrame\n",
      "\n",
      "See the caveats in the documentation: https://pandas.pydata.org/pandas-docs/stable/user_guide/indexing.html#returning-a-view-versus-a-copy\n",
      "  df.rename(columns={'Inflation t+1': 'Actual'}, inplace=True)\n",
      "/var/folders/b3/gf49qzln7ds81ck68l_z0bqr0000gq/T/ipykernel_6567/1286271043.py:5: SettingWithCopyWarning: \n",
      "A value is trying to be set on a copy of a slice from a DataFrame\n",
      "\n",
      "See the caveats in the documentation: https://pandas.pydata.org/pandas-docs/stable/user_guide/indexing.html#returning-a-view-versus-a-copy\n",
      "  df.dropna(inplace=True)\n",
      "/var/folders/b3/gf49qzln7ds81ck68l_z0bqr0000gq/T/ipykernel_6567/1286271043.py:6: SettingWithCopyWarning: \n",
      "A value is trying to be set on a copy of a slice from a DataFrame\n",
      "\n",
      "See the caveats in the documentation: https://pandas.pydata.org/pandas-docs/stable/user_guide/indexing.html#returning-a-view-versus-a-copy\n",
      "  df.rename(columns={'Inflation t+1': 'Actual'}, inplace=True)\n",
      "/var/folders/b3/gf49qzln7ds81ck68l_z0bqr0000gq/T/ipykernel_6567/1286271043.py:5: SettingWithCopyWarning: \n",
      "A value is trying to be set on a copy of a slice from a DataFrame\n",
      "\n",
      "See the caveats in the documentation: https://pandas.pydata.org/pandas-docs/stable/user_guide/indexing.html#returning-a-view-versus-a-copy\n",
      "  df.dropna(inplace=True)\n",
      "/var/folders/b3/gf49qzln7ds81ck68l_z0bqr0000gq/T/ipykernel_6567/1286271043.py:6: SettingWithCopyWarning: \n",
      "A value is trying to be set on a copy of a slice from a DataFrame\n",
      "\n",
      "See the caveats in the documentation: https://pandas.pydata.org/pandas-docs/stable/user_guide/indexing.html#returning-a-view-versus-a-copy\n",
      "  df.rename(columns={'Inflation t+1': 'Actual'}, inplace=True)\n",
      "/var/folders/b3/gf49qzln7ds81ck68l_z0bqr0000gq/T/ipykernel_6567/1286271043.py:5: SettingWithCopyWarning: \n",
      "A value is trying to be set on a copy of a slice from a DataFrame\n",
      "\n",
      "See the caveats in the documentation: https://pandas.pydata.org/pandas-docs/stable/user_guide/indexing.html#returning-a-view-versus-a-copy\n",
      "  df.dropna(inplace=True)\n",
      "/var/folders/b3/gf49qzln7ds81ck68l_z0bqr0000gq/T/ipykernel_6567/1286271043.py:6: SettingWithCopyWarning: \n",
      "A value is trying to be set on a copy of a slice from a DataFrame\n",
      "\n",
      "See the caveats in the documentation: https://pandas.pydata.org/pandas-docs/stable/user_guide/indexing.html#returning-a-view-versus-a-copy\n",
      "  df.rename(columns={'Inflation t+1': 'Actual'}, inplace=True)\n",
      "/var/folders/b3/gf49qzln7ds81ck68l_z0bqr0000gq/T/ipykernel_6567/1286271043.py:5: SettingWithCopyWarning: \n",
      "A value is trying to be set on a copy of a slice from a DataFrame\n",
      "\n",
      "See the caveats in the documentation: https://pandas.pydata.org/pandas-docs/stable/user_guide/indexing.html#returning-a-view-versus-a-copy\n",
      "  df.dropna(inplace=True)\n",
      "/var/folders/b3/gf49qzln7ds81ck68l_z0bqr0000gq/T/ipykernel_6567/1286271043.py:6: SettingWithCopyWarning: \n",
      "A value is trying to be set on a copy of a slice from a DataFrame\n",
      "\n",
      "See the caveats in the documentation: https://pandas.pydata.org/pandas-docs/stable/user_guide/indexing.html#returning-a-view-versus-a-copy\n",
      "  df.rename(columns={'Inflation t+1': 'Actual'}, inplace=True)\n",
      "/var/folders/b3/gf49qzln7ds81ck68l_z0bqr0000gq/T/ipykernel_6567/1286271043.py:5: SettingWithCopyWarning: \n",
      "A value is trying to be set on a copy of a slice from a DataFrame\n",
      "\n",
      "See the caveats in the documentation: https://pandas.pydata.org/pandas-docs/stable/user_guide/indexing.html#returning-a-view-versus-a-copy\n",
      "  df.dropna(inplace=True)\n",
      "/var/folders/b3/gf49qzln7ds81ck68l_z0bqr0000gq/T/ipykernel_6567/1286271043.py:6: SettingWithCopyWarning: \n",
      "A value is trying to be set on a copy of a slice from a DataFrame\n",
      "\n",
      "See the caveats in the documentation: https://pandas.pydata.org/pandas-docs/stable/user_guide/indexing.html#returning-a-view-versus-a-copy\n",
      "  df.rename(columns={'Inflation t+1': 'Actual'}, inplace=True)\n",
      "/var/folders/b3/gf49qzln7ds81ck68l_z0bqr0000gq/T/ipykernel_6567/1286271043.py:5: SettingWithCopyWarning: \n",
      "A value is trying to be set on a copy of a slice from a DataFrame\n",
      "\n",
      "See the caveats in the documentation: https://pandas.pydata.org/pandas-docs/stable/user_guide/indexing.html#returning-a-view-versus-a-copy\n",
      "  df.dropna(inplace=True)\n",
      "/var/folders/b3/gf49qzln7ds81ck68l_z0bqr0000gq/T/ipykernel_6567/1286271043.py:6: SettingWithCopyWarning: \n",
      "A value is trying to be set on a copy of a slice from a DataFrame\n",
      "\n",
      "See the caveats in the documentation: https://pandas.pydata.org/pandas-docs/stable/user_guide/indexing.html#returning-a-view-versus-a-copy\n",
      "  df.rename(columns={'Inflation t+1': 'Actual'}, inplace=True)\n",
      "/var/folders/b3/gf49qzln7ds81ck68l_z0bqr0000gq/T/ipykernel_6567/1286271043.py:5: SettingWithCopyWarning: \n",
      "A value is trying to be set on a copy of a slice from a DataFrame\n",
      "\n",
      "See the caveats in the documentation: https://pandas.pydata.org/pandas-docs/stable/user_guide/indexing.html#returning-a-view-versus-a-copy\n",
      "  df.dropna(inplace=True)\n",
      "/var/folders/b3/gf49qzln7ds81ck68l_z0bqr0000gq/T/ipykernel_6567/1286271043.py:6: SettingWithCopyWarning: \n",
      "A value is trying to be set on a copy of a slice from a DataFrame\n",
      "\n",
      "See the caveats in the documentation: https://pandas.pydata.org/pandas-docs/stable/user_guide/indexing.html#returning-a-view-versus-a-copy\n",
      "  df.rename(columns={'Inflation t+1': 'Actual'}, inplace=True)\n",
      "/var/folders/b3/gf49qzln7ds81ck68l_z0bqr0000gq/T/ipykernel_6567/1286271043.py:5: SettingWithCopyWarning: \n",
      "A value is trying to be set on a copy of a slice from a DataFrame\n",
      "\n",
      "See the caveats in the documentation: https://pandas.pydata.org/pandas-docs/stable/user_guide/indexing.html#returning-a-view-versus-a-copy\n",
      "  df.dropna(inplace=True)\n",
      "/var/folders/b3/gf49qzln7ds81ck68l_z0bqr0000gq/T/ipykernel_6567/1286271043.py:6: SettingWithCopyWarning: \n",
      "A value is trying to be set on a copy of a slice from a DataFrame\n",
      "\n",
      "See the caveats in the documentation: https://pandas.pydata.org/pandas-docs/stable/user_guide/indexing.html#returning-a-view-versus-a-copy\n",
      "  df.rename(columns={'Inflation t+1': 'Actual'}, inplace=True)\n",
      "/var/folders/b3/gf49qzln7ds81ck68l_z0bqr0000gq/T/ipykernel_6567/1286271043.py:5: SettingWithCopyWarning: \n",
      "A value is trying to be set on a copy of a slice from a DataFrame\n",
      "\n",
      "See the caveats in the documentation: https://pandas.pydata.org/pandas-docs/stable/user_guide/indexing.html#returning-a-view-versus-a-copy\n",
      "  df.dropna(inplace=True)\n",
      "/var/folders/b3/gf49qzln7ds81ck68l_z0bqr0000gq/T/ipykernel_6567/1286271043.py:6: SettingWithCopyWarning: \n",
      "A value is trying to be set on a copy of a slice from a DataFrame\n",
      "\n",
      "See the caveats in the documentation: https://pandas.pydata.org/pandas-docs/stable/user_guide/indexing.html#returning-a-view-versus-a-copy\n",
      "  df.rename(columns={'Inflation t+1': 'Actual'}, inplace=True)\n",
      "/var/folders/b3/gf49qzln7ds81ck68l_z0bqr0000gq/T/ipykernel_6567/1286271043.py:5: SettingWithCopyWarning: \n",
      "A value is trying to be set on a copy of a slice from a DataFrame\n",
      "\n",
      "See the caveats in the documentation: https://pandas.pydata.org/pandas-docs/stable/user_guide/indexing.html#returning-a-view-versus-a-copy\n",
      "  df.dropna(inplace=True)\n",
      "/var/folders/b3/gf49qzln7ds81ck68l_z0bqr0000gq/T/ipykernel_6567/1286271043.py:6: SettingWithCopyWarning: \n",
      "A value is trying to be set on a copy of a slice from a DataFrame\n",
      "\n",
      "See the caveats in the documentation: https://pandas.pydata.org/pandas-docs/stable/user_guide/indexing.html#returning-a-view-versus-a-copy\n",
      "  df.rename(columns={'Inflation t+1': 'Actual'}, inplace=True)\n",
      "/var/folders/b3/gf49qzln7ds81ck68l_z0bqr0000gq/T/ipykernel_6567/1286271043.py:5: SettingWithCopyWarning: \n",
      "A value is trying to be set on a copy of a slice from a DataFrame\n",
      "\n",
      "See the caveats in the documentation: https://pandas.pydata.org/pandas-docs/stable/user_guide/indexing.html#returning-a-view-versus-a-copy\n",
      "  df.dropna(inplace=True)\n",
      "/var/folders/b3/gf49qzln7ds81ck68l_z0bqr0000gq/T/ipykernel_6567/1286271043.py:6: SettingWithCopyWarning: \n",
      "A value is trying to be set on a copy of a slice from a DataFrame\n",
      "\n",
      "See the caveats in the documentation: https://pandas.pydata.org/pandas-docs/stable/user_guide/indexing.html#returning-a-view-versus-a-copy\n",
      "  df.rename(columns={'Inflation t+1': 'Actual'}, inplace=True)\n",
      "/var/folders/b3/gf49qzln7ds81ck68l_z0bqr0000gq/T/ipykernel_6567/1286271043.py:5: SettingWithCopyWarning: \n",
      "A value is trying to be set on a copy of a slice from a DataFrame\n",
      "\n",
      "See the caveats in the documentation: https://pandas.pydata.org/pandas-docs/stable/user_guide/indexing.html#returning-a-view-versus-a-copy\n",
      "  df.dropna(inplace=True)\n",
      "/var/folders/b3/gf49qzln7ds81ck68l_z0bqr0000gq/T/ipykernel_6567/1286271043.py:6: SettingWithCopyWarning: \n",
      "A value is trying to be set on a copy of a slice from a DataFrame\n",
      "\n",
      "See the caveats in the documentation: https://pandas.pydata.org/pandas-docs/stable/user_guide/indexing.html#returning-a-view-versus-a-copy\n",
      "  df.rename(columns={'Inflation t+1': 'Actual'}, inplace=True)\n",
      "/var/folders/b3/gf49qzln7ds81ck68l_z0bqr0000gq/T/ipykernel_6567/1286271043.py:5: SettingWithCopyWarning: \n",
      "A value is trying to be set on a copy of a slice from a DataFrame\n",
      "\n",
      "See the caveats in the documentation: https://pandas.pydata.org/pandas-docs/stable/user_guide/indexing.html#returning-a-view-versus-a-copy\n",
      "  df.dropna(inplace=True)\n",
      "/var/folders/b3/gf49qzln7ds81ck68l_z0bqr0000gq/T/ipykernel_6567/1286271043.py:6: SettingWithCopyWarning: \n",
      "A value is trying to be set on a copy of a slice from a DataFrame\n",
      "\n",
      "See the caveats in the documentation: https://pandas.pydata.org/pandas-docs/stable/user_guide/indexing.html#returning-a-view-versus-a-copy\n",
      "  df.rename(columns={'Inflation t+1': 'Actual'}, inplace=True)\n",
      "/var/folders/b3/gf49qzln7ds81ck68l_z0bqr0000gq/T/ipykernel_6567/1286271043.py:5: SettingWithCopyWarning: \n",
      "A value is trying to be set on a copy of a slice from a DataFrame\n",
      "\n",
      "See the caveats in the documentation: https://pandas.pydata.org/pandas-docs/stable/user_guide/indexing.html#returning-a-view-versus-a-copy\n",
      "  df.dropna(inplace=True)\n",
      "/var/folders/b3/gf49qzln7ds81ck68l_z0bqr0000gq/T/ipykernel_6567/1286271043.py:6: SettingWithCopyWarning: \n",
      "A value is trying to be set on a copy of a slice from a DataFrame\n",
      "\n",
      "See the caveats in the documentation: https://pandas.pydata.org/pandas-docs/stable/user_guide/indexing.html#returning-a-view-versus-a-copy\n",
      "  df.rename(columns={'Inflation t+1': 'Actual'}, inplace=True)\n",
      "/var/folders/b3/gf49qzln7ds81ck68l_z0bqr0000gq/T/ipykernel_6567/1286271043.py:5: SettingWithCopyWarning: \n",
      "A value is trying to be set on a copy of a slice from a DataFrame\n",
      "\n",
      "See the caveats in the documentation: https://pandas.pydata.org/pandas-docs/stable/user_guide/indexing.html#returning-a-view-versus-a-copy\n",
      "  df.dropna(inplace=True)\n",
      "/var/folders/b3/gf49qzln7ds81ck68l_z0bqr0000gq/T/ipykernel_6567/1286271043.py:6: SettingWithCopyWarning: \n",
      "A value is trying to be set on a copy of a slice from a DataFrame\n",
      "\n",
      "See the caveats in the documentation: https://pandas.pydata.org/pandas-docs/stable/user_guide/indexing.html#returning-a-view-versus-a-copy\n",
      "  df.rename(columns={'Inflation t+1': 'Actual'}, inplace=True)\n",
      "/var/folders/b3/gf49qzln7ds81ck68l_z0bqr0000gq/T/ipykernel_6567/1286271043.py:5: SettingWithCopyWarning: \n",
      "A value is trying to be set on a copy of a slice from a DataFrame\n",
      "\n",
      "See the caveats in the documentation: https://pandas.pydata.org/pandas-docs/stable/user_guide/indexing.html#returning-a-view-versus-a-copy\n",
      "  df.dropna(inplace=True)\n",
      "/var/folders/b3/gf49qzln7ds81ck68l_z0bqr0000gq/T/ipykernel_6567/1286271043.py:6: SettingWithCopyWarning: \n",
      "A value is trying to be set on a copy of a slice from a DataFrame\n",
      "\n",
      "See the caveats in the documentation: https://pandas.pydata.org/pandas-docs/stable/user_guide/indexing.html#returning-a-view-versus-a-copy\n",
      "  df.rename(columns={'Inflation t+1': 'Actual'}, inplace=True)\n",
      "/var/folders/b3/gf49qzln7ds81ck68l_z0bqr0000gq/T/ipykernel_6567/1286271043.py:5: SettingWithCopyWarning: \n",
      "A value is trying to be set on a copy of a slice from a DataFrame\n",
      "\n",
      "See the caveats in the documentation: https://pandas.pydata.org/pandas-docs/stable/user_guide/indexing.html#returning-a-view-versus-a-copy\n",
      "  df.dropna(inplace=True)\n",
      "/var/folders/b3/gf49qzln7ds81ck68l_z0bqr0000gq/T/ipykernel_6567/1286271043.py:6: SettingWithCopyWarning: \n",
      "A value is trying to be set on a copy of a slice from a DataFrame\n",
      "\n",
      "See the caveats in the documentation: https://pandas.pydata.org/pandas-docs/stable/user_guide/indexing.html#returning-a-view-versus-a-copy\n",
      "  df.rename(columns={'Inflation t+1': 'Actual'}, inplace=True)\n",
      "/var/folders/b3/gf49qzln7ds81ck68l_z0bqr0000gq/T/ipykernel_6567/1286271043.py:5: SettingWithCopyWarning: \n",
      "A value is trying to be set on a copy of a slice from a DataFrame\n",
      "\n",
      "See the caveats in the documentation: https://pandas.pydata.org/pandas-docs/stable/user_guide/indexing.html#returning-a-view-versus-a-copy\n",
      "  df.dropna(inplace=True)\n",
      "/var/folders/b3/gf49qzln7ds81ck68l_z0bqr0000gq/T/ipykernel_6567/1286271043.py:6: SettingWithCopyWarning: \n",
      "A value is trying to be set on a copy of a slice from a DataFrame\n",
      "\n",
      "See the caveats in the documentation: https://pandas.pydata.org/pandas-docs/stable/user_guide/indexing.html#returning-a-view-versus-a-copy\n",
      "  df.rename(columns={'Inflation t+1': 'Actual'}, inplace=True)\n",
      "/var/folders/b3/gf49qzln7ds81ck68l_z0bqr0000gq/T/ipykernel_6567/1286271043.py:5: SettingWithCopyWarning: \n",
      "A value is trying to be set on a copy of a slice from a DataFrame\n",
      "\n",
      "See the caveats in the documentation: https://pandas.pydata.org/pandas-docs/stable/user_guide/indexing.html#returning-a-view-versus-a-copy\n",
      "  df.dropna(inplace=True)\n",
      "/var/folders/b3/gf49qzln7ds81ck68l_z0bqr0000gq/T/ipykernel_6567/1286271043.py:6: SettingWithCopyWarning: \n",
      "A value is trying to be set on a copy of a slice from a DataFrame\n",
      "\n",
      "See the caveats in the documentation: https://pandas.pydata.org/pandas-docs/stable/user_guide/indexing.html#returning-a-view-versus-a-copy\n",
      "  df.rename(columns={'Inflation t+1': 'Actual'}, inplace=True)\n",
      "/var/folders/b3/gf49qzln7ds81ck68l_z0bqr0000gq/T/ipykernel_6567/1286271043.py:5: SettingWithCopyWarning: \n",
      "A value is trying to be set on a copy of a slice from a DataFrame\n",
      "\n",
      "See the caveats in the documentation: https://pandas.pydata.org/pandas-docs/stable/user_guide/indexing.html#returning-a-view-versus-a-copy\n",
      "  df.dropna(inplace=True)\n",
      "/var/folders/b3/gf49qzln7ds81ck68l_z0bqr0000gq/T/ipykernel_6567/1286271043.py:6: SettingWithCopyWarning: \n",
      "A value is trying to be set on a copy of a slice from a DataFrame\n",
      "\n",
      "See the caveats in the documentation: https://pandas.pydata.org/pandas-docs/stable/user_guide/indexing.html#returning-a-view-versus-a-copy\n",
      "  df.rename(columns={'Inflation t+1': 'Actual'}, inplace=True)\n",
      "/var/folders/b3/gf49qzln7ds81ck68l_z0bqr0000gq/T/ipykernel_6567/1286271043.py:5: SettingWithCopyWarning: \n",
      "A value is trying to be set on a copy of a slice from a DataFrame\n",
      "\n",
      "See the caveats in the documentation: https://pandas.pydata.org/pandas-docs/stable/user_guide/indexing.html#returning-a-view-versus-a-copy\n",
      "  df.dropna(inplace=True)\n",
      "/var/folders/b3/gf49qzln7ds81ck68l_z0bqr0000gq/T/ipykernel_6567/1286271043.py:6: SettingWithCopyWarning: \n",
      "A value is trying to be set on a copy of a slice from a DataFrame\n",
      "\n",
      "See the caveats in the documentation: https://pandas.pydata.org/pandas-docs/stable/user_guide/indexing.html#returning-a-view-versus-a-copy\n",
      "  df.rename(columns={'Inflation t+1': 'Actual'}, inplace=True)\n",
      "/var/folders/b3/gf49qzln7ds81ck68l_z0bqr0000gq/T/ipykernel_6567/1286271043.py:5: SettingWithCopyWarning: \n",
      "A value is trying to be set on a copy of a slice from a DataFrame\n",
      "\n",
      "See the caveats in the documentation: https://pandas.pydata.org/pandas-docs/stable/user_guide/indexing.html#returning-a-view-versus-a-copy\n",
      "  df.dropna(inplace=True)\n",
      "/var/folders/b3/gf49qzln7ds81ck68l_z0bqr0000gq/T/ipykernel_6567/1286271043.py:6: SettingWithCopyWarning: \n",
      "A value is trying to be set on a copy of a slice from a DataFrame\n",
      "\n",
      "See the caveats in the documentation: https://pandas.pydata.org/pandas-docs/stable/user_guide/indexing.html#returning-a-view-versus-a-copy\n",
      "  df.rename(columns={'Inflation t+1': 'Actual'}, inplace=True)\n",
      "/var/folders/b3/gf49qzln7ds81ck68l_z0bqr0000gq/T/ipykernel_6567/1286271043.py:5: SettingWithCopyWarning: \n",
      "A value is trying to be set on a copy of a slice from a DataFrame\n",
      "\n",
      "See the caveats in the documentation: https://pandas.pydata.org/pandas-docs/stable/user_guide/indexing.html#returning-a-view-versus-a-copy\n",
      "  df.dropna(inplace=True)\n",
      "/var/folders/b3/gf49qzln7ds81ck68l_z0bqr0000gq/T/ipykernel_6567/1286271043.py:6: SettingWithCopyWarning: \n",
      "A value is trying to be set on a copy of a slice from a DataFrame\n",
      "\n",
      "See the caveats in the documentation: https://pandas.pydata.org/pandas-docs/stable/user_guide/indexing.html#returning-a-view-versus-a-copy\n",
      "  df.rename(columns={'Inflation t+1': 'Actual'}, inplace=True)\n",
      "/var/folders/b3/gf49qzln7ds81ck68l_z0bqr0000gq/T/ipykernel_6567/1286271043.py:5: SettingWithCopyWarning: \n",
      "A value is trying to be set on a copy of a slice from a DataFrame\n",
      "\n",
      "See the caveats in the documentation: https://pandas.pydata.org/pandas-docs/stable/user_guide/indexing.html#returning-a-view-versus-a-copy\n",
      "  df.dropna(inplace=True)\n",
      "/var/folders/b3/gf49qzln7ds81ck68l_z0bqr0000gq/T/ipykernel_6567/1286271043.py:6: SettingWithCopyWarning: \n",
      "A value is trying to be set on a copy of a slice from a DataFrame\n",
      "\n",
      "See the caveats in the documentation: https://pandas.pydata.org/pandas-docs/stable/user_guide/indexing.html#returning-a-view-versus-a-copy\n",
      "  df.rename(columns={'Inflation t+1': 'Actual'}, inplace=True)\n",
      "/var/folders/b3/gf49qzln7ds81ck68l_z0bqr0000gq/T/ipykernel_6567/1286271043.py:5: SettingWithCopyWarning: \n",
      "A value is trying to be set on a copy of a slice from a DataFrame\n",
      "\n",
      "See the caveats in the documentation: https://pandas.pydata.org/pandas-docs/stable/user_guide/indexing.html#returning-a-view-versus-a-copy\n",
      "  df.dropna(inplace=True)\n",
      "/var/folders/b3/gf49qzln7ds81ck68l_z0bqr0000gq/T/ipykernel_6567/1286271043.py:6: SettingWithCopyWarning: \n",
      "A value is trying to be set on a copy of a slice from a DataFrame\n",
      "\n",
      "See the caveats in the documentation: https://pandas.pydata.org/pandas-docs/stable/user_guide/indexing.html#returning-a-view-versus-a-copy\n",
      "  df.rename(columns={'Inflation t+1': 'Actual'}, inplace=True)\n",
      "/var/folders/b3/gf49qzln7ds81ck68l_z0bqr0000gq/T/ipykernel_6567/1286271043.py:5: SettingWithCopyWarning: \n",
      "A value is trying to be set on a copy of a slice from a DataFrame\n",
      "\n",
      "See the caveats in the documentation: https://pandas.pydata.org/pandas-docs/stable/user_guide/indexing.html#returning-a-view-versus-a-copy\n",
      "  df.dropna(inplace=True)\n",
      "/var/folders/b3/gf49qzln7ds81ck68l_z0bqr0000gq/T/ipykernel_6567/1286271043.py:6: SettingWithCopyWarning: \n",
      "A value is trying to be set on a copy of a slice from a DataFrame\n",
      "\n",
      "See the caveats in the documentation: https://pandas.pydata.org/pandas-docs/stable/user_guide/indexing.html#returning-a-view-versus-a-copy\n",
      "  df.rename(columns={'Inflation t+1': 'Actual'}, inplace=True)\n",
      "/var/folders/b3/gf49qzln7ds81ck68l_z0bqr0000gq/T/ipykernel_6567/1286271043.py:5: SettingWithCopyWarning: \n",
      "A value is trying to be set on a copy of a slice from a DataFrame\n",
      "\n",
      "See the caveats in the documentation: https://pandas.pydata.org/pandas-docs/stable/user_guide/indexing.html#returning-a-view-versus-a-copy\n",
      "  df.dropna(inplace=True)\n",
      "/var/folders/b3/gf49qzln7ds81ck68l_z0bqr0000gq/T/ipykernel_6567/1286271043.py:6: SettingWithCopyWarning: \n",
      "A value is trying to be set on a copy of a slice from a DataFrame\n",
      "\n",
      "See the caveats in the documentation: https://pandas.pydata.org/pandas-docs/stable/user_guide/indexing.html#returning-a-view-versus-a-copy\n",
      "  df.rename(columns={'Inflation t+1': 'Actual'}, inplace=True)\n",
      "/var/folders/b3/gf49qzln7ds81ck68l_z0bqr0000gq/T/ipykernel_6567/1286271043.py:5: SettingWithCopyWarning: \n",
      "A value is trying to be set on a copy of a slice from a DataFrame\n",
      "\n",
      "See the caveats in the documentation: https://pandas.pydata.org/pandas-docs/stable/user_guide/indexing.html#returning-a-view-versus-a-copy\n",
      "  df.dropna(inplace=True)\n",
      "/var/folders/b3/gf49qzln7ds81ck68l_z0bqr0000gq/T/ipykernel_6567/1286271043.py:6: SettingWithCopyWarning: \n",
      "A value is trying to be set on a copy of a slice from a DataFrame\n",
      "\n",
      "See the caveats in the documentation: https://pandas.pydata.org/pandas-docs/stable/user_guide/indexing.html#returning-a-view-versus-a-copy\n",
      "  df.rename(columns={'Inflation t+1': 'Actual'}, inplace=True)\n",
      "/var/folders/b3/gf49qzln7ds81ck68l_z0bqr0000gq/T/ipykernel_6567/1286271043.py:5: SettingWithCopyWarning: \n",
      "A value is trying to be set on a copy of a slice from a DataFrame\n",
      "\n",
      "See the caveats in the documentation: https://pandas.pydata.org/pandas-docs/stable/user_guide/indexing.html#returning-a-view-versus-a-copy\n",
      "  df.dropna(inplace=True)\n",
      "/var/folders/b3/gf49qzln7ds81ck68l_z0bqr0000gq/T/ipykernel_6567/1286271043.py:6: SettingWithCopyWarning: \n",
      "A value is trying to be set on a copy of a slice from a DataFrame\n",
      "\n",
      "See the caveats in the documentation: https://pandas.pydata.org/pandas-docs/stable/user_guide/indexing.html#returning-a-view-versus-a-copy\n",
      "  df.rename(columns={'Inflation t+1': 'Actual'}, inplace=True)\n"
     ]
    }
   ],
   "source": [
    "def create_test_dataframe(raw_dataset_dict: dict):\n",
    "    test_list =  []\n",
    "    for key in categories:\n",
    "        df = raw_dataset_dict[key][['Category_id','Category', 'Date', 'Year', 'Inflation t+1']]\n",
    "        df.dropna(inplace=True)\n",
    "        df.rename(columns={'Inflation t+1': 'Actual'}, inplace=True)\n",
    "        target_df = df[df['Year'] > Year]\n",
    "        test_list.append(target_df)\n",
    "    \n",
    "    test_df = pd.concat(test_list)\n",
    "    return test_df\n",
    "\n",
    "test_df = create_test_dataframe(raw_dataset_dict)\n"
   ]
  },
  {
   "cell_type": "code",
   "execution_count": 14,
   "metadata": {},
   "outputs": [],
   "source": [
    "def get_df_with_predictions(predictions, test_df):\n",
    "    all_data_dict = {}\n",
    "    prediction_df =  pd.DataFrame(predictions.flatten().detach().numpy())\n",
    "    prediction_df.rename(columns = {0: 'Prediction'}, inplace=True)\n",
    "    prediction_df.reset_index(inplace=True)\n",
    "    test_df.reset_index(inplace=True)\n",
    "    all_data = pd.concat([test_df, prediction_df], axis=1)\n",
    "\n",
    "    all_data = all_data[~all_data.Category.isna()]\n",
    "    all_data = all_data[~all_data.Prediction.isna()]\n",
    "    \n",
    "    all_data = all_data[['Category_id','Category','Date','Year','Actual','Prediction']]\n",
    "\n",
    "    return all_data\n",
    "\n",
    "all_data=get_df_with_predictions(predictions, test_df)"
   ]
  },
  {
   "cell_type": "code",
   "execution_count": 16,
   "metadata": {},
   "outputs": [],
   "source": [
    "data_Categories  = list(all_data.Category.unique())"
   ]
  },
  {
   "cell_type": "code",
   "execution_count": 20,
   "metadata": {},
   "outputs": [
    {
     "data": {
      "application/vnd.plotly.v1+json": {
       "config": {
        "plotlyServerURL": "https://plot.ly"
       },
       "data": [
        {
         "hovertemplate": "variable=Actual<br>Date=%{x}<br>value=%{y}<extra></extra>",
         "legendgroup": "Actual",
         "line": {
          "color": "#636efa",
          "dash": "solid"
         },
         "marker": {
          "symbol": "circle"
         },
         "mode": "lines",
         "name": "Actual",
         "orientation": "v",
         "showlegend": true,
         "type": "scatter",
         "x": [
          "2020-01-15",
          "2020-02-15",
          "2020-03-15",
          "2020-04-15",
          "2020-05-15",
          "2020-06-15",
          "2020-07-15",
          "2020-08-15",
          "2020-09-15",
          "2020-10-15",
          "2020-11-15",
          "2020-12-15",
          "2021-01-15",
          "2021-02-15",
          "2021-03-15",
          "2021-04-15",
          "2021-05-15",
          "2021-06-15",
          "2021-07-15",
          "2021-08-15",
          "2021-09-15",
          "2021-10-15",
          "2021-11-15",
          "2021-12-15",
          "2022-01-15",
          "2022-02-15",
          "2022-03-15",
          "2022-04-15",
          "2022-05-15",
          "2022-06-15",
          "2022-07-15"
         ],
         "xaxis": "x",
         "y": [
          0.15463509552807234,
          -0.3345343588107247,
          -0.7067463060118213,
          -0.19903990872197616,
          0.21444197262896575,
          0.6871728536575668,
          1.0443489644255552,
          0.775824602805571,
          -0.23033689250130168,
          0.08686582513009736,
          0.15166320019757282,
          0.010921799923487224,
          -0.20566648976569685,
          0.08067714539683757,
          1.9746209319092312,
          1.8055119160510047,
          2.136169796664402,
          0.4800394791391288,
          0.3213070091461675,
          0.24763546436649633,
          1.0368307172414288,
          0.9306072736629931,
          1.2361327177605816,
          0.9339947338453687,
          0.4369564076996414,
          -0.4253365009516008,
          0.1814621947743118,
          0.6837799863908143,
          0.7802490229523789,
          0.2295315441775966,
          0.4574885673064432
         ],
         "yaxis": "y"
        },
        {
         "hovertemplate": "variable=Prediction<br>Date=%{x}<br>value=%{y}<extra></extra>",
         "legendgroup": "Prediction",
         "line": {
          "color": "#EF553B",
          "dash": "solid"
         },
         "marker": {
          "symbol": "circle"
         },
         "mode": "lines",
         "name": "Prediction",
         "orientation": "v",
         "showlegend": true,
         "type": "scatter",
         "x": [
          "2020-01-15",
          "2020-02-15",
          "2020-03-15",
          "2020-04-15",
          "2020-05-15",
          "2020-06-15",
          "2020-07-15",
          "2020-08-15",
          "2020-09-15",
          "2020-10-15",
          "2020-11-15",
          "2020-12-15",
          "2021-01-15",
          "2021-02-15",
          "2021-03-15",
          "2021-04-15",
          "2021-05-15",
          "2021-06-15",
          "2021-07-15",
          "2021-08-15",
          "2021-09-15",
          "2021-10-15",
          "2021-11-15",
          "2021-12-15",
          "2022-01-15",
          "2022-02-15",
          "2022-03-15",
          "2022-04-15",
          "2022-05-15",
          "2022-06-15",
          "2022-07-15"
         ],
         "xaxis": "x",
         "y": [
          0.376275897026062,
          -0.05273403972387314,
          -2.522303342819214,
          -3.920973539352417,
          -2.036832809448242,
          -0.39127930998802185,
          -0.07954291254281998,
          0.49724671244621277,
          1.161924958229065,
          1.8538031578063965,
          1.949286937713623,
          1.0537488460540771,
          0.5709932446479797,
          0.3710133731365204,
          0.1881774365901947,
          -0.08529826253652573,
          0.14205464720726013,
          0.15704059600830078,
          0.22478720545768738,
          0.3877817392349243,
          0.34075042605400085,
          0.5613836050033569,
          0.8415873646736145,
          0.6709338426589966,
          0.050869546830654144,
          -0.08252806216478348,
          0.05657551437616348,
          -0.25922149419784546,
          0.29510653018951416,
          0.7340612411499023,
          -0.2867850363254547
         ],
         "yaxis": "y"
        }
       ],
       "layout": {
        "legend": {
         "title": {
          "text": "variable"
         },
         "tracegroupgap": 0
        },
        "template": {
         "data": {
          "bar": [
           {
            "error_x": {
             "color": "#2a3f5f"
            },
            "error_y": {
             "color": "#2a3f5f"
            },
            "marker": {
             "line": {
              "color": "#E5ECF6",
              "width": 0.5
             },
             "pattern": {
              "fillmode": "overlay",
              "size": 10,
              "solidity": 0.2
             }
            },
            "type": "bar"
           }
          ],
          "barpolar": [
           {
            "marker": {
             "line": {
              "color": "#E5ECF6",
              "width": 0.5
             },
             "pattern": {
              "fillmode": "overlay",
              "size": 10,
              "solidity": 0.2
             }
            },
            "type": "barpolar"
           }
          ],
          "carpet": [
           {
            "aaxis": {
             "endlinecolor": "#2a3f5f",
             "gridcolor": "white",
             "linecolor": "white",
             "minorgridcolor": "white",
             "startlinecolor": "#2a3f5f"
            },
            "baxis": {
             "endlinecolor": "#2a3f5f",
             "gridcolor": "white",
             "linecolor": "white",
             "minorgridcolor": "white",
             "startlinecolor": "#2a3f5f"
            },
            "type": "carpet"
           }
          ],
          "choropleth": [
           {
            "colorbar": {
             "outlinewidth": 0,
             "ticks": ""
            },
            "type": "choropleth"
           }
          ],
          "contour": [
           {
            "colorbar": {
             "outlinewidth": 0,
             "ticks": ""
            },
            "colorscale": [
             [
              0,
              "#0d0887"
             ],
             [
              0.1111111111111111,
              "#46039f"
             ],
             [
              0.2222222222222222,
              "#7201a8"
             ],
             [
              0.3333333333333333,
              "#9c179e"
             ],
             [
              0.4444444444444444,
              "#bd3786"
             ],
             [
              0.5555555555555556,
              "#d8576b"
             ],
             [
              0.6666666666666666,
              "#ed7953"
             ],
             [
              0.7777777777777778,
              "#fb9f3a"
             ],
             [
              0.8888888888888888,
              "#fdca26"
             ],
             [
              1,
              "#f0f921"
             ]
            ],
            "type": "contour"
           }
          ],
          "contourcarpet": [
           {
            "colorbar": {
             "outlinewidth": 0,
             "ticks": ""
            },
            "type": "contourcarpet"
           }
          ],
          "heatmap": [
           {
            "colorbar": {
             "outlinewidth": 0,
             "ticks": ""
            },
            "colorscale": [
             [
              0,
              "#0d0887"
             ],
             [
              0.1111111111111111,
              "#46039f"
             ],
             [
              0.2222222222222222,
              "#7201a8"
             ],
             [
              0.3333333333333333,
              "#9c179e"
             ],
             [
              0.4444444444444444,
              "#bd3786"
             ],
             [
              0.5555555555555556,
              "#d8576b"
             ],
             [
              0.6666666666666666,
              "#ed7953"
             ],
             [
              0.7777777777777778,
              "#fb9f3a"
             ],
             [
              0.8888888888888888,
              "#fdca26"
             ],
             [
              1,
              "#f0f921"
             ]
            ],
            "type": "heatmap"
           }
          ],
          "heatmapgl": [
           {
            "colorbar": {
             "outlinewidth": 0,
             "ticks": ""
            },
            "colorscale": [
             [
              0,
              "#0d0887"
             ],
             [
              0.1111111111111111,
              "#46039f"
             ],
             [
              0.2222222222222222,
              "#7201a8"
             ],
             [
              0.3333333333333333,
              "#9c179e"
             ],
             [
              0.4444444444444444,
              "#bd3786"
             ],
             [
              0.5555555555555556,
              "#d8576b"
             ],
             [
              0.6666666666666666,
              "#ed7953"
             ],
             [
              0.7777777777777778,
              "#fb9f3a"
             ],
             [
              0.8888888888888888,
              "#fdca26"
             ],
             [
              1,
              "#f0f921"
             ]
            ],
            "type": "heatmapgl"
           }
          ],
          "histogram": [
           {
            "marker": {
             "pattern": {
              "fillmode": "overlay",
              "size": 10,
              "solidity": 0.2
             }
            },
            "type": "histogram"
           }
          ],
          "histogram2d": [
           {
            "colorbar": {
             "outlinewidth": 0,
             "ticks": ""
            },
            "colorscale": [
             [
              0,
              "#0d0887"
             ],
             [
              0.1111111111111111,
              "#46039f"
             ],
             [
              0.2222222222222222,
              "#7201a8"
             ],
             [
              0.3333333333333333,
              "#9c179e"
             ],
             [
              0.4444444444444444,
              "#bd3786"
             ],
             [
              0.5555555555555556,
              "#d8576b"
             ],
             [
              0.6666666666666666,
              "#ed7953"
             ],
             [
              0.7777777777777778,
              "#fb9f3a"
             ],
             [
              0.8888888888888888,
              "#fdca26"
             ],
             [
              1,
              "#f0f921"
             ]
            ],
            "type": "histogram2d"
           }
          ],
          "histogram2dcontour": [
           {
            "colorbar": {
             "outlinewidth": 0,
             "ticks": ""
            },
            "colorscale": [
             [
              0,
              "#0d0887"
             ],
             [
              0.1111111111111111,
              "#46039f"
             ],
             [
              0.2222222222222222,
              "#7201a8"
             ],
             [
              0.3333333333333333,
              "#9c179e"
             ],
             [
              0.4444444444444444,
              "#bd3786"
             ],
             [
              0.5555555555555556,
              "#d8576b"
             ],
             [
              0.6666666666666666,
              "#ed7953"
             ],
             [
              0.7777777777777778,
              "#fb9f3a"
             ],
             [
              0.8888888888888888,
              "#fdca26"
             ],
             [
              1,
              "#f0f921"
             ]
            ],
            "type": "histogram2dcontour"
           }
          ],
          "mesh3d": [
           {
            "colorbar": {
             "outlinewidth": 0,
             "ticks": ""
            },
            "type": "mesh3d"
           }
          ],
          "parcoords": [
           {
            "line": {
             "colorbar": {
              "outlinewidth": 0,
              "ticks": ""
             }
            },
            "type": "parcoords"
           }
          ],
          "pie": [
           {
            "automargin": true,
            "type": "pie"
           }
          ],
          "scatter": [
           {
            "fillpattern": {
             "fillmode": "overlay",
             "size": 10,
             "solidity": 0.2
            },
            "type": "scatter"
           }
          ],
          "scatter3d": [
           {
            "line": {
             "colorbar": {
              "outlinewidth": 0,
              "ticks": ""
             }
            },
            "marker": {
             "colorbar": {
              "outlinewidth": 0,
              "ticks": ""
             }
            },
            "type": "scatter3d"
           }
          ],
          "scattercarpet": [
           {
            "marker": {
             "colorbar": {
              "outlinewidth": 0,
              "ticks": ""
             }
            },
            "type": "scattercarpet"
           }
          ],
          "scattergeo": [
           {
            "marker": {
             "colorbar": {
              "outlinewidth": 0,
              "ticks": ""
             }
            },
            "type": "scattergeo"
           }
          ],
          "scattergl": [
           {
            "marker": {
             "colorbar": {
              "outlinewidth": 0,
              "ticks": ""
             }
            },
            "type": "scattergl"
           }
          ],
          "scattermapbox": [
           {
            "marker": {
             "colorbar": {
              "outlinewidth": 0,
              "ticks": ""
             }
            },
            "type": "scattermapbox"
           }
          ],
          "scatterpolar": [
           {
            "marker": {
             "colorbar": {
              "outlinewidth": 0,
              "ticks": ""
             }
            },
            "type": "scatterpolar"
           }
          ],
          "scatterpolargl": [
           {
            "marker": {
             "colorbar": {
              "outlinewidth": 0,
              "ticks": ""
             }
            },
            "type": "scatterpolargl"
           }
          ],
          "scatterternary": [
           {
            "marker": {
             "colorbar": {
              "outlinewidth": 0,
              "ticks": ""
             }
            },
            "type": "scatterternary"
           }
          ],
          "surface": [
           {
            "colorbar": {
             "outlinewidth": 0,
             "ticks": ""
            },
            "colorscale": [
             [
              0,
              "#0d0887"
             ],
             [
              0.1111111111111111,
              "#46039f"
             ],
             [
              0.2222222222222222,
              "#7201a8"
             ],
             [
              0.3333333333333333,
              "#9c179e"
             ],
             [
              0.4444444444444444,
              "#bd3786"
             ],
             [
              0.5555555555555556,
              "#d8576b"
             ],
             [
              0.6666666666666666,
              "#ed7953"
             ],
             [
              0.7777777777777778,
              "#fb9f3a"
             ],
             [
              0.8888888888888888,
              "#fdca26"
             ],
             [
              1,
              "#f0f921"
             ]
            ],
            "type": "surface"
           }
          ],
          "table": [
           {
            "cells": {
             "fill": {
              "color": "#EBF0F8"
             },
             "line": {
              "color": "white"
             }
            },
            "header": {
             "fill": {
              "color": "#C8D4E3"
             },
             "line": {
              "color": "white"
             }
            },
            "type": "table"
           }
          ]
         },
         "layout": {
          "annotationdefaults": {
           "arrowcolor": "#2a3f5f",
           "arrowhead": 0,
           "arrowwidth": 1
          },
          "autotypenumbers": "strict",
          "coloraxis": {
           "colorbar": {
            "outlinewidth": 0,
            "ticks": ""
           }
          },
          "colorscale": {
           "diverging": [
            [
             0,
             "#8e0152"
            ],
            [
             0.1,
             "#c51b7d"
            ],
            [
             0.2,
             "#de77ae"
            ],
            [
             0.3,
             "#f1b6da"
            ],
            [
             0.4,
             "#fde0ef"
            ],
            [
             0.5,
             "#f7f7f7"
            ],
            [
             0.6,
             "#e6f5d0"
            ],
            [
             0.7,
             "#b8e186"
            ],
            [
             0.8,
             "#7fbc41"
            ],
            [
             0.9,
             "#4d9221"
            ],
            [
             1,
             "#276419"
            ]
           ],
           "sequential": [
            [
             0,
             "#0d0887"
            ],
            [
             0.1111111111111111,
             "#46039f"
            ],
            [
             0.2222222222222222,
             "#7201a8"
            ],
            [
             0.3333333333333333,
             "#9c179e"
            ],
            [
             0.4444444444444444,
             "#bd3786"
            ],
            [
             0.5555555555555556,
             "#d8576b"
            ],
            [
             0.6666666666666666,
             "#ed7953"
            ],
            [
             0.7777777777777778,
             "#fb9f3a"
            ],
            [
             0.8888888888888888,
             "#fdca26"
            ],
            [
             1,
             "#f0f921"
            ]
           ],
           "sequentialminus": [
            [
             0,
             "#0d0887"
            ],
            [
             0.1111111111111111,
             "#46039f"
            ],
            [
             0.2222222222222222,
             "#7201a8"
            ],
            [
             0.3333333333333333,
             "#9c179e"
            ],
            [
             0.4444444444444444,
             "#bd3786"
            ],
            [
             0.5555555555555556,
             "#d8576b"
            ],
            [
             0.6666666666666666,
             "#ed7953"
            ],
            [
             0.7777777777777778,
             "#fb9f3a"
            ],
            [
             0.8888888888888888,
             "#fdca26"
            ],
            [
             1,
             "#f0f921"
            ]
           ]
          },
          "colorway": [
           "#636efa",
           "#EF553B",
           "#00cc96",
           "#ab63fa",
           "#FFA15A",
           "#19d3f3",
           "#FF6692",
           "#B6E880",
           "#FF97FF",
           "#FECB52"
          ],
          "font": {
           "color": "#2a3f5f"
          },
          "geo": {
           "bgcolor": "white",
           "lakecolor": "white",
           "landcolor": "#E5ECF6",
           "showlakes": true,
           "showland": true,
           "subunitcolor": "white"
          },
          "hoverlabel": {
           "align": "left"
          },
          "hovermode": "closest",
          "mapbox": {
           "style": "light"
          },
          "paper_bgcolor": "white",
          "plot_bgcolor": "#E5ECF6",
          "polar": {
           "angularaxis": {
            "gridcolor": "white",
            "linecolor": "white",
            "ticks": ""
           },
           "bgcolor": "#E5ECF6",
           "radialaxis": {
            "gridcolor": "white",
            "linecolor": "white",
            "ticks": ""
           }
          },
          "scene": {
           "xaxis": {
            "backgroundcolor": "#E5ECF6",
            "gridcolor": "white",
            "gridwidth": 2,
            "linecolor": "white",
            "showbackground": true,
            "ticks": "",
            "zerolinecolor": "white"
           },
           "yaxis": {
            "backgroundcolor": "#E5ECF6",
            "gridcolor": "white",
            "gridwidth": 2,
            "linecolor": "white",
            "showbackground": true,
            "ticks": "",
            "zerolinecolor": "white"
           },
           "zaxis": {
            "backgroundcolor": "#E5ECF6",
            "gridcolor": "white",
            "gridwidth": 2,
            "linecolor": "white",
            "showbackground": true,
            "ticks": "",
            "zerolinecolor": "white"
           }
          },
          "shapedefaults": {
           "line": {
            "color": "#2a3f5f"
           }
          },
          "ternary": {
           "aaxis": {
            "gridcolor": "white",
            "linecolor": "white",
            "ticks": ""
           },
           "baxis": {
            "gridcolor": "white",
            "linecolor": "white",
            "ticks": ""
           },
           "bgcolor": "#E5ECF6",
           "caxis": {
            "gridcolor": "white",
            "linecolor": "white",
            "ticks": ""
           }
          },
          "title": {
           "x": 0.05
          },
          "xaxis": {
           "automargin": true,
           "gridcolor": "white",
           "linecolor": "white",
           "ticks": "",
           "title": {
            "standoff": 15
           },
           "zerolinecolor": "white",
           "zerolinewidth": 2
          },
          "yaxis": {
           "automargin": true,
           "gridcolor": "white",
           "linecolor": "white",
           "ticks": "",
           "title": {
            "standoff": 15
           },
           "zerolinecolor": "white",
           "zerolinewidth": 2
          }
         }
        },
        "title": {
         "text": "Commodities less food and energy commodities - Actual VS Prediction"
        },
        "xaxis": {
         "anchor": "y",
         "domain": [
          0,
          1
         ],
         "title": {
          "text": "Date"
         }
        },
        "yaxis": {
         "anchor": "x",
         "domain": [
          0,
          1
         ],
         "title": {
          "text": "value"
         }
        }
       }
      }
     },
     "metadata": {},
     "output_type": "display_data"
    },
    {
     "data": {
      "application/vnd.plotly.v1+json": {
       "config": {
        "plotlyServerURL": "https://plot.ly"
       },
       "data": [
        {
         "hovertemplate": "variable=Actual<br>Date=%{x}<br>value=%{y}<extra></extra>",
         "legendgroup": "Actual",
         "line": {
          "color": "#636efa",
          "dash": "solid"
         },
         "marker": {
          "symbol": "circle"
         },
         "mode": "lines",
         "name": "Actual",
         "orientation": "v",
         "showlegend": true,
         "type": "scatter",
         "x": [
          "2020-01-15",
          "2020-02-15",
          "2020-03-15",
          "2020-04-15",
          "2020-05-15",
          "2020-06-15",
          "2020-07-15",
          "2020-08-15",
          "2020-09-15",
          "2020-10-15",
          "2020-11-15",
          "2020-12-15",
          "2021-01-15",
          "2021-02-15",
          "2021-03-15",
          "2021-04-15",
          "2021-05-15",
          "2021-06-15",
          "2021-07-15",
          "2021-08-15",
          "2021-09-15",
          "2021-10-15",
          "2021-11-15",
          "2021-12-15",
          "2022-01-15",
          "2022-02-15",
          "2022-03-15",
          "2022-04-15",
          "2022-05-15",
          "2022-06-15",
          "2022-07-15"
         ],
         "xaxis": "x",
         "y": [
          -0.5442287135843409,
          -2.955946832481726,
          -6.051712350269205,
          -1.8543522030981214,
          2.4787038670666317,
          2.8566449746648126,
          1.3246351451904235,
          0.973242490390342,
          0.041267907909747145,
          0.26341816039867116,
          1.415517209335091,
          0.6029017169235893,
          1.1394869871672584,
          2.649285639395791,
          2.50790260806045,
          2.1019410501237648,
          3.5510435446902737,
          0.6475895228950255,
          -0.10799388660778377,
          0.28772493055192816,
          2.3410122017667923,
          2.435400741390786,
          0.7928015718952184,
          0.39007551824331316,
          1.8997570779666266,
          3.822453276406732,
          -0.3800388378928187,
          1.9810396557983427,
          3.773306571174964,
          -2.1134443511056706,
          -2.2948816026304826
         ],
         "yaxis": "y"
        },
        {
         "hovertemplate": "variable=Prediction<br>Date=%{x}<br>value=%{y}<extra></extra>",
         "legendgroup": "Prediction",
         "line": {
          "color": "#EF553B",
          "dash": "solid"
         },
         "marker": {
          "symbol": "circle"
         },
         "mode": "lines",
         "name": "Prediction",
         "orientation": "v",
         "showlegend": true,
         "type": "scatter",
         "x": [
          "2020-01-15",
          "2020-02-15",
          "2020-03-15",
          "2020-04-15",
          "2020-05-15",
          "2020-06-15",
          "2020-07-15",
          "2020-08-15",
          "2020-09-15",
          "2020-10-15",
          "2020-11-15",
          "2020-12-15",
          "2021-01-15",
          "2021-02-15",
          "2021-03-15",
          "2021-04-15",
          "2021-05-15",
          "2021-06-15",
          "2021-07-15",
          "2021-08-15",
          "2021-09-15",
          "2021-10-15",
          "2021-11-15",
          "2021-12-15",
          "2022-01-15",
          "2022-02-15",
          "2022-03-15",
          "2022-04-15",
          "2022-05-15",
          "2022-06-15",
          "2022-07-15"
         ],
         "xaxis": "x",
         "y": [
          -0.0977032259106636,
          -0.029751412570476532,
          0.20000213384628296,
          0.40236976742744446,
          -0.05841430276632309,
          0.26101404428482056,
          0.053012698888778687,
          0.0910789966583252,
          -0.04383545368909836,
          0.12062660604715347,
          0.007973849773406982,
          0.3594595193862915,
          0.4280330240726471,
          0.29824888706207275,
          -0.2826973497867584,
          -0.36031073331832886,
          -0.10780132561922073,
          0.008951373398303986,
          0.18153409659862518,
          0.13849547505378723,
          0.31995224952697754,
          0.30539724230766296,
          0.26604023575782776,
          0.009722955524921417,
          -0.0366986021399498,
          0.2814314365386963,
          0.34652087092399597,
          0.41794443130493164,
          0.5526160001754761,
          0.4407748878002167,
          0.6564633250236511
         ],
         "yaxis": "y"
        }
       ],
       "layout": {
        "legend": {
         "title": {
          "text": "variable"
         },
         "tracegroupgap": 0
        },
        "template": {
         "data": {
          "bar": [
           {
            "error_x": {
             "color": "#2a3f5f"
            },
            "error_y": {
             "color": "#2a3f5f"
            },
            "marker": {
             "line": {
              "color": "#E5ECF6",
              "width": 0.5
             },
             "pattern": {
              "fillmode": "overlay",
              "size": 10,
              "solidity": 0.2
             }
            },
            "type": "bar"
           }
          ],
          "barpolar": [
           {
            "marker": {
             "line": {
              "color": "#E5ECF6",
              "width": 0.5
             },
             "pattern": {
              "fillmode": "overlay",
              "size": 10,
              "solidity": 0.2
             }
            },
            "type": "barpolar"
           }
          ],
          "carpet": [
           {
            "aaxis": {
             "endlinecolor": "#2a3f5f",
             "gridcolor": "white",
             "linecolor": "white",
             "minorgridcolor": "white",
             "startlinecolor": "#2a3f5f"
            },
            "baxis": {
             "endlinecolor": "#2a3f5f",
             "gridcolor": "white",
             "linecolor": "white",
             "minorgridcolor": "white",
             "startlinecolor": "#2a3f5f"
            },
            "type": "carpet"
           }
          ],
          "choropleth": [
           {
            "colorbar": {
             "outlinewidth": 0,
             "ticks": ""
            },
            "type": "choropleth"
           }
          ],
          "contour": [
           {
            "colorbar": {
             "outlinewidth": 0,
             "ticks": ""
            },
            "colorscale": [
             [
              0,
              "#0d0887"
             ],
             [
              0.1111111111111111,
              "#46039f"
             ],
             [
              0.2222222222222222,
              "#7201a8"
             ],
             [
              0.3333333333333333,
              "#9c179e"
             ],
             [
              0.4444444444444444,
              "#bd3786"
             ],
             [
              0.5555555555555556,
              "#d8576b"
             ],
             [
              0.6666666666666666,
              "#ed7953"
             ],
             [
              0.7777777777777778,
              "#fb9f3a"
             ],
             [
              0.8888888888888888,
              "#fdca26"
             ],
             [
              1,
              "#f0f921"
             ]
            ],
            "type": "contour"
           }
          ],
          "contourcarpet": [
           {
            "colorbar": {
             "outlinewidth": 0,
             "ticks": ""
            },
            "type": "contourcarpet"
           }
          ],
          "heatmap": [
           {
            "colorbar": {
             "outlinewidth": 0,
             "ticks": ""
            },
            "colorscale": [
             [
              0,
              "#0d0887"
             ],
             [
              0.1111111111111111,
              "#46039f"
             ],
             [
              0.2222222222222222,
              "#7201a8"
             ],
             [
              0.3333333333333333,
              "#9c179e"
             ],
             [
              0.4444444444444444,
              "#bd3786"
             ],
             [
              0.5555555555555556,
              "#d8576b"
             ],
             [
              0.6666666666666666,
              "#ed7953"
             ],
             [
              0.7777777777777778,
              "#fb9f3a"
             ],
             [
              0.8888888888888888,
              "#fdca26"
             ],
             [
              1,
              "#f0f921"
             ]
            ],
            "type": "heatmap"
           }
          ],
          "heatmapgl": [
           {
            "colorbar": {
             "outlinewidth": 0,
             "ticks": ""
            },
            "colorscale": [
             [
              0,
              "#0d0887"
             ],
             [
              0.1111111111111111,
              "#46039f"
             ],
             [
              0.2222222222222222,
              "#7201a8"
             ],
             [
              0.3333333333333333,
              "#9c179e"
             ],
             [
              0.4444444444444444,
              "#bd3786"
             ],
             [
              0.5555555555555556,
              "#d8576b"
             ],
             [
              0.6666666666666666,
              "#ed7953"
             ],
             [
              0.7777777777777778,
              "#fb9f3a"
             ],
             [
              0.8888888888888888,
              "#fdca26"
             ],
             [
              1,
              "#f0f921"
             ]
            ],
            "type": "heatmapgl"
           }
          ],
          "histogram": [
           {
            "marker": {
             "pattern": {
              "fillmode": "overlay",
              "size": 10,
              "solidity": 0.2
             }
            },
            "type": "histogram"
           }
          ],
          "histogram2d": [
           {
            "colorbar": {
             "outlinewidth": 0,
             "ticks": ""
            },
            "colorscale": [
             [
              0,
              "#0d0887"
             ],
             [
              0.1111111111111111,
              "#46039f"
             ],
             [
              0.2222222222222222,
              "#7201a8"
             ],
             [
              0.3333333333333333,
              "#9c179e"
             ],
             [
              0.4444444444444444,
              "#bd3786"
             ],
             [
              0.5555555555555556,
              "#d8576b"
             ],
             [
              0.6666666666666666,
              "#ed7953"
             ],
             [
              0.7777777777777778,
              "#fb9f3a"
             ],
             [
              0.8888888888888888,
              "#fdca26"
             ],
             [
              1,
              "#f0f921"
             ]
            ],
            "type": "histogram2d"
           }
          ],
          "histogram2dcontour": [
           {
            "colorbar": {
             "outlinewidth": 0,
             "ticks": ""
            },
            "colorscale": [
             [
              0,
              "#0d0887"
             ],
             [
              0.1111111111111111,
              "#46039f"
             ],
             [
              0.2222222222222222,
              "#7201a8"
             ],
             [
              0.3333333333333333,
              "#9c179e"
             ],
             [
              0.4444444444444444,
              "#bd3786"
             ],
             [
              0.5555555555555556,
              "#d8576b"
             ],
             [
              0.6666666666666666,
              "#ed7953"
             ],
             [
              0.7777777777777778,
              "#fb9f3a"
             ],
             [
              0.8888888888888888,
              "#fdca26"
             ],
             [
              1,
              "#f0f921"
             ]
            ],
            "type": "histogram2dcontour"
           }
          ],
          "mesh3d": [
           {
            "colorbar": {
             "outlinewidth": 0,
             "ticks": ""
            },
            "type": "mesh3d"
           }
          ],
          "parcoords": [
           {
            "line": {
             "colorbar": {
              "outlinewidth": 0,
              "ticks": ""
             }
            },
            "type": "parcoords"
           }
          ],
          "pie": [
           {
            "automargin": true,
            "type": "pie"
           }
          ],
          "scatter": [
           {
            "fillpattern": {
             "fillmode": "overlay",
             "size": 10,
             "solidity": 0.2
            },
            "type": "scatter"
           }
          ],
          "scatter3d": [
           {
            "line": {
             "colorbar": {
              "outlinewidth": 0,
              "ticks": ""
             }
            },
            "marker": {
             "colorbar": {
              "outlinewidth": 0,
              "ticks": ""
             }
            },
            "type": "scatter3d"
           }
          ],
          "scattercarpet": [
           {
            "marker": {
             "colorbar": {
              "outlinewidth": 0,
              "ticks": ""
             }
            },
            "type": "scattercarpet"
           }
          ],
          "scattergeo": [
           {
            "marker": {
             "colorbar": {
              "outlinewidth": 0,
              "ticks": ""
             }
            },
            "type": "scattergeo"
           }
          ],
          "scattergl": [
           {
            "marker": {
             "colorbar": {
              "outlinewidth": 0,
              "ticks": ""
             }
            },
            "type": "scattergl"
           }
          ],
          "scattermapbox": [
           {
            "marker": {
             "colorbar": {
              "outlinewidth": 0,
              "ticks": ""
             }
            },
            "type": "scattermapbox"
           }
          ],
          "scatterpolar": [
           {
            "marker": {
             "colorbar": {
              "outlinewidth": 0,
              "ticks": ""
             }
            },
            "type": "scatterpolar"
           }
          ],
          "scatterpolargl": [
           {
            "marker": {
             "colorbar": {
              "outlinewidth": 0,
              "ticks": ""
             }
            },
            "type": "scatterpolargl"
           }
          ],
          "scatterternary": [
           {
            "marker": {
             "colorbar": {
              "outlinewidth": 0,
              "ticks": ""
             }
            },
            "type": "scatterternary"
           }
          ],
          "surface": [
           {
            "colorbar": {
             "outlinewidth": 0,
             "ticks": ""
            },
            "colorscale": [
             [
              0,
              "#0d0887"
             ],
             [
              0.1111111111111111,
              "#46039f"
             ],
             [
              0.2222222222222222,
              "#7201a8"
             ],
             [
              0.3333333333333333,
              "#9c179e"
             ],
             [
              0.4444444444444444,
              "#bd3786"
             ],
             [
              0.5555555555555556,
              "#d8576b"
             ],
             [
              0.6666666666666666,
              "#ed7953"
             ],
             [
              0.7777777777777778,
              "#fb9f3a"
             ],
             [
              0.8888888888888888,
              "#fdca26"
             ],
             [
              1,
              "#f0f921"
             ]
            ],
            "type": "surface"
           }
          ],
          "table": [
           {
            "cells": {
             "fill": {
              "color": "#EBF0F8"
             },
             "line": {
              "color": "white"
             }
            },
            "header": {
             "fill": {
              "color": "#C8D4E3"
             },
             "line": {
              "color": "white"
             }
            },
            "type": "table"
           }
          ]
         },
         "layout": {
          "annotationdefaults": {
           "arrowcolor": "#2a3f5f",
           "arrowhead": 0,
           "arrowwidth": 1
          },
          "autotypenumbers": "strict",
          "coloraxis": {
           "colorbar": {
            "outlinewidth": 0,
            "ticks": ""
           }
          },
          "colorscale": {
           "diverging": [
            [
             0,
             "#8e0152"
            ],
            [
             0.1,
             "#c51b7d"
            ],
            [
             0.2,
             "#de77ae"
            ],
            [
             0.3,
             "#f1b6da"
            ],
            [
             0.4,
             "#fde0ef"
            ],
            [
             0.5,
             "#f7f7f7"
            ],
            [
             0.6,
             "#e6f5d0"
            ],
            [
             0.7,
             "#b8e186"
            ],
            [
             0.8,
             "#7fbc41"
            ],
            [
             0.9,
             "#4d9221"
            ],
            [
             1,
             "#276419"
            ]
           ],
           "sequential": [
            [
             0,
             "#0d0887"
            ],
            [
             0.1111111111111111,
             "#46039f"
            ],
            [
             0.2222222222222222,
             "#7201a8"
            ],
            [
             0.3333333333333333,
             "#9c179e"
            ],
            [
             0.4444444444444444,
             "#bd3786"
            ],
            [
             0.5555555555555556,
             "#d8576b"
            ],
            [
             0.6666666666666666,
             "#ed7953"
            ],
            [
             0.7777777777777778,
             "#fb9f3a"
            ],
            [
             0.8888888888888888,
             "#fdca26"
            ],
            [
             1,
             "#f0f921"
            ]
           ],
           "sequentialminus": [
            [
             0,
             "#0d0887"
            ],
            [
             0.1111111111111111,
             "#46039f"
            ],
            [
             0.2222222222222222,
             "#7201a8"
            ],
            [
             0.3333333333333333,
             "#9c179e"
            ],
            [
             0.4444444444444444,
             "#bd3786"
            ],
            [
             0.5555555555555556,
             "#d8576b"
            ],
            [
             0.6666666666666666,
             "#ed7953"
            ],
            [
             0.7777777777777778,
             "#fb9f3a"
            ],
            [
             0.8888888888888888,
             "#fdca26"
            ],
            [
             1,
             "#f0f921"
            ]
           ]
          },
          "colorway": [
           "#636efa",
           "#EF553B",
           "#00cc96",
           "#ab63fa",
           "#FFA15A",
           "#19d3f3",
           "#FF6692",
           "#B6E880",
           "#FF97FF",
           "#FECB52"
          ],
          "font": {
           "color": "#2a3f5f"
          },
          "geo": {
           "bgcolor": "white",
           "lakecolor": "white",
           "landcolor": "#E5ECF6",
           "showlakes": true,
           "showland": true,
           "subunitcolor": "white"
          },
          "hoverlabel": {
           "align": "left"
          },
          "hovermode": "closest",
          "mapbox": {
           "style": "light"
          },
          "paper_bgcolor": "white",
          "plot_bgcolor": "#E5ECF6",
          "polar": {
           "angularaxis": {
            "gridcolor": "white",
            "linecolor": "white",
            "ticks": ""
           },
           "bgcolor": "#E5ECF6",
           "radialaxis": {
            "gridcolor": "white",
            "linecolor": "white",
            "ticks": ""
           }
          },
          "scene": {
           "xaxis": {
            "backgroundcolor": "#E5ECF6",
            "gridcolor": "white",
            "gridwidth": 2,
            "linecolor": "white",
            "showbackground": true,
            "ticks": "",
            "zerolinecolor": "white"
           },
           "yaxis": {
            "backgroundcolor": "#E5ECF6",
            "gridcolor": "white",
            "gridwidth": 2,
            "linecolor": "white",
            "showbackground": true,
            "ticks": "",
            "zerolinecolor": "white"
           },
           "zaxis": {
            "backgroundcolor": "#E5ECF6",
            "gridcolor": "white",
            "gridwidth": 2,
            "linecolor": "white",
            "showbackground": true,
            "ticks": "",
            "zerolinecolor": "white"
           }
          },
          "shapedefaults": {
           "line": {
            "color": "#2a3f5f"
           }
          },
          "ternary": {
           "aaxis": {
            "gridcolor": "white",
            "linecolor": "white",
            "ticks": ""
           },
           "baxis": {
            "gridcolor": "white",
            "linecolor": "white",
            "ticks": ""
           },
           "bgcolor": "#E5ECF6",
           "caxis": {
            "gridcolor": "white",
            "linecolor": "white",
            "ticks": ""
           }
          },
          "title": {
           "x": 0.05
          },
          "xaxis": {
           "automargin": true,
           "gridcolor": "white",
           "linecolor": "white",
           "ticks": "",
           "title": {
            "standoff": 15
           },
           "zerolinecolor": "white",
           "zerolinewidth": 2
          },
          "yaxis": {
           "automargin": true,
           "gridcolor": "white",
           "linecolor": "white",
           "ticks": "",
           "title": {
            "standoff": 15
           },
           "zerolinecolor": "white",
           "zerolinewidth": 2
          }
         }
        },
        "title": {
         "text": "Transportation - Actual VS Prediction"
        },
        "xaxis": {
         "anchor": "y",
         "domain": [
          0,
          1
         ],
         "title": {
          "text": "Date"
         }
        },
        "yaxis": {
         "anchor": "x",
         "domain": [
          0,
          1
         ],
         "title": {
          "text": "value"
         }
        }
       }
      }
     },
     "metadata": {},
     "output_type": "display_data"
    },
    {
     "data": {
      "application/vnd.plotly.v1+json": {
       "config": {
        "plotlyServerURL": "https://plot.ly"
       },
       "data": [
        {
         "hovertemplate": "variable=Actual<br>Date=%{x}<br>value=%{y}<extra></extra>",
         "legendgroup": "Actual",
         "line": {
          "color": "#636efa",
          "dash": "solid"
         },
         "marker": {
          "symbol": "circle"
         },
         "mode": "lines",
         "name": "Actual",
         "orientation": "v",
         "showlegend": true,
         "type": "scatter",
         "x": [
          "2020-01-15",
          "2020-02-15",
          "2020-03-15",
          "2020-04-15",
          "2020-05-15",
          "2020-06-15",
          "2020-07-15",
          "2020-08-15",
          "2020-09-15",
          "2020-10-15",
          "2020-11-15",
          "2020-12-15",
          "2021-01-15",
          "2021-02-15",
          "2021-03-15",
          "2021-04-15",
          "2021-05-15",
          "2021-06-15",
          "2021-07-15",
          "2021-08-15",
          "2021-09-15",
          "2021-10-15",
          "2021-11-15",
          "2021-12-15",
          "2022-01-15",
          "2022-02-15",
          "2022-03-15",
          "2022-04-15",
          "2022-05-15",
          "2022-06-15",
          "2022-07-15"
         ],
         "xaxis": "x",
         "y": [
          0.24818137934860465,
          -0.10728914495865789,
          -0.39704629676956665,
          -0.1773282797473214,
          0.18180542869962088,
          0.5555268658057169,
          0.16110508200920445,
          0.11296818735582971,
          0.19928687896704705,
          0.34850892248466053,
          0.09331917408781333,
          -0.21735401442366156,
          0.25043618611308305,
          0.4344074601372575,
          0.7897819802046541,
          0.4629012657262937,
          0.4552184051533065,
          0.2983353633999525,
          0.05808566415546055,
          0.3165724502060211,
          0.5427682832573196,
          0.3096166028677067,
          0.3077527250052084,
          0.6202005420640933,
          0.5715149861737666,
          0.6907445112677835,
          0.7626926120973193,
          0.7876391989081821,
          0.8163072815930381,
          0.3195182429103071,
          0.6931632557266485
         ],
         "yaxis": "y"
        },
        {
         "hovertemplate": "variable=Prediction<br>Date=%{x}<br>value=%{y}<extra></extra>",
         "legendgroup": "Prediction",
         "line": {
          "color": "#EF553B",
          "dash": "solid"
         },
         "marker": {
          "symbol": "circle"
         },
         "mode": "lines",
         "name": "Prediction",
         "orientation": "v",
         "showlegend": true,
         "type": "scatter",
         "x": [
          "2020-01-15",
          "2020-02-15",
          "2020-03-15",
          "2020-04-15",
          "2020-05-15",
          "2020-06-15",
          "2020-07-15",
          "2020-08-15",
          "2020-09-15",
          "2020-10-15",
          "2020-11-15",
          "2020-12-15",
          "2021-01-15",
          "2021-02-15",
          "2021-03-15",
          "2021-04-15",
          "2021-05-15",
          "2021-06-15",
          "2021-07-15",
          "2021-08-15",
          "2021-09-15",
          "2021-10-15",
          "2021-11-15",
          "2021-12-15",
          "2022-01-15",
          "2022-02-15",
          "2022-03-15",
          "2022-04-15",
          "2022-05-15",
          "2022-06-15",
          "2022-07-15"
         ],
         "xaxis": "x",
         "y": [
          -0.1729981005191803,
          0.017591454088687897,
          0.02630951628088951,
          0.14144662022590637,
          0.14566409587860107,
          -0.16046684980392456,
          0.1102621927857399,
          0.29779231548309326,
          0.44956278800964355,
          0.04680689424276352,
          -0.2293577492237091,
          -0.06459663063287735,
          -0.03113151341676712,
          -0.011403657495975494,
          0.2540588676929474,
          0.4927605092525482,
          0.21364113688468933,
          -0.25497812032699585,
          -0.4326358139514923,
          -2.1742656230926514,
          -1.1737698316574097,
          1.1895349025726318,
          1.2598679065704346,
          1.134914517402649,
          0.8075129389762878,
          0.5975690484046936,
          -0.9566115140914917,
          -1.0377216339111328,
          -0.7416849136352539,
          -0.35718727111816406,
          0.3035120368003845
         ],
         "yaxis": "y"
        }
       ],
       "layout": {
        "legend": {
         "title": {
          "text": "variable"
         },
         "tracegroupgap": 0
        },
        "template": {
         "data": {
          "bar": [
           {
            "error_x": {
             "color": "#2a3f5f"
            },
            "error_y": {
             "color": "#2a3f5f"
            },
            "marker": {
             "line": {
              "color": "#E5ECF6",
              "width": 0.5
             },
             "pattern": {
              "fillmode": "overlay",
              "size": 10,
              "solidity": 0.2
             }
            },
            "type": "bar"
           }
          ],
          "barpolar": [
           {
            "marker": {
             "line": {
              "color": "#E5ECF6",
              "width": 0.5
             },
             "pattern": {
              "fillmode": "overlay",
              "size": 10,
              "solidity": 0.2
             }
            },
            "type": "barpolar"
           }
          ],
          "carpet": [
           {
            "aaxis": {
             "endlinecolor": "#2a3f5f",
             "gridcolor": "white",
             "linecolor": "white",
             "minorgridcolor": "white",
             "startlinecolor": "#2a3f5f"
            },
            "baxis": {
             "endlinecolor": "#2a3f5f",
             "gridcolor": "white",
             "linecolor": "white",
             "minorgridcolor": "white",
             "startlinecolor": "#2a3f5f"
            },
            "type": "carpet"
           }
          ],
          "choropleth": [
           {
            "colorbar": {
             "outlinewidth": 0,
             "ticks": ""
            },
            "type": "choropleth"
           }
          ],
          "contour": [
           {
            "colorbar": {
             "outlinewidth": 0,
             "ticks": ""
            },
            "colorscale": [
             [
              0,
              "#0d0887"
             ],
             [
              0.1111111111111111,
              "#46039f"
             ],
             [
              0.2222222222222222,
              "#7201a8"
             ],
             [
              0.3333333333333333,
              "#9c179e"
             ],
             [
              0.4444444444444444,
              "#bd3786"
             ],
             [
              0.5555555555555556,
              "#d8576b"
             ],
             [
              0.6666666666666666,
              "#ed7953"
             ],
             [
              0.7777777777777778,
              "#fb9f3a"
             ],
             [
              0.8888888888888888,
              "#fdca26"
             ],
             [
              1,
              "#f0f921"
             ]
            ],
            "type": "contour"
           }
          ],
          "contourcarpet": [
           {
            "colorbar": {
             "outlinewidth": 0,
             "ticks": ""
            },
            "type": "contourcarpet"
           }
          ],
          "heatmap": [
           {
            "colorbar": {
             "outlinewidth": 0,
             "ticks": ""
            },
            "colorscale": [
             [
              0,
              "#0d0887"
             ],
             [
              0.1111111111111111,
              "#46039f"
             ],
             [
              0.2222222222222222,
              "#7201a8"
             ],
             [
              0.3333333333333333,
              "#9c179e"
             ],
             [
              0.4444444444444444,
              "#bd3786"
             ],
             [
              0.5555555555555556,
              "#d8576b"
             ],
             [
              0.6666666666666666,
              "#ed7953"
             ],
             [
              0.7777777777777778,
              "#fb9f3a"
             ],
             [
              0.8888888888888888,
              "#fdca26"
             ],
             [
              1,
              "#f0f921"
             ]
            ],
            "type": "heatmap"
           }
          ],
          "heatmapgl": [
           {
            "colorbar": {
             "outlinewidth": 0,
             "ticks": ""
            },
            "colorscale": [
             [
              0,
              "#0d0887"
             ],
             [
              0.1111111111111111,
              "#46039f"
             ],
             [
              0.2222222222222222,
              "#7201a8"
             ],
             [
              0.3333333333333333,
              "#9c179e"
             ],
             [
              0.4444444444444444,
              "#bd3786"
             ],
             [
              0.5555555555555556,
              "#d8576b"
             ],
             [
              0.6666666666666666,
              "#ed7953"
             ],
             [
              0.7777777777777778,
              "#fb9f3a"
             ],
             [
              0.8888888888888888,
              "#fdca26"
             ],
             [
              1,
              "#f0f921"
             ]
            ],
            "type": "heatmapgl"
           }
          ],
          "histogram": [
           {
            "marker": {
             "pattern": {
              "fillmode": "overlay",
              "size": 10,
              "solidity": 0.2
             }
            },
            "type": "histogram"
           }
          ],
          "histogram2d": [
           {
            "colorbar": {
             "outlinewidth": 0,
             "ticks": ""
            },
            "colorscale": [
             [
              0,
              "#0d0887"
             ],
             [
              0.1111111111111111,
              "#46039f"
             ],
             [
              0.2222222222222222,
              "#7201a8"
             ],
             [
              0.3333333333333333,
              "#9c179e"
             ],
             [
              0.4444444444444444,
              "#bd3786"
             ],
             [
              0.5555555555555556,
              "#d8576b"
             ],
             [
              0.6666666666666666,
              "#ed7953"
             ],
             [
              0.7777777777777778,
              "#fb9f3a"
             ],
             [
              0.8888888888888888,
              "#fdca26"
             ],
             [
              1,
              "#f0f921"
             ]
            ],
            "type": "histogram2d"
           }
          ],
          "histogram2dcontour": [
           {
            "colorbar": {
             "outlinewidth": 0,
             "ticks": ""
            },
            "colorscale": [
             [
              0,
              "#0d0887"
             ],
             [
              0.1111111111111111,
              "#46039f"
             ],
             [
              0.2222222222222222,
              "#7201a8"
             ],
             [
              0.3333333333333333,
              "#9c179e"
             ],
             [
              0.4444444444444444,
              "#bd3786"
             ],
             [
              0.5555555555555556,
              "#d8576b"
             ],
             [
              0.6666666666666666,
              "#ed7953"
             ],
             [
              0.7777777777777778,
              "#fb9f3a"
             ],
             [
              0.8888888888888888,
              "#fdca26"
             ],
             [
              1,
              "#f0f921"
             ]
            ],
            "type": "histogram2dcontour"
           }
          ],
          "mesh3d": [
           {
            "colorbar": {
             "outlinewidth": 0,
             "ticks": ""
            },
            "type": "mesh3d"
           }
          ],
          "parcoords": [
           {
            "line": {
             "colorbar": {
              "outlinewidth": 0,
              "ticks": ""
             }
            },
            "type": "parcoords"
           }
          ],
          "pie": [
           {
            "automargin": true,
            "type": "pie"
           }
          ],
          "scatter": [
           {
            "fillpattern": {
             "fillmode": "overlay",
             "size": 10,
             "solidity": 0.2
            },
            "type": "scatter"
           }
          ],
          "scatter3d": [
           {
            "line": {
             "colorbar": {
              "outlinewidth": 0,
              "ticks": ""
             }
            },
            "marker": {
             "colorbar": {
              "outlinewidth": 0,
              "ticks": ""
             }
            },
            "type": "scatter3d"
           }
          ],
          "scattercarpet": [
           {
            "marker": {
             "colorbar": {
              "outlinewidth": 0,
              "ticks": ""
             }
            },
            "type": "scattercarpet"
           }
          ],
          "scattergeo": [
           {
            "marker": {
             "colorbar": {
              "outlinewidth": 0,
              "ticks": ""
             }
            },
            "type": "scattergeo"
           }
          ],
          "scattergl": [
           {
            "marker": {
             "colorbar": {
              "outlinewidth": 0,
              "ticks": ""
             }
            },
            "type": "scattergl"
           }
          ],
          "scattermapbox": [
           {
            "marker": {
             "colorbar": {
              "outlinewidth": 0,
              "ticks": ""
             }
            },
            "type": "scattermapbox"
           }
          ],
          "scatterpolar": [
           {
            "marker": {
             "colorbar": {
              "outlinewidth": 0,
              "ticks": ""
             }
            },
            "type": "scatterpolar"
           }
          ],
          "scatterpolargl": [
           {
            "marker": {
             "colorbar": {
              "outlinewidth": 0,
              "ticks": ""
             }
            },
            "type": "scatterpolargl"
           }
          ],
          "scatterternary": [
           {
            "marker": {
             "colorbar": {
              "outlinewidth": 0,
              "ticks": ""
             }
            },
            "type": "scatterternary"
           }
          ],
          "surface": [
           {
            "colorbar": {
             "outlinewidth": 0,
             "ticks": ""
            },
            "colorscale": [
             [
              0,
              "#0d0887"
             ],
             [
              0.1111111111111111,
              "#46039f"
             ],
             [
              0.2222222222222222,
              "#7201a8"
             ],
             [
              0.3333333333333333,
              "#9c179e"
             ],
             [
              0.4444444444444444,
              "#bd3786"
             ],
             [
              0.5555555555555556,
              "#d8576b"
             ],
             [
              0.6666666666666666,
              "#ed7953"
             ],
             [
              0.7777777777777778,
              "#fb9f3a"
             ],
             [
              0.8888888888888888,
              "#fdca26"
             ],
             [
              1,
              "#f0f921"
             ]
            ],
            "type": "surface"
           }
          ],
          "table": [
           {
            "cells": {
             "fill": {
              "color": "#EBF0F8"
             },
             "line": {
              "color": "white"
             }
            },
            "header": {
             "fill": {
              "color": "#C8D4E3"
             },
             "line": {
              "color": "white"
             }
            },
            "type": "table"
           }
          ]
         },
         "layout": {
          "annotationdefaults": {
           "arrowcolor": "#2a3f5f",
           "arrowhead": 0,
           "arrowwidth": 1
          },
          "autotypenumbers": "strict",
          "coloraxis": {
           "colorbar": {
            "outlinewidth": 0,
            "ticks": ""
           }
          },
          "colorscale": {
           "diverging": [
            [
             0,
             "#8e0152"
            ],
            [
             0.1,
             "#c51b7d"
            ],
            [
             0.2,
             "#de77ae"
            ],
            [
             0.3,
             "#f1b6da"
            ],
            [
             0.4,
             "#fde0ef"
            ],
            [
             0.5,
             "#f7f7f7"
            ],
            [
             0.6,
             "#e6f5d0"
            ],
            [
             0.7,
             "#b8e186"
            ],
            [
             0.8,
             "#7fbc41"
            ],
            [
             0.9,
             "#4d9221"
            ],
            [
             1,
             "#276419"
            ]
           ],
           "sequential": [
            [
             0,
             "#0d0887"
            ],
            [
             0.1111111111111111,
             "#46039f"
            ],
            [
             0.2222222222222222,
             "#7201a8"
            ],
            [
             0.3333333333333333,
             "#9c179e"
            ],
            [
             0.4444444444444444,
             "#bd3786"
            ],
            [
             0.5555555555555556,
             "#d8576b"
            ],
            [
             0.6666666666666666,
             "#ed7953"
            ],
            [
             0.7777777777777778,
             "#fb9f3a"
            ],
            [
             0.8888888888888888,
             "#fdca26"
            ],
            [
             1,
             "#f0f921"
            ]
           ],
           "sequentialminus": [
            [
             0,
             "#0d0887"
            ],
            [
             0.1111111111111111,
             "#46039f"
            ],
            [
             0.2222222222222222,
             "#7201a8"
            ],
            [
             0.3333333333333333,
             "#9c179e"
            ],
            [
             0.4444444444444444,
             "#bd3786"
            ],
            [
             0.5555555555555556,
             "#d8576b"
            ],
            [
             0.6666666666666666,
             "#ed7953"
            ],
            [
             0.7777777777777778,
             "#fb9f3a"
            ],
            [
             0.8888888888888888,
             "#fdca26"
            ],
            [
             1,
             "#f0f921"
            ]
           ]
          },
          "colorway": [
           "#636efa",
           "#EF553B",
           "#00cc96",
           "#ab63fa",
           "#FFA15A",
           "#19d3f3",
           "#FF6692",
           "#B6E880",
           "#FF97FF",
           "#FECB52"
          ],
          "font": {
           "color": "#2a3f5f"
          },
          "geo": {
           "bgcolor": "white",
           "lakecolor": "white",
           "landcolor": "#E5ECF6",
           "showlakes": true,
           "showland": true,
           "subunitcolor": "white"
          },
          "hoverlabel": {
           "align": "left"
          },
          "hovermode": "closest",
          "mapbox": {
           "style": "light"
          },
          "paper_bgcolor": "white",
          "plot_bgcolor": "#E5ECF6",
          "polar": {
           "angularaxis": {
            "gridcolor": "white",
            "linecolor": "white",
            "ticks": ""
           },
           "bgcolor": "#E5ECF6",
           "radialaxis": {
            "gridcolor": "white",
            "linecolor": "white",
            "ticks": ""
           }
          },
          "scene": {
           "xaxis": {
            "backgroundcolor": "#E5ECF6",
            "gridcolor": "white",
            "gridwidth": 2,
            "linecolor": "white",
            "showbackground": true,
            "ticks": "",
            "zerolinecolor": "white"
           },
           "yaxis": {
            "backgroundcolor": "#E5ECF6",
            "gridcolor": "white",
            "gridwidth": 2,
            "linecolor": "white",
            "showbackground": true,
            "ticks": "",
            "zerolinecolor": "white"
           },
           "zaxis": {
            "backgroundcolor": "#E5ECF6",
            "gridcolor": "white",
            "gridwidth": 2,
            "linecolor": "white",
            "showbackground": true,
            "ticks": "",
            "zerolinecolor": "white"
           }
          },
          "shapedefaults": {
           "line": {
            "color": "#2a3f5f"
           }
          },
          "ternary": {
           "aaxis": {
            "gridcolor": "white",
            "linecolor": "white",
            "ticks": ""
           },
           "baxis": {
            "gridcolor": "white",
            "linecolor": "white",
            "ticks": ""
           },
           "bgcolor": "#E5ECF6",
           "caxis": {
            "gridcolor": "white",
            "linecolor": "white",
            "ticks": ""
           }
          },
          "title": {
           "x": 0.05
          },
          "xaxis": {
           "automargin": true,
           "gridcolor": "white",
           "linecolor": "white",
           "ticks": "",
           "title": {
            "standoff": 15
           },
           "zerolinecolor": "white",
           "zerolinewidth": 2
          },
          "yaxis": {
           "automargin": true,
           "gridcolor": "white",
           "linecolor": "white",
           "ticks": "",
           "title": {
            "standoff": 15
           },
           "zerolinecolor": "white",
           "zerolinewidth": 2
          }
         }
        },
        "title": {
         "text": "Services less medical care services - Actual VS Prediction"
        },
        "xaxis": {
         "anchor": "y",
         "domain": [
          0,
          1
         ],
         "title": {
          "text": "Date"
         }
        },
        "yaxis": {
         "anchor": "x",
         "domain": [
          0,
          1
         ],
         "title": {
          "text": "value"
         }
        }
       }
      }
     },
     "metadata": {},
     "output_type": "display_data"
    },
    {
     "data": {
      "application/vnd.plotly.v1+json": {
       "config": {
        "plotlyServerURL": "https://plot.ly"
       },
       "data": [
        {
         "hovertemplate": "variable=Actual<br>Date=%{x}<br>value=%{y}<extra></extra>",
         "legendgroup": "Actual",
         "line": {
          "color": "#636efa",
          "dash": "solid"
         },
         "marker": {
          "symbol": "circle"
         },
         "mode": "lines",
         "name": "Actual",
         "orientation": "v",
         "showlegend": true,
         "type": "scatter",
         "x": [
          "2020-01-15",
          "2020-02-15",
          "2020-03-15",
          "2020-04-15",
          "2020-05-15",
          "2020-06-15",
          "2020-07-15",
          "2020-08-15",
          "2020-09-15",
          "2020-10-15",
          "2020-11-15",
          "2020-12-15",
          "2021-01-15",
          "2021-02-15",
          "2021-03-15",
          "2021-04-15",
          "2021-05-15",
          "2021-06-15",
          "2021-07-15",
          "2021-08-15",
          "2021-09-15",
          "2021-10-15",
          "2021-11-15",
          "2021-12-15",
          "2022-01-15",
          "2022-02-15",
          "2022-03-15",
          "2022-04-15",
          "2022-05-15",
          "2022-06-15",
          "2022-07-15"
         ],
         "xaxis": "x",
         "y": [
          0.014916366671934756,
          -0.017628672403219973,
          0.0650750419515867,
          0.005421009122192216,
          -0.2686933357627565,
          1.8498602297859417,
          0.4551754025713853,
          -0.0983127487183841,
          0.12088446379983797,
          -0.014604645630950859,
          0.03982582890362924,
          -0.110223579083044,
          0.0650864410732496,
          -0.04515752082261266,
          0.4215611938138461,
          0.17314648417275072,
          -0.006603144419781436,
          0.16099238103789382,
          0.3356657554471975,
          0.39869951041582136,
          0.13472595773749485,
          -0.24997559069427772,
          -0.01179438457613569,
          0.04847913199381496,
          -0.10484928876659327,
          -0.4718694884059653,
          -0.45028169120493605,
          -0.29689344255467537,
          -0.010619656995051184,
          -0.4003862885953349,
          -0.1760916131176045
         ],
         "yaxis": "y"
        },
        {
         "hovertemplate": "variable=Prediction<br>Date=%{x}<br>value=%{y}<extra></extra>",
         "legendgroup": "Prediction",
         "line": {
          "color": "#EF553B",
          "dash": "solid"
         },
         "marker": {
          "symbol": "circle"
         },
         "mode": "lines",
         "name": "Prediction",
         "orientation": "v",
         "showlegend": true,
         "type": "scatter",
         "x": [
          "2020-01-15",
          "2020-02-15",
          "2020-03-15",
          "2020-04-15",
          "2020-05-15",
          "2020-06-15",
          "2020-07-15",
          "2020-08-15",
          "2020-09-15",
          "2020-10-15",
          "2020-11-15",
          "2020-12-15",
          "2021-01-15",
          "2021-02-15",
          "2021-03-15",
          "2021-04-15",
          "2021-05-15",
          "2021-06-15",
          "2021-07-15",
          "2021-08-15",
          "2021-09-15",
          "2021-10-15",
          "2021-11-15",
          "2021-12-15",
          "2022-01-15",
          "2022-02-15",
          "2022-03-15",
          "2022-04-15",
          "2022-05-15",
          "2022-06-15",
          "2022-07-15"
         ],
         "xaxis": "x",
         "y": [
          0.01150985062122345,
          0.0724392831325531,
          0.1614510715007782,
          0.3693319261074066,
          0.06921834498643875,
          0.026996847242116928,
          0.1565288007259369,
          0.13466158509254456,
          -0.06854166835546494,
          0.06978333741426468,
          0.08531825989484787,
          0.3156552016735077,
          0.2781025767326355,
          0.17062333226203918,
          -0.07685094326734543,
          -0.2170337438583374,
          0.06484700739383698,
          0.03662922605872154,
          0.12309974431991577,
          0.07142402231693268,
          0.28238531947135925,
          0.2564374804496765,
          0.34872254729270935,
          0.14429381489753723,
          0.37457916140556335,
          0.31036362051963806,
          0.4333708882331848,
          0.3684692084789276,
          0.4634895920753479,
          0.5614110827445984,
          0.6017611026763916
         ],
         "yaxis": "y"
        }
       ],
       "layout": {
        "legend": {
         "title": {
          "text": "variable"
         },
         "tracegroupgap": 0
        },
        "template": {
         "data": {
          "bar": [
           {
            "error_x": {
             "color": "#2a3f5f"
            },
            "error_y": {
             "color": "#2a3f5f"
            },
            "marker": {
             "line": {
              "color": "#E5ECF6",
              "width": 0.5
             },
             "pattern": {
              "fillmode": "overlay",
              "size": 10,
              "solidity": 0.2
             }
            },
            "type": "bar"
           }
          ],
          "barpolar": [
           {
            "marker": {
             "line": {
              "color": "#E5ECF6",
              "width": 0.5
             },
             "pattern": {
              "fillmode": "overlay",
              "size": 10,
              "solidity": 0.2
             }
            },
            "type": "barpolar"
           }
          ],
          "carpet": [
           {
            "aaxis": {
             "endlinecolor": "#2a3f5f",
             "gridcolor": "white",
             "linecolor": "white",
             "minorgridcolor": "white",
             "startlinecolor": "#2a3f5f"
            },
            "baxis": {
             "endlinecolor": "#2a3f5f",
             "gridcolor": "white",
             "linecolor": "white",
             "minorgridcolor": "white",
             "startlinecolor": "#2a3f5f"
            },
            "type": "carpet"
           }
          ],
          "choropleth": [
           {
            "colorbar": {
             "outlinewidth": 0,
             "ticks": ""
            },
            "type": "choropleth"
           }
          ],
          "contour": [
           {
            "colorbar": {
             "outlinewidth": 0,
             "ticks": ""
            },
            "colorscale": [
             [
              0,
              "#0d0887"
             ],
             [
              0.1111111111111111,
              "#46039f"
             ],
             [
              0.2222222222222222,
              "#7201a8"
             ],
             [
              0.3333333333333333,
              "#9c179e"
             ],
             [
              0.4444444444444444,
              "#bd3786"
             ],
             [
              0.5555555555555556,
              "#d8576b"
             ],
             [
              0.6666666666666666,
              "#ed7953"
             ],
             [
              0.7777777777777778,
              "#fb9f3a"
             ],
             [
              0.8888888888888888,
              "#fdca26"
             ],
             [
              1,
              "#f0f921"
             ]
            ],
            "type": "contour"
           }
          ],
          "contourcarpet": [
           {
            "colorbar": {
             "outlinewidth": 0,
             "ticks": ""
            },
            "type": "contourcarpet"
           }
          ],
          "heatmap": [
           {
            "colorbar": {
             "outlinewidth": 0,
             "ticks": ""
            },
            "colorscale": [
             [
              0,
              "#0d0887"
             ],
             [
              0.1111111111111111,
              "#46039f"
             ],
             [
              0.2222222222222222,
              "#7201a8"
             ],
             [
              0.3333333333333333,
              "#9c179e"
             ],
             [
              0.4444444444444444,
              "#bd3786"
             ],
             [
              0.5555555555555556,
              "#d8576b"
             ],
             [
              0.6666666666666666,
              "#ed7953"
             ],
             [
              0.7777777777777778,
              "#fb9f3a"
             ],
             [
              0.8888888888888888,
              "#fdca26"
             ],
             [
              1,
              "#f0f921"
             ]
            ],
            "type": "heatmap"
           }
          ],
          "heatmapgl": [
           {
            "colorbar": {
             "outlinewidth": 0,
             "ticks": ""
            },
            "colorscale": [
             [
              0,
              "#0d0887"
             ],
             [
              0.1111111111111111,
              "#46039f"
             ],
             [
              0.2222222222222222,
              "#7201a8"
             ],
             [
              0.3333333333333333,
              "#9c179e"
             ],
             [
              0.4444444444444444,
              "#bd3786"
             ],
             [
              0.5555555555555556,
              "#d8576b"
             ],
             [
              0.6666666666666666,
              "#ed7953"
             ],
             [
              0.7777777777777778,
              "#fb9f3a"
             ],
             [
              0.8888888888888888,
              "#fdca26"
             ],
             [
              1,
              "#f0f921"
             ]
            ],
            "type": "heatmapgl"
           }
          ],
          "histogram": [
           {
            "marker": {
             "pattern": {
              "fillmode": "overlay",
              "size": 10,
              "solidity": 0.2
             }
            },
            "type": "histogram"
           }
          ],
          "histogram2d": [
           {
            "colorbar": {
             "outlinewidth": 0,
             "ticks": ""
            },
            "colorscale": [
             [
              0,
              "#0d0887"
             ],
             [
              0.1111111111111111,
              "#46039f"
             ],
             [
              0.2222222222222222,
              "#7201a8"
             ],
             [
              0.3333333333333333,
              "#9c179e"
             ],
             [
              0.4444444444444444,
              "#bd3786"
             ],
             [
              0.5555555555555556,
              "#d8576b"
             ],
             [
              0.6666666666666666,
              "#ed7953"
             ],
             [
              0.7777777777777778,
              "#fb9f3a"
             ],
             [
              0.8888888888888888,
              "#fdca26"
             ],
             [
              1,
              "#f0f921"
             ]
            ],
            "type": "histogram2d"
           }
          ],
          "histogram2dcontour": [
           {
            "colorbar": {
             "outlinewidth": 0,
             "ticks": ""
            },
            "colorscale": [
             [
              0,
              "#0d0887"
             ],
             [
              0.1111111111111111,
              "#46039f"
             ],
             [
              0.2222222222222222,
              "#7201a8"
             ],
             [
              0.3333333333333333,
              "#9c179e"
             ],
             [
              0.4444444444444444,
              "#bd3786"
             ],
             [
              0.5555555555555556,
              "#d8576b"
             ],
             [
              0.6666666666666666,
              "#ed7953"
             ],
             [
              0.7777777777777778,
              "#fb9f3a"
             ],
             [
              0.8888888888888888,
              "#fdca26"
             ],
             [
              1,
              "#f0f921"
             ]
            ],
            "type": "histogram2dcontour"
           }
          ],
          "mesh3d": [
           {
            "colorbar": {
             "outlinewidth": 0,
             "ticks": ""
            },
            "type": "mesh3d"
           }
          ],
          "parcoords": [
           {
            "line": {
             "colorbar": {
              "outlinewidth": 0,
              "ticks": ""
             }
            },
            "type": "parcoords"
           }
          ],
          "pie": [
           {
            "automargin": true,
            "type": "pie"
           }
          ],
          "scatter": [
           {
            "fillpattern": {
             "fillmode": "overlay",
             "size": 10,
             "solidity": 0.2
            },
            "type": "scatter"
           }
          ],
          "scatter3d": [
           {
            "line": {
             "colorbar": {
              "outlinewidth": 0,
              "ticks": ""
             }
            },
            "marker": {
             "colorbar": {
              "outlinewidth": 0,
              "ticks": ""
             }
            },
            "type": "scatter3d"
           }
          ],
          "scattercarpet": [
           {
            "marker": {
             "colorbar": {
              "outlinewidth": 0,
              "ticks": ""
             }
            },
            "type": "scattercarpet"
           }
          ],
          "scattergeo": [
           {
            "marker": {
             "colorbar": {
              "outlinewidth": 0,
              "ticks": ""
             }
            },
            "type": "scattergeo"
           }
          ],
          "scattergl": [
           {
            "marker": {
             "colorbar": {
              "outlinewidth": 0,
              "ticks": ""
             }
            },
            "type": "scattergl"
           }
          ],
          "scattermapbox": [
           {
            "marker": {
             "colorbar": {
              "outlinewidth": 0,
              "ticks": ""
             }
            },
            "type": "scattermapbox"
           }
          ],
          "scatterpolar": [
           {
            "marker": {
             "colorbar": {
              "outlinewidth": 0,
              "ticks": ""
             }
            },
            "type": "scatterpolar"
           }
          ],
          "scatterpolargl": [
           {
            "marker": {
             "colorbar": {
              "outlinewidth": 0,
              "ticks": ""
             }
            },
            "type": "scatterpolargl"
           }
          ],
          "scatterternary": [
           {
            "marker": {
             "colorbar": {
              "outlinewidth": 0,
              "ticks": ""
             }
            },
            "type": "scatterternary"
           }
          ],
          "surface": [
           {
            "colorbar": {
             "outlinewidth": 0,
             "ticks": ""
            },
            "colorscale": [
             [
              0,
              "#0d0887"
             ],
             [
              0.1111111111111111,
              "#46039f"
             ],
             [
              0.2222222222222222,
              "#7201a8"
             ],
             [
              0.3333333333333333,
              "#9c179e"
             ],
             [
              0.4444444444444444,
              "#bd3786"
             ],
             [
              0.5555555555555556,
              "#d8576b"
             ],
             [
              0.6666666666666666,
              "#ed7953"
             ],
             [
              0.7777777777777778,
              "#fb9f3a"
             ],
             [
              0.8888888888888888,
              "#fdca26"
             ],
             [
              1,
              "#f0f921"
             ]
            ],
            "type": "surface"
           }
          ],
          "table": [
           {
            "cells": {
             "fill": {
              "color": "#EBF0F8"
             },
             "line": {
              "color": "white"
             }
            },
            "header": {
             "fill": {
              "color": "#C8D4E3"
             },
             "line": {
              "color": "white"
             }
            },
            "type": "table"
           }
          ]
         },
         "layout": {
          "annotationdefaults": {
           "arrowcolor": "#2a3f5f",
           "arrowhead": 0,
           "arrowwidth": 1
          },
          "autotypenumbers": "strict",
          "coloraxis": {
           "colorbar": {
            "outlinewidth": 0,
            "ticks": ""
           }
          },
          "colorscale": {
           "diverging": [
            [
             0,
             "#8e0152"
            ],
            [
             0.1,
             "#c51b7d"
            ],
            [
             0.2,
             "#de77ae"
            ],
            [
             0.3,
             "#f1b6da"
            ],
            [
             0.4,
             "#fde0ef"
            ],
            [
             0.5,
             "#f7f7f7"
            ],
            [
             0.6,
             "#e6f5d0"
            ],
            [
             0.7,
             "#b8e186"
            ],
            [
             0.8,
             "#7fbc41"
            ],
            [
             0.9,
             "#4d9221"
            ],
            [
             1,
             "#276419"
            ]
           ],
           "sequential": [
            [
             0,
             "#0d0887"
            ],
            [
             0.1111111111111111,
             "#46039f"
            ],
            [
             0.2222222222222222,
             "#7201a8"
            ],
            [
             0.3333333333333333,
             "#9c179e"
            ],
            [
             0.4444444444444444,
             "#bd3786"
            ],
            [
             0.5555555555555556,
             "#d8576b"
            ],
            [
             0.6666666666666666,
             "#ed7953"
            ],
            [
             0.7777777777777778,
             "#fb9f3a"
            ],
            [
             0.8888888888888888,
             "#fdca26"
            ],
            [
             1,
             "#f0f921"
            ]
           ],
           "sequentialminus": [
            [
             0,
             "#0d0887"
            ],
            [
             0.1111111111111111,
             "#46039f"
            ],
            [
             0.2222222222222222,
             "#7201a8"
            ],
            [
             0.3333333333333333,
             "#9c179e"
            ],
            [
             0.4444444444444444,
             "#bd3786"
            ],
            [
             0.5555555555555556,
             "#d8576b"
            ],
            [
             0.6666666666666666,
             "#ed7953"
            ],
            [
             0.7777777777777778,
             "#fb9f3a"
            ],
            [
             0.8888888888888888,
             "#fdca26"
            ],
            [
             1,
             "#f0f921"
            ]
           ]
          },
          "colorway": [
           "#636efa",
           "#EF553B",
           "#00cc96",
           "#ab63fa",
           "#FFA15A",
           "#19d3f3",
           "#FF6692",
           "#B6E880",
           "#FF97FF",
           "#FECB52"
          ],
          "font": {
           "color": "#2a3f5f"
          },
          "geo": {
           "bgcolor": "white",
           "lakecolor": "white",
           "landcolor": "#E5ECF6",
           "showlakes": true,
           "showland": true,
           "subunitcolor": "white"
          },
          "hoverlabel": {
           "align": "left"
          },
          "hovermode": "closest",
          "mapbox": {
           "style": "light"
          },
          "paper_bgcolor": "white",
          "plot_bgcolor": "#E5ECF6",
          "polar": {
           "angularaxis": {
            "gridcolor": "white",
            "linecolor": "white",
            "ticks": ""
           },
           "bgcolor": "#E5ECF6",
           "radialaxis": {
            "gridcolor": "white",
            "linecolor": "white",
            "ticks": ""
           }
          },
          "scene": {
           "xaxis": {
            "backgroundcolor": "#E5ECF6",
            "gridcolor": "white",
            "gridwidth": 2,
            "linecolor": "white",
            "showbackground": true,
            "ticks": "",
            "zerolinecolor": "white"
           },
           "yaxis": {
            "backgroundcolor": "#E5ECF6",
            "gridcolor": "white",
            "gridwidth": 2,
            "linecolor": "white",
            "showbackground": true,
            "ticks": "",
            "zerolinecolor": "white"
           },
           "zaxis": {
            "backgroundcolor": "#E5ECF6",
            "gridcolor": "white",
            "gridwidth": 2,
            "linecolor": "white",
            "showbackground": true,
            "ticks": "",
            "zerolinecolor": "white"
           }
          },
          "shapedefaults": {
           "line": {
            "color": "#2a3f5f"
           }
          },
          "ternary": {
           "aaxis": {
            "gridcolor": "white",
            "linecolor": "white",
            "ticks": ""
           },
           "baxis": {
            "gridcolor": "white",
            "linecolor": "white",
            "ticks": ""
           },
           "bgcolor": "#E5ECF6",
           "caxis": {
            "gridcolor": "white",
            "linecolor": "white",
            "ticks": ""
           }
          },
          "title": {
           "x": 0.05
          },
          "xaxis": {
           "automargin": true,
           "gridcolor": "white",
           "linecolor": "white",
           "ticks": "",
           "title": {
            "standoff": 15
           },
           "zerolinecolor": "white",
           "zerolinewidth": 2
          },
          "yaxis": {
           "automargin": true,
           "gridcolor": "white",
           "linecolor": "white",
           "ticks": "",
           "title": {
            "standoff": 15
           },
           "zerolinecolor": "white",
           "zerolinewidth": 2
          }
         }
        },
        "title": {
         "text": "Communication - Actual VS Prediction"
        },
        "xaxis": {
         "anchor": "y",
         "domain": [
          0,
          1
         ],
         "title": {
          "text": "Date"
         }
        },
        "yaxis": {
         "anchor": "x",
         "domain": [
          0,
          1
         ],
         "title": {
          "text": "value"
         }
        }
       }
      }
     },
     "metadata": {},
     "output_type": "display_data"
    },
    {
     "data": {
      "application/vnd.plotly.v1+json": {
       "config": {
        "plotlyServerURL": "https://plot.ly"
       },
       "data": [
        {
         "hovertemplate": "variable=Actual<br>Date=%{x}<br>value=%{y}<extra></extra>",
         "legendgroup": "Actual",
         "line": {
          "color": "#636efa",
          "dash": "solid"
         },
         "marker": {
          "symbol": "circle"
         },
         "mode": "lines",
         "name": "Actual",
         "orientation": "v",
         "showlegend": true,
         "type": "scatter",
         "x": [
          "2020-01-15",
          "2020-02-15",
          "2020-03-15",
          "2020-04-15",
          "2020-05-15",
          "2020-06-15",
          "2020-07-15",
          "2020-08-15",
          "2020-09-15",
          "2020-10-15",
          "2020-11-15",
          "2020-12-15",
          "2021-01-15",
          "2021-02-15",
          "2021-03-15",
          "2021-04-15",
          "2021-05-15",
          "2021-06-15",
          "2021-07-15",
          "2021-08-15",
          "2021-09-15",
          "2021-10-15",
          "2021-11-15",
          "2021-12-15",
          "2022-01-15",
          "2022-02-15",
          "2022-03-15",
          "2022-04-15",
          "2022-05-15",
          "2022-06-15",
          "2022-07-15"
         ],
         "xaxis": "x",
         "y": [
          0.19442847210041245,
          -0.07995344908880701,
          -0.3306123390739794,
          -0.04369008558581569,
          -0.2207742234910064,
          1.2761716523448348,
          1.900512395407619,
          2.4290403491822494,
          0.402681882879329,
          0.037398772030101224,
          -0.4352658097780005,
          -1.0104028820786088,
          -0.2844397873241437,
          0.5030637102308553,
          4.522077321099614,
          3.9668400215022257,
          5.47685294615666,
          0.5673033866645659,
          -0.3127130382293339,
          0.2564632203976556,
          1.8084036631374936,
          1.765747129706315,
          1.8155089694312228,
          0.9117075369288627,
          0.04966319783285163,
          -1.178041734643545,
          0.8741585075848988,
          0.938656353861047,
          1.6350323266786018,
          -0.005393099145739647,
          0.4305314479677409
         ],
         "yaxis": "y"
        },
        {
         "hovertemplate": "variable=Prediction<br>Date=%{x}<br>value=%{y}<extra></extra>",
         "legendgroup": "Prediction",
         "line": {
          "color": "#EF553B",
          "dash": "solid"
         },
         "marker": {
          "symbol": "circle"
         },
         "mode": "lines",
         "name": "Prediction",
         "orientation": "v",
         "showlegend": true,
         "type": "scatter",
         "x": [
          "2020-01-15",
          "2020-02-15",
          "2020-03-15",
          "2020-04-15",
          "2020-05-15",
          "2020-06-15",
          "2020-07-15",
          "2020-08-15",
          "2020-09-15",
          "2020-10-15",
          "2020-11-15",
          "2020-12-15",
          "2021-01-15",
          "2021-02-15",
          "2021-03-15",
          "2021-04-15",
          "2021-05-15",
          "2021-06-15",
          "2021-07-15",
          "2021-08-15",
          "2021-09-15",
          "2021-10-15",
          "2021-11-15",
          "2021-12-15",
          "2022-01-15",
          "2022-02-15",
          "2022-03-15",
          "2022-04-15",
          "2022-05-15",
          "2022-06-15",
          "2022-07-15"
         ],
         "xaxis": "x",
         "y": [
          -0.07105828076601028,
          0.04492306709289551,
          -0.001630239188671112,
          -0.07854985445737839,
          -0.04181496053934097,
          0.05513954162597656,
          0.0593600794672966,
          0.0474291630089283,
          0.03656614199280739,
          0.025304991751909256,
          0.10057829320430756,
          0.09260305017232895,
          -0.04782471805810928,
          -0.06915188580751419,
          0.09799409657716751,
          0.29392096400260925,
          0.3395235240459442,
          0.18029534816741943,
          0.06711450964212418,
          0.12586307525634766,
          0.23775503039360046,
          0.30212971568107605,
          0.1782999336719513,
          0.18061846494674683,
          0.26959747076034546,
          0.33204442262649536,
          0.2904224991798401,
          0.14613619446754456,
          0.1383046805858612,
          0.21273022890090942,
          0.19803407788276672
         ],
         "yaxis": "y"
        }
       ],
       "layout": {
        "legend": {
         "title": {
          "text": "variable"
         },
         "tracegroupgap": 0
        },
        "template": {
         "data": {
          "bar": [
           {
            "error_x": {
             "color": "#2a3f5f"
            },
            "error_y": {
             "color": "#2a3f5f"
            },
            "marker": {
             "line": {
              "color": "#E5ECF6",
              "width": 0.5
             },
             "pattern": {
              "fillmode": "overlay",
              "size": 10,
              "solidity": 0.2
             }
            },
            "type": "bar"
           }
          ],
          "barpolar": [
           {
            "marker": {
             "line": {
              "color": "#E5ECF6",
              "width": 0.5
             },
             "pattern": {
              "fillmode": "overlay",
              "size": 10,
              "solidity": 0.2
             }
            },
            "type": "barpolar"
           }
          ],
          "carpet": [
           {
            "aaxis": {
             "endlinecolor": "#2a3f5f",
             "gridcolor": "white",
             "linecolor": "white",
             "minorgridcolor": "white",
             "startlinecolor": "#2a3f5f"
            },
            "baxis": {
             "endlinecolor": "#2a3f5f",
             "gridcolor": "white",
             "linecolor": "white",
             "minorgridcolor": "white",
             "startlinecolor": "#2a3f5f"
            },
            "type": "carpet"
           }
          ],
          "choropleth": [
           {
            "colorbar": {
             "outlinewidth": 0,
             "ticks": ""
            },
            "type": "choropleth"
           }
          ],
          "contour": [
           {
            "colorbar": {
             "outlinewidth": 0,
             "ticks": ""
            },
            "colorscale": [
             [
              0,
              "#0d0887"
             ],
             [
              0.1111111111111111,
              "#46039f"
             ],
             [
              0.2222222222222222,
              "#7201a8"
             ],
             [
              0.3333333333333333,
              "#9c179e"
             ],
             [
              0.4444444444444444,
              "#bd3786"
             ],
             [
              0.5555555555555556,
              "#d8576b"
             ],
             [
              0.6666666666666666,
              "#ed7953"
             ],
             [
              0.7777777777777778,
              "#fb9f3a"
             ],
             [
              0.8888888888888888,
              "#fdca26"
             ],
             [
              1,
              "#f0f921"
             ]
            ],
            "type": "contour"
           }
          ],
          "contourcarpet": [
           {
            "colorbar": {
             "outlinewidth": 0,
             "ticks": ""
            },
            "type": "contourcarpet"
           }
          ],
          "heatmap": [
           {
            "colorbar": {
             "outlinewidth": 0,
             "ticks": ""
            },
            "colorscale": [
             [
              0,
              "#0d0887"
             ],
             [
              0.1111111111111111,
              "#46039f"
             ],
             [
              0.2222222222222222,
              "#7201a8"
             ],
             [
              0.3333333333333333,
              "#9c179e"
             ],
             [
              0.4444444444444444,
              "#bd3786"
             ],
             [
              0.5555555555555556,
              "#d8576b"
             ],
             [
              0.6666666666666666,
              "#ed7953"
             ],
             [
              0.7777777777777778,
              "#fb9f3a"
             ],
             [
              0.8888888888888888,
              "#fdca26"
             ],
             [
              1,
              "#f0f921"
             ]
            ],
            "type": "heatmap"
           }
          ],
          "heatmapgl": [
           {
            "colorbar": {
             "outlinewidth": 0,
             "ticks": ""
            },
            "colorscale": [
             [
              0,
              "#0d0887"
             ],
             [
              0.1111111111111111,
              "#46039f"
             ],
             [
              0.2222222222222222,
              "#7201a8"
             ],
             [
              0.3333333333333333,
              "#9c179e"
             ],
             [
              0.4444444444444444,
              "#bd3786"
             ],
             [
              0.5555555555555556,
              "#d8576b"
             ],
             [
              0.6666666666666666,
              "#ed7953"
             ],
             [
              0.7777777777777778,
              "#fb9f3a"
             ],
             [
              0.8888888888888888,
              "#fdca26"
             ],
             [
              1,
              "#f0f921"
             ]
            ],
            "type": "heatmapgl"
           }
          ],
          "histogram": [
           {
            "marker": {
             "pattern": {
              "fillmode": "overlay",
              "size": 10,
              "solidity": 0.2
             }
            },
            "type": "histogram"
           }
          ],
          "histogram2d": [
           {
            "colorbar": {
             "outlinewidth": 0,
             "ticks": ""
            },
            "colorscale": [
             [
              0,
              "#0d0887"
             ],
             [
              0.1111111111111111,
              "#46039f"
             ],
             [
              0.2222222222222222,
              "#7201a8"
             ],
             [
              0.3333333333333333,
              "#9c179e"
             ],
             [
              0.4444444444444444,
              "#bd3786"
             ],
             [
              0.5555555555555556,
              "#d8576b"
             ],
             [
              0.6666666666666666,
              "#ed7953"
             ],
             [
              0.7777777777777778,
              "#fb9f3a"
             ],
             [
              0.8888888888888888,
              "#fdca26"
             ],
             [
              1,
              "#f0f921"
             ]
            ],
            "type": "histogram2d"
           }
          ],
          "histogram2dcontour": [
           {
            "colorbar": {
             "outlinewidth": 0,
             "ticks": ""
            },
            "colorscale": [
             [
              0,
              "#0d0887"
             ],
             [
              0.1111111111111111,
              "#46039f"
             ],
             [
              0.2222222222222222,
              "#7201a8"
             ],
             [
              0.3333333333333333,
              "#9c179e"
             ],
             [
              0.4444444444444444,
              "#bd3786"
             ],
             [
              0.5555555555555556,
              "#d8576b"
             ],
             [
              0.6666666666666666,
              "#ed7953"
             ],
             [
              0.7777777777777778,
              "#fb9f3a"
             ],
             [
              0.8888888888888888,
              "#fdca26"
             ],
             [
              1,
              "#f0f921"
             ]
            ],
            "type": "histogram2dcontour"
           }
          ],
          "mesh3d": [
           {
            "colorbar": {
             "outlinewidth": 0,
             "ticks": ""
            },
            "type": "mesh3d"
           }
          ],
          "parcoords": [
           {
            "line": {
             "colorbar": {
              "outlinewidth": 0,
              "ticks": ""
             }
            },
            "type": "parcoords"
           }
          ],
          "pie": [
           {
            "automargin": true,
            "type": "pie"
           }
          ],
          "scatter": [
           {
            "fillpattern": {
             "fillmode": "overlay",
             "size": 10,
             "solidity": 0.2
            },
            "type": "scatter"
           }
          ],
          "scatter3d": [
           {
            "line": {
             "colorbar": {
              "outlinewidth": 0,
              "ticks": ""
             }
            },
            "marker": {
             "colorbar": {
              "outlinewidth": 0,
              "ticks": ""
             }
            },
            "type": "scatter3d"
           }
          ],
          "scattercarpet": [
           {
            "marker": {
             "colorbar": {
              "outlinewidth": 0,
              "ticks": ""
             }
            },
            "type": "scattercarpet"
           }
          ],
          "scattergeo": [
           {
            "marker": {
             "colorbar": {
              "outlinewidth": 0,
              "ticks": ""
             }
            },
            "type": "scattergeo"
           }
          ],
          "scattergl": [
           {
            "marker": {
             "colorbar": {
              "outlinewidth": 0,
              "ticks": ""
             }
            },
            "type": "scattergl"
           }
          ],
          "scattermapbox": [
           {
            "marker": {
             "colorbar": {
              "outlinewidth": 0,
              "ticks": ""
             }
            },
            "type": "scattermapbox"
           }
          ],
          "scatterpolar": [
           {
            "marker": {
             "colorbar": {
              "outlinewidth": 0,
              "ticks": ""
             }
            },
            "type": "scatterpolar"
           }
          ],
          "scatterpolargl": [
           {
            "marker": {
             "colorbar": {
              "outlinewidth": 0,
              "ticks": ""
             }
            },
            "type": "scatterpolargl"
           }
          ],
          "scatterternary": [
           {
            "marker": {
             "colorbar": {
              "outlinewidth": 0,
              "ticks": ""
             }
            },
            "type": "scatterternary"
           }
          ],
          "surface": [
           {
            "colorbar": {
             "outlinewidth": 0,
             "ticks": ""
            },
            "colorscale": [
             [
              0,
              "#0d0887"
             ],
             [
              0.1111111111111111,
              "#46039f"
             ],
             [
              0.2222222222222222,
              "#7201a8"
             ],
             [
              0.3333333333333333,
              "#9c179e"
             ],
             [
              0.4444444444444444,
              "#bd3786"
             ],
             [
              0.5555555555555556,
              "#d8576b"
             ],
             [
              0.6666666666666666,
              "#ed7953"
             ],
             [
              0.7777777777777778,
              "#fb9f3a"
             ],
             [
              0.8888888888888888,
              "#fdca26"
             ],
             [
              1,
              "#f0f921"
             ]
            ],
            "type": "surface"
           }
          ],
          "table": [
           {
            "cells": {
             "fill": {
              "color": "#EBF0F8"
             },
             "line": {
              "color": "white"
             }
            },
            "header": {
             "fill": {
              "color": "#C8D4E3"
             },
             "line": {
              "color": "white"
             }
            },
            "type": "table"
           }
          ]
         },
         "layout": {
          "annotationdefaults": {
           "arrowcolor": "#2a3f5f",
           "arrowhead": 0,
           "arrowwidth": 1
          },
          "autotypenumbers": "strict",
          "coloraxis": {
           "colorbar": {
            "outlinewidth": 0,
            "ticks": ""
           }
          },
          "colorscale": {
           "diverging": [
            [
             0,
             "#8e0152"
            ],
            [
             0.1,
             "#c51b7d"
            ],
            [
             0.2,
             "#de77ae"
            ],
            [
             0.3,
             "#f1b6da"
            ],
            [
             0.4,
             "#fde0ef"
            ],
            [
             0.5,
             "#f7f7f7"
            ],
            [
             0.6,
             "#e6f5d0"
            ],
            [
             0.7,
             "#b8e186"
            ],
            [
             0.8,
             "#7fbc41"
            ],
            [
             0.9,
             "#4d9221"
            ],
            [
             1,
             "#276419"
            ]
           ],
           "sequential": [
            [
             0,
             "#0d0887"
            ],
            [
             0.1111111111111111,
             "#46039f"
            ],
            [
             0.2222222222222222,
             "#7201a8"
            ],
            [
             0.3333333333333333,
             "#9c179e"
            ],
            [
             0.4444444444444444,
             "#bd3786"
            ],
            [
             0.5555555555555556,
             "#d8576b"
            ],
            [
             0.6666666666666666,
             "#ed7953"
            ],
            [
             0.7777777777777778,
             "#fb9f3a"
            ],
            [
             0.8888888888888888,
             "#fdca26"
            ],
            [
             1,
             "#f0f921"
            ]
           ],
           "sequentialminus": [
            [
             0,
             "#0d0887"
            ],
            [
             0.1111111111111111,
             "#46039f"
            ],
            [
             0.2222222222222222,
             "#7201a8"
            ],
            [
             0.3333333333333333,
             "#9c179e"
            ],
            [
             0.4444444444444444,
             "#bd3786"
            ],
            [
             0.5555555555555556,
             "#d8576b"
            ],
            [
             0.6666666666666666,
             "#ed7953"
            ],
            [
             0.7777777777777778,
             "#fb9f3a"
            ],
            [
             0.8888888888888888,
             "#fdca26"
            ],
            [
             1,
             "#f0f921"
            ]
           ]
          },
          "colorway": [
           "#636efa",
           "#EF553B",
           "#00cc96",
           "#ab63fa",
           "#FFA15A",
           "#19d3f3",
           "#FF6692",
           "#B6E880",
           "#FF97FF",
           "#FECB52"
          ],
          "font": {
           "color": "#2a3f5f"
          },
          "geo": {
           "bgcolor": "white",
           "lakecolor": "white",
           "landcolor": "#E5ECF6",
           "showlakes": true,
           "showland": true,
           "subunitcolor": "white"
          },
          "hoverlabel": {
           "align": "left"
          },
          "hovermode": "closest",
          "mapbox": {
           "style": "light"
          },
          "paper_bgcolor": "white",
          "plot_bgcolor": "#E5ECF6",
          "polar": {
           "angularaxis": {
            "gridcolor": "white",
            "linecolor": "white",
            "ticks": ""
           },
           "bgcolor": "#E5ECF6",
           "radialaxis": {
            "gridcolor": "white",
            "linecolor": "white",
            "ticks": ""
           }
          },
          "scene": {
           "xaxis": {
            "backgroundcolor": "#E5ECF6",
            "gridcolor": "white",
            "gridwidth": 2,
            "linecolor": "white",
            "showbackground": true,
            "ticks": "",
            "zerolinecolor": "white"
           },
           "yaxis": {
            "backgroundcolor": "#E5ECF6",
            "gridcolor": "white",
            "gridwidth": 2,
            "linecolor": "white",
            "showbackground": true,
            "ticks": "",
            "zerolinecolor": "white"
           },
           "zaxis": {
            "backgroundcolor": "#E5ECF6",
            "gridcolor": "white",
            "gridwidth": 2,
            "linecolor": "white",
            "showbackground": true,
            "ticks": "",
            "zerolinecolor": "white"
           }
          },
          "shapedefaults": {
           "line": {
            "color": "#2a3f5f"
           }
          },
          "ternary": {
           "aaxis": {
            "gridcolor": "white",
            "linecolor": "white",
            "ticks": ""
           },
           "baxis": {
            "gridcolor": "white",
            "linecolor": "white",
            "ticks": ""
           },
           "bgcolor": "#E5ECF6",
           "caxis": {
            "gridcolor": "white",
            "linecolor": "white",
            "ticks": ""
           }
          },
          "title": {
           "x": 0.05
          },
          "xaxis": {
           "automargin": true,
           "gridcolor": "white",
           "linecolor": "white",
           "ticks": "",
           "title": {
            "standoff": 15
           },
           "zerolinecolor": "white",
           "zerolinewidth": 2
          },
          "yaxis": {
           "automargin": true,
           "gridcolor": "white",
           "linecolor": "white",
           "ticks": "",
           "title": {
            "standoff": 15
           },
           "zerolinecolor": "white",
           "zerolinewidth": 2
          }
         }
        },
        "title": {
         "text": "New and used motor vehicles - Actual VS Prediction"
        },
        "xaxis": {
         "anchor": "y",
         "domain": [
          0,
          1
         ],
         "title": {
          "text": "Date"
         }
        },
        "yaxis": {
         "anchor": "x",
         "domain": [
          0,
          1
         ],
         "title": {
          "text": "value"
         }
        }
       }
      }
     },
     "metadata": {},
     "output_type": "display_data"
    },
    {
     "data": {
      "application/vnd.plotly.v1+json": {
       "config": {
        "plotlyServerURL": "https://plot.ly"
       },
       "data": [
        {
         "hovertemplate": "variable=Actual<br>Date=%{x}<br>value=%{y}<extra></extra>",
         "legendgroup": "Actual",
         "line": {
          "color": "#636efa",
          "dash": "solid"
         },
         "marker": {
          "symbol": "circle"
         },
         "mode": "lines",
         "name": "Actual",
         "orientation": "v",
         "showlegend": true,
         "type": "scatter",
         "x": [
          "2020-01-15",
          "2020-02-15",
          "2020-03-15",
          "2020-04-15",
          "2020-05-15",
          "2020-06-15",
          "2020-07-15",
          "2020-08-15",
          "2020-09-15",
          "2020-10-15",
          "2020-11-15",
          "2020-12-15",
          "2021-01-15",
          "2021-02-15",
          "2021-03-15",
          "2021-04-15",
          "2021-05-15",
          "2021-06-15",
          "2021-07-15",
          "2021-08-15",
          "2021-09-15",
          "2021-10-15",
          "2021-11-15",
          "2021-12-15",
          "2022-01-15",
          "2022-02-15",
          "2022-03-15",
          "2022-04-15",
          "2022-05-15",
          "2022-06-15",
          "2022-07-15"
         ],
         "xaxis": "x",
         "y": [
          0.4456474096240477,
          0.2516619687388593,
          -0.07695000905348941,
          -0.09589101268464217,
          0.3568472562636454,
          0.2881006154431819,
          -0.15928141135149038,
          0.18817523107826123,
          -0.014661492048688747,
          0.007331014723534705,
          0.5390790675149872,
          0.36133966033100795,
          0.4032499991940821,
          0.5774064231351165,
          0.22023647325401674,
          -0.13478970202491955,
          0.1493563905673778,
          0.7120192551083148,
          0.4068400666387968,
          0.09952294491323743,
          0.8445545398867745,
          0.22534929884501123,
          0.5038011754999536,
          0.7617725007345344,
          1.0515842658627612,
          0.501316676665046,
          0.42733781935360104,
          0.45693800055043077,
          0.46534869024997616,
          0.37372292430169396,
          0.7244928045291879
         ],
         "yaxis": "y"
        },
        {
         "hovertemplate": "variable=Prediction<br>Date=%{x}<br>value=%{y}<extra></extra>",
         "legendgroup": "Prediction",
         "line": {
          "color": "#EF553B",
          "dash": "solid"
         },
         "marker": {
          "symbol": "circle"
         },
         "mode": "lines",
         "name": "Prediction",
         "orientation": "v",
         "showlegend": true,
         "type": "scatter",
         "x": [
          "2020-01-15",
          "2020-02-15",
          "2020-03-15",
          "2020-04-15",
          "2020-05-15",
          "2020-06-15",
          "2020-07-15",
          "2020-08-15",
          "2020-09-15",
          "2020-10-15",
          "2020-11-15",
          "2020-12-15",
          "2021-01-15",
          "2021-02-15",
          "2021-03-15",
          "2021-04-15",
          "2021-05-15",
          "2021-06-15",
          "2021-07-15",
          "2021-08-15",
          "2021-09-15",
          "2021-10-15",
          "2021-11-15",
          "2021-12-15",
          "2022-01-15",
          "2022-02-15",
          "2022-03-15",
          "2022-04-15",
          "2022-05-15",
          "2022-06-15",
          "2022-07-15"
         ],
         "xaxis": "x",
         "y": [
          0.10052426904439926,
          0.15389063954353333,
          0.14638873934745789,
          0.18116122484207153,
          0.22152802348136902,
          0.21723684668540955,
          0.1852053701877594,
          0.11916830390691757,
          0.08505445718765259,
          -0.16279804706573486,
          -0.06166628748178482,
          -0.03684942424297333,
          0.16393738985061646,
          0.17741066217422485,
          0.12525174021720886,
          0.09065812081098557,
          0.0022692158818244934,
          -0.07029489427804947,
          -0.040805064141750336,
          0.009580336511135101,
          0.0171281099319458,
          0.16130907833576202,
          0.15858763456344604,
          0.16836579144001007,
          0.14036351442337036,
          0.07209308445453644,
          0.11151541024446487,
          0.14571456611156464,
          0.18888947367668152,
          0.2282578945159912,
          0.16501256823539734
         ],
         "yaxis": "y"
        }
       ],
       "layout": {
        "legend": {
         "title": {
          "text": "variable"
         },
         "tracegroupgap": 0
        },
        "template": {
         "data": {
          "bar": [
           {
            "error_x": {
             "color": "#2a3f5f"
            },
            "error_y": {
             "color": "#2a3f5f"
            },
            "marker": {
             "line": {
              "color": "#E5ECF6",
              "width": 0.5
             },
             "pattern": {
              "fillmode": "overlay",
              "size": 10,
              "solidity": 0.2
             }
            },
            "type": "bar"
           }
          ],
          "barpolar": [
           {
            "marker": {
             "line": {
              "color": "#E5ECF6",
              "width": 0.5
             },
             "pattern": {
              "fillmode": "overlay",
              "size": 10,
              "solidity": 0.2
             }
            },
            "type": "barpolar"
           }
          ],
          "carpet": [
           {
            "aaxis": {
             "endlinecolor": "#2a3f5f",
             "gridcolor": "white",
             "linecolor": "white",
             "minorgridcolor": "white",
             "startlinecolor": "#2a3f5f"
            },
            "baxis": {
             "endlinecolor": "#2a3f5f",
             "gridcolor": "white",
             "linecolor": "white",
             "minorgridcolor": "white",
             "startlinecolor": "#2a3f5f"
            },
            "type": "carpet"
           }
          ],
          "choropleth": [
           {
            "colorbar": {
             "outlinewidth": 0,
             "ticks": ""
            },
            "type": "choropleth"
           }
          ],
          "contour": [
           {
            "colorbar": {
             "outlinewidth": 0,
             "ticks": ""
            },
            "colorscale": [
             [
              0,
              "#0d0887"
             ],
             [
              0.1111111111111111,
              "#46039f"
             ],
             [
              0.2222222222222222,
              "#7201a8"
             ],
             [
              0.3333333333333333,
              "#9c179e"
             ],
             [
              0.4444444444444444,
              "#bd3786"
             ],
             [
              0.5555555555555556,
              "#d8576b"
             ],
             [
              0.6666666666666666,
              "#ed7953"
             ],
             [
              0.7777777777777778,
              "#fb9f3a"
             ],
             [
              0.8888888888888888,
              "#fdca26"
             ],
             [
              1,
              "#f0f921"
             ]
            ],
            "type": "contour"
           }
          ],
          "contourcarpet": [
           {
            "colorbar": {
             "outlinewidth": 0,
             "ticks": ""
            },
            "type": "contourcarpet"
           }
          ],
          "heatmap": [
           {
            "colorbar": {
             "outlinewidth": 0,
             "ticks": ""
            },
            "colorscale": [
             [
              0,
              "#0d0887"
             ],
             [
              0.1111111111111111,
              "#46039f"
             ],
             [
              0.2222222222222222,
              "#7201a8"
             ],
             [
              0.3333333333333333,
              "#9c179e"
             ],
             [
              0.4444444444444444,
              "#bd3786"
             ],
             [
              0.5555555555555556,
              "#d8576b"
             ],
             [
              0.6666666666666666,
              "#ed7953"
             ],
             [
              0.7777777777777778,
              "#fb9f3a"
             ],
             [
              0.8888888888888888,
              "#fdca26"
             ],
             [
              1,
              "#f0f921"
             ]
            ],
            "type": "heatmap"
           }
          ],
          "heatmapgl": [
           {
            "colorbar": {
             "outlinewidth": 0,
             "ticks": ""
            },
            "colorscale": [
             [
              0,
              "#0d0887"
             ],
             [
              0.1111111111111111,
              "#46039f"
             ],
             [
              0.2222222222222222,
              "#7201a8"
             ],
             [
              0.3333333333333333,
              "#9c179e"
             ],
             [
              0.4444444444444444,
              "#bd3786"
             ],
             [
              0.5555555555555556,
              "#d8576b"
             ],
             [
              0.6666666666666666,
              "#ed7953"
             ],
             [
              0.7777777777777778,
              "#fb9f3a"
             ],
             [
              0.8888888888888888,
              "#fdca26"
             ],
             [
              1,
              "#f0f921"
             ]
            ],
            "type": "heatmapgl"
           }
          ],
          "histogram": [
           {
            "marker": {
             "pattern": {
              "fillmode": "overlay",
              "size": 10,
              "solidity": 0.2
             }
            },
            "type": "histogram"
           }
          ],
          "histogram2d": [
           {
            "colorbar": {
             "outlinewidth": 0,
             "ticks": ""
            },
            "colorscale": [
             [
              0,
              "#0d0887"
             ],
             [
              0.1111111111111111,
              "#46039f"
             ],
             [
              0.2222222222222222,
              "#7201a8"
             ],
             [
              0.3333333333333333,
              "#9c179e"
             ],
             [
              0.4444444444444444,
              "#bd3786"
             ],
             [
              0.5555555555555556,
              "#d8576b"
             ],
             [
              0.6666666666666666,
              "#ed7953"
             ],
             [
              0.7777777777777778,
              "#fb9f3a"
             ],
             [
              0.8888888888888888,
              "#fdca26"
             ],
             [
              1,
              "#f0f921"
             ]
            ],
            "type": "histogram2d"
           }
          ],
          "histogram2dcontour": [
           {
            "colorbar": {
             "outlinewidth": 0,
             "ticks": ""
            },
            "colorscale": [
             [
              0,
              "#0d0887"
             ],
             [
              0.1111111111111111,
              "#46039f"
             ],
             [
              0.2222222222222222,
              "#7201a8"
             ],
             [
              0.3333333333333333,
              "#9c179e"
             ],
             [
              0.4444444444444444,
              "#bd3786"
             ],
             [
              0.5555555555555556,
              "#d8576b"
             ],
             [
              0.6666666666666666,
              "#ed7953"
             ],
             [
              0.7777777777777778,
              "#fb9f3a"
             ],
             [
              0.8888888888888888,
              "#fdca26"
             ],
             [
              1,
              "#f0f921"
             ]
            ],
            "type": "histogram2dcontour"
           }
          ],
          "mesh3d": [
           {
            "colorbar": {
             "outlinewidth": 0,
             "ticks": ""
            },
            "type": "mesh3d"
           }
          ],
          "parcoords": [
           {
            "line": {
             "colorbar": {
              "outlinewidth": 0,
              "ticks": ""
             }
            },
            "type": "parcoords"
           }
          ],
          "pie": [
           {
            "automargin": true,
            "type": "pie"
           }
          ],
          "scatter": [
           {
            "fillpattern": {
             "fillmode": "overlay",
             "size": 10,
             "solidity": 0.2
            },
            "type": "scatter"
           }
          ],
          "scatter3d": [
           {
            "line": {
             "colorbar": {
              "outlinewidth": 0,
              "ticks": ""
             }
            },
            "marker": {
             "colorbar": {
              "outlinewidth": 0,
              "ticks": ""
             }
            },
            "type": "scatter3d"
           }
          ],
          "scattercarpet": [
           {
            "marker": {
             "colorbar": {
              "outlinewidth": 0,
              "ticks": ""
             }
            },
            "type": "scattercarpet"
           }
          ],
          "scattergeo": [
           {
            "marker": {
             "colorbar": {
              "outlinewidth": 0,
              "ticks": ""
             }
            },
            "type": "scattergeo"
           }
          ],
          "scattergl": [
           {
            "marker": {
             "colorbar": {
              "outlinewidth": 0,
              "ticks": ""
             }
            },
            "type": "scattergl"
           }
          ],
          "scattermapbox": [
           {
            "marker": {
             "colorbar": {
              "outlinewidth": 0,
              "ticks": ""
             }
            },
            "type": "scattermapbox"
           }
          ],
          "scatterpolar": [
           {
            "marker": {
             "colorbar": {
              "outlinewidth": 0,
              "ticks": ""
             }
            },
            "type": "scatterpolar"
           }
          ],
          "scatterpolargl": [
           {
            "marker": {
             "colorbar": {
              "outlinewidth": 0,
              "ticks": ""
             }
            },
            "type": "scatterpolargl"
           }
          ],
          "scatterternary": [
           {
            "marker": {
             "colorbar": {
              "outlinewidth": 0,
              "ticks": ""
             }
            },
            "type": "scatterternary"
           }
          ],
          "surface": [
           {
            "colorbar": {
             "outlinewidth": 0,
             "ticks": ""
            },
            "colorscale": [
             [
              0,
              "#0d0887"
             ],
             [
              0.1111111111111111,
              "#46039f"
             ],
             [
              0.2222222222222222,
              "#7201a8"
             ],
             [
              0.3333333333333333,
              "#9c179e"
             ],
             [
              0.4444444444444444,
              "#bd3786"
             ],
             [
              0.5555555555555556,
              "#d8576b"
             ],
             [
              0.6666666666666666,
              "#ed7953"
             ],
             [
              0.7777777777777778,
              "#fb9f3a"
             ],
             [
              0.8888888888888888,
              "#fdca26"
             ],
             [
              1,
              "#f0f921"
             ]
            ],
            "type": "surface"
           }
          ],
          "table": [
           {
            "cells": {
             "fill": {
              "color": "#EBF0F8"
             },
             "line": {
              "color": "white"
             }
            },
            "header": {
             "fill": {
              "color": "#C8D4E3"
             },
             "line": {
              "color": "white"
             }
            },
            "type": "table"
           }
          ]
         },
         "layout": {
          "annotationdefaults": {
           "arrowcolor": "#2a3f5f",
           "arrowhead": 0,
           "arrowwidth": 1
          },
          "autotypenumbers": "strict",
          "coloraxis": {
           "colorbar": {
            "outlinewidth": 0,
            "ticks": ""
           }
          },
          "colorscale": {
           "diverging": [
            [
             0,
             "#8e0152"
            ],
            [
             0.1,
             "#c51b7d"
            ],
            [
             0.2,
             "#de77ae"
            ],
            [
             0.3,
             "#f1b6da"
            ],
            [
             0.4,
             "#fde0ef"
            ],
            [
             0.5,
             "#f7f7f7"
            ],
            [
             0.6,
             "#e6f5d0"
            ],
            [
             0.7,
             "#b8e186"
            ],
            [
             0.8,
             "#7fbc41"
            ],
            [
             0.9,
             "#4d9221"
            ],
            [
             1,
             "#276419"
            ]
           ],
           "sequential": [
            [
             0,
             "#0d0887"
            ],
            [
             0.1111111111111111,
             "#46039f"
            ],
            [
             0.2222222222222222,
             "#7201a8"
            ],
            [
             0.3333333333333333,
             "#9c179e"
            ],
            [
             0.4444444444444444,
             "#bd3786"
            ],
            [
             0.5555555555555556,
             "#d8576b"
            ],
            [
             0.6666666666666666,
             "#ed7953"
            ],
            [
             0.7777777777777778,
             "#fb9f3a"
            ],
            [
             0.8888888888888888,
             "#fdca26"
            ],
            [
             1,
             "#f0f921"
            ]
           ],
           "sequentialminus": [
            [
             0,
             "#0d0887"
            ],
            [
             0.1111111111111111,
             "#46039f"
            ],
            [
             0.2222222222222222,
             "#7201a8"
            ],
            [
             0.3333333333333333,
             "#9c179e"
            ],
            [
             0.4444444444444444,
             "#bd3786"
            ],
            [
             0.5555555555555556,
             "#d8576b"
            ],
            [
             0.6666666666666666,
             "#ed7953"
            ],
            [
             0.7777777777777778,
             "#fb9f3a"
            ],
            [
             0.8888888888888888,
             "#fdca26"
            ],
            [
             1,
             "#f0f921"
            ]
           ]
          },
          "colorway": [
           "#636efa",
           "#EF553B",
           "#00cc96",
           "#ab63fa",
           "#FFA15A",
           "#19d3f3",
           "#FF6692",
           "#B6E880",
           "#FF97FF",
           "#FECB52"
          ],
          "font": {
           "color": "#2a3f5f"
          },
          "geo": {
           "bgcolor": "white",
           "lakecolor": "white",
           "landcolor": "#E5ECF6",
           "showlakes": true,
           "showland": true,
           "subunitcolor": "white"
          },
          "hoverlabel": {
           "align": "left"
          },
          "hovermode": "closest",
          "mapbox": {
           "style": "light"
          },
          "paper_bgcolor": "white",
          "plot_bgcolor": "#E5ECF6",
          "polar": {
           "angularaxis": {
            "gridcolor": "white",
            "linecolor": "white",
            "ticks": ""
           },
           "bgcolor": "#E5ECF6",
           "radialaxis": {
            "gridcolor": "white",
            "linecolor": "white",
            "ticks": ""
           }
          },
          "scene": {
           "xaxis": {
            "backgroundcolor": "#E5ECF6",
            "gridcolor": "white",
            "gridwidth": 2,
            "linecolor": "white",
            "showbackground": true,
            "ticks": "",
            "zerolinecolor": "white"
           },
           "yaxis": {
            "backgroundcolor": "#E5ECF6",
            "gridcolor": "white",
            "gridwidth": 2,
            "linecolor": "white",
            "showbackground": true,
            "ticks": "",
            "zerolinecolor": "white"
           },
           "zaxis": {
            "backgroundcolor": "#E5ECF6",
            "gridcolor": "white",
            "gridwidth": 2,
            "linecolor": "white",
            "showbackground": true,
            "ticks": "",
            "zerolinecolor": "white"
           }
          },
          "shapedefaults": {
           "line": {
            "color": "#2a3f5f"
           }
          },
          "ternary": {
           "aaxis": {
            "gridcolor": "white",
            "linecolor": "white",
            "ticks": ""
           },
           "baxis": {
            "gridcolor": "white",
            "linecolor": "white",
            "ticks": ""
           },
           "bgcolor": "#E5ECF6",
           "caxis": {
            "gridcolor": "white",
            "linecolor": "white",
            "ticks": ""
           }
          },
          "title": {
           "x": 0.05
          },
          "xaxis": {
           "automargin": true,
           "gridcolor": "white",
           "linecolor": "white",
           "ticks": "",
           "title": {
            "standoff": 15
           },
           "zerolinecolor": "white",
           "zerolinewidth": 2
          },
          "yaxis": {
           "automargin": true,
           "gridcolor": "white",
           "linecolor": "white",
           "ticks": "",
           "title": {
            "standoff": 15
           },
           "zerolinecolor": "white",
           "zerolinewidth": 2
          }
         }
        },
        "title": {
         "text": "Other goods and services - Actual VS Prediction"
        },
        "xaxis": {
         "anchor": "y",
         "domain": [
          0,
          1
         ],
         "title": {
          "text": "Date"
         }
        },
        "yaxis": {
         "anchor": "x",
         "domain": [
          0,
          1
         ],
         "title": {
          "text": "value"
         }
        }
       }
      }
     },
     "metadata": {},
     "output_type": "display_data"
    },
    {
     "data": {
      "application/vnd.plotly.v1+json": {
       "config": {
        "plotlyServerURL": "https://plot.ly"
       },
       "data": [
        {
         "hovertemplate": "variable=Actual<br>Date=%{x}<br>value=%{y}<extra></extra>",
         "legendgroup": "Actual",
         "line": {
          "color": "#636efa",
          "dash": "solid"
         },
         "marker": {
          "symbol": "circle"
         },
         "mode": "lines",
         "name": "Actual",
         "orientation": "v",
         "showlegend": true,
         "type": "scatter",
         "x": [
          "2020-01-15",
          "2020-02-15",
          "2020-03-15",
          "2020-04-15",
          "2020-05-15",
          "2020-06-15",
          "2020-07-15",
          "2020-08-15",
          "2020-09-15",
          "2020-10-15",
          "2020-11-15",
          "2020-12-15",
          "2021-01-15",
          "2021-02-15",
          "2021-03-15",
          "2021-04-15",
          "2021-05-15",
          "2021-06-15",
          "2021-07-15",
          "2021-08-15",
          "2021-09-15",
          "2021-10-15",
          "2021-11-15",
          "2021-12-15",
          "2022-01-15",
          "2022-02-15",
          "2022-03-15",
          "2022-04-15",
          "2022-05-15",
          "2022-06-15",
          "2022-07-15"
         ],
         "xaxis": "x",
         "y": [
          0.20367988574494195,
          -0.06784721069002488,
          -0.23102544759312652,
          0.027207182864076883,
          -0.5455550901537026,
          0.04102003202386852,
          0.19120464716254415,
          -0.7120391578763621,
          -0.1650392342703227,
          0.11005641501573332,
          0.20602987852536228,
          -0.5641569830512914,
          -0.06901787836948646,
          0.1931301469386122,
          1.382352813729187,
          0.08152174364523443,
          -0.42191284091213305,
          0.5711969834494244,
          0.7834701699584617,
          0.6838779586684041,
          -0.20065554187452495,
          -0.6852562925055206,
          0.02696144529677739,
          0.20197946676715275,
          -0.336859444054057,
          -0.35154173574913594,
          -1.1716755293545469,
          -0.6323914394027363,
          0.05514959466955069,
          -0.858255545093199,
          -0.4039846686753755
         ],
         "yaxis": "y"
        },
        {
         "hovertemplate": "variable=Prediction<br>Date=%{x}<br>value=%{y}<extra></extra>",
         "legendgroup": "Prediction",
         "line": {
          "color": "#EF553B",
          "dash": "solid"
         },
         "marker": {
          "symbol": "circle"
         },
         "mode": "lines",
         "name": "Prediction",
         "orientation": "v",
         "showlegend": true,
         "type": "scatter",
         "x": [
          "2020-01-15",
          "2020-02-15",
          "2020-03-15",
          "2020-04-15",
          "2020-05-15",
          "2020-06-15",
          "2020-07-15",
          "2020-08-15",
          "2020-09-15",
          "2020-10-15",
          "2020-11-15",
          "2020-12-15",
          "2021-01-15",
          "2021-02-15",
          "2021-03-15",
          "2021-04-15",
          "2021-05-15",
          "2021-06-15",
          "2021-07-15",
          "2021-08-15",
          "2021-09-15",
          "2021-10-15",
          "2021-11-15",
          "2021-12-15",
          "2022-01-15",
          "2022-02-15",
          "2022-03-15",
          "2022-04-15",
          "2022-05-15",
          "2022-06-15",
          "2022-07-15"
         ],
         "xaxis": "x",
         "y": [
          0.057100966572761536,
          0.008797772228717804,
          0.03390451893210411,
          0.27937644720077515,
          0.06016043946146965,
          0.21040287613868713,
          0.024251244962215424,
          0.12386174499988556,
          0.08238860219717026,
          0.1953938603401184,
          0.07330457866191864,
          0.2284846305847168,
          0.09973409026861191,
          0.20227459073066711,
          -0.15016835927963257,
          -0.3987308442592621,
          0.11353975534439087,
          -0.04949871450662613,
          0.24451422691345215,
          0.1405274122953415,
          0.1759849339723587,
          0.18815851211547852,
          0.2658401131629944,
          0.155427485704422,
          0.42950040102005005,
          0.3341407775878906,
          0.4373186528682709,
          0.3343651592731476,
          0.4003840684890747,
          0.562979519367218,
          0.5303374528884888
         ],
         "yaxis": "y"
        }
       ],
       "layout": {
        "legend": {
         "title": {
          "text": "variable"
         },
         "tracegroupgap": 0
        },
        "template": {
         "data": {
          "bar": [
           {
            "error_x": {
             "color": "#2a3f5f"
            },
            "error_y": {
             "color": "#2a3f5f"
            },
            "marker": {
             "line": {
              "color": "#E5ECF6",
              "width": 0.5
             },
             "pattern": {
              "fillmode": "overlay",
              "size": 10,
              "solidity": 0.2
             }
            },
            "type": "bar"
           }
          ],
          "barpolar": [
           {
            "marker": {
             "line": {
              "color": "#E5ECF6",
              "width": 0.5
             },
             "pattern": {
              "fillmode": "overlay",
              "size": 10,
              "solidity": 0.2
             }
            },
            "type": "barpolar"
           }
          ],
          "carpet": [
           {
            "aaxis": {
             "endlinecolor": "#2a3f5f",
             "gridcolor": "white",
             "linecolor": "white",
             "minorgridcolor": "white",
             "startlinecolor": "#2a3f5f"
            },
            "baxis": {
             "endlinecolor": "#2a3f5f",
             "gridcolor": "white",
             "linecolor": "white",
             "minorgridcolor": "white",
             "startlinecolor": "#2a3f5f"
            },
            "type": "carpet"
           }
          ],
          "choropleth": [
           {
            "colorbar": {
             "outlinewidth": 0,
             "ticks": ""
            },
            "type": "choropleth"
           }
          ],
          "contour": [
           {
            "colorbar": {
             "outlinewidth": 0,
             "ticks": ""
            },
            "colorscale": [
             [
              0,
              "#0d0887"
             ],
             [
              0.1111111111111111,
              "#46039f"
             ],
             [
              0.2222222222222222,
              "#7201a8"
             ],
             [
              0.3333333333333333,
              "#9c179e"
             ],
             [
              0.4444444444444444,
              "#bd3786"
             ],
             [
              0.5555555555555556,
              "#d8576b"
             ],
             [
              0.6666666666666666,
              "#ed7953"
             ],
             [
              0.7777777777777778,
              "#fb9f3a"
             ],
             [
              0.8888888888888888,
              "#fdca26"
             ],
             [
              1,
              "#f0f921"
             ]
            ],
            "type": "contour"
           }
          ],
          "contourcarpet": [
           {
            "colorbar": {
             "outlinewidth": 0,
             "ticks": ""
            },
            "type": "contourcarpet"
           }
          ],
          "heatmap": [
           {
            "colorbar": {
             "outlinewidth": 0,
             "ticks": ""
            },
            "colorscale": [
             [
              0,
              "#0d0887"
             ],
             [
              0.1111111111111111,
              "#46039f"
             ],
             [
              0.2222222222222222,
              "#7201a8"
             ],
             [
              0.3333333333333333,
              "#9c179e"
             ],
             [
              0.4444444444444444,
              "#bd3786"
             ],
             [
              0.5555555555555556,
              "#d8576b"
             ],
             [
              0.6666666666666666,
              "#ed7953"
             ],
             [
              0.7777777777777778,
              "#fb9f3a"
             ],
             [
              0.8888888888888888,
              "#fdca26"
             ],
             [
              1,
              "#f0f921"
             ]
            ],
            "type": "heatmap"
           }
          ],
          "heatmapgl": [
           {
            "colorbar": {
             "outlinewidth": 0,
             "ticks": ""
            },
            "colorscale": [
             [
              0,
              "#0d0887"
             ],
             [
              0.1111111111111111,
              "#46039f"
             ],
             [
              0.2222222222222222,
              "#7201a8"
             ],
             [
              0.3333333333333333,
              "#9c179e"
             ],
             [
              0.4444444444444444,
              "#bd3786"
             ],
             [
              0.5555555555555556,
              "#d8576b"
             ],
             [
              0.6666666666666666,
              "#ed7953"
             ],
             [
              0.7777777777777778,
              "#fb9f3a"
             ],
             [
              0.8888888888888888,
              "#fdca26"
             ],
             [
              1,
              "#f0f921"
             ]
            ],
            "type": "heatmapgl"
           }
          ],
          "histogram": [
           {
            "marker": {
             "pattern": {
              "fillmode": "overlay",
              "size": 10,
              "solidity": 0.2
             }
            },
            "type": "histogram"
           }
          ],
          "histogram2d": [
           {
            "colorbar": {
             "outlinewidth": 0,
             "ticks": ""
            },
            "colorscale": [
             [
              0,
              "#0d0887"
             ],
             [
              0.1111111111111111,
              "#46039f"
             ],
             [
              0.2222222222222222,
              "#7201a8"
             ],
             [
              0.3333333333333333,
              "#9c179e"
             ],
             [
              0.4444444444444444,
              "#bd3786"
             ],
             [
              0.5555555555555556,
              "#d8576b"
             ],
             [
              0.6666666666666666,
              "#ed7953"
             ],
             [
              0.7777777777777778,
              "#fb9f3a"
             ],
             [
              0.8888888888888888,
              "#fdca26"
             ],
             [
              1,
              "#f0f921"
             ]
            ],
            "type": "histogram2d"
           }
          ],
          "histogram2dcontour": [
           {
            "colorbar": {
             "outlinewidth": 0,
             "ticks": ""
            },
            "colorscale": [
             [
              0,
              "#0d0887"
             ],
             [
              0.1111111111111111,
              "#46039f"
             ],
             [
              0.2222222222222222,
              "#7201a8"
             ],
             [
              0.3333333333333333,
              "#9c179e"
             ],
             [
              0.4444444444444444,
              "#bd3786"
             ],
             [
              0.5555555555555556,
              "#d8576b"
             ],
             [
              0.6666666666666666,
              "#ed7953"
             ],
             [
              0.7777777777777778,
              "#fb9f3a"
             ],
             [
              0.8888888888888888,
              "#fdca26"
             ],
             [
              1,
              "#f0f921"
             ]
            ],
            "type": "histogram2dcontour"
           }
          ],
          "mesh3d": [
           {
            "colorbar": {
             "outlinewidth": 0,
             "ticks": ""
            },
            "type": "mesh3d"
           }
          ],
          "parcoords": [
           {
            "line": {
             "colorbar": {
              "outlinewidth": 0,
              "ticks": ""
             }
            },
            "type": "parcoords"
           }
          ],
          "pie": [
           {
            "automargin": true,
            "type": "pie"
           }
          ],
          "scatter": [
           {
            "fillpattern": {
             "fillmode": "overlay",
             "size": 10,
             "solidity": 0.2
            },
            "type": "scatter"
           }
          ],
          "scatter3d": [
           {
            "line": {
             "colorbar": {
              "outlinewidth": 0,
              "ticks": ""
             }
            },
            "marker": {
             "colorbar": {
              "outlinewidth": 0,
              "ticks": ""
             }
            },
            "type": "scatter3d"
           }
          ],
          "scattercarpet": [
           {
            "marker": {
             "colorbar": {
              "outlinewidth": 0,
              "ticks": ""
             }
            },
            "type": "scattercarpet"
           }
          ],
          "scattergeo": [
           {
            "marker": {
             "colorbar": {
              "outlinewidth": 0,
              "ticks": ""
             }
            },
            "type": "scattergeo"
           }
          ],
          "scattergl": [
           {
            "marker": {
             "colorbar": {
              "outlinewidth": 0,
              "ticks": ""
             }
            },
            "type": "scattergl"
           }
          ],
          "scattermapbox": [
           {
            "marker": {
             "colorbar": {
              "outlinewidth": 0,
              "ticks": ""
             }
            },
            "type": "scattermapbox"
           }
          ],
          "scatterpolar": [
           {
            "marker": {
             "colorbar": {
              "outlinewidth": 0,
              "ticks": ""
             }
            },
            "type": "scatterpolar"
           }
          ],
          "scatterpolargl": [
           {
            "marker": {
             "colorbar": {
              "outlinewidth": 0,
              "ticks": ""
             }
            },
            "type": "scatterpolargl"
           }
          ],
          "scatterternary": [
           {
            "marker": {
             "colorbar": {
              "outlinewidth": 0,
              "ticks": ""
             }
            },
            "type": "scatterternary"
           }
          ],
          "surface": [
           {
            "colorbar": {
             "outlinewidth": 0,
             "ticks": ""
            },
            "colorscale": [
             [
              0,
              "#0d0887"
             ],
             [
              0.1111111111111111,
              "#46039f"
             ],
             [
              0.2222222222222222,
              "#7201a8"
             ],
             [
              0.3333333333333333,
              "#9c179e"
             ],
             [
              0.4444444444444444,
              "#bd3786"
             ],
             [
              0.5555555555555556,
              "#d8576b"
             ],
             [
              0.6666666666666666,
              "#ed7953"
             ],
             [
              0.7777777777777778,
              "#fb9f3a"
             ],
             [
              0.8888888888888888,
              "#fdca26"
             ],
             [
              1,
              "#f0f921"
             ]
            ],
            "type": "surface"
           }
          ],
          "table": [
           {
            "cells": {
             "fill": {
              "color": "#EBF0F8"
             },
             "line": {
              "color": "white"
             }
            },
            "header": {
             "fill": {
              "color": "#C8D4E3"
             },
             "line": {
              "color": "white"
             }
            },
            "type": "table"
           }
          ]
         },
         "layout": {
          "annotationdefaults": {
           "arrowcolor": "#2a3f5f",
           "arrowhead": 0,
           "arrowwidth": 1
          },
          "autotypenumbers": "strict",
          "coloraxis": {
           "colorbar": {
            "outlinewidth": 0,
            "ticks": ""
           }
          },
          "colorscale": {
           "diverging": [
            [
             0,
             "#8e0152"
            ],
            [
             0.1,
             "#c51b7d"
            ],
            [
             0.2,
             "#de77ae"
            ],
            [
             0.3,
             "#f1b6da"
            ],
            [
             0.4,
             "#fde0ef"
            ],
            [
             0.5,
             "#f7f7f7"
            ],
            [
             0.6,
             "#e6f5d0"
            ],
            [
             0.7,
             "#b8e186"
            ],
            [
             0.8,
             "#7fbc41"
            ],
            [
             0.9,
             "#4d9221"
            ],
            [
             1,
             "#276419"
            ]
           ],
           "sequential": [
            [
             0,
             "#0d0887"
            ],
            [
             0.1111111111111111,
             "#46039f"
            ],
            [
             0.2222222222222222,
             "#7201a8"
            ],
            [
             0.3333333333333333,
             "#9c179e"
            ],
            [
             0.4444444444444444,
             "#bd3786"
            ],
            [
             0.5555555555555556,
             "#d8576b"
            ],
            [
             0.6666666666666666,
             "#ed7953"
            ],
            [
             0.7777777777777778,
             "#fb9f3a"
            ],
            [
             0.8888888888888888,
             "#fdca26"
            ],
            [
             1,
             "#f0f921"
            ]
           ],
           "sequentialminus": [
            [
             0,
             "#0d0887"
            ],
            [
             0.1111111111111111,
             "#46039f"
            ],
            [
             0.2222222222222222,
             "#7201a8"
            ],
            [
             0.3333333333333333,
             "#9c179e"
            ],
            [
             0.4444444444444444,
             "#bd3786"
            ],
            [
             0.5555555555555556,
             "#d8576b"
            ],
            [
             0.6666666666666666,
             "#ed7953"
            ],
            [
             0.7777777777777778,
             "#fb9f3a"
            ],
            [
             0.8888888888888888,
             "#fdca26"
            ],
            [
             1,
             "#f0f921"
            ]
           ]
          },
          "colorway": [
           "#636efa",
           "#EF553B",
           "#00cc96",
           "#ab63fa",
           "#FFA15A",
           "#19d3f3",
           "#FF6692",
           "#B6E880",
           "#FF97FF",
           "#FECB52"
          ],
          "font": {
           "color": "#2a3f5f"
          },
          "geo": {
           "bgcolor": "white",
           "lakecolor": "white",
           "landcolor": "#E5ECF6",
           "showlakes": true,
           "showland": true,
           "subunitcolor": "white"
          },
          "hoverlabel": {
           "align": "left"
          },
          "hovermode": "closest",
          "mapbox": {
           "style": "light"
          },
          "paper_bgcolor": "white",
          "plot_bgcolor": "#E5ECF6",
          "polar": {
           "angularaxis": {
            "gridcolor": "white",
            "linecolor": "white",
            "ticks": ""
           },
           "bgcolor": "#E5ECF6",
           "radialaxis": {
            "gridcolor": "white",
            "linecolor": "white",
            "ticks": ""
           }
          },
          "scene": {
           "xaxis": {
            "backgroundcolor": "#E5ECF6",
            "gridcolor": "white",
            "gridwidth": 2,
            "linecolor": "white",
            "showbackground": true,
            "ticks": "",
            "zerolinecolor": "white"
           },
           "yaxis": {
            "backgroundcolor": "#E5ECF6",
            "gridcolor": "white",
            "gridwidth": 2,
            "linecolor": "white",
            "showbackground": true,
            "ticks": "",
            "zerolinecolor": "white"
           },
           "zaxis": {
            "backgroundcolor": "#E5ECF6",
            "gridcolor": "white",
            "gridwidth": 2,
            "linecolor": "white",
            "showbackground": true,
            "ticks": "",
            "zerolinecolor": "white"
           }
          },
          "shapedefaults": {
           "line": {
            "color": "#2a3f5f"
           }
          },
          "ternary": {
           "aaxis": {
            "gridcolor": "white",
            "linecolor": "white",
            "ticks": ""
           },
           "baxis": {
            "gridcolor": "white",
            "linecolor": "white",
            "ticks": ""
           },
           "bgcolor": "#E5ECF6",
           "caxis": {
            "gridcolor": "white",
            "linecolor": "white",
            "ticks": ""
           }
          },
          "title": {
           "x": 0.05
          },
          "xaxis": {
           "automargin": true,
           "gridcolor": "white",
           "linecolor": "white",
           "ticks": "",
           "title": {
            "standoff": 15
           },
           "zerolinecolor": "white",
           "zerolinewidth": 2
          },
          "yaxis": {
           "automargin": true,
           "gridcolor": "white",
           "linecolor": "white",
           "ticks": "",
           "title": {
            "standoff": 15
           },
           "zerolinecolor": "white",
           "zerolinewidth": 2
          }
         }
        },
        "title": {
         "text": "Information technology, hardware and services - Actual VS Prediction"
        },
        "xaxis": {
         "anchor": "y",
         "domain": [
          0,
          1
         ],
         "title": {
          "text": "Date"
         }
        },
        "yaxis": {
         "anchor": "x",
         "domain": [
          0,
          1
         ],
         "title": {
          "text": "value"
         }
        }
       }
      }
     },
     "metadata": {},
     "output_type": "display_data"
    },
    {
     "data": {
      "application/vnd.plotly.v1+json": {
       "config": {
        "plotlyServerURL": "https://plot.ly"
       },
       "data": [
        {
         "hovertemplate": "variable=Actual<br>Date=%{x}<br>value=%{y}<extra></extra>",
         "legendgroup": "Actual",
         "line": {
          "color": "#636efa",
          "dash": "solid"
         },
         "marker": {
          "symbol": "circle"
         },
         "mode": "lines",
         "name": "Actual",
         "orientation": "v",
         "showlegend": true,
         "type": "scatter",
         "x": [
          "2020-01-15",
          "2020-02-15",
          "2020-03-15",
          "2020-04-15",
          "2020-05-15",
          "2020-06-15",
          "2020-07-15",
          "2020-08-15",
          "2020-09-15",
          "2020-10-15",
          "2020-11-15",
          "2020-12-15",
          "2021-01-15",
          "2021-02-15",
          "2021-03-15",
          "2021-04-15",
          "2021-05-15",
          "2021-06-15",
          "2021-07-15",
          "2021-08-15",
          "2021-09-15",
          "2021-10-15",
          "2021-11-15",
          "2021-12-15",
          "2022-01-15",
          "2022-02-15",
          "2022-03-15",
          "2022-04-15",
          "2022-05-15",
          "2022-06-15",
          "2022-07-15"
         ],
         "xaxis": "x",
         "y": [
          0.5722041064569248,
          0.3964454890745969,
          0.15526614005119835,
          -0.14087951383409794,
          -0.5828733030283542,
          -0.5091801033560488,
          0.4527323992063311,
          -2.496483333411476,
          -0.22588133006648725,
          0.3653161965348405,
          0.750195496617234,
          -0.8554953513634106,
          -0.17376457051093058,
          -1.7695860960395173,
          3.0691879297931317,
          0.3851481282406192,
          -0.1814059454393165,
          0.8268185605025357,
          -0.08862479604329648,
          0.6302861490640922,
          -0.5111693424172497,
          -1.0419801238072102,
          -0.43222648883888287,
          0.21193620413618575,
          -0.6667576441264622,
          -0.6146282598925523,
          -2.5962946009476324,
          -1.712579139547804,
          0.27481288886405436,
          -0.8048301859924785,
          -0.7310295159972626
         ],
         "yaxis": "y"
        },
        {
         "hovertemplate": "variable=Prediction<br>Date=%{x}<br>value=%{y}<extra></extra>",
         "legendgroup": "Prediction",
         "line": {
          "color": "#EF553B",
          "dash": "solid"
         },
         "marker": {
          "symbol": "circle"
         },
         "mode": "lines",
         "name": "Prediction",
         "orientation": "v",
         "showlegend": true,
         "type": "scatter",
         "x": [
          "2020-01-15",
          "2020-02-15",
          "2020-03-15",
          "2020-04-15",
          "2020-05-15",
          "2020-06-15",
          "2020-07-15",
          "2020-08-15",
          "2020-09-15",
          "2020-10-15",
          "2020-11-15",
          "2020-12-15",
          "2021-01-15",
          "2021-02-15",
          "2021-03-15",
          "2021-04-15",
          "2021-05-15",
          "2021-06-15",
          "2021-07-15",
          "2021-08-15",
          "2021-09-15",
          "2021-10-15",
          "2021-11-15",
          "2021-12-15",
          "2022-01-15",
          "2022-02-15",
          "2022-03-15",
          "2022-04-15",
          "2022-05-15",
          "2022-06-15",
          "2022-07-15"
         ],
         "xaxis": "x",
         "y": [
          0.06679724901914597,
          0.09575283527374268,
          0.05207245796918869,
          -0.014430560171604156,
          0.028795845806598663,
          0.06915118545293808,
          0.1364808827638626,
          0.1255054622888565,
          0.10334686189889908,
          0.05625319480895996,
          0.08197334408760071,
          0.05970517173409462,
          -0.04345286637544632,
          -0.03529473394155502,
          0.10986799001693726,
          0.29139241576194763,
          0.30286335945129395,
          0.2558448016643524,
          0.08893916010856628,
          0.04439902305603027,
          0.08786982297897339,
          0.17706328630447388,
          0.16328555345535278,
          0.20812159776687622,
          0.27541324496269226,
          0.31749865412712097,
          0.26644983887672424,
          0.1785958707332611,
          0.1312069594860077,
          0.12491008639335632,
          0.1811468005180359
         ],
         "yaxis": "y"
        }
       ],
       "layout": {
        "legend": {
         "title": {
          "text": "variable"
         },
         "tracegroupgap": 0
        },
        "template": {
         "data": {
          "bar": [
           {
            "error_x": {
             "color": "#2a3f5f"
            },
            "error_y": {
             "color": "#2a3f5f"
            },
            "marker": {
             "line": {
              "color": "#E5ECF6",
              "width": 0.5
             },
             "pattern": {
              "fillmode": "overlay",
              "size": 10,
              "solidity": 0.2
             }
            },
            "type": "bar"
           }
          ],
          "barpolar": [
           {
            "marker": {
             "line": {
              "color": "#E5ECF6",
              "width": 0.5
             },
             "pattern": {
              "fillmode": "overlay",
              "size": 10,
              "solidity": 0.2
             }
            },
            "type": "barpolar"
           }
          ],
          "carpet": [
           {
            "aaxis": {
             "endlinecolor": "#2a3f5f",
             "gridcolor": "white",
             "linecolor": "white",
             "minorgridcolor": "white",
             "startlinecolor": "#2a3f5f"
            },
            "baxis": {
             "endlinecolor": "#2a3f5f",
             "gridcolor": "white",
             "linecolor": "white",
             "minorgridcolor": "white",
             "startlinecolor": "#2a3f5f"
            },
            "type": "carpet"
           }
          ],
          "choropleth": [
           {
            "colorbar": {
             "outlinewidth": 0,
             "ticks": ""
            },
            "type": "choropleth"
           }
          ],
          "contour": [
           {
            "colorbar": {
             "outlinewidth": 0,
             "ticks": ""
            },
            "colorscale": [
             [
              0,
              "#0d0887"
             ],
             [
              0.1111111111111111,
              "#46039f"
             ],
             [
              0.2222222222222222,
              "#7201a8"
             ],
             [
              0.3333333333333333,
              "#9c179e"
             ],
             [
              0.4444444444444444,
              "#bd3786"
             ],
             [
              0.5555555555555556,
              "#d8576b"
             ],
             [
              0.6666666666666666,
              "#ed7953"
             ],
             [
              0.7777777777777778,
              "#fb9f3a"
             ],
             [
              0.8888888888888888,
              "#fdca26"
             ],
             [
              1,
              "#f0f921"
             ]
            ],
            "type": "contour"
           }
          ],
          "contourcarpet": [
           {
            "colorbar": {
             "outlinewidth": 0,
             "ticks": ""
            },
            "type": "contourcarpet"
           }
          ],
          "heatmap": [
           {
            "colorbar": {
             "outlinewidth": 0,
             "ticks": ""
            },
            "colorscale": [
             [
              0,
              "#0d0887"
             ],
             [
              0.1111111111111111,
              "#46039f"
             ],
             [
              0.2222222222222222,
              "#7201a8"
             ],
             [
              0.3333333333333333,
              "#9c179e"
             ],
             [
              0.4444444444444444,
              "#bd3786"
             ],
             [
              0.5555555555555556,
              "#d8576b"
             ],
             [
              0.6666666666666666,
              "#ed7953"
             ],
             [
              0.7777777777777778,
              "#fb9f3a"
             ],
             [
              0.8888888888888888,
              "#fdca26"
             ],
             [
              1,
              "#f0f921"
             ]
            ],
            "type": "heatmap"
           }
          ],
          "heatmapgl": [
           {
            "colorbar": {
             "outlinewidth": 0,
             "ticks": ""
            },
            "colorscale": [
             [
              0,
              "#0d0887"
             ],
             [
              0.1111111111111111,
              "#46039f"
             ],
             [
              0.2222222222222222,
              "#7201a8"
             ],
             [
              0.3333333333333333,
              "#9c179e"
             ],
             [
              0.4444444444444444,
              "#bd3786"
             ],
             [
              0.5555555555555556,
              "#d8576b"
             ],
             [
              0.6666666666666666,
              "#ed7953"
             ],
             [
              0.7777777777777778,
              "#fb9f3a"
             ],
             [
              0.8888888888888888,
              "#fdca26"
             ],
             [
              1,
              "#f0f921"
             ]
            ],
            "type": "heatmapgl"
           }
          ],
          "histogram": [
           {
            "marker": {
             "pattern": {
              "fillmode": "overlay",
              "size": 10,
              "solidity": 0.2
             }
            },
            "type": "histogram"
           }
          ],
          "histogram2d": [
           {
            "colorbar": {
             "outlinewidth": 0,
             "ticks": ""
            },
            "colorscale": [
             [
              0,
              "#0d0887"
             ],
             [
              0.1111111111111111,
              "#46039f"
             ],
             [
              0.2222222222222222,
              "#7201a8"
             ],
             [
              0.3333333333333333,
              "#9c179e"
             ],
             [
              0.4444444444444444,
              "#bd3786"
             ],
             [
              0.5555555555555556,
              "#d8576b"
             ],
             [
              0.6666666666666666,
              "#ed7953"
             ],
             [
              0.7777777777777778,
              "#fb9f3a"
             ],
             [
              0.8888888888888888,
              "#fdca26"
             ],
             [
              1,
              "#f0f921"
             ]
            ],
            "type": "histogram2d"
           }
          ],
          "histogram2dcontour": [
           {
            "colorbar": {
             "outlinewidth": 0,
             "ticks": ""
            },
            "colorscale": [
             [
              0,
              "#0d0887"
             ],
             [
              0.1111111111111111,
              "#46039f"
             ],
             [
              0.2222222222222222,
              "#7201a8"
             ],
             [
              0.3333333333333333,
              "#9c179e"
             ],
             [
              0.4444444444444444,
              "#bd3786"
             ],
             [
              0.5555555555555556,
              "#d8576b"
             ],
             [
              0.6666666666666666,
              "#ed7953"
             ],
             [
              0.7777777777777778,
              "#fb9f3a"
             ],
             [
              0.8888888888888888,
              "#fdca26"
             ],
             [
              1,
              "#f0f921"
             ]
            ],
            "type": "histogram2dcontour"
           }
          ],
          "mesh3d": [
           {
            "colorbar": {
             "outlinewidth": 0,
             "ticks": ""
            },
            "type": "mesh3d"
           }
          ],
          "parcoords": [
           {
            "line": {
             "colorbar": {
              "outlinewidth": 0,
              "ticks": ""
             }
            },
            "type": "parcoords"
           }
          ],
          "pie": [
           {
            "automargin": true,
            "type": "pie"
           }
          ],
          "scatter": [
           {
            "fillpattern": {
             "fillmode": "overlay",
             "size": 10,
             "solidity": 0.2
            },
            "type": "scatter"
           }
          ],
          "scatter3d": [
           {
            "line": {
             "colorbar": {
              "outlinewidth": 0,
              "ticks": ""
             }
            },
            "marker": {
             "colorbar": {
              "outlinewidth": 0,
              "ticks": ""
             }
            },
            "type": "scatter3d"
           }
          ],
          "scattercarpet": [
           {
            "marker": {
             "colorbar": {
              "outlinewidth": 0,
              "ticks": ""
             }
            },
            "type": "scattercarpet"
           }
          ],
          "scattergeo": [
           {
            "marker": {
             "colorbar": {
              "outlinewidth": 0,
              "ticks": ""
             }
            },
            "type": "scattergeo"
           }
          ],
          "scattergl": [
           {
            "marker": {
             "colorbar": {
              "outlinewidth": 0,
              "ticks": ""
             }
            },
            "type": "scattergl"
           }
          ],
          "scattermapbox": [
           {
            "marker": {
             "colorbar": {
              "outlinewidth": 0,
              "ticks": ""
             }
            },
            "type": "scattermapbox"
           }
          ],
          "scatterpolar": [
           {
            "marker": {
             "colorbar": {
              "outlinewidth": 0,
              "ticks": ""
             }
            },
            "type": "scatterpolar"
           }
          ],
          "scatterpolargl": [
           {
            "marker": {
             "colorbar": {
              "outlinewidth": 0,
              "ticks": ""
             }
            },
            "type": "scatterpolargl"
           }
          ],
          "scatterternary": [
           {
            "marker": {
             "colorbar": {
              "outlinewidth": 0,
              "ticks": ""
             }
            },
            "type": "scatterternary"
           }
          ],
          "surface": [
           {
            "colorbar": {
             "outlinewidth": 0,
             "ticks": ""
            },
            "colorscale": [
             [
              0,
              "#0d0887"
             ],
             [
              0.1111111111111111,
              "#46039f"
             ],
             [
              0.2222222222222222,
              "#7201a8"
             ],
             [
              0.3333333333333333,
              "#9c179e"
             ],
             [
              0.4444444444444444,
              "#bd3786"
             ],
             [
              0.5555555555555556,
              "#d8576b"
             ],
             [
              0.6666666666666666,
              "#ed7953"
             ],
             [
              0.7777777777777778,
              "#fb9f3a"
             ],
             [
              0.8888888888888888,
              "#fdca26"
             ],
             [
              1,
              "#f0f921"
             ]
            ],
            "type": "surface"
           }
          ],
          "table": [
           {
            "cells": {
             "fill": {
              "color": "#EBF0F8"
             },
             "line": {
              "color": "white"
             }
            },
            "header": {
             "fill": {
              "color": "#C8D4E3"
             },
             "line": {
              "color": "white"
             }
            },
            "type": "table"
           }
          ]
         },
         "layout": {
          "annotationdefaults": {
           "arrowcolor": "#2a3f5f",
           "arrowhead": 0,
           "arrowwidth": 1
          },
          "autotypenumbers": "strict",
          "coloraxis": {
           "colorbar": {
            "outlinewidth": 0,
            "ticks": ""
           }
          },
          "colorscale": {
           "diverging": [
            [
             0,
             "#8e0152"
            ],
            [
             0.1,
             "#c51b7d"
            ],
            [
             0.2,
             "#de77ae"
            ],
            [
             0.3,
             "#f1b6da"
            ],
            [
             0.4,
             "#fde0ef"
            ],
            [
             0.5,
             "#f7f7f7"
            ],
            [
             0.6,
             "#e6f5d0"
            ],
            [
             0.7,
             "#b8e186"
            ],
            [
             0.8,
             "#7fbc41"
            ],
            [
             0.9,
             "#4d9221"
            ],
            [
             1,
             "#276419"
            ]
           ],
           "sequential": [
            [
             0,
             "#0d0887"
            ],
            [
             0.1111111111111111,
             "#46039f"
            ],
            [
             0.2222222222222222,
             "#7201a8"
            ],
            [
             0.3333333333333333,
             "#9c179e"
            ],
            [
             0.4444444444444444,
             "#bd3786"
            ],
            [
             0.5555555555555556,
             "#d8576b"
            ],
            [
             0.6666666666666666,
             "#ed7953"
            ],
            [
             0.7777777777777778,
             "#fb9f3a"
            ],
            [
             0.8888888888888888,
             "#fdca26"
            ],
            [
             1,
             "#f0f921"
            ]
           ],
           "sequentialminus": [
            [
             0,
             "#0d0887"
            ],
            [
             0.1111111111111111,
             "#46039f"
            ],
            [
             0.2222222222222222,
             "#7201a8"
            ],
            [
             0.3333333333333333,
             "#9c179e"
            ],
            [
             0.4444444444444444,
             "#bd3786"
            ],
            [
             0.5555555555555556,
             "#d8576b"
            ],
            [
             0.6666666666666666,
             "#ed7953"
            ],
            [
             0.7777777777777778,
             "#fb9f3a"
            ],
            [
             0.8888888888888888,
             "#fdca26"
            ],
            [
             1,
             "#f0f921"
            ]
           ]
          },
          "colorway": [
           "#636efa",
           "#EF553B",
           "#00cc96",
           "#ab63fa",
           "#FFA15A",
           "#19d3f3",
           "#FF6692",
           "#B6E880",
           "#FF97FF",
           "#FECB52"
          ],
          "font": {
           "color": "#2a3f5f"
          },
          "geo": {
           "bgcolor": "white",
           "lakecolor": "white",
           "landcolor": "#E5ECF6",
           "showlakes": true,
           "showland": true,
           "subunitcolor": "white"
          },
          "hoverlabel": {
           "align": "left"
          },
          "hovermode": "closest",
          "mapbox": {
           "style": "light"
          },
          "paper_bgcolor": "white",
          "plot_bgcolor": "#E5ECF6",
          "polar": {
           "angularaxis": {
            "gridcolor": "white",
            "linecolor": "white",
            "ticks": ""
           },
           "bgcolor": "#E5ECF6",
           "radialaxis": {
            "gridcolor": "white",
            "linecolor": "white",
            "ticks": ""
           }
          },
          "scene": {
           "xaxis": {
            "backgroundcolor": "#E5ECF6",
            "gridcolor": "white",
            "gridwidth": 2,
            "linecolor": "white",
            "showbackground": true,
            "ticks": "",
            "zerolinecolor": "white"
           },
           "yaxis": {
            "backgroundcolor": "#E5ECF6",
            "gridcolor": "white",
            "gridwidth": 2,
            "linecolor": "white",
            "showbackground": true,
            "ticks": "",
            "zerolinecolor": "white"
           },
           "zaxis": {
            "backgroundcolor": "#E5ECF6",
            "gridcolor": "white",
            "gridwidth": 2,
            "linecolor": "white",
            "showbackground": true,
            "ticks": "",
            "zerolinecolor": "white"
           }
          },
          "shapedefaults": {
           "line": {
            "color": "#2a3f5f"
           }
          },
          "ternary": {
           "aaxis": {
            "gridcolor": "white",
            "linecolor": "white",
            "ticks": ""
           },
           "baxis": {
            "gridcolor": "white",
            "linecolor": "white",
            "ticks": ""
           },
           "bgcolor": "#E5ECF6",
           "caxis": {
            "gridcolor": "white",
            "linecolor": "white",
            "ticks": ""
           }
          },
          "title": {
           "x": 0.05
          },
          "xaxis": {
           "automargin": true,
           "gridcolor": "white",
           "linecolor": "white",
           "ticks": "",
           "title": {
            "standoff": 15
           },
           "zerolinecolor": "white",
           "zerolinewidth": 2
          },
          "yaxis": {
           "automargin": true,
           "gridcolor": "white",
           "linecolor": "white",
           "ticks": "",
           "title": {
            "standoff": 15
           },
           "zerolinecolor": "white",
           "zerolinewidth": 2
          }
         }
        },
        "title": {
         "text": "Education and communication commodities - Actual VS Prediction"
        },
        "xaxis": {
         "anchor": "y",
         "domain": [
          0,
          1
         ],
         "title": {
          "text": "Date"
         }
        },
        "yaxis": {
         "anchor": "x",
         "domain": [
          0,
          1
         ],
         "title": {
          "text": "value"
         }
        }
       }
      }
     },
     "metadata": {},
     "output_type": "display_data"
    },
    {
     "data": {
      "application/vnd.plotly.v1+json": {
       "config": {
        "plotlyServerURL": "https://plot.ly"
       },
       "data": [
        {
         "hovertemplate": "variable=Actual<br>Date=%{x}<br>value=%{y}<extra></extra>",
         "legendgroup": "Actual",
         "line": {
          "color": "#636efa",
          "dash": "solid"
         },
         "marker": {
          "symbol": "circle"
         },
         "mode": "lines",
         "name": "Actual",
         "orientation": "v",
         "showlegend": true,
         "type": "scatter",
         "x": [
          "2020-01-15",
          "2020-02-15",
          "2020-03-15",
          "2020-04-15",
          "2020-05-15",
          "2020-06-15",
          "2020-07-15",
          "2020-08-15",
          "2020-09-15",
          "2020-10-15",
          "2020-11-15",
          "2020-12-15",
          "2021-01-15",
          "2021-02-15",
          "2021-03-15",
          "2021-04-15",
          "2021-05-15",
          "2021-06-15",
          "2021-07-15",
          "2021-08-15",
          "2021-09-15",
          "2021-10-15",
          "2021-11-15",
          "2021-12-15",
          "2022-01-15",
          "2022-02-15",
          "2022-03-15",
          "2022-04-15",
          "2022-05-15",
          "2022-06-15",
          "2022-07-15"
         ],
         "xaxis": "x",
         "y": [
          -0.6115989889707332,
          -2.436174673401538,
          -5.735093327379769,
          -1.6895366915693255,
          2.556147856834776,
          2.818351483659659,
          1.5217476558352176,
          0.9518660526551684,
          -0.15983801193042055,
          0.08541109572310783,
          1.5846771825930555,
          0.8261534251509165,
          1.401120897002216,
          2.7925576695636023,
          2.2716504470661305,
          1.965433179240126,
          3.64573493557994,
          0.6697948684127496,
          0.29856807570378496,
          0.6658962778504152,
          2.5443587432885924,
          2.4044598503710097,
          0.7171131595343359,
          0.47073153721949484,
          1.8283110099474629,
          3.682327946158813,
          -0.9691517727206034,
          1.6362231530639637,
          4.0060188110021056,
          -1.891301622765302,
          -2.246279925628022
         ],
         "yaxis": "y"
        },
        {
         "hovertemplate": "variable=Prediction<br>Date=%{x}<br>value=%{y}<extra></extra>",
         "legendgroup": "Prediction",
         "line": {
          "color": "#EF553B",
          "dash": "solid"
         },
         "marker": {
          "symbol": "circle"
         },
         "mode": "lines",
         "name": "Prediction",
         "orientation": "v",
         "showlegend": true,
         "type": "scatter",
         "x": [
          "2020-01-15",
          "2020-02-15",
          "2020-03-15",
          "2020-04-15",
          "2020-05-15",
          "2020-06-15",
          "2020-07-15",
          "2020-08-15",
          "2020-09-15",
          "2020-10-15",
          "2020-11-15",
          "2020-12-15",
          "2021-01-15",
          "2021-02-15",
          "2021-03-15",
          "2021-04-15",
          "2021-05-15",
          "2021-06-15",
          "2021-07-15",
          "2021-08-15",
          "2021-09-15",
          "2021-10-15",
          "2021-11-15",
          "2021-12-15",
          "2022-01-15",
          "2022-02-15",
          "2022-03-15",
          "2022-04-15",
          "2022-05-15",
          "2022-06-15",
          "2022-07-15"
         ],
         "xaxis": "x",
         "y": [
          0.1599549949169159,
          0.140760138630867,
          0.07473184913396835,
          0.03354388102889061,
          0.08115193247795105,
          0.072419673204422,
          0.09202245622873306,
          0.08076127618551254,
          0.054988402873277664,
          0.11091012507677078,
          0.09905388951301575,
          0.07666433602571487,
          -0.0013823732733726501,
          0.028227251023054123,
          0.11393838375806808,
          0.1537724733352661,
          0.11418597400188446,
          0.13497942686080933,
          0.11885219067335129,
          0.09806744754314423,
          0.13167627155780792,
          0.14583083987236023,
          0.16417717933654785,
          0.17326033115386963,
          0.17125263810157776,
          0.2000642716884613,
          0.20594237744808197,
          0.20273295044898987,
          0.2060876190662384,
          0.17683133482933044,
          0.20621782541275024
         ],
         "yaxis": "y"
        }
       ],
       "layout": {
        "legend": {
         "title": {
          "text": "variable"
         },
         "tracegroupgap": 0
        },
        "template": {
         "data": {
          "bar": [
           {
            "error_x": {
             "color": "#2a3f5f"
            },
            "error_y": {
             "color": "#2a3f5f"
            },
            "marker": {
             "line": {
              "color": "#E5ECF6",
              "width": 0.5
             },
             "pattern": {
              "fillmode": "overlay",
              "size": 10,
              "solidity": 0.2
             }
            },
            "type": "bar"
           }
          ],
          "barpolar": [
           {
            "marker": {
             "line": {
              "color": "#E5ECF6",
              "width": 0.5
             },
             "pattern": {
              "fillmode": "overlay",
              "size": 10,
              "solidity": 0.2
             }
            },
            "type": "barpolar"
           }
          ],
          "carpet": [
           {
            "aaxis": {
             "endlinecolor": "#2a3f5f",
             "gridcolor": "white",
             "linecolor": "white",
             "minorgridcolor": "white",
             "startlinecolor": "#2a3f5f"
            },
            "baxis": {
             "endlinecolor": "#2a3f5f",
             "gridcolor": "white",
             "linecolor": "white",
             "minorgridcolor": "white",
             "startlinecolor": "#2a3f5f"
            },
            "type": "carpet"
           }
          ],
          "choropleth": [
           {
            "colorbar": {
             "outlinewidth": 0,
             "ticks": ""
            },
            "type": "choropleth"
           }
          ],
          "contour": [
           {
            "colorbar": {
             "outlinewidth": 0,
             "ticks": ""
            },
            "colorscale": [
             [
              0,
              "#0d0887"
             ],
             [
              0.1111111111111111,
              "#46039f"
             ],
             [
              0.2222222222222222,
              "#7201a8"
             ],
             [
              0.3333333333333333,
              "#9c179e"
             ],
             [
              0.4444444444444444,
              "#bd3786"
             ],
             [
              0.5555555555555556,
              "#d8576b"
             ],
             [
              0.6666666666666666,
              "#ed7953"
             ],
             [
              0.7777777777777778,
              "#fb9f3a"
             ],
             [
              0.8888888888888888,
              "#fdca26"
             ],
             [
              1,
              "#f0f921"
             ]
            ],
            "type": "contour"
           }
          ],
          "contourcarpet": [
           {
            "colorbar": {
             "outlinewidth": 0,
             "ticks": ""
            },
            "type": "contourcarpet"
           }
          ],
          "heatmap": [
           {
            "colorbar": {
             "outlinewidth": 0,
             "ticks": ""
            },
            "colorscale": [
             [
              0,
              "#0d0887"
             ],
             [
              0.1111111111111111,
              "#46039f"
             ],
             [
              0.2222222222222222,
              "#7201a8"
             ],
             [
              0.3333333333333333,
              "#9c179e"
             ],
             [
              0.4444444444444444,
              "#bd3786"
             ],
             [
              0.5555555555555556,
              "#d8576b"
             ],
             [
              0.6666666666666666,
              "#ed7953"
             ],
             [
              0.7777777777777778,
              "#fb9f3a"
             ],
             [
              0.8888888888888888,
              "#fdca26"
             ],
             [
              1,
              "#f0f921"
             ]
            ],
            "type": "heatmap"
           }
          ],
          "heatmapgl": [
           {
            "colorbar": {
             "outlinewidth": 0,
             "ticks": ""
            },
            "colorscale": [
             [
              0,
              "#0d0887"
             ],
             [
              0.1111111111111111,
              "#46039f"
             ],
             [
              0.2222222222222222,
              "#7201a8"
             ],
             [
              0.3333333333333333,
              "#9c179e"
             ],
             [
              0.4444444444444444,
              "#bd3786"
             ],
             [
              0.5555555555555556,
              "#d8576b"
             ],
             [
              0.6666666666666666,
              "#ed7953"
             ],
             [
              0.7777777777777778,
              "#fb9f3a"
             ],
             [
              0.8888888888888888,
              "#fdca26"
             ],
             [
              1,
              "#f0f921"
             ]
            ],
            "type": "heatmapgl"
           }
          ],
          "histogram": [
           {
            "marker": {
             "pattern": {
              "fillmode": "overlay",
              "size": 10,
              "solidity": 0.2
             }
            },
            "type": "histogram"
           }
          ],
          "histogram2d": [
           {
            "colorbar": {
             "outlinewidth": 0,
             "ticks": ""
            },
            "colorscale": [
             [
              0,
              "#0d0887"
             ],
             [
              0.1111111111111111,
              "#46039f"
             ],
             [
              0.2222222222222222,
              "#7201a8"
             ],
             [
              0.3333333333333333,
              "#9c179e"
             ],
             [
              0.4444444444444444,
              "#bd3786"
             ],
             [
              0.5555555555555556,
              "#d8576b"
             ],
             [
              0.6666666666666666,
              "#ed7953"
             ],
             [
              0.7777777777777778,
              "#fb9f3a"
             ],
             [
              0.8888888888888888,
              "#fdca26"
             ],
             [
              1,
              "#f0f921"
             ]
            ],
            "type": "histogram2d"
           }
          ],
          "histogram2dcontour": [
           {
            "colorbar": {
             "outlinewidth": 0,
             "ticks": ""
            },
            "colorscale": [
             [
              0,
              "#0d0887"
             ],
             [
              0.1111111111111111,
              "#46039f"
             ],
             [
              0.2222222222222222,
              "#7201a8"
             ],
             [
              0.3333333333333333,
              "#9c179e"
             ],
             [
              0.4444444444444444,
              "#bd3786"
             ],
             [
              0.5555555555555556,
              "#d8576b"
             ],
             [
              0.6666666666666666,
              "#ed7953"
             ],
             [
              0.7777777777777778,
              "#fb9f3a"
             ],
             [
              0.8888888888888888,
              "#fdca26"
             ],
             [
              1,
              "#f0f921"
             ]
            ],
            "type": "histogram2dcontour"
           }
          ],
          "mesh3d": [
           {
            "colorbar": {
             "outlinewidth": 0,
             "ticks": ""
            },
            "type": "mesh3d"
           }
          ],
          "parcoords": [
           {
            "line": {
             "colorbar": {
              "outlinewidth": 0,
              "ticks": ""
             }
            },
            "type": "parcoords"
           }
          ],
          "pie": [
           {
            "automargin": true,
            "type": "pie"
           }
          ],
          "scatter": [
           {
            "fillpattern": {
             "fillmode": "overlay",
             "size": 10,
             "solidity": 0.2
            },
            "type": "scatter"
           }
          ],
          "scatter3d": [
           {
            "line": {
             "colorbar": {
              "outlinewidth": 0,
              "ticks": ""
             }
            },
            "marker": {
             "colorbar": {
              "outlinewidth": 0,
              "ticks": ""
             }
            },
            "type": "scatter3d"
           }
          ],
          "scattercarpet": [
           {
            "marker": {
             "colorbar": {
              "outlinewidth": 0,
              "ticks": ""
             }
            },
            "type": "scattercarpet"
           }
          ],
          "scattergeo": [
           {
            "marker": {
             "colorbar": {
              "outlinewidth": 0,
              "ticks": ""
             }
            },
            "type": "scattergeo"
           }
          ],
          "scattergl": [
           {
            "marker": {
             "colorbar": {
              "outlinewidth": 0,
              "ticks": ""
             }
            },
            "type": "scattergl"
           }
          ],
          "scattermapbox": [
           {
            "marker": {
             "colorbar": {
              "outlinewidth": 0,
              "ticks": ""
             }
            },
            "type": "scattermapbox"
           }
          ],
          "scatterpolar": [
           {
            "marker": {
             "colorbar": {
              "outlinewidth": 0,
              "ticks": ""
             }
            },
            "type": "scatterpolar"
           }
          ],
          "scatterpolargl": [
           {
            "marker": {
             "colorbar": {
              "outlinewidth": 0,
              "ticks": ""
             }
            },
            "type": "scatterpolargl"
           }
          ],
          "scatterternary": [
           {
            "marker": {
             "colorbar": {
              "outlinewidth": 0,
              "ticks": ""
             }
            },
            "type": "scatterternary"
           }
          ],
          "surface": [
           {
            "colorbar": {
             "outlinewidth": 0,
             "ticks": ""
            },
            "colorscale": [
             [
              0,
              "#0d0887"
             ],
             [
              0.1111111111111111,
              "#46039f"
             ],
             [
              0.2222222222222222,
              "#7201a8"
             ],
             [
              0.3333333333333333,
              "#9c179e"
             ],
             [
              0.4444444444444444,
              "#bd3786"
             ],
             [
              0.5555555555555556,
              "#d8576b"
             ],
             [
              0.6666666666666666,
              "#ed7953"
             ],
             [
              0.7777777777777778,
              "#fb9f3a"
             ],
             [
              0.8888888888888888,
              "#fdca26"
             ],
             [
              1,
              "#f0f921"
             ]
            ],
            "type": "surface"
           }
          ],
          "table": [
           {
            "cells": {
             "fill": {
              "color": "#EBF0F8"
             },
             "line": {
              "color": "white"
             }
            },
            "header": {
             "fill": {
              "color": "#C8D4E3"
             },
             "line": {
              "color": "white"
             }
            },
            "type": "table"
           }
          ]
         },
         "layout": {
          "annotationdefaults": {
           "arrowcolor": "#2a3f5f",
           "arrowhead": 0,
           "arrowwidth": 1
          },
          "autotypenumbers": "strict",
          "coloraxis": {
           "colorbar": {
            "outlinewidth": 0,
            "ticks": ""
           }
          },
          "colorscale": {
           "diverging": [
            [
             0,
             "#8e0152"
            ],
            [
             0.1,
             "#c51b7d"
            ],
            [
             0.2,
             "#de77ae"
            ],
            [
             0.3,
             "#f1b6da"
            ],
            [
             0.4,
             "#fde0ef"
            ],
            [
             0.5,
             "#f7f7f7"
            ],
            [
             0.6,
             "#e6f5d0"
            ],
            [
             0.7,
             "#b8e186"
            ],
            [
             0.8,
             "#7fbc41"
            ],
            [
             0.9,
             "#4d9221"
            ],
            [
             1,
             "#276419"
            ]
           ],
           "sequential": [
            [
             0,
             "#0d0887"
            ],
            [
             0.1111111111111111,
             "#46039f"
            ],
            [
             0.2222222222222222,
             "#7201a8"
            ],
            [
             0.3333333333333333,
             "#9c179e"
            ],
            [
             0.4444444444444444,
             "#bd3786"
            ],
            [
             0.5555555555555556,
             "#d8576b"
            ],
            [
             0.6666666666666666,
             "#ed7953"
            ],
            [
             0.7777777777777778,
             "#fb9f3a"
            ],
            [
             0.8888888888888888,
             "#fdca26"
            ],
            [
             1,
             "#f0f921"
            ]
           ],
           "sequentialminus": [
            [
             0,
             "#0d0887"
            ],
            [
             0.1111111111111111,
             "#46039f"
            ],
            [
             0.2222222222222222,
             "#7201a8"
            ],
            [
             0.3333333333333333,
             "#9c179e"
            ],
            [
             0.4444444444444444,
             "#bd3786"
            ],
            [
             0.5555555555555556,
             "#d8576b"
            ],
            [
             0.6666666666666666,
             "#ed7953"
            ],
            [
             0.7777777777777778,
             "#fb9f3a"
            ],
            [
             0.8888888888888888,
             "#fdca26"
            ],
            [
             1,
             "#f0f921"
            ]
           ]
          },
          "colorway": [
           "#636efa",
           "#EF553B",
           "#00cc96",
           "#ab63fa",
           "#FFA15A",
           "#19d3f3",
           "#FF6692",
           "#B6E880",
           "#FF97FF",
           "#FECB52"
          ],
          "font": {
           "color": "#2a3f5f"
          },
          "geo": {
           "bgcolor": "white",
           "lakecolor": "white",
           "landcolor": "#E5ECF6",
           "showlakes": true,
           "showland": true,
           "subunitcolor": "white"
          },
          "hoverlabel": {
           "align": "left"
          },
          "hovermode": "closest",
          "mapbox": {
           "style": "light"
          },
          "paper_bgcolor": "white",
          "plot_bgcolor": "#E5ECF6",
          "polar": {
           "angularaxis": {
            "gridcolor": "white",
            "linecolor": "white",
            "ticks": ""
           },
           "bgcolor": "#E5ECF6",
           "radialaxis": {
            "gridcolor": "white",
            "linecolor": "white",
            "ticks": ""
           }
          },
          "scene": {
           "xaxis": {
            "backgroundcolor": "#E5ECF6",
            "gridcolor": "white",
            "gridwidth": 2,
            "linecolor": "white",
            "showbackground": true,
            "ticks": "",
            "zerolinecolor": "white"
           },
           "yaxis": {
            "backgroundcolor": "#E5ECF6",
            "gridcolor": "white",
            "gridwidth": 2,
            "linecolor": "white",
            "showbackground": true,
            "ticks": "",
            "zerolinecolor": "white"
           },
           "zaxis": {
            "backgroundcolor": "#E5ECF6",
            "gridcolor": "white",
            "gridwidth": 2,
            "linecolor": "white",
            "showbackground": true,
            "ticks": "",
            "zerolinecolor": "white"
           }
          },
          "shapedefaults": {
           "line": {
            "color": "#2a3f5f"
           }
          },
          "ternary": {
           "aaxis": {
            "gridcolor": "white",
            "linecolor": "white",
            "ticks": ""
           },
           "baxis": {
            "gridcolor": "white",
            "linecolor": "white",
            "ticks": ""
           },
           "bgcolor": "#E5ECF6",
           "caxis": {
            "gridcolor": "white",
            "linecolor": "white",
            "ticks": ""
           }
          },
          "title": {
           "x": 0.05
          },
          "xaxis": {
           "automargin": true,
           "gridcolor": "white",
           "linecolor": "white",
           "ticks": "",
           "title": {
            "standoff": 15
           },
           "zerolinecolor": "white",
           "zerolinewidth": 2
          },
          "yaxis": {
           "automargin": true,
           "gridcolor": "white",
           "linecolor": "white",
           "ticks": "",
           "title": {
            "standoff": 15
           },
           "zerolinecolor": "white",
           "zerolinewidth": 2
          }
         }
        },
        "title": {
         "text": "Private transportation - Actual VS Prediction"
        },
        "xaxis": {
         "anchor": "y",
         "domain": [
          0,
          1
         ],
         "title": {
          "text": "Date"
         }
        },
        "yaxis": {
         "anchor": "x",
         "domain": [
          0,
          1
         ],
         "title": {
          "text": "value"
         }
        }
       }
      }
     },
     "metadata": {},
     "output_type": "display_data"
    },
    {
     "data": {
      "application/vnd.plotly.v1+json": {
       "config": {
        "plotlyServerURL": "https://plot.ly"
       },
       "data": [
        {
         "hovertemplate": "variable=Actual<br>Date=%{x}<br>value=%{y}<extra></extra>",
         "legendgroup": "Actual",
         "line": {
          "color": "#636efa",
          "dash": "solid"
         },
         "marker": {
          "symbol": "circle"
         },
         "mode": "lines",
         "name": "Actual",
         "orientation": "v",
         "showlegend": true,
         "type": "scatter",
         "x": [
          "2020-01-15",
          "2020-02-15",
          "2020-03-15",
          "2020-04-15",
          "2020-05-15",
          "2020-06-15",
          "2020-07-15",
          "2020-08-15",
          "2020-09-15",
          "2020-10-15",
          "2020-11-15",
          "2020-12-15",
          "2021-01-15",
          "2021-02-15",
          "2021-03-15",
          "2021-04-15",
          "2021-05-15",
          "2021-06-15",
          "2021-07-15",
          "2021-08-15",
          "2021-09-15",
          "2021-10-15",
          "2021-11-15",
          "2021-12-15",
          "2022-01-15",
          "2022-02-15",
          "2022-03-15",
          "2022-04-15",
          "2022-05-15",
          "2022-06-15",
          "2022-07-15"
         ],
         "xaxis": "x",
         "y": [
          -0.5679980822495679,
          -0.893093657843226,
          -0.3522036529951508,
          -0.5804552961232271,
          0.05337006675950059,
          0.11426860456844781,
          -0.08226023131124903,
          1.4323785434019471,
          0.7533086259447849,
          1.1071409271349677,
          0.37776623446261115,
          -0.4092293172193444,
          1.3542395056523304,
          0.7326819043143675,
          1.2603821619860636,
          0.7272449218946786,
          0.3106024361779816,
          0.7748797119097911,
          1.0899935850013671,
          1.3265100323101209,
          3.2406132495346385,
          0.4095478685498164,
          -0.2997302033329711,
          2.9435030256772747,
          -0.06036721430229382,
          2.559260962328893,
          1.4578895001690317,
          3.6297703312013816,
          3.1195716910439613,
          -0.4470779772685604,
          1.754051407313723
         ],
         "yaxis": "y"
        },
        {
         "hovertemplate": "variable=Prediction<br>Date=%{x}<br>value=%{y}<extra></extra>",
         "legendgroup": "Prediction",
         "line": {
          "color": "#EF553B",
          "dash": "solid"
         },
         "marker": {
          "symbol": "circle"
         },
         "mode": "lines",
         "name": "Prediction",
         "orientation": "v",
         "showlegend": true,
         "type": "scatter",
         "x": [
          "2020-01-15",
          "2020-02-15",
          "2020-03-15",
          "2020-04-15",
          "2020-05-15",
          "2020-06-15",
          "2020-07-15",
          "2020-08-15",
          "2020-09-15",
          "2020-10-15",
          "2020-11-15",
          "2020-12-15",
          "2021-01-15",
          "2021-02-15",
          "2021-03-15",
          "2021-04-15",
          "2021-05-15",
          "2021-06-15",
          "2021-07-15",
          "2021-08-15",
          "2021-09-15",
          "2021-10-15",
          "2021-11-15",
          "2021-12-15",
          "2022-01-15",
          "2022-02-15",
          "2022-03-15",
          "2022-04-15",
          "2022-05-15",
          "2022-06-15",
          "2022-07-15"
         ],
         "xaxis": "x",
         "y": [
          0.053189996629953384,
          0.44413360953330994,
          0.2676602900028229,
          -0.1515026092529297,
          -0.22148555517196655,
          0.5464842319488525,
          0.546147346496582,
          0.412678599357605,
          0.2481507956981659,
          0.35705047845840454,
          0.4167879819869995,
          0.3524809181690216,
          -0.5779104232788086,
          -0.7333155870437622,
          -0.08408989757299423,
          0.14201128482818604,
          0.21053603291511536,
          -0.1773143708705902,
          0.250930517911911,
          0.26449117064476013,
          0.10001185536384583,
          0.13969352841377258,
          0.424184113740921,
          0.09444928169250488,
          -0.32168546319007874,
          -0.15295621752738953,
          0.33051615953445435,
          0.30740946531295776,
          0.2440566122531891,
          -0.0043225884437561035,
          0.13697560131549835
         ],
         "yaxis": "y"
        }
       ],
       "layout": {
        "legend": {
         "title": {
          "text": "variable"
         },
         "tracegroupgap": 0
        },
        "template": {
         "data": {
          "bar": [
           {
            "error_x": {
             "color": "#2a3f5f"
            },
            "error_y": {
             "color": "#2a3f5f"
            },
            "marker": {
             "line": {
              "color": "#E5ECF6",
              "width": 0.5
             },
             "pattern": {
              "fillmode": "overlay",
              "size": 10,
              "solidity": 0.2
             }
            },
            "type": "bar"
           }
          ],
          "barpolar": [
           {
            "marker": {
             "line": {
              "color": "#E5ECF6",
              "width": 0.5
             },
             "pattern": {
              "fillmode": "overlay",
              "size": 10,
              "solidity": 0.2
             }
            },
            "type": "barpolar"
           }
          ],
          "carpet": [
           {
            "aaxis": {
             "endlinecolor": "#2a3f5f",
             "gridcolor": "white",
             "linecolor": "white",
             "minorgridcolor": "white",
             "startlinecolor": "#2a3f5f"
            },
            "baxis": {
             "endlinecolor": "#2a3f5f",
             "gridcolor": "white",
             "linecolor": "white",
             "minorgridcolor": "white",
             "startlinecolor": "#2a3f5f"
            },
            "type": "carpet"
           }
          ],
          "choropleth": [
           {
            "colorbar": {
             "outlinewidth": 0,
             "ticks": ""
            },
            "type": "choropleth"
           }
          ],
          "contour": [
           {
            "colorbar": {
             "outlinewidth": 0,
             "ticks": ""
            },
            "colorscale": [
             [
              0,
              "#0d0887"
             ],
             [
              0.1111111111111111,
              "#46039f"
             ],
             [
              0.2222222222222222,
              "#7201a8"
             ],
             [
              0.3333333333333333,
              "#9c179e"
             ],
             [
              0.4444444444444444,
              "#bd3786"
             ],
             [
              0.5555555555555556,
              "#d8576b"
             ],
             [
              0.6666666666666666,
              "#ed7953"
             ],
             [
              0.7777777777777778,
              "#fb9f3a"
             ],
             [
              0.8888888888888888,
              "#fdca26"
             ],
             [
              1,
              "#f0f921"
             ]
            ],
            "type": "contour"
           }
          ],
          "contourcarpet": [
           {
            "colorbar": {
             "outlinewidth": 0,
             "ticks": ""
            },
            "type": "contourcarpet"
           }
          ],
          "heatmap": [
           {
            "colorbar": {
             "outlinewidth": 0,
             "ticks": ""
            },
            "colorscale": [
             [
              0,
              "#0d0887"
             ],
             [
              0.1111111111111111,
              "#46039f"
             ],
             [
              0.2222222222222222,
              "#7201a8"
             ],
             [
              0.3333333333333333,
              "#9c179e"
             ],
             [
              0.4444444444444444,
              "#bd3786"
             ],
             [
              0.5555555555555556,
              "#d8576b"
             ],
             [
              0.6666666666666666,
              "#ed7953"
             ],
             [
              0.7777777777777778,
              "#fb9f3a"
             ],
             [
              0.8888888888888888,
              "#fdca26"
             ],
             [
              1,
              "#f0f921"
             ]
            ],
            "type": "heatmap"
           }
          ],
          "heatmapgl": [
           {
            "colorbar": {
             "outlinewidth": 0,
             "ticks": ""
            },
            "colorscale": [
             [
              0,
              "#0d0887"
             ],
             [
              0.1111111111111111,
              "#46039f"
             ],
             [
              0.2222222222222222,
              "#7201a8"
             ],
             [
              0.3333333333333333,
              "#9c179e"
             ],
             [
              0.4444444444444444,
              "#bd3786"
             ],
             [
              0.5555555555555556,
              "#d8576b"
             ],
             [
              0.6666666666666666,
              "#ed7953"
             ],
             [
              0.7777777777777778,
              "#fb9f3a"
             ],
             [
              0.8888888888888888,
              "#fdca26"
             ],
             [
              1,
              "#f0f921"
             ]
            ],
            "type": "heatmapgl"
           }
          ],
          "histogram": [
           {
            "marker": {
             "pattern": {
              "fillmode": "overlay",
              "size": 10,
              "solidity": 0.2
             }
            },
            "type": "histogram"
           }
          ],
          "histogram2d": [
           {
            "colorbar": {
             "outlinewidth": 0,
             "ticks": ""
            },
            "colorscale": [
             [
              0,
              "#0d0887"
             ],
             [
              0.1111111111111111,
              "#46039f"
             ],
             [
              0.2222222222222222,
              "#7201a8"
             ],
             [
              0.3333333333333333,
              "#9c179e"
             ],
             [
              0.4444444444444444,
              "#bd3786"
             ],
             [
              0.5555555555555556,
              "#d8576b"
             ],
             [
              0.6666666666666666,
              "#ed7953"
             ],
             [
              0.7777777777777778,
              "#fb9f3a"
             ],
             [
              0.8888888888888888,
              "#fdca26"
             ],
             [
              1,
              "#f0f921"
             ]
            ],
            "type": "histogram2d"
           }
          ],
          "histogram2dcontour": [
           {
            "colorbar": {
             "outlinewidth": 0,
             "ticks": ""
            },
            "colorscale": [
             [
              0,
              "#0d0887"
             ],
             [
              0.1111111111111111,
              "#46039f"
             ],
             [
              0.2222222222222222,
              "#7201a8"
             ],
             [
              0.3333333333333333,
              "#9c179e"
             ],
             [
              0.4444444444444444,
              "#bd3786"
             ],
             [
              0.5555555555555556,
              "#d8576b"
             ],
             [
              0.6666666666666666,
              "#ed7953"
             ],
             [
              0.7777777777777778,
              "#fb9f3a"
             ],
             [
              0.8888888888888888,
              "#fdca26"
             ],
             [
              1,
              "#f0f921"
             ]
            ],
            "type": "histogram2dcontour"
           }
          ],
          "mesh3d": [
           {
            "colorbar": {
             "outlinewidth": 0,
             "ticks": ""
            },
            "type": "mesh3d"
           }
          ],
          "parcoords": [
           {
            "line": {
             "colorbar": {
              "outlinewidth": 0,
              "ticks": ""
             }
            },
            "type": "parcoords"
           }
          ],
          "pie": [
           {
            "automargin": true,
            "type": "pie"
           }
          ],
          "scatter": [
           {
            "fillpattern": {
             "fillmode": "overlay",
             "size": 10,
             "solidity": 0.2
            },
            "type": "scatter"
           }
          ],
          "scatter3d": [
           {
            "line": {
             "colorbar": {
              "outlinewidth": 0,
              "ticks": ""
             }
            },
            "marker": {
             "colorbar": {
              "outlinewidth": 0,
              "ticks": ""
             }
            },
            "type": "scatter3d"
           }
          ],
          "scattercarpet": [
           {
            "marker": {
             "colorbar": {
              "outlinewidth": 0,
              "ticks": ""
             }
            },
            "type": "scattercarpet"
           }
          ],
          "scattergeo": [
           {
            "marker": {
             "colorbar": {
              "outlinewidth": 0,
              "ticks": ""
             }
            },
            "type": "scattergeo"
           }
          ],
          "scattergl": [
           {
            "marker": {
             "colorbar": {
              "outlinewidth": 0,
              "ticks": ""
             }
            },
            "type": "scattergl"
           }
          ],
          "scattermapbox": [
           {
            "marker": {
             "colorbar": {
              "outlinewidth": 0,
              "ticks": ""
             }
            },
            "type": "scattermapbox"
           }
          ],
          "scatterpolar": [
           {
            "marker": {
             "colorbar": {
              "outlinewidth": 0,
              "ticks": ""
             }
            },
            "type": "scatterpolar"
           }
          ],
          "scatterpolargl": [
           {
            "marker": {
             "colorbar": {
              "outlinewidth": 0,
              "ticks": ""
             }
            },
            "type": "scatterpolargl"
           }
          ],
          "scatterternary": [
           {
            "marker": {
             "colorbar": {
              "outlinewidth": 0,
              "ticks": ""
             }
            },
            "type": "scatterternary"
           }
          ],
          "surface": [
           {
            "colorbar": {
             "outlinewidth": 0,
             "ticks": ""
            },
            "colorscale": [
             [
              0,
              "#0d0887"
             ],
             [
              0.1111111111111111,
              "#46039f"
             ],
             [
              0.2222222222222222,
              "#7201a8"
             ],
             [
              0.3333333333333333,
              "#9c179e"
             ],
             [
              0.4444444444444444,
              "#bd3786"
             ],
             [
              0.5555555555555556,
              "#d8576b"
             ],
             [
              0.6666666666666666,
              "#ed7953"
             ],
             [
              0.7777777777777778,
              "#fb9f3a"
             ],
             [
              0.8888888888888888,
              "#fdca26"
             ],
             [
              1,
              "#f0f921"
             ]
            ],
            "type": "surface"
           }
          ],
          "table": [
           {
            "cells": {
             "fill": {
              "color": "#EBF0F8"
             },
             "line": {
              "color": "white"
             }
            },
            "header": {
             "fill": {
              "color": "#C8D4E3"
             },
             "line": {
              "color": "white"
             }
            },
            "type": "table"
           }
          ]
         },
         "layout": {
          "annotationdefaults": {
           "arrowcolor": "#2a3f5f",
           "arrowhead": 0,
           "arrowwidth": 1
          },
          "autotypenumbers": "strict",
          "coloraxis": {
           "colorbar": {
            "outlinewidth": 0,
            "ticks": ""
           }
          },
          "colorscale": {
           "diverging": [
            [
             0,
             "#8e0152"
            ],
            [
             0.1,
             "#c51b7d"
            ],
            [
             0.2,
             "#de77ae"
            ],
            [
             0.3,
             "#f1b6da"
            ],
            [
             0.4,
             "#fde0ef"
            ],
            [
             0.5,
             "#f7f7f7"
            ],
            [
             0.6,
             "#e6f5d0"
            ],
            [
             0.7,
             "#b8e186"
            ],
            [
             0.8,
             "#7fbc41"
            ],
            [
             0.9,
             "#4d9221"
            ],
            [
             1,
             "#276419"
            ]
           ],
           "sequential": [
            [
             0,
             "#0d0887"
            ],
            [
             0.1111111111111111,
             "#46039f"
            ],
            [
             0.2222222222222222,
             "#7201a8"
            ],
            [
             0.3333333333333333,
             "#9c179e"
            ],
            [
             0.4444444444444444,
             "#bd3786"
            ],
            [
             0.5555555555555556,
             "#d8576b"
            ],
            [
             0.6666666666666666,
             "#ed7953"
            ],
            [
             0.7777777777777778,
             "#fb9f3a"
            ],
            [
             0.8888888888888888,
             "#fdca26"
            ],
            [
             1,
             "#f0f921"
            ]
           ],
           "sequentialminus": [
            [
             0,
             "#0d0887"
            ],
            [
             0.1111111111111111,
             "#46039f"
            ],
            [
             0.2222222222222222,
             "#7201a8"
            ],
            [
             0.3333333333333333,
             "#9c179e"
            ],
            [
             0.4444444444444444,
             "#bd3786"
            ],
            [
             0.5555555555555556,
             "#d8576b"
            ],
            [
             0.6666666666666666,
             "#ed7953"
            ],
            [
             0.7777777777777778,
             "#fb9f3a"
            ],
            [
             0.8888888888888888,
             "#fdca26"
            ],
            [
             1,
             "#f0f921"
            ]
           ]
          },
          "colorway": [
           "#636efa",
           "#EF553B",
           "#00cc96",
           "#ab63fa",
           "#FFA15A",
           "#19d3f3",
           "#FF6692",
           "#B6E880",
           "#FF97FF",
           "#FECB52"
          ],
          "font": {
           "color": "#2a3f5f"
          },
          "geo": {
           "bgcolor": "white",
           "lakecolor": "white",
           "landcolor": "#E5ECF6",
           "showlakes": true,
           "showland": true,
           "subunitcolor": "white"
          },
          "hoverlabel": {
           "align": "left"
          },
          "hovermode": "closest",
          "mapbox": {
           "style": "light"
          },
          "paper_bgcolor": "white",
          "plot_bgcolor": "#E5ECF6",
          "polar": {
           "angularaxis": {
            "gridcolor": "white",
            "linecolor": "white",
            "ticks": ""
           },
           "bgcolor": "#E5ECF6",
           "radialaxis": {
            "gridcolor": "white",
            "linecolor": "white",
            "ticks": ""
           }
          },
          "scene": {
           "xaxis": {
            "backgroundcolor": "#E5ECF6",
            "gridcolor": "white",
            "gridwidth": 2,
            "linecolor": "white",
            "showbackground": true,
            "ticks": "",
            "zerolinecolor": "white"
           },
           "yaxis": {
            "backgroundcolor": "#E5ECF6",
            "gridcolor": "white",
            "gridwidth": 2,
            "linecolor": "white",
            "showbackground": true,
            "ticks": "",
            "zerolinecolor": "white"
           },
           "zaxis": {
            "backgroundcolor": "#E5ECF6",
            "gridcolor": "white",
            "gridwidth": 2,
            "linecolor": "white",
            "showbackground": true,
            "ticks": "",
            "zerolinecolor": "white"
           }
          },
          "shapedefaults": {
           "line": {
            "color": "#2a3f5f"
           }
          },
          "ternary": {
           "aaxis": {
            "gridcolor": "white",
            "linecolor": "white",
            "ticks": ""
           },
           "baxis": {
            "gridcolor": "white",
            "linecolor": "white",
            "ticks": ""
           },
           "bgcolor": "#E5ECF6",
           "caxis": {
            "gridcolor": "white",
            "linecolor": "white",
            "ticks": ""
           }
          },
          "title": {
           "x": 0.05
          },
          "xaxis": {
           "automargin": true,
           "gridcolor": "white",
           "linecolor": "white",
           "ticks": "",
           "title": {
            "standoff": 15
           },
           "zerolinecolor": "white",
           "zerolinewidth": 2
          },
          "yaxis": {
           "automargin": true,
           "gridcolor": "white",
           "linecolor": "white",
           "ticks": "",
           "title": {
            "standoff": 15
           },
           "zerolinecolor": "white",
           "zerolinewidth": 2
          }
         }
        },
        "title": {
         "text": "Household energy - Actual VS Prediction"
        },
        "xaxis": {
         "anchor": "y",
         "domain": [
          0,
          1
         ],
         "title": {
          "text": "Date"
         }
        },
        "yaxis": {
         "anchor": "x",
         "domain": [
          0,
          1
         ],
         "title": {
          "text": "value"
         }
        }
       }
      }
     },
     "metadata": {},
     "output_type": "display_data"
    },
    {
     "data": {
      "application/vnd.plotly.v1+json": {
       "config": {
        "plotlyServerURL": "https://plot.ly"
       },
       "data": [
        {
         "hovertemplate": "variable=Actual<br>Date=%{x}<br>value=%{y}<extra></extra>",
         "legendgroup": "Actual",
         "line": {
          "color": "#636efa",
          "dash": "solid"
         },
         "marker": {
          "symbol": "circle"
         },
         "mode": "lines",
         "name": "Actual",
         "orientation": "v",
         "showlegend": true,
         "type": "scatter",
         "x": [
          "2020-01-15",
          "2020-02-15",
          "2020-03-15",
          "2020-04-15",
          "2020-05-15",
          "2020-06-15",
          "2020-07-15",
          "2020-08-15",
          "2020-09-15",
          "2020-10-15",
          "2020-11-15",
          "2020-12-15",
          "2021-01-15",
          "2021-02-15",
          "2021-03-15",
          "2021-04-15",
          "2021-05-15",
          "2021-06-15",
          "2021-07-15",
          "2021-08-15",
          "2021-09-15",
          "2021-10-15",
          "2021-11-15",
          "2021-12-15",
          "2022-01-15",
          "2022-02-15",
          "2022-03-15",
          "2022-04-15",
          "2022-05-15",
          "2022-06-15",
          "2022-07-15"
         ],
         "xaxis": "x",
         "y": [
          0.0888253867273281,
          -0.4243695476884485,
          -0.7982839095760721,
          -0.05237751013874209,
          0.5637639643680044,
          0.5849568078433953,
          0.3695963343394961,
          0.20311996058165832,
          0.04456961578694466,
          0.18881615612303398,
          0.3666344196335789,
          0.17404385259207927,
          0.35402174807311587,
          0.6182376487946436,
          0.7670858211099325,
          0.6421593166671076,
          0.9007867674829257,
          0.472714899332691,
          0.2739893548826449,
          0.41158789713215976,
          0.9388990335051824,
          0.7760962202460149,
          0.4693500688632303,
          0.6194371596633065,
          0.7945423921136254,
          1.23311989359249,
          0.3313840821094261,
          0.9690890252366852,
          1.3135795095667802,
          -0.019302437077254427,
          0.11812670715330303
         ],
         "yaxis": "y"
        },
        {
         "hovertemplate": "variable=Prediction<br>Date=%{x}<br>value=%{y}<extra></extra>",
         "legendgroup": "Prediction",
         "line": {
          "color": "#EF553B",
          "dash": "solid"
         },
         "marker": {
          "symbol": "circle"
         },
         "mode": "lines",
         "name": "Prediction",
         "orientation": "v",
         "showlegend": true,
         "type": "scatter",
         "x": [
          "2020-01-15",
          "2020-02-15",
          "2020-03-15",
          "2020-04-15",
          "2020-05-15",
          "2020-06-15",
          "2020-07-15",
          "2020-08-15",
          "2020-09-15",
          "2020-10-15",
          "2020-11-15",
          "2020-12-15",
          "2021-01-15",
          "2021-02-15",
          "2021-03-15",
          "2021-04-15",
          "2021-05-15",
          "2021-06-15",
          "2021-07-15",
          "2021-08-15",
          "2021-09-15",
          "2021-10-15",
          "2021-11-15",
          "2021-12-15",
          "2022-01-15",
          "2022-02-15",
          "2022-03-15",
          "2022-04-15",
          "2022-05-15",
          "2022-06-15",
          "2022-07-15"
         ],
         "xaxis": "x",
         "y": [
          0.20468616485595703,
          0.02203386276960373,
          -0.17206576466560364,
          -0.0036911144852638245,
          0.06961628049612045,
          0.10984084755182266,
          0.1083725169301033,
          0.20065706968307495,
          0.1306915581226349,
          -0.08905931562185287,
          0.12605559825897217,
          0.18965697288513184,
          -0.18605950474739075,
          0.0586392842233181,
          0.04618389904499054,
          0.20156359672546387,
          0.30715543031692505,
          0.17170822620391846,
          0.2622567117214203,
          0.5089187026023865,
          0.2802169620990753,
          0.19143140316009521,
          0.09475924074649811,
          0.1407727599143982,
          0.6483137607574463,
          0.01269455999135971,
          0.2910248637199402,
          0.20289120078086853,
          0.49614453315734863,
          0.6788034439086914,
          0.6814868450164795
         ],
         "yaxis": "y"
        }
       ],
       "layout": {
        "legend": {
         "title": {
          "text": "variable"
         },
         "tracegroupgap": 0
        },
        "template": {
         "data": {
          "bar": [
           {
            "error_x": {
             "color": "#2a3f5f"
            },
            "error_y": {
             "color": "#2a3f5f"
            },
            "marker": {
             "line": {
              "color": "#E5ECF6",
              "width": 0.5
             },
             "pattern": {
              "fillmode": "overlay",
              "size": 10,
              "solidity": 0.2
             }
            },
            "type": "bar"
           }
          ],
          "barpolar": [
           {
            "marker": {
             "line": {
              "color": "#E5ECF6",
              "width": 0.5
             },
             "pattern": {
              "fillmode": "overlay",
              "size": 10,
              "solidity": 0.2
             }
            },
            "type": "barpolar"
           }
          ],
          "carpet": [
           {
            "aaxis": {
             "endlinecolor": "#2a3f5f",
             "gridcolor": "white",
             "linecolor": "white",
             "minorgridcolor": "white",
             "startlinecolor": "#2a3f5f"
            },
            "baxis": {
             "endlinecolor": "#2a3f5f",
             "gridcolor": "white",
             "linecolor": "white",
             "minorgridcolor": "white",
             "startlinecolor": "#2a3f5f"
            },
            "type": "carpet"
           }
          ],
          "choropleth": [
           {
            "colorbar": {
             "outlinewidth": 0,
             "ticks": ""
            },
            "type": "choropleth"
           }
          ],
          "contour": [
           {
            "colorbar": {
             "outlinewidth": 0,
             "ticks": ""
            },
            "colorscale": [
             [
              0,
              "#0d0887"
             ],
             [
              0.1111111111111111,
              "#46039f"
             ],
             [
              0.2222222222222222,
              "#7201a8"
             ],
             [
              0.3333333333333333,
              "#9c179e"
             ],
             [
              0.4444444444444444,
              "#bd3786"
             ],
             [
              0.5555555555555556,
              "#d8576b"
             ],
             [
              0.6666666666666666,
              "#ed7953"
             ],
             [
              0.7777777777777778,
              "#fb9f3a"
             ],
             [
              0.8888888888888888,
              "#fdca26"
             ],
             [
              1,
              "#f0f921"
             ]
            ],
            "type": "contour"
           }
          ],
          "contourcarpet": [
           {
            "colorbar": {
             "outlinewidth": 0,
             "ticks": ""
            },
            "type": "contourcarpet"
           }
          ],
          "heatmap": [
           {
            "colorbar": {
             "outlinewidth": 0,
             "ticks": ""
            },
            "colorscale": [
             [
              0,
              "#0d0887"
             ],
             [
              0.1111111111111111,
              "#46039f"
             ],
             [
              0.2222222222222222,
              "#7201a8"
             ],
             [
              0.3333333333333333,
              "#9c179e"
             ],
             [
              0.4444444444444444,
              "#bd3786"
             ],
             [
              0.5555555555555556,
              "#d8576b"
             ],
             [
              0.6666666666666666,
              "#ed7953"
             ],
             [
              0.7777777777777778,
              "#fb9f3a"
             ],
             [
              0.8888888888888888,
              "#fdca26"
             ],
             [
              1,
              "#f0f921"
             ]
            ],
            "type": "heatmap"
           }
          ],
          "heatmapgl": [
           {
            "colorbar": {
             "outlinewidth": 0,
             "ticks": ""
            },
            "colorscale": [
             [
              0,
              "#0d0887"
             ],
             [
              0.1111111111111111,
              "#46039f"
             ],
             [
              0.2222222222222222,
              "#7201a8"
             ],
             [
              0.3333333333333333,
              "#9c179e"
             ],
             [
              0.4444444444444444,
              "#bd3786"
             ],
             [
              0.5555555555555556,
              "#d8576b"
             ],
             [
              0.6666666666666666,
              "#ed7953"
             ],
             [
              0.7777777777777778,
              "#fb9f3a"
             ],
             [
              0.8888888888888888,
              "#fdca26"
             ],
             [
              1,
              "#f0f921"
             ]
            ],
            "type": "heatmapgl"
           }
          ],
          "histogram": [
           {
            "marker": {
             "pattern": {
              "fillmode": "overlay",
              "size": 10,
              "solidity": 0.2
             }
            },
            "type": "histogram"
           }
          ],
          "histogram2d": [
           {
            "colorbar": {
             "outlinewidth": 0,
             "ticks": ""
            },
            "colorscale": [
             [
              0,
              "#0d0887"
             ],
             [
              0.1111111111111111,
              "#46039f"
             ],
             [
              0.2222222222222222,
              "#7201a8"
             ],
             [
              0.3333333333333333,
              "#9c179e"
             ],
             [
              0.4444444444444444,
              "#bd3786"
             ],
             [
              0.5555555555555556,
              "#d8576b"
             ],
             [
              0.6666666666666666,
              "#ed7953"
             ],
             [
              0.7777777777777778,
              "#fb9f3a"
             ],
             [
              0.8888888888888888,
              "#fdca26"
             ],
             [
              1,
              "#f0f921"
             ]
            ],
            "type": "histogram2d"
           }
          ],
          "histogram2dcontour": [
           {
            "colorbar": {
             "outlinewidth": 0,
             "ticks": ""
            },
            "colorscale": [
             [
              0,
              "#0d0887"
             ],
             [
              0.1111111111111111,
              "#46039f"
             ],
             [
              0.2222222222222222,
              "#7201a8"
             ],
             [
              0.3333333333333333,
              "#9c179e"
             ],
             [
              0.4444444444444444,
              "#bd3786"
             ],
             [
              0.5555555555555556,
              "#d8576b"
             ],
             [
              0.6666666666666666,
              "#ed7953"
             ],
             [
              0.7777777777777778,
              "#fb9f3a"
             ],
             [
              0.8888888888888888,
              "#fdca26"
             ],
             [
              1,
              "#f0f921"
             ]
            ],
            "type": "histogram2dcontour"
           }
          ],
          "mesh3d": [
           {
            "colorbar": {
             "outlinewidth": 0,
             "ticks": ""
            },
            "type": "mesh3d"
           }
          ],
          "parcoords": [
           {
            "line": {
             "colorbar": {
              "outlinewidth": 0,
              "ticks": ""
             }
            },
            "type": "parcoords"
           }
          ],
          "pie": [
           {
            "automargin": true,
            "type": "pie"
           }
          ],
          "scatter": [
           {
            "fillpattern": {
             "fillmode": "overlay",
             "size": 10,
             "solidity": 0.2
            },
            "type": "scatter"
           }
          ],
          "scatter3d": [
           {
            "line": {
             "colorbar": {
              "outlinewidth": 0,
              "ticks": ""
             }
            },
            "marker": {
             "colorbar": {
              "outlinewidth": 0,
              "ticks": ""
             }
            },
            "type": "scatter3d"
           }
          ],
          "scattercarpet": [
           {
            "marker": {
             "colorbar": {
              "outlinewidth": 0,
              "ticks": ""
             }
            },
            "type": "scattercarpet"
           }
          ],
          "scattergeo": [
           {
            "marker": {
             "colorbar": {
              "outlinewidth": 0,
              "ticks": ""
             }
            },
            "type": "scattergeo"
           }
          ],
          "scattergl": [
           {
            "marker": {
             "colorbar": {
              "outlinewidth": 0,
              "ticks": ""
             }
            },
            "type": "scattergl"
           }
          ],
          "scattermapbox": [
           {
            "marker": {
             "colorbar": {
              "outlinewidth": 0,
              "ticks": ""
             }
            },
            "type": "scattermapbox"
           }
          ],
          "scatterpolar": [
           {
            "marker": {
             "colorbar": {
              "outlinewidth": 0,
              "ticks": ""
             }
            },
            "type": "scatterpolar"
           }
          ],
          "scatterpolargl": [
           {
            "marker": {
             "colorbar": {
              "outlinewidth": 0,
              "ticks": ""
             }
            },
            "type": "scatterpolargl"
           }
          ],
          "scatterternary": [
           {
            "marker": {
             "colorbar": {
              "outlinewidth": 0,
              "ticks": ""
             }
            },
            "type": "scatterternary"
           }
          ],
          "surface": [
           {
            "colorbar": {
             "outlinewidth": 0,
             "ticks": ""
            },
            "colorscale": [
             [
              0,
              "#0d0887"
             ],
             [
              0.1111111111111111,
              "#46039f"
             ],
             [
              0.2222222222222222,
              "#7201a8"
             ],
             [
              0.3333333333333333,
              "#9c179e"
             ],
             [
              0.4444444444444444,
              "#bd3786"
             ],
             [
              0.5555555555555556,
              "#d8576b"
             ],
             [
              0.6666666666666666,
              "#ed7953"
             ],
             [
              0.7777777777777778,
              "#fb9f3a"
             ],
             [
              0.8888888888888888,
              "#fdca26"
             ],
             [
              1,
              "#f0f921"
             ]
            ],
            "type": "surface"
           }
          ],
          "table": [
           {
            "cells": {
             "fill": {
              "color": "#EBF0F8"
             },
             "line": {
              "color": "white"
             }
            },
            "header": {
             "fill": {
              "color": "#C8D4E3"
             },
             "line": {
              "color": "white"
             }
            },
            "type": "table"
           }
          ]
         },
         "layout": {
          "annotationdefaults": {
           "arrowcolor": "#2a3f5f",
           "arrowhead": 0,
           "arrowwidth": 1
          },
          "autotypenumbers": "strict",
          "coloraxis": {
           "colorbar": {
            "outlinewidth": 0,
            "ticks": ""
           }
          },
          "colorscale": {
           "diverging": [
            [
             0,
             "#8e0152"
            ],
            [
             0.1,
             "#c51b7d"
            ],
            [
             0.2,
             "#de77ae"
            ],
            [
             0.3,
             "#f1b6da"
            ],
            [
             0.4,
             "#fde0ef"
            ],
            [
             0.5,
             "#f7f7f7"
            ],
            [
             0.6,
             "#e6f5d0"
            ],
            [
             0.7,
             "#b8e186"
            ],
            [
             0.8,
             "#7fbc41"
            ],
            [
             0.9,
             "#4d9221"
            ],
            [
             1,
             "#276419"
            ]
           ],
           "sequential": [
            [
             0,
             "#0d0887"
            ],
            [
             0.1111111111111111,
             "#46039f"
            ],
            [
             0.2222222222222222,
             "#7201a8"
            ],
            [
             0.3333333333333333,
             "#9c179e"
            ],
            [
             0.4444444444444444,
             "#bd3786"
            ],
            [
             0.5555555555555556,
             "#d8576b"
            ],
            [
             0.6666666666666666,
             "#ed7953"
            ],
            [
             0.7777777777777778,
             "#fb9f3a"
            ],
            [
             0.8888888888888888,
             "#fdca26"
            ],
            [
             1,
             "#f0f921"
            ]
           ],
           "sequentialminus": [
            [
             0,
             "#0d0887"
            ],
            [
             0.1111111111111111,
             "#46039f"
            ],
            [
             0.2222222222222222,
             "#7201a8"
            ],
            [
             0.3333333333333333,
             "#9c179e"
            ],
            [
             0.4444444444444444,
             "#bd3786"
            ],
            [
             0.5555555555555556,
             "#d8576b"
            ],
            [
             0.6666666666666666,
             "#ed7953"
            ],
            [
             0.7777777777777778,
             "#fb9f3a"
            ],
            [
             0.8888888888888888,
             "#fdca26"
            ],
            [
             1,
             "#f0f921"
            ]
           ]
          },
          "colorway": [
           "#636efa",
           "#EF553B",
           "#00cc96",
           "#ab63fa",
           "#FFA15A",
           "#19d3f3",
           "#FF6692",
           "#B6E880",
           "#FF97FF",
           "#FECB52"
          ],
          "font": {
           "color": "#2a3f5f"
          },
          "geo": {
           "bgcolor": "white",
           "lakecolor": "white",
           "landcolor": "#E5ECF6",
           "showlakes": true,
           "showland": true,
           "subunitcolor": "white"
          },
          "hoverlabel": {
           "align": "left"
          },
          "hovermode": "closest",
          "mapbox": {
           "style": "light"
          },
          "paper_bgcolor": "white",
          "plot_bgcolor": "#E5ECF6",
          "polar": {
           "angularaxis": {
            "gridcolor": "white",
            "linecolor": "white",
            "ticks": ""
           },
           "bgcolor": "#E5ECF6",
           "radialaxis": {
            "gridcolor": "white",
            "linecolor": "white",
            "ticks": ""
           }
          },
          "scene": {
           "xaxis": {
            "backgroundcolor": "#E5ECF6",
            "gridcolor": "white",
            "gridwidth": 2,
            "linecolor": "white",
            "showbackground": true,
            "ticks": "",
            "zerolinecolor": "white"
           },
           "yaxis": {
            "backgroundcolor": "#E5ECF6",
            "gridcolor": "white",
            "gridwidth": 2,
            "linecolor": "white",
            "showbackground": true,
            "ticks": "",
            "zerolinecolor": "white"
           },
           "zaxis": {
            "backgroundcolor": "#E5ECF6",
            "gridcolor": "white",
            "gridwidth": 2,
            "linecolor": "white",
            "showbackground": true,
            "ticks": "",
            "zerolinecolor": "white"
           }
          },
          "shapedefaults": {
           "line": {
            "color": "#2a3f5f"
           }
          },
          "ternary": {
           "aaxis": {
            "gridcolor": "white",
            "linecolor": "white",
            "ticks": ""
           },
           "baxis": {
            "gridcolor": "white",
            "linecolor": "white",
            "ticks": ""
           },
           "bgcolor": "#E5ECF6",
           "caxis": {
            "gridcolor": "white",
            "linecolor": "white",
            "ticks": ""
           }
          },
          "title": {
           "x": 0.05
          },
          "xaxis": {
           "automargin": true,
           "gridcolor": "white",
           "linecolor": "white",
           "ticks": "",
           "title": {
            "standoff": 15
           },
           "zerolinecolor": "white",
           "zerolinewidth": 2
          },
          "yaxis": {
           "automargin": true,
           "gridcolor": "white",
           "linecolor": "white",
           "ticks": "",
           "title": {
            "standoff": 15
           },
           "zerolinecolor": "white",
           "zerolinewidth": 2
          }
         }
        },
        "title": {
         "text": "All items - Actual VS Prediction"
        },
        "xaxis": {
         "anchor": "y",
         "domain": [
          0,
          1
         ],
         "title": {
          "text": "Date"
         }
        },
        "yaxis": {
         "anchor": "x",
         "domain": [
          0,
          1
         ],
         "title": {
          "text": "value"
         }
        }
       }
      }
     },
     "metadata": {},
     "output_type": "display_data"
    }
   ],
   "source": [
    "def plot_results(all_data, categories):\n",
    "    category_samples = random.sample(categories, 10)+['All items']\n",
    "    for category in category_samples:\n",
    "        category_df = all_data[all_data['Category'] == category]\n",
    "        fig = px.line(category_df, x=\"Date\", y=[\"Actual\", \"Prediction\"], title=f'{category} - Actual VS Prediction')\n",
    "        fig.show()\n",
    "\n",
    "plot_results(all_data, data_Categories)"
   ]
  },
  {
   "cell_type": "code",
   "execution_count": 26,
   "metadata": {},
   "outputs": [],
   "source": [
    "def avg_rmse(all_data):\n",
    "    mse_lst = []\n",
    "    for cat in data_Categories:\n",
    "        df_predictions = all_data[all_data['Category'] == cat]\n",
    "        y_pred = df_predictions['Prediction'].values\n",
    "        print(f'y pred: {y_pred}')\n",
    "        y_actual = df_predictions['Actual'].values\n",
    "        print(f'y actual: {y_actual}')\n",
    "        print(cat)\n",
    "        mse = mean_squared_error(y_pred, y_actual)\n",
    "        mse_lst.append(mse)\n",
    "    \n",
    "    total_mse = sum(mse_lst)\n",
    "    avg_mse = total_mse/len(data_Categories)\n",
    "    avg_rmse = np.sqrt(avg_mse)\n",
    "    \n",
    "    return avg_rmse\n",
    "    "
   ]
  },
  {
   "cell_type": "code",
   "execution_count": 27,
   "metadata": {},
   "outputs": [
    {
     "name": "stdout",
     "output_type": "stream",
     "text": [
      "y pred: [ 0.07066773  0.06697881  0.18591127  0.18841812  0.18151136  0.06324734\n",
      " -0.1288091  -0.0136138   0.05100881  0.15565798  0.22105625  0.12398347\n",
      "  0.10541273  0.08006558  0.11630757  0.04642207 -0.03650627  0.10792455\n",
      "  0.16668907  0.13252243  0.14615346 -0.04739376 -0.03467945  0.12976605\n",
      "  0.1427517   0.23655275  0.19540375  0.19864476  0.17901017  0.1373018\n",
      "  0.12133404]\n",
      "y actual: [ 0.3073991   0.46129255  0.26638258  0.75731699  0.15728086 -0.29034911\n",
      "  0.26673403 -0.16003258  0.33488418  0.40038626 -0.04928669  0.08084822\n",
      " -0.12823255  0.31393576  0.18612582  0.35631696  0.45132004  0.30114271\n",
      "  0.34559346  0.15744854 -0.17067492  0.03325159  0.50684919  0.25002735\n",
      "  0.74784159  0.50152027  0.37956881  0.48905611  0.41760903  0.48719925\n",
      "  0.35297358]\n",
      "Alcoholic beverages\n",
      "y pred: [ 0.1402714   0.07349554 -0.08682824 -0.17350629 -0.01246736  0.11599197\n",
      "  0.12947682  0.16455406  0.13228032  0.04559262  0.06594221  0.06343406\n",
      " -0.02155694  0.01333886  0.19944498  0.3514445   0.30502933  0.2229794\n",
      "  0.13318335  0.10663661  0.15462169  0.2751109   0.2719107   0.23080686\n",
      "  0.28489643  0.3374893   0.41985434  0.24337596  0.22820857  0.28965917\n",
      "  0.21435678]\n",
      "y actual: [ 4.33787787e-01 -2.05593943e+00 -4.80584048e+00 -2.32147689e+00\n",
      "  1.64487732e+00  1.06975000e+00  6.20053743e-01 -4.53987672e-01\n",
      " -1.16743053e+00  9.13940629e-01  1.35247684e+00  1.65112733e+00\n",
      " -7.44162288e-01 -2.83752436e-01  3.23983430e-01  1.21436727e+00\n",
      "  6.95464155e-01  4.19195890e-02  3.73212807e-01 -1.12218730e+00\n",
      "  8.27955075e-04  1.26289755e+00  1.70230674e+00  8.14899966e-01\n",
      "  7.22076417e-01  5.54096750e-01 -7.56133828e-01  6.63997317e-01\n",
      "  7.86330448e-01 -8.68045427e-02  2.13357173e-01]\n",
      "Apparel\n",
      "y pred: [ 0.06833245  0.09031186  0.05909875  0.04026043  0.05822806  0.0867109\n",
      "  0.12339083  0.11944999  0.09727304  0.05954855  0.07586663  0.0712029\n",
      " -0.00505266  0.00585035  0.11945359  0.25657383  0.2655644   0.23370978\n",
      "  0.11885749  0.06493629  0.11475429  0.19354016  0.18138984  0.20364755\n",
      "  0.27014625  0.31793752  0.28591412  0.20768207  0.17014119  0.15846944\n",
      "  0.21286073]\n",
      "y actual: [ 0.53552017  0.11448529  2.84420508 -0.17099753  0.39632348 -0.36575421\n",
      " -0.15821787  0.04327108  0.34129007 -0.47855555  0.42561257 -0.79257769\n",
      "  0.51267156 -0.11894248  0.37008637  0.4846946  -0.31399615  1.1643018\n",
      "  0.01211477  1.04772127  1.02940006  0.82207737  0.40768106  1.49495612\n",
      "  1.09645329  1.52160553  1.08639224  1.49556493  2.07071633  1.81144163\n",
      "  1.20850287]\n",
      "Cereals and bakery products\n",
      "y pred: [ 0.1488225   0.07429293 -0.12278121 -0.28127533 -0.0541297   0.10599944\n",
      "  0.13759021  0.17493577  0.14606982  0.04578948  0.08341714  0.07099384\n",
      " -0.04227103 -0.01142717  0.19786453  0.3845096   0.34547868  0.24142975\n",
      "  0.1072927   0.09535675  0.13832541  0.27399853  0.26965627  0.23933351\n",
      "  0.29275066  0.34140047  0.42979956  0.22211769  0.20331094  0.27861506\n",
      "  0.18236172]\n",
      "y actual: [ 1.11143913  0.55267444  1.47827821  0.98636134 -0.36912655 -0.8032382\n",
      "  1.4797241  -0.48936668 -0.91372588  0.29066548  0.81329357 -0.37213783\n",
      " -0.15916645 -0.52320386  0.62151688  0.43429002  0.23868424  0.60238682\n",
      " -1.02002515  0.68074077  0.22201961  0.18378254  0.6989732   1.09818118\n",
      "  1.91600487  1.20429672  2.46919153  2.87498005  1.68841611  1.68883273\n",
      "  0.33705672]\n",
      "Dairy and related products\n",
      "y pred: [ 0.06679725  0.09575284  0.05207246 -0.01443056  0.02879585  0.06915119\n",
      "  0.13648088  0.12550546  0.10334686  0.05625319  0.08197334  0.05970517\n",
      " -0.04345287 -0.03529473  0.10986799  0.29139242  0.30286336  0.2558448\n",
      "  0.08893916  0.04439902  0.08786982  0.17706329  0.16328555  0.2081216\n",
      "  0.27541324  0.31749865  0.26644984  0.17859587  0.13120696  0.12491009\n",
      "  0.1811468 ]\n",
      "y actual: [ 0.57220411  0.39644549  0.15526614 -0.14087951 -0.5828733  -0.5091801\n",
      "  0.4527324  -2.49648333 -0.22588133  0.3653162   0.7501955  -0.85549535\n",
      " -0.17376457 -1.7695861   3.06918793  0.38514813 -0.18140595  0.82681856\n",
      " -0.0886248   0.63028615 -0.51116934 -1.04198012 -0.43222649  0.2119362\n",
      " -0.66675764 -0.61462826 -2.5962946  -1.71257914  0.27481289 -0.80483019\n",
      " -0.73102952]\n",
      "Education and communication commodities\n",
      "y pred: [ 0.1432657   0.03524153 -0.26198742 -0.55466783 -0.14457032  0.11412491\n",
      "  0.13195187  0.20958894  0.20924455  0.0160886   0.12183456  0.15206417\n",
      "  0.01454309  0.01715147  0.23244438  0.44513267  0.46530154  0.31016523\n",
      "  0.09172656  0.0877919   0.13588098  0.34698927  0.33210272  0.27719006\n",
      "  0.36296973  0.43877164  0.5816365   0.22125661  0.18857905  0.3341475\n",
      "  0.15154916]\n",
      "y actual: [-0.11730753 -0.23129376  0.07373634 -0.82257183 -0.25384968  0.2952334\n",
      " -0.18636177  0.94515472  1.17409101  0.49682914  0.40803392 -0.72102466\n",
      "  0.72193869  0.04249321  1.18028023  0.34027205 -0.28295317  0.3517681\n",
      "  0.96069611  0.79042328  1.77872379  0.26397077  0.24989096  3.94050405\n",
      " -1.09145645  2.18714292  0.69353939  1.31971001  1.71515189  1.56052022\n",
      "  1.49319678]\n",
      "Electricity\n",
      "y pred: [ 0.00250853  0.06976989  0.03855984 -0.04792773 -0.00565294  0.06758027\n",
      "  0.15695459  0.1472344   0.1358781   0.01312333  0.07464314  0.05721619\n",
      " -0.05874033 -0.06646644  0.10905299  0.35286567  0.40881738  0.33509406\n",
      "  0.05589858 -0.00533738  0.04688999  0.20919374  0.17658596  0.23802331\n",
      "  0.33377865  0.386873    0.2979686   0.15104654  0.06239296  0.08739652\n",
      "  0.16736352]\n",
      "y actual: [-3.33045788e-01  1.64598408e-01 -1.76843520e-03  1.61388209e-01\n",
      "  2.33375078e-01 -1.46801058e-02 -3.40661474e-02  3.88721141e-01\n",
      " -1.71601470e-01 -5.51154800e-02  7.62154942e-02  1.79008700e+00\n",
      " -1.72710578e-02  1.78323918e-01 -5.74742372e-03  1.14693853e+00\n",
      "  2.26015143e+00  3.18907003e-01  5.48905778e-01 -2.75180709e-01\n",
      " -2.20913922e-02  2.36676055e-01 -1.46766774e+00  2.57243942e+00\n",
      "  2.17757080e-01 -1.58371259e-01  1.52695352e+00  1.95896188e+00\n",
      "  1.83046665e+00  1.20779195e-01  1.09813354e-01]\n",
      "Food from vending machines and mobile vendors\n",
      "y pred: [ 0.03569783  0.08298379  0.0272342  -0.08077002 -0.02516674  0.09373823\n",
      "  0.16128483  0.10796747  0.05075122  0.01845995  0.12887806  0.085528\n",
      " -0.07496081 -0.0594799   0.11723045  0.31916833  0.31844467  0.11590583\n",
      " -0.02828094  0.0686569   0.14280544  0.17003098  0.09568976  0.16454697\n",
      "  0.27828225  0.30152902  0.2646796   0.18864414  0.14601564  0.18516517\n",
      "  0.16462094]\n",
      "y actual: [-0.01544396  0.76062782  1.49722259  0.52156863  0.42070337  0.05299185\n",
      "  0.21882202 -0.37690528  0.10021345  0.02503768 -0.153902   -0.16164042\n",
      "  0.71561888  1.02289746  0.77173614  0.04070418  0.73522173 -0.92966999\n",
      "  0.22687255  0.63239214  0.06630232  1.01304372  0.86545074  0.78859604\n",
      "  2.31563619  1.52632409 -0.34601188  0.61093147  0.6599772   0.47471727\n",
      "  0.51019925]\n",
      "Fruits and vegetables\n",
      "y pred: [ 0.14490032  0.0657866  -0.11223207 -0.21397674 -0.03694142  0.1060971\n",
      "  0.12322611  0.16726576  0.13421223  0.06467821  0.08246791  0.08094373\n",
      " -0.03700275  0.00221402  0.20635837  0.3692297   0.32943532  0.24791026\n",
      "  0.15045884  0.11598372  0.16750588  0.28728524  0.28278124  0.2370005\n",
      "  0.29617065  0.36190864  0.4524803   0.25126225  0.22860396  0.29600286\n",
      "  0.21762851]\n",
      "y actual: [ -5.84476006  -9.28273591 -10.76708755  -3.12090933   6.38414085\n",
      "   2.27058733   2.23844888  -3.15480308   0.42975432   2.35508085\n",
      "   5.67545521   1.87042974  10.52647935   3.45795184  -2.25549283\n",
      "   2.15261128   2.88155876   0.57399638   0.51779815   3.05556793\n",
      "   8.97291412   1.46971325  -3.44878497   5.18740601   6.25777766\n",
      "  14.61041996   3.66162336  12.33483559  -0.68299893  -8.42688662\n",
      "  -2.43559258]\n",
      "Fuel oil and other fuels\n",
      "y pred: [ 0.13152064  0.04189163 -0.17260921 -0.29079077 -0.05729458  0.12833259\n",
      "  0.12995812  0.1922769   0.17180735  0.01421349  0.06277443  0.08712124\n",
      "  0.00156645  0.02408019  0.22825965  0.41156986  0.39157084  0.26924348\n",
      "  0.1376742   0.10877319  0.16364807  0.3342814   0.32230362  0.25752336\n",
      "  0.33760223  0.40932515  0.52941257  0.25719014  0.23251802  0.34186658\n",
      "  0.20776853]\n",
      "y actual: [ 0.22134238 -0.03944981 -0.32340781  0.20107003  0.86206475  0.41782446\n",
      "  0.06974248  0.26096506  0.29468468  0.33626667  0.28252597  0.25034557\n",
      "  0.25943717  0.2409971   0.20065691  0.57873013  0.84438077  0.59111911\n",
      "  0.63475942  0.59070184  0.93215177  0.44847045  0.80445283  0.68940076\n",
      "  0.63948213  0.71026119  0.9184807   0.79153748  0.79456386  0.55831516\n",
      "  0.75560798]\n",
      "Full service meals and snacks\n",
      "y pred: [-4.6260622e-01 -1.0614522e-02  1.4460236e-03 -1.9966431e+00\n",
      " -1.5446864e+00  3.2670591e-02  1.3283691e-01  2.7994838e-02\n",
      "  1.1233723e-01  1.9029918e-01  1.4019194e+00  1.1946503e+00\n",
      "  1.8452767e-01 -1.4972493e-01  2.1835005e-01  4.7363195e-01\n",
      "  8.0095232e-01  3.1775063e-01 -6.4102612e-02  5.9227414e-02\n",
      " -1.6341433e-02  2.2269416e-01  2.7910221e-01 -7.9508133e-02\n",
      "  3.6735237e-03  3.6257729e-01  4.2195711e-01 -1.5930068e-01\n",
      " -4.6322145e-02  1.4975411e-01  6.3006788e-02]\n",
      "y actual: [ 0.11707146 -0.27854555  0.5926352   0.55960469  0.59783083  0.4590325\n",
      "  1.00187206 -0.23287395 -0.53108815  0.86895348 -0.14037045 -0.49016018\n",
      " -0.10457715  0.36070608  0.92966206  0.93797884  0.13599062  0.07055788\n",
      "  1.23561047  1.2821417   0.82909127  0.68182082  1.30095713  1.36304692\n",
      "  0.75917699  1.0410736   0.54006747  0.09613444  0.51562315  0.56527215\n",
      "  1.04770428]\n",
      "Household furnishings and supplies\n",
      "y pred: [-0.38434803 -0.00842418  0.04937615 -2.0693643  -1.6894995  -0.00686785\n",
      "  0.09758604  0.05792759  0.13061732 -0.01022326  1.2896472   1.3502951\n",
      "  0.27134955 -0.19885296  0.18736053  0.49599257  0.9567919   0.61065173\n",
      "  0.04290364  0.00832498 -0.24928239  0.15020424  0.3687271  -0.19137147\n",
      " -0.03676929  0.35553163  0.50511825  0.05275246  0.08279199  0.0543079\n",
      " -0.0395904 ]\n",
      "y actual: [-0.00430518 -0.02296409  0.06026949  0.         -0.28732349  1.8953726\n",
      "  0.45914927 -0.11107285  0.11809863 -0.02670058  0.03372587 -0.12512391\n",
      "  0.0829648  -0.05764621  0.42383649  0.1679144  -0.01957549  0.15510053\n",
      "  0.33035763  0.40552795  0.00831555 -0.26922026 -0.00694826  0.10417319\n",
      " -0.07499375 -0.49441965 -0.47723435 -0.32036448 -0.01829736 -0.41893888\n",
      " -0.18675991]\n",
      "Information and information processing\n",
      "y pred: [ 0.05710097  0.00879777  0.03390452  0.27937645  0.06016044  0.21040288\n",
      "  0.02425124  0.12386174  0.0823886   0.19539386  0.07330458  0.22848463\n",
      "  0.09973409  0.20227459 -0.15016836 -0.39873084  0.11353976 -0.04949871\n",
      "  0.24451423  0.14052741  0.17598493  0.18815851  0.2658401   0.15542749\n",
      "  0.4295004   0.33414078  0.43731865  0.33436516  0.40038407  0.5629795\n",
      "  0.53033745]\n",
      "y actual: [ 0.20367989 -0.06784721 -0.23102545  0.02720718 -0.54555509  0.04102003\n",
      "  0.19120465 -0.71203916 -0.16503923  0.11005642  0.20602988 -0.56415698\n",
      " -0.06901788  0.19313015  1.38235281  0.08152174 -0.42191284  0.57119698\n",
      "  0.78347017  0.68387796 -0.20065554 -0.68525629  0.02696145  0.20197947\n",
      " -0.33685944 -0.35154174 -1.17167553 -0.63239144  0.05514959 -0.85825555\n",
      " -0.40398467]\n",
      "Information technology, hardware and services\n",
      "y pred: [ 0.15429465  0.00378489 -0.35021302 -0.5057152  -0.10522652  0.12772335\n",
      "  0.05955249  0.21750373  0.24692729  0.03263151 -0.0046451   0.12566838\n",
      "  0.10655456  0.07838227  0.2848538   0.46273473  0.47563395  0.41056246\n",
      "  0.25650248  0.12720874  0.2104331   0.45854828  0.501875    0.33449838\n",
      "  0.33447918  0.489163    0.6962272   0.21617612  0.18499826  0.40699852\n",
      "  0.22775778]\n",
      "y actual: [ 0.26256235  0.36514277  0.69161422  0.59137911  0.45432721  0.62778019\n",
      "  0.43742654  0.90852951  0.33871079  0.20319235  0.52309598  0.64673564\n",
      "  0.35073309  0.48896883  0.47754428  0.45076403  0.55725459  1.00042168\n",
      "  0.76690013  0.63486399  0.75481916  0.97377825  0.62814576  0.65674771\n",
      "  0.26497438 -0.18959938  0.28121212  0.68606569  0.69204428  0.83667444\n",
      "  0.71715734]\n",
      "Limited service meals and snacks\n",
      "y pred: [ 0.18557036 -0.03461603 -0.7720336  -1.7056415  -0.43458608  0.07283865\n",
      "  0.01249174  0.2604755   0.39573488  0.07515062  0.15056601  0.5072119\n",
      "  0.37265286  0.21390927  0.3096332   0.44830787  0.66680455  0.6101839\n",
      "  0.21171138  0.07678364  0.1662432   0.5315357   0.6130149   0.4293884\n",
      "  0.382494    0.6029116   0.9068294   0.04803973 -0.00438134  0.42495212\n",
      "  0.10609967]\n",
      "y actual: [ 0.20785281  0.1375435   4.2550942   3.63782626  1.95212995 -3.83545652\n",
      " -1.74584398 -0.37249608  0.35593667  0.10533128 -0.22245443  0.88611689\n",
      "  0.34042364  0.10231055  0.54401873  1.31019558  2.45038544  1.47575713\n",
      "  0.69180708  2.14409438  1.73395689  0.93608176 -0.3950555   0.20521096\n",
      "  1.20375974  0.97476194  1.36155527  1.13101301 -0.3601773   0.50046049\n",
      "  0.51721717]\n",
      "Meats, poultry, fish, and eggs\n",
      "y pred: [ 0.18738526 -0.04410202 -0.85248834 -1.863948   -0.48307547  0.06871788\n",
      "  0.01099096  0.2679197   0.4183435   0.07647422  0.1624793   0.563579\n",
      "  0.41462728  0.24301952  0.31460673  0.435186    0.6836448   0.63605833\n",
      "  0.2091381   0.06959495  0.16321102  0.5460548   0.6327987   0.44323194\n",
      "  0.3907673   0.62055457  0.93656313  0.03427193 -0.02140401  0.4374042\n",
      "  0.10122284]\n",
      "y actual: [-0.6505068  -0.00390958 -0.08970177  0.13321986  0.21028751 -0.03432369\n",
      " -0.12126734  0.01796517 -0.76703626 -0.27294967 -0.3803223  -0.30360755\n",
      " -0.7019755   0.05493216  0.57762373 -0.0246529  -0.3968723   0.16648497\n",
      " -0.16967909  0.30749751  0.57181192  0.12656794  0.03372441  0.88461687\n",
      "  0.34406932  0.20275863  0.05789268  0.25039542  0.39118464  0.58879357\n",
      "  0.24452425]\n",
      "Medical care commodities\n",
      "y pred: [-0.135537    0.02112759  0.02550992 -0.00728061  0.00594882 -0.01033265\n",
      "  0.05501294  0.13081431  0.21527103  0.02350433 -0.00231348  0.04665786\n",
      "  0.01413243 -0.06896064  0.10030956  0.37038764  0.47944775  0.54634804\n",
      "  0.18952149 -0.07711416  0.02204206  0.43493843  0.43535993  0.41130623\n",
      "  0.39645356  0.4144801   0.15468988 -0.12474427 -0.1250467  -0.00143767\n",
      "  0.20688349]\n",
      "y actual: [ -3.40525494 -11.00483762 -22.82341692  -3.57214804  11.34545215\n",
      "   5.33553972   1.94585563   0.08138405  -0.55753582  -0.36174523\n",
      "   8.01034478   6.09002841   6.1904561    8.73368407  -1.3310899\n",
      "  -0.6961988    2.50887316   2.37981902   2.72632344   1.22402259\n",
      "   5.89361373   5.92106517  -0.46641071  -1.16061554   6.50980008\n",
      "  16.77341949  -5.98349013   3.991878    10.45671472  -7.92631438\n",
      " -11.061737  ]\n",
      "Motor fuel\n",
      "y pred: [-0.07105828  0.04492307 -0.00163024 -0.07854985 -0.04181496  0.05513954\n",
      "  0.05936008  0.04742916  0.03656614  0.02530499  0.10057829  0.09260305\n",
      " -0.04782472 -0.06915189  0.0979941   0.29392096  0.33952352  0.18029535\n",
      "  0.06711451  0.12586308  0.23775503  0.30212972  0.17829993  0.18061846\n",
      "  0.26959747  0.33204442  0.2904225   0.1461362   0.13830468  0.21273023\n",
      "  0.19803408]\n",
      "y actual: [ 1.94428472e-01 -7.99534491e-02 -3.30612339e-01 -4.36900856e-02\n",
      " -2.20774223e-01  1.27617165e+00  1.90051240e+00  2.42904035e+00\n",
      "  4.02681883e-01  3.73987720e-02 -4.35265810e-01 -1.01040288e+00\n",
      " -2.84439787e-01  5.03063710e-01  4.52207732e+00  3.96684002e+00\n",
      "  5.47685295e+00  5.67303387e-01 -3.12713038e-01  2.56463220e-01\n",
      "  1.80840366e+00  1.76574713e+00  1.81550897e+00  9.11707537e-01\n",
      "  4.96631978e-02 -1.17804173e+00  8.74158508e-01  9.38656354e-01\n",
      "  1.63503233e+00 -5.39309915e-03  4.30531448e-01]\n",
      "New and used motor vehicles\n",
      "y pred: [ 0.04422456  0.04070859  0.08525756  0.09025463  0.07781099 -0.02607553\n",
      "  0.1613794   0.19187593  0.13909112  0.094318    0.02488934  0.11058896\n",
      "  0.05064775  0.0776445   0.07719778  0.17904232  0.2299459   0.06951259\n",
      " -0.28371307  0.03322069  0.13514747  0.06146743 -0.00502347  0.01535436\n",
      "  0.08379389  0.06636471 -0.02232034 -0.11610807 -0.01332618  0.09427354\n",
      " -0.00429718]\n",
      "y actual: [ 0.45140492  0.94223274  2.86636147  0.02517109  0.69167785 -0.52849919\n",
      "  0.10213052 -0.76881459 -0.05228993 -0.86647138  1.10689122  0.42270104\n",
      " -0.10005507 -0.24637174  0.31625314 -0.51772072  0.92207265  0.69610547\n",
      "  0.9982236   1.15890022  0.76359491  0.18664226  0.78617638 -0.32535593\n",
      "  1.61262244  1.15683631  2.0122602   1.70099736  0.76290632  2.28011006\n",
      "  0.47987012]\n",
      "Nonalcoholic beverages and beverage materials\n",
      "y pred: [ 0.18457758  0.26866347  0.20793764  0.31146568  0.18103474  0.05543332\n",
      " -0.08663005  0.23542458  0.07259783 -0.05148093  0.14622204  0.43841952\n",
      "  0.40783837  0.27379182 -0.07739068 -0.21693826  0.00444006  0.18213128\n",
      "  0.10479614 -0.47564092  0.15571192  0.28692994  0.0084167  -0.00107025\n",
      "  0.260725    0.4073847   0.48732916  0.45184523  0.4234561   0.34891436\n",
      "  0.41768238]\n",
      "y actual: [ 8.03307941e-01  5.86852028e-01  1.87524836e+00  1.37273070e-03\n",
      "  2.13002361e-01 -1.78690217e-01  4.59105780e-01 -5.80394753e-01\n",
      "  2.90390127e-01 -5.84381858e-01  6.88442515e-01 -1.93145894e-01\n",
      "  7.62983898e-02  1.41567703e-02  1.18199278e-01  2.41702866e-02\n",
      "  1.75401475e-01  7.93424666e-01  5.97024763e-01  1.14086480e+00\n",
      "  1.18634355e+00  1.02364507e+00  5.97285433e-01  1.50414841e+00\n",
      "  7.52112500e-01  1.95607097e+00  7.30858494e-01  1.55836090e+00\n",
      "  1.77070259e+00  1.81716537e+00  1.11957101e+00]\n",
      "Other food at home\n",
      "y pred: [ 0.05423621  0.01791977  0.06798625  0.37017065  0.2529269   0.25258183\n",
      " -0.19900835 -0.09814534 -0.10609675  0.09226979  0.16187501  0.26579705\n",
      "  0.34492573  0.513577    0.30757564 -0.3322183  -0.3089374  -0.0316586\n",
      "  0.29766715  0.13738644  0.28875363  0.29049653  0.24099642  0.183287\n",
      "  0.34466103  0.4373595   0.47750297  0.3939587   0.4148259   0.4066635\n",
      "  0.52151847]\n",
      "y actual: [ 0.11393312  0.14298879  0.33451903  0.16934381  0.95754104 -0.54390652\n",
      "  0.70689928  0.51251019 -0.72757789  0.06942723  0.06690207  0.02971989\n",
      "  0.17121258  0.20200979  0.11342063  0.9803928   0.03269369  0.90240783\n",
      "  0.23470675  1.32112699  0.23821139 -0.02232307  0.56320031  0.04533477\n",
      "  0.7844284   0.15914328  0.0855518   0.50852505  1.777331    0.75577483\n",
      "  0.08699514]\n",
      "Other food away from home\n",
      "y pred: [-0.07977856  0.01806989  0.03723104  0.08415283  0.11338311 -0.06642171\n",
      "  0.09368318  0.23533177  0.2559495   0.10799155  0.08556852  0.09746151\n",
      " -0.1372188  -0.04808486  0.1718255   0.4115655   0.38576567  0.4911562\n",
      "  0.14829928 -0.92105734 -0.3902803   0.7571167   0.87096256  0.76535434\n",
      "  0.62388414  0.6387531  -0.16452056 -0.7736986  -0.9714898  -0.3228723\n",
      "  0.23993328]\n",
      "y actual: [ 0.5847467   0.26630034 -0.10866079 -0.33442266  0.30702493 -0.03768414\n",
      " -0.17232884  0.13977201 -0.09944961  0.42539597  0.31041359  0.901033\n",
      "  0.33023349  0.23353701  0.44205628 -0.13793279  0.11788166  0.19199151\n",
      "  0.36792596  0.08222353  1.21382644  0.34470229  0.23675413  0.78623526\n",
      "  0.92208859  0.57869237  0.33973721  0.79587768  0.50226281  0.34360395\n",
      "  1.14822349]\n",
      "Other goods\n",
      "y pred: [ 0.16329533  0.11293912  0.06567111  0.07423712  0.03801858  0.03968238\n",
      "  0.08093573  0.0298873  -0.00386625  0.05503168  0.11877374  0.13551562\n",
      "  0.06858286  0.06731282 -0.00327065  0.04102141  0.06721072  0.02404262\n",
      "  0.02073656  0.10632814  0.16434269  0.13183673  0.09916009  0.03983856\n",
      "  0.04745501  0.09871124  0.17139928  0.09722608  0.07838856  0.12239905\n",
      "  0.10886453]\n",
      "y actual: [-0.10288583 -0.8509724  -0.92214615  0.         -0.14065779  0.49271244\n",
      "  1.1142882  -0.37468584 -0.1226769   0.33479284  0.2141841   0.04026575\n",
      "  0.48693653 -0.21305669  1.22573934  0.39209673 -0.33014961  0.5311671\n",
      "  0.95026863 -0.24069753  0.40409028  0.30048136 -0.42483068  1.03637931\n",
      "  0.88224907 -0.08021023  0.51485854  0.08932241  0.3553077   0.24169482\n",
      "  0.61463154]\n",
      "Recreation commodities\n",
      "y pred: [ 0.09541455  0.06834851  0.07181383  0.08121233  0.05796451  0.00311916\n",
      "  0.143242    0.13452952  0.07854553  0.07327836  0.06478032  0.11450031\n",
      "  0.04791304  0.06195051  0.04027414  0.1297189   0.17801242  0.067467\n",
      " -0.13531217  0.06439065  0.14714062  0.09119786  0.03858101  0.02574657\n",
      "  0.06777765  0.0789378   0.06235907 -0.02774926  0.02088929  0.10102836\n",
      "  0.040344  ]\n",
      "y actual: [ 0.31643007  0.04036924 -0.03050655  0.20227871  0.12633192  0.2347192\n",
      "  0.1350588   0.05905003  0.11219074  0.13464603  0.12654235  0.09807446\n",
      "  0.16577673  0.3007375   0.39917919  0.29412938  0.48929945  0.42908902\n",
      "  0.16088143  0.40196431  0.45526764  0.50137814  0.41848668  0.30076616\n",
      "  0.51880791  0.5086272   0.51064725  0.60912615  0.60657286  0.53720149\n",
      "  0.68743479]\n",
      "Shelter\n",
      "y pred: [-0.12153678  0.05563285  0.02481723  0.19309607  0.15746406 -0.08170576\n",
      " -0.8447541  -0.39462128 -0.4599547  -0.01269066 -0.06866068  0.28598303\n",
      "  0.258797    0.02885633 -0.4766583   0.30098113  0.26837695  0.12240319\n",
      "  0.02415338  0.04989626  0.5660604   0.21267575 -0.3047648  -0.2540495\n",
      "  0.10363165 -0.0090972   0.00788922 -1.191784   -0.37503025  0.13149372\n",
      " -0.13240603]\n",
      "y actual: [ 0.22644633  0.08717937 -0.21473224  0.06811238 -0.4517501   1.34347088\n",
      "  2.04064714  2.69845904  0.21370432 -0.56149601 -0.18756436 -0.58131196\n",
      " -0.3553837   0.22696687  4.23664644  3.88348898  5.46781286  1.00211704\n",
      " -0.01745298  0.32080633  1.84065092  1.72576002  2.11128686  0.78890588\n",
      "  0.10743408 -1.75932643  0.42266825  1.38330049  1.09024397  0.12292654\n",
      "  0.40356917]\n",
      "Transportation commodities less motor fuel\n",
      "y pred: [ 0.20468616  0.02203386 -0.17206576 -0.00369111  0.06961628  0.10984085\n",
      "  0.10837252  0.20065707  0.13069156 -0.08905932  0.1260556   0.18965697\n",
      " -0.1860595   0.05863928  0.0461839   0.2015636   0.30715543  0.17170823\n",
      "  0.2622567   0.5089187   0.28021696  0.1914314   0.09475924  0.14077276\n",
      "  0.64831376  0.01269456  0.29102486  0.2028912   0.49614453  0.67880344\n",
      "  0.68148685]\n",
      "y actual: [ 0.08882539 -0.42436955 -0.79828391 -0.05237751  0.56376396  0.58495681\n",
      "  0.36959633  0.20311996  0.04456962  0.18881616  0.36663442  0.17404385\n",
      "  0.35402175  0.61823765  0.76708582  0.64215932  0.90078677  0.4727149\n",
      "  0.27398935  0.4115879   0.93889903  0.77609622  0.46935007  0.61943716\n",
      "  0.79454239  1.23311989  0.33138408  0.96908903  1.31357951 -0.01930244\n",
      "  0.11812671]\n",
      "All items\n",
      "y pred: [ 0.03086502 -1.2485945  -5.3580337  -3.8917718  -1.7965887  -0.37521416\n",
      " -0.03982192  1.0316867   2.4426253   3.554639    1.9827952   0.6087446\n",
      "  0.3908067   0.3321475   0.09878225 -0.56792396 -1.4877245  -0.53551316\n",
      "  1.0646678   1.1578424   0.98970115  0.9457289   0.9705564   0.14563379\n",
      " -0.79487634 -0.34433058 -1.0606611  -0.77474606  0.46269605  1.4392178\n",
      "  0.04850017]\n",
      "y actual: [ 0.24357517 -0.03728961 -0.16099451  0.05696211  0.29109361  0.46219783\n",
      "  0.33816448  0.16437165  0.03797949  0.1733309   0.12775995 -0.00334048\n",
      "  0.11128919  0.30392966  0.83226606  0.69079036  0.85944783  0.38652995\n",
      "  0.14550683  0.34513504  0.64371285  0.55973701  0.54080102  0.61514713\n",
      "  0.57803931  0.41984457  0.6111797   0.70789842  0.74529351  0.4281257\n",
      "  0.59886261]\n",
      "All items less energy\n",
      "y pred: [-0.10476469 -1.5909045  -5.739573   -3.4196904  -0.7603761   0.9476187\n",
      "  1.0434341   1.9063299   2.9748151   3.911598    2.194586    0.46076813\n",
      " -0.24557894 -0.35619512 -0.38665807  0.02255919 -1.0144079   2.345394\n",
      "  2.7803156   2.1590676   1.2716339   0.92997783  0.5161371  -1.1695683\n",
      " -3.7740004  -2.3650672  -2.3944023   0.05689871  0.34742418  1.5021774\n",
      "  1.1436872 ]\n",
      "y actual: [ 0.04486282 -0.54668462 -1.16965886 -0.18031927  0.55683742  0.74997667\n",
      "  0.41879798  0.23521594  0.0212505   0.23384332  0.36625709  0.1745767\n",
      "  0.38490871  0.70095612  0.83004952  0.67465511  0.92139135  0.43247503\n",
      "  0.25469375  0.32881608  0.94481197  0.78700286  0.46523158  0.59036015\n",
      "  0.76066778  1.27158843  0.24897581  0.93835561  1.3645142  -0.19282007\n",
      "  0.01261621]\n",
      "All items less food\n",
      "y pred: [ 0.14429004  0.02827028 -0.23618123 -0.00091785  0.10375201  0.11801549\n",
      "  0.12216534  0.18461192  0.2984041  -0.10796482  0.14462905  0.11419988\n",
      " -0.12867376  0.17542773  0.2647664   0.2965932   0.32255822  0.25290838\n",
      "  0.39751366  0.58206373  0.34111035  0.3766962   0.14591709  0.149459\n",
      "  0.67735404  0.19311932  0.42575914  0.40317926  0.62031245  0.65902394\n",
      "  0.40291196]\n",
      "y actual: [ 0.22266131 -0.10302231 -0.44853906 -0.06025889  0.23480461  0.6182342\n",
      "  0.38474348  0.19218944  0.01188354  0.21922065  0.08518456 -0.03406512\n",
      "  0.10142064  0.33794235  0.91244389  0.73459882  0.87459798  0.32807274\n",
      "  0.10172066  0.24277975  0.59746097  0.53319675  0.54863156  0.5854461\n",
      "  0.50391098  0.32357157  0.5676164   0.62943799  0.70400858  0.31240009\n",
      "  0.5656649 ]\n",
      "All items less food and energy\n",
      "y pred: [ 0.0786377   0.05655314  0.09822966  0.27901563  0.19691321  0.20534372\n",
      "  0.03225181  0.05004185  0.05434198  0.10587374  0.10742638  0.18412606\n",
      "  0.24366209  0.28660747  0.16091508 -0.10494684 -0.04118849  0.08954389\n",
      "  0.25562346  0.15971075  0.23386607  0.27657393  0.28758624  0.1756773\n",
      "  0.23875675  0.32592645  0.38211158  0.35371527  0.36746773  0.34762272\n",
      "  0.41122326]\n",
      "y actual: [-0.12472054 -0.9155981  -1.89474363 -0.4271222   0.8346129   1.07918063\n",
      "  0.59922245  0.34673143 -0.03667129  0.29691272  0.51759366  0.22279866\n",
      "  0.52238346  0.95024685  1.0976789   0.90895614  1.18575841  0.43500249\n",
      "  0.31160848  0.28451847  1.24219152  0.9593641   0.49314164  0.76949338\n",
      "  0.90751635  1.73041573  0.09251209  1.13539171  1.81459889 -0.62595382\n",
      " -0.39251457]\n",
      "All items less food and shelter\n",
      "y pred: [ 0.07800306  0.0572642   0.10460898  0.2742754   0.19525856  0.19667464\n",
      "  0.02247724  0.04615694  0.0529407   0.10878143  0.1147533   0.18023139\n",
      "  0.2357654   0.27441713  0.16015549 -0.09433762 -0.04117627  0.09019111\n",
      "  0.2494534   0.15749753  0.22931588  0.2587717   0.26744688  0.17239651\n",
      "  0.23268357  0.3196719   0.37000042  0.3436726   0.35631523  0.3346754\n",
      "  0.39369836]\n",
      "y actual: [ 0.15483962 -0.20551231 -0.74902554 -0.25092714  0.31398953  0.89487584\n",
      "  0.56413395  0.28741049 -0.05986181  0.27960974  0.05549203 -0.12910852\n",
      "  0.05595347  0.36440313  1.27912207  1.04661713  1.14552614  0.25709553\n",
      "  0.06013605  0.13104391  0.69748254  0.55585737  0.640204    0.78727695\n",
      "  0.49345713  0.19265124  0.6082706   0.64384614  0.77229932  0.1537467\n",
      "  0.47917765]\n",
      "All items less food, shelter, and energy\n",
      "y pred: [ 0.04026241  0.00167646  0.08426529  0.37515473  0.21934679  0.2515181\n",
      " -0.16710505 -0.06613531 -0.08553282  0.10118356  0.14907774  0.27181783\n",
      "  0.36125317  0.49222207  0.20293352 -0.43701616 -0.28212142 -0.00429163\n",
      "  0.29311913  0.14873065  0.30010825  0.2911642   0.32037583  0.1800502\n",
      "  0.26514044  0.37659317  0.4618393   0.4015375   0.4270632   0.3978959\n",
      "  0.510469  ]\n",
      "y actual: [ 0.14177344 -0.26422506 -0.77009893 -0.24473559  0.40115291  0.81367753\n",
      "  0.28395352 -0.10462956 -0.05877289  0.38140779  0.1327173  -0.09890301\n",
      "  0.11620098  0.35271955  0.73676754  0.6237533   0.47051308  0.25995154\n",
      "  0.18790281  0.19675856  0.55771168  0.40088813  0.40797567  0.70909445\n",
      "  0.56734247  0.58740117  0.70220451  0.53243377  0.69361794  0.20775775\n",
      "  0.53430938]\n",
      "All items less food, shelter, energy, and used cars and trucks\n",
      "y pred: [0.1185434  0.10713173 0.10475159 0.07784004 0.12322846 0.14884585\n",
      " 0.16543207 0.12465505 0.15769091 0.15973741 0.11975154 0.10742525\n",
      " 0.1019152  0.10003807 0.13067839 0.17391768 0.19564086 0.2109356\n",
      " 0.2290172  0.1714398  0.13852814 0.25275674 0.24360397 0.16996078\n",
      " 0.19554675 0.24099562 0.22713846 0.25874946 0.2637663  0.27114612\n",
      " 0.2633259 ]\n",
      "y actual: [ 0.08711173 -0.50590053 -0.91638156 -0.1060415   0.57693532  0.60248513\n",
      "  0.39951462  0.22440618  0.09042869  0.2192727   0.41946808  0.15584721\n",
      "  0.36403127  0.66509088  0.83491647  0.71063765  0.99575544  0.49245428\n",
      "  0.27675808  0.45244533  0.97969267  0.82675733  0.48675177  0.60938958\n",
      "  0.85187942  1.29593339  0.32128571  1.02108889  1.37191773 -0.06110214\n",
      "  0.0678105 ]\n",
      "All items less medical care\n",
      "y pred: [ 0.1489229   0.11398461  0.14690283  0.14604668  0.06335498  0.16694945\n",
      " -0.01742719 -0.08124661  0.11698462  0.0519508  -0.05035337  0.0041452\n",
      "  0.21136197  0.18897715  0.0982381   0.08659612  0.2613662   0.44412744\n",
      "  0.29785427  0.19718799  0.0296845   0.16684681  0.26966184 -0.42180005\n",
      "  0.02373956  0.3205563   0.39168552  0.6993261   0.5271014   0.27942574\n",
      "  0.21249667]\n",
      "y actual: [-0.02409603 -0.65535065 -1.18496566 -0.18103297  0.78511655  0.76073557\n",
      "  0.48733453  0.27524619  0.01053885  0.21559174  0.48631881  0.21199693\n",
      "  0.44718749  0.77501304  0.94782768  0.81211075  1.10112978  0.49319607\n",
      "  0.32904201  0.41632083  1.17174999  0.90791046  0.49373644  0.77781908\n",
      "  0.92865407  1.58227039  0.24583373  1.14138771  1.65016448 -0.28374063\n",
      " -0.1545452 ]\n",
      "All items less shelter\n",
      "y pred: [ 0.25173914 -0.3860037  -0.2534731   0.29436     0.26683655  0.12203462\n",
      " -0.06050817  0.13773957  0.06558775 -0.10850137  0.19338003  0.16779572\n",
      "  0.17203033  0.36301655  0.27589348  0.08188187  0.02353701  0.09062909\n",
      " -0.17964765 -0.02458171  0.20840845  0.10346487  0.23976111  0.3640303\n",
      "  0.44394162  0.5406533   0.35954753 -0.02243499  0.03851559  0.15488851\n",
      "  0.42036614]\n",
      "y actual: [ 0.54391927 -1.82760273 -5.04379371 -2.57674456  1.73383936  1.02293482\n",
      "  0.73056095 -0.3074834  -1.88457697  0.77731893  1.66768269  1.85999114\n",
      " -0.91036792 -0.39412917  0.26082223  1.14887139  0.80402978  0.32033914\n",
      "  0.26924311 -1.64609124  0.10981311  1.45188772  1.77123829  0.84743718\n",
      "  0.55105502  0.71651423 -0.56582397  0.58274086  0.52637472 -0.08753694\n",
      "  0.45452523]\n",
      "Apparel less footwear\n",
      "y pred: [ 0.12374552 -4.0774755  -4.4557433  -2.997277   -1.663532   -0.01117256\n",
      "  0.32373288  0.9692395   2.187124    3.4621656   1.4946721   0.12459701\n",
      "  0.4819172   0.7061694   0.37558997  0.8682041   1.8761163   2.770974\n",
      "  2.1529791   1.5158919   0.57392347  0.8357615   0.5190519  -4.9482603\n",
      " -3.0575235  -1.344475   -3.918187   -2.3599706  -3.7796516  -1.4140211\n",
      "  0.3265284 ]\n",
      "y actual: [-0.12571455 -1.05489973 -1.57701747 -0.07895515  1.14725692  0.61568471\n",
      "  0.74828957  0.41980619 -0.09606123 -0.00429539  0.86926852  0.58381\n",
      "  0.53937506  0.92262162  1.04845548  1.07179081  1.68037996  0.74827661\n",
      "  0.58282549  0.59914876  1.51703925  1.38153152  0.76773705  0.68034876\n",
      "  1.28554058  2.08539062 -0.29859491  1.30963689  2.03482862 -0.54629195\n",
      " -0.75605784]\n",
      "Commodities\n",
      "y pred: [ 0.15843287 -0.00865967 -0.25089258 -0.08429801  0.04665492  0.11887005\n",
      "  0.13036567  0.20616648  0.26492482 -0.04185409  0.13132982  0.09629548\n",
      " -0.06816024  0.18848577  0.27275547  0.301306    0.30324864  0.24150875\n",
      "  0.34481844  0.42473042  0.31045213  0.4022711   0.18972757  0.12671846\n",
      "  0.5953884   0.27956787  0.49725658  0.42283592  0.5890003   0.6689454\n",
      "  0.29317522]\n",
      "y actual: [ 0.24889141 -0.0825748  -0.25006024  0.16645583 -0.16645583  0.93642707\n",
      "  1.7551278   1.27421109  0.40732878 -0.11528761  0.02491338 -0.73338415\n",
      "  0.03809789  0.45604617  3.46288065  3.00253095  3.46751156  0.64103854\n",
      " -0.21155568  0.385296    1.411924    1.54075485  1.77993118  1.30488303\n",
      "  0.45793091 -0.9352513   0.05340999  0.14908278  0.73042349  0.30154682\n",
      "  0.48460734]\n",
      "Durables\n",
      "y pred: [ 0.13252464  0.12817746  0.10193478 -0.0101926   0.05606187  0.15553334\n",
      "  0.18179655  0.09565995  0.10191461  0.14902169  0.16681391  0.11108347\n",
      "  0.02555517  0.06414451  0.17101714  0.23316321  0.17660972  0.11917259\n",
      "  0.18646795  0.23712382  0.2131629   0.2660887   0.20600182  0.23196173\n",
      "  0.23497814  0.25343108  0.30686367  0.3616074   0.3034931   0.27553642\n",
      "  0.26862922]\n",
      "y actual: [ 0.14589153  0.10766504  0.13979148  0.07375978 -0.11316837  1.11320519\n",
      "  0.10837652 -0.16934565  0.08789714  0.04816888  0.1302231   0.0261657\n",
      "  0.11377651 -0.10458478  0.340206    0.25123431  0.09343596  0.18871305\n",
      "  0.19605241  0.38956192  0.16082715 -0.04870819  0.04940385  0.10707384\n",
      "  0.01111798 -0.16620368 -0.16787468 -0.05299824  0.1658745  -0.17075733\n",
      "  0.11085123]\n",
      "Education and communication\n",
      "y pred: [ 0.14769518 -0.06526489 -0.39211243 -0.13201272  0.0398161   0.13509828\n",
      "  0.12195405  0.1957588   0.3153213  -0.07443788  0.13617209  0.07927753\n",
      " -0.12131815  0.21824682  0.34056583  0.360438    0.36133525  0.26466402\n",
      "  0.39505154  0.53869134  0.37672958  0.4267371   0.19040701  0.07907021\n",
      "  0.7080227   0.30271387  0.6267122   0.52739936  0.6547602   0.6682725\n",
      "  0.07226368]\n",
      "y actual: [ -2.03457674  -5.95572774 -10.690751    -1.86243903   5.00872225\n",
      "   2.51220129   0.86678126   0.79914364   0.14225297   0.42859278\n",
      "   3.96475562   2.75945242   3.78109485   4.87584098  -0.09922881\n",
      "  -0.01219279   1.45476762   1.61820169   1.95627959   1.27193154\n",
      "   4.65826481   3.41074677  -0.39191504   0.69772683   3.41597326\n",
      "  10.4459212   -2.73319574   3.83037625   7.25768773  -4.66371748\n",
      "  -5.15000527]\n",
      "Energy\n",
      "y pred: [-0.06093407  0.02497658  0.0902901   0.22534722  0.15743549  0.02261709\n",
      "  0.09551114  0.18937194  0.010498   -0.01246872  0.11182638  0.17762956\n",
      "  0.05785085  0.09924074  0.2189861   0.2880892   0.38660142  0.10381988\n",
      " -0.08946434  0.13909936  0.39672956  0.36144364  0.14876148  0.29383436\n",
      "  0.46809816  0.4467173   0.3232001   0.04020611  0.0787483   0.30312717\n",
      "  0.31748948]\n",
      "y actual: [ 0.3667453   0.34027392  1.47617129  0.71937645  0.60431673 -0.41077573\n",
      "  0.07173828  0.00817415  0.18670884 -0.08718639  0.37011077  0.17033104\n",
      "  0.16488172  0.11234735  0.37700535  0.44206731  0.77365674  0.71916523\n",
      "  0.39456564  0.92162606  0.90371056  0.70819095  0.49659024  0.79255438\n",
      "  1.01326889  0.98417532  0.86505147  1.16617843  0.98493411  1.09381978\n",
      "  0.78981286]\n",
      "Food\n",
      "y pred: [-0.10778327 -0.04562875  0.03309277  0.21556658  0.13542302  0.12367339\n",
      "  0.09981322  0.19333246 -0.02954646 -0.03376628  0.13218091  0.12512434\n",
      "  0.0286051   0.11629287  0.28585988  0.34154356  0.35171637  0.10227025\n",
      " -0.10831105  0.09203137  0.41155502  0.3357655   0.06132919  0.32263553\n",
      "  0.48935166  0.4743497   0.35833237  0.13278118  0.10124829  0.28585675\n",
      "  0.32056493]\n",
      "y actual: [ 0.3623505   0.34883779  1.39308826  0.72145383  0.57418136 -0.40292257\n",
      "  0.0853333  -0.00335234  0.19685229 -0.05391908  0.34161535  0.16407988\n",
      "  0.14496615  0.12630414  0.36361734  0.43628694  0.75177491  0.69096412\n",
      "  0.39116296  0.87010759  0.83185944  0.66327933  0.49729567  0.75902023\n",
      "  0.99662582  0.95449649  0.83494079  1.12519334  0.95032453  1.05712285\n",
      "  0.76368553]\n",
      "Food and beverages\n",
      "y pred: [ 0.13545454  0.11019766  0.04328152  0.04083316  0.08148901  0.07249234\n",
      "  0.09991492  0.1114025   0.07279131  0.08128243  0.10236957  0.08577253\n",
      " -0.00642266  0.0504161   0.13675496  0.17814657  0.16231772  0.14573076\n",
      "  0.12744361  0.13502926  0.17639235  0.20340125  0.16558954  0.18738723\n",
      "  0.25458777  0.23585731  0.2502422   0.20871228  0.24996719  0.28092232\n",
      "  0.25281817]\n",
      "y actual: [-0.34700234 -0.59037242 -0.24357631 -0.38058683  0.09911687  0.1818043\n",
      "  0.09057166  1.12180367  0.61819023  0.89541972  0.39540514 -0.247749\n",
      "  1.11901413  0.59773373  0.97608942  0.57558776  0.32903264  0.69836437\n",
      "  0.89831467  1.11515442  2.52215526  0.31786013 -0.14612693  2.46167058\n",
      "  0.0813435   1.97866839  1.19109702  2.86957994  2.5146747  -0.27000435\n",
      "  1.50109582]\n",
      "Fuels and utilities\n",
      "y pred: [ 0.0448355   0.04346032  0.08450359  0.09148612  0.07815382 -0.03037175\n",
      "  0.1597479   0.1923276   0.13891925  0.09291977  0.0187245   0.11084814\n",
      "  0.05211082  0.08295373  0.07696107  0.17886257  0.22937521  0.06400637\n",
      " -0.29876003  0.02929966  0.1353409   0.03961835 -0.01531201  0.01509295\n",
      "  0.09559704  0.07310219 -0.0231032  -0.12523124 -0.02037611  0.0911354\n",
      " -0.01888382]\n",
      "y actual: [ 0.11122934 -0.09671414  0.4730081   0.40606022  0.44103     0.47632369\n",
      "  0.89645686 -0.05810074 -0.32173465  0.65104857  0.18613096 -0.30753725\n",
      " -0.04468328  0.39752772  0.87476696  1.31898103 -0.13762101  0.01147565\n",
      "  1.25359413  1.02219638  0.84441471  0.80645598  1.10018227  1.22268856\n",
      "  0.61328348  0.95609479  0.44612049  0.40205863  0.39555767  0.58659775\n",
      "  0.97604237]\n",
      "Household furnishings and operations\n",
      "y pred: [-0.00377006  0.03868618  0.1515668   0.12737456  0.13217826 -0.13274613\n",
      " -0.37426606 -0.08581264  0.05226314  0.03871166 -0.04335909  0.12165242\n",
      " -0.07804335 -0.09324875  0.00926854  0.19994065  0.10237639  0.02376733\n",
      " -0.00513815  0.16156629  0.35564548  0.11004389 -0.12636921  0.01618515\n",
      "  0.26389655  0.14093882 -0.1048196  -0.39165726  0.00169719  0.25104\n",
      " -0.13766274]\n",
      "y actual: [ 0.22510608 -0.03957898  0.00258976  0.16523583  0.15795693  0.25596514\n",
      "  0.21457895  0.15476927  0.11646902  0.27050458  0.16122329  0.01712837\n",
      "  0.24203437  0.3425767   0.51239543  0.43767996  0.40253897  0.411248\n",
      "  0.36027753  0.54751827  0.72224049  0.51554788  0.43419307  0.6451903\n",
      "  0.48066106  0.72417898  0.57992435  0.84449569  0.80545965  0.44822637\n",
      "  0.81552517]\n",
      "Housing\n",
      "y pred: [0.11268289 0.09027145 0.1096235  0.14927208 0.19013861 0.19066882\n",
      " 0.18111214 0.16725534 0.24201074 0.21752661 0.1711573  0.15898453\n",
      " 0.2367099  0.24634695 0.21842307 0.17609805 0.20968547 0.25049886\n",
      " 0.29471523 0.24336565 0.16610217 0.27961823 0.34541473 0.25807944\n",
      " 0.22666013 0.18362746 0.0612974  0.14924464 0.2849073  0.28727132\n",
      " 0.26064804]\n",
      "y actual: [ 0.10530461  0.42030746  0.40266883  0.49032301  0.4321065   0.40597917\n",
      "  0.06610269 -0.00993172 -0.42512245 -0.12571967 -0.17338756  0.36123689\n",
      "  0.25386993  0.13184976  0.06376054 -0.07789263 -0.10242183  0.26215087\n",
      "  0.24624949 -0.02644322  0.50028288  0.23050874  0.2840477   0.72287843\n",
      "  0.17449305  0.54598203  0.44307774  0.39897607  0.66802624  0.4417314\n",
      "  0.67568805]\n",
      "Medical care\n",
      "y pred: [ 0.16607316  0.06934847  0.11855349  0.41073668  0.15514067  0.3428931\n",
      " -3.422731   -2.6420164  -0.77380216  0.9241921   1.039429    0.975031\n",
      "  1.0161324   1.4024128   1.2682638  -1.628061   -1.7822524  -0.13076425\n",
      "  0.63802695  0.46740577  0.48129305  0.50334275  0.5022753   0.1451937\n",
      " -0.04363825  0.34380692  0.5093478   0.5625433   0.46862265  0.11742827\n",
      "  0.39345935]\n",
      "y actual: [-0.10102049 -1.33061924 -2.554863   -0.25779079  1.75175412  0.75137133\n",
      "  0.37380068 -0.1432287  -0.09012189  0.05639119  1.40392003  0.56828254\n",
      "  1.08392291  1.27144466 -0.27499209  0.57254377  1.26056425  0.79828512\n",
      "  0.53665614  0.42652072  1.31503171  1.09825792  0.90430006  0.39304949\n",
      "  1.85881512  3.16289696 -0.16745432  1.86529178  2.72418542 -0.81014604\n",
      " -1.40848945]\n",
      "Nondurables\n",
      "y pred: [ 0.10052427  0.15389064  0.14638874  0.18116122  0.22152802  0.21723685\n",
      "  0.18520537  0.1191683   0.08505446 -0.16279805 -0.06166629 -0.03684942\n",
      "  0.16393739  0.17741066  0.12525174  0.09065812  0.00226922 -0.07029489\n",
      " -0.04080506  0.00958034  0.01712811  0.16130908  0.15858763  0.16836579\n",
      "  0.14036351  0.07209308  0.11151541  0.14571457  0.18888947  0.2282579\n",
      "  0.16501257]\n",
      "y actual: [ 0.44564741  0.25166197 -0.07695001 -0.09589101  0.35684726  0.28810062\n",
      " -0.15928141  0.18817523 -0.01466149  0.00733101  0.53907907  0.36133966\n",
      "  0.40325     0.57740642  0.22023647 -0.1347897   0.14935639  0.71201926\n",
      "  0.40684007  0.09952294  0.84455454  0.2253493   0.50380118  0.7617725\n",
      "  1.05158427  0.50131668  0.42733782  0.456938    0.46534869  0.37372292\n",
      "  0.7244928 ]\n",
      "Other goods and services\n",
      "y pred: [ 0.00805105  0.05709802 -0.09600063 -0.0411874   0.21374291  0.16597825\n",
      "  0.05967161  0.11011691  0.19770275 -0.3897182  -0.3843212  -0.4407384\n",
      "  0.06497278  0.003565    0.01674419  0.13357085  0.02038673 -0.12377951\n",
      " -0.05861581 -0.10622319 -0.0103172   0.17626001  0.04903981  0.04554558\n",
      "  0.20046788  0.27726567  0.07027589 -0.06733308  0.09110909  0.19862877\n",
      "  0.20893958]\n",
      "y actual: [-0.04910062  0.26715602  0.09764197  0.49276968 -0.25794446  0.37104481\n",
      "  0.21687066  0.20341423  0.27210607  0.12944287 -0.0008085  -0.36178415\n",
      "  0.32674296  0.38612216  0.31157602  0.15889961  0.23921029  0.42335342\n",
      "  0.25326036  0.33237424  0.46247729 -0.12041732  0.13250363  0.41006767\n",
      "  0.42611142  0.14371597  0.29459617  0.28959249  0.22296841  0.13050152\n",
      "  0.15761256]\n",
      "Other services\n",
      "y pred: [-0.10744333 -1.2461519  -5.758518   -3.4410594  -0.73328584  0.97900903\n",
      "  1.071525    1.9182332   2.9926195   3.920171    2.2492225   0.51183057\n",
      " -0.27002898 -0.39020646 -0.41116202  0.02572169 -1.0115603   2.3134766\n",
      "  2.8047483   2.1954334   1.3227068   0.92446244  0.4895078  -0.87461954\n",
      " -3.9339783  -2.4914563  -2.3172204   0.15383044  0.4637304   1.1914308\n",
      "  1.1695368 ]\n",
      "y actual: [-0.33046496  0.12394983 -0.21762973  0.87910136 -0.62374259 -0.59382988\n",
      "  0.73068318  0.17182557  0.40059613  0.43548626 -0.2792731  -0.7188083\n",
      "  0.54956634  0.42500176  0.91374964  0.23515543  0.19220764  0.55134365\n",
      "  0.47707401  0.15588468  0.69103003 -0.20358201 -0.19059476  0.93061883\n",
      "  0.72838522  0.24007384  0.42298374  0.36442797  0.29349692  0.32086324\n",
      "  0.21105493]\n",
      "Recreation\n",
      "y pred: [-0.17730507  0.04513392  0.00510503  0.10441606  0.13056877 -0.11436627\n",
      "  0.12177433  0.29751948  0.43216863  0.0516265  -0.02699181 -0.06497758\n",
      " -0.2757369  -0.18118748  0.21375269  0.45201996  0.1363674  -0.3317235\n",
      " -0.92746806 -2.7835252  -1.0228026   1.4059844   1.293947    1.0464443\n",
      "  0.736518    0.68363804 -0.3357397  -0.46767548 -1.0714574  -0.41074696\n",
      "  0.27279097]\n",
      "y actual: [ 0.21973813 -0.05526689 -0.33618461 -0.04729566  0.23141427  0.55634813\n",
      "  0.13409785  0.08049257  0.12691442  0.28235369  0.08726943 -0.05886862\n",
      "  0.25345605  0.42664542  0.58523063  0.38384936  0.42806388  0.29642731\n",
      "  0.05077801  0.29452871  0.57952681  0.36576517  0.27826195  0.60649393\n",
      "  0.47926328  0.65984773  0.75310267  0.74942064  0.8542302   0.3370205\n",
      "  0.66519153]\n",
      "Services\n",
      "y pred: [-0.09770323 -0.02975141  0.20000213  0.40236977 -0.0584143   0.26101404\n",
      "  0.0530127   0.091079   -0.04383545  0.12062661  0.00797385  0.35945952\n",
      "  0.42803302  0.2982489  -0.28269735 -0.36031073 -0.10780133  0.00895137\n",
      "  0.1815341   0.13849548  0.31995225  0.30539724  0.26604024  0.00972296\n",
      " -0.0366986   0.28143144  0.34652087  0.41794443  0.552616    0.4407749\n",
      "  0.6564633 ]\n",
      "y actual: [-0.54422871 -2.95594683 -6.05171235 -1.8543522   2.47870387  2.85664497\n",
      "  1.32463515  0.97324249  0.04126791  0.26341816  1.41551721  0.60290172\n",
      "  1.13948699  2.64928564  2.50790261  2.10194105  3.55104354  0.64758952\n",
      " -0.10799389  0.28772493  2.3410122   2.43540074  0.79280157  0.39007552\n",
      "  1.89975708  3.82245328 -0.38003884  1.98103966  3.77330657 -2.11344435\n",
      " -2.2948816 ]\n",
      "Transportation\n",
      "y pred: [ 2.3297065e-01 -1.0609925e-03 -5.4047823e-01 -1.1737792e+00\n",
      " -3.0800718e-01  1.7090645e-01  4.1411519e-02  2.5559509e-01\n",
      "  2.4456775e-01  1.9386187e-01  2.5600943e-01  4.3066445e-01\n",
      "  1.9217294e-01  1.0001612e-01  2.8746775e-01  3.3077624e-01\n",
      "  2.4427149e-01  1.1431135e-01  1.9163650e-01  2.0806631e-01\n",
      "  2.7726978e-01  4.5176554e-01  5.3517979e-01  3.8490695e-01\n",
      "  1.9148797e-01  2.4338555e-01  4.9381623e-01  3.5711160e-01\n",
      "  3.7914416e-01  5.4565501e-01  2.0256928e-01]\n",
      "y actual: [ 0.16373408 -1.21922148 -1.11822694 -0.69548496 -0.08973137  1.28498138\n",
      "  0.14898286  0.89246362  1.02347782  0.80700075 -0.15755563 -0.5301468\n",
      "  0.30032626  0.36584475  1.35237453  0.94050035  0.35538942  0.24087565\n",
      " -0.24437087  0.02752155  1.22077149  0.41165612  0.22106002  1.59804681\n",
      "  0.21623726  1.06297987  1.96854802  2.15746896  1.31573791 -0.49320901\n",
      "  0.67177732]\n",
      "Utilities and public transportation\n",
      "y pred: [ 3.6575678e-01 -2.4237938e-02 -2.1420934e+00 -3.8253686e+00\n",
      " -1.8595233e+00 -2.1971938e-01 -5.7080485e-02  4.5689505e-01\n",
      "  9.8250544e-01  1.5707662e+00  1.7931819e+00  1.0565864e+00\n",
      "  5.6109214e-01  3.5362932e-01  2.1171007e-01  5.4359436e-05\n",
      "  1.7051819e-01  9.7914912e-02  1.8213360e-01  3.4529158e-01\n",
      "  3.2810709e-01  5.4883218e-01  8.0496961e-01  6.1363614e-01\n",
      "  8.1000857e-02 -3.3840410e-02  1.3135943e-01 -1.4123163e-01\n",
      "  3.1185487e-01  7.1261948e-01 -2.0236051e-01]\n",
      "y actual: [-0.41030255 -1.87081916 -3.42804639 -0.57808231  1.4879104   1.25082355\n",
      "  1.16127694  0.66753212 -0.26634535  0.04588056  1.16979723  0.83099346\n",
      "  0.76273069  1.39924391  1.43966628  1.43410553  2.19639551  0.76445955\n",
      "  0.68938504  0.41731063  1.86248171  1.75673115  0.91782276  0.59461396\n",
      "  1.42585007  2.64518126 -0.89058073  1.38260195  2.56873341 -1.38357889\n",
      " -1.56437625]\n",
      "Commodities less food\n",
      "y pred: [ 0.23267424  0.01954392 -3.163652   -4.0145526  -1.9144039  -0.31996736\n",
      " -0.02799187  0.6015714   1.5644414   2.3129084   1.8027889   1.0132133\n",
      "  0.6422932   0.37386197  0.09990364 -0.3248408  -0.23566699  0.4990409\n",
      "  0.5446059   0.5691869   0.49508572  0.6717739   0.9157715   0.85242164\n",
      " -0.2548954  -0.64281917 -0.33860204 -0.1707949   0.44050184  0.83721924\n",
      " -0.70548713]\n",
      "y actual: [-0.44177034 -1.9772888  -3.60164952 -0.64231225  1.5518004   1.32397783\n",
      "  1.20339887  0.70645167 -0.29397575  0.02861893  1.22629472  0.86575986\n",
      "  0.80340932  1.44820556  1.49503424  1.48187717  2.27192153  0.78426939\n",
      "  0.70379297  0.42901936  1.9471451   1.82812465  0.93470591  0.60066138\n",
      "  1.44917231  2.7198013  -0.93389391  1.41325744  2.64171013 -1.44728442\n",
      " -1.63071792]\n",
      "Commodities less food and beverages\n",
      "y pred: [ 0.3762759  -0.05273404 -2.5223033  -3.9209735  -2.0368328  -0.3912793\n",
      " -0.07954291  0.4972467   1.161925    1.8538032   1.9492869   1.0537488\n",
      "  0.57099324  0.37101337  0.18817744 -0.08529826  0.14205465  0.1570406\n",
      "  0.2247872   0.38778174  0.34075043  0.5613836   0.84158736  0.67093384\n",
      "  0.05086955 -0.08252806  0.05657551 -0.2592215   0.29510653  0.73406124\n",
      " -0.28678504]\n",
      "y actual: [ 0.1546351  -0.33453436 -0.70674631 -0.19903991  0.21444197  0.68717285\n",
      "  1.04434896  0.7758246  -0.23033689  0.08686583  0.1516632   0.0109218\n",
      " -0.20566649  0.08067715  1.97462093  1.80551192  2.1361698   0.48003948\n",
      "  0.32130701  0.24763546  1.03683072  0.93060727  1.23613272  0.93399473\n",
      "  0.43695641 -0.4253365   0.18146219  0.68377999  0.78024902  0.22953154\n",
      "  0.45748857]\n",
      "Commodities less food and energy commodities\n",
      "y pred: [ 0.18927848 -0.01585675 -3.7665725  -3.9993484  -1.9500895  -0.45794865\n",
      " -0.06540854  0.7017114   1.8973387   2.7178187   1.9561465   0.99807775\n",
      "  0.65308243  0.37790328  0.05211434 -0.4799759  -0.3819658   0.764194\n",
      "  0.6809804   0.67725575  0.5635246   0.7163446   0.96309435  0.9471482\n",
      " -0.30399573 -0.7680066  -0.58576787 -0.4999539   0.3196815   0.8803032\n",
      " -0.62794423]\n",
      "y actual: [ 0.12217724 -0.50063716 -0.75151902 -0.17728344  0.41802423  0.45492021\n",
      "  0.41714625 -0.12509882 -0.25549482  0.3105026   0.36023959  0.106793\n",
      " -0.09514977  0.00753314  0.73142934  0.88122398  0.64146487  0.53220563\n",
      "  0.6895778   0.43228827  0.75775582  0.62418352  0.78735725  0.79655101\n",
      "  0.60106179  0.37676534  0.30973476  0.42573891  0.59150636  0.37725893\n",
      "  0.58582039]\n",
      "Commodities less food, energy, and used cars and trucks\n",
      "y pred: [ 0.01150985  0.07243928  0.16145107  0.36933193  0.06921834  0.02699685\n",
      "  0.1565288   0.13466159 -0.06854167  0.06978334  0.08531826  0.3156552\n",
      "  0.27810258  0.17062333 -0.07685094 -0.21703374  0.06484701  0.03662923\n",
      "  0.12309974  0.07142402  0.28238532  0.25643748  0.34872255  0.14429381\n",
      "  0.37457916  0.31036362  0.4333709   0.3684692   0.4634896   0.5614111\n",
      "  0.6017611 ]\n",
      "y actual: [ 0.01491637 -0.01762867  0.06507504  0.00542101 -0.26869334  1.84986023\n",
      "  0.4551754  -0.09831275  0.12088446 -0.01460465  0.03982583 -0.11022358\n",
      "  0.06508644 -0.04515752  0.42156119  0.17314648 -0.00660314  0.16099238\n",
      "  0.33566576  0.39869951  0.13472596 -0.24997559 -0.01179438  0.04847913\n",
      " -0.10484929 -0.47186949 -0.45028169 -0.29689344 -0.01061966 -0.40038629\n",
      " -0.17609161]\n",
      "Communication\n",
      "y pred: [ 0.06092715  0.06402423  0.04335098  0.16815993  0.14145595  0.13697618\n",
      "  0.02142314  0.14951846  0.09363794 -0.08728421  0.03973934  0.10554603\n",
      "  0.14370187  0.16210166  0.15591447  0.08879753  0.17406431  0.0330555\n",
      "  0.24748558 -0.08823619  0.16748482  0.28613067  0.09885189  0.16866985\n",
      "  0.151171    0.25160986  0.2075895   0.14121589  0.15581706  0.46926907\n",
      "  0.32522056]\n",
      "y actual: [ 0.42575373  0.53113816  2.41641892  1.13192394  0.74692882 -1.19624575\n",
      " -0.11696199 -0.42720893  0.06664317 -0.07589198  0.21173725 -0.06924649\n",
      "  0.30087345  0.24487134  0.73749572  0.41061903  0.68477405  0.63345052\n",
      "  0.22193676  1.0857709   1.08358832  0.44744757  0.36773339  1.18096535\n",
      "  1.42682905  1.54388688  1.27854427  1.34016469  1.06931319  1.41105067\n",
      "  0.7164604 ]\n",
      "Domestically produced farm food\n",
      "y pred: [ 1.3529819e-01  1.3346890e-01  7.3118500e-02  6.8204813e-02\n",
      "  3.2130688e-02  2.0309851e-01  1.0803156e-02 -4.3775968e-02\n",
      "  5.4992039e-02  1.9057840e-04  1.5252003e-01  2.6774547e-01\n",
      "  1.1387217e-01  1.0866784e-02  3.7630226e-02  1.4975670e-01\n",
      "  8.0715142e-02 -3.2875463e-03  9.5380142e-02  1.6191077e-01\n",
      "  1.4104384e-01  3.2836604e-01  2.3876378e-01  1.4269251e-01\n",
      "  1.3050944e-01  2.5490832e-01  1.9873950e-01  1.3247702e-01\n",
      "  2.6183179e-01  2.4309036e-01  2.2741741e-01]\n",
      "y actual: [ 0.30769369  0.26235161  0.23139431  0.1582667   0.07738199  0.20495694\n",
      " -0.3240026  -0.25922056  0.04768497  0.12778705  0.24367193  0.19495191\n",
      "  0.17329818 -0.17770798  0.23785152  0.3495093   0.21859926  0.22212359\n",
      "  0.0232762   0.37856767  0.1925444   0.2015569   0.12585717  0.17535873\n",
      "  0.17433349  0.25645408  0.21898916  0.28233129  0.40621254  0.13905593\n",
      "  0.49576124]\n",
      "Education\n",
      "y pred: [ 0.12798141  0.08186306  0.12591276  0.08239906  0.04311309  0.16219878\n",
      "  0.07895699  0.02937561  0.07880504  0.06117775  0.1134932   0.22276422\n",
      "  0.04885606  0.04688813  0.12821321  0.1656393   0.0609196  -0.01372971\n",
      "  0.12651755  0.18602207  0.11089472  0.25122985  0.22451094  0.19851452\n",
      "  0.24516901  0.22737095  0.13779798  0.19819963  0.25862494  0.21109587\n",
      "  0.1314252 ]\n",
      "y actual: [ -3.51187636 -10.92978051 -22.26254077  -3.5496808   11.10550982\n",
      "   5.19325937   1.95895622  -0.06521064  -0.51297623  -0.23796469\n",
      "   7.90393666   5.90322926   6.38212708   8.50135086  -1.3705755\n",
      "  -0.57325834   2.52524758   2.30104178   2.63187672   1.3022914\n",
      "   6.02789599   5.728325    -0.5913188   -0.89618535   6.497984\n",
      "  16.6729462   -5.51877497   4.42984345   9.87955109  -7.95077337\n",
      " -10.62231384]\n",
      "Energy commodities\n",
      "y pred: [ 0.11740438  0.03535068  0.05827127  0.07393387  0.16418327  0.05571954\n",
      "  0.09821589  0.14994892  0.17343442  0.10672434  0.05719195  0.01906343\n",
      " -0.03460289  0.10959911  0.10940503  0.10109062  0.05875831  0.16448346\n",
      "  0.12656859  0.12917638  0.09230161  0.06707191  0.02198909  0.10624137\n",
      "  0.22123134  0.14804038  0.08879594  0.11658981  0.15604326  0.13946795\n",
      "  0.09028015]\n",
      "y actual: [-0.29667448 -0.49117482  0.09882128 -0.47681531 -0.20858157  0.02127349\n",
      " -0.18518157  1.63296622  0.76692372  1.05404469  0.14305025 -0.51478808\n",
      "  0.90557667  0.59114595  1.44245811  0.65441029  0.17554712  0.78548192\n",
      "  1.12047269  1.23460587  2.92391614  0.34826652 -0.12116871  2.81674971\n",
      " -0.43144669  1.77935923  1.30365689  2.98521161  3.40865593  0.1222718\n",
      "  2.03416246]\n",
      "Energy services\n",
      "y pred: [ 0.07943834  0.06436701  0.14534742  0.06602451  0.03894487  0.13434964\n",
      "  0.05734966  0.00366493  0.06170439  0.02445465  0.11273033  0.18779473\n",
      " -0.04876483  0.02478743  0.13129622  0.12925321  0.02568611 -0.02932062\n",
      "  0.1325601   0.21361741  0.07863267  0.16891706  0.14391789  0.17443694\n",
      "  0.31317964  0.24642259  0.12130969  0.18621618  0.25575653  0.21190938\n",
      "  0.08782225]\n",
      "y actual: [ 0.48404338  0.49559246  2.54371061  0.99711752  0.67387658 -1.10904103\n",
      " -0.09819333 -0.43192667  0.11650217 -0.25624512  0.36745156  0.03294102\n",
      "  0.25720148  0.10720298  0.43475242  0.35444866  0.82854788  0.67076094\n",
      "  0.36912722  1.23588738  0.96238829  0.79528652  0.4150072   0.8341086\n",
      "  1.37466136  1.44108355  1.04143071  1.43049936  1.0123204   1.33435581\n",
      "  0.74560233]\n",
      "Food at home\n",
      "y pred: [ 0.08045743  0.04530975  0.04051475 -0.07277212 -0.01315042 -0.06840152\n",
      " -0.00718682  0.22520804  0.05667646 -0.02601546  0.10522822  0.08026525\n",
      "  0.12971628  0.06013019  0.08745513  0.1819891   0.16148815  0.13133362\n",
      " -0.00557756 -0.02323014  0.24690363  0.21604195  0.11419802  0.20839983\n",
      "  0.18632118  0.31684807  0.39980105  0.3019547   0.20164552  0.23495138\n",
      "  0.26677942]\n",
      "y actual: [0.22248411 0.1500008  0.14564739 0.36747828 0.51630401 0.46953395\n",
      " 0.28405066 0.55458467 0.27328988 0.1207758  0.37348066 0.33780718\n",
      " 0.05258586 0.11871569 0.30594865 0.54915056 0.70693021 0.77861479\n",
      " 0.42536093 0.53519856 0.83127276 0.60056804 0.59761291 0.65919154\n",
      " 0.44007186 0.25180189 0.57962372 0.73686537 0.94079184 0.69930249\n",
      " 0.86244476]\n",
      "Food away from home\n",
      "y pred: [ 0.05319     0.4441336   0.2676603  -0.15150261 -0.22148556  0.54648423\n",
      "  0.54614735  0.4126786   0.2481508   0.35705048  0.41678798  0.35248092\n",
      " -0.5779104  -0.7333156  -0.0840899   0.14201128  0.21053603 -0.17731437\n",
      "  0.25093052  0.26449117  0.10001186  0.13969353  0.4241841   0.09444928\n",
      " -0.32168546 -0.15295622  0.33051616  0.30740947  0.24405661 -0.00432259\n",
      "  0.1369756 ]\n",
      "y actual: [-0.56799808 -0.89309366 -0.35220365 -0.5804553   0.05337007  0.1142686\n",
      " -0.08226023  1.43237854  0.75330863  1.10714093  0.37776623 -0.40922932\n",
      "  1.35423951  0.7326819   1.26038216  0.72724492  0.31060244  0.77487971\n",
      "  1.08999359  1.32651003  3.24061325  0.40954787 -0.2997302   2.94350303\n",
      " -0.06036721  2.55926096  1.4578895   3.62977033  3.11957169 -0.44707798\n",
      "  1.75405141]\n",
      "Household energy\n",
      "y pred: [ 2.21928805e-01 -1.33211434e-01 -1.62017417e+00 -3.36691022e+00\n",
      " -1.36643744e+00 -4.46029380e-02 -4.17381525e-04  3.53473723e-01\n",
      "  7.47704685e-01  6.85500801e-01  1.06786311e+00  1.15856004e+00\n",
      "  7.93954015e-01  5.29769957e-01  2.67406672e-01  4.30223569e-02\n",
      "  5.55103838e-01  6.86697841e-01 -6.74135238e-03 -1.45496100e-01\n",
      "  4.05038446e-02  6.84948087e-01  8.05668294e-01  6.25573754e-01\n",
      "  5.07241726e-01  1.03343976e+00  1.40689325e+00 -1.55070350e-02\n",
      " -3.05070311e-01  4.78490084e-01  1.14667766e-01]\n",
      "y actual: [-0.55864539 -3.05629428 -6.91537968 -1.3064757   2.99684152  1.95870048\n",
      "  0.67051074 -0.2335857  -0.42470339  0.02656367  2.4592586   1.1957927\n",
      "  1.8806978   2.90950866 -0.59589125  0.46595005  1.37049961  0.79577227\n",
      "  0.80372613  0.11050066  1.87123213  1.62928594  0.55909796  0.62431012\n",
      "  2.50707084  5.80221103 -1.48739819  2.28091824  4.34267705 -2.71291518\n",
      " -3.62633733]\n",
      "Nondurables less food\n",
      "y pred: [ 4.92676757e-02  8.96535069e-03 -6.53913096e-02 -8.90371948e-03\n",
      "  2.03420401e-01  6.66455030e-02  2.45951116e-04  1.90003723e-01\n",
      "  2.27032214e-01  8.47091004e-02  7.39954039e-02 -1.80955902e-02\n",
      " -1.06405236e-01  1.49853498e-01  1.40246540e-01  1.30934626e-01\n",
      " -3.83423567e-02  2.17782885e-01  3.08297575e-01  1.94056839e-01\n",
      "  1.16727129e-01  2.92048007e-02 -3.90742719e-02  1.18215516e-01\n",
      "  3.53950560e-01  2.76572555e-01  1.42120570e-01  8.68703574e-02\n",
      "  2.08415896e-01  2.08289385e-01  1.37000814e-01]\n",
      "y actual: [-0.72478894 -3.32670323 -7.57410731 -0.97445853  3.36521033  2.15807231\n",
      "  0.63805634 -0.11187224 -0.25735047 -0.12525052  2.68794189  1.14739208\n",
      "  2.6500885   3.97899305 -1.13518816  0.13769122  1.77642005  0.97581247\n",
      "  0.75555737  0.48431012  2.28365187  1.56935495  0.54986917  0.26280939\n",
      "  2.67085685  7.89990753 -1.65423306  2.66886407  4.95756041 -3.65983106\n",
      " -4.35946411]\n",
      "Nondurables less food and apparel\n",
      "y pred: [-0.08708062  0.11285593 -0.14002597 -0.16113263 -0.08319823  0.04974789\n",
      "  0.20585859  0.20987841 -0.06728411 -0.1724636   0.02987763  0.1333123\n",
      " -0.06757996  0.03920449  0.15021136  0.33424798  0.28084075  0.09206797\n",
      " -0.05325494  0.06797868  0.19016239  0.17998981  0.12010665  0.04735056\n",
      "  0.26292977  0.3015315   0.143767   -0.02318519  0.1500945   0.26561365\n",
      "  0.06106354]\n",
      "y actual: [-0.65142856 -3.33337542 -7.54175486 -1.48579796  3.24654504  2.1538609\n",
      "  0.69984375 -0.22768397 -0.49392198 -0.02829793  2.66324393  1.30574902\n",
      "  2.05539523  3.14264451 -0.63716853  0.49354997  1.43875297  0.82940628\n",
      "  0.8312624   0.10071441  2.04330995  1.7509142   0.55998463  0.65724095\n",
      "  2.62543024  6.18368486 -1.60897203  2.39573777  4.61792523 -2.93414061\n",
      " -3.90575226]\n",
      "Nondurables less food and beverages\n",
      "y pred: [ 0.12956116  0.11500805  0.04344149 -0.0175769   0.03724645  0.09297626\n",
      "  0.15716806  0.11782186  0.07315761  0.06502882  0.11390887  0.06813937\n",
      " -0.05579168 -0.00547784  0.12720272  0.24804282  0.20875964  0.12272954\n",
      "  0.0575865   0.08459082  0.11400509  0.1433231   0.11894669  0.16457406\n",
      "  0.25177056  0.23680621  0.23028594  0.21068615  0.20941174  0.2208279\n",
      "  0.20403937]\n",
      "y actual: [-0.87723933 -3.72468613 -8.47798513 -1.1601999   3.74411033  2.44174309\n",
      "  0.66476009 -0.11431393 -0.32242764 -0.20580302  2.99357141  1.29018874\n",
      "  2.95615571  4.40535985 -1.26675578  0.13928043  1.92598143  1.03303147\n",
      "  0.78407093  0.51456022  2.54700584  1.72160416  0.54789149  0.41698066\n",
      "  3.07192529  8.19618008 -1.94355761  2.67517567  5.3833005  -3.74286023\n",
      " -4.88926772]\n",
      "Nondurables less food, beverages, and apparel\n",
      "y pred: [ 0.129576    0.12200562  0.06014944 -0.0165483   0.03641037  0.09443782\n",
      "  0.1585367   0.11088333  0.05916102  0.07055347  0.11203415  0.06815927\n",
      " -0.0513192  -0.01336178  0.1237298   0.24835509  0.20470905  0.11356425\n",
      "  0.03352726  0.06060706  0.1060176   0.12303394  0.11505484  0.1612939\n",
      "  0.2252096   0.2328133   0.21861017  0.20527673  0.17654738  0.16809887\n",
      "  0.1797497 ]\n",
      "y actual: [ 0.40168306  0.08274652  0.00251912 -0.07728203  0.18764134  0.17096313\n",
      " -0.2800629   0.14725659  0.02724596 -0.051564    0.42680211  0.01586533\n",
      "  0.34632177  0.56793231  0.23469243 -0.20201735  0.03845192  0.77497423\n",
      "  0.48244927 -0.05226538  0.59737894  0.05601195  0.45181714  0.96198846\n",
      "  1.15669844  0.49272941  0.43273112  0.36530078  0.44406949  0.39875771\n",
      "  0.63249219]\n",
      "Personal care\n",
      "y pred: [ 0.1250063   0.10788308  0.01233933 -0.04449908  0.01372131  0.07285783\n",
      "  0.15169466  0.11731038  0.06876102  0.07787398  0.12774687  0.08057092\n",
      " -0.09276851 -0.04076049  0.11590675  0.26894334  0.2464113   0.1491159\n",
      "  0.07649633  0.09880056  0.1243035   0.12303023  0.08425667  0.16404872\n",
      "  0.28487378  0.28230837  0.25574282  0.19224739  0.20801032  0.21927449\n",
      "  0.19916272]\n",
      "y actual: [ 0.05091509 -0.1877394  -0.50069707  0.10301157 -0.43448138  0.27908812\n",
      "  0.83870152 -0.52259955 -0.17017021  0.53732831  0.33878385  0.68455569\n",
      "  0.19051066  0.11260278  0.39909983  0.26626977 -0.08958312  0.5660091\n",
      "  0.10850233  0.37211499  0.208339    0.23413129  0.9745472   0.80124997\n",
      "  1.29173566  2.05363535  0.91503708  0.2289649   0.66379517  0.90663444\n",
      "  1.10815363]\n",
      "Pets, pet products and services\n",
      "y pred: [ 8.99528041e-02  8.53413194e-02  1.94579363e-04 -5.61854914e-02\n",
      "  1.25922635e-02  1.18353039e-01  2.27779269e-01  1.57308042e-01\n",
      "  7.40830600e-02 -4.29305434e-03  1.39949739e-01  8.04914832e-02\n",
      " -9.63148251e-02 -5.28913066e-02  1.35057122e-01  3.37698162e-01\n",
      "  3.07153761e-01  9.70134810e-02 -3.24844941e-02  8.21686536e-02\n",
      "  9.94249210e-02  1.13258712e-01  4.46392745e-02  1.62691772e-01\n",
      "  3.56675476e-01  3.07200819e-01  2.54149795e-01  1.71810746e-01\n",
      "  2.11221069e-01  2.80714393e-01  2.04294920e-01]\n",
      "y actual: [ 3.54518093  0.1216569  -1.41934129 -0.90177702  1.65740486  0.08813645\n",
      " -0.87824705  0.12991147  0.30423304 -0.08852891 -0.39736204  0.99440235\n",
      "  1.67703244 -1.00519021 -0.33339248  0.77099574  0.15452642  0.70338144\n",
      " -0.30970564  0.10334183  0.05808288  1.16610795 -0.39743699  0.72086407\n",
      "  0.19431662  0.4431004   0.51029197  1.33206302 -0.52222037  1.27339761\n",
      "  0.99815284]\n",
      "Photography\n",
      "y pred: [ 0.159955    0.14076014  0.07473185  0.03354388  0.08115193  0.07241967\n",
      "  0.09202246  0.08076128  0.0549884   0.11091013  0.09905389  0.07666434\n",
      " -0.00138237  0.02822725  0.11393838  0.15377247  0.11418597  0.13497943\n",
      "  0.11885219  0.09806745  0.13167627  0.14583084  0.16417718  0.17326033\n",
      "  0.17125264  0.20006427  0.20594238  0.20273295  0.20608762  0.17683133\n",
      "  0.20621783]\n",
      "y actual: [-0.61159899 -2.43617467 -5.73509333 -1.68953669  2.55614786  2.81835148\n",
      "  1.52174766  0.95186605 -0.15983801  0.0854111   1.58467718  0.82615343\n",
      "  1.4011209   2.79255767  2.27165045  1.96543318  3.64573494  0.66979487\n",
      "  0.29856808  0.66589628  2.54435874  2.40445985  0.71711316  0.47073154\n",
      "  1.82831101  3.68232795 -0.96915177  1.63622315  4.00601881 -1.89130162\n",
      " -2.24627993]\n",
      "Private transportation\n",
      "y pred: [ 0.23843807 -0.08243266 -1.9075148  -3.353203   -1.4180033  -0.03670391\n",
      "  0.00455085  0.35456666  0.7944545   1.0065421   1.3086051   1.1110013\n",
      "  0.7105654   0.48493645  0.30015656  0.06555778  0.49501947  0.579791\n",
      "  0.01277532 -0.27111143 -0.19448832  0.66544497  0.82806325  0.6439207\n",
      "  0.5384371   1.1342528   1.5399745   0.28871834 -0.21168143  0.34213725\n",
      " -0.07569563]\n",
      "y actual: [ 2.47146229e-01 -3.25685542e-02 -3.58955918e-01 -2.45212519e-02\n",
      "  2.53970427e-01  5.84214557e-01  1.50725522e-01 -2.89082928e-04\n",
      "  9.33303543e-02  2.41445327e-01  8.43827224e-02 -3.48388419e-02\n",
      "  2.18908794e-01  4.18073516e-01  5.39074095e-01  3.69307061e-01\n",
      "  4.41657965e-01  2.69805253e-01 -7.32052055e-03  2.42979998e-01\n",
      "  4.48130251e-01  3.66481231e-01  3.00998920e-01  4.74966808e-01\n",
      "  5.33236074e-01  5.93299450e-01  7.20154551e-01  6.13366894e-01\n",
      "  6.94577903e-01  3.50559957e-01  5.78099370e-01]\n",
      "Services less energy services\n",
      "y pred: [-0.1729981   0.01759145  0.02630952  0.14144662  0.1456641  -0.16046685\n",
      "  0.11026219  0.29779232  0.4495628   0.04680689 -0.22935775 -0.06459663\n",
      " -0.03113151 -0.01140366  0.25405887  0.4927605   0.21364114 -0.25497812\n",
      " -0.4326358  -2.1742656  -1.1737698   1.1895349   1.2598679   1.1349145\n",
      "  0.80751294  0.59756905 -0.9566115  -1.0377216  -0.7416849  -0.35718727\n",
      "  0.30351204]\n",
      "y actual: [ 0.24818138 -0.10728914 -0.3970463  -0.17732828  0.18180543  0.55552687\n",
      "  0.16110508  0.11296819  0.19928688  0.34850892  0.09331917 -0.21735401\n",
      "  0.25043619  0.43440746  0.78978198  0.46290127  0.45521841  0.29833536\n",
      "  0.05808566  0.31657245  0.54276828  0.3096166   0.30775273  0.62020054\n",
      "  0.57151499  0.69074451  0.76269261  0.7876392   0.81630728  0.31951824\n",
      "  0.69316326]\n",
      "Services less medical care services\n",
      "y pred: [ 0.09330014  0.04404318 -0.30115142 -0.2522439  -0.07642753  0.13352281\n",
      "  0.27142006  0.1985296   0.17601338  0.15191537  0.26041272  0.04560671\n",
      " -0.3169565  -0.11362674  0.2325154   0.3699776   0.39153442  0.2803836\n",
      "  0.18488133  0.12346756 -0.09316394  0.04145962  0.04794064  0.204628\n",
      "  0.44345087  0.3853388   0.42639104  0.34201634  0.34158278  0.3526061\n",
      "  0.05923163]\n",
      "y actual: [ 0.20450551 -0.1613867  -0.6201092  -0.29859457  0.29685945  0.89363938\n",
      "  0.16838878  0.07179398  0.16113414  0.48525951 -0.01960392 -0.30791584\n",
      "  0.30677926  0.55679352  1.030566    0.49908391  0.26928913  0.08960214\n",
      "  0.03853474  0.12326684  0.60938775  0.19818779  0.14214526  0.97908109\n",
      "  0.40621986  0.87081403  1.05846492  0.87107736  1.08049496  0.13804419\n",
      "  0.62285327]\n",
      "Services less rent of shelter\n",
      "y pred: [-0.03109521 -0.04354089  0.03791749  0.11736822  0.17833641  0.16017896\n",
      "  0.279756    0.22245619  0.2034097   0.08640149 -0.1049765  -0.08261023\n",
      "  0.01065201  0.19549108  0.1267494   0.17325018  0.24164012  0.3450788\n",
      "  0.10400322  0.08424656  0.06263988 -0.00349274  0.00272139 -0.11105356\n",
      "  0.27018902  0.16056782  0.14725858  0.23045707  0.3427134   0.09962439\n",
      " -0.13586837]\n",
      "y actual: [-0.55846798  0.13446844  0.39007024  0.20340331 -0.12519475  1.06431825\n",
      "  0.63912227  0.28757041  0.21122059 -0.24446619  0.37521767 -0.61565352\n",
      "  0.44711804  0.28257317  0.52619638  0.26388733  0.95655429  0.52250018\n",
      "  0.40888484  0.25827684 -0.13039558 -0.22546713 -0.7624702   1.06744528\n",
      "  0.17665642 -0.13290935  0.48440043  0.82007192  0.01938087 -0.65131266\n",
      " -0.54497986]\n",
      "Video and audio\n"
     ]
    },
    {
     "data": {
      "text/plain": [
       "1.9042385706755554"
      ]
     },
     "execution_count": 27,
     "metadata": {},
     "output_type": "execute_result"
    }
   ],
   "source": [
    "avg_rmse(all_data)"
   ]
  },
  {
   "cell_type": "code",
   "execution_count": null,
   "metadata": {},
   "outputs": [],
   "source": []
  },
  {
   "cell_type": "code",
   "execution_count": null,
   "metadata": {},
   "outputs": [],
   "source": []
  },
  {
   "cell_type": "code",
   "execution_count": null,
   "metadata": {},
   "outputs": [],
   "source": []
  },
  {
   "cell_type": "code",
   "execution_count": null,
   "metadata": {},
   "outputs": [],
   "source": []
  },
  {
   "cell_type": "code",
   "execution_count": null,
   "metadata": {},
   "outputs": [],
   "source": []
  }
 ],
 "metadata": {
  "kernelspec": {
   "display_name": "Python 3.10.8 64-bit",
   "language": "python",
   "name": "python3"
  },
  "language_info": {
   "codemirror_mode": {
    "name": "ipython",
    "version": 3
   },
   "file_extension": ".py",
   "mimetype": "text/x-python",
   "name": "python",
   "nbconvert_exporter": "python",
   "pygments_lexer": "ipython3",
   "version": "3.10.8"
  },
  "orig_nbformat": 4,
  "vscode": {
   "interpreter": {
    "hash": "aee8b7b246df8f9039afb4144a1f6fd8d2ca17a180786b69acc140d282b71a49"
   }
  }
 },
 "nbformat": 4,
 "nbformat_minor": 2
}
