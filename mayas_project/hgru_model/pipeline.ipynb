{
 "cells": [
  {
   "cell_type": "markdown",
   "metadata": {},
   "source": [
    "# Imports"
   ]
  },
  {
   "cell_type": "code",
   "execution_count": 1,
   "metadata": {},
   "outputs": [],
   "source": [
    "import sys\n",
    "sys.path.insert(0, '/Users/mvilenko/Library/CloudStorage/OneDrive-PayPal/CPI_HRNN - version 2.0/mayas_project/hgru_model/model/')"
   ]
  },
  {
   "cell_type": "code",
   "execution_count": 2,
   "metadata": {},
   "outputs": [
    {
     "name": "stderr",
     "output_type": "stream",
     "text": [
      "2023-11-12 17:36:48.065018: I tensorflow/core/platform/cpu_feature_guard.cc:182] This TensorFlow binary is optimized to use available CPU instructions in performance-critical operations.\n",
      "To enable the following instructions: AVX2 AVX512F AVX512_VNNI FMA, in other operations, rebuild TensorFlow with the appropriate compiler flags.\n"
     ]
    }
   ],
   "source": [
    "import pandas as pd\n",
    "import numpy as np\n",
    "import pickle\n",
    "import itertools\n",
    "import random\n",
    "import torch\n",
    "from model.utils import *"
   ]
  },
  {
   "cell_type": "code",
   "execution_count": 3,
   "metadata": {},
   "outputs": [],
   "source": [
    "from pipeline_config import *"
   ]
  },
  {
   "cell_type": "markdown",
   "metadata": {},
   "source": [
    "# Seeds for Comparisons:"
   ]
  },
  {
   "cell_type": "code",
   "execution_count": 4,
   "metadata": {},
   "outputs": [],
   "source": [
    "torch.manual_seed(1)\n",
    "np.random.seed(2)\n",
    "random.seed(3)"
   ]
  },
  {
   "cell_type": "markdown",
   "metadata": {},
   "source": [
    "# Read Data"
   ]
  },
  {
   "cell_type": "code",
   "execution_count": 5,
   "metadata": {},
   "outputs": [],
   "source": [
    "with open(son_parent_path, 'rb') as f:\n",
    "    son_parent_dict = pickle.load(f)\n",
    "\n",
    "with open(son_parent_corr_path, 'rb') as f:\n",
    "    son_parent_corr_dict = pickle.load(f)\n",
    "\n",
    "with open(train_dataset_dict_path, 'rb') as f:\n",
    "    train_dataset_dict = pickle.load(f)\n",
    "\n",
    "with open(test_dataset_dict_path, 'rb') as f:\n",
    "    test_dataset_dict = pickle.load(f)\n",
    "\n",
    "with open(category_id_to_category_name_path, 'rb') as f:\n",
    "    category_id_to_name_dict = pickle.load(f)\n",
    "    \n",
    "with open(categories_per_indent_path, 'rb') as f:\n",
    "    categories_per_indent_dict = pickle.load(f)"
   ]
  },
  {
   "cell_type": "code",
   "execution_count": 6,
   "metadata": {},
   "outputs": [
    {
     "data": {
      "text/plain": [
       "0.0758230781941514"
      ]
     },
     "execution_count": 6,
     "metadata": {},
     "output_type": "execute_result"
    }
   ],
   "source": [
    "Lr"
   ]
  },
  {
   "cell_type": "markdown",
   "metadata": {},
   "source": [
    "# Hierarchical GRU"
   ]
  },
  {
   "cell_type": "code",
   "execution_count": 7,
   "metadata": {},
   "outputs": [],
   "source": [
    "def hgru_model(son_parent_dict, son_parent_corr_dict, train_dataset_dict, test_dataset_dict, categories_per_indent_dict, category_id_to_name_dict, weights_path):\n",
    "    hgru_models = {}\n",
    "\n",
    "    for indent in sorted(list(categories_per_indent_dict.keys())):\n",
    "        for category in categories_per_indent_dict[indent]:\n",
    "            category_name = category_id_to_name_dict[category]\n",
    "\n",
    "            if int(indent) == 0 or son_parent_dict[category] not in categories_per_indent_dict[indent-1] or (category, son_parent_dict[category]) not in son_parent_corr_dict.keys():\n",
    "                loss_coef=0\n",
    "                parent_weights=0\n",
    "            else:\n",
    "                son = category\n",
    "                parent = son_parent_dict[son]\n",
    "                parent_name = category_id_to_name_dict[parent]\n",
    "                #loss_coef = np.exp(alpha)-1\n",
    "                loss_coef = 0.09103560997886097 #post optuna\n",
    "                parent_model = Model\n",
    "                parent_optimizer = Optimizer\n",
    "                parent_model, optimizer, checkpoint, valid_loss_min = load_checkpoint(weights_path+parent_name+'.pt', parent_model, parent_optimizer)\n",
    "                parent_weights = unify_model_weights(parent_model)\n",
    "\n",
    "            train_dataloader, test_dataloader = create_dataloader(train_dataset_dict[category_name], test_dataset_dict[category_name])\n",
    "            model = Model\n",
    "            optimizer = Optimizer\n",
    "            model.to(Device)\n",
    "            saving_param_path = weights_path+category_name+'.pt'\n",
    "            training_and_evaluation(model, train_dataloader, test_dataloader, optimizer, category_name, parent_weights, loss_coef, path=saving_param_path)\n"
   ]
  },
  {
   "cell_type": "code",
   "execution_count": 8,
   "metadata": {},
   "outputs": [],
   "source": [
    "hgru_models = hgru_model(son_parent_dict, son_parent_corr_dict, train_dataset_dict, test_dataset_dict, categories_per_indent_dict, category_id_to_name_dict, weightspath)"
   ]
  },
  {
   "cell_type": "code",
   "execution_count": 9,
   "metadata": {},
   "outputs": [],
   "source": [
    "def get_results_on_test_set(weights_path, train_dataset_dict, test_dataset_dict, categories = None):\n",
    "    predictions_dict = {}\n",
    "    if categories is None:\n",
    "        categories = list(test_dataset_dict.keys())\n",
    "        \n",
    "    for category in categories:\n",
    "        print(category)\n",
    "        train_dataloader, test_dataloader = create_dataloader(train_dataset_dict[category], test_dataset_dict[category])\n",
    "        basic_model = Model\n",
    "        basic_optimizer = Optimizer\n",
    "        ckp_path = weights_path+category+'.pt'\n",
    "        model, optimizer, checkpoint, valid_loss_min = load_checkpoint(ckp_path, basic_model, basic_optimizer)\n",
    "        predictions = get_predictions_on_test_set(model, test_dataloader)\n",
    "        predictions_dict[category] = predictions\n",
    "    return predictions_dict"
   ]
  },
  {
   "cell_type": "code",
   "execution_count": 10,
   "metadata": {},
   "outputs": [],
   "source": [
    "categories_lists = list(categories_per_indent_dict.values())\n",
    "categories_id = list(itertools.chain.from_iterable(categories_lists))\n",
    "categories = []\n",
    "for category_id in categories_id:\n",
    "    categories.append(category_id_to_name_dict[category_id])"
   ]
  },
  {
   "cell_type": "code",
   "execution_count": 11,
   "metadata": {},
   "outputs": [
    {
     "name": "stdout",
     "output_type": "stream",
     "text": [
      "Admission to movies, theaters, and concerts\n",
      "Bacon, breakfast sausage, and related products\n",
      "Bread other than white\n",
      "Canned fruits\n",
      "Canned vegetables\n",
      "Checking account and other bank services\n",
      "Chicken\n",
      "Cookies\n",
      "Crackers, bread, and cracker products\n",
      "Dried beans, peas, and lentils\n",
      "Frankfurters\n",
      "Fresh cakes and cupcakes\n",
      "Fresh fish and seafood\n",
      "Fresh sweetrolls, coffeecakes, doughnuts\n",
      "Frozen and refrigerated bakery products, pies, tarts, turnovers\n",
      "Frozen vegetables\n",
      "Ham\n",
      "Intracity mass transit\n",
      "Lunchmeats\n",
      "Oranges, including tangerines\n",
      "Other condiments\n",
      "Other pork including roasts and picnics\n",
      "Other uncooked poultry including turkey\n",
      "Parking fees and tolls\n",
      "Pork chops\n",
      "Prepared salads\n",
      "Processed fish and seafood\n",
      "Salt and other seasonings and spices\n",
      "Sauces and gravies\n",
      "Ship fare\n",
      "Uncooked beef roasts\n",
      "Uncooked beef steaks\n",
      "Uncooked ground beef\n",
      "Uncooked other beef and veal\n",
      "Video discs and other media\n",
      "White bread\n",
      "Admissions\n",
      "Airline fare\n",
      "Apparel services other than laundry and dry cleaning\n",
      "Apples\n",
      "Bananas\n",
      "Beef and veal\n",
      "Bread\n",
      "Butter\n",
      "Cakes, cupcakes, and cookies\n",
      "Canned fruits and vegetables\n",
      "Child care and nursery school\n",
      "Citrus fruits\n",
      "College tuition and fees\n",
      "Delivery services\n",
      "Dental services\n",
      "Distilled spirits, excluding whiskey, at home\n",
      "Elementary and high school tuition and fees\n",
      "Eyeglasses and eye care\n",
      "Financial services\n",
      "Fish and seafood\n",
      "Fresh biscuits, rolls, muffins\n",
      "Frozen and freeze dried prepared foods\n",
      "Frozen fruits and vegetables\n",
      "Funeral expenses\n",
      "Haircuts and other personal care services\n",
      "Housing at school, excluding board\n",
      "Instant and freeze dried coffee\n",
      "Intracity transportation\n",
      "Land-line telephone services\n",
      "Laundry and dry cleaning services\n",
      "Laundry equipment\n",
      "Lettuce\n",
      "Margarine\n",
      "Men’s pants and shorts\n",
      "Men’s shirts and sweaters\n",
      "Men’s suits, sport coats, and outerwear\n",
      "Motor oil, coolant, and fluids\n",
      "Motor vehicle maintenance and servicing\n",
      "Motor vehicle repair\n",
      "Nursing homes and adult day services\n",
      "Other bakery products\n",
      "Other fresh fruits\n",
      "Other fresh vegetables\n",
      "Other intercity transportation\n",
      "Other lodging away from home including hotels and motels\n",
      "Other meats\n",
      "Other miscellaneous foods\n",
      "Other processed fruits and vegetables including dried\n",
      "Owners’ equivalent rent of primary residence\n",
      "Parking and other fees\n",
      "Physicians’ services\n",
      "Pork\n",
      "Postage\n",
      "Potatoes\n",
      "Poultry\n",
      "Rice\n",
      "Roasted coffee\n",
      "Services by other medical professionals\n",
      "Snacks\n",
      "Soups\n",
      "Spices, seasonings, condiments, sauces\n",
      "State motor vehicle registration and license fees\n",
      "Technical and business school tuition and fees\n",
      "Tomatoes\n",
      "Toys, games, hobbies and playground equipment\n",
      "Vehicle parts and equipment other than tires\n",
      "Veterinarian services\n",
      "Whiskey at home\n",
      "Wireless telephone services\n",
      "Women’s dresses\n",
      "Women’s outerwear\n",
      "Women’s suits and separates\n",
      "Women’s underwear, nightwear, sportswear and accessories\n",
      "Alcoholic beverages\n",
      "Apparel\n",
      "Cereals and bakery products\n",
      "Dairy and related products\n",
      "Education and communication commodities\n",
      "Electricity\n",
      "Food from vending machines and mobile vendors\n",
      "Fruits and vegetables\n",
      "Fuel oil and other fuels\n",
      "Full service meals and snacks\n",
      "Household furnishings and supplies\n",
      "Information and information processing\n",
      "Information technology, hardware and services\n",
      "Limited service meals and snacks\n",
      "Meats, poultry, fish, and eggs\n",
      "Medical care commodities\n",
      "Motor fuel\n",
      "New and used motor vehicles\n",
      "Nonalcoholic beverages and beverage materials\n",
      "Other food at home\n",
      "Other food away from home\n",
      "Other goods\n",
      "Recreation commodities\n",
      "Shelter\n",
      "Transportation commodities less motor fuel\n",
      "Alcoholic beverages at home\n",
      "Alcoholic beverages away from home\n",
      "Appliances\n",
      "Beverage materials including coffee and tea\n",
      "Cereals and cereal products\n",
      "Cheese and related products\n",
      "Education and communication services\n",
      "Educational books and supplies\n",
      "Fats and oils\n",
      "Footwear\n",
      "Fresh fruits and vegetables\n",
      "Fuel oil\n",
      "Furniture and bedding\n",
      "Gasoline all types\n",
      "Housekeeping supplies\n",
      "Ice cream and related products\n",
      "Infants’ and toddlers’ apparel\n",
      "Information technology commodities\n",
      "Jewelry and watches\n",
      "Juices and nonalcoholic drinks\n",
      "Medical care services\n",
      "Medical equipment and supplies\n",
      "Medicinal drugs\n",
      "Men’s and boys’ apparel\n",
      "Milk\n",
      "Miscellaneous personal goods\n",
      "New vehicles\n",
      "Other dairy and related products\n",
      "Other household equipment and furnishings\n",
      "Other motor fuels\n",
      "Other personal services\n",
      "Other recreational goods\n",
      "Personal care products\n",
      "Pets and pet products\n",
      "Photographic equipment and supplies\n",
      "Propane, kerosene, and firewood\n",
      "Recreation services\n",
      "Recreational reading materials\n",
      "Rent of shelter\n",
      "Sporting goods\n",
      "Sugar and sweets\n",
      "Tobacco and smoking products\n",
      "Tools, hardware, outdoor equipment and supplies\n",
      "Transportation services\n",
      "Video and audio products\n",
      "Water and sewer and trash collection services\n",
      "Window and floor coverings and other linens\n",
      "Women’s and girls’ apparel\n",
      "All items\n",
      "All items less energy\n",
      "All items less food\n",
      "All items less food and energy\n",
      "All items less food and shelter\n",
      "All items less food, shelter, and energy\n",
      "All items less food, shelter, energy, and used cars and trucks\n",
      "All items less medical care\n",
      "All items less shelter\n",
      "Apparel less footwear\n",
      "Commodities\n",
      "Durables\n",
      "Education and communication\n",
      "Energy\n",
      "Food\n",
      "Food and beverages\n",
      "Fuels and utilities\n",
      "Household furnishings and operations\n",
      "Housing\n",
      "Medical care\n",
      "Nondurables\n",
      "Other goods and services\n",
      "Other services\n",
      "Recreation\n",
      "Services\n",
      "Transportation\n",
      "Utilities and public transportation\n",
      "Audio equipment\n",
      "Bakery products\n",
      "Bedroom furniture\n",
      "Beer, ale, and other malt beverages at home\n",
      "Beer, ale, and other malt beverages away from home\n",
      "Boys’ and girls’ footwear\n",
      "Boys’ apparel\n",
      "Breakfast cereal\n",
      "Butter and margarine\n",
      "Candy and chewing gum\n",
      "Car and truck rental\n",
      "Carbonated drinks\n",
      "Cigarettes\n",
      "Clocks, lamps, and decorator items\n",
      "Coffee\n",
      "College textbooks\n",
      "Computer software and accessories\n",
      "Cosmetics, perfume, bath, nail preparations and implements\n",
      "Dishes and flatware\n",
      "Distilled spirits at home\n",
      "Eggs\n",
      "Floor coverings\n",
      "Flour and prepared flour mixes\n",
      "Fresh fruits\n",
      "Fresh milk other than whole\n",
      "Fresh vegetables\n",
      "Fresh whole milk\n",
      "Frozen noncarbonated juices and drinks\n",
      "Garbage and trash collection\n",
      "Gasoline, unleaded midgrade\n",
      "Gasoline, unleaded premium\n",
      "Gasoline, unleaded regular\n",
      "Girls’ apparel\n",
      "Hair, dental, shaving, and miscellaneous personal care products\n",
      "Health insurance\n",
      "Hospital and related services\n",
      "Household cleaning products\n",
      "Household paper products\n",
      "Indoor plants and flowers\n",
      "Internet services and electronic information providers\n",
      "Jewelry\n",
      "Living room, kitchen, and dining room furniture\n",
      "Lodging away from home\n",
      "Major appliances\n",
      "Meats\n",
      "Men’s apparel\n",
      "Men’s footwear\n",
      "Miscellaneous household products\n",
      "Miscellaneous personal services\n",
      "Motor vehicle fees\n",
      "Motor vehicle insurance\n",
      "Motor vehicle maintenance and repair\n",
      "Moving, storage, freight expense\n",
      "Music instruments and accessories\n",
      "New cars\n",
      "New trucks\n",
      "Newspapers and magazines\n",
      "Nonelectric cookware and tableware\n",
      "Nonfrozen noncarbonated juices and drinks\n",
      "Nonprescription drugs\n",
      "Other appliances\n",
      "Other beverage materials including tea\n",
      "Other fats and oils including peanut butter\n",
      "Other foods\n",
      "Other furniture\n",
      "Other linens\n",
      "Other recreation services\n",
      "Other sweets\n",
      "Other video equipment\n",
      "Outdoor equipment and supplies\n",
      "Personal care services\n",
      "Personal computers and peripheral equipment\n",
      "Pet food\n",
      "Pet services including veterinary\n",
      "Photographers and film processing\n",
      "Photographic equipment\n",
      "Postage and delivery services\n",
      "Prescription drugs\n",
      "Processed fruits and vegetables\n",
      "Professional services\n",
      "Public transportation\n",
      "Purchase of pets, pet supplies, accessories\n",
      "Recorded music and music subscriptions\n",
      "Recreational books\n",
      "Rent of primary residence\n",
      "Rice, pasta, cornmeal\n",
      "Salad dressing\n",
      "Sewing machines, fabric and supplies\n",
      "Sports equipment\n",
      "Sports vehicles including bicycles\n",
      "Stationery, stationery supplies, gift wrap\n",
      "Sugar and artificial sweeteners\n",
      "Telephone hardware, calculators, and other consumer information items\n",
      "Telephone services\n",
      "Televisions\n",
      "Tenants’ and household insurance\n",
      "Tires\n",
      "Tobacco products other than cigarettes\n",
      "Tools, hardware and supplies\n",
      "Toys\n",
      "Tuition, other school fees, and childcare\n",
      "Vehicle accessories other than tires\n",
      "Video and audio services\n",
      "Watches\n",
      "Water and sewerage maintenance\n",
      "Window coverings\n",
      "Wine at home\n",
      "Wine away from home\n",
      "Women’s apparel\n",
      "Women’s footwear\n",
      "Bacon and related products\n",
      "Breakfast sausage and related products\n",
      "Fresh and frozen chicken parts\n",
      "Fresh whole chicken\n",
      "Frozen fish and seafood\n",
      "Ham, excluding canned\n",
      "Shelf stable fish and seafood\n",
      "Commodities less food\n",
      "Commodities less food and beverages\n",
      "Commodities less food and energy commodities\n",
      "Commodities less food, energy, and used cars and trucks\n",
      "Communication\n",
      "Domestically produced farm food\n",
      "Education\n",
      "Energy commodities\n",
      "Energy services\n",
      "Food at home\n",
      "Food away from home\n",
      "Household energy\n",
      "Nondurables less food\n",
      "Nondurables less food and apparel\n",
      "Nondurables less food and beverages\n",
      "Nondurables less food, beverages, and apparel\n",
      "Personal care\n",
      "Pets, pet products and services\n",
      "Photography\n",
      "Private transportation\n",
      "Services less energy services\n",
      "Services less medical care services\n",
      "Services less rent of shelter\n",
      "Video and audio\n"
     ]
    }
   ],
   "source": [
    "predictions_dict = get_results_on_test_set(weightspath, train_dataset_dict, test_dataset_dict, categories = categories)"
   ]
  },
  {
   "cell_type": "code",
   "execution_count": 12,
   "metadata": {},
   "outputs": [],
   "source": [
    "with open(test_predictions_path, 'wb') as handle:\n",
    "    pickle.dump(predictions_dict, handle, protocol=pickle.HIGHEST_PROTOCOL)"
   ]
  },
  {
   "attachments": {},
   "cell_type": "markdown",
   "metadata": {},
   "source": [
    "# Get Best Model Weights:"
   ]
  },
  {
   "cell_type": "code",
   "execution_count": 13,
   "metadata": {},
   "outputs": [],
   "source": [
    "#def get_weights_per_category(category_list, dir_path):\n",
    "#    weights = {}\n",
    "#    for category in category_list:\n",
    "#        model = GRUModel(input_dim = Features, hidden_dim = HiddenSize, layer_dim = LayersDim, output_dim = OutputDim, dropout_prob = DropoutProb)\n",
    "#        model.to(device)\n",
    "#        optimizer = torch.optim.AdamW(model.parameters(), lr=Lr)\n",
    "        \n",
    "#        best_checkpoint_path = dir_path+category + '.pt'\n",
    "\n",
    "#        category_model, optimizer, checkpoint, valid_loss_min = load_checkpoint(best_checkpoint_path, model, optimizer)\n",
    "#        category_model_weights = unify_model_weights(category_model)\n",
    "\n",
    "#        weights[category] = category_model_weights\n",
    "    \n",
    "#    return weights"
   ]
  },
  {
   "cell_type": "code",
   "execution_count": 14,
   "metadata": {},
   "outputs": [],
   "source": [
    "def get_weights_per_category(category_id_list, dir_path):\n",
    "    basic_model = GRUModel(input_dim = Features, hidden_dim = HiddenSize, layer_dim = LayersDim, output_dim = OutputDim, dropout_prob = DropoutProb)\n",
    "    basic_optimizer = torch.optim.AdamW(basic_model.parameters(), lr=Lr)\n",
    "    #basic_model.to(device)\n",
    "\n",
    "    best_models_weights_dict = {}\n",
    "\n",
    "    for category_id in category_id_list:\n",
    "        category_name = category_id_to_name_dict[category_id]\n",
    "        ckp_path = dir_path+category_name+'.pt'\n",
    "        model, optimizer, checkpoint, valid_loss_min = load_checkpoint(ckp_path, basic_model, basic_optimizer)\n",
    "        category_model_weights = unify_model_weights(model)\n",
    "        best_models_weights_dict[category_id] = category_model_weights\n",
    "        \n",
    "    return best_models_weights_dict"
   ]
  },
  {
   "cell_type": "code",
   "execution_count": 15,
   "metadata": {},
   "outputs": [],
   "source": [
    "dir_path = '/Users/mvilenko/Library/CloudStorage/OneDrive-PayPal/CPI_HRNN - version 2.0/mayas_project/hgru_model/models_weights/'"
   ]
  },
  {
   "cell_type": "code",
   "execution_count": 16,
   "metadata": {},
   "outputs": [],
   "source": [
    "category_id_list = []\n",
    " \n",
    "# list out keys and values separately\n",
    "key_list = list(category_id_to_name_dict.keys())\n",
    "val_list = list(category_id_to_name_dict.values())\n",
    "\n",
    "for cat_name in categories:\n",
    "    position = val_list.index(cat_name)\n",
    "    category_id_list.append(key_list[position])\n"
   ]
  },
  {
   "cell_type": "code",
   "execution_count": 17,
   "metadata": {},
   "outputs": [
    {
     "data": {
      "text/plain": [
       "350"
      ]
     },
     "execution_count": 17,
     "metadata": {},
     "output_type": "execute_result"
    }
   ],
   "source": [
    "len(categories)"
   ]
  },
  {
   "cell_type": "code",
   "execution_count": 18,
   "metadata": {},
   "outputs": [
    {
     "data": {
      "text/plain": [
       "350"
      ]
     },
     "execution_count": 18,
     "metadata": {},
     "output_type": "execute_result"
    }
   ],
   "source": [
    "len(category_id_list)"
   ]
  },
  {
   "cell_type": "code",
   "execution_count": 19,
   "metadata": {},
   "outputs": [],
   "source": [
    "weights_dict = get_weights_per_category(category_id_list, dir_path)"
   ]
  },
  {
   "cell_type": "code",
   "execution_count": 20,
   "metadata": {},
   "outputs": [],
   "source": [
    "with open('/Users/mvilenko/Library/CloudStorage/OneDrive-PayPal/CPI_HRNN - version 2.0/pickle files/hgru_model_weights.pickle', 'wb') as handle:\n",
    "    pickle.dump(weights_dict, handle, protocol=pickle.HIGHEST_PROTOCOL)"
   ]
  },
  {
   "cell_type": "code",
   "execution_count": null,
   "metadata": {},
   "outputs": [],
   "source": []
  }
 ],
 "metadata": {
  "kernelspec": {
   "display_name": "Python 3",
   "language": "python",
   "name": "python3"
  },
  "language_info": {
   "codemirror_mode": {
    "name": "ipython",
    "version": 3
   },
   "file_extension": ".py",
   "mimetype": "text/x-python",
   "name": "python",
   "nbconvert_exporter": "python",
   "pygments_lexer": "ipython3",
   "version": "3.11.3"
  },
  "orig_nbformat": 4,
  "vscode": {
   "interpreter": {
    "hash": "31f2aee4e71d21fbe5cf8b01ff0e069b9275f58929596ceb00d14d90e3e16cd6"
   }
  }
 },
 "nbformat": 4,
 "nbformat_minor": 2
}
