{
 "cells": [
  {
   "attachments": {},
   "cell_type": "markdown",
   "metadata": {},
   "source": [
    "# Imports"
   ]
  },
  {
   "cell_type": "code",
   "execution_count": 1,
   "metadata": {},
   "outputs": [],
   "source": [
    "import pickle\n",
    "from config import *"
   ]
  },
  {
   "attachments": {},
   "cell_type": "markdown",
   "metadata": {},
   "source": [
    "# Read + process Data"
   ]
  },
  {
   "cell_type": "code",
   "execution_count": 2,
   "metadata": {},
   "outputs": [],
   "source": [
    "with open(BaselinePath, 'rb') as f:\n",
    "    raw_dataset_dict = pickle.load(f)"
   ]
  },
  {
   "cell_type": "code",
   "execution_count": 3,
   "metadata": {},
   "outputs": [],
   "source": [
    "def train_test_split(dic: dict, year: int) -> dict:\n",
    "    train = {}\n",
    "    test = {}\n",
    "    for key in dic.keys():\n",
    "        category_df = dic[key]\n",
    "        train[key] = category_df[category_df['Year'] <= year]\n",
    "        test[key] = category_df[category_df['Year'] > year]\n",
    "    return train, test\n",
    "\n",
    "raw_train_data_dict, raw_test_data_dict = train_test_split(raw_dataset_dict, year=Year)"
   ]
  },
  {
   "cell_type": "code",
   "execution_count": 4,
   "metadata": {},
   "outputs": [],
   "source": [
    "def get_relevant_features(dic: dict, drop_columns: list) -> dict:\n",
    "    processed_dict = dic.copy()\n",
    "    for key in list(processed_dict.keys()):\n",
    "        processed_dict[key] = processed_dict[key].drop(columns=drop_columns)\n",
    "        processed_dict[key].dropna(inplace=True)\n",
    "    return processed_dict\n",
    "\n",
    "drop_columns = ['Category_id', 'Category', 'Year', 'Date', 'Price', 'Indent', 'Weight', 'Parent', 'Parent_ID']\n",
    "\n",
    "train_data_dict = get_relevant_features(raw_train_data_dict, drop_columns)\n",
    "\n",
    "test_data_dict = get_relevant_features(raw_test_data_dict, drop_columns)"
   ]
  },
  {
   "cell_type": "code",
   "execution_count": 5,
   "metadata": {},
   "outputs": [],
   "source": [
    "with open(train_dataset_dict_path, 'wb') as handle:\n",
    "    pickle.dump(train_data_dict, handle, protocol=pickle.HIGHEST_PROTOCOL)\n",
    "\n",
    "with open(test_dataset_dict_path, 'wb') as handle:\n",
    "    pickle.dump(test_data_dict, handle, protocol=pickle.HIGHEST_PROTOCOL)"
   ]
  },
  {
   "cell_type": "markdown",
   "metadata": {},
   "source": [
    "------------"
   ]
  },
  {
   "cell_type": "markdown",
   "metadata": {},
   "source": [
    "# Horizon Test Sets:"
   ]
  },
  {
   "cell_type": "code",
   "execution_count": 6,
   "metadata": {},
   "outputs": [],
   "source": [
    "def get_relevant_features_horizon(dic: dict, drop_columns: list) -> dict:\n",
    "    processed_dict = dic.copy()\n",
    "    for key in list(processed_dict.keys()):\n",
    "        processed_dict[key] = processed_dict[key].drop(columns=drop_columns)\n",
    "        #processed_dict[key].dropna(inplace=True)\n",
    "    return processed_dict\n",
    "\n",
    "drop_columns = ['Category_id', 'Category', 'Year', 'Date', 'Price', 'Indent', 'Weight', 'Parent', 'Parent_ID']"
   ]
  },
  {
   "cell_type": "code",
   "execution_count": 7,
   "metadata": {},
   "outputs": [
    {
     "name": "stdout",
     "output_type": "stream",
     "text": [
      "columns: Index(['Inflation t-12', 'Inflation t-11', 'Inflation t-10', 'Inflation t-9',\n",
      "       'Inflation t-8', 'Inflation t-7', 'Inflation t-6', 'Inflation t-5',\n",
      "       'Inflation t-4', 'Inflation t-3', 'Inflation t-2', 'Inflation t-1',\n",
      "       'Inflation t', 'Inflation t+1'],\n",
      "      dtype='object')\n",
      "shape: (29, 14)\n"
     ]
    }
   ],
   "source": [
    "with open(BaselinePath, 'rb') as f:\n",
    "    hor_1_dataset_dict = pickle.load(f)\n",
    "\n",
    "hor1_train_data_dict, hor1_test_data_dict = train_test_split(hor_1_dataset_dict, year=Year)\n",
    "hor1_test_data_dict = get_relevant_features_horizon(hor1_test_data_dict, drop_columns)\n",
    "\n",
    "print(f'columns: {hor1_test_data_dict[\"All-items\"].columns}')\n",
    "print(f'shape: {hor1_test_data_dict[\"All-items\"].shape}')\n"
   ]
  },
  {
   "cell_type": "code",
   "execution_count": 8,
   "metadata": {},
   "outputs": [
    {
     "name": "stdout",
     "output_type": "stream",
     "text": [
      "columns: Index(['Inflation t-12', 'Inflation t-11', 'Inflation t-10', 'Inflation t-9',\n",
      "       'Inflation t-8', 'Inflation t-7', 'Inflation t-6', 'Inflation t-5',\n",
      "       'Inflation t-4', 'Inflation t-3', 'Inflation t-2', 'Inflation t-1',\n",
      "       'Inflation t', 'Inflation t+1', 'Inflation t+2'],\n",
      "      dtype='object')\n",
      "shape: (29, 15)\n"
     ]
    }
   ],
   "source": [
    "with open('/Users/mvilenko/Library/CloudStorage/OneDrive-PayPal/CPI_HRNN - version 2.0/pickle files/bi_directional_norway_2_period_dataset_dict.pickle', 'rb') as f:\n",
    "    hor_2_dataset_dict = pickle.load(f)\n",
    "\n",
    "hor2_train_data_dict, hor2_test_data_dict = train_test_split(hor_2_dataset_dict, year=Year)\n",
    "hor2_test_data_dict = get_relevant_features_horizon(hor2_test_data_dict, drop_columns)\n",
    "\n",
    "print(f'columns: {hor2_test_data_dict[\"All-items\"].columns}')\n",
    "print(f'shape: {hor2_test_data_dict[\"All-items\"].shape}')\n"
   ]
  },
  {
   "cell_type": "code",
   "execution_count": 9,
   "metadata": {},
   "outputs": [
    {
     "name": "stdout",
     "output_type": "stream",
     "text": [
      "columns: Index(['Inflation t-12', 'Inflation t-11', 'Inflation t-10', 'Inflation t-9',\n",
      "       'Inflation t-8', 'Inflation t-7', 'Inflation t-6', 'Inflation t-5',\n",
      "       'Inflation t-4', 'Inflation t-3', 'Inflation t-2', 'Inflation t-1',\n",
      "       'Inflation t', 'Inflation t+1', 'Inflation t+2', 'Inflation t+3'],\n",
      "      dtype='object')\n",
      "shape: (29, 16)\n"
     ]
    }
   ],
   "source": [
    "with open('/Users/mvilenko/Library/CloudStorage/OneDrive-PayPal/CPI_HRNN - version 2.0/pickle files/bi_directional_norway_3_period_dataset_dict.pickle', 'rb') as f:\n",
    "    hor_3_dataset_dict = pickle.load(f)\n",
    "\n",
    "hor3_train_data_dict, hor3_test_data_dict = train_test_split(hor_3_dataset_dict, year=Year)\n",
    "hor3_test_data_dict = get_relevant_features_horizon(hor3_test_data_dict, drop_columns)\n",
    "\n",
    "print(f'columns: {hor3_test_data_dict[\"All-items\"].columns}')\n",
    "print(f'shape: {hor3_test_data_dict[\"All-items\"].shape}')\n"
   ]
  },
  {
   "cell_type": "code",
   "execution_count": 10,
   "metadata": {},
   "outputs": [
    {
     "name": "stdout",
     "output_type": "stream",
     "text": [
      "columns: Index(['Inflation t-12', 'Inflation t-11', 'Inflation t-10', 'Inflation t-9',\n",
      "       'Inflation t-8', 'Inflation t-7', 'Inflation t-6', 'Inflation t-5',\n",
      "       'Inflation t-4', 'Inflation t-3', 'Inflation t-2', 'Inflation t-1',\n",
      "       'Inflation t', 'Inflation t+1', 'Inflation t+2', 'Inflation t+3',\n",
      "       'Inflation t+4'],\n",
      "      dtype='object')\n",
      "shape: (29, 17)\n"
     ]
    }
   ],
   "source": [
    "with open('/Users/mvilenko/Library/CloudStorage/OneDrive-PayPal/CPI_HRNN - version 2.0/pickle files/bi_directional_norway_4_period_dataset_dict.pickle', 'rb') as f:\n",
    "    hor_4_dataset_dict = pickle.load(f)\n",
    "\n",
    "hor4_train_data_dict, hor4_test_data_dict = train_test_split(hor_4_dataset_dict, year=Year)\n",
    "hor4_test_data_dict = get_relevant_features_horizon(hor4_test_data_dict, drop_columns)\n",
    "\n",
    "\n",
    "print(f'columns: {hor4_test_data_dict[\"All-items\"].columns}')\n",
    "print(f'shape: {hor4_test_data_dict[\"All-items\"].shape}')\n"
   ]
  },
  {
   "cell_type": "code",
   "execution_count": 11,
   "metadata": {},
   "outputs": [
    {
     "name": "stdout",
     "output_type": "stream",
     "text": [
      "columns: Index(['Inflation t-12', 'Inflation t-11', 'Inflation t-10', 'Inflation t-9',\n",
      "       'Inflation t-8', 'Inflation t-7', 'Inflation t-6', 'Inflation t-5',\n",
      "       'Inflation t-4', 'Inflation t-3', 'Inflation t-2', 'Inflation t-1',\n",
      "       'Inflation t', 'Inflation t+1', 'Inflation t+2', 'Inflation t+3',\n",
      "       'Inflation t+4', 'Inflation t+5', 'Inflation t+6', 'Inflation t+7',\n",
      "       'Inflation t+8'],\n",
      "      dtype='object')\n",
      "shape: (29, 21)\n"
     ]
    }
   ],
   "source": [
    "with open('/Users/mvilenko/Library/CloudStorage/OneDrive-PayPal/CPI_HRNN - version 2.0/pickle files/bi_directional_norway_8_period_dataset_dict.pickle', 'rb') as f:\n",
    "    hor_8_dataset_dict = pickle.load(f)\n",
    "\n",
    "hor8_train_data_dict, hor8_test_data_dict = train_test_split(hor_8_dataset_dict, year=Year)\n",
    "hor8_test_data_dict = get_relevant_features_horizon(hor8_test_data_dict, drop_columns)\n",
    "\n",
    "\n",
    "print(f'columns: {hor8_test_data_dict[\"All-items\"].columns}')\n",
    "print(f'shape: {hor8_test_data_dict[\"All-items\"].shape}')\n"
   ]
  },
  {
   "cell_type": "code",
   "execution_count": 12,
   "metadata": {},
   "outputs": [],
   "source": [
    "with open('/Users/mvilenko/Library/CloudStorage/OneDrive-PayPal/CPI_HRNN - version 2.0/mayas_project/basic_model_norway/data/hor1_test_data_dict.pickle', 'wb') as handle:\n",
    "    pickle.dump(hor1_test_data_dict, handle, protocol=pickle.HIGHEST_PROTOCOL)\n",
    "\n",
    "with open('/Users/mvilenko/Library/CloudStorage/OneDrive-PayPal/CPI_HRNN - version 2.0/mayas_project/basic_model_norway/data/hor2_test_data_dict.pickle', 'wb') as handle:\n",
    "    pickle.dump(hor2_test_data_dict, handle, protocol=pickle.HIGHEST_PROTOCOL)\n",
    "\n",
    "with open('/Users/mvilenko/Library/CloudStorage/OneDrive-PayPal/CPI_HRNN - version 2.0/mayas_project/basic_model_norway/data/hor3_test_data_dict.pickle', 'wb') as handle:\n",
    "    pickle.dump(hor3_test_data_dict, handle, protocol=pickle.HIGHEST_PROTOCOL)\n",
    "\n",
    "with open('/Users/mvilenko/Library/CloudStorage/OneDrive-PayPal/CPI_HRNN - version 2.0/mayas_project/basic_model_norway/data/hor4_test_data_dict.pickle', 'wb') as handle:\n",
    "    pickle.dump(hor4_test_data_dict, handle, protocol=pickle.HIGHEST_PROTOCOL)\n",
    "\n",
    "with open('/Users/mvilenko/Library/CloudStorage/OneDrive-PayPal/CPI_HRNN - version 2.0/mayas_project/basic_model_norway/data/hor8_test_data_dict.pickle', 'wb') as handle:\n",
    "    pickle.dump(hor8_test_data_dict, handle, protocol=pickle.HIGHEST_PROTOCOL)"
   ]
  }
 ],
 "metadata": {
  "kernelspec": {
   "display_name": "Python 3.10.8 64-bit",
   "language": "python",
   "name": "python3"
  },
  "language_info": {
   "codemirror_mode": {
    "name": "ipython",
    "version": 3
   },
   "file_extension": ".py",
   "mimetype": "text/x-python",
   "name": "python",
   "nbconvert_exporter": "python",
   "pygments_lexer": "ipython3",
   "version": "3.9.13"
  },
  "orig_nbformat": 4,
  "vscode": {
   "interpreter": {
    "hash": "aee8b7b246df8f9039afb4144a1f6fd8d2ca17a180786b69acc140d282b71a49"
   }
  }
 },
 "nbformat": 4,
 "nbformat_minor": 2
}
