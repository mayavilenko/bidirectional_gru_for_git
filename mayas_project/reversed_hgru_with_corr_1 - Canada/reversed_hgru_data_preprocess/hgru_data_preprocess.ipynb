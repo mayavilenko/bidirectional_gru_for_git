{
 "cells": [
  {
   "attachments": {},
   "cell_type": "markdown",
   "metadata": {},
   "source": [
    "# Imports"
   ]
  },
  {
   "cell_type": "code",
   "execution_count": 1,
   "metadata": {},
   "outputs": [],
   "source": [
    "import pickle\n",
    "from preprocess_config import *"
   ]
  },
  {
   "cell_type": "code",
   "execution_count": 2,
   "metadata": {},
   "outputs": [
    {
     "data": {
      "text/plain": [
       "2020"
      ]
     },
     "execution_count": 2,
     "metadata": {},
     "output_type": "execute_result"
    }
   ],
   "source": [
    "Year"
   ]
  },
  {
   "attachments": {},
   "cell_type": "markdown",
   "metadata": {},
   "source": [
    "# Read + process Data"
   ]
  },
  {
   "cell_type": "code",
   "execution_count": 3,
   "metadata": {},
   "outputs": [],
   "source": [
    "with open(dataset_dict_path, 'rb') as f:\n",
    "    raw_dataset_dict = pickle.load(f)"
   ]
  },
  {
   "cell_type": "code",
   "execution_count": 4,
   "metadata": {},
   "outputs": [],
   "source": [
    "def train_test_split(dic: dict, year: int) -> dict:\n",
    "    train = {}\n",
    "    test = {}\n",
    "    for key in dic.keys():\n",
    "        category_df = dic[key]\n",
    "        train[key] = category_df[category_df['Year'] <= year]\n",
    "        test[key] = category_df[category_df['Year'] > year]\n",
    "    return train, test\n",
    "\n",
    "raw_train_data_dict, raw_test_data_dict = train_test_split(raw_dataset_dict, year=Year)"
   ]
  },
  {
   "cell_type": "code",
   "execution_count": 5,
   "metadata": {},
   "outputs": [],
   "source": [
    "def get_relevant_features(dic: dict, drop_columns: list) -> dict:\n",
    "    processed_dict = dic.copy()\n",
    "    for key in list(processed_dict.keys()):\n",
    "        processed_dict[key] = processed_dict[key].drop(columns=drop_columns)\n",
    "        processed_dict[key].dropna(inplace=True)\n",
    "    return processed_dict\n",
    "\n",
    "drop_columns = ['Category_id', 'Category', 'Year', 'Date', 'Price', 'Indent', 'Weight', 'Parent', 'Parent_ID']\n",
    "\n",
    "train_data_dict = get_relevant_features(raw_train_data_dict, drop_columns)\n",
    "\n",
    "test_data_dict = get_relevant_features(raw_test_data_dict, drop_columns)"
   ]
  },
  {
   "cell_type": "code",
   "execution_count": 6,
   "metadata": {},
   "outputs": [],
   "source": [
    "def get_coefficients(dic: dict) -> dict:\n",
    "    weight_dict = {}\n",
    "    for key in list(dic.keys()):\n",
    "        max_dt = dic[key].Date.max()\n",
    "        cat_weight = dic[key][dic[key]['Date']==max_dt].Weight.values[0]\n",
    "        weight_dict[key] = cat_weight\n",
    "    return weight_dict\n",
    "\n",
    "weight_dict = get_coefficients(raw_train_data_dict)"
   ]
  },
  {
   "cell_type": "code",
   "execution_count": 7,
   "metadata": {},
   "outputs": [],
   "source": [
    "def get_sons(dic: dict) -> dict:\n",
    "    for key in list(dic.keys()):\n",
    "        max_dt = dic[key].Date.max()\n",
    "        cat_weight = dic[key][dic[key]['Date']==max_dt].Weight.values[0]\n",
    "        weight_dict[key] = cat_weight\n",
    "    return weight_dict"
   ]
  },
  {
   "cell_type": "code",
   "execution_count": 8,
   "metadata": {},
   "outputs": [
    {
     "data": {
      "text/html": [
       "<div>\n",
       "<style scoped>\n",
       "    .dataframe tbody tr th:only-of-type {\n",
       "        vertical-align: middle;\n",
       "    }\n",
       "\n",
       "    .dataframe tbody tr th {\n",
       "        vertical-align: top;\n",
       "    }\n",
       "\n",
       "    .dataframe thead th {\n",
       "        text-align: right;\n",
       "    }\n",
       "</style>\n",
       "<table border=\"1\" class=\"dataframe\">\n",
       "  <thead>\n",
       "    <tr style=\"text-align: right;\">\n",
       "      <th></th>\n",
       "      <th>Inflation t-12</th>\n",
       "      <th>Inflation t-11</th>\n",
       "      <th>Inflation t-10</th>\n",
       "      <th>Inflation t-9</th>\n",
       "      <th>Inflation t-8</th>\n",
       "      <th>Inflation t-7</th>\n",
       "      <th>Inflation t-6</th>\n",
       "      <th>Inflation t-5</th>\n",
       "      <th>Inflation t-4</th>\n",
       "      <th>Inflation t-3</th>\n",
       "      <th>Inflation t-2</th>\n",
       "      <th>Inflation t-1</th>\n",
       "      <th>Inflation t</th>\n",
       "      <th>Inflation t+1</th>\n",
       "    </tr>\n",
       "  </thead>\n",
       "  <tbody>\n",
       "    <tr>\n",
       "      <th>13</th>\n",
       "      <td>0.809066</td>\n",
       "      <td>0.325468</td>\n",
       "      <td>-0.244200</td>\n",
       "      <td>0.000000</td>\n",
       "      <td>-0.243605</td>\n",
       "      <td>0.162338</td>\n",
       "      <td>0.000000</td>\n",
       "      <td>0.081268</td>\n",
       "      <td>0.000000</td>\n",
       "      <td>0.244200</td>\n",
       "      <td>-0.162866</td>\n",
       "      <td>0.162866</td>\n",
       "      <td>1.147554</td>\n",
       "      <td>0.562476</td>\n",
       "    </tr>\n",
       "    <tr>\n",
       "      <th>14</th>\n",
       "      <td>0.562476</td>\n",
       "      <td>0.809066</td>\n",
       "      <td>0.325468</td>\n",
       "      <td>-0.244200</td>\n",
       "      <td>0.000000</td>\n",
       "      <td>-0.243605</td>\n",
       "      <td>0.162338</td>\n",
       "      <td>0.000000</td>\n",
       "      <td>0.081268</td>\n",
       "      <td>0.000000</td>\n",
       "      <td>0.244200</td>\n",
       "      <td>-0.162866</td>\n",
       "      <td>0.162866</td>\n",
       "      <td>0.320000</td>\n",
       "    </tr>\n",
       "    <tr>\n",
       "      <th>15</th>\n",
       "      <td>0.320000</td>\n",
       "      <td>0.562476</td>\n",
       "      <td>0.809066</td>\n",
       "      <td>0.325468</td>\n",
       "      <td>-0.244200</td>\n",
       "      <td>0.000000</td>\n",
       "      <td>-0.243605</td>\n",
       "      <td>0.162338</td>\n",
       "      <td>0.000000</td>\n",
       "      <td>0.081268</td>\n",
       "      <td>0.000000</td>\n",
       "      <td>0.244200</td>\n",
       "      <td>-0.162866</td>\n",
       "      <td>0.478089</td>\n",
       "    </tr>\n",
       "    <tr>\n",
       "      <th>16</th>\n",
       "      <td>0.478089</td>\n",
       "      <td>0.320000</td>\n",
       "      <td>0.562476</td>\n",
       "      <td>0.809066</td>\n",
       "      <td>0.325468</td>\n",
       "      <td>-0.244200</td>\n",
       "      <td>0.000000</td>\n",
       "      <td>-0.243605</td>\n",
       "      <td>0.162338</td>\n",
       "      <td>0.000000</td>\n",
       "      <td>0.081268</td>\n",
       "      <td>0.000000</td>\n",
       "      <td>0.244200</td>\n",
       "      <td>0.079460</td>\n",
       "    </tr>\n",
       "    <tr>\n",
       "      <th>17</th>\n",
       "      <td>0.079460</td>\n",
       "      <td>0.478089</td>\n",
       "      <td>0.320000</td>\n",
       "      <td>0.562476</td>\n",
       "      <td>0.809066</td>\n",
       "      <td>0.325468</td>\n",
       "      <td>-0.244200</td>\n",
       "      <td>0.000000</td>\n",
       "      <td>-0.243605</td>\n",
       "      <td>0.162338</td>\n",
       "      <td>0.000000</td>\n",
       "      <td>0.081268</td>\n",
       "      <td>0.000000</td>\n",
       "      <td>-0.158983</td>\n",
       "    </tr>\n",
       "    <tr>\n",
       "      <th>...</th>\n",
       "      <td>...</td>\n",
       "      <td>...</td>\n",
       "      <td>...</td>\n",
       "      <td>...</td>\n",
       "      <td>...</td>\n",
       "      <td>...</td>\n",
       "      <td>...</td>\n",
       "      <td>...</td>\n",
       "      <td>...</td>\n",
       "      <td>...</td>\n",
       "      <td>...</td>\n",
       "      <td>...</td>\n",
       "      <td>...</td>\n",
       "      <td>...</td>\n",
       "    </tr>\n",
       "    <tr>\n",
       "      <th>91</th>\n",
       "      <td>-0.145879</td>\n",
       "      <td>0.000000</td>\n",
       "      <td>0.804981</td>\n",
       "      <td>0.294334</td>\n",
       "      <td>-0.661038</td>\n",
       "      <td>-0.583943</td>\n",
       "      <td>0.437637</td>\n",
       "      <td>0.292826</td>\n",
       "      <td>0.000000</td>\n",
       "      <td>-0.146520</td>\n",
       "      <td>0.293255</td>\n",
       "      <td>-0.439561</td>\n",
       "      <td>-0.146092</td>\n",
       "      <td>-0.073019</td>\n",
       "    </tr>\n",
       "    <tr>\n",
       "      <th>92</th>\n",
       "      <td>-0.073019</td>\n",
       "      <td>-0.145879</td>\n",
       "      <td>0.000000</td>\n",
       "      <td>0.804981</td>\n",
       "      <td>0.294334</td>\n",
       "      <td>-0.661038</td>\n",
       "      <td>-0.583943</td>\n",
       "      <td>0.437637</td>\n",
       "      <td>0.292826</td>\n",
       "      <td>0.000000</td>\n",
       "      <td>-0.146520</td>\n",
       "      <td>0.293255</td>\n",
       "      <td>-0.439561</td>\n",
       "      <td>0.437318</td>\n",
       "    </tr>\n",
       "    <tr>\n",
       "      <th>93</th>\n",
       "      <td>0.437318</td>\n",
       "      <td>-0.073019</td>\n",
       "      <td>-0.145879</td>\n",
       "      <td>0.000000</td>\n",
       "      <td>0.804981</td>\n",
       "      <td>0.294334</td>\n",
       "      <td>-0.661038</td>\n",
       "      <td>-0.583943</td>\n",
       "      <td>0.437637</td>\n",
       "      <td>0.292826</td>\n",
       "      <td>0.000000</td>\n",
       "      <td>-0.146520</td>\n",
       "      <td>0.293255</td>\n",
       "      <td>0.145349</td>\n",
       "    </tr>\n",
       "    <tr>\n",
       "      <th>94</th>\n",
       "      <td>0.145349</td>\n",
       "      <td>0.437318</td>\n",
       "      <td>-0.073019</td>\n",
       "      <td>-0.145879</td>\n",
       "      <td>0.000000</td>\n",
       "      <td>0.804981</td>\n",
       "      <td>0.294334</td>\n",
       "      <td>-0.661038</td>\n",
       "      <td>-0.583943</td>\n",
       "      <td>0.437637</td>\n",
       "      <td>0.292826</td>\n",
       "      <td>0.000000</td>\n",
       "      <td>-0.146520</td>\n",
       "      <td>-0.218103</td>\n",
       "    </tr>\n",
       "    <tr>\n",
       "      <th>95</th>\n",
       "      <td>-0.218103</td>\n",
       "      <td>0.145349</td>\n",
       "      <td>0.437318</td>\n",
       "      <td>-0.073019</td>\n",
       "      <td>-0.145879</td>\n",
       "      <td>0.000000</td>\n",
       "      <td>0.804981</td>\n",
       "      <td>0.294334</td>\n",
       "      <td>-0.661038</td>\n",
       "      <td>-0.583943</td>\n",
       "      <td>0.437637</td>\n",
       "      <td>0.292826</td>\n",
       "      <td>0.000000</td>\n",
       "      <td>0.580553</td>\n",
       "    </tr>\n",
       "  </tbody>\n",
       "</table>\n",
       "<p>83 rows × 14 columns</p>\n",
       "</div>"
      ],
      "text/plain": [
       "    Inflation t-12  Inflation t-11  Inflation t-10  Inflation t-9  \\\n",
       "13        0.809066        0.325468       -0.244200       0.000000   \n",
       "14        0.562476        0.809066        0.325468      -0.244200   \n",
       "15        0.320000        0.562476        0.809066       0.325468   \n",
       "16        0.478089        0.320000        0.562476       0.809066   \n",
       "17        0.079460        0.478089        0.320000       0.562476   \n",
       "..             ...             ...             ...            ...   \n",
       "91       -0.145879        0.000000        0.804981       0.294334   \n",
       "92       -0.073019       -0.145879        0.000000       0.804981   \n",
       "93        0.437318       -0.073019       -0.145879       0.000000   \n",
       "94        0.145349        0.437318       -0.073019      -0.145879   \n",
       "95       -0.218103        0.145349        0.437318      -0.073019   \n",
       "\n",
       "    Inflation t-8  Inflation t-7  Inflation t-6  Inflation t-5  Inflation t-4  \\\n",
       "13      -0.243605       0.162338       0.000000       0.081268       0.000000   \n",
       "14       0.000000      -0.243605       0.162338       0.000000       0.081268   \n",
       "15      -0.244200       0.000000      -0.243605       0.162338       0.000000   \n",
       "16       0.325468      -0.244200       0.000000      -0.243605       0.162338   \n",
       "17       0.809066       0.325468      -0.244200       0.000000      -0.243605   \n",
       "..            ...            ...            ...            ...            ...   \n",
       "91      -0.661038      -0.583943       0.437637       0.292826       0.000000   \n",
       "92       0.294334      -0.661038      -0.583943       0.437637       0.292826   \n",
       "93       0.804981       0.294334      -0.661038      -0.583943       0.437637   \n",
       "94       0.000000       0.804981       0.294334      -0.661038      -0.583943   \n",
       "95      -0.145879       0.000000       0.804981       0.294334      -0.661038   \n",
       "\n",
       "    Inflation t-3  Inflation t-2  Inflation t-1  Inflation t  Inflation t+1  \n",
       "13       0.244200      -0.162866       0.162866     1.147554       0.562476  \n",
       "14       0.000000       0.244200      -0.162866     0.162866       0.320000  \n",
       "15       0.081268       0.000000       0.244200    -0.162866       0.478089  \n",
       "16       0.000000       0.081268       0.000000     0.244200       0.079460  \n",
       "17       0.162338       0.000000       0.081268     0.000000      -0.158983  \n",
       "..            ...            ...            ...          ...            ...  \n",
       "91      -0.146520       0.293255      -0.439561    -0.146092      -0.073019  \n",
       "92       0.000000      -0.146520       0.293255    -0.439561       0.437318  \n",
       "93       0.292826       0.000000      -0.146520     0.293255       0.145349  \n",
       "94       0.437637       0.292826       0.000000    -0.146520      -0.218103  \n",
       "95      -0.583943       0.437637       0.292826     0.000000       0.580553  \n",
       "\n",
       "[83 rows x 14 columns]"
      ]
     },
     "execution_count": 8,
     "metadata": {},
     "output_type": "execute_result"
    }
   ],
   "source": [
    "train_data_dict['All-items']"
   ]
  },
  {
   "cell_type": "code",
   "execution_count": 9,
   "metadata": {},
   "outputs": [
    {
     "data": {
      "text/plain": [
       "293"
      ]
     },
     "execution_count": 9,
     "metadata": {},
     "output_type": "execute_result"
    }
   ],
   "source": [
    "len(train_data_dict.keys())"
   ]
  },
  {
   "cell_type": "code",
   "execution_count": 10,
   "metadata": {},
   "outputs": [],
   "source": [
    "with open(train_dataset_path, 'wb') as handle:\n",
    "    pickle.dump(train_data_dict, handle, protocol=pickle.HIGHEST_PROTOCOL)\n",
    "\n",
    "with open(test_dataset_path, 'wb') as handle:\n",
    "    pickle.dump(test_data_dict, handle, protocol=pickle.HIGHEST_PROTOCOL)\n",
    "\n",
    "with open(coefficient_path, 'wb') as handle:\n",
    "    pickle.dump(weight_dict, handle, protocol=pickle.HIGHEST_PROTOCOL)"
   ]
  },
  {
   "cell_type": "markdown",
   "metadata": {},
   "source": [
    "----------"
   ]
  },
  {
   "cell_type": "markdown",
   "metadata": {},
   "source": [
    "# Horizon Test Sets:"
   ]
  },
  {
   "cell_type": "code",
   "execution_count": 11,
   "metadata": {},
   "outputs": [],
   "source": [
    "def get_relevant_features_horizon(dic: dict, drop_columns: list) -> dict:\n",
    "    processed_dict = dic.copy()\n",
    "    for key in list(processed_dict.keys()):\n",
    "        processed_dict[key] = processed_dict[key].drop(columns=drop_columns)\n",
    "        #processed_dict[key].dropna(inplace=True)\n",
    "    return processed_dict\n",
    "\n",
    "drop_columns = ['Category_id', 'Category', 'Year', 'Date', 'Price', 'Indent', 'Weight', 'Parent', 'Parent_ID']"
   ]
  },
  {
   "cell_type": "code",
   "execution_count": 12,
   "metadata": {},
   "outputs": [
    {
     "name": "stdout",
     "output_type": "stream",
     "text": [
      "columns: Index(['Inflation t-12', 'Inflation t-11', 'Inflation t-10', 'Inflation t-9',\n",
      "       'Inflation t-8', 'Inflation t-7', 'Inflation t-6', 'Inflation t-5',\n",
      "       'Inflation t-4', 'Inflation t-3', 'Inflation t-2', 'Inflation t-1',\n",
      "       'Inflation t', 'Inflation t+1'],\n",
      "      dtype='object')\n",
      "shape: (26, 14)\n"
     ]
    }
   ],
   "source": [
    "with open(dataset_dict_path, 'rb') as f:\n",
    "    hor_1_dataset_dict = pickle.load(f)\n",
    "\n",
    "hor1_train_data_dict, hor1_test_data_dict = train_test_split(hor_1_dataset_dict, year=Year)\n",
    "hor1_test_data_dict = get_relevant_features_horizon(hor1_test_data_dict, drop_columns)\n",
    "\n",
    "print(f'columns: {hor1_test_data_dict[\"All-items\"].columns}')\n",
    "print(f'shape: {hor1_test_data_dict[\"All-items\"].shape}')\n"
   ]
  },
  {
   "cell_type": "code",
   "execution_count": 13,
   "metadata": {},
   "outputs": [
    {
     "name": "stdout",
     "output_type": "stream",
     "text": [
      "columns: Index(['Inflation t-12', 'Inflation t-11', 'Inflation t-10', 'Inflation t-9',\n",
      "       'Inflation t-8', 'Inflation t-7', 'Inflation t-6', 'Inflation t-5',\n",
      "       'Inflation t-4', 'Inflation t-3', 'Inflation t-2', 'Inflation t-1',\n",
      "       'Inflation t', 'Inflation t+1', 'Inflation t+2'],\n",
      "      dtype='object')\n",
      "shape: (26, 15)\n"
     ]
    }
   ],
   "source": [
    "with open('/Users/mvilenko/Library/CloudStorage/OneDrive-PayPal/CPI_HRNN - version 2.0/pickle files/bi_directional_canada_2_period_dataset_dict.pickle', 'rb') as f:\n",
    "    hor_2_dataset_dict = pickle.load(f)\n",
    "\n",
    "hor2_train_data_dict, hor2_test_data_dict = train_test_split(hor_2_dataset_dict, year=Year)\n",
    "hor2_test_data_dict = get_relevant_features_horizon(hor2_test_data_dict, drop_columns)\n",
    "\n",
    "print(f'columns: {hor2_test_data_dict[\"All-items\"].columns}')\n",
    "print(f'shape: {hor2_test_data_dict[\"All-items\"].shape}')\n"
   ]
  },
  {
   "cell_type": "code",
   "execution_count": 14,
   "metadata": {},
   "outputs": [
    {
     "data": {
      "text/plain": [
       "(26, 15)"
      ]
     },
     "execution_count": 14,
     "metadata": {},
     "output_type": "execute_result"
    }
   ],
   "source": [
    "hor2_test_data_dict['All-items'].shape"
   ]
  },
  {
   "cell_type": "code",
   "execution_count": 15,
   "metadata": {},
   "outputs": [
    {
     "name": "stdout",
     "output_type": "stream",
     "text": [
      "columns: Index(['Inflation t-12', 'Inflation t-11', 'Inflation t-10', 'Inflation t-9',\n",
      "       'Inflation t-8', 'Inflation t-7', 'Inflation t-6', 'Inflation t-5',\n",
      "       'Inflation t-4', 'Inflation t-3', 'Inflation t-2', 'Inflation t-1',\n",
      "       'Inflation t', 'Inflation t+1', 'Inflation t+2', 'Inflation t+3'],\n",
      "      dtype='object')\n",
      "shape: (26, 16)\n"
     ]
    }
   ],
   "source": [
    "with open('/Users/mvilenko/Library/CloudStorage/OneDrive-PayPal/CPI_HRNN - version 2.0/pickle files/bi_directional_canada_3_period_dataset_dict.pickle', 'rb') as f:\n",
    "    hor_3_dataset_dict = pickle.load(f)\n",
    "\n",
    "hor3_train_data_dict, hor3_test_data_dict = train_test_split(hor_3_dataset_dict, year=Year)\n",
    "hor3_test_data_dict = get_relevant_features_horizon(hor3_test_data_dict, drop_columns)\n",
    "\n",
    "print(f'columns: {hor3_test_data_dict[\"All-items\"].columns}')\n",
    "print(f'shape: {hor3_test_data_dict[\"All-items\"].shape}')\n"
   ]
  },
  {
   "cell_type": "code",
   "execution_count": 16,
   "metadata": {},
   "outputs": [
    {
     "name": "stdout",
     "output_type": "stream",
     "text": [
      "columns: Index(['Inflation t-12', 'Inflation t-11', 'Inflation t-10', 'Inflation t-9',\n",
      "       'Inflation t-8', 'Inflation t-7', 'Inflation t-6', 'Inflation t-5',\n",
      "       'Inflation t-4', 'Inflation t-3', 'Inflation t-2', 'Inflation t-1',\n",
      "       'Inflation t', 'Inflation t+1', 'Inflation t+2', 'Inflation t+3',\n",
      "       'Inflation t+4'],\n",
      "      dtype='object')\n",
      "shape: (26, 17)\n"
     ]
    }
   ],
   "source": [
    "with open('/Users/mvilenko/Library/CloudStorage/OneDrive-PayPal/CPI_HRNN - version 2.0/pickle files/bi_directional_canada_4_period_dataset_dict.pickle', 'rb') as f:\n",
    "    hor_4_dataset_dict = pickle.load(f)\n",
    "\n",
    "hor4_train_data_dict, hor4_test_data_dict = train_test_split(hor_4_dataset_dict, year=Year)\n",
    "hor4_test_data_dict = get_relevant_features_horizon(hor4_test_data_dict, drop_columns)\n",
    "\n",
    "\n",
    "print(f'columns: {hor4_test_data_dict[\"All-items\"].columns}')\n",
    "print(f'shape: {hor4_test_data_dict[\"All-items\"].shape}')\n"
   ]
  },
  {
   "cell_type": "code",
   "execution_count": 17,
   "metadata": {},
   "outputs": [
    {
     "name": "stdout",
     "output_type": "stream",
     "text": [
      "columns: Index(['Inflation t-12', 'Inflation t-11', 'Inflation t-10', 'Inflation t-9',\n",
      "       'Inflation t-8', 'Inflation t-7', 'Inflation t-6', 'Inflation t-5',\n",
      "       'Inflation t-4', 'Inflation t-3', 'Inflation t-2', 'Inflation t-1',\n",
      "       'Inflation t', 'Inflation t+1', 'Inflation t+2', 'Inflation t+3',\n",
      "       'Inflation t+4', 'Inflation t+5', 'Inflation t+6', 'Inflation t+7',\n",
      "       'Inflation t+8'],\n",
      "      dtype='object')\n",
      "shape: (26, 21)\n"
     ]
    }
   ],
   "source": [
    "with open('/Users/mvilenko/Library/CloudStorage/OneDrive-PayPal/CPI_HRNN - version 2.0/pickle files/bi_directional_canada_8_period_dataset_dict.pickle', 'rb') as f:\n",
    "    hor_8_dataset_dict = pickle.load(f)\n",
    "\n",
    "hor8_train_data_dict, hor8_test_data_dict = train_test_split(hor_8_dataset_dict, year=Year)\n",
    "hor8_test_data_dict = get_relevant_features_horizon(hor8_test_data_dict, drop_columns)\n",
    "\n",
    "\n",
    "print(f'columns: {hor8_test_data_dict[\"All-items\"].columns}')\n",
    "print(f'shape: {hor8_test_data_dict[\"All-items\"].shape}')\n"
   ]
  },
  {
   "cell_type": "code",
   "execution_count": 18,
   "metadata": {},
   "outputs": [],
   "source": [
    "with open(hor1_test_dataset_path, 'wb') as handle:\n",
    "    pickle.dump(hor1_test_data_dict, handle, protocol=pickle.HIGHEST_PROTOCOL)\n",
    "\n",
    "with open(hor2_test_dataset_path, 'wb') as handle:\n",
    "    pickle.dump(hor2_test_data_dict, handle, protocol=pickle.HIGHEST_PROTOCOL)\n",
    "\n",
    "with open(hor3_test_dataset_path, 'wb') as handle:\n",
    "    pickle.dump(hor3_test_data_dict, handle, protocol=pickle.HIGHEST_PROTOCOL)\n",
    "\n",
    "with open(hor4_test_dataset_path, 'wb') as handle:\n",
    "    pickle.dump(hor4_test_data_dict, handle, protocol=pickle.HIGHEST_PROTOCOL)\n",
    "\n",
    "with open(hor8_test_dataset_path, 'wb') as handle:\n",
    "    pickle.dump(hor8_test_data_dict, handle, protocol=pickle.HIGHEST_PROTOCOL)"
   ]
  },
  {
   "cell_type": "code",
   "execution_count": null,
   "metadata": {},
   "outputs": [],
   "source": []
  }
 ],
 "metadata": {
  "kernelspec": {
   "display_name": "Python 3.10.8 64-bit",
   "language": "python",
   "name": "python3"
  },
  "language_info": {
   "codemirror_mode": {
    "name": "ipython",
    "version": 3
   },
   "file_extension": ".py",
   "mimetype": "text/x-python",
   "name": "python",
   "nbconvert_exporter": "python",
   "pygments_lexer": "ipython3",
   "version": "3.9.0"
  },
  "orig_nbformat": 4,
  "vscode": {
   "interpreter": {
    "hash": "aee8b7b246df8f9039afb4144a1f6fd8d2ca17a180786b69acc140d282b71a49"
   }
  }
 },
 "nbformat": 4,
 "nbformat_minor": 2
}
